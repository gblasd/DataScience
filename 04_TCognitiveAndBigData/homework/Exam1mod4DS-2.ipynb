version https://git-lfs.github.com/spec/v1
oid sha256:3525d0b33ef04b7b17cc5dfaf03cfc66e5397583aa067d839d81e0f982d772ad
size 11550504
