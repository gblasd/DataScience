{
  "cells": [
    {
      "cell_type": "markdown",
      "id": "5ee58f78",
      "metadata": {
        "id": "5ee58f78"
      },
      "source": [
        "# Convolutional Neural Networks"
      ]
    },
    {
      "cell_type": "markdown",
      "id": "fd1dd372",
      "metadata": {
        "id": "fd1dd372",
        "tags": []
      },
      "source": [
        "## Preparación de ambiente"
      ]
    },
    {
      "cell_type": "markdown",
      "id": "c78a984d",
      "metadata": {
        "id": "c78a984d",
        "tags": []
      },
      "source": [
        "### Carga de módulos"
      ]
    },
    {
      "cell_type": "code",
      "execution_count": null,
      "id": "8ef30bc5",
      "metadata": {
        "ExecuteTime": {
          "end_time": "2021-08-06T01:26:24.014632Z",
          "start_time": "2021-08-06T01:26:20.734649Z"
        },
        "execution": {
          "iopub.execute_input": "2023-06-16T01:41:41.607345Z",
          "iopub.status.busy": "2023-06-16T01:41:41.607034Z",
          "iopub.status.idle": "2023-06-16T01:41:52.271870Z",
          "shell.execute_reply": "2023-06-16T01:41:52.269224Z",
          "shell.execute_reply.started": "2023-06-16T01:41:41.607314Z"
        },
        "id": "8ef30bc5",
        "tags": []
      },
      "outputs": [],
      "source": [
        "# Misc\n",
        "from warnings import filterwarnings\n",
        "\n",
        "# Data wrangling\n",
        "import numpy as np\n",
        "import pandas as pd\n",
        "from keras.datasets import mnist\n",
        "\n",
        "# Data Visualization\n",
        "from PIL import Image # pip install Pillow\n",
        "import cufflinks as cf\n",
        "\n",
        "# Preprocessing\n",
        "from sklearn.preprocessing import MinMaxScaler\n",
        "from tensorflow.keras.utils import to_categorical\n",
        "\n",
        "# Modeling\n",
        "from keras.models import load_model\n",
        "from keras.models import Sequential\n",
        "from tensorflow.keras.optimizers import SGD\n",
        "from sklearn.model_selection import train_test_split\n",
        "from keras.layers import Conv2D, MaxPooling2D, Dense, Flatten, BatchNormalization\n",
        "\n",
        "# Model performance\n",
        "from sklearn.metrics import confusion_matrix, classification_report\n",
        "\n",
        "# Environment setup\n",
        "cf.go_offline()\n",
        "filterwarnings(\"ignore\")"
      ]
    },
    {
      "cell_type": "markdown",
      "id": "0e46b3f0",
      "metadata": {
        "id": "0e46b3f0"
      },
      "source": [
        "### Funciones auxiliares"
      ]
    },
    {
      "cell_type": "code",
      "execution_count": null,
      "id": "5b59fdff",
      "metadata": {
        "ExecuteTime": {
          "end_time": "2021-08-06T01:26:24.021720Z",
          "start_time": "2021-08-06T01:26:24.017364Z"
        },
        "execution": {
          "iopub.execute_input": "2023-06-16T01:45:02.504920Z",
          "iopub.status.busy": "2023-06-16T01:45:02.501941Z",
          "iopub.status.idle": "2023-06-16T01:45:02.517463Z",
          "shell.execute_reply": "2023-06-16T01:45:02.513623Z",
          "shell.execute_reply.started": "2023-06-16T01:45:02.504828Z"
        },
        "id": "5b59fdff",
        "tags": []
      },
      "outputs": [],
      "source": [
        "def print_data(data):\n",
        "    for row in data:\n",
        "        print(''.join('{:3}'.format(value) for value in row))"
      ]
    },
    {
      "cell_type": "markdown",
      "id": "cf82dec9",
      "metadata": {
        "id": "cf82dec9",
        "tags": []
      },
      "source": [
        "## Data Wrangling"
      ]
    },
    {
      "cell_type": "markdown",
      "id": "d7423231",
      "metadata": {
        "id": "d7423231"
      },
      "source": [
        "### Carga de datos"
      ]
    },
    {
      "cell_type": "code",
      "execution_count": null,
      "id": "af2337f2",
      "metadata": {
        "ExecuteTime": {
          "end_time": "2021-08-06T01:26:25.083529Z",
          "start_time": "2021-08-06T01:26:24.024430Z"
        },
        "execution": {
          "iopub.execute_input": "2023-06-16T01:45:18.405212Z",
          "iopub.status.busy": "2023-06-16T01:45:18.404797Z",
          "iopub.status.idle": "2023-06-16T01:45:23.828947Z",
          "shell.execute_reply": "2023-06-16T01:45:23.828450Z",
          "shell.execute_reply.started": "2023-06-16T01:45:18.405185Z"
        },
        "id": "af2337f2",
        "tags": []
      },
      "outputs": [],
      "source": [
        "(X_train, y_train), (X_val, y_val) = mnist.load_data()"
      ]
    },
    {
      "cell_type": "code",
      "execution_count": null,
      "id": "1dad58af",
      "metadata": {
        "ExecuteTime": {
          "end_time": "2021-08-06T01:26:26.097833Z",
          "start_time": "2021-08-06T01:26:25.085608Z"
        },
        "execution": {
          "iopub.execute_input": "2023-06-16T01:45:28.624319Z",
          "iopub.status.busy": "2023-06-16T01:45:28.623887Z",
          "iopub.status.idle": "2023-06-16T01:45:28.630351Z",
          "shell.execute_reply": "2023-06-16T01:45:28.629810Z",
          "shell.execute_reply.started": "2023-06-16T01:45:28.624298Z"
        },
        "id": "1dad58af",
        "tags": []
      },
      "outputs": [],
      "source": [
        "X_train.shape, y_train.shape, X_val.shape, y_val.shape"
      ]
    },
    {
      "cell_type": "code",
      "execution_count": null,
      "id": "209e71b7",
      "metadata": {
        "ExecuteTime": {
          "end_time": "2021-08-06T01:26:26.228514Z",
          "start_time": "2021-08-06T01:26:26.101412Z"
        },
        "execution": {
          "iopub.execute_input": "2023-06-16T01:46:33.432588Z",
          "iopub.status.busy": "2023-06-16T01:46:33.432171Z",
          "iopub.status.idle": "2023-06-16T01:46:33.474316Z",
          "shell.execute_reply": "2023-06-16T01:46:33.473751Z",
          "shell.execute_reply.started": "2023-06-16T01:46:33.432569Z"
        },
        "id": "209e71b7",
        "tags": []
      },
      "outputs": [],
      "source": [
        "df = pd.DataFrame(X_train.reshape((X_train.shape[0], 28*28)))"
      ]
    },
    {
      "cell_type": "code",
      "execution_count": null,
      "id": "1db347f8",
      "metadata": {
        "ExecuteTime": {
          "end_time": "2021-08-06T01:26:26.851473Z",
          "start_time": "2021-08-06T01:26:26.231285Z"
        },
        "execution": {
          "iopub.execute_input": "2023-06-16T01:46:38.213913Z",
          "iopub.status.busy": "2023-06-16T01:46:38.213594Z",
          "iopub.status.idle": "2023-06-16T01:46:38.252335Z",
          "shell.execute_reply": "2023-06-16T01:46:38.251711Z",
          "shell.execute_reply.started": "2023-06-16T01:46:38.213893Z"
        },
        "id": "1db347f8",
        "tags": []
      },
      "outputs": [],
      "source": [
        "df[\"digit\"] = y_train"
      ]
    },
    {
      "cell_type": "code",
      "execution_count": null,
      "id": "5f2f4b1b",
      "metadata": {
        "ExecuteTime": {
          "end_time": "2021-08-06T01:26:27.040555Z",
          "start_time": "2021-08-06T01:26:26.857843Z"
        },
        "execution": {
          "iopub.execute_input": "2023-06-16T01:46:38.421119Z",
          "iopub.status.busy": "2023-06-16T01:46:38.419810Z",
          "iopub.status.idle": "2023-06-16T01:46:40.230854Z",
          "shell.execute_reply": "2023-06-16T01:46:40.230325Z",
          "shell.execute_reply.started": "2023-06-16T01:46:38.420990Z"
        },
        "id": "5f2f4b1b",
        "tags": []
      },
      "outputs": [],
      "source": [
        "df"
      ]
    },
    {
      "cell_type": "markdown",
      "id": "10c20def",
      "metadata": {
        "id": "10c20def"
      },
      "source": [
        "### EDA"
      ]
    },
    {
      "cell_type": "code",
      "execution_count": null,
      "id": "19f9e1f4",
      "metadata": {
        "ExecuteTime": {
          "end_time": "2021-08-06T01:26:27.406861Z",
          "start_time": "2021-08-06T01:26:27.044033Z"
        },
        "execution": {
          "iopub.execute_input": "2023-06-16T01:47:21.725182Z",
          "iopub.status.busy": "2023-06-16T01:47:21.724948Z",
          "iopub.status.idle": "2023-06-16T01:47:23.104028Z",
          "shell.execute_reply": "2023-06-16T01:47:23.103146Z",
          "shell.execute_reply.started": "2023-06-16T01:47:21.725167Z"
        },
        "id": "19f9e1f4",
        "scrolled": true,
        "tags": []
      },
      "outputs": [],
      "source": [
        "for _ in range(10):\n",
        "    sam = df.sample()\n",
        "    print(sam[\"digit\"].values)\n",
        "    x = sam.drop(columns=[\"digit\"]).to_numpy()\n",
        "    print_data(x.reshape(28, 28))"
      ]
    },
    {
      "cell_type": "code",
      "execution_count": null,
      "id": "e8a44a06",
      "metadata": {
        "ExecuteTime": {
          "end_time": "2021-08-06T01:26:27.411966Z",
          "start_time": "2021-08-06T01:26:27.408880Z"
        },
        "execution": {
          "iopub.execute_input": "2023-06-16T01:48:10.908973Z",
          "iopub.status.busy": "2023-06-16T01:48:10.908242Z",
          "iopub.status.idle": "2023-06-16T01:48:10.912017Z",
          "shell.execute_reply": "2023-06-16T01:48:10.911326Z",
          "shell.execute_reply.started": "2023-06-16T01:48:10.908945Z"
        },
        "id": "e8a44a06",
        "tags": []
      },
      "outputs": [],
      "source": [
        "del df, sam, x"
      ]
    },
    {
      "cell_type": "code",
      "execution_count": null,
      "id": "0d80fdb8",
      "metadata": {
        "ExecuteTime": {
          "end_time": "2021-08-06T01:26:27.521632Z",
          "start_time": "2021-08-06T01:26:27.414034Z"
        },
        "cell_style": "center",
        "execution": {
          "iopub.execute_input": "2023-06-16T01:48:32.204487Z",
          "iopub.status.busy": "2023-06-16T01:48:32.204001Z",
          "iopub.status.idle": "2023-06-16T01:48:32.214822Z",
          "shell.execute_reply": "2023-06-16T01:48:32.214209Z",
          "shell.execute_reply.started": "2023-06-16T01:48:32.204468Z"
        },
        "id": "0d80fdb8",
        "scrolled": true,
        "tags": []
      },
      "outputs": [],
      "source": [
        "for img, number in zip(X_train[:10], y_train[:10]):\n",
        "    print(number)\n",
        "    print_data(img)"
      ]
    },
    {
      "cell_type": "code",
      "execution_count": null,
      "id": "d118de21",
      "metadata": {
        "ExecuteTime": {
          "end_time": "2021-08-06T01:26:29.855595Z",
          "start_time": "2021-08-06T01:26:27.523700Z"
        },
        "cell_style": "center",
        "execution": {
          "iopub.execute_input": "2023-06-16T01:49:59.281946Z",
          "iopub.status.busy": "2023-06-16T01:49:59.281340Z",
          "iopub.status.idle": "2023-06-16T01:49:59.304397Z",
          "shell.execute_reply": "2023-06-16T01:49:59.303802Z",
          "shell.execute_reply.started": "2023-06-16T01:49:59.281915Z"
        },
        "id": "d118de21",
        "scrolled": true,
        "tags": []
      },
      "outputs": [],
      "source": [
        "for img in X_train[:10]:\n",
        "    display(Image.fromarray(img).resize((150, 150)))"
      ]
    },
    {
      "cell_type": "markdown",
      "id": "f1bf1ac2",
      "metadata": {
        "id": "f1bf1ac2"
      },
      "source": [
        "### Preprocesamiento"
      ]
    },
    {
      "cell_type": "markdown",
      "id": "d0b422df",
      "metadata": {
        "id": "d0b422df"
      },
      "source": [
        "#### Escalado"
      ]
    },
    {
      "cell_type": "code",
      "execution_count": null,
      "id": "f82b97b5",
      "metadata": {
        "ExecuteTime": {
          "end_time": "2021-08-06T01:26:29.862143Z",
          "start_time": "2021-08-06T01:26:29.858213Z"
        },
        "execution": {
          "iopub.execute_input": "2023-06-16T01:50:29.852319Z",
          "iopub.status.busy": "2023-06-16T01:50:29.851607Z",
          "iopub.status.idle": "2023-06-16T01:50:29.861840Z",
          "shell.execute_reply": "2023-06-16T01:50:29.859671Z",
          "shell.execute_reply.started": "2023-06-16T01:50:29.852254Z"
        },
        "id": "f82b97b5",
        "tags": []
      },
      "outputs": [],
      "source": [
        "sc = MinMaxScaler()"
      ]
    },
    {
      "cell_type": "code",
      "execution_count": null,
      "id": "140fde57",
      "metadata": {
        "ExecuteTime": {
          "end_time": "2021-08-06T01:26:32.857326Z",
          "start_time": "2021-08-06T01:26:32.817414Z"
        },
        "execution": {
          "iopub.execute_input": "2023-06-16T01:50:30.868725Z",
          "iopub.status.busy": "2023-06-16T01:50:30.866742Z",
          "iopub.status.idle": "2023-06-16T01:50:31.210290Z",
          "shell.execute_reply": "2023-06-16T01:50:31.207319Z",
          "shell.execute_reply.started": "2023-06-16T01:50:30.868611Z"
        },
        "id": "140fde57",
        "tags": []
      },
      "outputs": [],
      "source": [
        "X_train.dtype"
      ]
    },
    {
      "cell_type": "code",
      "execution_count": null,
      "id": "7de01692",
      "metadata": {
        "ExecuteTime": {
          "end_time": "2021-08-06T01:27:44.698789Z",
          "start_time": "2021-08-06T01:27:44.597942Z"
        },
        "execution": {
          "iopub.execute_input": "2023-06-16T01:51:44.910176Z",
          "iopub.status.busy": "2023-06-16T01:51:44.909860Z",
          "iopub.status.idle": "2023-06-16T01:51:44.918693Z",
          "shell.execute_reply": "2023-06-16T01:51:44.917852Z",
          "shell.execute_reply.started": "2023-06-16T01:51:44.910149Z"
        },
        "id": "7de01692",
        "tags": []
      },
      "outputs": [],
      "source": [
        "X_train.max()"
      ]
    },
    {
      "cell_type": "code",
      "execution_count": null,
      "id": "2116330b-d575-4d0c-82a4-13d4cfb3fe6a",
      "metadata": {
        "execution": {
          "iopub.execute_input": "2023-06-16T01:51:55.152343Z",
          "iopub.status.busy": "2023-06-16T01:51:55.151784Z",
          "iopub.status.idle": "2023-06-16T01:51:55.156773Z",
          "shell.execute_reply": "2023-06-16T01:51:55.156209Z",
          "shell.execute_reply.started": "2023-06-16T01:51:55.152307Z"
        },
        "id": "2116330b-d575-4d0c-82a4-13d4cfb3fe6a",
        "tags": []
      },
      "outputs": [],
      "source": [
        "X_train.shape"
      ]
    },
    {
      "cell_type": "code",
      "execution_count": null,
      "id": "38d77964-3127-4f90-b438-36a5e2bf5a2a",
      "metadata": {
        "execution": {
          "iopub.execute_input": "2023-06-16T01:52:00.799417Z",
          "iopub.status.busy": "2023-06-16T01:52:00.799155Z",
          "iopub.status.idle": "2023-06-16T01:52:00.804782Z",
          "shell.execute_reply": "2023-06-16T01:52:00.804101Z",
          "shell.execute_reply.started": "2023-06-16T01:52:00.799399Z"
        },
        "id": "38d77964-3127-4f90-b438-36a5e2bf5a2a",
        "tags": []
      },
      "outputs": [],
      "source": [
        "y_train.shape"
      ]
    },
    {
      "cell_type": "code",
      "execution_count": null,
      "id": "e9f9f5db-ca7d-4131-81c6-dc77d174b13b",
      "metadata": {
        "execution": {
          "iopub.execute_input": "2023-06-16T01:53:09.289739Z",
          "iopub.status.busy": "2023-06-16T01:53:09.289489Z",
          "iopub.status.idle": "2023-06-16T01:53:09.293489Z",
          "shell.execute_reply": "2023-06-16T01:53:09.292987Z",
          "shell.execute_reply.started": "2023-06-16T01:53:09.289716Z"
        },
        "tags": [],
        "id": "e9f9f5db-ca7d-4131-81c6-dc77d174b13b"
      },
      "outputs": [],
      "source": [
        "X_train.reshape((X_train.shape[0], X_train.shape[1]*X_train.shape[2])).shape"
      ]
    },
    {
      "cell_type": "code",
      "execution_count": null,
      "id": "1173f53c",
      "metadata": {
        "ExecuteTime": {
          "end_time": "2021-08-06T01:27:45.650061Z",
          "start_time": "2021-08-06T01:27:45.144849Z"
        },
        "execution": {
          "iopub.execute_input": "2023-06-16T01:53:59.686883Z",
          "iopub.status.busy": "2023-06-16T01:53:59.686585Z",
          "iopub.status.idle": "2023-06-16T01:54:01.541911Z",
          "shell.execute_reply": "2023-06-16T01:54:01.541397Z",
          "shell.execute_reply.started": "2023-06-16T01:53:59.686859Z"
        },
        "id": "1173f53c",
        "tags": []
      },
      "outputs": [],
      "source": [
        "X_train = sc.fit_transform(X_train.reshape((X_train.shape[0], X_train.shape[1]*X_train.shape[2])))\n",
        "X_val = sc.transform(X_val.reshape((X_val.shape[0], X_val.shape[1]*X_val.shape[2])))"
      ]
    },
    {
      "cell_type": "code",
      "execution_count": null,
      "id": "cd5289ae",
      "metadata": {
        "ExecuteTime": {
          "end_time": "2021-08-06T01:27:45.691590Z",
          "start_time": "2021-08-06T01:27:45.686818Z"
        },
        "execution": {
          "iopub.execute_input": "2023-06-16T01:54:04.667289Z",
          "iopub.status.busy": "2023-06-16T01:54:04.666882Z",
          "iopub.status.idle": "2023-06-16T01:54:04.676797Z",
          "shell.execute_reply": "2023-06-16T01:54:04.675737Z",
          "shell.execute_reply.started": "2023-06-16T01:54:04.667253Z"
        },
        "id": "cd5289ae",
        "tags": []
      },
      "outputs": [],
      "source": [
        "X_train.shape"
      ]
    },
    {
      "cell_type": "code",
      "execution_count": null,
      "id": "38bca0a2",
      "metadata": {
        "ExecuteTime": {
          "end_time": "2021-08-06T01:27:46.054504Z",
          "start_time": "2021-08-06T01:27:46.048725Z"
        },
        "execution": {
          "iopub.execute_input": "2023-06-16T01:54:37.249615Z",
          "iopub.status.busy": "2023-06-16T01:54:37.249302Z",
          "iopub.status.idle": "2023-06-16T01:54:37.255797Z",
          "shell.execute_reply": "2023-06-16T01:54:37.254425Z",
          "shell.execute_reply.started": "2023-06-16T01:54:37.249590Z"
        },
        "id": "38bca0a2",
        "tags": []
      },
      "outputs": [],
      "source": [
        "X_train = X_train.reshape((X_train.shape[0], 28, 28, 1))\n",
        "X_val = X_val.reshape((X_val.shape[0], 28, 28, 1))"
      ]
    },
    {
      "cell_type": "code",
      "execution_count": null,
      "id": "8df51f79",
      "metadata": {
        "ExecuteTime": {
          "end_time": "2021-08-06T01:27:46.349297Z",
          "start_time": "2021-08-06T01:27:46.336310Z"
        },
        "execution": {
          "iopub.execute_input": "2023-06-16T01:54:43.658609Z",
          "iopub.status.busy": "2023-06-16T01:54:43.658295Z",
          "iopub.status.idle": "2023-06-16T01:54:43.662893Z",
          "shell.execute_reply": "2023-06-16T01:54:43.662256Z",
          "shell.execute_reply.started": "2023-06-16T01:54:43.658588Z"
        },
        "id": "8df51f79",
        "tags": []
      },
      "outputs": [],
      "source": [
        "X_train.shape"
      ]
    },
    {
      "cell_type": "markdown",
      "id": "27f8822e",
      "metadata": {
        "id": "27f8822e"
      },
      "source": [
        "#### Preparación de la target"
      ]
    },
    {
      "cell_type": "code",
      "execution_count": null,
      "id": "46b40ba9-895c-4a9c-964a-e6c909e40a4c",
      "metadata": {
        "execution": {
          "iopub.execute_input": "2023-06-16T01:56:39.156333Z",
          "iopub.status.busy": "2023-06-16T01:56:39.155946Z",
          "iopub.status.idle": "2023-06-16T01:56:39.160713Z",
          "shell.execute_reply": "2023-06-16T01:56:39.159888Z",
          "shell.execute_reply.started": "2023-06-16T01:56:39.156308Z"
        },
        "tags": [],
        "id": "46b40ba9-895c-4a9c-964a-e6c909e40a4c"
      },
      "outputs": [],
      "source": [
        "y_train.shape"
      ]
    },
    {
      "cell_type": "code",
      "execution_count": null,
      "id": "74441e74",
      "metadata": {
        "ExecuteTime": {
          "end_time": "2021-08-06T01:27:46.811073Z",
          "start_time": "2021-08-06T01:27:46.796090Z"
        },
        "execution": {
          "iopub.execute_input": "2023-06-16T01:56:42.344458Z",
          "iopub.status.busy": "2023-06-16T01:56:42.344200Z",
          "iopub.status.idle": "2023-06-16T01:56:42.348065Z",
          "shell.execute_reply": "2023-06-16T01:56:42.347574Z",
          "shell.execute_reply.started": "2023-06-16T01:56:42.344441Z"
        },
        "id": "74441e74",
        "tags": []
      },
      "outputs": [],
      "source": [
        "y_train = to_categorical(y_train)\n",
        "y_val = to_categorical(y_val)"
      ]
    },
    {
      "cell_type": "code",
      "execution_count": null,
      "id": "839ac339",
      "metadata": {
        "ExecuteTime": {
          "end_time": "2021-08-06T01:27:46.944752Z",
          "start_time": "2021-08-06T01:27:46.939730Z"
        },
        "execution": {
          "iopub.execute_input": "2023-06-16T01:56:45.602409Z",
          "iopub.status.busy": "2023-06-16T01:56:45.601936Z",
          "iopub.status.idle": "2023-06-16T01:56:45.605970Z",
          "shell.execute_reply": "2023-06-16T01:56:45.605539Z",
          "shell.execute_reply.started": "2023-06-16T01:56:45.602386Z"
        },
        "id": "839ac339",
        "tags": []
      },
      "outputs": [],
      "source": [
        "X_train.dtype"
      ]
    },
    {
      "cell_type": "code",
      "execution_count": null,
      "id": "0f69cdc2-3059-4b06-a0e4-a146e12d7048",
      "metadata": {
        "execution": {
          "iopub.execute_input": "2023-06-16T01:56:50.570615Z",
          "iopub.status.busy": "2023-06-16T01:56:50.569948Z",
          "iopub.status.idle": "2023-06-16T01:56:50.574825Z",
          "shell.execute_reply": "2023-06-16T01:56:50.574254Z",
          "shell.execute_reply.started": "2023-06-16T01:56:50.570578Z"
        },
        "id": "0f69cdc2-3059-4b06-a0e4-a146e12d7048",
        "tags": []
      },
      "outputs": [],
      "source": [
        "y_train.shape"
      ]
    },
    {
      "cell_type": "code",
      "execution_count": null,
      "id": "ea422064",
      "metadata": {
        "ExecuteTime": {
          "end_time": "2021-08-06T01:27:57.002376Z",
          "start_time": "2021-08-06T01:27:56.823845Z"
        },
        "execution": {
          "iopub.execute_input": "2023-06-16T01:57:34.677027Z",
          "iopub.status.busy": "2023-06-16T01:57:34.676719Z",
          "iopub.status.idle": "2023-06-16T01:57:34.877287Z",
          "shell.execute_reply": "2023-06-16T01:57:34.876845Z",
          "shell.execute_reply.started": "2023-06-16T01:57:34.677002Z"
        },
        "id": "ea422064",
        "tags": []
      },
      "outputs": [],
      "source": [
        "X_train = X_train.astype('float32')\n",
        "X_val = X_val.astype('float32')"
      ]
    },
    {
      "cell_type": "markdown",
      "id": "02ee935b",
      "metadata": {
        "id": "02ee935b"
      },
      "source": [
        "#### Train-test split"
      ]
    },
    {
      "cell_type": "code",
      "execution_count": null,
      "id": "8d30a99b",
      "metadata": {
        "ExecuteTime": {
          "end_time": "2021-08-06T01:28:09.797975Z",
          "start_time": "2021-08-06T01:28:09.672155Z"
        },
        "execution": {
          "iopub.execute_input": "2023-06-16T01:58:14.428077Z",
          "iopub.status.busy": "2023-06-16T01:58:14.427825Z",
          "iopub.status.idle": "2023-06-16T01:58:14.485332Z",
          "shell.execute_reply": "2023-06-16T01:58:14.484535Z",
          "shell.execute_reply.started": "2023-06-16T01:58:14.428059Z"
        },
        "id": "8d30a99b",
        "tags": []
      },
      "outputs": [],
      "source": [
        "X_train, X_test, y_train, y_test = train_test_split(X_train, y_train)"
      ]
    },
    {
      "cell_type": "code",
      "execution_count": null,
      "id": "a2e49503-c8c2-4f27-9710-463b96e79ac9",
      "metadata": {
        "execution": {
          "iopub.execute_input": "2023-06-16T01:58:27.948778Z",
          "iopub.status.busy": "2023-06-16T01:58:27.948344Z",
          "iopub.status.idle": "2023-06-16T01:58:27.954317Z",
          "shell.execute_reply": "2023-06-16T01:58:27.953356Z",
          "shell.execute_reply.started": "2023-06-16T01:58:27.948746Z"
        },
        "tags": [],
        "id": "a2e49503-c8c2-4f27-9710-463b96e79ac9"
      },
      "outputs": [],
      "source": [
        "X_train.shape, X_test.shape, X_val.shape"
      ]
    },
    {
      "cell_type": "code",
      "execution_count": null,
      "id": "ff81c923-22cf-42a0-8584-fb91d5ff0075",
      "metadata": {
        "execution": {
          "iopub.execute_input": "2023-06-16T01:58:52.726075Z",
          "iopub.status.busy": "2023-06-16T01:58:52.723259Z",
          "iopub.status.idle": "2023-06-16T01:58:52.746085Z",
          "shell.execute_reply": "2023-06-16T01:58:52.743004Z",
          "shell.execute_reply.started": "2023-06-16T01:58:52.725952Z"
        },
        "tags": [],
        "id": "ff81c923-22cf-42a0-8584-fb91d5ff0075"
      },
      "outputs": [],
      "source": [
        "y_train.shape, y_test.shape, y_val.shape"
      ]
    },
    {
      "cell_type": "markdown",
      "id": "bcc9520d",
      "metadata": {
        "id": "bcc9520d",
        "tags": []
      },
      "source": [
        "## Modelado"
      ]
    },
    {
      "cell_type": "markdown",
      "id": "8bd19beb",
      "metadata": {
        "id": "8bd19beb"
      },
      "source": [
        "### Arquitectura base"
      ]
    },
    {
      "cell_type": "code",
      "execution_count": null,
      "id": "10ce0724",
      "metadata": {
        "ExecuteTime": {
          "end_time": "2021-08-06T01:28:24.869275Z",
          "start_time": "2021-08-06T01:28:24.860654Z"
        },
        "execution": {
          "iopub.execute_input": "2023-06-16T02:10:47.880082Z",
          "iopub.status.busy": "2023-06-16T02:10:47.879806Z",
          "iopub.status.idle": "2023-06-16T02:10:48.667605Z",
          "shell.execute_reply": "2023-06-16T02:10:48.666956Z",
          "shell.execute_reply.started": "2023-06-16T02:10:47.880063Z"
        },
        "id": "10ce0724",
        "tags": []
      },
      "outputs": [],
      "source": [
        "model = Sequential()"
      ]
    },
    {
      "cell_type": "markdown",
      "id": "a6f0eb8b",
      "metadata": {
        "id": "a6f0eb8b"
      },
      "source": [
        "### Capa convolucional"
      ]
    },
    {
      "cell_type": "code",
      "execution_count": null,
      "id": "38914350",
      "metadata": {
        "ExecuteTime": {
          "end_time": "2021-08-06T01:30:50.851452Z",
          "start_time": "2021-08-06T01:30:50.834189Z"
        },
        "execution": {
          "iopub.execute_input": "2023-06-16T02:11:03.435609Z",
          "iopub.status.busy": "2023-06-16T02:11:03.435077Z",
          "iopub.status.idle": "2023-06-16T02:11:03.441217Z",
          "shell.execute_reply": "2023-06-16T02:11:03.440608Z",
          "shell.execute_reply.started": "2023-06-16T02:11:03.435562Z"
        },
        "id": "38914350",
        "scrolled": true,
        "tags": []
      },
      "outputs": [],
      "source": [
        "Conv2D?"
      ]
    },
    {
      "cell_type": "code",
      "execution_count": null,
      "id": "575812fd-79f1-45bb-b2b0-3d285b84dc52",
      "metadata": {
        "execution": {
          "iopub.execute_input": "2023-06-16T02:12:55.014758Z",
          "iopub.status.busy": "2023-06-16T02:12:55.014374Z",
          "iopub.status.idle": "2023-06-16T02:12:55.018827Z",
          "shell.execute_reply": "2023-06-16T02:12:55.018197Z",
          "shell.execute_reply.started": "2023-06-16T02:12:55.014739Z"
        },
        "id": "575812fd-79f1-45bb-b2b0-3d285b84dc52",
        "tags": []
      },
      "outputs": [],
      "source": [
        "X_train.shape[1:]"
      ]
    },
    {
      "cell_type": "code",
      "execution_count": null,
      "id": "e8946978",
      "metadata": {
        "ExecuteTime": {
          "end_time": "2021-08-06T01:30:39.509565Z",
          "start_time": "2021-08-06T01:30:39.430195Z"
        },
        "execution": {
          "iopub.execute_input": "2023-06-16T02:16:51.358465Z",
          "iopub.status.busy": "2023-06-16T02:16:51.357941Z",
          "iopub.status.idle": "2023-06-16T02:16:51.777857Z",
          "shell.execute_reply": "2023-06-16T02:16:51.775464Z",
          "shell.execute_reply.started": "2023-06-16T02:16:51.358446Z"
        },
        "id": "e8946978",
        "tags": []
      },
      "outputs": [],
      "source": [
        "model.add(Conv2D(32, (3, 3), activation='relu', kernel_initializer='he_uniform', input_shape=X_train.shape[1:]))"
      ]
    },
    {
      "cell_type": "markdown",
      "id": "53ef3379",
      "metadata": {
        "id": "53ef3379"
      },
      "source": [
        "### Max Pooling"
      ]
    },
    {
      "cell_type": "code",
      "execution_count": null,
      "id": "e73839f9",
      "metadata": {
        "ExecuteTime": {
          "end_time": "2021-08-06T01:31:40.953745Z",
          "start_time": "2021-08-06T01:31:40.939463Z"
        },
        "execution": {
          "iopub.execute_input": "2023-06-16T02:17:01.974530Z",
          "iopub.status.busy": "2023-06-16T02:17:01.973106Z",
          "iopub.status.idle": "2023-06-16T02:17:01.995479Z",
          "shell.execute_reply": "2023-06-16T02:17:01.992095Z",
          "shell.execute_reply.started": "2023-06-16T02:17:01.974451Z"
        },
        "id": "e73839f9",
        "scrolled": true,
        "tags": []
      },
      "outputs": [],
      "source": [
        "MaxPooling2D?"
      ]
    },
    {
      "cell_type": "code",
      "execution_count": null,
      "id": "b1577eae",
      "metadata": {
        "ExecuteTime": {
          "end_time": "2021-08-06T01:32:03.918547Z",
          "start_time": "2021-08-06T01:32:03.888876Z"
        },
        "execution": {
          "iopub.execute_input": "2023-06-16T02:17:48.545697Z",
          "iopub.status.busy": "2023-06-16T02:17:48.545250Z",
          "iopub.status.idle": "2023-06-16T02:17:48.552667Z",
          "shell.execute_reply": "2023-06-16T02:17:48.552243Z",
          "shell.execute_reply.started": "2023-06-16T02:17:48.545672Z"
        },
        "id": "b1577eae",
        "tags": []
      },
      "outputs": [],
      "source": [
        "model.add(MaxPooling2D((2, 2)))"
      ]
    },
    {
      "cell_type": "markdown",
      "id": "b96c26fe",
      "metadata": {
        "id": "b96c26fe"
      },
      "source": [
        "### Flatten"
      ]
    },
    {
      "cell_type": "code",
      "execution_count": null,
      "id": "fd266b8f",
      "metadata": {
        "ExecuteTime": {
          "end_time": "2021-08-06T01:32:13.612980Z",
          "start_time": "2021-08-06T01:32:13.591461Z"
        },
        "execution": {
          "iopub.execute_input": "2023-06-16T02:17:58.009811Z",
          "iopub.status.busy": "2023-06-16T02:17:58.008354Z",
          "iopub.status.idle": "2023-06-16T02:17:58.028522Z",
          "shell.execute_reply": "2023-06-16T02:17:58.024839Z",
          "shell.execute_reply.started": "2023-06-16T02:17:58.009708Z"
        },
        "id": "fd266b8f",
        "scrolled": true,
        "tags": []
      },
      "outputs": [],
      "source": [
        "Flatten?"
      ]
    },
    {
      "cell_type": "code",
      "execution_count": null,
      "id": "33426a9e",
      "metadata": {
        "ExecuteTime": {
          "end_time": "2021-08-06T01:32:27.477096Z",
          "start_time": "2021-08-06T01:32:27.457125Z"
        },
        "execution": {
          "iopub.execute_input": "2023-06-16T02:18:15.397105Z",
          "iopub.status.busy": "2023-06-16T02:18:15.396861Z",
          "iopub.status.idle": "2023-06-16T02:18:15.404076Z",
          "shell.execute_reply": "2023-06-16T02:18:15.403538Z",
          "shell.execute_reply.started": "2023-06-16T02:18:15.397088Z"
        },
        "id": "33426a9e",
        "tags": []
      },
      "outputs": [],
      "source": [
        "model.add(Flatten())"
      ]
    },
    {
      "cell_type": "markdown",
      "id": "9600233c",
      "metadata": {
        "id": "9600233c"
      },
      "source": [
        "### Capas \"ocultas\""
      ]
    },
    {
      "cell_type": "code",
      "execution_count": null,
      "id": "e05298c7",
      "metadata": {
        "ExecuteTime": {
          "end_time": "2021-08-06T01:32:51.248022Z",
          "start_time": "2021-08-06T01:32:51.231673Z"
        },
        "execution": {
          "iopub.execute_input": "2023-06-16T02:18:37.403323Z",
          "iopub.status.busy": "2023-06-16T02:18:37.401030Z",
          "iopub.status.idle": "2023-06-16T02:18:37.424593Z",
          "shell.execute_reply": "2023-06-16T02:18:37.422567Z",
          "shell.execute_reply.started": "2023-06-16T02:18:37.403169Z"
        },
        "id": "e05298c7",
        "scrolled": true,
        "tags": []
      },
      "outputs": [],
      "source": [
        "Dense?"
      ]
    },
    {
      "cell_type": "code",
      "execution_count": null,
      "id": "ca921ad1",
      "metadata": {
        "ExecuteTime": {
          "end_time": "2021-08-06T01:33:08.629241Z",
          "start_time": "2021-08-06T01:33:08.582004Z"
        },
        "execution": {
          "iopub.execute_input": "2023-06-16T02:18:54.949913Z",
          "iopub.status.busy": "2023-06-16T02:18:54.949404Z",
          "iopub.status.idle": "2023-06-16T02:18:54.965634Z",
          "shell.execute_reply": "2023-06-16T02:18:54.965058Z",
          "shell.execute_reply.started": "2023-06-16T02:18:54.949890Z"
        },
        "id": "ca921ad1",
        "tags": []
      },
      "outputs": [],
      "source": [
        "model.add(Dense(100, activation='relu', kernel_initializer='he_uniform'))"
      ]
    },
    {
      "cell_type": "code",
      "execution_count": null,
      "id": "6f98122b",
      "metadata": {
        "ExecuteTime": {
          "end_time": "2021-08-06T01:33:29.635009Z",
          "start_time": "2021-08-06T01:33:29.618618Z"
        },
        "execution": {
          "iopub.execute_input": "2023-06-16T02:18:55.711813Z",
          "iopub.status.busy": "2023-06-16T02:18:55.710522Z",
          "iopub.status.idle": "2023-06-16T02:18:56.184181Z",
          "shell.execute_reply": "2023-06-16T02:18:56.181225Z",
          "shell.execute_reply.started": "2023-06-16T02:18:55.711741Z"
        },
        "id": "6f98122b",
        "tags": []
      },
      "outputs": [],
      "source": [
        "y_train.shape"
      ]
    },
    {
      "cell_type": "code",
      "execution_count": null,
      "id": "544b0d4c",
      "metadata": {
        "ExecuteTime": {
          "end_time": "2021-08-06T01:33:37.163767Z",
          "start_time": "2021-08-06T01:33:37.130174Z"
        },
        "execution": {
          "iopub.execute_input": "2023-06-16T02:19:18.832620Z",
          "iopub.status.busy": "2023-06-16T02:19:18.832334Z",
          "iopub.status.idle": "2023-06-16T02:19:18.848807Z",
          "shell.execute_reply": "2023-06-16T02:19:18.848200Z",
          "shell.execute_reply.started": "2023-06-16T02:19:18.832602Z"
        },
        "id": "544b0d4c",
        "tags": []
      },
      "outputs": [],
      "source": [
        "model.add(Dense(y_train.shape[1], activation='softmax'))"
      ]
    },
    {
      "cell_type": "code",
      "execution_count": null,
      "id": "5881a366",
      "metadata": {
        "ExecuteTime": {
          "end_time": "2021-08-06T01:33:38.673048Z",
          "start_time": "2021-08-06T01:33:38.663420Z"
        },
        "execution": {
          "iopub.execute_input": "2023-06-16T02:19:20.462785Z",
          "iopub.status.busy": "2023-06-16T02:19:20.461451Z",
          "iopub.status.idle": "2023-06-16T02:19:20.531014Z",
          "shell.execute_reply": "2023-06-16T02:19:20.527885Z",
          "shell.execute_reply.started": "2023-06-16T02:19:20.462709Z"
        },
        "id": "5881a366",
        "tags": []
      },
      "outputs": [],
      "source": [
        "model.summary()"
      ]
    },
    {
      "cell_type": "markdown",
      "id": "181b7ec0",
      "metadata": {
        "id": "181b7ec0"
      },
      "source": [
        "### Configuración del entrenamiento"
      ]
    },
    {
      "cell_type": "code",
      "execution_count": null,
      "id": "f42ac538",
      "metadata": {
        "ExecuteTime": {
          "end_time": "2021-08-06T01:34:39.403817Z",
          "start_time": "2021-08-06T01:34:39.343521Z"
        },
        "execution": {
          "iopub.execute_input": "2023-06-16T02:21:45.484177Z",
          "iopub.status.busy": "2023-06-16T02:21:45.483725Z",
          "iopub.status.idle": "2023-06-16T02:21:45.502517Z",
          "shell.execute_reply": "2023-06-16T02:21:45.501702Z",
          "shell.execute_reply.started": "2023-06-16T02:21:45.484141Z"
        },
        "id": "f42ac538",
        "tags": []
      },
      "outputs": [],
      "source": [
        "opt = SGD(learning_rate=0.01, momentum=0.9)\n",
        "model.compile(optimizer=opt, loss='categorical_crossentropy', metrics=['accuracy'])"
      ]
    },
    {
      "cell_type": "markdown",
      "id": "481faa57",
      "metadata": {
        "id": "481faa57"
      },
      "source": [
        "### Entrenamiento"
      ]
    },
    {
      "cell_type": "code",
      "execution_count": null,
      "id": "74ff9faa",
      "metadata": {
        "ExecuteTime": {
          "end_time": "2021-08-06T01:36:42.744382Z",
          "start_time": "2021-08-06T01:34:40.220699Z"
        },
        "execution": {
          "iopub.execute_input": "2023-06-16T02:21:49.586733Z",
          "iopub.status.busy": "2023-06-16T02:21:49.584688Z",
          "iopub.status.idle": "2023-06-16T02:23:56.262976Z",
          "shell.execute_reply": "2023-06-16T02:23:56.262422Z",
          "shell.execute_reply.started": "2023-06-16T02:21:49.586630Z"
        },
        "id": "74ff9faa",
        "scrolled": true,
        "tags": []
      },
      "outputs": [],
      "source": [
        "history = model.fit(X_train, y_train, epochs=15, batch_size=64, validation_data=(X_test, y_test))"
      ]
    },
    {
      "cell_type": "markdown",
      "id": "5992e50f",
      "metadata": {
        "id": "5992e50f"
      },
      "source": [
        "### Evaluación de resultados"
      ]
    },
    {
      "cell_type": "code",
      "execution_count": null,
      "id": "89521ac7",
      "metadata": {
        "ExecuteTime": {
          "end_time": "2021-08-06T01:37:04.807192Z",
          "start_time": "2021-08-06T01:37:03.516390Z"
        },
        "execution": {
          "iopub.execute_input": "2023-06-16T02:24:30.599876Z",
          "iopub.status.busy": "2023-06-16T02:24:30.599462Z",
          "iopub.status.idle": "2023-06-16T02:24:31.313351Z",
          "shell.execute_reply": "2023-06-16T02:24:31.312783Z",
          "shell.execute_reply.started": "2023-06-16T02:24:30.599855Z"
        },
        "id": "89521ac7",
        "tags": []
      },
      "outputs": [],
      "source": [
        "loss, acc = model.evaluate(X_val, y_val)"
      ]
    },
    {
      "cell_type": "code",
      "execution_count": null,
      "id": "e075a2ef",
      "metadata": {
        "ExecuteTime": {
          "end_time": "2021-08-06T01:37:13.387921Z",
          "start_time": "2021-08-06T01:37:13.378405Z"
        },
        "execution": {
          "iopub.execute_input": "2023-06-16T02:24:56.832135Z",
          "iopub.status.busy": "2023-06-16T02:24:56.831274Z",
          "iopub.status.idle": "2023-06-16T02:24:56.838814Z",
          "shell.execute_reply": "2023-06-16T02:24:56.837713Z",
          "shell.execute_reply.started": "2023-06-16T02:24:56.832096Z"
        },
        "id": "e075a2ef",
        "tags": []
      },
      "outputs": [],
      "source": [
        "loss, acc"
      ]
    },
    {
      "cell_type": "code",
      "execution_count": null,
      "id": "f90022f5",
      "metadata": {
        "ExecuteTime": {
          "end_time": "2021-08-06T01:39:40.258054Z",
          "start_time": "2021-08-06T01:39:40.237058Z"
        },
        "execution": {
          "iopub.execute_input": "2023-06-16T02:25:15.477929Z",
          "iopub.status.busy": "2023-06-16T02:25:15.477260Z",
          "iopub.status.idle": "2023-06-16T02:25:15.481258Z",
          "shell.execute_reply": "2023-06-16T02:25:15.480472Z",
          "shell.execute_reply.started": "2023-06-16T02:25:15.477879Z"
        },
        "id": "f90022f5",
        "tags": []
      },
      "outputs": [],
      "source": [
        "results = pd.DataFrame(history.history)"
      ]
    },
    {
      "cell_type": "code",
      "execution_count": null,
      "id": "c29c9fde",
      "metadata": {
        "ExecuteTime": {
          "end_time": "2021-08-06T01:39:41.206349Z",
          "start_time": "2021-08-06T01:39:40.794083Z"
        },
        "execution": {
          "iopub.execute_input": "2023-06-16T02:25:16.701446Z",
          "iopub.status.busy": "2023-06-16T02:25:16.698791Z",
          "iopub.status.idle": "2023-06-16T02:25:18.349877Z",
          "shell.execute_reply": "2023-06-16T02:25:18.349062Z",
          "shell.execute_reply.started": "2023-06-16T02:25:16.700667Z"
        },
        "id": "c29c9fde",
        "tags": []
      },
      "outputs": [],
      "source": [
        "results.iplot()"
      ]
    },
    {
      "cell_type": "markdown",
      "id": "dea1e468",
      "metadata": {
        "id": "dea1e468"
      },
      "source": [
        "### Preservación del modelo"
      ]
    },
    {
      "cell_type": "code",
      "execution_count": null,
      "id": "8f182b4d",
      "metadata": {
        "ExecuteTime": {
          "end_time": "2021-08-06T01:42:00.883208Z",
          "start_time": "2021-08-06T01:42:00.852719Z"
        },
        "execution": {
          "iopub.execute_input": "2023-06-16T02:27:32.532426Z",
          "iopub.status.busy": "2023-06-16T02:27:32.531684Z",
          "iopub.status.idle": "2023-06-16T02:27:32.752867Z",
          "shell.execute_reply": "2023-06-16T02:27:32.748991Z",
          "shell.execute_reply.started": "2023-06-16T02:27:32.532358Z"
        },
        "id": "8f182b4d",
        "tags": []
      },
      "outputs": [],
      "source": [
        "model.save(\"cnn_model.h5\")"
      ]
    },
    {
      "cell_type": "markdown",
      "id": "6d6d41d2",
      "metadata": {
        "id": "6d6d41d2"
      },
      "source": [
        "### Mejora no. 1"
      ]
    },
    {
      "cell_type": "code",
      "execution_count": null,
      "id": "6288193a",
      "metadata": {
        "ExecuteTime": {
          "end_time": "2021-08-06T01:42:25.827304Z",
          "start_time": "2021-08-06T01:42:25.820985Z"
        },
        "execution": {
          "iopub.execute_input": "2023-06-16T02:29:29.826076Z",
          "iopub.status.busy": "2023-06-16T02:29:29.825138Z",
          "iopub.status.idle": "2023-06-16T02:29:29.848435Z",
          "shell.execute_reply": "2023-06-16T02:29:29.845953Z",
          "shell.execute_reply.started": "2023-06-16T02:29:29.825974Z"
        },
        "id": "6288193a",
        "scrolled": true,
        "tags": []
      },
      "outputs": [],
      "source": [
        "BatchNormalization?"
      ]
    },
    {
      "cell_type": "code",
      "execution_count": null,
      "id": "f8a61d7f",
      "metadata": {
        "ExecuteTime": {
          "end_time": "2021-08-06T01:42:26.444479Z",
          "start_time": "2021-08-06T01:42:26.348849Z"
        },
        "execution": {
          "iopub.execute_input": "2023-06-16T02:31:37.664390Z",
          "iopub.status.busy": "2023-06-16T02:31:37.664183Z",
          "iopub.status.idle": "2023-06-16T02:31:37.711541Z",
          "shell.execute_reply": "2023-06-16T02:31:37.710973Z",
          "shell.execute_reply.started": "2023-06-16T02:31:37.664372Z"
        },
        "id": "f8a61d7f",
        "tags": []
      },
      "outputs": [],
      "source": [
        "model = Sequential()\n",
        "model.add(Conv2D(32, (3, 3), activation='relu', kernel_initializer='he_uniform', input_shape=X_train.shape[1:]))\n",
        "model.add(BatchNormalization())\n",
        "model.add(MaxPooling2D((2, 2)))\n",
        "model.add(Flatten())\n",
        "model.add(Dense(100, activation='relu', kernel_initializer='he_uniform'))\n",
        "model.add(Dense(y_train.shape[1], activation='softmax'))"
      ]
    },
    {
      "cell_type": "code",
      "execution_count": null,
      "id": "47785513",
      "metadata": {
        "ExecuteTime": {
          "end_time": "2021-08-06T01:42:30.709334Z",
          "start_time": "2021-08-06T01:42:30.688655Z"
        },
        "execution": {
          "iopub.execute_input": "2023-06-16T02:31:44.814970Z",
          "iopub.status.busy": "2023-06-16T02:31:44.814513Z",
          "iopub.status.idle": "2023-06-16T02:31:44.823182Z",
          "shell.execute_reply": "2023-06-16T02:31:44.822439Z",
          "shell.execute_reply.started": "2023-06-16T02:31:44.814948Z"
        },
        "id": "47785513",
        "tags": []
      },
      "outputs": [],
      "source": [
        "opt = SGD(learning_rate=0.01, momentum=0.9)\n",
        "model.compile(optimizer=opt, loss='categorical_crossentropy', metrics=['accuracy'])"
      ]
    },
    {
      "cell_type": "code",
      "execution_count": null,
      "id": "b84cceab",
      "metadata": {
        "ExecuteTime": {
          "end_time": "2021-08-06T01:42:31.334921Z",
          "start_time": "2021-08-06T01:42:31.324858Z"
        },
        "execution": {
          "iopub.execute_input": "2023-06-16T02:31:46.362133Z",
          "iopub.status.busy": "2023-06-16T02:31:46.359278Z",
          "iopub.status.idle": "2023-06-16T02:31:46.439880Z",
          "shell.execute_reply": "2023-06-16T02:31:46.436741Z",
          "shell.execute_reply.started": "2023-06-16T02:31:46.362004Z"
        },
        "id": "b84cceab",
        "tags": []
      },
      "outputs": [],
      "source": [
        "model.summary()"
      ]
    },
    {
      "cell_type": "code",
      "execution_count": null,
      "id": "2ecfec62",
      "metadata": {
        "ExecuteTime": {
          "end_time": "2021-08-06T01:45:49.669670Z",
          "start_time": "2021-08-06T01:42:31.761527Z"
        },
        "execution": {
          "iopub.execute_input": "2023-06-16T02:32:04.588847Z",
          "iopub.status.busy": "2023-06-16T02:32:04.588369Z",
          "iopub.status.idle": "2023-06-16T02:35:13.435900Z",
          "shell.execute_reply": "2023-06-16T02:35:13.435294Z",
          "shell.execute_reply.started": "2023-06-16T02:32:04.588824Z"
        },
        "id": "2ecfec62",
        "scrolled": true,
        "tags": []
      },
      "outputs": [],
      "source": [
        "history = model.fit(X_train, y_train, epochs=15, batch_size=64, validation_data=(X_test, y_test))"
      ]
    },
    {
      "cell_type": "code",
      "execution_count": null,
      "id": "3f6fb2ff",
      "metadata": {
        "ExecuteTime": {
          "end_time": "2021-08-06T01:45:51.240143Z",
          "start_time": "2021-08-06T01:45:49.672755Z"
        },
        "execution": {
          "iopub.execute_input": "2023-06-16T02:35:20.300524Z",
          "iopub.status.busy": "2023-06-16T02:35:20.300271Z",
          "iopub.status.idle": "2023-06-16T02:35:21.296862Z",
          "shell.execute_reply": "2023-06-16T02:35:21.296295Z",
          "shell.execute_reply.started": "2023-06-16T02:35:20.300506Z"
        },
        "id": "3f6fb2ff",
        "tags": []
      },
      "outputs": [],
      "source": [
        "loss, acc = model.evaluate(X_val, y_val)"
      ]
    },
    {
      "cell_type": "code",
      "execution_count": null,
      "id": "dc9fccd8",
      "metadata": {
        "ExecuteTime": {
          "end_time": "2021-08-06T01:45:51.247743Z",
          "start_time": "2021-08-06T01:45:51.243292Z"
        },
        "execution": {
          "iopub.execute_input": "2023-06-16T02:35:28.550660Z",
          "iopub.status.busy": "2023-06-16T02:35:28.550376Z",
          "iopub.status.idle": "2023-06-16T02:35:28.554430Z",
          "shell.execute_reply": "2023-06-16T02:35:28.554019Z",
          "shell.execute_reply.started": "2023-06-16T02:35:28.550643Z"
        },
        "id": "dc9fccd8",
        "tags": []
      },
      "outputs": [],
      "source": [
        "loss, acc"
      ]
    },
    {
      "cell_type": "markdown",
      "id": "03fe9f72",
      "metadata": {
        "id": "03fe9f72"
      },
      "source": [
        "### Mejora no. 2"
      ]
    },
    {
      "cell_type": "code",
      "execution_count": null,
      "id": "36ed5ab8",
      "metadata": {
        "ExecuteTime": {
          "end_time": "2021-08-06T01:45:51.522866Z",
          "start_time": "2021-08-06T01:45:51.250139Z"
        },
        "execution": {
          "iopub.execute_input": "2023-06-16T02:35:36.866780Z",
          "iopub.status.busy": "2023-06-16T02:35:36.865518Z",
          "iopub.status.idle": "2023-06-16T02:35:37.114307Z",
          "shell.execute_reply": "2023-06-16T02:35:37.113460Z",
          "shell.execute_reply.started": "2023-06-16T02:35:36.866656Z"
        },
        "id": "36ed5ab8",
        "tags": []
      },
      "outputs": [],
      "source": [
        "model = Sequential()\n",
        "model.add(Conv2D(32, (3, 3), activation='relu', kernel_initializer='he_uniform', input_shape=X_train.shape[1:]))\n",
        "model.add(MaxPooling2D((2, 2)))\n",
        "model.add(Conv2D(64, (3, 3), activation='relu', kernel_initializer='he_uniform'))\n",
        "model.add(Conv2D(64, (3, 3), activation='relu', kernel_initializer='he_uniform'))\n",
        "model.add(MaxPooling2D((2, 2)))\n",
        "model.add(Flatten())\n",
        "model.add(Dense(100, activation='relu', kernel_initializer='he_uniform'))\n",
        "model.add(Dense(y_train.shape[1], activation='softmax'))"
      ]
    },
    {
      "cell_type": "code",
      "execution_count": null,
      "id": "0e56f208",
      "metadata": {
        "ExecuteTime": {
          "end_time": "2021-08-06T01:45:51.536025Z",
          "start_time": "2021-08-06T01:45:51.524756Z"
        },
        "execution": {
          "iopub.execute_input": "2023-06-16T02:35:39.197809Z",
          "iopub.status.busy": "2023-06-16T02:35:39.195193Z",
          "iopub.status.idle": "2023-06-16T02:35:39.236126Z",
          "shell.execute_reply": "2023-06-16T02:35:39.231559Z",
          "shell.execute_reply.started": "2023-06-16T02:35:39.197685Z"
        },
        "id": "0e56f208",
        "tags": []
      },
      "outputs": [],
      "source": [
        "opt = SGD(learning_rate=0.01, momentum=0.9)\n",
        "model.compile(optimizer=opt, loss='categorical_crossentropy', metrics=['accuracy'])"
      ]
    },
    {
      "cell_type": "code",
      "execution_count": null,
      "id": "b0549df8",
      "metadata": {
        "ExecuteTime": {
          "end_time": "2021-08-06T01:45:51.604114Z",
          "start_time": "2021-08-06T01:45:51.538034Z"
        },
        "execution": {
          "iopub.execute_input": "2023-06-16T02:35:39.709660Z",
          "iopub.status.busy": "2023-06-16T02:35:39.707009Z",
          "iopub.status.idle": "2023-06-16T02:35:39.800124Z",
          "shell.execute_reply": "2023-06-16T02:35:39.796998Z",
          "shell.execute_reply.started": "2023-06-16T02:35:39.709523Z"
        },
        "id": "b0549df8",
        "tags": []
      },
      "outputs": [],
      "source": [
        "model.summary()"
      ]
    },
    {
      "cell_type": "code",
      "execution_count": null,
      "id": "a1198435",
      "metadata": {
        "ExecuteTime": {
          "end_time": "2021-08-06T01:51:05.768837Z",
          "start_time": "2021-08-06T01:45:51.606788Z"
        },
        "execution": {
          "iopub.execute_input": "2023-06-16T02:35:40.794969Z",
          "iopub.status.busy": "2023-06-16T02:35:40.794387Z",
          "iopub.status.idle": "2023-06-16T02:40:18.902838Z",
          "shell.execute_reply": "2023-06-16T02:40:18.902184Z",
          "shell.execute_reply.started": "2023-06-16T02:35:40.794916Z"
        },
        "id": "a1198435",
        "scrolled": true,
        "tags": []
      },
      "outputs": [],
      "source": [
        "history = model.fit(X_train, y_train, epochs=15, batch_size=64, validation_data=(X_test, y_test))"
      ]
    },
    {
      "cell_type": "code",
      "execution_count": null,
      "id": "c9507cdd",
      "metadata": {
        "ExecuteTime": {
          "end_time": "2021-08-06T01:51:08.144681Z",
          "start_time": "2021-08-06T01:51:05.772742Z"
        },
        "execution": {
          "iopub.execute_input": "2023-06-16T02:40:38.259149Z",
          "iopub.status.busy": "2023-06-16T02:40:38.258609Z",
          "iopub.status.idle": "2023-06-16T02:40:39.506572Z",
          "shell.execute_reply": "2023-06-16T02:40:39.505916Z",
          "shell.execute_reply.started": "2023-06-16T02:40:38.259119Z"
        },
        "id": "c9507cdd",
        "tags": []
      },
      "outputs": [],
      "source": [
        "loss, acc = model.evaluate(X_val, y_val)"
      ]
    },
    {
      "cell_type": "code",
      "execution_count": null,
      "id": "ffbcab21",
      "metadata": {
        "ExecuteTime": {
          "end_time": "2021-08-06T01:51:08.155034Z",
          "start_time": "2021-08-06T01:51:08.148523Z"
        },
        "execution": {
          "iopub.execute_input": "2023-06-16T02:40:51.710073Z",
          "iopub.status.busy": "2023-06-16T02:40:51.709691Z",
          "iopub.status.idle": "2023-06-16T02:40:51.714265Z",
          "shell.execute_reply": "2023-06-16T02:40:51.713543Z",
          "shell.execute_reply.started": "2023-06-16T02:40:51.710052Z"
        },
        "id": "ffbcab21",
        "tags": []
      },
      "outputs": [],
      "source": [
        "loss, acc"
      ]
    },
    {
      "cell_type": "markdown",
      "id": "1d3f3f18",
      "metadata": {
        "ExecuteTime": {
          "end_time": "2021-08-05T20:27:14.783822Z",
          "start_time": "2021-08-05T20:27:14.775434Z"
        },
        "id": "1d3f3f18"
      },
      "source": [
        "### Predicciones"
      ]
    },
    {
      "cell_type": "code",
      "execution_count": null,
      "id": "fb3487c5",
      "metadata": {
        "ExecuteTime": {
          "end_time": "2021-08-06T01:52:18.550973Z",
          "start_time": "2021-08-06T01:52:17.005562Z"
        },
        "execution": {
          "iopub.execute_input": "2023-06-16T02:41:39.293421Z",
          "iopub.status.busy": "2023-06-16T02:41:39.293151Z",
          "iopub.status.idle": "2023-06-16T02:41:40.804289Z",
          "shell.execute_reply": "2023-06-16T02:41:40.802136Z",
          "shell.execute_reply.started": "2023-06-16T02:41:39.293400Z"
        },
        "id": "fb3487c5",
        "tags": []
      },
      "outputs": [],
      "source": [
        "np.argmax(model.predict(X_val), axis=1)"
      ]
    },
    {
      "cell_type": "markdown",
      "id": "d5f274ce",
      "metadata": {
        "id": "d5f274ce"
      },
      "source": [
        "### Matriz de confusión"
      ]
    },
    {
      "cell_type": "code",
      "execution_count": null,
      "id": "3190e34c",
      "metadata": {
        "ExecuteTime": {
          "end_time": "2021-08-06T01:52:34.353828Z",
          "start_time": "2021-08-06T01:52:32.899848Z"
        },
        "execution": {
          "iopub.execute_input": "2023-06-16T02:42:03.152053Z",
          "iopub.status.busy": "2023-06-16T02:42:03.149820Z",
          "iopub.status.idle": "2023-06-16T02:42:04.393686Z",
          "shell.execute_reply": "2023-06-16T02:42:04.393292Z",
          "shell.execute_reply.started": "2023-06-16T02:42:03.151927Z"
        },
        "id": "3190e34c",
        "tags": []
      },
      "outputs": [],
      "source": [
        "confusion_matrix(np.argmax(y_val, axis=1), np.argmax(model.predict(X_val), axis=1))"
      ]
    },
    {
      "cell_type": "code",
      "execution_count": null,
      "id": "3838f4ca-a9be-40ce-b66d-ed1333894961",
      "metadata": {
        "execution": {
          "iopub.execute_input": "2023-06-16T02:42:40.494923Z",
          "iopub.status.busy": "2023-06-16T02:42:40.494653Z",
          "iopub.status.idle": "2023-06-16T02:42:41.725973Z",
          "shell.execute_reply": "2023-06-16T02:42:41.725553Z",
          "shell.execute_reply.started": "2023-06-16T02:42:40.494906Z"
        },
        "id": "3838f4ca-a9be-40ce-b66d-ed1333894961",
        "tags": []
      },
      "outputs": [],
      "source": [
        "cm = pd.DataFrame(confusion_matrix(np.argmax(y_val, axis=1), np.argmax(model.predict(X_val), axis=1)))"
      ]
    },
    {
      "cell_type": "code",
      "execution_count": null,
      "id": "62f733f6-7fd6-4be4-a7cf-898bc723952e",
      "metadata": {
        "execution": {
          "iopub.execute_input": "2023-06-16T02:42:41.727010Z",
          "iopub.status.busy": "2023-06-16T02:42:41.726759Z",
          "iopub.status.idle": "2023-06-16T02:42:41.927377Z",
          "shell.execute_reply": "2023-06-16T02:42:41.925463Z",
          "shell.execute_reply.started": "2023-06-16T02:42:41.726994Z"
        },
        "id": "62f733f6-7fd6-4be4-a7cf-898bc723952e",
        "tags": []
      },
      "outputs": [],
      "source": [
        "cm.iplot(kind=\"heatmap\", colorscale=\"blues\")"
      ]
    },
    {
      "cell_type": "markdown",
      "id": "d47ebe38-a8a9-4623-ba50-4535881ffcd0",
      "metadata": {
        "id": "d47ebe38-a8a9-4623-ba50-4535881ffcd0"
      },
      "source": [
        "### Clasification report"
      ]
    },
    {
      "cell_type": "code",
      "execution_count": null,
      "id": "38b8b503-6520-43b4-9b21-d8a9a5033dee",
      "metadata": {
        "execution": {
          "iopub.execute_input": "2023-06-16T02:43:09.303382Z",
          "iopub.status.busy": "2023-06-16T02:43:09.302033Z",
          "iopub.status.idle": "2023-06-16T02:43:10.635826Z",
          "shell.execute_reply": "2023-06-16T02:43:10.635289Z",
          "shell.execute_reply.started": "2023-06-16T02:43:09.303307Z"
        },
        "id": "38b8b503-6520-43b4-9b21-d8a9a5033dee",
        "tags": []
      },
      "outputs": [],
      "source": [
        "print(classification_report(np.argmax(y_val, axis=1), np.argmax(model.predict(X_val), axis=1)))"
      ]
    },
    {
      "cell_type": "markdown",
      "id": "722d212b-fc1d-440c-85d1-74285c606256",
      "metadata": {
        "id": "722d212b-fc1d-440c-85d1-74285c606256",
        "tags": []
      },
      "source": [
        "#### Métricas"
      ]
    },
    {
      "cell_type": "markdown",
      "id": "60f50642-23af-49df-8316-0476ae4489a7",
      "metadata": {
        "id": "60f50642-23af-49df-8316-0476ae4489a7"
      },
      "source": [
        "$ \\displaystyle{recall = \\frac{TP}{TP+FN} \\qquad precision = \\frac{TP}{TP+FP} \\qquad accuracy = \\frac{TP+TN}{TP+FP+TN+FN} \\qquad f1 \\;Score=\\frac{2*precision*recall}{precision+recall}}$"
      ]
    },
    {
      "cell_type": "markdown",
      "id": "8946cfe8",
      "metadata": {
        "id": "8946cfe8"
      },
      "source": [
        "### Preservación del modelo"
      ]
    },
    {
      "cell_type": "code",
      "execution_count": null,
      "id": "c80d902f",
      "metadata": {
        "ExecuteTime": {
          "end_time": "2021-08-06T01:53:35.256047Z",
          "start_time": "2021-08-06T01:53:35.184414Z"
        },
        "execution": {
          "iopub.execute_input": "2023-06-16T02:44:08.141590Z",
          "iopub.status.busy": "2023-06-16T02:44:08.139089Z",
          "iopub.status.idle": "2023-06-16T02:44:08.252099Z",
          "shell.execute_reply": "2023-06-16T02:44:08.249446Z",
          "shell.execute_reply.started": "2023-06-16T02:44:08.141477Z"
        },
        "id": "c80d902f",
        "tags": []
      },
      "outputs": [],
      "source": [
        "model.save(\"cnn_model.h5\")"
      ]
    },
    {
      "cell_type": "code",
      "execution_count": null,
      "id": "2405f4db",
      "metadata": {
        "id": "2405f4db"
      },
      "outputs": [],
      "source": []
    }
  ],
  "metadata": {
    "autoscrollcelloutput": true,
    "colab": {
      "provenance": []
    },
    "kernelspec": {
      "display_name": "Diplomado",
      "language": "python",
      "name": "diplomado"
    },
    "language_info": {
      "codemirror_mode": {
        "name": "ipython",
        "version": 3
      },
      "file_extension": ".py",
      "mimetype": "text/x-python",
      "name": "python",
      "nbconvert_exporter": "python",
      "pygments_lexer": "ipython3",
      "version": "3.10.6"
    },
    "notify_time": "5"
  },
  "nbformat": 4,
  "nbformat_minor": 5
}