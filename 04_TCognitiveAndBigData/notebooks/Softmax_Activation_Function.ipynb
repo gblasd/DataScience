{
  "nbformat": 4,
  "nbformat_minor": 0,
  "metadata": {
    "colab": {
      "provenance": [],
      "authorship_tag": "ABX9TyOBOq6JKM41bFx1ansaDWU1",
      "include_colab_link": true
    },
    "kernelspec": {
      "name": "python3",
      "display_name": "Python 3"
    },
    "language_info": {
      "name": "python"
    }
  },
  "cells": [
    {
      "cell_type": "markdown",
      "metadata": {
        "id": "view-in-github",
        "colab_type": "text"
      },
      "source": [
        "<a href=\"https://colab.research.google.com/github/gblasd/DataScience/blob/BDCC/04_TCognitiveAndBigData/notebooks/Softmax_Activation_Function.ipynb\" target=\"_parent\"><img src=\"https://colab.research.google.com/assets/colab-badge.svg\" alt=\"Open In Colab\"/></a>"
      ]
    },
    {
      "cell_type": "markdown",
      "source": [
        "# Softmax Activation Function"
      ],
      "metadata": {
        "id": "21JBBzD8hAPD"
      }
    },
    {
      "cell_type": "markdown",
      "source": [
        "__Activation function__ are the bakcbone of neuronal networks. Softmax is better at handling situations where outputs be interpreted as probabilities across mutually exclusive classes.\n",
        "\n",
        "The softmax activation function transforms an entire vector of numbes into a probability distribution. This unique characteristic makes it indipensable for tasks where we need to classify inputs into one of several possible catefories.\n",
        "\n",
        "The Softmax activation function is a mathematical function that transforms a vector of raw model outputs, knon as logits, into a probability distribution. In simple termsm it takes a set of numbers and converts into probabilities that sum up to 1.\n",
        "\n",
        "In neuronal networks, softmax is applies to the final layer of a network designed for multi-class classification. The raw outputs from a neuronal network's final layer are often called \"logits\". These values can range from negative infinity to positive infinity and don't have a direct probabilistic interpretation.\n",
        "\n",
        "The softmax activation function transforms these logits into a more interpretable from by:\n",
        "\n",
        "1.- Taking the exponential of each input value (wich ensures all values are positive).\n",
        "2.- Dividing each exponential by the sum of all exponentials (which ensures the outputs sum to 1).\n",
        "\n",
        "This transformation is crucial beacause it allows us to interpret the network's output as a probability distribution. For example, if a neuronal network is classifiying images into three categories `(cat, dog, bird)`, the softmax output might be `[0.7, 0.2, 0.1]`, indicating a `70%` probability for cat, 20% for dog, and 10% for bird.\n",
        "\n",
        "The softmax activation function plays a vital role in creating valid probability distributions because:\n",
        "\n",
        "- It ensures all output vaues are between 0 and 1.\n",
        "- It guarantees that all outputs sum to exactly 1.\n",
        "- it preserves the ranking of input values (larger inputs result in larger probabilities).\n",
        "- It accentuates differences between larger values while suppressing differences between smaller values.\n",
        "\n",
        "\n",
        "The softmax activation function formula can be expressed mathematically as:\n",
        "\n",
        "$$\\sigma (z_1) = \\frac{e^(z_i)}{\\sum_(j=1)^K e^(z_i)} $$\n",
        "\n",
        "Where:\n",
        "\n",
        "- $z_i$ is the input value (logit) for class $i$.\n",
        "- $e^(z_i)$ is the exponential function applied to $z_i$ (also written as exp($z_i$)).\n",
        "- $K$ is the total number of classes.\n",
        "- The denominator sums the exponentials of all inputs, ensuring the output values sum to 1.\n",
        "\n",
        "The softmax activation functions follows these steps to tranform a vector of inputs into a probability distribution:\n",
        "\n",
        "1.- __Calculate exponentials__: First, we compute the exponential ($e^x$) of each input value. This step ensures all values are positive, as $e^x > 0$ for any real number $x$.\n",
        "2.- __Sum the exponentials__: We calculate the sum of all the exponential values from step 1.\n",
        "3.- __Normalize__: We divide each exponential values by the sum calculated in step 2. This normalization ensures that all outputs are between $0$ and $1$ and sum to exactly $1$.\n",
        "\n",
        "__Practice__\n",
        "\n",
        "Suppose we have a neuronal network with three output neurons for a three-class classification problem. After the final computation, the network outputs the following logits: $z=[2.0, 1.0, 0.5]$.\n",
        "\n",
        "To convert these logits into probabilities using the softmax function:\n",
        "\n",
        "1.- __Calculate exponentials:__\n",
        "\n",
        "* $e^(2.0)=7.389$\n",
        "* $e^(1.0)=2.718$\n",
        "* $e^(0.5)=1.648$\n",
        "\n",
        "2.- __Sum the exponentials:__\n",
        "* $7.389+2.718+1.648=11.755$\n",
        "\n",
        "3.- __Normalize:__\n",
        "* $P(class 1)=\\frac{7.389}{11.755} \\sim 0.628 \\text{ or } 62.8\\%$\n",
        "* $P(class 2)=\\frac{2.718}{11.755} \\sim 0.231 \\text{ or } 23.1\\%$\n",
        "* $P(class 3)=\\frac{1.648}{11.755} \\sim 0.140 \\text{ or } 14.0\\%$\n",
        "\n",
        "\n",
        "The resulting _probabilty distribution_ [0.628, 0.231, 0.140] sum to 1, with the highest probabilty assigned to the class corresponding to the highest logit value.\n"
      ],
      "metadata": {
        "id": "b6XT5p0qhHm3"
      }
    },
    {
      "cell_type": "code",
      "execution_count": 1,
      "metadata": {
        "id": "q0NFYvSZg8Gm"
      },
      "outputs": [],
      "source": [
        "import numpy as np\n",
        "\n",
        "def softmax(x):\n",
        "    \"\"\"\n",
        "    Compute softmax values for each set of scores in x.\n",
        "\n",
        "    Args:\n",
        "        x: Input array of shape (batch_size, num_classes) or (num_classes,)\n",
        "\n",
        "    Returns:\n",
        "        Softmax probabilties of same shape as input\n",
        "    \"\"\"\n",
        "\n",
        "    # For numerical stability, subtract the maximum values from each input vector\n",
        "    # This prevents overflow when calculating exp(x)\n",
        "    shifted_x = x - np.max(x, axis=1, keepdims=True)\n",
        "\n",
        "    # Calculate exp(x) for each element\n",
        "    exp_x = np.exp(shifted_x)\n",
        "\n",
        "    # Calculate the sum of exp(x) for normalization\n",
        "    sum_exp_x = np.sum(exp_x, axis=1, keepdims=True)\n",
        "\n",
        "    # Normalize to get probabilities\n",
        "    probabilities = exp_x / sum_exp_x\n",
        "\n",
        "    return probabilities"
      ]
    },
    {
      "cell_type": "code",
      "source": [
        "# Sample logits from a neural network (batch of 2 examples, 3 classes each)\n",
        "logits = np.array([\n",
        "    [2.0, 1.0, 0.5],  # First example\n",
        "    [3.0, 2.0, 1.0]   # Second example\n",
        "])\n",
        "\n",
        "probabilities = softmax(logits)\n",
        "print(\"Logits:\\n\", logits)\n",
        "print(\"\\nSoftmax probabilities:\\n\", probabilities)\n",
        "print(\"\\nSum of probabilities (should be 1 for each example):\", np.sum(probabilities, axis=1))"
      ],
      "metadata": {
        "colab": {
          "base_uri": "https://localhost:8080/"
        },
        "id": "v9i6u8h8peFU",
        "outputId": "6576f4c3-5eec-494e-b7eb-b60f81079c51"
      },
      "execution_count": 2,
      "outputs": [
        {
          "output_type": "stream",
          "name": "stdout",
          "text": [
            "Logits:\n",
            " [[2.  1.  0.5]\n",
            " [3.  2.  1. ]]\n",
            "\n",
            "Softmax probabilities:\n",
            " [[0.62853172 0.2312239  0.14024438]\n",
            " [0.66524096 0.24472847 0.09003057]]\n",
            "\n",
            "Sum of probabilities (should be 1 for each example): [1. 1.]\n"
          ]
        }
      ]
    },
    {
      "cell_type": "code",
      "source": [
        "import tensorflow as tf\n",
        "from tensorflow.keras.models import Sequential\n",
        "from tensorflow.keras.layers import Dense, Flatten, Softmax\n",
        "from tensorflow.keras.datasets import mnist\n",
        "import matplotlib.pyplot as plt\n",
        "import numpy as np\n",
        "\n",
        "# Load and preprocess the MNIST dataset\n",
        "(x_train, y_train), (x_test, y_test) = mnist.load_data()\n",
        "\n",
        "# Normalize pixel values to be between 0 and 1\n",
        "x_train, x_test = x_train / 255.0, x_test / 255.0\n",
        "\n",
        "# One-hot encode the labels\n",
        "y_train_one_hot = tf.keras.utils.to_categorical(y_train, 10)\n",
        "y_test_one_hot = tf.keras.utils.to_categorical(y_test, 10)"
      ],
      "metadata": {
        "colab": {
          "base_uri": "https://localhost:8080/"
        },
        "id": "Luqquiseplkp",
        "outputId": "5b2e3821-2bec-4f94-d3f8-e0d7ceb9f822"
      },
      "execution_count": 3,
      "outputs": [
        {
          "output_type": "stream",
          "name": "stdout",
          "text": [
            "Downloading data from https://storage.googleapis.com/tensorflow/tf-keras-datasets/mnist.npz\n",
            "\u001b[1m11490434/11490434\u001b[0m \u001b[32m━━━━━━━━━━━━━━━━━━━━\u001b[0m\u001b[37m\u001b[0m \u001b[1m0s\u001b[0m 0us/step\n"
          ]
        }
      ]
    },
    {
      "cell_type": "markdown",
      "source": [
        "Here, we demonstrate two equivalent ways to incorporate the softmax activation function in a neural network:\n",
        "\n",
        "- __Method 1__: Directly specifying 'softmax' as the activation function in the final Dense layer.\n",
        "- __Method 2__: Adding a separate Softmax layer after the Dense layer that outputs raw logits.\n",
        "\n",
        "Both approaches produce identical results, but the second method makes the separation between logits and probabilities more explicit, which can be useful in certain scenarios."
      ],
      "metadata": {
        "id": "3HEaFPIHqBtB"
      }
    },
    {
      "cell_type": "code",
      "source": [
        "# Method 1: Using softmax as the activation function in the final layer\n",
        "model1 = Sequential([\n",
        "    Flatten(input_shape=(28, 28)),  # Convert 28x28 images to 784-length vectors\n",
        "    Dense(128, activation='relu'),   # Hidden layer with ReLU activation\n",
        "    Dense(10, activation='softmax')  # Output layer with softmax activation\n",
        "])\n",
        "\n",
        "# Method 2: Using a separate Softmax layer\n",
        "model2 = Sequential([\n",
        "    Flatten(input_shape=(28, 28)),\n",
        "    Dense(128, activation='relu'),\n",
        "    Dense(10),  # Linear output (logits)\n",
        "    Softmax()   # Separate softmax layer\n",
        "])"
      ],
      "metadata": {
        "colab": {
          "base_uri": "https://localhost:8080/"
        },
        "id": "nZEwjNw_pomg",
        "outputId": "2871fbeb-260b-4276-f0f1-175a752613b6"
      },
      "execution_count": 4,
      "outputs": [
        {
          "output_type": "stream",
          "name": "stderr",
          "text": [
            "/usr/local/lib/python3.12/dist-packages/keras/src/layers/reshaping/flatten.py:37: UserWarning: Do not pass an `input_shape`/`input_dim` argument to a layer. When using Sequential models, prefer using an `Input(shape)` object as the first layer in the model instead.\n",
            "  super().__init__(**kwargs)\n"
          ]
        }
      ]
    },
    {
      "cell_type": "markdown",
      "source": [
        "We compile the model using the categorical cross-entropy loss function, which is designed to work with softmax outputs. This loss function measures the difference between the predicted probability distribution and the true one-hot encoded labels. We use the Adam optimizer, which adaptively adjusts the learning rate during training."
      ],
      "metadata": {
        "id": "tr_HiEUwqOgM"
      }
    },
    {
      "cell_type": "code",
      "source": [
        "# Compile the model\n",
        "model1.compile(\n",
        "    optimizer='adam',\n",
        "    loss='categorical_crossentropy',  # This loss works well with softmax\n",
        "    metrics=['accuracy']\n",
        ")\n",
        "\n",
        "# Print model summary\n",
        "print(\"Model with softmax activation:\")\n",
        "model1.summary()\n",
        "\n",
        "# Train the model\n",
        "print(\"\\nTraining the model...\")\n",
        "history = model1.fit(\n",
        "    x_train, y_train_one_hot,\n",
        "    epochs=5,\n",
        "    batch_size=128,\n",
        "    validation_split=0.1,\n",
        "    verbose=1\n",
        ")"
      ],
      "metadata": {
        "colab": {
          "base_uri": "https://localhost:8080/",
          "height": 446
        },
        "id": "oQvQmzQOprv2",
        "outputId": "282a5e6c-13a8-42f7-8511-2c99345a36cb"
      },
      "execution_count": 5,
      "outputs": [
        {
          "output_type": "stream",
          "name": "stdout",
          "text": [
            "Model with softmax activation:\n"
          ]
        },
        {
          "output_type": "display_data",
          "data": {
            "text/plain": [
              "\u001b[1mModel: \"sequential\"\u001b[0m\n"
            ],
            "text/html": [
              "<pre style=\"white-space:pre;overflow-x:auto;line-height:normal;font-family:Menlo,'DejaVu Sans Mono',consolas,'Courier New',monospace\"><span style=\"font-weight: bold\">Model: \"sequential\"</span>\n",
              "</pre>\n"
            ]
          },
          "metadata": {}
        },
        {
          "output_type": "display_data",
          "data": {
            "text/plain": [
              "┏━━━━━━━━━━━━━━━━━━━━━━━━━━━━━━━━━┳━━━━━━━━━━━━━━━━━━━━━━━━┳━━━━━━━━━━━━━━━┓\n",
              "┃\u001b[1m \u001b[0m\u001b[1mLayer (type)                   \u001b[0m\u001b[1m \u001b[0m┃\u001b[1m \u001b[0m\u001b[1mOutput Shape          \u001b[0m\u001b[1m \u001b[0m┃\u001b[1m \u001b[0m\u001b[1m      Param #\u001b[0m\u001b[1m \u001b[0m┃\n",
              "┡━━━━━━━━━━━━━━━━━━━━━━━━━━━━━━━━━╇━━━━━━━━━━━━━━━━━━━━━━━━╇━━━━━━━━━━━━━━━┩\n",
              "│ flatten (\u001b[38;5;33mFlatten\u001b[0m)               │ (\u001b[38;5;45mNone\u001b[0m, \u001b[38;5;34m784\u001b[0m)            │             \u001b[38;5;34m0\u001b[0m │\n",
              "├─────────────────────────────────┼────────────────────────┼───────────────┤\n",
              "│ dense (\u001b[38;5;33mDense\u001b[0m)                   │ (\u001b[38;5;45mNone\u001b[0m, \u001b[38;5;34m128\u001b[0m)            │       \u001b[38;5;34m100,480\u001b[0m │\n",
              "├─────────────────────────────────┼────────────────────────┼───────────────┤\n",
              "│ dense_1 (\u001b[38;5;33mDense\u001b[0m)                 │ (\u001b[38;5;45mNone\u001b[0m, \u001b[38;5;34m10\u001b[0m)             │         \u001b[38;5;34m1,290\u001b[0m │\n",
              "└─────────────────────────────────┴────────────────────────┴───────────────┘\n"
            ],
            "text/html": [
              "<pre style=\"white-space:pre;overflow-x:auto;line-height:normal;font-family:Menlo,'DejaVu Sans Mono',consolas,'Courier New',monospace\">┏━━━━━━━━━━━━━━━━━━━━━━━━━━━━━━━━━┳━━━━━━━━━━━━━━━━━━━━━━━━┳━━━━━━━━━━━━━━━┓\n",
              "┃<span style=\"font-weight: bold\"> Layer (type)                    </span>┃<span style=\"font-weight: bold\"> Output Shape           </span>┃<span style=\"font-weight: bold\">       Param # </span>┃\n",
              "┡━━━━━━━━━━━━━━━━━━━━━━━━━━━━━━━━━╇━━━━━━━━━━━━━━━━━━━━━━━━╇━━━━━━━━━━━━━━━┩\n",
              "│ flatten (<span style=\"color: #0087ff; text-decoration-color: #0087ff\">Flatten</span>)               │ (<span style=\"color: #00d7ff; text-decoration-color: #00d7ff\">None</span>, <span style=\"color: #00af00; text-decoration-color: #00af00\">784</span>)            │             <span style=\"color: #00af00; text-decoration-color: #00af00\">0</span> │\n",
              "├─────────────────────────────────┼────────────────────────┼───────────────┤\n",
              "│ dense (<span style=\"color: #0087ff; text-decoration-color: #0087ff\">Dense</span>)                   │ (<span style=\"color: #00d7ff; text-decoration-color: #00d7ff\">None</span>, <span style=\"color: #00af00; text-decoration-color: #00af00\">128</span>)            │       <span style=\"color: #00af00; text-decoration-color: #00af00\">100,480</span> │\n",
              "├─────────────────────────────────┼────────────────────────┼───────────────┤\n",
              "│ dense_1 (<span style=\"color: #0087ff; text-decoration-color: #0087ff\">Dense</span>)                 │ (<span style=\"color: #00d7ff; text-decoration-color: #00d7ff\">None</span>, <span style=\"color: #00af00; text-decoration-color: #00af00\">10</span>)             │         <span style=\"color: #00af00; text-decoration-color: #00af00\">1,290</span> │\n",
              "└─────────────────────────────────┴────────────────────────┴───────────────┘\n",
              "</pre>\n"
            ]
          },
          "metadata": {}
        },
        {
          "output_type": "display_data",
          "data": {
            "text/plain": [
              "\u001b[1m Total params: \u001b[0m\u001b[38;5;34m101,770\u001b[0m (397.54 KB)\n"
            ],
            "text/html": [
              "<pre style=\"white-space:pre;overflow-x:auto;line-height:normal;font-family:Menlo,'DejaVu Sans Mono',consolas,'Courier New',monospace\"><span style=\"font-weight: bold\"> Total params: </span><span style=\"color: #00af00; text-decoration-color: #00af00\">101,770</span> (397.54 KB)\n",
              "</pre>\n"
            ]
          },
          "metadata": {}
        },
        {
          "output_type": "display_data",
          "data": {
            "text/plain": [
              "\u001b[1m Trainable params: \u001b[0m\u001b[38;5;34m101,770\u001b[0m (397.54 KB)\n"
            ],
            "text/html": [
              "<pre style=\"white-space:pre;overflow-x:auto;line-height:normal;font-family:Menlo,'DejaVu Sans Mono',consolas,'Courier New',monospace\"><span style=\"font-weight: bold\"> Trainable params: </span><span style=\"color: #00af00; text-decoration-color: #00af00\">101,770</span> (397.54 KB)\n",
              "</pre>\n"
            ]
          },
          "metadata": {}
        },
        {
          "output_type": "display_data",
          "data": {
            "text/plain": [
              "\u001b[1m Non-trainable params: \u001b[0m\u001b[38;5;34m0\u001b[0m (0.00 B)\n"
            ],
            "text/html": [
              "<pre style=\"white-space:pre;overflow-x:auto;line-height:normal;font-family:Menlo,'DejaVu Sans Mono',consolas,'Courier New',monospace\"><span style=\"font-weight: bold\"> Non-trainable params: </span><span style=\"color: #00af00; text-decoration-color: #00af00\">0</span> (0.00 B)\n",
              "</pre>\n"
            ]
          },
          "metadata": {}
        },
        {
          "output_type": "stream",
          "name": "stdout",
          "text": [
            "\n",
            "Training the model...\n",
            "Epoch 1/5\n",
            "\u001b[1m422/422\u001b[0m \u001b[32m━━━━━━━━━━━━━━━━━━━━\u001b[0m\u001b[37m\u001b[0m \u001b[1m5s\u001b[0m 10ms/step - accuracy: 0.8297 - loss: 0.6359 - val_accuracy: 0.9537 - val_loss: 0.1733\n",
            "Epoch 2/5\n",
            "\u001b[1m422/422\u001b[0m \u001b[32m━━━━━━━━━━━━━━━━━━━━\u001b[0m\u001b[37m\u001b[0m \u001b[1m2s\u001b[0m 5ms/step - accuracy: 0.9461 - loss: 0.1902 - val_accuracy: 0.9665 - val_loss: 0.1278\n",
            "Epoch 3/5\n",
            "\u001b[1m422/422\u001b[0m \u001b[32m━━━━━━━━━━━━━━━━━━━━\u001b[0m\u001b[37m\u001b[0m \u001b[1m2s\u001b[0m 6ms/step - accuracy: 0.9614 - loss: 0.1342 - val_accuracy: 0.9710 - val_loss: 0.1029\n",
            "Epoch 4/5\n",
            "\u001b[1m422/422\u001b[0m \u001b[32m━━━━━━━━━━━━━━━━━━━━\u001b[0m\u001b[37m\u001b[0m \u001b[1m3s\u001b[0m 6ms/step - accuracy: 0.9709 - loss: 0.1015 - val_accuracy: 0.9748 - val_loss: 0.0891\n",
            "Epoch 5/5\n",
            "\u001b[1m422/422\u001b[0m \u001b[32m━━━━━━━━━━━━━━━━━━━━\u001b[0m\u001b[37m\u001b[0m \u001b[1m3s\u001b[0m 7ms/step - accuracy: 0.9773 - loss: 0.0796 - val_accuracy: 0.9765 - val_loss: 0.0857\n"
          ]
        }
      ]
    },
    {
      "cell_type": "markdown",
      "source": [
        "This code selects a test image, passes it through the trained model, and visualizes both the image and the resulting probability distribution from the softmax output. The highest bar in the probability plot represents the model's prediction.\n",
        "\n"
      ],
      "metadata": {
        "id": "olVM3GQGqRLa"
      }
    },
    {
      "cell_type": "code",
      "source": [
        "# Let's check predictions on a sample\n",
        "sample_idx = 42\n",
        "sample_image = x_test[sample_idx]\n",
        "true_label = y_test[sample_idx]\n",
        "\n",
        "# Get model predictions (probabilities across all classes)\n",
        "predictions = model1.predict(sample_image[np.newaxis, ...])\n",
        "\n",
        "# Visualize the results\n",
        "plt.figure(figsize=(10, 4))\n",
        "\n",
        "# Plot the image\n",
        "plt.subplot(1, 2, 1)\n",
        "plt.imshow(sample_image, cmap='gray')\n",
        "plt.title(f\"True label: {true_label}\")\n",
        "plt.axis('off')\n",
        "\n",
        "# Plot the probability distribution\n",
        "plt.subplot(1, 2, 2)\n",
        "plt.bar(range(10), predictions[0])\n",
        "plt.xticks(range(10))\n",
        "plt.xlabel('Digit')\n",
        "plt.ylabel('Probability')\n",
        "plt.title('Softmax Probabilities')"
      ],
      "metadata": {
        "colab": {
          "base_uri": "https://localhost:8080/",
          "height": 444
        },
        "id": "-cqgO3AlpwfJ",
        "outputId": "81175a6b-cec4-4ac1-d7e6-646d9425b662"
      },
      "execution_count": 6,
      "outputs": [
        {
          "output_type": "stream",
          "name": "stdout",
          "text": [
            "\u001b[1m1/1\u001b[0m \u001b[32m━━━━━━━━━━━━━━━━━━━━\u001b[0m\u001b[37m\u001b[0m \u001b[1m0s\u001b[0m 79ms/step\n"
          ]
        },
        {
          "output_type": "execute_result",
          "data": {
            "text/plain": [
              "Text(0.5, 1.0, 'Softmax Probabilities')"
            ]
          },
          "metadata": {},
          "execution_count": 6
        },
        {
          "output_type": "display_data",
          "data": {
            "text/plain": [
              "<Figure size 1000x400 with 2 Axes>"
            ],
            "image/png": "[encoded data removed]"
          },
          "metadata": {}
        }
      ]
    },
    {
      "cell_type": "code",
      "source": [
        "# Demonstrate using a custom softmax function in TensorFlow\n",
        "def custom_softmax(logits):\n",
        "    \"\"\"Custom implementation of softmax in TensorFlow\"\"\"\n",
        "    exp_logits = tf.exp(logits - tf.reduce_max(logits, axis=-1, keepdims=True))\n",
        "    return exp_logits / tf.reduce_sum(exp_logits, axis=-1, keepdims=True)\n",
        "\n",
        "# Example usage of custom softmax\n",
        "logits = tf.constant([[2.0, 1.0, 0.5], [3.0, 2.0, 1.0]])\n",
        "custom_probs = custom_softmax(logits)\n",
        "tf_probs = tf.nn.softmax(logits)\n",
        "\n",
        "print(\"\\nCustom softmax:\", custom_probs.numpy())\n",
        "print(\"TensorFlow softmax:\", tf_probs.numpy())"
      ],
      "metadata": {
        "colab": {
          "base_uri": "https://localhost:8080/"
        },
        "id": "MtCPsE0Upz0w",
        "outputId": "81b14c5d-039e-4198-e9b4-52e1102d6be3"
      },
      "execution_count": 7,
      "outputs": [
        {
          "output_type": "stream",
          "name": "stdout",
          "text": [
            "\n",
            "Custom softmax: [[0.6285317  0.2312239  0.14024438]\n",
            " [0.66524094 0.24472848 0.09003057]]\n",
            "TensorFlow softmax: [[0.6285317  0.2312239  0.14024438]\n",
            " [0.66524094 0.24472848 0.09003057]]\n"
          ]
        }
      ]
    },
    {
      "cell_type": "markdown",
      "source": [
        "This example compares a custom implementation of softmax with TensorFlow's built-in `tf.nn.softmax()` function. Both should produce identical results. The custom implementation also includes the numerical stability trick of subtracting the maximum value before exponentiation.\n",
        "\n"
      ],
      "metadata": {
        "id": "-mM8ztrZqVrq"
      }
    },
    {
      "cell_type": "markdown",
      "source": [
        "Modern NLP architectures like BERT, GPT, and T5 use softmax in multiple components:\n",
        "\n",
        "- In attention mechanisms to determine how much focus to place on different parts of the input\n",
        "- In the final classification layer for tasks like sentiment analysis or document classification\n",
        "\n",
        "Variational Autoencoders (VAEs) and certain Generative Adversarial Networks (GANs) use softmax in their discriminator components or for categorical latent variable modeling."
      ],
      "metadata": {
        "id": "aZJB-Z7WqdMd"
      }
    },
    {
      "cell_type": "markdown",
      "source": [
        "## Softmax vs Sigmoid Activation Function\n",
        "\n",
        "The sigmoid function, defined as $σ(x) = 1/(1+e^(-x))$, transforms a single real number into a value between 0 and 1. In contrast, the softmax activation function operates on a vector of numbers, converting them into a probability distribution.\n",
        "\n",
        "Here are the fundamental differences between these two activation functions:\n",
        "\n",
        "__Input and output dimensions__\n",
        "- Sigmoid: Takes a single scalar input and produces a single scalar output between 0 and 1.\n",
        "- Softmax: Takes a vector of n inputs and produces a vector of n outputs that sum to 1.\n",
        "\n",
        "__Probability interpretation__\n",
        "Sigmoid: Output represents the probability of a single binary event (e.g., \"Is this email spam?\").\n",
        "Softmax: Outputs represent probabilities across multiple mutually exclusive classes (e.g., \"Which digit from 0-9 is this?\").\n",
        "\n",
        "__Independence of outputs__\n",
        "- Sigmoid: When used across multiple neurons, each output is independent of others. Multiple outputs can all be high or all be low.\n",
        "- Softmax: Outputs are interdependent—if one probability increases, others must decrease to maintain a sum of 1.\n",
        "\n",
        "\n",
        "## Mathematical relationship\n",
        "\n",
        "Interestingly, the sigmoid function is actually a special case of the softmax activation function when there are only two classes. This is why sigmoid is often called \"binary softmax.\"\n",
        "\n",
        "\n",
        "## When to use softmax vs when to use sigmoid\n",
        "\n",
        "Choosing the right activation function is crucial for ensuring a neural network outputs meaningful predictions, and the decision between softmax and sigmoid depends on the nature of the classification task.\n",
        "\n",
        "Use sigmoid when:\n",
        "\n",
        "- Solving binary classification problems (two classes)\n",
        "- Each output needs to be interpreted independently\n",
        "- Implementing multi-label classification where an instance can belong to multiple classes simultaneously\n",
        "- Creating attention mechanisms or gates in recurrent neural networks\n",
        "\n",
        "Use softmax when:\n",
        "\n",
        "- Dealing with multi-class classification problems (more than two classes)\n",
        "- Classes are mutually exclusive (an input belongs to exactly one class)\n",
        "- You need a proper probability distribution across all possible outcomes\n",
        "- Implementing the final layer of most image classification networks\n",
        "\n",
        "| Feature    | Sigmoid   | Softmax |\n",
        "| ---------- | --------------- | -------------- |\n",
        "|  Input | Single scalar | Vector of values  |\n",
        "|  Output range | Between 0 and 1 | Between 0 and 1, summing to 1  |\n",
        "|  Use case | Binary classification | Multi-class classification  |\n",
        "|  Output Interpretation | Independent probability | Probability distribution  |\n",
        "|  Multiple Outputs | Can all be high or can all be low | Constrained to sum to 1  |\n",
        "|  Gradients | Can suffer from vanishing gradient | Less prone to vanishing gradient issues  |\n",
        "\n",
        "\n",
        "\n",
        "\n",
        "\n",
        "Source: https://www.datacamp.com/tutorial/softmax-activation-function-in-python"
      ],
      "metadata": {
        "id": "Mltm7TQcqmWN"
      }
    }
  ]
}