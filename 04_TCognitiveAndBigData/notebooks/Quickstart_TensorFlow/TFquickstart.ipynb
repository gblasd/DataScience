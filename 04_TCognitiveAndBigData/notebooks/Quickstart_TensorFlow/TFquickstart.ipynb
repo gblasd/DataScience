version https://git-lfs.github.com/spec/v1
oid sha256:05ab95a3ca817bf499139960038983de418d74e98c9ae828673ddae216fc2310
size 12163
