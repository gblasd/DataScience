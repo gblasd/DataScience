{
  "nbformat": 4,
  "nbformat_minor": 0,
  "metadata": {
    "colab": {
      "provenance": [],
      "authorship_tag": "ABX9TyNs1xGVDWjBQwnsVtnLSGeX",
      "include_colab_link": true
    },
    "kernelspec": {
      "name": "python3",
      "display_name": "Python 3"
    },
    "language_info": {
      "name": "python"
    }
  },
  "cells": [
    {
      "cell_type": "markdown",
      "metadata": {
        "id": "view-in-github",
        "colab_type": "text"
      },
      "source": [
        "<a href=\"https://colab.research.google.com/github/gblasd/DataScience/blob/BDCC/04_TCognitiveAndBigData/notebooks/TFquickstart.ipynb\" target=\"_parent\"><img src=\"https://colab.research.google.com/assets/colab-badge.svg\" alt=\"Open In Colab\"/></a>"
      ]
    },
    {
      "cell_type": "markdown",
      "source": [
        "## Set up TensorFlow"
      ],
      "metadata": {
        "id": "i8-ga6icCAao"
      }
    },
    {
      "cell_type": "code",
      "execution_count": 3,
      "metadata": {
        "colab": {
          "base_uri": "https://localhost:8080/"
        },
        "id": "4dSczIIeAV_0",
        "outputId": "e444bf15-83ea-4627-eedd-2454a14e53b1"
      },
      "outputs": [
        {
          "output_type": "stream",
          "name": "stdout",
          "text": [
            "TensorFlow version:  2.19.0\n"
          ]
        }
      ],
      "source": [
        "import tensorflow as tf\n",
        "print(\"TensorFlow version: \", tf.__version__)"
      ]
    },
    {
      "cell_type": "markdown",
      "source": [
        "## Load a dataset"
      ],
      "metadata": {
        "id": "wZ13o9_zCHNr"
      }
    },
    {
      "cell_type": "code",
      "source": [
        "# Load and prepare the MNIST dataset\n",
        "mnist = tf.keras.datasets.mnist\n",
        "\n",
        "# Split data\n",
        "(x_train, y_train), (x_test, y_test) = mnist.load_data()\n",
        "\n",
        "# The pixel values of the images range from 0 through 255.\n",
        "x_train, x_test = x_train / 255.0, x_test / 255.0"
      ],
      "metadata": {
        "colab": {
          "base_uri": "https://localhost:8080/"
        },
        "id": "-Im8_817CIfn",
        "outputId": "6cac344e-08f6-4701-ed99-115a955ecece"
      },
      "execution_count": 4,
      "outputs": [
        {
          "output_type": "stream",
          "name": "stdout",
          "text": [
            "Downloading data from https://storage.googleapis.com/tensorflow/tf-keras-datasets/mnist.npz\n",
            "\u001b[1m11490434/11490434\u001b[0m \u001b[32m━━━━━━━━━━━━━━━━━━━━\u001b[0m\u001b[37m\u001b[0m \u001b[1m0s\u001b[0m 0us/step\n"
          ]
        }
      ]
    },
    {
      "cell_type": "markdown",
      "source": [
        "## Build a machine learning model"
      ],
      "metadata": {
        "id": "S-E6uRvoCOGN"
      }
    },
    {
      "cell_type": "code",
      "source": [
        "# Sequential: stacking layers, one input tensor and one output tensor\n",
        "model = tf.keras.models.Sequential([\n",
        "  tf.keras.layers.Flatten(input_shape=(28, 28)),\n",
        "  tf.keras.layers.Dense(128, activation='relu'),\n",
        "  tf.keras.layers.Dropout(0.2),\n",
        "  tf.keras.layers.Dense(10)\n",
        "])"
      ],
      "metadata": {
        "colab": {
          "base_uri": "https://localhost:8080/"
        },
        "id": "1zA9Y7g3CQnm",
        "outputId": "21279ab4-24c8-43a4-a8e4-ed4e5394886e"
      },
      "execution_count": 5,
      "outputs": [
        {
          "output_type": "stream",
          "name": "stderr",
          "text": [
            "/usr/local/lib/python3.12/dist-packages/keras/src/layers/reshaping/flatten.py:37: UserWarning: Do not pass an `input_shape`/`input_dim` argument to a layer. When using Sequential models, prefer using an `Input(shape)` object as the first layer in the model instead.\n",
            "  super().__init__(**kwargs)\n"
          ]
        }
      ]
    },
    {
      "cell_type": "code",
      "source": [
        "# The model returns a vector of logits and probabilities for each class\n",
        "predictions = model(x_train[:1]).numpy()\n",
        "predictions"
      ],
      "metadata": {
        "colab": {
          "base_uri": "https://localhost:8080/"
        },
        "id": "tiwor4rqGJiC",
        "outputId": "88856041-b376-44f5-df07-076eed19ef74"
      },
      "execution_count": 6,
      "outputs": [
        {
          "output_type": "execute_result",
          "data": {
            "text/plain": [
              "array([[-0.40692136,  0.27650103, -0.3272961 ,  0.5678088 , -0.53139126,\n",
              "         0.6194774 ,  0.31845894,  0.16381551,  0.3356946 ,  0.30921638]],\n",
              "      dtype=float32)"
            ]
          },
          "metadata": {},
          "execution_count": 6
        }
      ]
    },
    {
      "cell_type": "code",
      "source": [
        "# Converts logits to probabilities for each class\n",
        "tf.nn.softmax(predictions).numpy()"
      ],
      "metadata": {
        "colab": {
          "base_uri": "https://localhost:8080/"
        },
        "id": "xvIUXP16HqJP",
        "outputId": "71a92eb1-185a-4704-ef61-9c8376f957e8"
      },
      "execution_count": 7,
      "outputs": [
        {
          "output_type": "execute_result",
          "data": {
            "text/plain": [
              "array([[0.05443371, 0.10781386, 0.05894525, 0.14427394, 0.04806305,\n",
              "        0.15192431, 0.11243372, 0.09632429, 0.1143884 , 0.11139935]],\n",
              "      dtype=float32)"
            ]
          },
          "metadata": {},
          "execution_count": 7
        }
      ]
    },
    {
      "cell_type": "code",
      "source": [
        "# Define a loss function for training\n",
        "loss_fn = tf.keras.losses.SparseCategoricalCrossentropy(from_logits=True)\n",
        "loss_fn(y_train[:1], predictions).numpy()"
      ],
      "metadata": {
        "id": "pc0m0Li6IUrx",
        "colab": {
          "base_uri": "https://localhost:8080/"
        },
        "outputId": "14131e37-7595-40a9-a5e6-a33ebd03d77c"
      },
      "execution_count": 8,
      "outputs": [
        {
          "output_type": "execute_result",
          "data": {
            "text/plain": [
              "np.float32(1.8843728)"
            ]
          },
          "metadata": {},
          "execution_count": 8
        }
      ]
    },
    {
      "cell_type": "code",
      "source": [
        "# configure and compile the model\n",
        "model.compile(\n",
        "    optimizer='adam',\n",
        "    loss=loss_fn,\n",
        "    metrics=['accuracy']\n",
        "    )"
      ],
      "metadata": {
        "id": "UVy6KhBZQmUH"
      },
      "execution_count": 9,
      "outputs": []
    },
    {
      "cell_type": "markdown",
      "source": [
        "## Train and evaluate the model"
      ],
      "metadata": {
        "id": "1JXvluOiQ3Ll"
      }
    },
    {
      "cell_type": "code",
      "source": [
        "# Adjust model parameters\n",
        "model.fit(x_train, y_train, epochs=5)"
      ],
      "metadata": {
        "id": "UxaMwkvkQ8Py",
        "colab": {
          "base_uri": "https://localhost:8080/"
        },
        "outputId": "08677ca2-065b-444e-be5b-ba19fe12c015"
      },
      "execution_count": 10,
      "outputs": [
        {
          "output_type": "stream",
          "name": "stdout",
          "text": [
            "Epoch 1/5\n",
            "\u001b[1m1875/1875\u001b[0m \u001b[32m━━━━━━━━━━━━━━━━━━━━\u001b[0m\u001b[37m\u001b[0m \u001b[1m7s\u001b[0m 3ms/step - accuracy: 0.8576 - loss: 0.4809\n",
            "Epoch 2/5\n",
            "\u001b[1m1875/1875\u001b[0m \u001b[32m━━━━━━━━━━━━━━━━━━━━\u001b[0m\u001b[37m\u001b[0m \u001b[1m8s\u001b[0m 4ms/step - accuracy: 0.9558 - loss: 0.1500\n",
            "Epoch 3/5\n",
            "\u001b[1m1875/1875\u001b[0m \u001b[32m━━━━━━━━━━━━━━━━━━━━\u001b[0m\u001b[37m\u001b[0m \u001b[1m6s\u001b[0m 3ms/step - accuracy: 0.9672 - loss: 0.1079\n",
            "Epoch 4/5\n",
            "\u001b[1m1875/1875\u001b[0m \u001b[32m━━━━━━━━━━━━━━━━━━━━\u001b[0m\u001b[37m\u001b[0m \u001b[1m10s\u001b[0m 3ms/step - accuracy: 0.9740 - loss: 0.0825\n",
            "Epoch 5/5\n",
            "\u001b[1m1875/1875\u001b[0m \u001b[32m━━━━━━━━━━━━━━━━━━━━\u001b[0m\u001b[37m\u001b[0m \u001b[1m7s\u001b[0m 4ms/step - accuracy: 0.9769 - loss: 0.0728\n"
          ]
        },
        {
          "output_type": "execute_result",
          "data": {
            "text/plain": [
              "<keras.src.callbacks.history.History at 0x7afa9d8ba480>"
            ]
          },
          "metadata": {},
          "execution_count": 10
        }
      ]
    },
    {
      "cell_type": "code",
      "source": [
        "# Checks the model's performance\n",
        "model.evaluate(x_test, y_test, verbose=2)"
      ],
      "metadata": {
        "id": "6NCOO88JRFdV",
        "colab": {
          "base_uri": "https://localhost:8080/"
        },
        "outputId": "7b18fe71-6291-42d8-e933-08781046abeb"
      },
      "execution_count": 11,
      "outputs": [
        {
          "output_type": "stream",
          "name": "stdout",
          "text": [
            "313/313 - 1s - 2ms/step - accuracy: 0.9787 - loss: 0.0708\n"
          ]
        },
        {
          "output_type": "execute_result",
          "data": {
            "text/plain": [
              "[0.07080569863319397, 0.9786999821662903]"
            ]
          },
          "metadata": {},
          "execution_count": 11
        }
      ]
    },
    {
      "cell_type": "code",
      "source": [
        "# Return a probability: wrap the trained model and attach the softmax\n",
        "probability_model = tf.keras.Sequential([\n",
        "  model,\n",
        "  tf.keras.layers.Softmax()\n",
        "])\n",
        "\n",
        "# Call the model\n",
        "probability_model(x_test[:5])"
      ],
      "metadata": {
        "id": "StUGnFBqROUZ",
        "colab": {
          "base_uri": "https://localhost:8080/"
        },
        "outputId": "826ffc6e-335e-44a9-fe7e-579f08712322"
      },
      "execution_count": 12,
      "outputs": [
        {
          "output_type": "execute_result",
          "data": {
            "text/plain": [
              "<tf.Tensor: shape=(5, 10), dtype=float32, numpy=\n",
              "array([[4.21628599e-08, 4.76671680e-09, 5.09278652e-06, 2.67080250e-05,\n",
              "        2.39957949e-11, 2.04102228e-08, 1.09854205e-12, 9.99965310e-01,\n",
              "        6.29368984e-08, 2.77042682e-06],\n",
              "       [1.13358041e-07, 1.19071294e-04, 9.99859214e-01, 1.88740723e-05,\n",
              "        7.87536930e-15, 9.17839458e-08, 1.59127698e-08, 1.73305557e-13,\n",
              "        2.61065611e-06, 1.66325829e-14],\n",
              "       [7.68158372e-07, 9.88448203e-01, 2.21369695e-03, 7.42217162e-05,\n",
              "        1.39952041e-04, 4.09049317e-05, 8.71008961e-05, 7.57064763e-03,\n",
              "        1.42035424e-03, 4.28610701e-06],\n",
              "       [9.99357164e-01, 4.42608687e-08, 1.45195518e-04, 5.71639384e-06,\n",
              "        2.53518829e-06, 2.68639906e-06, 3.41034000e-04, 9.98272153e-05,\n",
              "        6.99333285e-08, 4.58227223e-05],\n",
              "       [2.33093601e-06, 1.74446207e-10, 2.17992283e-06, 1.06434591e-07,\n",
              "        9.89594102e-01, 7.72037595e-07, 2.06222558e-06, 3.49553557e-05,\n",
              "        1.09552317e-07, 1.03632985e-02]], dtype=float32)>"
            ]
          },
          "metadata": {},
          "execution_count": 12
        }
      ]
    },
    {
      "cell_type": "markdown",
      "source": [
        "https://www.tensorflow.org/tutorials/quickstart/beginner"
      ],
      "metadata": {
        "id": "qRQC-381TvJU"
      }
    }
  ]
}