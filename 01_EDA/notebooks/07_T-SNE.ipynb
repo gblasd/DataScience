{
 "cells": [
  {
   "cell_type": "markdown",
   "metadata": {},
   "source": [
    "## T-SNE"
   ]
  },
  {
   "cell_type": "code",
   "execution_count": 1,
   "metadata": {},
   "outputs": [],
   "source": [
    "import numpy as np\n",
    "import pandas as pd\n",
    "import matplotlib.pyplot as plt\n",
    "from sklearn import datasets\n",
    "from sklearn.manifold import TSNE"
   ]
  },
  {
   "cell_type": "code",
   "execution_count": 13,
   "metadata": {},
   "outputs": [],
   "source": [
    "%config InlineBackend.figure_format = 'retina'"
   ]
  },
  {
   "cell_type": "code",
   "execution_count": 3,
   "metadata": {},
   "outputs": [
    {
     "data": {
      "text/plain": [
       "{'data': array([[5.1, 3.5, 1.4, 0.2],\n",
       "        [4.9, 3. , 1.4, 0.2],\n",
       "        [4.7, 3.2, 1.3, 0.2],\n",
       "        [4.6, 3.1, 1.5, 0.2],\n",
       "        [5. , 3.6, 1.4, 0.2],\n",
       "        [5.4, 3.9, 1.7, 0.4],\n",
       "        [4.6, 3.4, 1.4, 0.3],\n",
       "        [5. , 3.4, 1.5, 0.2],\n",
       "        [4.4, 2.9, 1.4, 0.2],\n",
       "        [4.9, 3.1, 1.5, 0.1],\n",
       "        [5.4, 3.7, 1.5, 0.2],\n",
       "        [4.8, 3.4, 1.6, 0.2],\n",
       "        [4.8, 3. , 1.4, 0.1],\n",
       "        [4.3, 3. , 1.1, 0.1],\n",
       "        [5.8, 4. , 1.2, 0.2],\n",
       "        [5.7, 4.4, 1.5, 0.4],\n",
       "        [5.4, 3.9, 1.3, 0.4],\n",
       "        [5.1, 3.5, 1.4, 0.3],\n",
       "        [5.7, 3.8, 1.7, 0.3],\n",
       "        [5.1, 3.8, 1.5, 0.3],\n",
       "        [5.4, 3.4, 1.7, 0.2],\n",
       "        [5.1, 3.7, 1.5, 0.4],\n",
       "        [4.6, 3.6, 1. , 0.2],\n",
       "        [5.1, 3.3, 1.7, 0.5],\n",
       "        [4.8, 3.4, 1.9, 0.2],\n",
       "        [5. , 3. , 1.6, 0.2],\n",
       "        [5. , 3.4, 1.6, 0.4],\n",
       "        [5.2, 3.5, 1.5, 0.2],\n",
       "        [5.2, 3.4, 1.4, 0.2],\n",
       "        [4.7, 3.2, 1.6, 0.2],\n",
       "        [4.8, 3.1, 1.6, 0.2],\n",
       "        [5.4, 3.4, 1.5, 0.4],\n",
       "        [5.2, 4.1, 1.5, 0.1],\n",
       "        [5.5, 4.2, 1.4, 0.2],\n",
       "        [4.9, 3.1, 1.5, 0.2],\n",
       "        [5. , 3.2, 1.2, 0.2],\n",
       "        [5.5, 3.5, 1.3, 0.2],\n",
       "        [4.9, 3.6, 1.4, 0.1],\n",
       "        [4.4, 3. , 1.3, 0.2],\n",
       "        [5.1, 3.4, 1.5, 0.2],\n",
       "        [5. , 3.5, 1.3, 0.3],\n",
       "        [4.5, 2.3, 1.3, 0.3],\n",
       "        [4.4, 3.2, 1.3, 0.2],\n",
       "        [5. , 3.5, 1.6, 0.6],\n",
       "        [5.1, 3.8, 1.9, 0.4],\n",
       "        [4.8, 3. , 1.4, 0.3],\n",
       "        [5.1, 3.8, 1.6, 0.2],\n",
       "        [4.6, 3.2, 1.4, 0.2],\n",
       "        [5.3, 3.7, 1.5, 0.2],\n",
       "        [5. , 3.3, 1.4, 0.2],\n",
       "        [7. , 3.2, 4.7, 1.4],\n",
       "        [6.4, 3.2, 4.5, 1.5],\n",
       "        [6.9, 3.1, 4.9, 1.5],\n",
       "        [5.5, 2.3, 4. , 1.3],\n",
       "        [6.5, 2.8, 4.6, 1.5],\n",
       "        [5.7, 2.8, 4.5, 1.3],\n",
       "        [6.3, 3.3, 4.7, 1.6],\n",
       "        [4.9, 2.4, 3.3, 1. ],\n",
       "        [6.6, 2.9, 4.6, 1.3],\n",
       "        [5.2, 2.7, 3.9, 1.4],\n",
       "        [5. , 2. , 3.5, 1. ],\n",
       "        [5.9, 3. , 4.2, 1.5],\n",
       "        [6. , 2.2, 4. , 1. ],\n",
       "        [6.1, 2.9, 4.7, 1.4],\n",
       "        [5.6, 2.9, 3.6, 1.3],\n",
       "        [6.7, 3.1, 4.4, 1.4],\n",
       "        [5.6, 3. , 4.5, 1.5],\n",
       "        [5.8, 2.7, 4.1, 1. ],\n",
       "        [6.2, 2.2, 4.5, 1.5],\n",
       "        [5.6, 2.5, 3.9, 1.1],\n",
       "        [5.9, 3.2, 4.8, 1.8],\n",
       "        [6.1, 2.8, 4. , 1.3],\n",
       "        [6.3, 2.5, 4.9, 1.5],\n",
       "        [6.1, 2.8, 4.7, 1.2],\n",
       "        [6.4, 2.9, 4.3, 1.3],\n",
       "        [6.6, 3. , 4.4, 1.4],\n",
       "        [6.8, 2.8, 4.8, 1.4],\n",
       "        [6.7, 3. , 5. , 1.7],\n",
       "        [6. , 2.9, 4.5, 1.5],\n",
       "        [5.7, 2.6, 3.5, 1. ],\n",
       "        [5.5, 2.4, 3.8, 1.1],\n",
       "        [5.5, 2.4, 3.7, 1. ],\n",
       "        [5.8, 2.7, 3.9, 1.2],\n",
       "        [6. , 2.7, 5.1, 1.6],\n",
       "        [5.4, 3. , 4.5, 1.5],\n",
       "        [6. , 3.4, 4.5, 1.6],\n",
       "        [6.7, 3.1, 4.7, 1.5],\n",
       "        [6.3, 2.3, 4.4, 1.3],\n",
       "        [5.6, 3. , 4.1, 1.3],\n",
       "        [5.5, 2.5, 4. , 1.3],\n",
       "        [5.5, 2.6, 4.4, 1.2],\n",
       "        [6.1, 3. , 4.6, 1.4],\n",
       "        [5.8, 2.6, 4. , 1.2],\n",
       "        [5. , 2.3, 3.3, 1. ],\n",
       "        [5.6, 2.7, 4.2, 1.3],\n",
       "        [5.7, 3. , 4.2, 1.2],\n",
       "        [5.7, 2.9, 4.2, 1.3],\n",
       "        [6.2, 2.9, 4.3, 1.3],\n",
       "        [5.1, 2.5, 3. , 1.1],\n",
       "        [5.7, 2.8, 4.1, 1.3],\n",
       "        [6.3, 3.3, 6. , 2.5],\n",
       "        [5.8, 2.7, 5.1, 1.9],\n",
       "        [7.1, 3. , 5.9, 2.1],\n",
       "        [6.3, 2.9, 5.6, 1.8],\n",
       "        [6.5, 3. , 5.8, 2.2],\n",
       "        [7.6, 3. , 6.6, 2.1],\n",
       "        [4.9, 2.5, 4.5, 1.7],\n",
       "        [7.3, 2.9, 6.3, 1.8],\n",
       "        [6.7, 2.5, 5.8, 1.8],\n",
       "        [7.2, 3.6, 6.1, 2.5],\n",
       "        [6.5, 3.2, 5.1, 2. ],\n",
       "        [6.4, 2.7, 5.3, 1.9],\n",
       "        [6.8, 3. , 5.5, 2.1],\n",
       "        [5.7, 2.5, 5. , 2. ],\n",
       "        [5.8, 2.8, 5.1, 2.4],\n",
       "        [6.4, 3.2, 5.3, 2.3],\n",
       "        [6.5, 3. , 5.5, 1.8],\n",
       "        [7.7, 3.8, 6.7, 2.2],\n",
       "        [7.7, 2.6, 6.9, 2.3],\n",
       "        [6. , 2.2, 5. , 1.5],\n",
       "        [6.9, 3.2, 5.7, 2.3],\n",
       "        [5.6, 2.8, 4.9, 2. ],\n",
       "        [7.7, 2.8, 6.7, 2. ],\n",
       "        [6.3, 2.7, 4.9, 1.8],\n",
       "        [6.7, 3.3, 5.7, 2.1],\n",
       "        [7.2, 3.2, 6. , 1.8],\n",
       "        [6.2, 2.8, 4.8, 1.8],\n",
       "        [6.1, 3. , 4.9, 1.8],\n",
       "        [6.4, 2.8, 5.6, 2.1],\n",
       "        [7.2, 3. , 5.8, 1.6],\n",
       "        [7.4, 2.8, 6.1, 1.9],\n",
       "        [7.9, 3.8, 6.4, 2. ],\n",
       "        [6.4, 2.8, 5.6, 2.2],\n",
       "        [6.3, 2.8, 5.1, 1.5],\n",
       "        [6.1, 2.6, 5.6, 1.4],\n",
       "        [7.7, 3. , 6.1, 2.3],\n",
       "        [6.3, 3.4, 5.6, 2.4],\n",
       "        [6.4, 3.1, 5.5, 1.8],\n",
       "        [6. , 3. , 4.8, 1.8],\n",
       "        [6.9, 3.1, 5.4, 2.1],\n",
       "        [6.7, 3.1, 5.6, 2.4],\n",
       "        [6.9, 3.1, 5.1, 2.3],\n",
       "        [5.8, 2.7, 5.1, 1.9],\n",
       "        [6.8, 3.2, 5.9, 2.3],\n",
       "        [6.7, 3.3, 5.7, 2.5],\n",
       "        [6.7, 3. , 5.2, 2.3],\n",
       "        [6.3, 2.5, 5. , 1.9],\n",
       "        [6.5, 3. , 5.2, 2. ],\n",
       "        [6.2, 3.4, 5.4, 2.3],\n",
       "        [5.9, 3. , 5.1, 1.8]]),\n",
       " 'target': array([0, 0, 0, 0, 0, 0, 0, 0, 0, 0, 0, 0, 0, 0, 0, 0, 0, 0, 0, 0, 0, 0,\n",
       "        0, 0, 0, 0, 0, 0, 0, 0, 0, 0, 0, 0, 0, 0, 0, 0, 0, 0, 0, 0, 0, 0,\n",
       "        0, 0, 0, 0, 0, 0, 1, 1, 1, 1, 1, 1, 1, 1, 1, 1, 1, 1, 1, 1, 1, 1,\n",
       "        1, 1, 1, 1, 1, 1, 1, 1, 1, 1, 1, 1, 1, 1, 1, 1, 1, 1, 1, 1, 1, 1,\n",
       "        1, 1, 1, 1, 1, 1, 1, 1, 1, 1, 1, 1, 2, 2, 2, 2, 2, 2, 2, 2, 2, 2,\n",
       "        2, 2, 2, 2, 2, 2, 2, 2, 2, 2, 2, 2, 2, 2, 2, 2, 2, 2, 2, 2, 2, 2,\n",
       "        2, 2, 2, 2, 2, 2, 2, 2, 2, 2, 2, 2, 2, 2, 2, 2, 2, 2]),\n",
       " 'frame': None,\n",
       " 'target_names': array(['setosa', 'versicolor', 'virginica'], dtype='<U10'),\n",
       " 'DESCR': '.. _iris_dataset:\\n\\nIris plants dataset\\n--------------------\\n\\n**Data Set Characteristics:**\\n\\n:Number of Instances: 150 (50 in each of three classes)\\n:Number of Attributes: 4 numeric, predictive attributes and the class\\n:Attribute Information:\\n    - sepal length in cm\\n    - sepal width in cm\\n    - petal length in cm\\n    - petal width in cm\\n    - class:\\n            - Iris-Setosa\\n            - Iris-Versicolour\\n            - Iris-Virginica\\n\\n:Summary Statistics:\\n\\n============== ==== ==== ======= ===== ====================\\n                Min  Max   Mean    SD   Class Correlation\\n============== ==== ==== ======= ===== ====================\\nsepal length:   4.3  7.9   5.84   0.83    0.7826\\nsepal width:    2.0  4.4   3.05   0.43   -0.4194\\npetal length:   1.0  6.9   3.76   1.76    0.9490  (high!)\\npetal width:    0.1  2.5   1.20   0.76    0.9565  (high!)\\n============== ==== ==== ======= ===== ====================\\n\\n:Missing Attribute Values: None\\n:Class Distribution: 33.3% for each of 3 classes.\\n:Creator: R.A. Fisher\\n:Donor: Michael Marshall (MARSHALL%PLU@io.arc.nasa.gov)\\n:Date: July, 1988\\n\\nThe famous Iris database, first used by Sir R.A. Fisher. The dataset is taken\\nfrom Fisher\\'s paper. Note that it\\'s the same as in R, but not as in the UCI\\nMachine Learning Repository, which has two wrong data points.\\n\\nThis is perhaps the best known database to be found in the\\npattern recognition literature.  Fisher\\'s paper is a classic in the field and\\nis referenced frequently to this day.  (See Duda & Hart, for example.)  The\\ndata set contains 3 classes of 50 instances each, where each class refers to a\\ntype of iris plant.  One class is linearly separable from the other 2; the\\nlatter are NOT linearly separable from each other.\\n\\n.. dropdown:: References\\n\\n  - Fisher, R.A. \"The use of multiple measurements in taxonomic problems\"\\n    Annual Eugenics, 7, Part II, 179-188 (1936); also in \"Contributions to\\n    Mathematical Statistics\" (John Wiley, NY, 1950).\\n  - Duda, R.O., & Hart, P.E. (1973) Pattern Classification and Scene Analysis.\\n    (Q327.D83) John Wiley & Sons.  ISBN 0-471-22361-1.  See page 218.\\n  - Dasarathy, B.V. (1980) \"Nosing Around the Neighborhood: A New System\\n    Structure and Classification Rule for Recognition in Partially Exposed\\n    Environments\".  IEEE Transactions on Pattern Analysis and Machine\\n    Intelligence, Vol. PAMI-2, No. 1, 67-71.\\n  - Gates, G.W. (1972) \"The Reduced Nearest Neighbor Rule\".  IEEE Transactions\\n    on Information Theory, May 1972, 431-433.\\n  - See also: 1988 MLC Proceedings, 54-64.  Cheeseman et al\"s AUTOCLASS II\\n    conceptual clustering system finds 3 classes in the data.\\n  - Many, many more ...\\n',\n",
       " 'feature_names': ['sepal length (cm)',\n",
       "  'sepal width (cm)',\n",
       "  'petal length (cm)',\n",
       "  'petal width (cm)'],\n",
       " 'filename': 'iris.csv',\n",
       " 'data_module': 'sklearn.datasets.data'}"
      ]
     },
     "execution_count": 3,
     "metadata": {},
     "output_type": "execute_result"
    }
   ],
   "source": [
    "# Caraga de datos de Iris\n",
    "data_iris = datasets.load_iris()\n",
    "data_iris"
   ]
  },
  {
   "cell_type": "code",
   "execution_count": 4,
   "metadata": {},
   "outputs": [],
   "source": [
    "X = data_iris.data # caracteristicas\n",
    "y = data_iris.target # etiquetas"
   ]
  },
  {
   "cell_type": "code",
   "execution_count": 6,
   "metadata": {},
   "outputs": [
    {
     "data": {
      "text/plain": [
       "array(['setosa', 'versicolor', 'virginica'], dtype='<U10')"
      ]
     },
     "execution_count": 6,
     "metadata": {},
     "output_type": "execute_result"
    }
   ],
   "source": [
    "target_names = data_iris.target_names\n",
    "target_names"
   ]
  },
  {
   "cell_type": "code",
   "execution_count": 7,
   "metadata": {},
   "outputs": [
    {
     "data": {
      "text/html": [
       "<style>#sk-container-id-1 {\n",
       "  /* Definition of color scheme common for light and dark mode */\n",
       "  --sklearn-color-text: #000;\n",
       "  --sklearn-color-text-muted: #666;\n",
       "  --sklearn-color-line: gray;\n",
       "  /* Definition of color scheme for unfitted estimators */\n",
       "  --sklearn-color-unfitted-level-0: #fff5e6;\n",
       "  --sklearn-color-unfitted-level-1: #f6e4d2;\n",
       "  --sklearn-color-unfitted-level-2: #ffe0b3;\n",
       "  --sklearn-color-unfitted-level-3: chocolate;\n",
       "  /* Definition of color scheme for fitted estimators */\n",
       "  --sklearn-color-fitted-level-0: #f0f8ff;\n",
       "  --sklearn-color-fitted-level-1: #d4ebff;\n",
       "  --sklearn-color-fitted-level-2: #b3dbfd;\n",
       "  --sklearn-color-fitted-level-3: cornflowerblue;\n",
       "\n",
       "  /* Specific color for light theme */\n",
       "  --sklearn-color-text-on-default-background: var(--sg-text-color, var(--theme-code-foreground, var(--jp-content-font-color1, black)));\n",
       "  --sklearn-color-background: var(--sg-background-color, var(--theme-background, var(--jp-layout-color0, white)));\n",
       "  --sklearn-color-border-box: var(--sg-text-color, var(--theme-code-foreground, var(--jp-content-font-color1, black)));\n",
       "  --sklearn-color-icon: #696969;\n",
       "\n",
       "  @media (prefers-color-scheme: dark) {\n",
       "    /* Redefinition of color scheme for dark theme */\n",
       "    --sklearn-color-text-on-default-background: var(--sg-text-color, var(--theme-code-foreground, var(--jp-content-font-color1, white)));\n",
       "    --sklearn-color-background: var(--sg-background-color, var(--theme-background, var(--jp-layout-color0, #111)));\n",
       "    --sklearn-color-border-box: var(--sg-text-color, var(--theme-code-foreground, var(--jp-content-font-color1, white)));\n",
       "    --sklearn-color-icon: #878787;\n",
       "  }\n",
       "}\n",
       "\n",
       "#sk-container-id-1 {\n",
       "  color: var(--sklearn-color-text);\n",
       "}\n",
       "\n",
       "#sk-container-id-1 pre {\n",
       "  padding: 0;\n",
       "}\n",
       "\n",
       "#sk-container-id-1 input.sk-hidden--visually {\n",
       "  border: 0;\n",
       "  clip: rect(1px 1px 1px 1px);\n",
       "  clip: rect(1px, 1px, 1px, 1px);\n",
       "  height: 1px;\n",
       "  margin: -1px;\n",
       "  overflow: hidden;\n",
       "  padding: 0;\n",
       "  position: absolute;\n",
       "  width: 1px;\n",
       "}\n",
       "\n",
       "#sk-container-id-1 div.sk-dashed-wrapped {\n",
       "  border: 1px dashed var(--sklearn-color-line);\n",
       "  margin: 0 0.4em 0.5em 0.4em;\n",
       "  box-sizing: border-box;\n",
       "  padding-bottom: 0.4em;\n",
       "  background-color: var(--sklearn-color-background);\n",
       "}\n",
       "\n",
       "#sk-container-id-1 div.sk-container {\n",
       "  /* jupyter's `normalize.less` sets `[hidden] { display: none; }`\n",
       "     but bootstrap.min.css set `[hidden] { display: none !important; }`\n",
       "     so we also need the `!important` here to be able to override the\n",
       "     default hidden behavior on the sphinx rendered scikit-learn.org.\n",
       "     See: https://github.com/scikit-learn/scikit-learn/issues/21755 */\n",
       "  display: inline-block !important;\n",
       "  position: relative;\n",
       "}\n",
       "\n",
       "#sk-container-id-1 div.sk-text-repr-fallback {\n",
       "  display: none;\n",
       "}\n",
       "\n",
       "div.sk-parallel-item,\n",
       "div.sk-serial,\n",
       "div.sk-item {\n",
       "  /* draw centered vertical line to link estimators */\n",
       "  background-image: linear-gradient(var(--sklearn-color-text-on-default-background), var(--sklearn-color-text-on-default-background));\n",
       "  background-size: 2px 100%;\n",
       "  background-repeat: no-repeat;\n",
       "  background-position: center center;\n",
       "}\n",
       "\n",
       "/* Parallel-specific style estimator block */\n",
       "\n",
       "#sk-container-id-1 div.sk-parallel-item::after {\n",
       "  content: \"\";\n",
       "  width: 100%;\n",
       "  border-bottom: 2px solid var(--sklearn-color-text-on-default-background);\n",
       "  flex-grow: 1;\n",
       "}\n",
       "\n",
       "#sk-container-id-1 div.sk-parallel {\n",
       "  display: flex;\n",
       "  align-items: stretch;\n",
       "  justify-content: center;\n",
       "  background-color: var(--sklearn-color-background);\n",
       "  position: relative;\n",
       "}\n",
       "\n",
       "#sk-container-id-1 div.sk-parallel-item {\n",
       "  display: flex;\n",
       "  flex-direction: column;\n",
       "}\n",
       "\n",
       "#sk-container-id-1 div.sk-parallel-item:first-child::after {\n",
       "  align-self: flex-end;\n",
       "  width: 50%;\n",
       "}\n",
       "\n",
       "#sk-container-id-1 div.sk-parallel-item:last-child::after {\n",
       "  align-self: flex-start;\n",
       "  width: 50%;\n",
       "}\n",
       "\n",
       "#sk-container-id-1 div.sk-parallel-item:only-child::after {\n",
       "  width: 0;\n",
       "}\n",
       "\n",
       "/* Serial-specific style estimator block */\n",
       "\n",
       "#sk-container-id-1 div.sk-serial {\n",
       "  display: flex;\n",
       "  flex-direction: column;\n",
       "  align-items: center;\n",
       "  background-color: var(--sklearn-color-background);\n",
       "  padding-right: 1em;\n",
       "  padding-left: 1em;\n",
       "}\n",
       "\n",
       "\n",
       "/* Toggleable style: style used for estimator/Pipeline/ColumnTransformer box that is\n",
       "clickable and can be expanded/collapsed.\n",
       "- Pipeline and ColumnTransformer use this feature and define the default style\n",
       "- Estimators will overwrite some part of the style using the `sk-estimator` class\n",
       "*/\n",
       "\n",
       "/* Pipeline and ColumnTransformer style (default) */\n",
       "\n",
       "#sk-container-id-1 div.sk-toggleable {\n",
       "  /* Default theme specific background. It is overwritten whether we have a\n",
       "  specific estimator or a Pipeline/ColumnTransformer */\n",
       "  background-color: var(--sklearn-color-background);\n",
       "}\n",
       "\n",
       "/* Toggleable label */\n",
       "#sk-container-id-1 label.sk-toggleable__label {\n",
       "  cursor: pointer;\n",
       "  display: flex;\n",
       "  width: 100%;\n",
       "  margin-bottom: 0;\n",
       "  padding: 0.5em;\n",
       "  box-sizing: border-box;\n",
       "  text-align: center;\n",
       "  align-items: start;\n",
       "  justify-content: space-between;\n",
       "  gap: 0.5em;\n",
       "}\n",
       "\n",
       "#sk-container-id-1 label.sk-toggleable__label .caption {\n",
       "  font-size: 0.6rem;\n",
       "  font-weight: lighter;\n",
       "  color: var(--sklearn-color-text-muted);\n",
       "}\n",
       "\n",
       "#sk-container-id-1 label.sk-toggleable__label-arrow:before {\n",
       "  /* Arrow on the left of the label */\n",
       "  content: \"▸\";\n",
       "  float: left;\n",
       "  margin-right: 0.25em;\n",
       "  color: var(--sklearn-color-icon);\n",
       "}\n",
       "\n",
       "#sk-container-id-1 label.sk-toggleable__label-arrow:hover:before {\n",
       "  color: var(--sklearn-color-text);\n",
       "}\n",
       "\n",
       "/* Toggleable content - dropdown */\n",
       "\n",
       "#sk-container-id-1 div.sk-toggleable__content {\n",
       "  max-height: 0;\n",
       "  max-width: 0;\n",
       "  overflow: hidden;\n",
       "  text-align: left;\n",
       "  /* unfitted */\n",
       "  background-color: var(--sklearn-color-unfitted-level-0);\n",
       "}\n",
       "\n",
       "#sk-container-id-1 div.sk-toggleable__content.fitted {\n",
       "  /* fitted */\n",
       "  background-color: var(--sklearn-color-fitted-level-0);\n",
       "}\n",
       "\n",
       "#sk-container-id-1 div.sk-toggleable__content pre {\n",
       "  margin: 0.2em;\n",
       "  border-radius: 0.25em;\n",
       "  color: var(--sklearn-color-text);\n",
       "  /* unfitted */\n",
       "  background-color: var(--sklearn-color-unfitted-level-0);\n",
       "}\n",
       "\n",
       "#sk-container-id-1 div.sk-toggleable__content.fitted pre {\n",
       "  /* unfitted */\n",
       "  background-color: var(--sklearn-color-fitted-level-0);\n",
       "}\n",
       "\n",
       "#sk-container-id-1 input.sk-toggleable__control:checked~div.sk-toggleable__content {\n",
       "  /* Expand drop-down */\n",
       "  max-height: 200px;\n",
       "  max-width: 100%;\n",
       "  overflow: auto;\n",
       "}\n",
       "\n",
       "#sk-container-id-1 input.sk-toggleable__control:checked~label.sk-toggleable__label-arrow:before {\n",
       "  content: \"▾\";\n",
       "}\n",
       "\n",
       "/* Pipeline/ColumnTransformer-specific style */\n",
       "\n",
       "#sk-container-id-1 div.sk-label input.sk-toggleable__control:checked~label.sk-toggleable__label {\n",
       "  color: var(--sklearn-color-text);\n",
       "  background-color: var(--sklearn-color-unfitted-level-2);\n",
       "}\n",
       "\n",
       "#sk-container-id-1 div.sk-label.fitted input.sk-toggleable__control:checked~label.sk-toggleable__label {\n",
       "  background-color: var(--sklearn-color-fitted-level-2);\n",
       "}\n",
       "\n",
       "/* Estimator-specific style */\n",
       "\n",
       "/* Colorize estimator box */\n",
       "#sk-container-id-1 div.sk-estimator input.sk-toggleable__control:checked~label.sk-toggleable__label {\n",
       "  /* unfitted */\n",
       "  background-color: var(--sklearn-color-unfitted-level-2);\n",
       "}\n",
       "\n",
       "#sk-container-id-1 div.sk-estimator.fitted input.sk-toggleable__control:checked~label.sk-toggleable__label {\n",
       "  /* fitted */\n",
       "  background-color: var(--sklearn-color-fitted-level-2);\n",
       "}\n",
       "\n",
       "#sk-container-id-1 div.sk-label label.sk-toggleable__label,\n",
       "#sk-container-id-1 div.sk-label label {\n",
       "  /* The background is the default theme color */\n",
       "  color: var(--sklearn-color-text-on-default-background);\n",
       "}\n",
       "\n",
       "/* On hover, darken the color of the background */\n",
       "#sk-container-id-1 div.sk-label:hover label.sk-toggleable__label {\n",
       "  color: var(--sklearn-color-text);\n",
       "  background-color: var(--sklearn-color-unfitted-level-2);\n",
       "}\n",
       "\n",
       "/* Label box, darken color on hover, fitted */\n",
       "#sk-container-id-1 div.sk-label.fitted:hover label.sk-toggleable__label.fitted {\n",
       "  color: var(--sklearn-color-text);\n",
       "  background-color: var(--sklearn-color-fitted-level-2);\n",
       "}\n",
       "\n",
       "/* Estimator label */\n",
       "\n",
       "#sk-container-id-1 div.sk-label label {\n",
       "  font-family: monospace;\n",
       "  font-weight: bold;\n",
       "  display: inline-block;\n",
       "  line-height: 1.2em;\n",
       "}\n",
       "\n",
       "#sk-container-id-1 div.sk-label-container {\n",
       "  text-align: center;\n",
       "}\n",
       "\n",
       "/* Estimator-specific */\n",
       "#sk-container-id-1 div.sk-estimator {\n",
       "  font-family: monospace;\n",
       "  border: 1px dotted var(--sklearn-color-border-box);\n",
       "  border-radius: 0.25em;\n",
       "  box-sizing: border-box;\n",
       "  margin-bottom: 0.5em;\n",
       "  /* unfitted */\n",
       "  background-color: var(--sklearn-color-unfitted-level-0);\n",
       "}\n",
       "\n",
       "#sk-container-id-1 div.sk-estimator.fitted {\n",
       "  /* fitted */\n",
       "  background-color: var(--sklearn-color-fitted-level-0);\n",
       "}\n",
       "\n",
       "/* on hover */\n",
       "#sk-container-id-1 div.sk-estimator:hover {\n",
       "  /* unfitted */\n",
       "  background-color: var(--sklearn-color-unfitted-level-2);\n",
       "}\n",
       "\n",
       "#sk-container-id-1 div.sk-estimator.fitted:hover {\n",
       "  /* fitted */\n",
       "  background-color: var(--sklearn-color-fitted-level-2);\n",
       "}\n",
       "\n",
       "/* Specification for estimator info (e.g. \"i\" and \"?\") */\n",
       "\n",
       "/* Common style for \"i\" and \"?\" */\n",
       "\n",
       ".sk-estimator-doc-link,\n",
       "a:link.sk-estimator-doc-link,\n",
       "a:visited.sk-estimator-doc-link {\n",
       "  float: right;\n",
       "  font-size: smaller;\n",
       "  line-height: 1em;\n",
       "  font-family: monospace;\n",
       "  background-color: var(--sklearn-color-background);\n",
       "  border-radius: 1em;\n",
       "  height: 1em;\n",
       "  width: 1em;\n",
       "  text-decoration: none !important;\n",
       "  margin-left: 0.5em;\n",
       "  text-align: center;\n",
       "  /* unfitted */\n",
       "  border: var(--sklearn-color-unfitted-level-1) 1pt solid;\n",
       "  color: var(--sklearn-color-unfitted-level-1);\n",
       "}\n",
       "\n",
       ".sk-estimator-doc-link.fitted,\n",
       "a:link.sk-estimator-doc-link.fitted,\n",
       "a:visited.sk-estimator-doc-link.fitted {\n",
       "  /* fitted */\n",
       "  border: var(--sklearn-color-fitted-level-1) 1pt solid;\n",
       "  color: var(--sklearn-color-fitted-level-1);\n",
       "}\n",
       "\n",
       "/* On hover */\n",
       "div.sk-estimator:hover .sk-estimator-doc-link:hover,\n",
       ".sk-estimator-doc-link:hover,\n",
       "div.sk-label-container:hover .sk-estimator-doc-link:hover,\n",
       ".sk-estimator-doc-link:hover {\n",
       "  /* unfitted */\n",
       "  background-color: var(--sklearn-color-unfitted-level-3);\n",
       "  color: var(--sklearn-color-background);\n",
       "  text-decoration: none;\n",
       "}\n",
       "\n",
       "div.sk-estimator.fitted:hover .sk-estimator-doc-link.fitted:hover,\n",
       ".sk-estimator-doc-link.fitted:hover,\n",
       "div.sk-label-container:hover .sk-estimator-doc-link.fitted:hover,\n",
       ".sk-estimator-doc-link.fitted:hover {\n",
       "  /* fitted */\n",
       "  background-color: var(--sklearn-color-fitted-level-3);\n",
       "  color: var(--sklearn-color-background);\n",
       "  text-decoration: none;\n",
       "}\n",
       "\n",
       "/* Span, style for the box shown on hovering the info icon */\n",
       ".sk-estimator-doc-link span {\n",
       "  display: none;\n",
       "  z-index: 9999;\n",
       "  position: relative;\n",
       "  font-weight: normal;\n",
       "  right: .2ex;\n",
       "  padding: .5ex;\n",
       "  margin: .5ex;\n",
       "  width: min-content;\n",
       "  min-width: 20ex;\n",
       "  max-width: 50ex;\n",
       "  color: var(--sklearn-color-text);\n",
       "  box-shadow: 2pt 2pt 4pt #999;\n",
       "  /* unfitted */\n",
       "  background: var(--sklearn-color-unfitted-level-0);\n",
       "  border: .5pt solid var(--sklearn-color-unfitted-level-3);\n",
       "}\n",
       "\n",
       ".sk-estimator-doc-link.fitted span {\n",
       "  /* fitted */\n",
       "  background: var(--sklearn-color-fitted-level-0);\n",
       "  border: var(--sklearn-color-fitted-level-3);\n",
       "}\n",
       "\n",
       ".sk-estimator-doc-link:hover span {\n",
       "  display: block;\n",
       "}\n",
       "\n",
       "/* \"?\"-specific style due to the `<a>` HTML tag */\n",
       "\n",
       "#sk-container-id-1 a.estimator_doc_link {\n",
       "  float: right;\n",
       "  font-size: 1rem;\n",
       "  line-height: 1em;\n",
       "  font-family: monospace;\n",
       "  background-color: var(--sklearn-color-background);\n",
       "  border-radius: 1rem;\n",
       "  height: 1rem;\n",
       "  width: 1rem;\n",
       "  text-decoration: none;\n",
       "  /* unfitted */\n",
       "  color: var(--sklearn-color-unfitted-level-1);\n",
       "  border: var(--sklearn-color-unfitted-level-1) 1pt solid;\n",
       "}\n",
       "\n",
       "#sk-container-id-1 a.estimator_doc_link.fitted {\n",
       "  /* fitted */\n",
       "  border: var(--sklearn-color-fitted-level-1) 1pt solid;\n",
       "  color: var(--sklearn-color-fitted-level-1);\n",
       "}\n",
       "\n",
       "/* On hover */\n",
       "#sk-container-id-1 a.estimator_doc_link:hover {\n",
       "  /* unfitted */\n",
       "  background-color: var(--sklearn-color-unfitted-level-3);\n",
       "  color: var(--sklearn-color-background);\n",
       "  text-decoration: none;\n",
       "}\n",
       "\n",
       "#sk-container-id-1 a.estimator_doc_link.fitted:hover {\n",
       "  /* fitted */\n",
       "  background-color: var(--sklearn-color-fitted-level-3);\n",
       "}\n",
       "</style><div id=\"sk-container-id-1\" class=\"sk-top-container\"><div class=\"sk-text-repr-fallback\"><pre>TSNE(random_state=1999)</pre><b>In a Jupyter environment, please rerun this cell to show the HTML representation or trust the notebook. <br />On GitHub, the HTML representation is unable to render, please try loading this page with nbviewer.org.</b></div><div class=\"sk-container\" hidden><div class=\"sk-item\"><div class=\"sk-estimator  sk-toggleable\"><input class=\"sk-toggleable__control sk-hidden--visually\" id=\"sk-estimator-id-1\" type=\"checkbox\" checked><label for=\"sk-estimator-id-1\" class=\"sk-toggleable__label  sk-toggleable__label-arrow\"><div><div>TSNE</div></div><div><a class=\"sk-estimator-doc-link \" rel=\"noreferrer\" target=\"_blank\" href=\"https://scikit-learn.org/1.6/modules/generated/sklearn.manifold.TSNE.html\">?<span>Documentation for TSNE</span></a><span class=\"sk-estimator-doc-link \">i<span>Not fitted</span></span></div></label><div class=\"sk-toggleable__content \"><pre>TSNE(random_state=1999)</pre></div> </div></div></div></div>"
      ],
      "text/plain": [
       "TSNE(random_state=1999)"
      ]
     },
     "execution_count": 7,
     "metadata": {},
     "output_type": "execute_result"
    }
   ],
   "source": [
    "# Instanciar y ajustar T-SNE\n",
    "tsne = TSNE( n_components=2, random_state=1999 )\n",
    "tsne"
   ]
  },
  {
   "cell_type": "code",
   "execution_count": 8,
   "metadata": {},
   "outputs": [
    {
     "data": {
      "text/plain": [
       "array([[-2.69357758e+01, -2.46740866e+00],\n",
       "       [-2.96002483e+01, -1.35496461e+00],\n",
       "       [-2.94183292e+01, -2.56924963e+00],\n",
       "       [-2.98905125e+01, -2.17532992e+00],\n",
       "       [-2.68961868e+01, -2.81723285e+00],\n",
       "       [-2.47369328e+01, -1.96147025e+00],\n",
       "       [-2.91927853e+01, -2.98977661e+00],\n",
       "       [-2.76110630e+01, -2.01025033e+00],\n",
       "       [-3.06591129e+01, -2.26616907e+00],\n",
       "       [-2.90499229e+01, -1.54320145e+00],\n",
       "       [-2.52858868e+01, -2.23847175e+00],\n",
       "       [-2.82451000e+01, -1.66075397e+00],\n",
       "       [-2.98560963e+01, -1.64048922e+00],\n",
       "       [-3.07359047e+01, -2.91677904e+00],\n",
       "       [-2.40445061e+01, -2.98370314e+00],\n",
       "       [-2.38142223e+01, -2.57757878e+00],\n",
       "       [-2.48020382e+01, -2.75981498e+00],\n",
       "       [-2.68730278e+01, -2.28320193e+00],\n",
       "       [-2.43725319e+01, -1.95253491e+00],\n",
       "       [-2.58156261e+01, -2.63600326e+00],\n",
       "       [-2.59205284e+01, -1.25104189e+00],\n",
       "       [-2.60549698e+01, -2.20506072e+00],\n",
       "       [-2.88893032e+01, -3.80427670e+00],\n",
       "       [-2.71602955e+01, -8.30569506e-01],\n",
       "       [-2.81516018e+01, -6.66119635e-01],\n",
       "       [-2.91336498e+01, -9.37584877e-01],\n",
       "       [-2.73433094e+01, -1.31012666e+00],\n",
       "       [-2.64988270e+01, -2.03694844e+00],\n",
       "       [-2.68975353e+01, -2.08006501e+00],\n",
       "       [-2.91910954e+01, -1.98746920e+00],\n",
       "       [-2.92206306e+01, -1.44313276e+00],\n",
       "       [-2.60686855e+01, -1.41282451e+00],\n",
       "       [-2.48316498e+01, -3.10535645e+00],\n",
       "       [-2.42235432e+01, -2.82658172e+00],\n",
       "       [-2.89816761e+01, -1.57803595e+00],\n",
       "       [-2.84693661e+01, -2.58791685e+00],\n",
       "       [-2.57475681e+01, -3.22512698e+00],\n",
       "       [-2.73663578e+01, -3.05388880e+00],\n",
       "       [-3.05147438e+01, -2.57863855e+00],\n",
       "       [-2.72517109e+01, -1.93732464e+00],\n",
       "       [-2.73630772e+01, -2.72836733e+00],\n",
       "       [-3.11709633e+01, -1.68444490e+00],\n",
       "       [-3.01257725e+01, -3.00265265e+00],\n",
       "       [-2.68262253e+01, -9.15715158e-01],\n",
       "       [-2.51583519e+01, -1.22926009e+00],\n",
       "       [-2.98381081e+01, -1.63671362e+00],\n",
       "       [-2.57018814e+01, -2.52056909e+00],\n",
       "       [-2.96710186e+01, -2.55128050e+00],\n",
       "       [-2.55703220e+01, -2.28631568e+00],\n",
       "       [-2.80162754e+01, -2.17698598e+00],\n",
       "       [ 9.50047970e+00,  2.62241077e+00],\n",
       "       [ 7.80794954e+00,  2.04635262e+00],\n",
       "       [ 9.77979088e+00,  2.17001128e+00],\n",
       "       [ 2.66776872e+00,  2.82947302e+00],\n",
       "       [ 8.28983784e+00,  2.04973412e+00],\n",
       "       [ 4.70228720e+00,  1.72933090e+00],\n",
       "       [ 7.79809332e+00,  1.30289054e+00],\n",
       "       [ 1.36470926e+00,  3.67260122e+00],\n",
       "       [ 8.43560028e+00,  2.46717286e+00],\n",
       "       [ 2.50015521e+00,  2.37091446e+00],\n",
       "       [ 1.41893673e+00,  3.37364864e+00],\n",
       "       [ 5.17049074e+00,  2.25341344e+00],\n",
       "       [ 3.79997993e+00,  4.19584465e+00],\n",
       "       [ 6.96891165e+00,  1.43415034e+00],\n",
       "       [ 3.01477504e+00,  3.82415771e+00],\n",
       "       [ 8.49745941e+00,  2.78169537e+00],\n",
       "       [ 4.77579403e+00,  1.30188775e+00],\n",
       "       [ 3.95495725e+00,  3.27841568e+00],\n",
       "       [ 6.51045942e+00,  3.74710488e+00],\n",
       "       [ 3.01026535e+00,  3.28034592e+00],\n",
       "       [ 7.28963709e+00, -1.96947493e-02],\n",
       "       [ 4.88061237e+00,  3.24283075e+00],\n",
       "       [ 8.79922867e+00,  4.97033775e-01],\n",
       "       [ 6.72822666e+00,  1.83587897e+00],\n",
       "       [ 7.24712610e+00,  2.72127533e+00],\n",
       "       [ 8.14241982e+00,  2.67932153e+00],\n",
       "       [ 9.28884411e+00,  2.17122340e+00],\n",
       "       [ 1.02224827e+01,  1.28053498e+00],\n",
       "       [ 6.19366312e+00,  1.63857150e+00],\n",
       "       [ 2.58368087e+00,  3.98650789e+00],\n",
       "       [ 2.53426933e+00,  3.30388546e+00],\n",
       "       [ 2.37249947e+00,  3.53435183e+00],\n",
       "       [ 3.65091491e+00,  3.33344579e+00],\n",
       "       [ 8.64608479e+00, -7.41236389e-01],\n",
       "       [ 4.27259064e+00,  1.17735291e+00],\n",
       "       [ 6.53361607e+00,  7.82062113e-01],\n",
       "       [ 9.05396938e+00,  2.25983739e+00],\n",
       "       [ 6.43588638e+00,  3.70977807e+00],\n",
       "       [ 4.03941393e+00,  2.30643821e+00],\n",
       "       [ 2.96653461e+00,  2.74703026e+00],\n",
       "       [ 3.50603580e+00,  1.91818047e+00],\n",
       "       [ 6.78588200e+00,  1.59947252e+00],\n",
       "       [ 3.68399453e+00,  3.26575351e+00],\n",
       "       [ 1.42827833e+00,  3.67040491e+00],\n",
       "       [ 3.64414215e+00,  2.35100842e+00],\n",
       "       [ 4.39666033e+00,  2.38265085e+00],\n",
       "       [ 4.31637287e+00,  2.33712244e+00],\n",
       "       [ 6.32104588e+00,  2.50993943e+00],\n",
       "       [ 1.33502638e+00,  3.88192916e+00],\n",
       "       [ 3.96728206e+00,  2.67839479e+00],\n",
       "       [ 1.35443106e+01, -2.50716352e+00],\n",
       "       [ 8.26492405e+00, -1.45311713e+00],\n",
       "       [ 1.46837721e+01, -1.03124940e+00],\n",
       "       [ 1.13309469e+01, -1.42300630e+00],\n",
       "       [ 1.29680204e+01, -1.68950987e+00],\n",
       "       [ 1.61531677e+01, -1.28688228e+00],\n",
       "       [ 2.95627189e+00,  9.71543372e-01],\n",
       "       [ 1.56516142e+01, -8.11286688e-01],\n",
       "       [ 1.16893082e+01, -2.21047616e+00],\n",
       "       [ 1.50660410e+01, -2.01630878e+00],\n",
       "       [ 1.17569962e+01, -9.95627865e-02],\n",
       "       [ 1.07667418e+01, -8.50945115e-01],\n",
       "       [ 1.31527023e+01, -8.08032811e-01],\n",
       "       [ 7.98768187e+00, -1.79510820e+00],\n",
       "       [ 8.49106216e+00, -2.22564054e+00],\n",
       "       [ 1.25465231e+01, -1.06127357e+00],\n",
       "       [ 1.16757183e+01, -1.06288004e+00],\n",
       "       [ 1.60998573e+01, -2.05840802e+00],\n",
       "       [ 1.65353718e+01, -1.12130284e+00],\n",
       "       [ 7.10706758e+00, -1.05529046e+00],\n",
       "       [ 1.39588089e+01, -1.21670687e+00],\n",
       "       [ 7.77790642e+00, -1.69574952e+00],\n",
       "       [ 1.63280926e+01, -1.13478994e+00],\n",
       "       [ 8.96957779e+00, -5.86045049e-02],\n",
       "       [ 1.35881662e+01, -1.33493888e+00],\n",
       "       [ 1.50994654e+01, -8.30401301e-01],\n",
       "       [ 8.41066933e+00,  5.74598499e-02],\n",
       "       [ 8.07245827e+00, -1.56922340e-01],\n",
       "       [ 1.20337725e+01, -1.56270730e+00],\n",
       "       [ 1.49948864e+01, -4.22178090e-01],\n",
       "       [ 1.55518208e+01, -7.84550667e-01],\n",
       "       [ 1.60853596e+01, -2.04785466e+00],\n",
       "       [ 1.22456150e+01, -1.60156870e+00],\n",
       "       [ 9.26148987e+00,  1.27560422e-01],\n",
       "       [ 1.00125284e+01, -1.55914164e+00],\n",
       "       [ 1.57730370e+01, -1.35066092e+00],\n",
       "       [ 1.30778627e+01, -2.31050396e+00],\n",
       "       [ 1.16267090e+01, -1.08072937e+00],\n",
       "       [ 7.70643091e+00, -9.45390537e-02],\n",
       "       [ 1.33236122e+01, -5.34195065e-01],\n",
       "       [ 1.33731461e+01, -1.35644770e+00],\n",
       "       [ 1.29280443e+01, -5.74572347e-02],\n",
       "       [ 8.26492405e+00, -1.45311713e+00],\n",
       "       [ 1.41080885e+01, -1.61255932e+00],\n",
       "       [ 1.37355719e+01, -1.86353815e+00],\n",
       "       [ 1.26849585e+01, -3.77165616e-01],\n",
       "       [ 9.31978226e+00, -5.01735628e-01],\n",
       "       [ 1.16842556e+01, -3.98838669e-01],\n",
       "       [ 1.26883144e+01, -2.35839581e+00],\n",
       "       [ 8.17364025e+00, -8.82752180e-01]], dtype=float32)"
      ]
     },
     "execution_count": 8,
     "metadata": {},
     "output_type": "execute_result"
    }
   ],
   "source": [
    "X_tsne = tsne.fit_transform( X )\n",
    "X_tsne"
   ]
  },
  {
   "cell_type": "code",
   "execution_count": 9,
   "metadata": {},
   "outputs": [
    {
     "data": {
      "text/plain": [
       "array([0, 0, 0, 0, 0, 0, 0, 0, 0, 0, 0, 0, 0, 0, 0, 0, 0, 0, 0, 0, 0, 0,\n",
       "       0, 0, 0, 0, 0, 0, 0, 0, 0, 0, 0, 0, 0, 0, 0, 0, 0, 0, 0, 0, 0, 0,\n",
       "       0, 0, 0, 0, 0, 0, 1, 1, 1, 1, 1, 1, 1, 1, 1, 1, 1, 1, 1, 1, 1, 1,\n",
       "       1, 1, 1, 1, 1, 1, 1, 1, 1, 1, 1, 1, 1, 1, 1, 1, 1, 1, 1, 1, 1, 1,\n",
       "       1, 1, 1, 1, 1, 1, 1, 1, 1, 1, 1, 1, 2, 2, 2, 2, 2, 2, 2, 2, 2, 2,\n",
       "       2, 2, 2, 2, 2, 2, 2, 2, 2, 2, 2, 2, 2, 2, 2, 2, 2, 2, 2, 2, 2, 2,\n",
       "       2, 2, 2, 2, 2, 2, 2, 2, 2, 2, 2, 2, 2, 2, 2, 2, 2, 2])"
      ]
     },
     "execution_count": 9,
     "metadata": {},
     "output_type": "execute_result"
    }
   ],
   "source": [
    "y"
   ]
  },
  {
   "cell_type": "markdown",
   "metadata": {},
   "source": [
    "__Graficación de Resultados__"
   ]
  },
  {
   "cell_type": "code",
   "execution_count": 14,
   "metadata": {},
   "outputs": [
    {
     "data": {
      "image/png": "[encoded data removed]",
      "text/plain": [
       "<Figure size 640x480 with 1 Axes>"
      ]
     },
     "metadata": {
      "image/png": {
       "height": 434,
       "width": 546
      }
     },
     "output_type": "display_data"
    }
   ],
   "source": [
    "plt.figure()\n",
    "\n",
    "colors = 'r', 'g', 'b'\n",
    "lw = 2\n",
    "\n",
    "for color, i, target_name in zip( colors, [0, 1, 2], target_names ):\n",
    "    plt.scatter( X_tsne[ y == i, 0], X_tsne[ y == i, 1], c=color, alpha=.8, lw=lw, label=target_name )\n",
    "\n",
    "plt.legend( loc='best', shadow=False, scatterpoints=1)\n",
    "plt.title('T-SNE de IRIS dataset')\n",
    "plt.show()"
   ]
  },
  {
   "cell_type": "code",
   "execution_count": 15,
   "metadata": {},
   "outputs": [],
   "source": [
    "from sklearn import datasets\n",
    "from sklearn.manifold import TSNE\n",
    "import pandas as pd\n",
    "import plotly.express as px"
   ]
  },
  {
   "cell_type": "code",
   "execution_count": 17,
   "metadata": {},
   "outputs": [
    {
     "data": {
      "text/plain": [
       "{'data': array([[5.1, 3.5, 1.4, 0.2],\n",
       "        [4.9, 3. , 1.4, 0.2],\n",
       "        [4.7, 3.2, 1.3, 0.2],\n",
       "        [4.6, 3.1, 1.5, 0.2],\n",
       "        [5. , 3.6, 1.4, 0.2],\n",
       "        [5.4, 3.9, 1.7, 0.4],\n",
       "        [4.6, 3.4, 1.4, 0.3],\n",
       "        [5. , 3.4, 1.5, 0.2],\n",
       "        [4.4, 2.9, 1.4, 0.2],\n",
       "        [4.9, 3.1, 1.5, 0.1],\n",
       "        [5.4, 3.7, 1.5, 0.2],\n",
       "        [4.8, 3.4, 1.6, 0.2],\n",
       "        [4.8, 3. , 1.4, 0.1],\n",
       "        [4.3, 3. , 1.1, 0.1],\n",
       "        [5.8, 4. , 1.2, 0.2],\n",
       "        [5.7, 4.4, 1.5, 0.4],\n",
       "        [5.4, 3.9, 1.3, 0.4],\n",
       "        [5.1, 3.5, 1.4, 0.3],\n",
       "        [5.7, 3.8, 1.7, 0.3],\n",
       "        [5.1, 3.8, 1.5, 0.3],\n",
       "        [5.4, 3.4, 1.7, 0.2],\n",
       "        [5.1, 3.7, 1.5, 0.4],\n",
       "        [4.6, 3.6, 1. , 0.2],\n",
       "        [5.1, 3.3, 1.7, 0.5],\n",
       "        [4.8, 3.4, 1.9, 0.2],\n",
       "        [5. , 3. , 1.6, 0.2],\n",
       "        [5. , 3.4, 1.6, 0.4],\n",
       "        [5.2, 3.5, 1.5, 0.2],\n",
       "        [5.2, 3.4, 1.4, 0.2],\n",
       "        [4.7, 3.2, 1.6, 0.2],\n",
       "        [4.8, 3.1, 1.6, 0.2],\n",
       "        [5.4, 3.4, 1.5, 0.4],\n",
       "        [5.2, 4.1, 1.5, 0.1],\n",
       "        [5.5, 4.2, 1.4, 0.2],\n",
       "        [4.9, 3.1, 1.5, 0.2],\n",
       "        [5. , 3.2, 1.2, 0.2],\n",
       "        [5.5, 3.5, 1.3, 0.2],\n",
       "        [4.9, 3.6, 1.4, 0.1],\n",
       "        [4.4, 3. , 1.3, 0.2],\n",
       "        [5.1, 3.4, 1.5, 0.2],\n",
       "        [5. , 3.5, 1.3, 0.3],\n",
       "        [4.5, 2.3, 1.3, 0.3],\n",
       "        [4.4, 3.2, 1.3, 0.2],\n",
       "        [5. , 3.5, 1.6, 0.6],\n",
       "        [5.1, 3.8, 1.9, 0.4],\n",
       "        [4.8, 3. , 1.4, 0.3],\n",
       "        [5.1, 3.8, 1.6, 0.2],\n",
       "        [4.6, 3.2, 1.4, 0.2],\n",
       "        [5.3, 3.7, 1.5, 0.2],\n",
       "        [5. , 3.3, 1.4, 0.2],\n",
       "        [7. , 3.2, 4.7, 1.4],\n",
       "        [6.4, 3.2, 4.5, 1.5],\n",
       "        [6.9, 3.1, 4.9, 1.5],\n",
       "        [5.5, 2.3, 4. , 1.3],\n",
       "        [6.5, 2.8, 4.6, 1.5],\n",
       "        [5.7, 2.8, 4.5, 1.3],\n",
       "        [6.3, 3.3, 4.7, 1.6],\n",
       "        [4.9, 2.4, 3.3, 1. ],\n",
       "        [6.6, 2.9, 4.6, 1.3],\n",
       "        [5.2, 2.7, 3.9, 1.4],\n",
       "        [5. , 2. , 3.5, 1. ],\n",
       "        [5.9, 3. , 4.2, 1.5],\n",
       "        [6. , 2.2, 4. , 1. ],\n",
       "        [6.1, 2.9, 4.7, 1.4],\n",
       "        [5.6, 2.9, 3.6, 1.3],\n",
       "        [6.7, 3.1, 4.4, 1.4],\n",
       "        [5.6, 3. , 4.5, 1.5],\n",
       "        [5.8, 2.7, 4.1, 1. ],\n",
       "        [6.2, 2.2, 4.5, 1.5],\n",
       "        [5.6, 2.5, 3.9, 1.1],\n",
       "        [5.9, 3.2, 4.8, 1.8],\n",
       "        [6.1, 2.8, 4. , 1.3],\n",
       "        [6.3, 2.5, 4.9, 1.5],\n",
       "        [6.1, 2.8, 4.7, 1.2],\n",
       "        [6.4, 2.9, 4.3, 1.3],\n",
       "        [6.6, 3. , 4.4, 1.4],\n",
       "        [6.8, 2.8, 4.8, 1.4],\n",
       "        [6.7, 3. , 5. , 1.7],\n",
       "        [6. , 2.9, 4.5, 1.5],\n",
       "        [5.7, 2.6, 3.5, 1. ],\n",
       "        [5.5, 2.4, 3.8, 1.1],\n",
       "        [5.5, 2.4, 3.7, 1. ],\n",
       "        [5.8, 2.7, 3.9, 1.2],\n",
       "        [6. , 2.7, 5.1, 1.6],\n",
       "        [5.4, 3. , 4.5, 1.5],\n",
       "        [6. , 3.4, 4.5, 1.6],\n",
       "        [6.7, 3.1, 4.7, 1.5],\n",
       "        [6.3, 2.3, 4.4, 1.3],\n",
       "        [5.6, 3. , 4.1, 1.3],\n",
       "        [5.5, 2.5, 4. , 1.3],\n",
       "        [5.5, 2.6, 4.4, 1.2],\n",
       "        [6.1, 3. , 4.6, 1.4],\n",
       "        [5.8, 2.6, 4. , 1.2],\n",
       "        [5. , 2.3, 3.3, 1. ],\n",
       "        [5.6, 2.7, 4.2, 1.3],\n",
       "        [5.7, 3. , 4.2, 1.2],\n",
       "        [5.7, 2.9, 4.2, 1.3],\n",
       "        [6.2, 2.9, 4.3, 1.3],\n",
       "        [5.1, 2.5, 3. , 1.1],\n",
       "        [5.7, 2.8, 4.1, 1.3],\n",
       "        [6.3, 3.3, 6. , 2.5],\n",
       "        [5.8, 2.7, 5.1, 1.9],\n",
       "        [7.1, 3. , 5.9, 2.1],\n",
       "        [6.3, 2.9, 5.6, 1.8],\n",
       "        [6.5, 3. , 5.8, 2.2],\n",
       "        [7.6, 3. , 6.6, 2.1],\n",
       "        [4.9, 2.5, 4.5, 1.7],\n",
       "        [7.3, 2.9, 6.3, 1.8],\n",
       "        [6.7, 2.5, 5.8, 1.8],\n",
       "        [7.2, 3.6, 6.1, 2.5],\n",
       "        [6.5, 3.2, 5.1, 2. ],\n",
       "        [6.4, 2.7, 5.3, 1.9],\n",
       "        [6.8, 3. , 5.5, 2.1],\n",
       "        [5.7, 2.5, 5. , 2. ],\n",
       "        [5.8, 2.8, 5.1, 2.4],\n",
       "        [6.4, 3.2, 5.3, 2.3],\n",
       "        [6.5, 3. , 5.5, 1.8],\n",
       "        [7.7, 3.8, 6.7, 2.2],\n",
       "        [7.7, 2.6, 6.9, 2.3],\n",
       "        [6. , 2.2, 5. , 1.5],\n",
       "        [6.9, 3.2, 5.7, 2.3],\n",
       "        [5.6, 2.8, 4.9, 2. ],\n",
       "        [7.7, 2.8, 6.7, 2. ],\n",
       "        [6.3, 2.7, 4.9, 1.8],\n",
       "        [6.7, 3.3, 5.7, 2.1],\n",
       "        [7.2, 3.2, 6. , 1.8],\n",
       "        [6.2, 2.8, 4.8, 1.8],\n",
       "        [6.1, 3. , 4.9, 1.8],\n",
       "        [6.4, 2.8, 5.6, 2.1],\n",
       "        [7.2, 3. , 5.8, 1.6],\n",
       "        [7.4, 2.8, 6.1, 1.9],\n",
       "        [7.9, 3.8, 6.4, 2. ],\n",
       "        [6.4, 2.8, 5.6, 2.2],\n",
       "        [6.3, 2.8, 5.1, 1.5],\n",
       "        [6.1, 2.6, 5.6, 1.4],\n",
       "        [7.7, 3. , 6.1, 2.3],\n",
       "        [6.3, 3.4, 5.6, 2.4],\n",
       "        [6.4, 3.1, 5.5, 1.8],\n",
       "        [6. , 3. , 4.8, 1.8],\n",
       "        [6.9, 3.1, 5.4, 2.1],\n",
       "        [6.7, 3.1, 5.6, 2.4],\n",
       "        [6.9, 3.1, 5.1, 2.3],\n",
       "        [5.8, 2.7, 5.1, 1.9],\n",
       "        [6.8, 3.2, 5.9, 2.3],\n",
       "        [6.7, 3.3, 5.7, 2.5],\n",
       "        [6.7, 3. , 5.2, 2.3],\n",
       "        [6.3, 2.5, 5. , 1.9],\n",
       "        [6.5, 3. , 5.2, 2. ],\n",
       "        [6.2, 3.4, 5.4, 2.3],\n",
       "        [5.9, 3. , 5.1, 1.8]]),\n",
       " 'target': array([0, 0, 0, 0, 0, 0, 0, 0, 0, 0, 0, 0, 0, 0, 0, 0, 0, 0, 0, 0, 0, 0,\n",
       "        0, 0, 0, 0, 0, 0, 0, 0, 0, 0, 0, 0, 0, 0, 0, 0, 0, 0, 0, 0, 0, 0,\n",
       "        0, 0, 0, 0, 0, 0, 1, 1, 1, 1, 1, 1, 1, 1, 1, 1, 1, 1, 1, 1, 1, 1,\n",
       "        1, 1, 1, 1, 1, 1, 1, 1, 1, 1, 1, 1, 1, 1, 1, 1, 1, 1, 1, 1, 1, 1,\n",
       "        1, 1, 1, 1, 1, 1, 1, 1, 1, 1, 1, 1, 2, 2, 2, 2, 2, 2, 2, 2, 2, 2,\n",
       "        2, 2, 2, 2, 2, 2, 2, 2, 2, 2, 2, 2, 2, 2, 2, 2, 2, 2, 2, 2, 2, 2,\n",
       "        2, 2, 2, 2, 2, 2, 2, 2, 2, 2, 2, 2, 2, 2, 2, 2, 2, 2]),\n",
       " 'frame': None,\n",
       " 'target_names': array(['setosa', 'versicolor', 'virginica'], dtype='<U10'),\n",
       " 'DESCR': '.. _iris_dataset:\\n\\nIris plants dataset\\n--------------------\\n\\n**Data Set Characteristics:**\\n\\n:Number of Instances: 150 (50 in each of three classes)\\n:Number of Attributes: 4 numeric, predictive attributes and the class\\n:Attribute Information:\\n    - sepal length in cm\\n    - sepal width in cm\\n    - petal length in cm\\n    - petal width in cm\\n    - class:\\n            - Iris-Setosa\\n            - Iris-Versicolour\\n            - Iris-Virginica\\n\\n:Summary Statistics:\\n\\n============== ==== ==== ======= ===== ====================\\n                Min  Max   Mean    SD   Class Correlation\\n============== ==== ==== ======= ===== ====================\\nsepal length:   4.3  7.9   5.84   0.83    0.7826\\nsepal width:    2.0  4.4   3.05   0.43   -0.4194\\npetal length:   1.0  6.9   3.76   1.76    0.9490  (high!)\\npetal width:    0.1  2.5   1.20   0.76    0.9565  (high!)\\n============== ==== ==== ======= ===== ====================\\n\\n:Missing Attribute Values: None\\n:Class Distribution: 33.3% for each of 3 classes.\\n:Creator: R.A. Fisher\\n:Donor: Michael Marshall (MARSHALL%PLU@io.arc.nasa.gov)\\n:Date: July, 1988\\n\\nThe famous Iris database, first used by Sir R.A. Fisher. The dataset is taken\\nfrom Fisher\\'s paper. Note that it\\'s the same as in R, but not as in the UCI\\nMachine Learning Repository, which has two wrong data points.\\n\\nThis is perhaps the best known database to be found in the\\npattern recognition literature.  Fisher\\'s paper is a classic in the field and\\nis referenced frequently to this day.  (See Duda & Hart, for example.)  The\\ndata set contains 3 classes of 50 instances each, where each class refers to a\\ntype of iris plant.  One class is linearly separable from the other 2; the\\nlatter are NOT linearly separable from each other.\\n\\n.. dropdown:: References\\n\\n  - Fisher, R.A. \"The use of multiple measurements in taxonomic problems\"\\n    Annual Eugenics, 7, Part II, 179-188 (1936); also in \"Contributions to\\n    Mathematical Statistics\" (John Wiley, NY, 1950).\\n  - Duda, R.O., & Hart, P.E. (1973) Pattern Classification and Scene Analysis.\\n    (Q327.D83) John Wiley & Sons.  ISBN 0-471-22361-1.  See page 218.\\n  - Dasarathy, B.V. (1980) \"Nosing Around the Neighborhood: A New System\\n    Structure and Classification Rule for Recognition in Partially Exposed\\n    Environments\".  IEEE Transactions on Pattern Analysis and Machine\\n    Intelligence, Vol. PAMI-2, No. 1, 67-71.\\n  - Gates, G.W. (1972) \"The Reduced Nearest Neighbor Rule\".  IEEE Transactions\\n    on Information Theory, May 1972, 431-433.\\n  - See also: 1988 MLC Proceedings, 54-64.  Cheeseman et al\"s AUTOCLASS II\\n    conceptual clustering system finds 3 classes in the data.\\n  - Many, many more ...\\n',\n",
       " 'feature_names': ['sepal length (cm)',\n",
       "  'sepal width (cm)',\n",
       "  'petal length (cm)',\n",
       "  'petal width (cm)'],\n",
       " 'filename': 'iris.csv',\n",
       " 'data_module': 'sklearn.datasets.data'}"
      ]
     },
     "execution_count": 17,
     "metadata": {},
     "output_type": "execute_result"
    }
   ],
   "source": [
    "# Cargar el conjunto de datos Iris\n",
    "iris = datasets.load_iris()\n",
    "iris"
   ]
  },
  {
   "cell_type": "code",
   "execution_count": 18,
   "metadata": {},
   "outputs": [],
   "source": [
    "X = iris.data\n",
    "y = iris.target"
   ]
  },
  {
   "cell_type": "code",
   "execution_count": 19,
   "metadata": {},
   "outputs": [
    {
     "name": "stderr",
     "output_type": "stream",
     "text": [
      "/Users/gblasd/Documents/DataScience/.venv/lib/python3.13/site-packages/sklearn/manifold/_t_sne.py:1164: FutureWarning:\n",
      "\n",
      "'n_iter' was renamed to 'max_iter' in version 1.5 and will be removed in 1.7.\n",
      "\n"
     ]
    },
    {
     "data": {
      "text/plain": [
       "array([[-4.56905251e+01,  2.29743690e+01,  1.22848701e+01],\n",
       "       [-3.81115723e+01,  6.73103180e+01, -4.95912647e+00],\n",
       "       [-2.19110279e+01,  5.38940811e+01,  1.86202850e+01],\n",
       "       [-3.28225446e+00,  5.81505165e+01, -1.18077564e+01],\n",
       "       [-5.69771271e+01,  3.39025955e+01, -1.36080971e+01],\n",
       "       [-5.93900604e+01, -9.01534462e+00,  2.06911349e+00],\n",
       "       [-9.22959518e+00,  3.79261246e+01,  1.36583652e+01],\n",
       "       [-3.59313431e+01,  3.32826843e+01, -1.18500824e+01],\n",
       "       [-2.18052888e+00,  7.42546234e+01, -1.14981890e+00],\n",
       "       [-3.81225090e+01,  5.22494392e+01, -1.48948603e+01],\n",
       "       [-5.94344368e+01,  8.12461281e+00,  1.88607063e+01],\n",
       "       [-1.98344402e+01,  3.37701797e+01, -1.52345026e+00],\n",
       "       [-1.97294426e+01,  6.64115219e+01, -7.46837711e+00],\n",
       "       [ 8.39272690e+00,  6.27145996e+01,  9.25858498e+00],\n",
       "       [-7.70803986e+01, -1.19942224e+00,  2.37650948e+01],\n",
       "       [-7.42913818e+01, -1.86959820e+01,  1.29769640e+01],\n",
       "       [-7.90029068e+01,  1.40515337e+01,  9.41810417e+00],\n",
       "       [-6.15337372e+01,  2.98159218e+01,  5.07207966e+00],\n",
       "       [-5.72200851e+01, -1.00813971e+01,  2.11618271e+01],\n",
       "       [-6.95115891e+01,  1.86626816e+01, -1.11397448e+01],\n",
       "       [-4.05377846e+01,  5.57408333e+00,  2.38799667e+01],\n",
       "       [-4.44931145e+01,  4.61596441e+00,  2.97620463e+00],\n",
       "       [-1.66535969e+01,  3.98861465e+01,  3.31170921e+01],\n",
       "       [-2.38383141e+01,  1.42334003e+01,  1.36910362e+01],\n",
       "       [-1.75664730e+01,  2.60469532e+01, -1.83160496e+01],\n",
       "       [-2.66761189e+01,  6.25560837e+01, -2.41463814e+01],\n",
       "       [-3.11869602e+01,  2.11993732e+01,  3.80760908e-01],\n",
       "       [-4.90909920e+01,  2.04893360e+01, -4.15295696e+00],\n",
       "       [-5.23381157e+01,  3.78171120e+01,  1.91319618e+01],\n",
       "       [-4.58308315e+00,  4.05317612e+01, -6.74859619e+00],\n",
       "       [-1.89308262e+01,  4.74460068e+01, -1.64725800e+01],\n",
       "       [-4.82506676e+01,  2.08925152e+01,  3.10200691e+01],\n",
       "       [-7.28545914e+01, -1.82635021e+00, -1.15099773e+01],\n",
       "       [-8.07845001e+01, -4.05811167e+00,  4.89101505e+00],\n",
       "       [-2.80023975e+01,  5.11292953e+01, -6.65340960e-01],\n",
       "       [-4.26504288e+01,  5.53692207e+01,  1.22673311e+01],\n",
       "       [-6.70446396e+01,  2.36180534e+01,  2.45762367e+01],\n",
       "       [-4.57112617e+01,  2.33237228e+01, -2.36118622e+01],\n",
       "       [-8.05278111e+00,  7.10830002e+01,  1.64051723e+01],\n",
       "       [-4.43050385e+01,  3.67916756e+01,  1.70430100e+00],\n",
       "       [-5.87922020e+01,  4.68917656e+01,  2.51552016e-01],\n",
       "       [-1.74568233e+01,  8.68420639e+01,  1.83421946e+00],\n",
       "       [-2.23669028e+00,  5.41043701e+01,  2.24925423e+01],\n",
       "       [-2.74885960e+01,  5.96861029e+00, -5.29377460e+00],\n",
       "       [-4.53176575e+01, -7.57167816e+00, -1.22909784e+01],\n",
       "       [-2.69990597e+01,  6.86212234e+01,  9.19446087e+00],\n",
       "       [-5.60044403e+01,  7.10134935e+00, -1.55062113e+01],\n",
       "       [-1.00898180e+01,  5.42976303e+01,  4.91720152e+00],\n",
       "       [-6.21854858e+01,  1.00171795e+01,  2.84618449e+00],\n",
       "       [-3.26834564e+01,  3.79287109e+01,  1.39301100e+01],\n",
       "       [ 1.14483862e+01,  8.83308887e+00, -4.15365257e+01],\n",
       "       [ 1.82747955e+01, -2.48291435e+01, -3.67995911e+01],\n",
       "       [ 2.52651024e+01,  9.26743889e+00, -3.12404518e+01],\n",
       "       [-2.81654034e+01, -5.27350502e+01,  1.68524513e+01],\n",
       "       [ 2.14085937e+00, -9.21323299e+00, -1.60081768e+01],\n",
       "       [ 4.35069227e+00, -4.85540886e+01,  2.48837218e-01],\n",
       "       [ 3.02597027e+01, -2.16263866e+01, -2.39855347e+01],\n",
       "       [-3.44767685e+01, -8.45270004e+01,  1.55836983e+01],\n",
       "       [-1.53249645e+00, -4.69691467e+00, -3.27049866e+01],\n",
       "       [-1.60906849e+01, -8.10930939e+01,  1.82140017e+00],\n",
       "       [-3.91783714e+01, -6.96416931e+01,  2.47728024e+01],\n",
       "       [ 6.26790142e+00, -5.41690178e+01, -2.76958618e+01],\n",
       "       [-3.37493553e+01, -3.69384155e+01,  5.70093584e+00],\n",
       "       [ 7.72153902e+00, -2.89197197e+01, -3.98160028e+00],\n",
       "       [-2.92967949e+01, -7.76517563e+01, -1.54378958e+01],\n",
       "       [ 1.43113241e+01, -8.76347923e+00, -4.63681946e+01],\n",
       "       [ 1.65275116e+01, -5.87848740e+01, -1.04311905e+01],\n",
       "       [-2.47186565e+01, -4.14301758e+01, -1.40530329e+01],\n",
       "       [-1.32412262e+01, -2.49950390e+01,  1.69862099e+01],\n",
       "       [-3.73201294e+01, -5.19739494e+01, -5.37145376e+00],\n",
       "       [ 3.81221161e+01, -3.78265266e+01, -9.89045525e+00],\n",
       "       [-1.71105614e+01, -4.58207169e+01, -3.07311859e+01],\n",
       "       [ 1.32761323e+00, -1.35908308e+01,  9.89151382e+00],\n",
       "       [-5.73579121e+00, -2.77548351e+01, -1.15472279e+01],\n",
       "       [-1.08263702e+01, -2.15191174e+01, -2.94836674e+01],\n",
       "       [ 1.54797935e+00, -1.91041145e+01, -4.19825325e+01],\n",
       "       [ 6.65795612e+00,  8.41202641e+00, -2.29399548e+01],\n",
       "       [ 2.28226414e+01,  6.10268068e+00, -1.38203630e+01],\n",
       "       [ 1.17300587e+01, -4.13112183e+01, -1.52871628e+01],\n",
       "       [-4.60880814e+01, -6.77076035e+01, -9.68510723e+00],\n",
       "       [-3.18816986e+01, -6.69061966e+01,  3.05397034e+00],\n",
       "       [-4.59628181e+01, -5.72330437e+01,  9.16944790e+00],\n",
       "       [-2.98987789e+01, -5.79755592e+01, -2.12196369e+01],\n",
       "       [ 1.53150148e+01, -2.54176884e+01,  1.53731918e+01],\n",
       "       [ 1.39894238e+01, -6.53519440e+01,  4.48485231e+00],\n",
       "       [ 2.79174538e+01, -4.04584732e+01, -2.67163715e+01],\n",
       "       [ 1.74729099e+01, -6.15303087e+00, -2.86982079e+01],\n",
       "       [-1.84260330e+01, -2.22558079e+01,  3.19549179e+00],\n",
       "       [ 1.33378729e-01, -7.13757401e+01, -1.41270142e+01],\n",
       "       [-1.81433220e+01, -6.69533005e+01,  1.41919355e+01],\n",
       "       [-6.44072342e+00, -5.13450127e+01,  1.44433851e+01],\n",
       "       [ 1.07834034e+01, -2.63094673e+01, -1.99824104e+01],\n",
       "       [-1.98812637e+01, -5.04316368e+01, -2.21782416e-01],\n",
       "       [-5.03064384e+01, -7.62923813e+01,  1.22214327e+01],\n",
       "       [-5.61542940e+00, -6.37732315e+01,  1.38455427e+00],\n",
       "       [-9.60462093e+00, -6.45369339e+01, -2.74659290e+01],\n",
       "       [-5.92585611e+00, -5.22377815e+01, -1.40117664e+01],\n",
       "       [-1.46099460e+00, -3.61395073e+01, -3.00291767e+01],\n",
       "       [-4.26675987e+01, -8.63753586e+01,  4.36338335e-01],\n",
       "       [-1.70191822e+01, -6.43916473e+01, -1.10521383e+01],\n",
       "       [ 5.46751328e+01,  4.90771637e+01,  1.92406731e+01],\n",
       "       [ 3.20858650e+01, -2.62557049e+01,  2.30790310e+01],\n",
       "       [ 6.92297897e+01,  1.96574783e+01, -3.27910137e+00],\n",
       "       [ 4.36903801e+01, -9.36020017e-01,  2.87745514e+01],\n",
       "       [ 5.20535851e+01,  3.11321602e+01,  2.55006542e+01],\n",
       "       [ 8.62718811e+01,  1.78437195e+01, -1.22312927e+01],\n",
       "       [ 3.84231281e+00, -6.92515182e+01,  2.18688660e+01],\n",
       "       [ 8.60605927e+01,  1.56955564e+00, -4.60444784e+00],\n",
       "       [ 6.41574326e+01,  3.14475775e+00,  2.61257019e+01],\n",
       "       [ 7.53463669e+01,  3.97398224e+01, -1.04379091e+01],\n",
       "       [ 3.92915192e+01,  2.39843059e+00, -6.66617727e+00],\n",
       "       [ 2.71253986e+01,  5.42052841e+00,  2.22227802e+01],\n",
       "       [ 5.14022369e+01,  1.60476761e+01,  1.55042744e+00],\n",
       "       [ 2.18732681e+01, -3.82338829e+01,  3.16127071e+01],\n",
       "       [ 4.34481239e+01, -3.99497070e+01,  3.09543037e+01],\n",
       "       [ 2.97195263e+01,  2.93198967e+01,  1.18678923e+01],\n",
       "       [ 4.42497673e+01,  1.19537249e+01,  1.71583271e+01],\n",
       "       [ 9.40922852e+01,  3.33115158e+01, -7.66075182e+00],\n",
       "       [ 1.00773491e+02,  1.02793884e+01, -1.73360672e+01],\n",
       "       [ 1.83129549e+00, -2.21972656e+01,  2.85250645e+01],\n",
       "       [ 5.77051163e+01,  3.24931602e+01, -7.77552366e+00],\n",
       "       [ 3.06900177e+01, -4.48833656e+01,  1.69415455e+01],\n",
       "       [ 8.56149826e+01,  6.43833971e+00, -2.57087936e+01],\n",
       "       [ 2.39059238e+01, -9.93452740e+00,  1.03079767e+01],\n",
       "       [ 6.25850677e+01,  2.20470829e+01,  1.47313566e+01],\n",
       "       [ 8.20626831e+01,  1.55724182e+01,  7.73438740e+00],\n",
       "       [ 1.98219910e+01, -1.55769958e+01, -3.64101791e+00],\n",
       "       [ 3.59186440e+01, -1.99115505e+01, -3.19541216e+00],\n",
       "       [ 5.02454033e+01,  1.49941969e+01,  3.41602898e+01],\n",
       "       [ 7.05287781e+01,  2.05111146e+00,  5.31236696e+00],\n",
       "       [ 7.09963913e+01,  3.94906497e+00, -1.32605991e+01],\n",
       "       [ 8.88195496e+01,  3.19120789e+01, -2.45693111e+01],\n",
       "       [ 3.55255470e+01,  2.19079494e+01,  3.00790558e+01],\n",
       "       [ 1.04535475e+01, -9.55376551e-02,  3.62116432e+00],\n",
       "       [ 2.91080437e+01, -8.13632011e+00,  4.00373306e+01],\n",
       "       [ 7.22355652e+01,  2.04991722e+01, -2.36212082e+01],\n",
       "       [ 3.76801071e+01,  4.77885551e+01,  8.36788750e+00],\n",
       "       [ 4.75118027e+01, -2.36676145e+00,  1.16018867e+01],\n",
       "       [ 2.60955296e+01, -3.30893402e+01,  2.78837264e-01],\n",
       "       [ 4.88683243e+01,  1.80415535e+01, -1.50901423e+01],\n",
       "       [ 4.82888832e+01,  3.25681610e+01,  7.27044678e+00],\n",
       "       [ 3.89276123e+01,  3.36510925e+01, -1.75644093e+01],\n",
       "       [ 3.20858650e+01, -2.62557049e+01,  2.30790310e+01],\n",
       "       [ 6.80936737e+01,  3.70779228e+01,  8.09014034e+00],\n",
       "       [ 5.47787170e+01,  4.82432289e+01, -4.42807108e-01],\n",
       "       [ 3.44259071e+01,  2.48787975e+01, -4.56786633e+00],\n",
       "       [ 1.35524015e+01, -6.83756351e+00,  2.33373375e+01],\n",
       "       [ 3.08300419e+01,  1.04424229e+01,  5.11769629e+00],\n",
       "       [ 3.34756737e+01,  4.20697784e+01,  2.39105759e+01],\n",
       "       [ 4.30419540e+01, -3.06673794e+01,  8.56092739e+00]], dtype=float32)"
      ]
     },
     "execution_count": 19,
     "metadata": {},
     "output_type": "execute_result"
    }
   ],
   "source": [
    "# Aplicar t-SNE\n",
    "tsne = TSNE( n_components=3, random_state=0, n_iter=5000 )\n",
    "X_tsne = tsne.fit_transform( X )\n",
    "X_tsne"
   ]
  },
  {
   "cell_type": "code",
   "execution_count": 20,
   "metadata": {},
   "outputs": [
    {
     "data": {
      "text/html": [
       "<div>\n",
       "<style scoped>\n",
       "    .dataframe tbody tr th:only-of-type {\n",
       "        vertical-align: middle;\n",
       "    }\n",
       "\n",
       "    .dataframe tbody tr th {\n",
       "        vertical-align: top;\n",
       "    }\n",
       "\n",
       "    .dataframe thead th {\n",
       "        text-align: right;\n",
       "    }\n",
       "</style>\n",
       "<table border=\"1\" class=\"dataframe\">\n",
       "  <thead>\n",
       "    <tr style=\"text-align: right;\">\n",
       "      <th></th>\n",
       "      <th>Componente 1</th>\n",
       "      <th>Componente 2</th>\n",
       "      <th>Componente 3</th>\n",
       "      <th>Especie</th>\n",
       "    </tr>\n",
       "  </thead>\n",
       "  <tbody>\n",
       "    <tr>\n",
       "      <th>0</th>\n",
       "      <td>-45.690525</td>\n",
       "      <td>22.974369</td>\n",
       "      <td>12.284870</td>\n",
       "      <td>setosa</td>\n",
       "    </tr>\n",
       "    <tr>\n",
       "      <th>1</th>\n",
       "      <td>-38.111572</td>\n",
       "      <td>67.310318</td>\n",
       "      <td>-4.959126</td>\n",
       "      <td>setosa</td>\n",
       "    </tr>\n",
       "    <tr>\n",
       "      <th>2</th>\n",
       "      <td>-21.911028</td>\n",
       "      <td>53.894081</td>\n",
       "      <td>18.620285</td>\n",
       "      <td>setosa</td>\n",
       "    </tr>\n",
       "    <tr>\n",
       "      <th>3</th>\n",
       "      <td>-3.282254</td>\n",
       "      <td>58.150517</td>\n",
       "      <td>-11.807756</td>\n",
       "      <td>setosa</td>\n",
       "    </tr>\n",
       "    <tr>\n",
       "      <th>4</th>\n",
       "      <td>-56.977127</td>\n",
       "      <td>33.902596</td>\n",
       "      <td>-13.608097</td>\n",
       "      <td>setosa</td>\n",
       "    </tr>\n",
       "    <tr>\n",
       "      <th>...</th>\n",
       "      <td>...</td>\n",
       "      <td>...</td>\n",
       "      <td>...</td>\n",
       "      <td>...</td>\n",
       "    </tr>\n",
       "    <tr>\n",
       "      <th>145</th>\n",
       "      <td>34.425907</td>\n",
       "      <td>24.878798</td>\n",
       "      <td>-4.567866</td>\n",
       "      <td>virginica</td>\n",
       "    </tr>\n",
       "    <tr>\n",
       "      <th>146</th>\n",
       "      <td>13.552402</td>\n",
       "      <td>-6.837564</td>\n",
       "      <td>23.337337</td>\n",
       "      <td>virginica</td>\n",
       "    </tr>\n",
       "    <tr>\n",
       "      <th>147</th>\n",
       "      <td>30.830042</td>\n",
       "      <td>10.442423</td>\n",
       "      <td>5.117696</td>\n",
       "      <td>virginica</td>\n",
       "    </tr>\n",
       "    <tr>\n",
       "      <th>148</th>\n",
       "      <td>33.475674</td>\n",
       "      <td>42.069778</td>\n",
       "      <td>23.910576</td>\n",
       "      <td>virginica</td>\n",
       "    </tr>\n",
       "    <tr>\n",
       "      <th>149</th>\n",
       "      <td>43.041954</td>\n",
       "      <td>-30.667379</td>\n",
       "      <td>8.560927</td>\n",
       "      <td>virginica</td>\n",
       "    </tr>\n",
       "  </tbody>\n",
       "</table>\n",
       "<p>150 rows × 4 columns</p>\n",
       "</div>"
      ],
      "text/plain": [
       "     Componente 1  Componente 2  Componente 3    Especie\n",
       "0      -45.690525     22.974369     12.284870     setosa\n",
       "1      -38.111572     67.310318     -4.959126     setosa\n",
       "2      -21.911028     53.894081     18.620285     setosa\n",
       "3       -3.282254     58.150517    -11.807756     setosa\n",
       "4      -56.977127     33.902596    -13.608097     setosa\n",
       "..            ...           ...           ...        ...\n",
       "145     34.425907     24.878798     -4.567866  virginica\n",
       "146     13.552402     -6.837564     23.337337  virginica\n",
       "147     30.830042     10.442423      5.117696  virginica\n",
       "148     33.475674     42.069778     23.910576  virginica\n",
       "149     43.041954    -30.667379      8.560927  virginica\n",
       "\n",
       "[150 rows x 4 columns]"
      ]
     },
     "execution_count": 20,
     "metadata": {},
     "output_type": "execute_result"
    }
   ],
   "source": [
    "# Convertir a DataFrame\n",
    "df_tsne = pd.DataFrame( X_tsne, columns=['Componente 1', 'Componente 2', 'Componente 3'] )\n",
    "df_tsne['Especie'] = [ iris.target_names[label] for label in y ]\n",
    "df_tsne"
   ]
  },
  {
   "cell_type": "code",
   "execution_count": 21,
   "metadata": {},
   "outputs": [
    {
     "data": {
      "application/vnd.plotly.v1+json": {
       "config": {
        "plotlyServerURL": "https://plot.ly"
       },
       "data": [
        {
         "hovertemplate": "Especie=setosa<br>Componente 1=%{x}<br>Componente 2=%{y}<br>Componente 3=%{z}<extra></extra>",
         "legendgroup": "setosa",
         "marker": {
          "color": "#636efa",
          "symbol": "circle"
         },
         "mode": "markers",
         "name": "setosa",
         "scene": "scene",
         "showlegend": true,
         "type": "scatter3d",
         "x": {
          "bdata": "GcM2wkByGMLJSa/BdRBSwJToY8Jsj23CbKwTwbK5D8LJjQvAc30Ywt28bcLvrJ7B5tWdwZxIBkEqKZrCMJWUwn0BnsKMInbCXuFkwu8Fi8KxJiLC8/gxwpE6hcHetL7BI4iMwbFo1cHlfvnBLV1EwjtaUcKeqJLAVXKXwa8AQcKNtZHCqpGhwukE4MEKmirC2xaGwlXYNsIx2ADBXDgxwjcra8KTp4vB7yUPwKXo28FIRTXCE/7XwYwEYMLlbyHB8L14wty7AsI=",
          "dtype": "f4"
         },
         "y": {
          "bdata": "gsu3QeKehkKKk1dCIZpoQkKcB0LaPhDBWrQXQnghBUJegpRCbf9QQmr+AUGqFAdCs9KEQsDbekKrhpm/X5GVwRXTYEECh+5BZ00hwSxNlUHkXrJA+7WTQGqLH0ICvGNBKWDQQW45ekJRmKlBKeqjQblEF0KGICJCtsg9Qt8jp0HYxem/DdyBwGaETEIVel1CxvG8QfyWukF/Ko5CrSoTQiuRO0Ijr61C4GpYQtv+vkAwS/LAET6JQkE+40DGMFlCXkYgQQC3F0I=",
          "dtype": "f4"
         },
         "z": {
          "bdata": "1I5EQSqxnsBY9pRBkuw8wcS6WcFbbARAqohaQfCZPcFELZO/WVFuwbrilkFrAMO/8vzuwCojFEHqHr5BpaFPQY6wFkF6TqJAbEupQWU8MsEsCr9BI3o+QOd3BEJ8DltBRYeSwcorwcEY88I+BuWEwEIOmUGA9NfA2MeDwRop+EHeKDjBMoOcQMlTKr/9RkRBIpzEQRjlvMHLPYNBiSbaP23LgD60x+o/uvCzQZpmqcDZp0TBgxwTQXEZeMG3WZ1A4yc2QLvhXkE=",
          "dtype": "f4"
         }
        },
        {
         "hovertemplate": "Especie=versicolor<br>Componente 1=%{x}<br>Componente 2=%{y}<br>Componente 3=%{z}<extra></extra>",
         "legendgroup": "versicolor",
         "marker": {
          "color": "#EF553B",
          "symbol": "circle"
         },
         "mode": "markers",
         "name": "versicolor",
         "scene": "scene",
         "showlegend": true,
         "type": "scatter3d",
         "x": {
          "bdata": "lyw3QcgykkHuHspBv1LhwdcDCUDfOItA3xPyQTboCcLYKMS/ubmAwae2HMKmkshAV/8GwtkW90DWX+rBL/tkQVg4hEHPv8XBENxTwdBHFcIMfRhCbuKIwTvvqT+ai7fA0DgtwTAkxj/6DdVAxZS2QVKuO0EyWjjCuA3/we3ZN8KzMO/BTQp1Qa7UX0HyVt9BhciLQYRok8FvlAg+hiWRwWgazsDSiCxB1Ayfwcs5ScKZsbPAh6wZwZ2gvcDfAbu/n6sqwkkniME=",
          "dtype": "f4"
         },
         "y": {
          "bdata": "VVQNQRaixsFuRxRBsfBSwmdpE8FjN0LC1wKtwdMNqcIgTZbAqi+iwoxIi8ITrVjC8MATwpZb58GzTZvCNjcMwbYja8KAuCXC1/XHwVPlT8JdThfCakg3wgt0WcHnCd7BJyeswTrVmMGplwZBKUnDQLA+JcJLaofC+c+FwqPuZML55mfCbVfLwTK0gsJ61SHCoeXEwOULssFhwI7CF+iFwkthTcLKedLB/7lJwrOVmMLKF3/C6RKBwn3zUMLbjhDCL8CswobIgMI=",
          "dtype": "f4"
         },
         "z": {
          "bdata": "ZyUmwsgyE8Jy7PnB0tGGQb8QgMEvz34+YOK/wdRWeUHo0QLCpCPpP7MuxkEgkd3BEW62QIrSfsCfAXfBCHk5wijmJsE52WDBwuOHQfPiq8BOPx7BeNn1waRDHkFywTjBjd7rwR3uJ8IHhbfBNSBdwTiYdMEz9hrBQHRDQA+2EkHRwanBmPh1QemDj0Ahu9XB7pXlwfCCTEBACGLBKxJjQRsYZ0H625/B7hpjvv2KQ0ETObE/ObrbwTIwYMHBO/DBvWffPo/VMME=",
          "dtype": "f4"
         }
        },
        {
         "hovertemplate": "Especie=virginica<br>Componente 1=%{x}<br>Componente 2=%{y}<br>Componente 3=%{z}<extra></extra>",
         "legendgroup": "virginica",
         "marker": {
          "color": "#00cc96",
          "symbol": "circle"
         },
         "mode": "markers",
         "name": "virginica",
         "scene": "scene",
         "showlegend": true,
         "type": "scatter3d",
         "x": {
          "bdata": "VrNaQu1XAEKndYpC88IuQt82UEI0i6xCdOh1QAYfrEKbUIBCV7GWQoQqHULRANlB5JtNQnT8rkHhyi1Cl8HtQcP/MEJAL7xCB4zJQuRn6j8K0mZCKIX1Qd86q0JVP79BHFd6QhggpEJwk55BsawPQkv7SEK8Do1CJ/6NQpyjsUIpGg5Cu0EnQUbd6EGceJBCbrgWQhYMPkKlw9BBKnlDQtEnQULgtRtC7VcAQvYviEJoHVtCIbQJQqPWWEHto/ZBF+cFQvYqLEI=",
          "dtype": "f4"
         },
         "y": {
          "bdata": "BE9EQq8L0sGEQp1BAp9vv6oO+UHwv45Bx4CKwjPnyD+2Q0lAlPUeQuN/GUD4dK1ApGGAQX/vGMKAzB/CJo/qQXVCP0H+PgVCYHgkQQCUscH/+AFCkYgzwuEGzkDT8x7BbWCwQaAoeUFgO3nB20qfwTvob0FpRQNAe718QPBL/0F7Q69BP6nDvV4uAsFO/qNBeyc/QgV5F8B8WwTCGlWQQcxFAkK4mgZCrwvSwctPFEIR+UBCxwfHQVLN2sAqFCdBdEcoQstW9cE=",
          "dtype": "f4"
         },
         "z": {
          "bdata": "5uyZQduhuEHM3FHASDLmQVcBzEFgs0PBcPOuQaNXk8BwAdFBrQEnwVNR1cBByLFBaHTGP9Pm/EFqovdB4+I9QUFEiUHhJPXARLCKwVUz5EEX0fjASYiHQZyrzcF57SRBo7NrQRqA90BwBmnAooFMwCOkCELp/qlAaitUwfONxMHoofBBKMFnQDomIEI8+LzB3uIFQVShOUHCw44+OXFxwYCn6EDpg4zB26G4QTdxAUGdt+K+9iuSwN6yukErxKNA3Ei/QY/5CEE=",
          "dtype": "f4"
         }
        }
       ],
       "layout": {
        "legend": {
         "title": {
          "text": "Especie"
         },
         "tracegroupgap": 0
        },
        "scene": {
         "domain": {
          "x": [
           0,
           1
          ],
          "y": [
           0,
           1
          ]
         },
         "xaxis": {
          "title": {
           "text": "Componente 1"
          }
         },
         "yaxis": {
          "title": {
           "text": "Componente 2"
          }
         },
         "zaxis": {
          "title": {
           "text": "Componente 3"
          }
         }
        },
        "template": {
         "data": {
          "bar": [
           {
            "error_x": {
             "color": "#2a3f5f"
            },
            "error_y": {
             "color": "#2a3f5f"
            },
            "marker": {
             "line": {
              "color": "#E5ECF6",
              "width": 0.5
             },
             "pattern": {
              "fillmode": "overlay",
              "size": 10,
              "solidity": 0.2
             }
            },
            "type": "bar"
           }
          ],
          "barpolar": [
           {
            "marker": {
             "line": {
              "color": "#E5ECF6",
              "width": 0.5
             },
             "pattern": {
              "fillmode": "overlay",
              "size": 10,
              "solidity": 0.2
             }
            },
            "type": "barpolar"
           }
          ],
          "carpet": [
           {
            "aaxis": {
             "endlinecolor": "#2a3f5f",
             "gridcolor": "white",
             "linecolor": "white",
             "minorgridcolor": "white",
             "startlinecolor": "#2a3f5f"
            },
            "baxis": {
             "endlinecolor": "#2a3f5f",
             "gridcolor": "white",
             "linecolor": "white",
             "minorgridcolor": "white",
             "startlinecolor": "#2a3f5f"
            },
            "type": "carpet"
           }
          ],
          "choropleth": [
           {
            "colorbar": {
             "outlinewidth": 0,
             "ticks": ""
            },
            "type": "choropleth"
           }
          ],
          "contour": [
           {
            "colorbar": {
             "outlinewidth": 0,
             "ticks": ""
            },
            "colorscale": [
             [
              0,
              "#0d0887"
             ],
             [
              0.1111111111111111,
              "#46039f"
             ],
             [
              0.2222222222222222,
              "#7201a8"
             ],
             [
              0.3333333333333333,
              "#9c179e"
             ],
             [
              0.4444444444444444,
              "#bd3786"
             ],
             [
              0.5555555555555556,
              "#d8576b"
             ],
             [
              0.6666666666666666,
              "#ed7953"
             ],
             [
              0.7777777777777778,
              "#fb9f3a"
             ],
             [
              0.8888888888888888,
              "#fdca26"
             ],
             [
              1,
              "#f0f921"
             ]
            ],
            "type": "contour"
           }
          ],
          "contourcarpet": [
           {
            "colorbar": {
             "outlinewidth": 0,
             "ticks": ""
            },
            "type": "contourcarpet"
           }
          ],
          "heatmap": [
           {
            "colorbar": {
             "outlinewidth": 0,
             "ticks": ""
            },
            "colorscale": [
             [
              0,
              "#0d0887"
             ],
             [
              0.1111111111111111,
              "#46039f"
             ],
             [
              0.2222222222222222,
              "#7201a8"
             ],
             [
              0.3333333333333333,
              "#9c179e"
             ],
             [
              0.4444444444444444,
              "#bd3786"
             ],
             [
              0.5555555555555556,
              "#d8576b"
             ],
             [
              0.6666666666666666,
              "#ed7953"
             ],
             [
              0.7777777777777778,
              "#fb9f3a"
             ],
             [
              0.8888888888888888,
              "#fdca26"
             ],
             [
              1,
              "#f0f921"
             ]
            ],
            "type": "heatmap"
           }
          ],
          "histogram": [
           {
            "marker": {
             "pattern": {
              "fillmode": "overlay",
              "size": 10,
              "solidity": 0.2
             }
            },
            "type": "histogram"
           }
          ],
          "histogram2d": [
           {
            "colorbar": {
             "outlinewidth": 0,
             "ticks": ""
            },
            "colorscale": [
             [
              0,
              "#0d0887"
             ],
             [
              0.1111111111111111,
              "#46039f"
             ],
             [
              0.2222222222222222,
              "#7201a8"
             ],
             [
              0.3333333333333333,
              "#9c179e"
             ],
             [
              0.4444444444444444,
              "#bd3786"
             ],
             [
              0.5555555555555556,
              "#d8576b"
             ],
             [
              0.6666666666666666,
              "#ed7953"
             ],
             [
              0.7777777777777778,
              "#fb9f3a"
             ],
             [
              0.8888888888888888,
              "#fdca26"
             ],
             [
              1,
              "#f0f921"
             ]
            ],
            "type": "histogram2d"
           }
          ],
          "histogram2dcontour": [
           {
            "colorbar": {
             "outlinewidth": 0,
             "ticks": ""
            },
            "colorscale": [
             [
              0,
              "#0d0887"
             ],
             [
              0.1111111111111111,
              "#46039f"
             ],
             [
              0.2222222222222222,
              "#7201a8"
             ],
             [
              0.3333333333333333,
              "#9c179e"
             ],
             [
              0.4444444444444444,
              "#bd3786"
             ],
             [
              0.5555555555555556,
              "#d8576b"
             ],
             [
              0.6666666666666666,
              "#ed7953"
             ],
             [
              0.7777777777777778,
              "#fb9f3a"
             ],
             [
              0.8888888888888888,
              "#fdca26"
             ],
             [
              1,
              "#f0f921"
             ]
            ],
            "type": "histogram2dcontour"
           }
          ],
          "mesh3d": [
           {
            "colorbar": {
             "outlinewidth": 0,
             "ticks": ""
            },
            "type": "mesh3d"
           }
          ],
          "parcoords": [
           {
            "line": {
             "colorbar": {
              "outlinewidth": 0,
              "ticks": ""
             }
            },
            "type": "parcoords"
           }
          ],
          "pie": [
           {
            "automargin": true,
            "type": "pie"
           }
          ],
          "scatter": [
           {
            "fillpattern": {
             "fillmode": "overlay",
             "size": 10,
             "solidity": 0.2
            },
            "type": "scatter"
           }
          ],
          "scatter3d": [
           {
            "line": {
             "colorbar": {
              "outlinewidth": 0,
              "ticks": ""
             }
            },
            "marker": {
             "colorbar": {
              "outlinewidth": 0,
              "ticks": ""
             }
            },
            "type": "scatter3d"
           }
          ],
          "scattercarpet": [
           {
            "marker": {
             "colorbar": {
              "outlinewidth": 0,
              "ticks": ""
             }
            },
            "type": "scattercarpet"
           }
          ],
          "scattergeo": [
           {
            "marker": {
             "colorbar": {
              "outlinewidth": 0,
              "ticks": ""
             }
            },
            "type": "scattergeo"
           }
          ],
          "scattergl": [
           {
            "marker": {
             "colorbar": {
              "outlinewidth": 0,
              "ticks": ""
             }
            },
            "type": "scattergl"
           }
          ],
          "scattermap": [
           {
            "marker": {
             "colorbar": {
              "outlinewidth": 0,
              "ticks": ""
             }
            },
            "type": "scattermap"
           }
          ],
          "scattermapbox": [
           {
            "marker": {
             "colorbar": {
              "outlinewidth": 0,
              "ticks": ""
             }
            },
            "type": "scattermapbox"
           }
          ],
          "scatterpolar": [
           {
            "marker": {
             "colorbar": {
              "outlinewidth": 0,
              "ticks": ""
             }
            },
            "type": "scatterpolar"
           }
          ],
          "scatterpolargl": [
           {
            "marker": {
             "colorbar": {
              "outlinewidth": 0,
              "ticks": ""
             }
            },
            "type": "scatterpolargl"
           }
          ],
          "scatterternary": [
           {
            "marker": {
             "colorbar": {
              "outlinewidth": 0,
              "ticks": ""
             }
            },
            "type": "scatterternary"
           }
          ],
          "surface": [
           {
            "colorbar": {
             "outlinewidth": 0,
             "ticks": ""
            },
            "colorscale": [
             [
              0,
              "#0d0887"
             ],
             [
              0.1111111111111111,
              "#46039f"
             ],
             [
              0.2222222222222222,
              "#7201a8"
             ],
             [
              0.3333333333333333,
              "#9c179e"
             ],
             [
              0.4444444444444444,
              "#bd3786"
             ],
             [
              0.5555555555555556,
              "#d8576b"
             ],
             [
              0.6666666666666666,
              "#ed7953"
             ],
             [
              0.7777777777777778,
              "#fb9f3a"
             ],
             [
              0.8888888888888888,
              "#fdca26"
             ],
             [
              1,
              "#f0f921"
             ]
            ],
            "type": "surface"
           }
          ],
          "table": [
           {
            "cells": {
             "fill": {
              "color": "#EBF0F8"
             },
             "line": {
              "color": "white"
             }
            },
            "header": {
             "fill": {
              "color": "#C8D4E3"
             },
             "line": {
              "color": "white"
             }
            },
            "type": "table"
           }
          ]
         },
         "layout": {
          "annotationdefaults": {
           "arrowcolor": "#2a3f5f",
           "arrowhead": 0,
           "arrowwidth": 1
          },
          "autotypenumbers": "strict",
          "coloraxis": {
           "colorbar": {
            "outlinewidth": 0,
            "ticks": ""
           }
          },
          "colorscale": {
           "diverging": [
            [
             0,
             "#8e0152"
            ],
            [
             0.1,
             "#c51b7d"
            ],
            [
             0.2,
             "#de77ae"
            ],
            [
             0.3,
             "#f1b6da"
            ],
            [
             0.4,
             "#fde0ef"
            ],
            [
             0.5,
             "#f7f7f7"
            ],
            [
             0.6,
             "#e6f5d0"
            ],
            [
             0.7,
             "#b8e186"
            ],
            [
             0.8,
             "#7fbc41"
            ],
            [
             0.9,
             "#4d9221"
            ],
            [
             1,
             "#276419"
            ]
           ],
           "sequential": [
            [
             0,
             "#0d0887"
            ],
            [
             0.1111111111111111,
             "#46039f"
            ],
            [
             0.2222222222222222,
             "#7201a8"
            ],
            [
             0.3333333333333333,
             "#9c179e"
            ],
            [
             0.4444444444444444,
             "#bd3786"
            ],
            [
             0.5555555555555556,
             "#d8576b"
            ],
            [
             0.6666666666666666,
             "#ed7953"
            ],
            [
             0.7777777777777778,
             "#fb9f3a"
            ],
            [
             0.8888888888888888,
             "#fdca26"
            ],
            [
             1,
             "#f0f921"
            ]
           ],
           "sequentialminus": [
            [
             0,
             "#0d0887"
            ],
            [
             0.1111111111111111,
             "#46039f"
            ],
            [
             0.2222222222222222,
             "#7201a8"
            ],
            [
             0.3333333333333333,
             "#9c179e"
            ],
            [
             0.4444444444444444,
             "#bd3786"
            ],
            [
             0.5555555555555556,
             "#d8576b"
            ],
            [
             0.6666666666666666,
             "#ed7953"
            ],
            [
             0.7777777777777778,
             "#fb9f3a"
            ],
            [
             0.8888888888888888,
             "#fdca26"
            ],
            [
             1,
             "#f0f921"
            ]
           ]
          },
          "colorway": [
           "#636efa",
           "#EF553B",
           "#00cc96",
           "#ab63fa",
           "#FFA15A",
           "#19d3f3",
           "#FF6692",
           "#B6E880",
           "#FF97FF",
           "#FECB52"
          ],
          "font": {
           "color": "#2a3f5f"
          },
          "geo": {
           "bgcolor": "white",
           "lakecolor": "white",
           "landcolor": "#E5ECF6",
           "showlakes": true,
           "showland": true,
           "subunitcolor": "white"
          },
          "hoverlabel": {
           "align": "left"
          },
          "hovermode": "closest",
          "mapbox": {
           "style": "light"
          },
          "paper_bgcolor": "white",
          "plot_bgcolor": "#E5ECF6",
          "polar": {
           "angularaxis": {
            "gridcolor": "white",
            "linecolor": "white",
            "ticks": ""
           },
           "bgcolor": "#E5ECF6",
           "radialaxis": {
            "gridcolor": "white",
            "linecolor": "white",
            "ticks": ""
           }
          },
          "scene": {
           "xaxis": {
            "backgroundcolor": "#E5ECF6",
            "gridcolor": "white",
            "gridwidth": 2,
            "linecolor": "white",
            "showbackground": true,
            "ticks": "",
            "zerolinecolor": "white"
           },
           "yaxis": {
            "backgroundcolor": "#E5ECF6",
            "gridcolor": "white",
            "gridwidth": 2,
            "linecolor": "white",
            "showbackground": true,
            "ticks": "",
            "zerolinecolor": "white"
           },
           "zaxis": {
            "backgroundcolor": "#E5ECF6",
            "gridcolor": "white",
            "gridwidth": 2,
            "linecolor": "white",
            "showbackground": true,
            "ticks": "",
            "zerolinecolor": "white"
           }
          },
          "shapedefaults": {
           "line": {
            "color": "#2a3f5f"
           }
          },
          "ternary": {
           "aaxis": {
            "gridcolor": "white",
            "linecolor": "white",
            "ticks": ""
           },
           "baxis": {
            "gridcolor": "white",
            "linecolor": "white",
            "ticks": ""
           },
           "bgcolor": "#E5ECF6",
           "caxis": {
            "gridcolor": "white",
            "linecolor": "white",
            "ticks": ""
           }
          },
          "title": {
           "x": 0.05
          },
          "xaxis": {
           "automargin": true,
           "gridcolor": "white",
           "linecolor": "white",
           "ticks": "",
           "title": {
            "standoff": 15
           },
           "zerolinecolor": "white",
           "zerolinewidth": 2
          },
          "yaxis": {
           "automargin": true,
           "gridcolor": "white",
           "linecolor": "white",
           "ticks": "",
           "title": {
            "standoff": 15
           },
           "zerolinecolor": "white",
           "zerolinewidth": 2
          }
         }
        },
        "title": {
         "text": "Visualización t-SNE del conjunto de datos Iris en 3D"
        }
       }
      }
     },
     "metadata": {},
     "output_type": "display_data"
    }
   ],
   "source": [
    "# Crear gráfico 3D con plotly\n",
    "fig = px.scatter_3d(\n",
    "    df_tsne,\n",
    "    x='Componente 1',\n",
    "    y='Componente 2',\n",
    "    z='Componente 3',\n",
    "    color='Especie',\n",
    "    title='Visualización t-SNE del conjunto de datos Iris en 3D'\n",
    ")\n",
    "\n",
    "fig.show() # Muestra la figura"
   ]
  },
  {
   "cell_type": "code",
   "execution_count": null,
   "metadata": {},
   "outputs": [],
   "source": []
  }
 ],
 "metadata": {
  "kernelspec": {
   "display_name": ".venv",
   "language": "python",
   "name": "python3"
  },
  "language_info": {
   "codemirror_mode": {
    "name": "ipython",
    "version": 3
   },
   "file_extension": ".py",
   "mimetype": "text/x-python",
   "name": "python",
   "nbconvert_exporter": "python",
   "pygments_lexer": "ipython3",
   "version": "3.13.2"
  }
 },
 "nbformat": 4,
 "nbformat_minor": 2
}
