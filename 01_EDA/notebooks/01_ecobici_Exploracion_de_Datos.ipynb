{
 "cells": [
  {
   "cell_type": "markdown",
   "metadata": {},
   "source": [
    "# Exploración de Datos"
   ]
  },
  {
   "cell_type": "markdown",
   "metadata": {},
   "source": [
    "## Librerías"
   ]
  },
  {
   "cell_type": "code",
   "execution_count": 4,
   "metadata": {},
   "outputs": [],
   "source": [
    "import pandas as pd\n",
    "import numpy as np\n",
    "import matplotlib.pyplot as plt\n",
    "import os\n",
    "import gc"
   ]
  },
  {
   "cell_type": "code",
   "execution_count": 5,
   "metadata": {},
   "outputs": [],
   "source": [
    "pd.options.display.float_format = '{:.3f}'.format"
   ]
  },
  {
   "cell_type": "markdown",
   "metadata": {},
   "source": [
    "## Introducción"
   ]
  },
  {
   "cell_type": "markdown",
   "metadata": {},
   "source": [
    "Clara nos dio el dataset de las ecobicis, quiere que seamos creativos para resolver problemas con los datos como Científicos de Datos.\n",
    "\n",
    "* Promedio de la duración.\n",
    "* Horas \"pico\"\n",
    "* Calculo de distancias\n",
    "* Problema: Proyección de población de bicicleta.\n",
    "* Problema: Oferta / Demanda\n",
    "* Problema: Mantenimiento\n",
    "* Problema: Marketing\n",
    "* Problema: Logística / Rutas"
   ]
  },
  {
   "cell_type": "markdown",
   "metadata": {},
   "source": [
    "## Lectura de insumos"
   ]
  },
  {
   "cell_type": "code",
   "execution_count": 6,
   "metadata": {},
   "outputs": [
    {
     "data": {
      "text/html": [
       "<div>\n",
       "<style scoped>\n",
       "    .dataframe tbody tr th:only-of-type {\n",
       "        vertical-align: middle;\n",
       "    }\n",
       "\n",
       "    .dataframe tbody tr th {\n",
       "        vertical-align: top;\n",
       "    }\n",
       "\n",
       "    .dataframe thead th {\n",
       "        text-align: right;\n",
       "    }\n",
       "</style>\n",
       "<table border=\"1\" class=\"dataframe\">\n",
       "  <thead>\n",
       "    <tr style=\"text-align: right;\">\n",
       "      <th></th>\n",
       "      <th>ID</th>\n",
       "      <th>Nombre</th>\n",
       "      <th>Dirección</th>\n",
       "      <th>Número</th>\n",
       "      <th>Código postal</th>\n",
       "      <th>districtCode</th>\n",
       "      <th>Colonia</th>\n",
       "      <th>altitude</th>\n",
       "      <th>nearbyStations/0</th>\n",
       "      <th>location/lat</th>\n",
       "      <th>location/lon</th>\n",
       "      <th>Tipo de estación</th>\n",
       "      <th>nearbyStations/1</th>\n",
       "      <th>nearbyStations/2</th>\n",
       "      <th>nearbyStations/3</th>\n",
       "      <th>nearbyStations/4</th>\n",
       "      <th>nearbyStations/5</th>\n",
       "      <th>punto_geo</th>\n",
       "    </tr>\n",
       "  </thead>\n",
       "  <tbody>\n",
       "    <tr>\n",
       "      <th>0</th>\n",
       "      <td>416</td>\n",
       "      <td>416 RECREO-PARROQUÍA</td>\n",
       "      <td>416 - Recreo-Parroquía</td>\n",
       "      <td>S/N</td>\n",
       "      <td>3104.000</td>\n",
       "      <td>1</td>\n",
       "      <td>Ampliación Granada</td>\n",
       "      <td>NaN</td>\n",
       "      <td>390</td>\n",
       "      <td>19.371</td>\n",
       "      <td>-99.178</td>\n",
       "      <td>BIKE</td>\n",
       "      <td>391.000</td>\n",
       "      <td>415.000</td>\n",
       "      <td>NaN</td>\n",
       "      <td>NaN</td>\n",
       "      <td>NaN</td>\n",
       "      <td>19.371308,-99.177607</td>\n",
       "    </tr>\n",
       "    <tr>\n",
       "      <th>1</th>\n",
       "      <td>440</td>\n",
       "      <td>440 REAL DE MAYORAZGO-PUENTE XOCO</td>\n",
       "      <td>440 - Real De Mayorazgo-Puente Xoco</td>\n",
       "      <td>S/N</td>\n",
       "      <td>3330.000</td>\n",
       "      <td>1</td>\n",
       "      <td>Ampliación Granada</td>\n",
       "      <td>NaN</td>\n",
       "      <td>433</td>\n",
       "      <td>19.361</td>\n",
       "      <td>-99.169</td>\n",
       "      <td>BIKE</td>\n",
       "      <td>439.000</td>\n",
       "      <td>441.000</td>\n",
       "      <td>NaN</td>\n",
       "      <td>NaN</td>\n",
       "      <td>NaN</td>\n",
       "      <td>19.36065,-99.168669</td>\n",
       "    </tr>\n",
       "    <tr>\n",
       "      <th>2</th>\n",
       "      <td>70</td>\n",
       "      <td>70 PARQUE MEXICO-MICHOACAN</td>\n",
       "      <td>070 - Parque México - Michoacan</td>\n",
       "      <td>S/N</td>\n",
       "      <td>6100.000</td>\n",
       "      <td>1</td>\n",
       "      <td>Ampliación Granada</td>\n",
       "      <td>NaN</td>\n",
       "      <td>69</td>\n",
       "      <td>19.411</td>\n",
       "      <td>-99.170</td>\n",
       "      <td>BIKE,TPV</td>\n",
       "      <td>71.000</td>\n",
       "      <td>76.000</td>\n",
       "      <td>NaN</td>\n",
       "      <td>NaN</td>\n",
       "      <td>NaN</td>\n",
       "      <td>19.411272,-99.169718</td>\n",
       "    </tr>\n",
       "    <tr>\n",
       "      <th>3</th>\n",
       "      <td>325</td>\n",
       "      <td>325 PROVIDENCIA -AVENIDA DEL VALLE</td>\n",
       "      <td>325 - Providencia -Avenida Del Valle</td>\n",
       "      <td>S/N</td>\n",
       "      <td>3100.000</td>\n",
       "      <td>1</td>\n",
       "      <td>Ampliación Granada</td>\n",
       "      <td>NaN</td>\n",
       "      <td>316</td>\n",
       "      <td>19.388</td>\n",
       "      <td>-99.170</td>\n",
       "      <td>BIKE</td>\n",
       "      <td>335.000</td>\n",
       "      <td>336.000</td>\n",
       "      <td>NaN</td>\n",
       "      <td>NaN</td>\n",
       "      <td>NaN</td>\n",
       "      <td>19.3881779,-99.1696894</td>\n",
       "    </tr>\n",
       "    <tr>\n",
       "      <th>4</th>\n",
       "      <td>252</td>\n",
       "      <td>252 VICTOR HUGO-SHAKESPEARE</td>\n",
       "      <td>252 - Víctor Hugo-Shakespeare</td>\n",
       "      <td>S/N</td>\n",
       "      <td>11510.000</td>\n",
       "      <td>2</td>\n",
       "      <td>Anzures</td>\n",
       "      <td>NaN</td>\n",
       "      <td>249</td>\n",
       "      <td>19.428</td>\n",
       "      <td>-99.177</td>\n",
       "      <td>BIKE</td>\n",
       "      <td>251.000</td>\n",
       "      <td>253.000</td>\n",
       "      <td>NaN</td>\n",
       "      <td>NaN</td>\n",
       "      <td>NaN</td>\n",
       "      <td>19.427575,-99.17702</td>\n",
       "    </tr>\n",
       "  </tbody>\n",
       "</table>\n",
       "</div>"
      ],
      "text/plain": [
       "    ID                              Nombre  \\\n",
       "0  416                416 RECREO-PARROQUÍA   \n",
       "1  440   440 REAL DE MAYORAZGO-PUENTE XOCO   \n",
       "2   70          70 PARQUE MEXICO-MICHOACAN   \n",
       "3  325  325 PROVIDENCIA -AVENIDA DEL VALLE   \n",
       "4  252         252 VICTOR HUGO-SHAKESPEARE   \n",
       "\n",
       "                              Dirección Número  Código postal districtCode  \\\n",
       "0                416 - Recreo-Parroquía    S/N       3104.000            1   \n",
       "1   440 - Real De Mayorazgo-Puente Xoco    S/N       3330.000            1   \n",
       "2       070 - Parque México - Michoacan    S/N       6100.000            1   \n",
       "3  325 - Providencia -Avenida Del Valle    S/N       3100.000            1   \n",
       "4         252 - Víctor Hugo-Shakespeare    S/N      11510.000            2   \n",
       "\n",
       "              Colonia  altitude  nearbyStations/0  location/lat  location/lon  \\\n",
       "0  Ampliación Granada       NaN               390        19.371       -99.178   \n",
       "1  Ampliación Granada       NaN               433        19.361       -99.169   \n",
       "2  Ampliación Granada       NaN                69        19.411       -99.170   \n",
       "3  Ampliación Granada       NaN               316        19.388       -99.170   \n",
       "4             Anzures       NaN               249        19.428       -99.177   \n",
       "\n",
       "  Tipo de estación  nearbyStations/1  nearbyStations/2  nearbyStations/3  \\\n",
       "0             BIKE           391.000           415.000               NaN   \n",
       "1             BIKE           439.000           441.000               NaN   \n",
       "2         BIKE,TPV            71.000            76.000               NaN   \n",
       "3             BIKE           335.000           336.000               NaN   \n",
       "4             BIKE           251.000           253.000               NaN   \n",
       "\n",
       "   nearbyStations/4  nearbyStations/5               punto_geo  \n",
       "0               NaN               NaN    19.371308,-99.177607  \n",
       "1               NaN               NaN     19.36065,-99.168669  \n",
       "2               NaN               NaN    19.411272,-99.169718  \n",
       "3               NaN               NaN  19.3881779,-99.1696894  \n",
       "4               NaN               NaN     19.427575,-99.17702  "
      ]
     },
     "execution_count": 6,
     "metadata": {},
     "output_type": "execute_result"
    }
   ],
   "source": [
    "ruta = '../data/ecobici/'\n",
    "cat_estacion = pd.read_csv(ruta + 'estaciones-de-ecobici.csv')\n",
    "cat_estacion.head()"
   ]
  },
  {
   "cell_type": "code",
   "execution_count": 7,
   "metadata": {},
   "outputs": [
    {
     "name": "stdout",
     "output_type": "stream",
     "text": [
      "Total de archivos 25\n"
     ]
    }
   ],
   "source": [
    "# lista de los archivos en ruta\n",
    "lst_f = os.listdir(ruta)\n",
    "\n",
    "# todos los archivos en ruta que inician que no sea 'estaciones-de-ecobici.csv'\n",
    "lst_f = [f for f in lst_f if f != 'estaciones-de-ecobici.csv']\n",
    "\n",
    "print(\"Total de archivos\", len(lst_f))"
   ]
  },
  {
   "cell_type": "code",
   "execution_count": 8,
   "metadata": {},
   "outputs": [
    {
     "name": "stdout",
     "output_type": "stream",
     "text": [
      "Leyendo archivo 1 de 25\n",
      "Leyendo archivo 2 de 25\n",
      "Leyendo archivo 3 de 25\n",
      "Leyendo archivo 4 de 25\n",
      "Leyendo archivo 5 de 25\n",
      "Leyendo archivo 6 de 25\n",
      "Leyendo archivo 7 de 25\n",
      "Leyendo archivo 8 de 25\n",
      "Leyendo archivo 9 de 25\n",
      "Leyendo archivo 10 de 25\n",
      "Leyendo archivo 11 de 25\n",
      "Leyendo archivo 12 de 25\n",
      "Leyendo archivo 13 de 25\n",
      "Leyendo archivo 14 de 25\n",
      "Leyendo archivo 15 de 25\n",
      "Leyendo archivo 16 de 25\n",
      "Leyendo archivo 17 de 25\n",
      "Leyendo archivo 18 de 25\n",
      "Leyendo archivo 19 de 25\n",
      "Leyendo archivo 20 de 25\n",
      "Leyendo archivo 21 de 25\n",
      "Leyendo archivo 22 de 25\n",
      "Leyendo archivo 23 de 25\n",
      "Leyendo archivo 24 de 25\n",
      "Leyendo archivo 25 de 25\n"
     ]
    }
   ],
   "source": [
    "# Lectura de los archivos\n",
    "lst_df = []\n",
    "\n",
    "for f in range(len(lst_f)):\n",
    "    print(\"Leyendo archivo\", f + 1, \"de\", len(lst_f))\n",
    "    lst_df.append(pd.read_csv(ruta + lst_f[f]))"
   ]
  },
  {
   "cell_type": "code",
   "execution_count": 9,
   "metadata": {},
   "outputs": [
    {
     "data": {
      "text/html": [
       "<div>\n",
       "<style scoped>\n",
       "    .dataframe tbody tr th:only-of-type {\n",
       "        vertical-align: middle;\n",
       "    }\n",
       "\n",
       "    .dataframe tbody tr th {\n",
       "        vertical-align: top;\n",
       "    }\n",
       "\n",
       "    .dataframe thead th {\n",
       "        text-align: right;\n",
       "    }\n",
       "</style>\n",
       "<table border=\"1\" class=\"dataframe\">\n",
       "  <thead>\n",
       "    <tr style=\"text-align: right;\">\n",
       "      <th></th>\n",
       "      <th>Genero_Usuario</th>\n",
       "      <th>Edad_Usuario</th>\n",
       "      <th>Bici</th>\n",
       "      <th>Ciclo_Estacion_Retiro</th>\n",
       "      <th>Fecha_Retiro</th>\n",
       "      <th>Hora_Retiro</th>\n",
       "      <th>Ciclo_EstacionArribo</th>\n",
       "      <th>Fecha Arribo</th>\n",
       "      <th>Hora_Arribo</th>\n",
       "      <th>Fecha_Arribo</th>\n",
       "    </tr>\n",
       "  </thead>\n",
       "  <tbody>\n",
       "    <tr>\n",
       "      <th>0</th>\n",
       "      <td>M</td>\n",
       "      <td>29.000</td>\n",
       "      <td>5210661</td>\n",
       "      <td>134</td>\n",
       "      <td>30/09/2023</td>\n",
       "      <td>23:55:54</td>\n",
       "      <td>147</td>\n",
       "      <td>01/10/2023</td>\n",
       "      <td>00:00:16</td>\n",
       "      <td>NaN</td>\n",
       "    </tr>\n",
       "    <tr>\n",
       "      <th>1</th>\n",
       "      <td>M</td>\n",
       "      <td>26.000</td>\n",
       "      <td>8316747</td>\n",
       "      <td>045</td>\n",
       "      <td>30/09/2023</td>\n",
       "      <td>23:46:57</td>\n",
       "      <td>147</td>\n",
       "      <td>01/10/2023</td>\n",
       "      <td>00:00:32</td>\n",
       "      <td>NaN</td>\n",
       "    </tr>\n",
       "    <tr>\n",
       "      <th>2</th>\n",
       "      <td>M</td>\n",
       "      <td>30.000</td>\n",
       "      <td>3749272</td>\n",
       "      <td>384</td>\n",
       "      <td>30/09/2023</td>\n",
       "      <td>23:50:50</td>\n",
       "      <td>337</td>\n",
       "      <td>01/10/2023</td>\n",
       "      <td>00:00:34</td>\n",
       "      <td>NaN</td>\n",
       "    </tr>\n",
       "    <tr>\n",
       "      <th>3</th>\n",
       "      <td>F</td>\n",
       "      <td>40.000</td>\n",
       "      <td>2961233</td>\n",
       "      <td>014</td>\n",
       "      <td>30/09/2023</td>\n",
       "      <td>23:50:24</td>\n",
       "      <td>018</td>\n",
       "      <td>01/10/2023</td>\n",
       "      <td>00:00:36</td>\n",
       "      <td>NaN</td>\n",
       "    </tr>\n",
       "    <tr>\n",
       "      <th>4</th>\n",
       "      <td>F</td>\n",
       "      <td>34.000</td>\n",
       "      <td>2661924</td>\n",
       "      <td>155</td>\n",
       "      <td>30/09/2023</td>\n",
       "      <td>23:55:48</td>\n",
       "      <td>139</td>\n",
       "      <td>01/10/2023</td>\n",
       "      <td>00:00:39</td>\n",
       "      <td>NaN</td>\n",
       "    </tr>\n",
       "  </tbody>\n",
       "</table>\n",
       "</div>"
      ],
      "text/plain": [
       "  Genero_Usuario  Edad_Usuario     Bici Ciclo_Estacion_Retiro Fecha_Retiro  \\\n",
       "0              M        29.000  5210661                   134   30/09/2023   \n",
       "1              M        26.000  8316747                   045   30/09/2023   \n",
       "2              M        30.000  3749272                   384   30/09/2023   \n",
       "3              F        40.000  2961233                   014   30/09/2023   \n",
       "4              F        34.000  2661924                   155   30/09/2023   \n",
       "\n",
       "  Hora_Retiro Ciclo_EstacionArribo Fecha Arribo Hora_Arribo Fecha_Arribo  \n",
       "0    23:55:54                  147   01/10/2023    00:00:16          NaN  \n",
       "1    23:46:57                  147   01/10/2023    00:00:32          NaN  \n",
       "2    23:50:50                  337   01/10/2023    00:00:34          NaN  \n",
       "3    23:50:24                  018   01/10/2023    00:00:36          NaN  \n",
       "4    23:55:48                  139   01/10/2023    00:00:39          NaN  "
      ]
     },
     "execution_count": 9,
     "metadata": {},
     "output_type": "execute_result"
    }
   ],
   "source": [
    "# Concatenar todos los archivos\n",
    "df_viajes = pd.concat(lst_df, axis=0)\n",
    "df_viajes.head() # 5 primeros registros"
   ]
  },
  {
   "cell_type": "code",
   "execution_count": 10,
   "metadata": {},
   "outputs": [
    {
     "data": {
      "text/html": [
       "<div>\n",
       "<style scoped>\n",
       "    .dataframe tbody tr th:only-of-type {\n",
       "        vertical-align: middle;\n",
       "    }\n",
       "\n",
       "    .dataframe tbody tr th {\n",
       "        vertical-align: top;\n",
       "    }\n",
       "\n",
       "    .dataframe thead th {\n",
       "        text-align: right;\n",
       "    }\n",
       "</style>\n",
       "<table border=\"1\" class=\"dataframe\">\n",
       "  <thead>\n",
       "    <tr style=\"text-align: right;\">\n",
       "      <th></th>\n",
       "      <th>Genero_Usuario</th>\n",
       "      <th>Edad_Usuario</th>\n",
       "      <th>Bici</th>\n",
       "      <th>Ciclo_Estacion_Retiro</th>\n",
       "      <th>Fecha_Retiro</th>\n",
       "      <th>Hora_Retiro</th>\n",
       "      <th>Ciclo_EstacionArribo</th>\n",
       "      <th>Fecha Arribo</th>\n",
       "      <th>Hora_Arribo</th>\n",
       "      <th>Fecha_Arribo</th>\n",
       "    </tr>\n",
       "  </thead>\n",
       "  <tbody>\n",
       "    <tr>\n",
       "      <th>1829758</th>\n",
       "      <td>F</td>\n",
       "      <td>30.000</td>\n",
       "      <td>8441289</td>\n",
       "      <td>536</td>\n",
       "      <td>31/03/2024</td>\n",
       "      <td>23:33:51</td>\n",
       "      <td>536</td>\n",
       "      <td>31/03/2024</td>\n",
       "      <td>23:59:28</td>\n",
       "      <td>NaN</td>\n",
       "    </tr>\n",
       "    <tr>\n",
       "      <th>1829759</th>\n",
       "      <td>F</td>\n",
       "      <td>31.000</td>\n",
       "      <td>2991446</td>\n",
       "      <td>543</td>\n",
       "      <td>31/03/2024</td>\n",
       "      <td>23:41:08</td>\n",
       "      <td>257</td>\n",
       "      <td>31/03/2024</td>\n",
       "      <td>23:59:39</td>\n",
       "      <td>NaN</td>\n",
       "    </tr>\n",
       "    <tr>\n",
       "      <th>1829760</th>\n",
       "      <td>M</td>\n",
       "      <td>28.000</td>\n",
       "      <td>4665949</td>\n",
       "      <td>217</td>\n",
       "      <td>31/03/2024</td>\n",
       "      <td>23:34:00</td>\n",
       "      <td>217</td>\n",
       "      <td>31/03/2024</td>\n",
       "      <td>23:59:41</td>\n",
       "      <td>NaN</td>\n",
       "    </tr>\n",
       "    <tr>\n",
       "      <th>1829761</th>\n",
       "      <td>M</td>\n",
       "      <td>22.000</td>\n",
       "      <td>6748404</td>\n",
       "      <td>222</td>\n",
       "      <td>31/03/2024</td>\n",
       "      <td>23:26:00</td>\n",
       "      <td>017</td>\n",
       "      <td>31/03/2024</td>\n",
       "      <td>23:59:44</td>\n",
       "      <td>NaN</td>\n",
       "    </tr>\n",
       "    <tr>\n",
       "      <th>1829762</th>\n",
       "      <td>F</td>\n",
       "      <td>25.000</td>\n",
       "      <td>2719672</td>\n",
       "      <td>222</td>\n",
       "      <td>31/03/2024</td>\n",
       "      <td>23:24:36</td>\n",
       "      <td>017</td>\n",
       "      <td>31/03/2024</td>\n",
       "      <td>23:59:48</td>\n",
       "      <td>NaN</td>\n",
       "    </tr>\n",
       "  </tbody>\n",
       "</table>\n",
       "</div>"
      ],
      "text/plain": [
       "        Genero_Usuario  Edad_Usuario     Bici Ciclo_Estacion_Retiro  \\\n",
       "1829758              F        30.000  8441289                   536   \n",
       "1829759              F        31.000  2991446                   543   \n",
       "1829760              M        28.000  4665949                   217   \n",
       "1829761              M        22.000  6748404                   222   \n",
       "1829762              F        25.000  2719672                   222   \n",
       "\n",
       "        Fecha_Retiro Hora_Retiro Ciclo_EstacionArribo Fecha Arribo  \\\n",
       "1829758   31/03/2024    23:33:51                  536   31/03/2024   \n",
       "1829759   31/03/2024    23:41:08                  257   31/03/2024   \n",
       "1829760   31/03/2024    23:34:00                  217   31/03/2024   \n",
       "1829761   31/03/2024    23:26:00                  017   31/03/2024   \n",
       "1829762   31/03/2024    23:24:36                  017   31/03/2024   \n",
       "\n",
       "        Hora_Arribo Fecha_Arribo  \n",
       "1829758    23:59:28          NaN  \n",
       "1829759    23:59:39          NaN  \n",
       "1829760    23:59:41          NaN  \n",
       "1829761    23:59:44          NaN  \n",
       "1829762    23:59:48          NaN  "
      ]
     },
     "execution_count": 10,
     "metadata": {},
     "output_type": "execute_result"
    }
   ],
   "source": [
    "df_viajes.tail() # 5 últimos registros"
   ]
  },
  {
   "cell_type": "code",
   "execution_count": 11,
   "metadata": {},
   "outputs": [
    {
     "name": "stdout",
     "output_type": "stream",
     "text": [
      "Número de registros: 35145813\n",
      "Número de columnas: 10\n"
     ]
    }
   ],
   "source": [
    "# Características del dataset\n",
    "print(\"Número de registros:\", df_viajes.shape[0])\n",
    "print(\"Número de columnas:\", df_viajes.shape[1])"
   ]
  },
  {
   "cell_type": "code",
   "execution_count": 12,
   "metadata": {},
   "outputs": [
    {
     "data": {
      "text/plain": [
       "0"
      ]
     },
     "execution_count": 12,
     "metadata": {},
     "output_type": "execute_result"
    }
   ],
   "source": [
    "# Eliminar y liberar memoria de los dataframes en la lista\n",
    "for df in lst_df:\n",
    "    del df\n",
    "\n",
    "gc.collect()"
   ]
  },
  {
   "cell_type": "markdown",
   "metadata": {},
   "source": [
    "## Inspección / Exploración"
   ]
  },
  {
   "cell_type": "markdown",
   "metadata": {},
   "source": [
    "Situaciones con el dataset:\n",
    "- Existen dos columnas similares en el nombre: 'Fecha Arribo' y 'Fecha_Arribo', las cuales parecen ser la misma columna. Al ser una cadena que tiene como diferencia el simbolo ' ' por '_', la libreria la esta considerando como dos columnas diferentes."
   ]
  },
  {
   "cell_type": "code",
   "execution_count": 13,
   "metadata": {},
   "outputs": [
    {
     "name": "stdout",
     "output_type": "stream",
     "text": [
      "<class 'pandas.core.frame.DataFrame'>\n",
      "Index: 35145813 entries, 0 to 1829762\n",
      "Data columns (total 10 columns):\n",
      " #   Column                 Dtype  \n",
      "---  ------                 -----  \n",
      " 0   Genero_Usuario         object \n",
      " 1   Edad_Usuario           float64\n",
      " 2   Bici                   int64  \n",
      " 3   Ciclo_Estacion_Retiro  object \n",
      " 4   Fecha_Retiro           object \n",
      " 5   Hora_Retiro            object \n",
      " 6   Ciclo_EstacionArribo   object \n",
      " 7   Fecha Arribo           object \n",
      " 8   Hora_Arribo            object \n",
      " 9   Fecha_Arribo           object \n",
      "dtypes: float64(1), int64(1), object(8)\n",
      "memory usage: 2.9+ GB\n"
     ]
    }
   ],
   "source": [
    "# Información general\n",
    "df_viajes.info()"
   ]
  },
  {
   "cell_type": "code",
   "execution_count": 14,
   "metadata": {},
   "outputs": [
    {
     "data": {
      "text/plain": [
       "Genero_Usuario            object\n",
       "Edad_Usuario             float64\n",
       "Bici                       int64\n",
       "Ciclo_Estacion_Retiro     object\n",
       "Fecha_Retiro              object\n",
       "Hora_Retiro               object\n",
       "Ciclo_EstacionArribo      object\n",
       "Fecha Arribo              object\n",
       "Hora_Arribo               object\n",
       "Fecha_Arribo              object\n",
       "dtype: object"
      ]
     },
     "execution_count": 14,
     "metadata": {},
     "output_type": "execute_result"
    }
   ],
   "source": [
    "# Tipos de datos\n",
    "df_viajes.dtypes"
   ]
  },
  {
   "cell_type": "code",
   "execution_count": 15,
   "metadata": {},
   "outputs": [
    {
     "name": "stdout",
     "output_type": "stream",
     "text": [
      "Genero_Usuario [<class 'str'>, <class 'float'>]\n",
      "Edad_Usuario [<class 'float'>]\n",
      "Bici [<class 'int'>]\n",
      "Ciclo_Estacion_Retiro [<class 'str'>]\n",
      "Fecha_Retiro [<class 'str'>]\n",
      "Hora_Retiro [<class 'str'>]\n",
      "Ciclo_EstacionArribo [<class 'str'>]\n",
      "Fecha Arribo [<class 'str'>, <class 'float'>]\n",
      "Hora_Arribo [<class 'str'>]\n",
      "Fecha_Arribo [<class 'float'>, <class 'str'>]\n"
     ]
    }
   ],
   "source": [
    "# Tipos de datos por columna\n",
    "for c in df_viajes.columns:\n",
    "    print(c, df_viajes[c].map(type).unique().tolist())"
   ]
  },
  {
   "cell_type": "code",
   "execution_count": 16,
   "metadata": {},
   "outputs": [
    {
     "data": {
      "text/html": [
       "<div>\n",
       "<style scoped>\n",
       "    .dataframe tbody tr th:only-of-type {\n",
       "        vertical-align: middle;\n",
       "    }\n",
       "\n",
       "    .dataframe tbody tr th {\n",
       "        vertical-align: top;\n",
       "    }\n",
       "\n",
       "    .dataframe thead th {\n",
       "        text-align: right;\n",
       "    }\n",
       "</style>\n",
       "<table border=\"1\" class=\"dataframe\">\n",
       "  <thead>\n",
       "    <tr style=\"text-align: right;\">\n",
       "      <th></th>\n",
       "      <th>Genero_Usuario</th>\n",
       "      <th>Edad_Usuario</th>\n",
       "      <th>Bici</th>\n",
       "      <th>Ciclo_Estacion_Retiro</th>\n",
       "      <th>Fecha_Retiro</th>\n",
       "      <th>Hora_Retiro</th>\n",
       "      <th>Ciclo_EstacionArribo</th>\n",
       "      <th>Hora_Arribo</th>\n",
       "      <th>Fecha_Arribo</th>\n",
       "    </tr>\n",
       "  </thead>\n",
       "  <tbody>\n",
       "    <tr>\n",
       "      <th>0</th>\n",
       "      <td>M</td>\n",
       "      <td>29.000</td>\n",
       "      <td>5210661</td>\n",
       "      <td>134</td>\n",
       "      <td>30/09/2023</td>\n",
       "      <td>23:55:54</td>\n",
       "      <td>147</td>\n",
       "      <td>00:00:16</td>\n",
       "      <td>01/10/2023</td>\n",
       "    </tr>\n",
       "    <tr>\n",
       "      <th>1</th>\n",
       "      <td>M</td>\n",
       "      <td>26.000</td>\n",
       "      <td>8316747</td>\n",
       "      <td>045</td>\n",
       "      <td>30/09/2023</td>\n",
       "      <td>23:46:57</td>\n",
       "      <td>147</td>\n",
       "      <td>00:00:32</td>\n",
       "      <td>01/10/2023</td>\n",
       "    </tr>\n",
       "    <tr>\n",
       "      <th>2</th>\n",
       "      <td>M</td>\n",
       "      <td>30.000</td>\n",
       "      <td>3749272</td>\n",
       "      <td>384</td>\n",
       "      <td>30/09/2023</td>\n",
       "      <td>23:50:50</td>\n",
       "      <td>337</td>\n",
       "      <td>00:00:34</td>\n",
       "      <td>01/10/2023</td>\n",
       "    </tr>\n",
       "    <tr>\n",
       "      <th>3</th>\n",
       "      <td>F</td>\n",
       "      <td>40.000</td>\n",
       "      <td>2961233</td>\n",
       "      <td>014</td>\n",
       "      <td>30/09/2023</td>\n",
       "      <td>23:50:24</td>\n",
       "      <td>018</td>\n",
       "      <td>00:00:36</td>\n",
       "      <td>01/10/2023</td>\n",
       "    </tr>\n",
       "    <tr>\n",
       "      <th>4</th>\n",
       "      <td>F</td>\n",
       "      <td>34.000</td>\n",
       "      <td>2661924</td>\n",
       "      <td>155</td>\n",
       "      <td>30/09/2023</td>\n",
       "      <td>23:55:48</td>\n",
       "      <td>139</td>\n",
       "      <td>00:00:39</td>\n",
       "      <td>01/10/2023</td>\n",
       "    </tr>\n",
       "  </tbody>\n",
       "</table>\n",
       "</div>"
      ],
      "text/plain": [
       "  Genero_Usuario  Edad_Usuario     Bici Ciclo_Estacion_Retiro Fecha_Retiro  \\\n",
       "0              M        29.000  5210661                   134   30/09/2023   \n",
       "1              M        26.000  8316747                   045   30/09/2023   \n",
       "2              M        30.000  3749272                   384   30/09/2023   \n",
       "3              F        40.000  2961233                   014   30/09/2023   \n",
       "4              F        34.000  2661924                   155   30/09/2023   \n",
       "\n",
       "  Hora_Retiro Ciclo_EstacionArribo Hora_Arribo Fecha_Arribo  \n",
       "0    23:55:54                  147    00:00:16   01/10/2023  \n",
       "1    23:46:57                  147    00:00:32   01/10/2023  \n",
       "2    23:50:50                  337    00:00:34   01/10/2023  \n",
       "3    23:50:24                  018    00:00:36   01/10/2023  \n",
       "4    23:55:48                  139    00:00:39   01/10/2023  "
      ]
     },
     "execution_count": 16,
     "metadata": {},
     "output_type": "execute_result"
    }
   ],
   "source": [
    "# Unimos las columnas 'Fecha Arribo' y 'Fecha_Arribo' en una sola columna\n",
    "df_viajes['Fecha_Arribo'] = df_viajes['Fecha Arribo'].combine_first(df_viajes['Fecha_Arribo'])\n",
    "df_viajes.drop(columns=['Fecha Arribo'], inplace=True)\n",
    "df_viajes.head()"
   ]
  },
  {
   "cell_type": "code",
   "execution_count": 17,
   "metadata": {},
   "outputs": [
    {
     "data": {
      "text/plain": [
       "Genero_Usuario           237\n",
       "Edad_Usuario             987\n",
       "Bici                       0\n",
       "Ciclo_Estacion_Retiro      0\n",
       "Fecha_Retiro               0\n",
       "Hora_Retiro                0\n",
       "Ciclo_EstacionArribo       0\n",
       "Hora_Arribo                0\n",
       "Fecha_Arribo               0\n",
       "dtype: int64"
      ]
     },
     "execution_count": 17,
     "metadata": {},
     "output_type": "execute_result"
    }
   ],
   "source": [
    "# Filas con valores nulos\n",
    "df_viajes.isnull().sum()"
   ]
  },
  {
   "cell_type": "code",
   "execution_count": 18,
   "metadata": {},
   "outputs": [
    {
     "data": {
      "text/html": [
       "<div>\n",
       "<style scoped>\n",
       "    .dataframe tbody tr th:only-of-type {\n",
       "        vertical-align: middle;\n",
       "    }\n",
       "\n",
       "    .dataframe tbody tr th {\n",
       "        vertical-align: top;\n",
       "    }\n",
       "\n",
       "    .dataframe thead th {\n",
       "        text-align: right;\n",
       "    }\n",
       "</style>\n",
       "<table border=\"1\" class=\"dataframe\">\n",
       "  <thead>\n",
       "    <tr style=\"text-align: right;\">\n",
       "      <th></th>\n",
       "      <th>Genero_Usuario</th>\n",
       "      <th>Edad_Usuario</th>\n",
       "      <th>Bici</th>\n",
       "      <th>Ciclo_Estacion_Retiro</th>\n",
       "      <th>Fecha_Retiro</th>\n",
       "      <th>Hora_Retiro</th>\n",
       "      <th>Ciclo_EstacionArribo</th>\n",
       "      <th>Hora_Arribo</th>\n",
       "      <th>Fecha_Arribo</th>\n",
       "    </tr>\n",
       "  </thead>\n",
       "  <tbody>\n",
       "    <tr>\n",
       "      <th>1034265</th>\n",
       "      <td>NaN</td>\n",
       "      <td>NaN</td>\n",
       "      <td>3865789</td>\n",
       "      <td>180</td>\n",
       "      <td>24/10/2023</td>\n",
       "      <td>12:30:33</td>\n",
       "      <td>164</td>\n",
       "      <td>12:38:47</td>\n",
       "      <td>24/10/2023</td>\n",
       "    </tr>\n",
       "    <tr>\n",
       "      <th>1306491</th>\n",
       "      <td>NaN</td>\n",
       "      <td>NaN</td>\n",
       "      <td>6124788</td>\n",
       "      <td>439</td>\n",
       "      <td>30/10/2023</td>\n",
       "      <td>10:17:22</td>\n",
       "      <td>417</td>\n",
       "      <td>10:25:19</td>\n",
       "      <td>30/10/2023</td>\n",
       "    </tr>\n",
       "    <tr>\n",
       "      <th>106262</th>\n",
       "      <td>NaN</td>\n",
       "      <td>NaN</td>\n",
       "      <td>5254487</td>\n",
       "      <td>495</td>\n",
       "      <td>02/11/2024</td>\n",
       "      <td>21:35:04</td>\n",
       "      <td>183</td>\n",
       "      <td>21:41:27</td>\n",
       "      <td>02/11/2024</td>\n",
       "    </tr>\n",
       "    <tr>\n",
       "      <th>106306</th>\n",
       "      <td>NaN</td>\n",
       "      <td>NaN</td>\n",
       "      <td>7889702</td>\n",
       "      <td>495</td>\n",
       "      <td>02/11/2024</td>\n",
       "      <td>21:35:56</td>\n",
       "      <td>001</td>\n",
       "      <td>21:43:01</td>\n",
       "      <td>02/11/2024</td>\n",
       "    </tr>\n",
       "    <tr>\n",
       "      <th>487288</th>\n",
       "      <td>NaN</td>\n",
       "      <td>NaN</td>\n",
       "      <td>2393593</td>\n",
       "      <td>374</td>\n",
       "      <td>08/11/2024</td>\n",
       "      <td>11:28:33</td>\n",
       "      <td>377</td>\n",
       "      <td>11:32:03</td>\n",
       "      <td>08/11/2024</td>\n",
       "    </tr>\n",
       "    <tr>\n",
       "      <th>...</th>\n",
       "      <td>...</td>\n",
       "      <td>...</td>\n",
       "      <td>...</td>\n",
       "      <td>...</td>\n",
       "      <td>...</td>\n",
       "      <td>...</td>\n",
       "      <td>...</td>\n",
       "      <td>...</td>\n",
       "      <td>...</td>\n",
       "    </tr>\n",
       "    <tr>\n",
       "      <th>41199</th>\n",
       "      <td>NaN</td>\n",
       "      <td>NaN</td>\n",
       "      <td>6283576</td>\n",
       "      <td>119</td>\n",
       "      <td>01/03/2024</td>\n",
       "      <td>16:08:59</td>\n",
       "      <td>182</td>\n",
       "      <td>16:27:00</td>\n",
       "      <td>01/03/2024</td>\n",
       "    </tr>\n",
       "    <tr>\n",
       "      <th>720192</th>\n",
       "      <td>NaN</td>\n",
       "      <td>NaN</td>\n",
       "      <td>4540696</td>\n",
       "      <td>477</td>\n",
       "      <td>12/03/2024</td>\n",
       "      <td>17:19:23</td>\n",
       "      <td>080</td>\n",
       "      <td>17:38:02</td>\n",
       "      <td>12/03/2024</td>\n",
       "    </tr>\n",
       "    <tr>\n",
       "      <th>1294938</th>\n",
       "      <td>NaN</td>\n",
       "      <td>NaN</td>\n",
       "      <td>7410467</td>\n",
       "      <td>064</td>\n",
       "      <td>21/03/2024</td>\n",
       "      <td>19:08:01</td>\n",
       "      <td>447</td>\n",
       "      <td>19:18:39</td>\n",
       "      <td>21/03/2024</td>\n",
       "    </tr>\n",
       "    <tr>\n",
       "      <th>1296288</th>\n",
       "      <td>NaN</td>\n",
       "      <td>NaN</td>\n",
       "      <td>2626240</td>\n",
       "      <td>064</td>\n",
       "      <td>21/03/2024</td>\n",
       "      <td>19:06:58</td>\n",
       "      <td>480</td>\n",
       "      <td>19:30:24</td>\n",
       "      <td>21/03/2024</td>\n",
       "    </tr>\n",
       "    <tr>\n",
       "      <th>1607323</th>\n",
       "      <td>NaN</td>\n",
       "      <td>NaN</td>\n",
       "      <td>6905335</td>\n",
       "      <td>486</td>\n",
       "      <td>27/03/2024</td>\n",
       "      <td>08:28:48</td>\n",
       "      <td>004</td>\n",
       "      <td>08:36:31</td>\n",
       "      <td>27/03/2024</td>\n",
       "    </tr>\n",
       "  </tbody>\n",
       "</table>\n",
       "<p>237 rows × 9 columns</p>\n",
       "</div>"
      ],
      "text/plain": [
       "        Genero_Usuario  Edad_Usuario     Bici Ciclo_Estacion_Retiro  \\\n",
       "1034265            NaN           NaN  3865789                   180   \n",
       "1306491            NaN           NaN  6124788                   439   \n",
       "106262             NaN           NaN  5254487                   495   \n",
       "106306             NaN           NaN  7889702                   495   \n",
       "487288             NaN           NaN  2393593                   374   \n",
       "...                ...           ...      ...                   ...   \n",
       "41199              NaN           NaN  6283576                   119   \n",
       "720192             NaN           NaN  4540696                   477   \n",
       "1294938            NaN           NaN  7410467                   064   \n",
       "1296288            NaN           NaN  2626240                   064   \n",
       "1607323            NaN           NaN  6905335                   486   \n",
       "\n",
       "        Fecha_Retiro Hora_Retiro Ciclo_EstacionArribo Hora_Arribo Fecha_Arribo  \n",
       "1034265   24/10/2023    12:30:33                  164    12:38:47   24/10/2023  \n",
       "1306491   30/10/2023    10:17:22                  417    10:25:19   30/10/2023  \n",
       "106262    02/11/2024    21:35:04                  183    21:41:27   02/11/2024  \n",
       "106306    02/11/2024    21:35:56                  001    21:43:01   02/11/2024  \n",
       "487288    08/11/2024    11:28:33                  377    11:32:03   08/11/2024  \n",
       "...              ...         ...                  ...         ...          ...  \n",
       "41199     01/03/2024    16:08:59                  182    16:27:00   01/03/2024  \n",
       "720192    12/03/2024    17:19:23                  080    17:38:02   12/03/2024  \n",
       "1294938   21/03/2024    19:08:01                  447    19:18:39   21/03/2024  \n",
       "1296288   21/03/2024    19:06:58                  480    19:30:24   21/03/2024  \n",
       "1607323   27/03/2024    08:28:48                  004    08:36:31   27/03/2024  \n",
       "\n",
       "[237 rows x 9 columns]"
      ]
     },
     "execution_count": 18,
     "metadata": {},
     "output_type": "execute_result"
    }
   ],
   "source": [
    "# Revisamos filas con valores nulos en la columna 'Genero_Usuario'\n",
    "df_viajes[df_viajes['Genero_Usuario'].isnull()]"
   ]
  },
  {
   "cell_type": "code",
   "execution_count": 19,
   "metadata": {},
   "outputs": [
    {
     "name": "stdout",
     "output_type": "stream",
     "text": [
      "Número de registros: 35145813\n",
      "Número de columnas: 9\n"
     ]
    }
   ],
   "source": [
    "# Tamaño del dataset\n",
    "print(\"Número de registros:\", df_viajes.shape[0])\n",
    "print(\"Número de columnas:\", df_viajes.shape[1])"
   ]
  },
  {
   "cell_type": "code",
   "execution_count": 20,
   "metadata": {},
   "outputs": [],
   "source": [
    "# Eliminar filas de la columna 'Genero_Usuario' que tengan valores nulos\n",
    "df_viajes = df_viajes[df_viajes['Genero_Usuario'].notnull()] "
   ]
  },
  {
   "cell_type": "code",
   "execution_count": 21,
   "metadata": {},
   "outputs": [
    {
     "name": "stdout",
     "output_type": "stream",
     "text": [
      "Número de registros: 35145576\n",
      "Número de columnas: 9\n"
     ]
    }
   ],
   "source": [
    "# Tamaño del dataset\n",
    "print(\"Número de registros:\", df_viajes.shape[0])\n",
    "print(\"Número de columnas:\", df_viajes.shape[1])"
   ]
  },
  {
   "cell_type": "code",
   "execution_count": 22,
   "metadata": {},
   "outputs": [
    {
     "name": "stdout",
     "output_type": "stream",
     "text": [
      "Registros eliminados: 237\n"
     ]
    }
   ],
   "source": [
    "# Numero de registros eliminados\n",
    "print(\"Registros eliminados:\", 35145813 - 35145576)"
   ]
  },
  {
   "cell_type": "code",
   "execution_count": 23,
   "metadata": {},
   "outputs": [
    {
     "data": {
      "text/plain": [
       "Genero_Usuario             0\n",
       "Edad_Usuario             750\n",
       "Bici                       0\n",
       "Ciclo_Estacion_Retiro      0\n",
       "Fecha_Retiro               0\n",
       "Hora_Retiro                0\n",
       "Ciclo_EstacionArribo       0\n",
       "Hora_Arribo                0\n",
       "Fecha_Arribo               0\n",
       "dtype: int64"
      ]
     },
     "execution_count": 23,
     "metadata": {},
     "output_type": "execute_result"
    }
   ],
   "source": [
    "# Filas con valores nulos\n",
    "df_viajes.isnull().sum()"
   ]
  },
  {
   "cell_type": "code",
   "execution_count": 24,
   "metadata": {},
   "outputs": [],
   "source": [
    "# Eliminar filas con valores nulos en las columnas 'Edad_Usuario'\n",
    "df_viajes = df_viajes[df_viajes['Edad_Usuario'].notnull()]"
   ]
  },
  {
   "cell_type": "code",
   "execution_count": 25,
   "metadata": {},
   "outputs": [
    {
     "name": "stdout",
     "output_type": "stream",
     "text": [
      "Número de registros: 35144826\n",
      "Número de columnas: 9\n"
     ]
    }
   ],
   "source": [
    "# Tamaño del dataset\n",
    "print(\"Número de registros:\", df_viajes.shape[0])\n",
    "print(\"Número de columnas:\", df_viajes.shape[1])"
   ]
  },
  {
   "cell_type": "code",
   "execution_count": 26,
   "metadata": {},
   "outputs": [
    {
     "name": "stdout",
     "output_type": "stream",
     "text": [
      "Registros eliminados: 750\n"
     ]
    }
   ],
   "source": [
    "# Numero de registros eliminados\n",
    "print(\"Registros eliminados:\", 35145576 - 35144826)"
   ]
  },
  {
   "cell_type": "code",
   "execution_count": 27,
   "metadata": {},
   "outputs": [
    {
     "data": {
      "text/plain": [
       "Genero_Usuario           0\n",
       "Edad_Usuario             0\n",
       "Bici                     0\n",
       "Ciclo_Estacion_Retiro    0\n",
       "Fecha_Retiro             0\n",
       "Hora_Retiro              0\n",
       "Ciclo_EstacionArribo     0\n",
       "Hora_Arribo              0\n",
       "Fecha_Arribo             0\n",
       "dtype: int64"
      ]
     },
     "execution_count": 27,
     "metadata": {},
     "output_type": "execute_result"
    }
   ],
   "source": [
    "# Filas con valores nulos\n",
    "df_viajes.isnull().sum()"
   ]
  },
  {
   "cell_type": "code",
   "execution_count": 28,
   "metadata": {},
   "outputs": [
    {
     "name": "stdout",
     "output_type": "stream",
     "text": [
      "Genero_Usuario [<class 'str'>]\n",
      "Edad_Usuario [<class 'float'>]\n",
      "Bici [<class 'int'>]\n",
      "Ciclo_Estacion_Retiro [<class 'str'>]\n",
      "Fecha_Retiro [<class 'str'>]\n",
      "Hora_Retiro [<class 'str'>]\n",
      "Ciclo_EstacionArribo [<class 'str'>]\n",
      "Hora_Arribo [<class 'str'>]\n",
      "Fecha_Arribo [<class 'str'>]\n"
     ]
    }
   ],
   "source": [
    "# Tipo de datos por columna\n",
    "for c in df_viajes.columns:\n",
    "    print(c, df_viajes[c].map(type).unique().tolist())"
   ]
  },
  {
   "cell_type": "code",
   "execution_count": 29,
   "metadata": {},
   "outputs": [],
   "source": [
    "# Optimizar el uso de memoria ajustando el tipo de dato de las columnas de  64 bits a 32 bits\n",
    "df_viajes['Bici'] = df_viajes['Bici'].astype(np.int32)"
   ]
  },
  {
   "cell_type": "markdown",
   "metadata": {},
   "source": [
    "No se puede realizar el ajuste de la columna 'Ciclo_Estacion_Retiro' por un valor que no puede ser transformado a numero, ya que cuenta con un guion entre los numeros"
   ]
  },
  {
   "cell_type": "code",
   "execution_count": 30,
   "metadata": {},
   "outputs": [
    {
     "data": {
      "text/html": [
       "<div>\n",
       "<style scoped>\n",
       "    .dataframe tbody tr th:only-of-type {\n",
       "        vertical-align: middle;\n",
       "    }\n",
       "\n",
       "    .dataframe tbody tr th {\n",
       "        vertical-align: top;\n",
       "    }\n",
       "\n",
       "    .dataframe thead th {\n",
       "        text-align: right;\n",
       "    }\n",
       "</style>\n",
       "<table border=\"1\" class=\"dataframe\">\n",
       "  <thead>\n",
       "    <tr style=\"text-align: right;\">\n",
       "      <th></th>\n",
       "      <th>Genero_Usuario</th>\n",
       "      <th>Edad_Usuario</th>\n",
       "      <th>Bici</th>\n",
       "      <th>Ciclo_Estacion_Retiro</th>\n",
       "      <th>Fecha_Retiro</th>\n",
       "      <th>Hora_Retiro</th>\n",
       "      <th>Ciclo_EstacionArribo</th>\n",
       "      <th>Hora_Arribo</th>\n",
       "      <th>Fecha_Arribo</th>\n",
       "    </tr>\n",
       "  </thead>\n",
       "  <tbody>\n",
       "    <tr>\n",
       "      <th>10</th>\n",
       "      <td>O</td>\n",
       "      <td>31.000</td>\n",
       "      <td>7546344</td>\n",
       "      <td>107-108</td>\n",
       "      <td>30/09/2023</td>\n",
       "      <td>23:30:58</td>\n",
       "      <td>102</td>\n",
       "      <td>00:01:11</td>\n",
       "      <td>01/10/2023</td>\n",
       "    </tr>\n",
       "    <tr>\n",
       "      <th>422</th>\n",
       "      <td>M</td>\n",
       "      <td>51.000</td>\n",
       "      <td>2918365</td>\n",
       "      <td>107-108</td>\n",
       "      <td>01/10/2023</td>\n",
       "      <td>05:37:27</td>\n",
       "      <td>018</td>\n",
       "      <td>05:49:08</td>\n",
       "      <td>01/10/2023</td>\n",
       "    </tr>\n",
       "    <tr>\n",
       "      <th>709</th>\n",
       "      <td>M</td>\n",
       "      <td>40.000</td>\n",
       "      <td>2222826</td>\n",
       "      <td>107-108</td>\n",
       "      <td>01/10/2023</td>\n",
       "      <td>07:02:42</td>\n",
       "      <td>026</td>\n",
       "      <td>07:08:17</td>\n",
       "      <td>01/10/2023</td>\n",
       "    </tr>\n",
       "    <tr>\n",
       "      <th>840</th>\n",
       "      <td>M</td>\n",
       "      <td>45.000</td>\n",
       "      <td>7535610</td>\n",
       "      <td>107-108</td>\n",
       "      <td>01/10/2023</td>\n",
       "      <td>07:26:06</td>\n",
       "      <td>121</td>\n",
       "      <td>07:31:42</td>\n",
       "      <td>01/10/2023</td>\n",
       "    </tr>\n",
       "    <tr>\n",
       "      <th>980</th>\n",
       "      <td>M</td>\n",
       "      <td>32.000</td>\n",
       "      <td>3623840</td>\n",
       "      <td>107-108</td>\n",
       "      <td>01/10/2023</td>\n",
       "      <td>07:44:01</td>\n",
       "      <td>113</td>\n",
       "      <td>07:49:04</td>\n",
       "      <td>01/10/2023</td>\n",
       "    </tr>\n",
       "    <tr>\n",
       "      <th>...</th>\n",
       "      <td>...</td>\n",
       "      <td>...</td>\n",
       "      <td>...</td>\n",
       "      <td>...</td>\n",
       "      <td>...</td>\n",
       "      <td>...</td>\n",
       "      <td>...</td>\n",
       "      <td>...</td>\n",
       "      <td>...</td>\n",
       "    </tr>\n",
       "    <tr>\n",
       "      <th>1827527</th>\n",
       "      <td>M</td>\n",
       "      <td>34.000</td>\n",
       "      <td>5720545</td>\n",
       "      <td>107-108</td>\n",
       "      <td>31/03/2024</td>\n",
       "      <td>21:38:38</td>\n",
       "      <td>112</td>\n",
       "      <td>21:43:34</td>\n",
       "      <td>31/03/2024</td>\n",
       "    </tr>\n",
       "    <tr>\n",
       "      <th>1827779</th>\n",
       "      <td>M</td>\n",
       "      <td>32.000</td>\n",
       "      <td>2080414</td>\n",
       "      <td>107-108</td>\n",
       "      <td>31/03/2024</td>\n",
       "      <td>21:38:13</td>\n",
       "      <td>584</td>\n",
       "      <td>21:53:39</td>\n",
       "      <td>31/03/2024</td>\n",
       "    </tr>\n",
       "    <tr>\n",
       "      <th>1828369</th>\n",
       "      <td>M</td>\n",
       "      <td>38.000</td>\n",
       "      <td>2561918</td>\n",
       "      <td>107-108</td>\n",
       "      <td>31/03/2024</td>\n",
       "      <td>22:04:50</td>\n",
       "      <td>482</td>\n",
       "      <td>22:21:44</td>\n",
       "      <td>31/03/2024</td>\n",
       "    </tr>\n",
       "    <tr>\n",
       "      <th>1828384</th>\n",
       "      <td>M</td>\n",
       "      <td>42.000</td>\n",
       "      <td>8886426</td>\n",
       "      <td>107-108</td>\n",
       "      <td>31/03/2024</td>\n",
       "      <td>22:13:58</td>\n",
       "      <td>102</td>\n",
       "      <td>22:22:09</td>\n",
       "      <td>31/03/2024</td>\n",
       "    </tr>\n",
       "    <tr>\n",
       "      <th>1828707</th>\n",
       "      <td>M</td>\n",
       "      <td>29.000</td>\n",
       "      <td>7224793</td>\n",
       "      <td>107-108</td>\n",
       "      <td>31/03/2024</td>\n",
       "      <td>22:04:07</td>\n",
       "      <td>481</td>\n",
       "      <td>22:38:41</td>\n",
       "      <td>31/03/2024</td>\n",
       "    </tr>\n",
       "  </tbody>\n",
       "</table>\n",
       "<p>177300 rows × 9 columns</p>\n",
       "</div>"
      ],
      "text/plain": [
       "        Genero_Usuario  Edad_Usuario     Bici Ciclo_Estacion_Retiro  \\\n",
       "10                   O        31.000  7546344               107-108   \n",
       "422                  M        51.000  2918365               107-108   \n",
       "709                  M        40.000  2222826               107-108   \n",
       "840                  M        45.000  7535610               107-108   \n",
       "980                  M        32.000  3623840               107-108   \n",
       "...                ...           ...      ...                   ...   \n",
       "1827527              M        34.000  5720545               107-108   \n",
       "1827779              M        32.000  2080414               107-108   \n",
       "1828369              M        38.000  2561918               107-108   \n",
       "1828384              M        42.000  8886426               107-108   \n",
       "1828707              M        29.000  7224793               107-108   \n",
       "\n",
       "        Fecha_Retiro Hora_Retiro Ciclo_EstacionArribo Hora_Arribo Fecha_Arribo  \n",
       "10        30/09/2023    23:30:58                  102    00:01:11   01/10/2023  \n",
       "422       01/10/2023    05:37:27                  018    05:49:08   01/10/2023  \n",
       "709       01/10/2023    07:02:42                  026    07:08:17   01/10/2023  \n",
       "840       01/10/2023    07:26:06                  121    07:31:42   01/10/2023  \n",
       "980       01/10/2023    07:44:01                  113    07:49:04   01/10/2023  \n",
       "...              ...         ...                  ...         ...          ...  \n",
       "1827527   31/03/2024    21:38:38                  112    21:43:34   31/03/2024  \n",
       "1827779   31/03/2024    21:38:13                  584    21:53:39   31/03/2024  \n",
       "1828369   31/03/2024    22:04:50                  482    22:21:44   31/03/2024  \n",
       "1828384   31/03/2024    22:13:58                  102    22:22:09   31/03/2024  \n",
       "1828707   31/03/2024    22:04:07                  481    22:38:41   31/03/2024  \n",
       "\n",
       "[177300 rows x 9 columns]"
      ]
     },
     "execution_count": 30,
     "metadata": {},
     "output_type": "execute_result"
    }
   ],
   "source": [
    "# Buscamos el registro en la columna 'Ciclo_Estacion_Retiro' con el valor '107-108'\n",
    "df_viajes[df_viajes['Ciclo_Estacion_Retiro'] == '107-108']"
   ]
  },
  {
   "cell_type": "code",
   "execution_count": 31,
   "metadata": {},
   "outputs": [
    {
     "data": {
      "text/plain": [
       "array(['134', '045', '384', '014', '155', '063', '075', '304', '032',\n",
       "       '107-108', '604', '081', '025', '029', '043', '228', '038', '366',\n",
       "       '414', '111', '068', '123', '168', '261', '420', '354', '356',\n",
       "       '554', '058', '409', '139', '079', '145', '314', '246', '242',\n",
       "       '615', '117', '054', '349', '030', '374', '137', '064', '456',\n",
       "       '318', '140', '048', '219', '142', '078', '288', '052', '004',\n",
       "       '154', '136', '047', '589', '340', '005', '041', '141', '270',\n",
       "       '074', '233', '182', '059', '110', '185', '008', '659', '465',\n",
       "       '700', '119', '126', '100', '044', '118', '597', '221', '099',\n",
       "       '055', '087', '389', '553', '237-238', '564', '365', '026', '317',\n",
       "       '167', '012', '543', '144', '449', '545', '010', '469', '546',\n",
       "       '129', '429', '171', '397', '102', '301', '308', '321', '069',\n",
       "       '225', '065', '135', '303', '208', '080', '056', '009', '178',\n",
       "       '019', '398', '696', '271-272', '089', '617', '611', '540', '164',\n",
       "       '125', '537', '077', '170', '424', '132', '466', '708', '180',\n",
       "       '086', '253', '105', '027', '018', '549', '326', '189', '156',\n",
       "       '186', '260', '204', '276', '468', '006', '372', '017', '320',\n",
       "       '114', '643', '183', '151', '259', '150', '336', '120', '039',\n",
       "       '084', '072', '393', '447', '158-159', '143', '020', '098', '162',\n",
       "       '138', '477', '626', '049', '148', '002', '015', '250', '179',\n",
       "       '082', '061', '280', '213', '672', '153', '218', '375', '071',\n",
       "       '198', '265', '131', '322', '033', '657', '263', '031', '551',\n",
       "       '034', '258', '152', '342', '146', '329', '163', '252', '024',\n",
       "       '502', '113', '169', '190', '569', '302', '313', '296', '172',\n",
       "       '462', '251', '001', '104', '097', '562', '295', '390-391', '255',\n",
       "       '452', '460', '550', '392', '404', '240', '281', '471', '217',\n",
       "       '630', '467', '292', '461', '401', '706', '555', '612', '481',\n",
       "       '249', '124', '491', '093', '496', '330', '166', '147', '165',\n",
       "       '036', '394', '495', '291', '037', '262', '023', '256', '181',\n",
       "       '282', '194', '053', '536', '175', '057', '007', '096', '421',\n",
       "       '277', '480', '003', '357', '541', '427', '355', '205', '337',\n",
       "       '109', '475', '273-274', '432', '402', '571', '478', '325', '385',\n",
       "       '149', '459', '499', '507', '188', '492', '212', '552', '103',\n",
       "       '450', '341', '040', '377', '116', '455', '176', '264-275', '405',\n",
       "       '637', '133', '464', '243', '206', '399', '649', '362', '195',\n",
       "       '290', '568', '602', '386', '046', '247', '234', '160', '022',\n",
       "       '254', '359', '222', '298', '395', '669', '300', '191', '286',\n",
       "       '070', '232', '319', '235-236', '673', '660', '327', '121', '035',\n",
       "       '428', '348', '091', '293', '503', '485', '482', '369', '413',\n",
       "       '333', '305', '199', '085', '328', '285', '560', '239', '050',\n",
       "       '287', '334', '351', '504', '444', '192-193', '476', '177', '339',\n",
       "       '196', '633', '358', '603', '021', '448', '248', '567', '266-267',\n",
       "       '343', '257', '173', '013', '042', '439', '445-446', '378', '498',\n",
       "       '309', '360', '371', '497', '241', '629', '268-269', '122', '453',\n",
       "       '324', '067', '474', '331', '315', '128', '226', '702', '066',\n",
       "       '506', '157', '494', '299', '230', '479', '294', '028', '704',\n",
       "       '483', '220', '297', '201', '092', '407', '352', '174', '312',\n",
       "       '060', '425', '668', '223', '279', '347', '415', '130', '438',\n",
       "       '472', '283', '380', '624', '062', '419', '088', '363', '470',\n",
       "       '652', '316', '016', '011', '323', '245', '112', '656', '433',\n",
       "       '307', '634', '076', '215', '579', '430', '187', '396', '639',\n",
       "       '381', '211', '373', '501', '115', '709', '361', '224', '620',\n",
       "       '332', '278', '094', '577', '443', '691', '451', '412', '387',\n",
       "       '231', '670', '284', '580', '338', '073', '095', '437', '559',\n",
       "       '346', '592', '689', '367', '210', '244', '416', '651', '310',\n",
       "       '661', '203', '667', '619', '458', '083', '161', '422', '345',\n",
       "       '127', '184', '202', '434', '216', '417', '051', '370', '486',\n",
       "       '692', '209', '573', '441', '200', '688', '436', '618', '457',\n",
       "       '090', '207', '701', '658', '609', '214', '454', '227', '353',\n",
       "       '335', '623', '473', '306', '703', '229', '694', '442', '1000',\n",
       "       '578', '645', '563', '697', '423', '575', '590', '556', '584',\n",
       "       '463', '650', '679', '678', '664', '666', '663', '662', '686',\n",
       "       '644', '685', '635', '608', '671', '558', '636', '574', '576',\n",
       "       '531', '640', '542', '690', '544', '593', '547', '648', '614',\n",
       "       '601', '595', '106', '582', '557', '572', '440', '621', '674',\n",
       "       '566', '585', '646', '539', '484', '587', '508', '565', '588',\n",
       "       '695', '613', '631', '519', '653', '647', '523', '522', '570',\n",
       "       '628', '642', '632', '581', '500', '525', '605', '493', '596',\n",
       "       '521', '699', '680', '591', '599', '534', '487', '489', '533',\n",
       "       '505', '583', '516', '705', '515', '520', '535', '594', '600',\n",
       "       '641', '509', '514', '622', '517', '665', '197', '683', '513',\n",
       "       '548', '488', '561', '625', '490', '528', '606', '638', '512',\n",
       "       '526', '654', '698', '607', '616', '510', '538', '693', '687',\n",
       "       '684', '518', '627', '527', '586', '610', '598', '707', '532',\n",
       "       '655', '675', '710', '529', '681', '677', '682', '711', '511',\n",
       "       '530', '524', '676', '4422222', '1002', 'kiosco100-FallaRTC', '33',\n",
       "       'Tag ID defectuosa NS 1649 (Kiosco478)', 'CE-642', 'CE-622',\n",
       "       'Kiosco Reciclar Fue CE-008', 'kiosco Buscar (tal vez CE-009)'],\n",
       "      dtype=object)"
      ]
     },
     "execution_count": 31,
     "metadata": {},
     "output_type": "execute_result"
    }
   ],
   "source": [
    "# Valores distintos en la columna 'Ciclo_Estacion_Retiro'\n",
    "df_viajes['Ciclo_Estacion_Retiro'].unique()"
   ]
  },
  {
   "cell_type": "code",
   "execution_count": 32,
   "metadata": {},
   "outputs": [
    {
     "data": {
      "text/plain": [
       "array([ 29.,  26.,  30.,  40.,  34.,  39.,  23.,  24.,  27.,  31.,  43.,\n",
       "        41.,  35.,  28.,  53.,  48.,  32.,  22.,  19.,  33.,  46.,  38.,\n",
       "        36.,  25.,  55.,  44.,  42.,  58.,  45.,  49.,  37.,  21.,  75.,\n",
       "        56.,  50.,  18.,  54.,  20.,  73.,  60.,  64.,  17.,  59.,  57.,\n",
       "        47.,  51.,  65.,  67.,  52.,  66.,  62.,  63.,  61.,  68.,  72.,\n",
       "        69.,  82.,  70.,  78.,  71.,  79.,  77.,  76.,  16.,  74.,  80.,\n",
       "        84.,  97.,  83.,  88.,  81., 100.,  90., 123., 102.,  98.,  85.,\n",
       "        99.,  91.,  95.,  89.,  94.,  96., 101., 151.,  86., 115., 124.,\n",
       "       160., 137.,  87., 152., 145., 119., 104., 122., 110.])"
      ]
     },
     "execution_count": 32,
     "metadata": {},
     "output_type": "execute_result"
    }
   ],
   "source": [
    "# Valores distintos en la columna 'Edad_Usuario'\n",
    "df_viajes['Edad_Usuario'].unique()"
   ]
  },
  {
   "cell_type": "code",
   "execution_count": 33,
   "metadata": {},
   "outputs": [],
   "source": [
    "# Convertir la columna 'Edad_Usuario' a tipo de dato entero de 32 bits\n",
    "df_viajes['Edad_Usuario'] = df_viajes['Edad_Usuario'].astype(np.int32)"
   ]
  },
  {
   "cell_type": "code",
   "execution_count": 34,
   "metadata": {},
   "outputs": [
    {
     "data": {
      "text/plain": [
       "array([ 29,  26,  30,  40,  34,  39,  23,  24,  27,  31,  43,  41,  35,\n",
       "        28,  53,  48,  32,  22,  19,  33,  46,  38,  36,  25,  55,  44,\n",
       "        42,  58,  45,  49,  37,  21,  75,  56,  50,  18,  54,  20,  73,\n",
       "        60,  64,  17,  59,  57,  47,  51,  65,  67,  52,  66,  62,  63,\n",
       "        61,  68,  72,  69,  82,  70,  78,  71,  79,  77,  76,  16,  74,\n",
       "        80,  84,  97,  83,  88,  81, 100,  90, 123, 102,  98,  85,  99,\n",
       "        91,  95,  89,  94,  96, 101, 151,  86, 115, 124, 160, 137,  87,\n",
       "       152, 145, 119, 104, 122, 110], dtype=int32)"
      ]
     },
     "execution_count": 34,
     "metadata": {},
     "output_type": "execute_result"
    }
   ],
   "source": [
    "# Valores distintos en la columna 'Edad_Usuario'\n",
    "df_viajes['Edad_Usuario'].unique()"
   ]
  },
  {
   "cell_type": "code",
   "execution_count": 35,
   "metadata": {},
   "outputs": [
    {
     "name": "stdout",
     "output_type": "stream",
     "text": [
      "Número de registros: 35144826\n",
      "Número de columnas: 9\n"
     ]
    }
   ],
   "source": [
    "# Tamaño del dataset\n",
    "print(\"Número de registros:\", df_viajes.shape[0])\n",
    "print(\"Número de columnas:\", df_viajes.shape[1])"
   ]
  },
  {
   "cell_type": "code",
   "execution_count": 36,
   "metadata": {},
   "outputs": [
    {
     "data": {
      "text/html": [
       "<div>\n",
       "<style scoped>\n",
       "    .dataframe tbody tr th:only-of-type {\n",
       "        vertical-align: middle;\n",
       "    }\n",
       "\n",
       "    .dataframe tbody tr th {\n",
       "        vertical-align: top;\n",
       "    }\n",
       "\n",
       "    .dataframe thead th {\n",
       "        text-align: right;\n",
       "    }\n",
       "</style>\n",
       "<table border=\"1\" class=\"dataframe\">\n",
       "  <thead>\n",
       "    <tr style=\"text-align: right;\">\n",
       "      <th></th>\n",
       "      <th>Genero_Usuario</th>\n",
       "      <th>Edad_Usuario</th>\n",
       "      <th>Bici</th>\n",
       "      <th>Ciclo_Estacion_Retiro</th>\n",
       "      <th>Fecha_Retiro</th>\n",
       "      <th>Hora_Retiro</th>\n",
       "      <th>Ciclo_EstacionArribo</th>\n",
       "      <th>Hora_Arribo</th>\n",
       "      <th>Fecha_Arribo</th>\n",
       "    </tr>\n",
       "  </thead>\n",
       "  <tbody>\n",
       "    <tr>\n",
       "      <th>0</th>\n",
       "      <td>M</td>\n",
       "      <td>29</td>\n",
       "      <td>5210661</td>\n",
       "      <td>134</td>\n",
       "      <td>30/09/2023</td>\n",
       "      <td>23:55:54</td>\n",
       "      <td>147</td>\n",
       "      <td>00:00:16</td>\n",
       "      <td>01/10/2023</td>\n",
       "    </tr>\n",
       "    <tr>\n",
       "      <th>1</th>\n",
       "      <td>M</td>\n",
       "      <td>26</td>\n",
       "      <td>8316747</td>\n",
       "      <td>045</td>\n",
       "      <td>30/09/2023</td>\n",
       "      <td>23:46:57</td>\n",
       "      <td>147</td>\n",
       "      <td>00:00:32</td>\n",
       "      <td>01/10/2023</td>\n",
       "    </tr>\n",
       "    <tr>\n",
       "      <th>2</th>\n",
       "      <td>M</td>\n",
       "      <td>30</td>\n",
       "      <td>3749272</td>\n",
       "      <td>384</td>\n",
       "      <td>30/09/2023</td>\n",
       "      <td>23:50:50</td>\n",
       "      <td>337</td>\n",
       "      <td>00:00:34</td>\n",
       "      <td>01/10/2023</td>\n",
       "    </tr>\n",
       "    <tr>\n",
       "      <th>3</th>\n",
       "      <td>F</td>\n",
       "      <td>40</td>\n",
       "      <td>2961233</td>\n",
       "      <td>014</td>\n",
       "      <td>30/09/2023</td>\n",
       "      <td>23:50:24</td>\n",
       "      <td>018</td>\n",
       "      <td>00:00:36</td>\n",
       "      <td>01/10/2023</td>\n",
       "    </tr>\n",
       "    <tr>\n",
       "      <th>4</th>\n",
       "      <td>F</td>\n",
       "      <td>34</td>\n",
       "      <td>2661924</td>\n",
       "      <td>155</td>\n",
       "      <td>30/09/2023</td>\n",
       "      <td>23:55:48</td>\n",
       "      <td>139</td>\n",
       "      <td>00:00:39</td>\n",
       "      <td>01/10/2023</td>\n",
       "    </tr>\n",
       "  </tbody>\n",
       "</table>\n",
       "</div>"
      ],
      "text/plain": [
       "  Genero_Usuario  Edad_Usuario     Bici Ciclo_Estacion_Retiro Fecha_Retiro  \\\n",
       "0              M            29  5210661                   134   30/09/2023   \n",
       "1              M            26  8316747                   045   30/09/2023   \n",
       "2              M            30  3749272                   384   30/09/2023   \n",
       "3              F            40  2961233                   014   30/09/2023   \n",
       "4              F            34  2661924                   155   30/09/2023   \n",
       "\n",
       "  Hora_Retiro Ciclo_EstacionArribo Hora_Arribo Fecha_Arribo  \n",
       "0    23:55:54                  147    00:00:16   01/10/2023  \n",
       "1    23:46:57                  147    00:00:32   01/10/2023  \n",
       "2    23:50:50                  337    00:00:34   01/10/2023  \n",
       "3    23:50:24                  018    00:00:36   01/10/2023  \n",
       "4    23:55:48                  139    00:00:39   01/10/2023  "
      ]
     },
     "execution_count": 36,
     "metadata": {},
     "output_type": "execute_result"
    }
   ],
   "source": [
    "# Vista del dataset\n",
    "df_viajes.head()"
   ]
  },
  {
   "cell_type": "code",
   "execution_count": 37,
   "metadata": {},
   "outputs": [],
   "source": [
    "# Transformar la columna 'Fecha_Arribo' a tipo de dato datetime\n",
    "df_viajes['fh_retiro'] = pd.to_datetime(df_viajes['Fecha_Retiro'].map( lambda x: x[-4:]+'-'+x[3:5]+'-'+x[:2] ) +' ' + df_viajes['Hora_Retiro'].map( lambda x: x ) , errors='coerce')\n",
    "df_viajes['fh_arribo'] = pd.to_datetime(df_viajes['Fecha_Arribo'].map( lambda x: x[-4:]+'-'+x[3:5]+'-'+x[:2] ) +' ' + df_viajes['Hora_Arribo'].map( lambda x: x ) , errors='coerce')"
   ]
  },
  {
   "cell_type": "code",
   "execution_count": 38,
   "metadata": {},
   "outputs": [
    {
     "data": {
      "text/html": [
       "<div>\n",
       "<style scoped>\n",
       "    .dataframe tbody tr th:only-of-type {\n",
       "        vertical-align: middle;\n",
       "    }\n",
       "\n",
       "    .dataframe tbody tr th {\n",
       "        vertical-align: top;\n",
       "    }\n",
       "\n",
       "    .dataframe thead th {\n",
       "        text-align: right;\n",
       "    }\n",
       "</style>\n",
       "<table border=\"1\" class=\"dataframe\">\n",
       "  <thead>\n",
       "    <tr style=\"text-align: right;\">\n",
       "      <th></th>\n",
       "      <th>Genero_Usuario</th>\n",
       "      <th>Edad_Usuario</th>\n",
       "      <th>Bici</th>\n",
       "      <th>Ciclo_Estacion_Retiro</th>\n",
       "      <th>Fecha_Retiro</th>\n",
       "      <th>Hora_Retiro</th>\n",
       "      <th>Ciclo_EstacionArribo</th>\n",
       "      <th>Hora_Arribo</th>\n",
       "      <th>Fecha_Arribo</th>\n",
       "      <th>fh_retiro</th>\n",
       "      <th>fh_arribo</th>\n",
       "    </tr>\n",
       "  </thead>\n",
       "  <tbody>\n",
       "    <tr>\n",
       "      <th>0</th>\n",
       "      <td>M</td>\n",
       "      <td>29</td>\n",
       "      <td>5210661</td>\n",
       "      <td>134</td>\n",
       "      <td>30/09/2023</td>\n",
       "      <td>23:55:54</td>\n",
       "      <td>147</td>\n",
       "      <td>00:00:16</td>\n",
       "      <td>01/10/2023</td>\n",
       "      <td>2023-09-30 23:55:54</td>\n",
       "      <td>2023-10-01 00:00:16</td>\n",
       "    </tr>\n",
       "    <tr>\n",
       "      <th>1</th>\n",
       "      <td>M</td>\n",
       "      <td>26</td>\n",
       "      <td>8316747</td>\n",
       "      <td>045</td>\n",
       "      <td>30/09/2023</td>\n",
       "      <td>23:46:57</td>\n",
       "      <td>147</td>\n",
       "      <td>00:00:32</td>\n",
       "      <td>01/10/2023</td>\n",
       "      <td>2023-09-30 23:46:57</td>\n",
       "      <td>2023-10-01 00:00:32</td>\n",
       "    </tr>\n",
       "    <tr>\n",
       "      <th>2</th>\n",
       "      <td>M</td>\n",
       "      <td>30</td>\n",
       "      <td>3749272</td>\n",
       "      <td>384</td>\n",
       "      <td>30/09/2023</td>\n",
       "      <td>23:50:50</td>\n",
       "      <td>337</td>\n",
       "      <td>00:00:34</td>\n",
       "      <td>01/10/2023</td>\n",
       "      <td>2023-09-30 23:50:50</td>\n",
       "      <td>2023-10-01 00:00:34</td>\n",
       "    </tr>\n",
       "    <tr>\n",
       "      <th>3</th>\n",
       "      <td>F</td>\n",
       "      <td>40</td>\n",
       "      <td>2961233</td>\n",
       "      <td>014</td>\n",
       "      <td>30/09/2023</td>\n",
       "      <td>23:50:24</td>\n",
       "      <td>018</td>\n",
       "      <td>00:00:36</td>\n",
       "      <td>01/10/2023</td>\n",
       "      <td>2023-09-30 23:50:24</td>\n",
       "      <td>2023-10-01 00:00:36</td>\n",
       "    </tr>\n",
       "    <tr>\n",
       "      <th>4</th>\n",
       "      <td>F</td>\n",
       "      <td>34</td>\n",
       "      <td>2661924</td>\n",
       "      <td>155</td>\n",
       "      <td>30/09/2023</td>\n",
       "      <td>23:55:48</td>\n",
       "      <td>139</td>\n",
       "      <td>00:00:39</td>\n",
       "      <td>01/10/2023</td>\n",
       "      <td>2023-09-30 23:55:48</td>\n",
       "      <td>2023-10-01 00:00:39</td>\n",
       "    </tr>\n",
       "  </tbody>\n",
       "</table>\n",
       "</div>"
      ],
      "text/plain": [
       "  Genero_Usuario  Edad_Usuario     Bici Ciclo_Estacion_Retiro Fecha_Retiro  \\\n",
       "0              M            29  5210661                   134   30/09/2023   \n",
       "1              M            26  8316747                   045   30/09/2023   \n",
       "2              M            30  3749272                   384   30/09/2023   \n",
       "3              F            40  2961233                   014   30/09/2023   \n",
       "4              F            34  2661924                   155   30/09/2023   \n",
       "\n",
       "  Hora_Retiro Ciclo_EstacionArribo Hora_Arribo Fecha_Arribo  \\\n",
       "0    23:55:54                  147    00:00:16   01/10/2023   \n",
       "1    23:46:57                  147    00:00:32   01/10/2023   \n",
       "2    23:50:50                  337    00:00:34   01/10/2023   \n",
       "3    23:50:24                  018    00:00:36   01/10/2023   \n",
       "4    23:55:48                  139    00:00:39   01/10/2023   \n",
       "\n",
       "            fh_retiro           fh_arribo  \n",
       "0 2023-09-30 23:55:54 2023-10-01 00:00:16  \n",
       "1 2023-09-30 23:46:57 2023-10-01 00:00:32  \n",
       "2 2023-09-30 23:50:50 2023-10-01 00:00:34  \n",
       "3 2023-09-30 23:50:24 2023-10-01 00:00:36  \n",
       "4 2023-09-30 23:55:48 2023-10-01 00:00:39  "
      ]
     },
     "execution_count": 38,
     "metadata": {},
     "output_type": "execute_result"
    }
   ],
   "source": [
    "df_viajes.head()"
   ]
  },
  {
   "cell_type": "code",
   "execution_count": 39,
   "metadata": {},
   "outputs": [],
   "source": [
    "# Eliminar columnas 'Fecha_Retiro', 'Hora_Retiro', 'Fecha_Arribo' y 'Hora_Arribo'\n",
    "df_viajes.drop(columns=['Fecha_Retiro', 'Hora_Retiro', 'Fecha_Arribo', 'Hora_Arribo'], inplace=True)"
   ]
  },
  {
   "cell_type": "code",
   "execution_count": 40,
   "metadata": {},
   "outputs": [
    {
     "data": {
      "text/html": [
       "<div>\n",
       "<style scoped>\n",
       "    .dataframe tbody tr th:only-of-type {\n",
       "        vertical-align: middle;\n",
       "    }\n",
       "\n",
       "    .dataframe tbody tr th {\n",
       "        vertical-align: top;\n",
       "    }\n",
       "\n",
       "    .dataframe thead th {\n",
       "        text-align: right;\n",
       "    }\n",
       "</style>\n",
       "<table border=\"1\" class=\"dataframe\">\n",
       "  <thead>\n",
       "    <tr style=\"text-align: right;\">\n",
       "      <th></th>\n",
       "      <th>Genero_Usuario</th>\n",
       "      <th>Edad_Usuario</th>\n",
       "      <th>Bici</th>\n",
       "      <th>Ciclo_Estacion_Retiro</th>\n",
       "      <th>Ciclo_EstacionArribo</th>\n",
       "      <th>fh_retiro</th>\n",
       "      <th>fh_arribo</th>\n",
       "    </tr>\n",
       "  </thead>\n",
       "  <tbody>\n",
       "    <tr>\n",
       "      <th>0</th>\n",
       "      <td>M</td>\n",
       "      <td>29</td>\n",
       "      <td>5210661</td>\n",
       "      <td>134</td>\n",
       "      <td>147</td>\n",
       "      <td>2023-09-30 23:55:54</td>\n",
       "      <td>2023-10-01 00:00:16</td>\n",
       "    </tr>\n",
       "    <tr>\n",
       "      <th>1</th>\n",
       "      <td>M</td>\n",
       "      <td>26</td>\n",
       "      <td>8316747</td>\n",
       "      <td>045</td>\n",
       "      <td>147</td>\n",
       "      <td>2023-09-30 23:46:57</td>\n",
       "      <td>2023-10-01 00:00:32</td>\n",
       "    </tr>\n",
       "    <tr>\n",
       "      <th>2</th>\n",
       "      <td>M</td>\n",
       "      <td>30</td>\n",
       "      <td>3749272</td>\n",
       "      <td>384</td>\n",
       "      <td>337</td>\n",
       "      <td>2023-09-30 23:50:50</td>\n",
       "      <td>2023-10-01 00:00:34</td>\n",
       "    </tr>\n",
       "    <tr>\n",
       "      <th>3</th>\n",
       "      <td>F</td>\n",
       "      <td>40</td>\n",
       "      <td>2961233</td>\n",
       "      <td>014</td>\n",
       "      <td>018</td>\n",
       "      <td>2023-09-30 23:50:24</td>\n",
       "      <td>2023-10-01 00:00:36</td>\n",
       "    </tr>\n",
       "    <tr>\n",
       "      <th>4</th>\n",
       "      <td>F</td>\n",
       "      <td>34</td>\n",
       "      <td>2661924</td>\n",
       "      <td>155</td>\n",
       "      <td>139</td>\n",
       "      <td>2023-09-30 23:55:48</td>\n",
       "      <td>2023-10-01 00:00:39</td>\n",
       "    </tr>\n",
       "  </tbody>\n",
       "</table>\n",
       "</div>"
      ],
      "text/plain": [
       "  Genero_Usuario  Edad_Usuario     Bici Ciclo_Estacion_Retiro  \\\n",
       "0              M            29  5210661                   134   \n",
       "1              M            26  8316747                   045   \n",
       "2              M            30  3749272                   384   \n",
       "3              F            40  2961233                   014   \n",
       "4              F            34  2661924                   155   \n",
       "\n",
       "  Ciclo_EstacionArribo           fh_retiro           fh_arribo  \n",
       "0                  147 2023-09-30 23:55:54 2023-10-01 00:00:16  \n",
       "1                  147 2023-09-30 23:46:57 2023-10-01 00:00:32  \n",
       "2                  337 2023-09-30 23:50:50 2023-10-01 00:00:34  \n",
       "3                  018 2023-09-30 23:50:24 2023-10-01 00:00:36  \n",
       "4                  139 2023-09-30 23:55:48 2023-10-01 00:00:39  "
      ]
     },
     "execution_count": 40,
     "metadata": {},
     "output_type": "execute_result"
    }
   ],
   "source": [
    "df_viajes.head()"
   ]
  },
  {
   "cell_type": "code",
   "execution_count": 41,
   "metadata": {},
   "outputs": [
    {
     "data": {
      "text/plain": [
       "Genero_Usuario                   object\n",
       "Edad_Usuario                      int32\n",
       "Bici                              int32\n",
       "Ciclo_Estacion_Retiro            object\n",
       "Ciclo_EstacionArribo             object\n",
       "fh_retiro                datetime64[ns]\n",
       "fh_arribo                datetime64[ns]\n",
       "dtype: object"
      ]
     },
     "execution_count": 41,
     "metadata": {},
     "output_type": "execute_result"
    }
   ],
   "source": [
    "# Tipos de datos\n",
    "df_viajes.dtypes"
   ]
  },
  {
   "cell_type": "code",
   "execution_count": 42,
   "metadata": {},
   "outputs": [
    {
     "data": {
      "text/plain": [
       "Genero_Usuario                 0\n",
       "Edad_Usuario                   0\n",
       "Bici                           0\n",
       "Ciclo_Estacion_Retiro          0\n",
       "Ciclo_EstacionArribo           0\n",
       "fh_retiro                1251350\n",
       "fh_arribo                1251350\n",
       "dtype: int64"
      ]
     },
     "execution_count": 42,
     "metadata": {},
     "output_type": "execute_result"
    }
   ],
   "source": [
    "# Registros con valores nulos\n",
    "df_viajes.isnull().sum()"
   ]
  },
  {
   "cell_type": "code",
   "execution_count": 43,
   "metadata": {},
   "outputs": [
    {
     "data": {
      "text/plain": [
       "(35144826, 7)"
      ]
     },
     "execution_count": 43,
     "metadata": {},
     "output_type": "execute_result"
    }
   ],
   "source": [
    "df_viajes.shape"
   ]
  },
  {
   "cell_type": "code",
   "execution_count": 44,
   "metadata": {},
   "outputs": [
    {
     "data": {
      "text/plain": [
       "(Genero_Usuario\n",
       " M    24430276\n",
       " F     9945088\n",
       " O      724445\n",
       " ?       45017\n",
       " Name: count, dtype: int64,\n",
       " Genero_Usuario\n",
       " M   69.513\n",
       " F   28.297\n",
       " O    2.061\n",
       " ?    0.128\n",
       " Name: proportion, dtype: float64)"
      ]
     },
     "execution_count": 44,
     "metadata": {},
     "output_type": "execute_result"
    }
   ],
   "source": [
    "df_viajes['Genero_Usuario'].value_counts() , df_viajes['Genero_Usuario'].value_counts(True)*100"
   ]
  },
  {
   "cell_type": "code",
   "execution_count": 45,
   "metadata": {},
   "outputs": [
    {
     "data": {
      "text/html": [
       "<div>\n",
       "<style scoped>\n",
       "    .dataframe tbody tr th:only-of-type {\n",
       "        vertical-align: middle;\n",
       "    }\n",
       "\n",
       "    .dataframe tbody tr th {\n",
       "        vertical-align: top;\n",
       "    }\n",
       "\n",
       "    .dataframe thead th {\n",
       "        text-align: right;\n",
       "    }\n",
       "</style>\n",
       "<table border=\"1\" class=\"dataframe\">\n",
       "  <thead>\n",
       "    <tr style=\"text-align: right;\">\n",
       "      <th></th>\n",
       "      <th>Genero_Usuario</th>\n",
       "      <th>Edad_Usuario</th>\n",
       "      <th>Bici</th>\n",
       "      <th>Ciclo_Estacion_Retiro</th>\n",
       "      <th>Ciclo_EstacionArribo</th>\n",
       "      <th>fh_retiro</th>\n",
       "      <th>fh_arribo</th>\n",
       "    </tr>\n",
       "  </thead>\n",
       "  <tbody>\n",
       "    <tr>\n",
       "      <th>88441</th>\n",
       "      <td>?</td>\n",
       "      <td>43</td>\n",
       "      <td>3402401</td>\n",
       "      <td>233</td>\n",
       "      <td>066</td>\n",
       "      <td>2023-10-03 10:30:07</td>\n",
       "      <td>2023-10-03 10:45:29</td>\n",
       "    </tr>\n",
       "    <tr>\n",
       "      <th>90195</th>\n",
       "      <td>?</td>\n",
       "      <td>43</td>\n",
       "      <td>3402401</td>\n",
       "      <td>066</td>\n",
       "      <td>042</td>\n",
       "      <td>2023-10-03 11:28:50</td>\n",
       "      <td>2023-10-03 11:36:00</td>\n",
       "    </tr>\n",
       "    <tr>\n",
       "      <th>708108</th>\n",
       "      <td>?</td>\n",
       "      <td>43</td>\n",
       "      <td>5651419</td>\n",
       "      <td>233</td>\n",
       "      <td>066</td>\n",
       "      <td>2023-10-17 11:09:41</td>\n",
       "      <td>2023-10-17 11:27:06</td>\n",
       "    </tr>\n",
       "    <tr>\n",
       "      <th>709756</th>\n",
       "      <td>?</td>\n",
       "      <td>43</td>\n",
       "      <td>7009533</td>\n",
       "      <td>066</td>\n",
       "      <td>042</td>\n",
       "      <td>2023-10-17 12:10:55</td>\n",
       "      <td>2023-10-17 12:18:19</td>\n",
       "    </tr>\n",
       "    <tr>\n",
       "      <th>521664</th>\n",
       "      <td>?</td>\n",
       "      <td>29</td>\n",
       "      <td>7945405</td>\n",
       "      <td>011</td>\n",
       "      <td>044</td>\n",
       "      <td>2024-05-09 07:46:38</td>\n",
       "      <td>2024-05-09 08:07:16</td>\n",
       "    </tr>\n",
       "    <tr>\n",
       "      <th>...</th>\n",
       "      <td>...</td>\n",
       "      <td>...</td>\n",
       "      <td>...</td>\n",
       "      <td>...</td>\n",
       "      <td>...</td>\n",
       "      <td>...</td>\n",
       "      <td>...</td>\n",
       "    </tr>\n",
       "    <tr>\n",
       "      <th>1011687</th>\n",
       "      <td>?</td>\n",
       "      <td>29</td>\n",
       "      <td>7333529</td>\n",
       "      <td>012</td>\n",
       "      <td>259</td>\n",
       "      <td>2024-03-17 09:43:24</td>\n",
       "      <td>2024-03-17 09:50:25</td>\n",
       "    </tr>\n",
       "    <tr>\n",
       "      <th>1016909</th>\n",
       "      <td>?</td>\n",
       "      <td>29</td>\n",
       "      <td>4722732</td>\n",
       "      <td>270</td>\n",
       "      <td>012</td>\n",
       "      <td>2024-03-17 11:18:52</td>\n",
       "      <td>2024-03-17 11:28:04</td>\n",
       "    </tr>\n",
       "    <tr>\n",
       "      <th>1283616</th>\n",
       "      <td>?</td>\n",
       "      <td>29</td>\n",
       "      <td>4314340</td>\n",
       "      <td>011</td>\n",
       "      <td>030</td>\n",
       "      <td>2024-03-21 17:37:05</td>\n",
       "      <td>2024-03-21 17:43:53</td>\n",
       "    </tr>\n",
       "    <tr>\n",
       "      <th>1770216</th>\n",
       "      <td>?</td>\n",
       "      <td>29</td>\n",
       "      <td>3675972</td>\n",
       "      <td>011</td>\n",
       "      <td>390-391</td>\n",
       "      <td>2024-03-30 17:45:49</td>\n",
       "      <td>2024-03-30 18:26:39</td>\n",
       "    </tr>\n",
       "    <tr>\n",
       "      <th>1788079</th>\n",
       "      <td>?</td>\n",
       "      <td>29</td>\n",
       "      <td>8900896</td>\n",
       "      <td>019</td>\n",
       "      <td>011</td>\n",
       "      <td>2024-03-30 22:18:00</td>\n",
       "      <td>2024-03-30 22:52:02</td>\n",
       "    </tr>\n",
       "  </tbody>\n",
       "</table>\n",
       "<p>45017 rows × 7 columns</p>\n",
       "</div>"
      ],
      "text/plain": [
       "        Genero_Usuario  Edad_Usuario     Bici Ciclo_Estacion_Retiro  \\\n",
       "88441                ?            43  3402401                   233   \n",
       "90195                ?            43  3402401                   066   \n",
       "708108               ?            43  5651419                   233   \n",
       "709756               ?            43  7009533                   066   \n",
       "521664               ?            29  7945405                   011   \n",
       "...                ...           ...      ...                   ...   \n",
       "1011687              ?            29  7333529                   012   \n",
       "1016909              ?            29  4722732                   270   \n",
       "1283616              ?            29  4314340                   011   \n",
       "1770216              ?            29  3675972                   011   \n",
       "1788079              ?            29  8900896                   019   \n",
       "\n",
       "        Ciclo_EstacionArribo           fh_retiro           fh_arribo  \n",
       "88441                    066 2023-10-03 10:30:07 2023-10-03 10:45:29  \n",
       "90195                    042 2023-10-03 11:28:50 2023-10-03 11:36:00  \n",
       "708108                   066 2023-10-17 11:09:41 2023-10-17 11:27:06  \n",
       "709756                   042 2023-10-17 12:10:55 2023-10-17 12:18:19  \n",
       "521664                   044 2024-05-09 07:46:38 2024-05-09 08:07:16  \n",
       "...                      ...                 ...                 ...  \n",
       "1011687                  259 2024-03-17 09:43:24 2024-03-17 09:50:25  \n",
       "1016909                  012 2024-03-17 11:18:52 2024-03-17 11:28:04  \n",
       "1283616                  030 2024-03-21 17:37:05 2024-03-21 17:43:53  \n",
       "1770216              390-391 2024-03-30 17:45:49 2024-03-30 18:26:39  \n",
       "1788079                  011 2024-03-30 22:18:00 2024-03-30 22:52:02  \n",
       "\n",
       "[45017 rows x 7 columns]"
      ]
     },
     "execution_count": 45,
     "metadata": {},
     "output_type": "execute_result"
    }
   ],
   "source": [
    "# Mostramos registros que tienen en la columna 'Genero_Usuario' el valor 'NO DISPO'\n",
    "df_viajes[df_viajes['Genero_Usuario'] == '?']"
   ]
  },
  {
   "cell_type": "code",
   "execution_count": 46,
   "metadata": {},
   "outputs": [
    {
     "data": {
      "text/html": [
       "<div>\n",
       "<style scoped>\n",
       "    .dataframe tbody tr th:only-of-type {\n",
       "        vertical-align: middle;\n",
       "    }\n",
       "\n",
       "    .dataframe tbody tr th {\n",
       "        vertical-align: top;\n",
       "    }\n",
       "\n",
       "    .dataframe thead th {\n",
       "        text-align: right;\n",
       "    }\n",
       "</style>\n",
       "<table border=\"1\" class=\"dataframe\">\n",
       "  <thead>\n",
       "    <tr style=\"text-align: right;\">\n",
       "      <th></th>\n",
       "      <th>Genero_Usuario</th>\n",
       "      <th>Edad_Usuario</th>\n",
       "      <th>Bici</th>\n",
       "      <th>Ciclo_Estacion_Retiro</th>\n",
       "      <th>Ciclo_EstacionArribo</th>\n",
       "      <th>fh_retiro</th>\n",
       "      <th>fh_arribo</th>\n",
       "    </tr>\n",
       "  </thead>\n",
       "  <tbody>\n",
       "    <tr>\n",
       "      <th>0</th>\n",
       "      <td>M</td>\n",
       "      <td>19</td>\n",
       "      <td>6177539</td>\n",
       "      <td>421</td>\n",
       "      <td>414</td>\n",
       "      <td>NaT</td>\n",
       "      <td>NaT</td>\n",
       "    </tr>\n",
       "    <tr>\n",
       "      <th>1</th>\n",
       "      <td>F</td>\n",
       "      <td>26</td>\n",
       "      <td>5337753</td>\n",
       "      <td>005</td>\n",
       "      <td>260</td>\n",
       "      <td>NaT</td>\n",
       "      <td>NaT</td>\n",
       "    </tr>\n",
       "    <tr>\n",
       "      <th>2</th>\n",
       "      <td>F</td>\n",
       "      <td>28</td>\n",
       "      <td>2099497</td>\n",
       "      <td>397</td>\n",
       "      <td>374</td>\n",
       "      <td>NaT</td>\n",
       "      <td>NaT</td>\n",
       "    </tr>\n",
       "    <tr>\n",
       "      <th>3</th>\n",
       "      <td>M</td>\n",
       "      <td>33</td>\n",
       "      <td>2964914</td>\n",
       "      <td>320</td>\n",
       "      <td>165</td>\n",
       "      <td>NaT</td>\n",
       "      <td>NaT</td>\n",
       "    </tr>\n",
       "    <tr>\n",
       "      <th>4</th>\n",
       "      <td>F</td>\n",
       "      <td>24</td>\n",
       "      <td>2231769</td>\n",
       "      <td>260</td>\n",
       "      <td>123</td>\n",
       "      <td>NaT</td>\n",
       "      <td>NaT</td>\n",
       "    </tr>\n",
       "    <tr>\n",
       "      <th>...</th>\n",
       "      <td>...</td>\n",
       "      <td>...</td>\n",
       "      <td>...</td>\n",
       "      <td>...</td>\n",
       "      <td>...</td>\n",
       "      <td>...</td>\n",
       "      <td>...</td>\n",
       "    </tr>\n",
       "    <tr>\n",
       "      <th>586428</th>\n",
       "      <td>M</td>\n",
       "      <td>28</td>\n",
       "      <td>6182000</td>\n",
       "      <td>212</td>\n",
       "      <td>213</td>\n",
       "      <td>NaT</td>\n",
       "      <td>NaT</td>\n",
       "    </tr>\n",
       "    <tr>\n",
       "      <th>586429</th>\n",
       "      <td>M</td>\n",
       "      <td>29</td>\n",
       "      <td>4341525</td>\n",
       "      <td>394</td>\n",
       "      <td>372</td>\n",
       "      <td>NaT</td>\n",
       "      <td>NaT</td>\n",
       "    </tr>\n",
       "    <tr>\n",
       "      <th>586430</th>\n",
       "      <td>M</td>\n",
       "      <td>42</td>\n",
       "      <td>2760585</td>\n",
       "      <td>242</td>\n",
       "      <td>074</td>\n",
       "      <td>NaT</td>\n",
       "      <td>NaT</td>\n",
       "    </tr>\n",
       "    <tr>\n",
       "      <th>586431</th>\n",
       "      <td>O</td>\n",
       "      <td>19</td>\n",
       "      <td>2304707</td>\n",
       "      <td>049</td>\n",
       "      <td>035</td>\n",
       "      <td>NaT</td>\n",
       "      <td>NaT</td>\n",
       "    </tr>\n",
       "    <tr>\n",
       "      <th>586432</th>\n",
       "      <td>M</td>\n",
       "      <td>45</td>\n",
       "      <td>7537483</td>\n",
       "      <td>189</td>\n",
       "      <td>173</td>\n",
       "      <td>NaT</td>\n",
       "      <td>NaT</td>\n",
       "    </tr>\n",
       "  </tbody>\n",
       "</table>\n",
       "<p>1251350 rows × 7 columns</p>\n",
       "</div>"
      ],
      "text/plain": [
       "       Genero_Usuario  Edad_Usuario     Bici Ciclo_Estacion_Retiro  \\\n",
       "0                   M            19  6177539                   421   \n",
       "1                   F            26  5337753                   005   \n",
       "2                   F            28  2099497                   397   \n",
       "3                   M            33  2964914                   320   \n",
       "4                   F            24  2231769                   260   \n",
       "...               ...           ...      ...                   ...   \n",
       "586428              M            28  6182000                   212   \n",
       "586429              M            29  4341525                   394   \n",
       "586430              M            42  2760585                   242   \n",
       "586431              O            19  2304707                   049   \n",
       "586432              M            45  7537483                   189   \n",
       "\n",
       "       Ciclo_EstacionArribo fh_retiro fh_arribo  \n",
       "0                       414       NaT       NaT  \n",
       "1                       260       NaT       NaT  \n",
       "2                       374       NaT       NaT  \n",
       "3                       165       NaT       NaT  \n",
       "4                       123       NaT       NaT  \n",
       "...                     ...       ...       ...  \n",
       "586428                  213       NaT       NaT  \n",
       "586429                  372       NaT       NaT  \n",
       "586430                  074       NaT       NaT  \n",
       "586431                  035       NaT       NaT  \n",
       "586432                  173       NaT       NaT  \n",
       "\n",
       "[1251350 rows x 7 columns]"
      ]
     },
     "execution_count": 46,
     "metadata": {},
     "output_type": "execute_result"
    }
   ],
   "source": [
    "# Registros con valores nulos de la columna 'fh_retiro'\n",
    "df_viajes[df_viajes['fh_retiro'].isnull()]"
   ]
  },
  {
   "cell_type": "code",
   "execution_count": 47,
   "metadata": {},
   "outputs": [],
   "source": [
    "# Eliminar registros con valores nulos en la columna 'fh_retiro'\n",
    "df_viajes = df_viajes[df_viajes['fh_retiro'].notnull()]"
   ]
  },
  {
   "cell_type": "code",
   "execution_count": 48,
   "metadata": {},
   "outputs": [
    {
     "data": {
      "text/html": [
       "<div>\n",
       "<style scoped>\n",
       "    .dataframe tbody tr th:only-of-type {\n",
       "        vertical-align: middle;\n",
       "    }\n",
       "\n",
       "    .dataframe tbody tr th {\n",
       "        vertical-align: top;\n",
       "    }\n",
       "\n",
       "    .dataframe thead th {\n",
       "        text-align: right;\n",
       "    }\n",
       "</style>\n",
       "<table border=\"1\" class=\"dataframe\">\n",
       "  <thead>\n",
       "    <tr style=\"text-align: right;\">\n",
       "      <th></th>\n",
       "      <th>Genero_Usuario</th>\n",
       "      <th>Edad_Usuario</th>\n",
       "      <th>Bici</th>\n",
       "      <th>Ciclo_Estacion_Retiro</th>\n",
       "      <th>Ciclo_EstacionArribo</th>\n",
       "      <th>fh_retiro</th>\n",
       "      <th>fh_arribo</th>\n",
       "    </tr>\n",
       "  </thead>\n",
       "  <tbody>\n",
       "  </tbody>\n",
       "</table>\n",
       "</div>"
      ],
      "text/plain": [
       "Empty DataFrame\n",
       "Columns: [Genero_Usuario, Edad_Usuario, Bici, Ciclo_Estacion_Retiro, Ciclo_EstacionArribo, fh_retiro, fh_arribo]\n",
       "Index: []"
      ]
     },
     "execution_count": 48,
     "metadata": {},
     "output_type": "execute_result"
    }
   ],
   "source": [
    "# Registros con valores nulos de la columna 'fh_retiro'\n",
    "df_viajes[df_viajes['fh_retiro'].isnull()]"
   ]
  },
  {
   "cell_type": "code",
   "execution_count": 49,
   "metadata": {},
   "outputs": [
    {
     "data": {
      "text/plain": [
       "Genero_Usuario           0\n",
       "Edad_Usuario             0\n",
       "Bici                     0\n",
       "Ciclo_Estacion_Retiro    0\n",
       "Ciclo_EstacionArribo     0\n",
       "fh_retiro                0\n",
       "fh_arribo                0\n",
       "dtype: int64"
      ]
     },
     "execution_count": 49,
     "metadata": {},
     "output_type": "execute_result"
    }
   ],
   "source": [
    "# Registros con valores nulos\n",
    "df_viajes.isnull().sum()"
   ]
  },
  {
   "cell_type": "code",
   "execution_count": 50,
   "metadata": {},
   "outputs": [
    {
     "data": {
      "text/plain": [
       "(Edad_Usuario\n",
       " 30     1811057\n",
       " 29     1765321\n",
       " 28     1745443\n",
       " 31     1718976\n",
       " 27     1711858\n",
       "         ...   \n",
       " 152          2\n",
       " 145          2\n",
       " 119          2\n",
       " 122          1\n",
       " 110          1\n",
       " Name: count, Length: 97, dtype: int64,\n",
       " Edad_Usuario\n",
       " 30    5.343\n",
       " 29    5.208\n",
       " 28    5.150\n",
       " 31    5.072\n",
       " 27    5.051\n",
       "        ... \n",
       " 152   0.000\n",
       " 145   0.000\n",
       " 119   0.000\n",
       " 122   0.000\n",
       " 110   0.000\n",
       " Name: proportion, Length: 97, dtype: float64)"
      ]
     },
     "execution_count": 50,
     "metadata": {},
     "output_type": "execute_result"
    }
   ],
   "source": [
    "df_viajes['Edad_Usuario'].value_counts() , df_viajes['Edad_Usuario'].value_counts(True)*100"
   ]
  },
  {
   "cell_type": "code",
   "execution_count": 51,
   "metadata": {},
   "outputs": [
    {
     "data": {
      "image/png": "[encoded data removed]",
      "text/plain": [
       "<Figure size 1000x500 with 1 Axes>"
      ]
     },
     "metadata": {},
     "output_type": "display_data"
    }
   ],
   "source": [
    "# Histograma de la columna 'Edad_Usuario'\n",
    "plt.figure(figsize=(10, 5))\n",
    "plt.hist(df_viajes['Edad_Usuario'], bins=20, color='green', alpha=0.7)\n",
    "plt.xlabel('Edad')\n",
    "plt.ylabel('Frecuencia')\n",
    "plt.title('Histograma de Edades de Usuarios')\n",
    "plt.show()"
   ]
  },
  {
   "cell_type": "code",
   "execution_count": 52,
   "metadata": {},
   "outputs": [
    {
     "data": {
      "text/plain": [
       "count   33893476.000\n",
       "mean          33.917\n",
       "std            9.733\n",
       "min           16.000\n",
       "0%            16.000\n",
       "10%           24.000\n",
       "20%           26.000\n",
       "30%           28.000\n",
       "40%           30.000\n",
       "50%           32.000\n",
       "60%           34.000\n",
       "70%           37.000\n",
       "80%           41.000\n",
       "90%           48.000\n",
       "100%         160.000\n",
       "max          160.000\n",
       "Name: Edad_Usuario, dtype: float64"
      ]
     },
     "execution_count": 52,
     "metadata": {},
     "output_type": "execute_result"
    }
   ],
   "source": [
    "df_viajes['Edad_Usuario'].describe(percentiles=np.arange(0,1.01,.1))"
   ]
  },
  {
   "cell_type": "code",
   "execution_count": 53,
   "metadata": {},
   "outputs": [
    {
     "data": {
      "image/png": "[encoded data removed]",
      "text/plain": [
       "<Figure size 640x480 with 1 Axes>"
      ]
     },
     "metadata": {},
     "output_type": "display_data"
    }
   ],
   "source": [
    "# df_horas = df_viajes['fh_retiro'].map( lambda fecha: fecha.hour ).value_counts(True).sort_index()\n",
    "df_horas = df_viajes['fh_retiro'].map( lambda fecha: fecha.hour ).value_counts(True).reindex(range(0,24)).fillna(0)\n",
    "df_horas.plot(kind='bar')\n",
    "plt.xlabel('Hora')\n",
    "plt.ylabel('Frecuencia')\n",
    "plt.title('Frecuencia de Retiros por Hora')\n",
    "plt.show()"
   ]
  },
  {
   "cell_type": "code",
   "execution_count": 54,
   "metadata": {},
   "outputs": [
    {
     "data": {
      "text/html": [
       "<div>\n",
       "<style scoped>\n",
       "    .dataframe tbody tr th:only-of-type {\n",
       "        vertical-align: middle;\n",
       "    }\n",
       "\n",
       "    .dataframe tbody tr th {\n",
       "        vertical-align: top;\n",
       "    }\n",
       "\n",
       "    .dataframe thead th {\n",
       "        text-align: right;\n",
       "    }\n",
       "</style>\n",
       "<table border=\"1\" class=\"dataframe\">\n",
       "  <thead>\n",
       "    <tr style=\"text-align: right;\">\n",
       "      <th></th>\n",
       "      <th>fh_retiro</th>\n",
       "      <th>proportion</th>\n",
       "    </tr>\n",
       "  </thead>\n",
       "  <tbody>\n",
       "    <tr>\n",
       "      <th>0</th>\n",
       "      <td>0</td>\n",
       "      <td>0.004</td>\n",
       "    </tr>\n",
       "    <tr>\n",
       "      <th>1</th>\n",
       "      <td>1</td>\n",
       "      <td>0.000</td>\n",
       "    </tr>\n",
       "    <tr>\n",
       "      <th>2</th>\n",
       "      <td>2</td>\n",
       "      <td>0.000</td>\n",
       "    </tr>\n",
       "    <tr>\n",
       "      <th>3</th>\n",
       "      <td>3</td>\n",
       "      <td>0.000</td>\n",
       "    </tr>\n",
       "    <tr>\n",
       "      <th>4</th>\n",
       "      <td>4</td>\n",
       "      <td>0.000</td>\n",
       "    </tr>\n",
       "    <tr>\n",
       "      <th>5</th>\n",
       "      <td>5</td>\n",
       "      <td>0.007</td>\n",
       "    </tr>\n",
       "    <tr>\n",
       "      <th>6</th>\n",
       "      <td>6</td>\n",
       "      <td>0.025</td>\n",
       "    </tr>\n",
       "    <tr>\n",
       "      <th>7</th>\n",
       "      <td>7</td>\n",
       "      <td>0.053</td>\n",
       "    </tr>\n",
       "    <tr>\n",
       "      <th>8</th>\n",
       "      <td>8</td>\n",
       "      <td>0.075</td>\n",
       "    </tr>\n",
       "    <tr>\n",
       "      <th>9</th>\n",
       "      <td>9</td>\n",
       "      <td>0.059</td>\n",
       "    </tr>\n",
       "    <tr>\n",
       "      <th>10</th>\n",
       "      <td>10</td>\n",
       "      <td>0.050</td>\n",
       "    </tr>\n",
       "    <tr>\n",
       "      <th>11</th>\n",
       "      <td>11</td>\n",
       "      <td>0.049</td>\n",
       "    </tr>\n",
       "    <tr>\n",
       "      <th>12</th>\n",
       "      <td>12</td>\n",
       "      <td>0.052</td>\n",
       "    </tr>\n",
       "    <tr>\n",
       "      <th>13</th>\n",
       "      <td>13</td>\n",
       "      <td>0.061</td>\n",
       "    </tr>\n",
       "    <tr>\n",
       "      <th>14</th>\n",
       "      <td>14</td>\n",
       "      <td>0.071</td>\n",
       "    </tr>\n",
       "    <tr>\n",
       "      <th>15</th>\n",
       "      <td>15</td>\n",
       "      <td>0.072</td>\n",
       "    </tr>\n",
       "    <tr>\n",
       "      <th>16</th>\n",
       "      <td>16</td>\n",
       "      <td>0.066</td>\n",
       "    </tr>\n",
       "    <tr>\n",
       "      <th>17</th>\n",
       "      <td>17</td>\n",
       "      <td>0.077</td>\n",
       "    </tr>\n",
       "    <tr>\n",
       "      <th>18</th>\n",
       "      <td>18</td>\n",
       "      <td>0.088</td>\n",
       "    </tr>\n",
       "    <tr>\n",
       "      <th>19</th>\n",
       "      <td>19</td>\n",
       "      <td>0.070</td>\n",
       "    </tr>\n",
       "    <tr>\n",
       "      <th>20</th>\n",
       "      <td>20</td>\n",
       "      <td>0.049</td>\n",
       "    </tr>\n",
       "    <tr>\n",
       "      <th>21</th>\n",
       "      <td>21</td>\n",
       "      <td>0.036</td>\n",
       "    </tr>\n",
       "    <tr>\n",
       "      <th>22</th>\n",
       "      <td>22</td>\n",
       "      <td>0.024</td>\n",
       "    </tr>\n",
       "    <tr>\n",
       "      <th>23</th>\n",
       "      <td>23</td>\n",
       "      <td>0.014</td>\n",
       "    </tr>\n",
       "  </tbody>\n",
       "</table>\n",
       "</div>"
      ],
      "text/plain": [
       "    fh_retiro  proportion\n",
       "0           0       0.004\n",
       "1           1       0.000\n",
       "2           2       0.000\n",
       "3           3       0.000\n",
       "4           4       0.000\n",
       "5           5       0.007\n",
       "6           6       0.025\n",
       "7           7       0.053\n",
       "8           8       0.075\n",
       "9           9       0.059\n",
       "10         10       0.050\n",
       "11         11       0.049\n",
       "12         12       0.052\n",
       "13         13       0.061\n",
       "14         14       0.071\n",
       "15         15       0.072\n",
       "16         16       0.066\n",
       "17         17       0.077\n",
       "18         18       0.088\n",
       "19         19       0.070\n",
       "20         20       0.049\n",
       "21         21       0.036\n",
       "22         22       0.024\n",
       "23         23       0.014"
      ]
     },
     "execution_count": 54,
     "metadata": {},
     "output_type": "execute_result"
    }
   ],
   "source": [
    "df_horas.reset_index()"
   ]
  },
  {
   "cell_type": "markdown",
   "metadata": {},
   "source": [
    "## Gráficas"
   ]
  },
  {
   "cell_type": "code",
   "execution_count": 55,
   "metadata": {},
   "outputs": [
    {
     "data": {
      "text/plain": [
       "Text(0.5, 1.0, 'Frecuencia de Retiros por Hora (Muestra)')"
      ]
     },
     "execution_count": 55,
     "metadata": {},
     "output_type": "execute_result"
    },
    {
     "data": {
      "image/png": "[encoded data removed]",
      "text/plain": [
       "<Figure size 640x480 with 1 Axes>"
      ]
     },
     "metadata": {},
     "output_type": "display_data"
    }
   ],
   "source": [
    "# Tomo el 10% de los viajes y obtengo los viajes por hora\n",
    "df_horas_muestra = df_viajes['fh_retiro'] \\\n",
    "            .sample(frac=.1) \\\n",
    "            .map( lambda fecha: fecha.hour ) \\\n",
    "            .value_counts(True) \\\n",
    "            .reindex(range(0,24)) \\\n",
    "            .fillna(0) \\\n",
    "            .sort_index()\n",
    "df_horas_muestra.plot(kind='bar')\n",
    "plt.xlabel('Hora')\n",
    "plt.ylabel('Frecuencia')\n",
    "plt.title('Frecuencia de Retiros por Hora (Muestra)')"
   ]
  },
  {
   "cell_type": "code",
   "execution_count": 56,
   "metadata": {},
   "outputs": [
    {
     "data": {
      "image/png": "[encoded data removed]",
      "text/plain": [
       "<Figure size 640x480 with 1 Axes>"
      ]
     },
     "metadata": {},
     "output_type": "display_data"
    }
   ],
   "source": [
    "# Grafica de horas muestra\n",
    "\n",
    "plt.plot(df_horas_muestra, marker='o')\n",
    "\n",
    "# Títulos y etiquetas\n",
    "plt.title('Gráfica de df_horas_muestra')\n",
    "plt.xlabel('Eje X')\n",
    "plt.ylabel('Eje Y')\n",
    "\n",
    "# Mostrar la gráfica\n",
    "plt.show()"
   ]
  },
  {
   "cell_type": "code",
   "execution_count": 57,
   "metadata": {},
   "outputs": [
    {
     "data": {
      "application/vnd.plotly.v1+json": {
       "config": {
        "plotlyServerURL": "https://plot.ly"
       },
       "data": [
        {
         "hovertemplate": "fh_retiro=%{x}<br>proportion=%{y}<extra></extra>",
         "legendgroup": "",
         "marker": {
          "color": "#636efa",
          "pattern": {
           "shape": ""
          }
         },
         "name": "",
         "orientation": "v",
         "showlegend": false,
         "textposition": "auto",
         "type": "bar",
         "x": {
          "bdata": "AAECAwQFBgcICQoLDA0ODxAREhMUFRYX",
          "dtype": "i1"
         },
         "xaxis": "x",
         "y": {
          "bdata": "iUnya9sWcT/Kyk27YR0VPwAAAAAAAAAAAAAAAAAAAAAYsB9syMyTPpIwyH6TnHs/F2rmna1AmT/XQqlphxSrP226aBfmQrM/AInihS0zrj894UWA5FKpP5x6qgJI1Kg/NDteD8Xdqj/j5uxkCjyvP9URoqw4NbI/9kqIW6xIsj+GgVVfHdywP4Kr2cyMrLM/KKw2x8V8tj9QaHeEbMmxP1Zw2H/TVKk/j1dacEpeoj/+hGrWDkGYP4dkji31C40/",
          "dtype": "f8"
         },
         "yaxis": "y"
        }
       ],
       "layout": {
        "barmode": "relative",
        "legend": {
         "tracegroupgap": 0
        },
        "template": {
         "data": {
          "bar": [
           {
            "error_x": {
             "color": "#2a3f5f"
            },
            "error_y": {
             "color": "#2a3f5f"
            },
            "marker": {
             "line": {
              "color": "#E5ECF6",
              "width": 0.5
             },
             "pattern": {
              "fillmode": "overlay",
              "size": 10,
              "solidity": 0.2
             }
            },
            "type": "bar"
           }
          ],
          "barpolar": [
           {
            "marker": {
             "line": {
              "color": "#E5ECF6",
              "width": 0.5
             },
             "pattern": {
              "fillmode": "overlay",
              "size": 10,
              "solidity": 0.2
             }
            },
            "type": "barpolar"
           }
          ],
          "carpet": [
           {
            "aaxis": {
             "endlinecolor": "#2a3f5f",
             "gridcolor": "white",
             "linecolor": "white",
             "minorgridcolor": "white",
             "startlinecolor": "#2a3f5f"
            },
            "baxis": {
             "endlinecolor": "#2a3f5f",
             "gridcolor": "white",
             "linecolor": "white",
             "minorgridcolor": "white",
             "startlinecolor": "#2a3f5f"
            },
            "type": "carpet"
           }
          ],
          "choropleth": [
           {
            "colorbar": {
             "outlinewidth": 0,
             "ticks": ""
            },
            "type": "choropleth"
           }
          ],
          "contour": [
           {
            "colorbar": {
             "outlinewidth": 0,
             "ticks": ""
            },
            "colorscale": [
             [
              0,
              "#0d0887"
             ],
             [
              0.1111111111111111,
              "#46039f"
             ],
             [
              0.2222222222222222,
              "#7201a8"
             ],
             [
              0.3333333333333333,
              "#9c179e"
             ],
             [
              0.4444444444444444,
              "#bd3786"
             ],
             [
              0.5555555555555556,
              "#d8576b"
             ],
             [
              0.6666666666666666,
              "#ed7953"
             ],
             [
              0.7777777777777778,
              "#fb9f3a"
             ],
             [
              0.8888888888888888,
              "#fdca26"
             ],
             [
              1,
              "#f0f921"
             ]
            ],
            "type": "contour"
           }
          ],
          "contourcarpet": [
           {
            "colorbar": {
             "outlinewidth": 0,
             "ticks": ""
            },
            "type": "contourcarpet"
           }
          ],
          "heatmap": [
           {
            "colorbar": {
             "outlinewidth": 0,
             "ticks": ""
            },
            "colorscale": [
             [
              0,
              "#0d0887"
             ],
             [
              0.1111111111111111,
              "#46039f"
             ],
             [
              0.2222222222222222,
              "#7201a8"
             ],
             [
              0.3333333333333333,
              "#9c179e"
             ],
             [
              0.4444444444444444,
              "#bd3786"
             ],
             [
              0.5555555555555556,
              "#d8576b"
             ],
             [
              0.6666666666666666,
              "#ed7953"
             ],
             [
              0.7777777777777778,
              "#fb9f3a"
             ],
             [
              0.8888888888888888,
              "#fdca26"
             ],
             [
              1,
              "#f0f921"
             ]
            ],
            "type": "heatmap"
           }
          ],
          "histogram": [
           {
            "marker": {
             "pattern": {
              "fillmode": "overlay",
              "size": 10,
              "solidity": 0.2
             }
            },
            "type": "histogram"
           }
          ],
          "histogram2d": [
           {
            "colorbar": {
             "outlinewidth": 0,
             "ticks": ""
            },
            "colorscale": [
             [
              0,
              "#0d0887"
             ],
             [
              0.1111111111111111,
              "#46039f"
             ],
             [
              0.2222222222222222,
              "#7201a8"
             ],
             [
              0.3333333333333333,
              "#9c179e"
             ],
             [
              0.4444444444444444,
              "#bd3786"
             ],
             [
              0.5555555555555556,
              "#d8576b"
             ],
             [
              0.6666666666666666,
              "#ed7953"
             ],
             [
              0.7777777777777778,
              "#fb9f3a"
             ],
             [
              0.8888888888888888,
              "#fdca26"
             ],
             [
              1,
              "#f0f921"
             ]
            ],
            "type": "histogram2d"
           }
          ],
          "histogram2dcontour": [
           {
            "colorbar": {
             "outlinewidth": 0,
             "ticks": ""
            },
            "colorscale": [
             [
              0,
              "#0d0887"
             ],
             [
              0.1111111111111111,
              "#46039f"
             ],
             [
              0.2222222222222222,
              "#7201a8"
             ],
             [
              0.3333333333333333,
              "#9c179e"
             ],
             [
              0.4444444444444444,
              "#bd3786"
             ],
             [
              0.5555555555555556,
              "#d8576b"
             ],
             [
              0.6666666666666666,
              "#ed7953"
             ],
             [
              0.7777777777777778,
              "#fb9f3a"
             ],
             [
              0.8888888888888888,
              "#fdca26"
             ],
             [
              1,
              "#f0f921"
             ]
            ],
            "type": "histogram2dcontour"
           }
          ],
          "mesh3d": [
           {
            "colorbar": {
             "outlinewidth": 0,
             "ticks": ""
            },
            "type": "mesh3d"
           }
          ],
          "parcoords": [
           {
            "line": {
             "colorbar": {
              "outlinewidth": 0,
              "ticks": ""
             }
            },
            "type": "parcoords"
           }
          ],
          "pie": [
           {
            "automargin": true,
            "type": "pie"
           }
          ],
          "scatter": [
           {
            "fillpattern": {
             "fillmode": "overlay",
             "size": 10,
             "solidity": 0.2
            },
            "type": "scatter"
           }
          ],
          "scatter3d": [
           {
            "line": {
             "colorbar": {
              "outlinewidth": 0,
              "ticks": ""
             }
            },
            "marker": {
             "colorbar": {
              "outlinewidth": 0,
              "ticks": ""
             }
            },
            "type": "scatter3d"
           }
          ],
          "scattercarpet": [
           {
            "marker": {
             "colorbar": {
              "outlinewidth": 0,
              "ticks": ""
             }
            },
            "type": "scattercarpet"
           }
          ],
          "scattergeo": [
           {
            "marker": {
             "colorbar": {
              "outlinewidth": 0,
              "ticks": ""
             }
            },
            "type": "scattergeo"
           }
          ],
          "scattergl": [
           {
            "marker": {
             "colorbar": {
              "outlinewidth": 0,
              "ticks": ""
             }
            },
            "type": "scattergl"
           }
          ],
          "scattermap": [
           {
            "marker": {
             "colorbar": {
              "outlinewidth": 0,
              "ticks": ""
             }
            },
            "type": "scattermap"
           }
          ],
          "scattermapbox": [
           {
            "marker": {
             "colorbar": {
              "outlinewidth": 0,
              "ticks": ""
             }
            },
            "type": "scattermapbox"
           }
          ],
          "scatterpolar": [
           {
            "marker": {
             "colorbar": {
              "outlinewidth": 0,
              "ticks": ""
             }
            },
            "type": "scatterpolar"
           }
          ],
          "scatterpolargl": [
           {
            "marker": {
             "colorbar": {
              "outlinewidth": 0,
              "ticks": ""
             }
            },
            "type": "scatterpolargl"
           }
          ],
          "scatterternary": [
           {
            "marker": {
             "colorbar": {
              "outlinewidth": 0,
              "ticks": ""
             }
            },
            "type": "scatterternary"
           }
          ],
          "surface": [
           {
            "colorbar": {
             "outlinewidth": 0,
             "ticks": ""
            },
            "colorscale": [
             [
              0,
              "#0d0887"
             ],
             [
              0.1111111111111111,
              "#46039f"
             ],
             [
              0.2222222222222222,
              "#7201a8"
             ],
             [
              0.3333333333333333,
              "#9c179e"
             ],
             [
              0.4444444444444444,
              "#bd3786"
             ],
             [
              0.5555555555555556,
              "#d8576b"
             ],
             [
              0.6666666666666666,
              "#ed7953"
             ],
             [
              0.7777777777777778,
              "#fb9f3a"
             ],
             [
              0.8888888888888888,
              "#fdca26"
             ],
             [
              1,
              "#f0f921"
             ]
            ],
            "type": "surface"
           }
          ],
          "table": [
           {
            "cells": {
             "fill": {
              "color": "#EBF0F8"
             },
             "line": {
              "color": "white"
             }
            },
            "header": {
             "fill": {
              "color": "#C8D4E3"
             },
             "line": {
              "color": "white"
             }
            },
            "type": "table"
           }
          ]
         },
         "layout": {
          "annotationdefaults": {
           "arrowcolor": "#2a3f5f",
           "arrowhead": 0,
           "arrowwidth": 1
          },
          "autotypenumbers": "strict",
          "coloraxis": {
           "colorbar": {
            "outlinewidth": 0,
            "ticks": ""
           }
          },
          "colorscale": {
           "diverging": [
            [
             0,
             "#8e0152"
            ],
            [
             0.1,
             "#c51b7d"
            ],
            [
             0.2,
             "#de77ae"
            ],
            [
             0.3,
             "#f1b6da"
            ],
            [
             0.4,
             "#fde0ef"
            ],
            [
             0.5,
             "#f7f7f7"
            ],
            [
             0.6,
             "#e6f5d0"
            ],
            [
             0.7,
             "#b8e186"
            ],
            [
             0.8,
             "#7fbc41"
            ],
            [
             0.9,
             "#4d9221"
            ],
            [
             1,
             "#276419"
            ]
           ],
           "sequential": [
            [
             0,
             "#0d0887"
            ],
            [
             0.1111111111111111,
             "#46039f"
            ],
            [
             0.2222222222222222,
             "#7201a8"
            ],
            [
             0.3333333333333333,
             "#9c179e"
            ],
            [
             0.4444444444444444,
             "#bd3786"
            ],
            [
             0.5555555555555556,
             "#d8576b"
            ],
            [
             0.6666666666666666,
             "#ed7953"
            ],
            [
             0.7777777777777778,
             "#fb9f3a"
            ],
            [
             0.8888888888888888,
             "#fdca26"
            ],
            [
             1,
             "#f0f921"
            ]
           ],
           "sequentialminus": [
            [
             0,
             "#0d0887"
            ],
            [
             0.1111111111111111,
             "#46039f"
            ],
            [
             0.2222222222222222,
             "#7201a8"
            ],
            [
             0.3333333333333333,
             "#9c179e"
            ],
            [
             0.4444444444444444,
             "#bd3786"
            ],
            [
             0.5555555555555556,
             "#d8576b"
            ],
            [
             0.6666666666666666,
             "#ed7953"
            ],
            [
             0.7777777777777778,
             "#fb9f3a"
            ],
            [
             0.8888888888888888,
             "#fdca26"
            ],
            [
             1,
             "#f0f921"
            ]
           ]
          },
          "colorway": [
           "#636efa",
           "#EF553B",
           "#00cc96",
           "#ab63fa",
           "#FFA15A",
           "#19d3f3",
           "#FF6692",
           "#B6E880",
           "#FF97FF",
           "#FECB52"
          ],
          "font": {
           "color": "#2a3f5f"
          },
          "geo": {
           "bgcolor": "white",
           "lakecolor": "white",
           "landcolor": "#E5ECF6",
           "showlakes": true,
           "showland": true,
           "subunitcolor": "white"
          },
          "hoverlabel": {
           "align": "left"
          },
          "hovermode": "closest",
          "mapbox": {
           "style": "light"
          },
          "paper_bgcolor": "white",
          "plot_bgcolor": "#E5ECF6",
          "polar": {
           "angularaxis": {
            "gridcolor": "white",
            "linecolor": "white",
            "ticks": ""
           },
           "bgcolor": "#E5ECF6",
           "radialaxis": {
            "gridcolor": "white",
            "linecolor": "white",
            "ticks": ""
           }
          },
          "scene": {
           "xaxis": {
            "backgroundcolor": "#E5ECF6",
            "gridcolor": "white",
            "gridwidth": 2,
            "linecolor": "white",
            "showbackground": true,
            "ticks": "",
            "zerolinecolor": "white"
           },
           "yaxis": {
            "backgroundcolor": "#E5ECF6",
            "gridcolor": "white",
            "gridwidth": 2,
            "linecolor": "white",
            "showbackground": true,
            "ticks": "",
            "zerolinecolor": "white"
           },
           "zaxis": {
            "backgroundcolor": "#E5ECF6",
            "gridcolor": "white",
            "gridwidth": 2,
            "linecolor": "white",
            "showbackground": true,
            "ticks": "",
            "zerolinecolor": "white"
           }
          },
          "shapedefaults": {
           "line": {
            "color": "#2a3f5f"
           }
          },
          "ternary": {
           "aaxis": {
            "gridcolor": "white",
            "linecolor": "white",
            "ticks": ""
           },
           "baxis": {
            "gridcolor": "white",
            "linecolor": "white",
            "ticks": ""
           },
           "bgcolor": "#E5ECF6",
           "caxis": {
            "gridcolor": "white",
            "linecolor": "white",
            "ticks": ""
           }
          },
          "title": {
           "x": 0.05
          },
          "xaxis": {
           "automargin": true,
           "gridcolor": "white",
           "linecolor": "white",
           "ticks": "",
           "title": {
            "standoff": 15
           },
           "zerolinecolor": "white",
           "zerolinewidth": 2
          },
          "yaxis": {
           "automargin": true,
           "gridcolor": "white",
           "linecolor": "white",
           "ticks": "",
           "title": {
            "standoff": 15
           },
           "zerolinecolor": "white",
           "zerolinewidth": 2
          }
         }
        },
        "title": {
         "text": "Proporción Ecobici por hora"
        },
        "xaxis": {
         "anchor": "y",
         "domain": [
          0,
          1
         ],
         "title": {
          "text": "fh_retiro"
         }
        },
        "yaxis": {
         "anchor": "x",
         "domain": [
          0,
          1
         ],
         "title": {
          "text": "proportion"
         }
        }
       }
      }
     },
     "metadata": {},
     "output_type": "display_data"
    }
   ],
   "source": [
    "import plotly.express as px\n",
    "\n",
    "# Crear la gráfica de barras interactiva\n",
    "fig = px.bar(df_horas_muestra.reset_index(), x='fh_retiro', y='proportion', title=\"Proporción Ecobici por hora\")\n",
    "\n",
    "# Agregar etiquetas a las barras\n",
    "#fig.update_traces(text=df_horas_muestra.reset_index()['proportion'].apply( lambda x: round(x,2) ) )\n",
    "\n",
    "fig.show()"
   ]
  },
  {
   "cell_type": "code",
   "execution_count": 58,
   "metadata": {},
   "outputs": [
    {
     "data": {
      "application/vnd.plotly.v1+json": {
       "config": {
        "plotlyServerURL": "https://plot.ly"
       },
       "data": [
        {
         "hovertemplate": "fh_retiro=%{x}<br>proportion=%{y}<extra></extra>",
         "legendgroup": "",
         "line": {
          "color": "#636efa",
          "dash": "solid"
         },
         "marker": {
          "symbol": "circle"
         },
         "mode": "lines",
         "name": "",
         "orientation": "v",
         "showlegend": false,
         "type": "scatter",
         "x": {
          "bdata": "AAECAwQFBgcICQoLDA0ODxAREhMUFRYX",
          "dtype": "i1"
         },
         "xaxis": "x",
         "y": {
          "bdata": "iUnya9sWcT/Kyk27YR0VPwAAAAAAAAAAAAAAAAAAAAAYsB9syMyTPpIwyH6TnHs/F2rmna1AmT/XQqlphxSrP226aBfmQrM/AInihS0zrj894UWA5FKpP5x6qgJI1Kg/NDteD8Xdqj/j5uxkCjyvP9URoqw4NbI/9kqIW6xIsj+GgVVfHdywP4Kr2cyMrLM/KKw2x8V8tj9QaHeEbMmxP1Zw2H/TVKk/j1dacEpeoj/+hGrWDkGYP4dkji31C40/",
          "dtype": "f8"
         },
         "yaxis": "y"
        }
       ],
       "layout": {
        "legend": {
         "tracegroupgap": 0
        },
        "template": {
         "data": {
          "bar": [
           {
            "error_x": {
             "color": "#2a3f5f"
            },
            "error_y": {
             "color": "#2a3f5f"
            },
            "marker": {
             "line": {
              "color": "#E5ECF6",
              "width": 0.5
             },
             "pattern": {
              "fillmode": "overlay",
              "size": 10,
              "solidity": 0.2
             }
            },
            "type": "bar"
           }
          ],
          "barpolar": [
           {
            "marker": {
             "line": {
              "color": "#E5ECF6",
              "width": 0.5
             },
             "pattern": {
              "fillmode": "overlay",
              "size": 10,
              "solidity": 0.2
             }
            },
            "type": "barpolar"
           }
          ],
          "carpet": [
           {
            "aaxis": {
             "endlinecolor": "#2a3f5f",
             "gridcolor": "white",
             "linecolor": "white",
             "minorgridcolor": "white",
             "startlinecolor": "#2a3f5f"
            },
            "baxis": {
             "endlinecolor": "#2a3f5f",
             "gridcolor": "white",
             "linecolor": "white",
             "minorgridcolor": "white",
             "startlinecolor": "#2a3f5f"
            },
            "type": "carpet"
           }
          ],
          "choropleth": [
           {
            "colorbar": {
             "outlinewidth": 0,
             "ticks": ""
            },
            "type": "choropleth"
           }
          ],
          "contour": [
           {
            "colorbar": {
             "outlinewidth": 0,
             "ticks": ""
            },
            "colorscale": [
             [
              0,
              "#0d0887"
             ],
             [
              0.1111111111111111,
              "#46039f"
             ],
             [
              0.2222222222222222,
              "#7201a8"
             ],
             [
              0.3333333333333333,
              "#9c179e"
             ],
             [
              0.4444444444444444,
              "#bd3786"
             ],
             [
              0.5555555555555556,
              "#d8576b"
             ],
             [
              0.6666666666666666,
              "#ed7953"
             ],
             [
              0.7777777777777778,
              "#fb9f3a"
             ],
             [
              0.8888888888888888,
              "#fdca26"
             ],
             [
              1,
              "#f0f921"
             ]
            ],
            "type": "contour"
           }
          ],
          "contourcarpet": [
           {
            "colorbar": {
             "outlinewidth": 0,
             "ticks": ""
            },
            "type": "contourcarpet"
           }
          ],
          "heatmap": [
           {
            "colorbar": {
             "outlinewidth": 0,
             "ticks": ""
            },
            "colorscale": [
             [
              0,
              "#0d0887"
             ],
             [
              0.1111111111111111,
              "#46039f"
             ],
             [
              0.2222222222222222,
              "#7201a8"
             ],
             [
              0.3333333333333333,
              "#9c179e"
             ],
             [
              0.4444444444444444,
              "#bd3786"
             ],
             [
              0.5555555555555556,
              "#d8576b"
             ],
             [
              0.6666666666666666,
              "#ed7953"
             ],
             [
              0.7777777777777778,
              "#fb9f3a"
             ],
             [
              0.8888888888888888,
              "#fdca26"
             ],
             [
              1,
              "#f0f921"
             ]
            ],
            "type": "heatmap"
           }
          ],
          "histogram": [
           {
            "marker": {
             "pattern": {
              "fillmode": "overlay",
              "size": 10,
              "solidity": 0.2
             }
            },
            "type": "histogram"
           }
          ],
          "histogram2d": [
           {
            "colorbar": {
             "outlinewidth": 0,
             "ticks": ""
            },
            "colorscale": [
             [
              0,
              "#0d0887"
             ],
             [
              0.1111111111111111,
              "#46039f"
             ],
             [
              0.2222222222222222,
              "#7201a8"
             ],
             [
              0.3333333333333333,
              "#9c179e"
             ],
             [
              0.4444444444444444,
              "#bd3786"
             ],
             [
              0.5555555555555556,
              "#d8576b"
             ],
             [
              0.6666666666666666,
              "#ed7953"
             ],
             [
              0.7777777777777778,
              "#fb9f3a"
             ],
             [
              0.8888888888888888,
              "#fdca26"
             ],
             [
              1,
              "#f0f921"
             ]
            ],
            "type": "histogram2d"
           }
          ],
          "histogram2dcontour": [
           {
            "colorbar": {
             "outlinewidth": 0,
             "ticks": ""
            },
            "colorscale": [
             [
              0,
              "#0d0887"
             ],
             [
              0.1111111111111111,
              "#46039f"
             ],
             [
              0.2222222222222222,
              "#7201a8"
             ],
             [
              0.3333333333333333,
              "#9c179e"
             ],
             [
              0.4444444444444444,
              "#bd3786"
             ],
             [
              0.5555555555555556,
              "#d8576b"
             ],
             [
              0.6666666666666666,
              "#ed7953"
             ],
             [
              0.7777777777777778,
              "#fb9f3a"
             ],
             [
              0.8888888888888888,
              "#fdca26"
             ],
             [
              1,
              "#f0f921"
             ]
            ],
            "type": "histogram2dcontour"
           }
          ],
          "mesh3d": [
           {
            "colorbar": {
             "outlinewidth": 0,
             "ticks": ""
            },
            "type": "mesh3d"
           }
          ],
          "parcoords": [
           {
            "line": {
             "colorbar": {
              "outlinewidth": 0,
              "ticks": ""
             }
            },
            "type": "parcoords"
           }
          ],
          "pie": [
           {
            "automargin": true,
            "type": "pie"
           }
          ],
          "scatter": [
           {
            "fillpattern": {
             "fillmode": "overlay",
             "size": 10,
             "solidity": 0.2
            },
            "type": "scatter"
           }
          ],
          "scatter3d": [
           {
            "line": {
             "colorbar": {
              "outlinewidth": 0,
              "ticks": ""
             }
            },
            "marker": {
             "colorbar": {
              "outlinewidth": 0,
              "ticks": ""
             }
            },
            "type": "scatter3d"
           }
          ],
          "scattercarpet": [
           {
            "marker": {
             "colorbar": {
              "outlinewidth": 0,
              "ticks": ""
             }
            },
            "type": "scattercarpet"
           }
          ],
          "scattergeo": [
           {
            "marker": {
             "colorbar": {
              "outlinewidth": 0,
              "ticks": ""
             }
            },
            "type": "scattergeo"
           }
          ],
          "scattergl": [
           {
            "marker": {
             "colorbar": {
              "outlinewidth": 0,
              "ticks": ""
             }
            },
            "type": "scattergl"
           }
          ],
          "scattermap": [
           {
            "marker": {
             "colorbar": {
              "outlinewidth": 0,
              "ticks": ""
             }
            },
            "type": "scattermap"
           }
          ],
          "scattermapbox": [
           {
            "marker": {
             "colorbar": {
              "outlinewidth": 0,
              "ticks": ""
             }
            },
            "type": "scattermapbox"
           }
          ],
          "scatterpolar": [
           {
            "marker": {
             "colorbar": {
              "outlinewidth": 0,
              "ticks": ""
             }
            },
            "type": "scatterpolar"
           }
          ],
          "scatterpolargl": [
           {
            "marker": {
             "colorbar": {
              "outlinewidth": 0,
              "ticks": ""
             }
            },
            "type": "scatterpolargl"
           }
          ],
          "scatterternary": [
           {
            "marker": {
             "colorbar": {
              "outlinewidth": 0,
              "ticks": ""
             }
            },
            "type": "scatterternary"
           }
          ],
          "surface": [
           {
            "colorbar": {
             "outlinewidth": 0,
             "ticks": ""
            },
            "colorscale": [
             [
              0,
              "#0d0887"
             ],
             [
              0.1111111111111111,
              "#46039f"
             ],
             [
              0.2222222222222222,
              "#7201a8"
             ],
             [
              0.3333333333333333,
              "#9c179e"
             ],
             [
              0.4444444444444444,
              "#bd3786"
             ],
             [
              0.5555555555555556,
              "#d8576b"
             ],
             [
              0.6666666666666666,
              "#ed7953"
             ],
             [
              0.7777777777777778,
              "#fb9f3a"
             ],
             [
              0.8888888888888888,
              "#fdca26"
             ],
             [
              1,
              "#f0f921"
             ]
            ],
            "type": "surface"
           }
          ],
          "table": [
           {
            "cells": {
             "fill": {
              "color": "#EBF0F8"
             },
             "line": {
              "color": "white"
             }
            },
            "header": {
             "fill": {
              "color": "#C8D4E3"
             },
             "line": {
              "color": "white"
             }
            },
            "type": "table"
           }
          ]
         },
         "layout": {
          "annotationdefaults": {
           "arrowcolor": "#2a3f5f",
           "arrowhead": 0,
           "arrowwidth": 1
          },
          "autotypenumbers": "strict",
          "coloraxis": {
           "colorbar": {
            "outlinewidth": 0,
            "ticks": ""
           }
          },
          "colorscale": {
           "diverging": [
            [
             0,
             "#8e0152"
            ],
            [
             0.1,
             "#c51b7d"
            ],
            [
             0.2,
             "#de77ae"
            ],
            [
             0.3,
             "#f1b6da"
            ],
            [
             0.4,
             "#fde0ef"
            ],
            [
             0.5,
             "#f7f7f7"
            ],
            [
             0.6,
             "#e6f5d0"
            ],
            [
             0.7,
             "#b8e186"
            ],
            [
             0.8,
             "#7fbc41"
            ],
            [
             0.9,
             "#4d9221"
            ],
            [
             1,
             "#276419"
            ]
           ],
           "sequential": [
            [
             0,
             "#0d0887"
            ],
            [
             0.1111111111111111,
             "#46039f"
            ],
            [
             0.2222222222222222,
             "#7201a8"
            ],
            [
             0.3333333333333333,
             "#9c179e"
            ],
            [
             0.4444444444444444,
             "#bd3786"
            ],
            [
             0.5555555555555556,
             "#d8576b"
            ],
            [
             0.6666666666666666,
             "#ed7953"
            ],
            [
             0.7777777777777778,
             "#fb9f3a"
            ],
            [
             0.8888888888888888,
             "#fdca26"
            ],
            [
             1,
             "#f0f921"
            ]
           ],
           "sequentialminus": [
            [
             0,
             "#0d0887"
            ],
            [
             0.1111111111111111,
             "#46039f"
            ],
            [
             0.2222222222222222,
             "#7201a8"
            ],
            [
             0.3333333333333333,
             "#9c179e"
            ],
            [
             0.4444444444444444,
             "#bd3786"
            ],
            [
             0.5555555555555556,
             "#d8576b"
            ],
            [
             0.6666666666666666,
             "#ed7953"
            ],
            [
             0.7777777777777778,
             "#fb9f3a"
            ],
            [
             0.8888888888888888,
             "#fdca26"
            ],
            [
             1,
             "#f0f921"
            ]
           ]
          },
          "colorway": [
           "#636efa",
           "#EF553B",
           "#00cc96",
           "#ab63fa",
           "#FFA15A",
           "#19d3f3",
           "#FF6692",
           "#B6E880",
           "#FF97FF",
           "#FECB52"
          ],
          "font": {
           "color": "#2a3f5f"
          },
          "geo": {
           "bgcolor": "white",
           "lakecolor": "white",
           "landcolor": "#E5ECF6",
           "showlakes": true,
           "showland": true,
           "subunitcolor": "white"
          },
          "hoverlabel": {
           "align": "left"
          },
          "hovermode": "closest",
          "mapbox": {
           "style": "light"
          },
          "paper_bgcolor": "white",
          "plot_bgcolor": "#E5ECF6",
          "polar": {
           "angularaxis": {
            "gridcolor": "white",
            "linecolor": "white",
            "ticks": ""
           },
           "bgcolor": "#E5ECF6",
           "radialaxis": {
            "gridcolor": "white",
            "linecolor": "white",
            "ticks": ""
           }
          },
          "scene": {
           "xaxis": {
            "backgroundcolor": "#E5ECF6",
            "gridcolor": "white",
            "gridwidth": 2,
            "linecolor": "white",
            "showbackground": true,
            "ticks": "",
            "zerolinecolor": "white"
           },
           "yaxis": {
            "backgroundcolor": "#E5ECF6",
            "gridcolor": "white",
            "gridwidth": 2,
            "linecolor": "white",
            "showbackground": true,
            "ticks": "",
            "zerolinecolor": "white"
           },
           "zaxis": {
            "backgroundcolor": "#E5ECF6",
            "gridcolor": "white",
            "gridwidth": 2,
            "linecolor": "white",
            "showbackground": true,
            "ticks": "",
            "zerolinecolor": "white"
           }
          },
          "shapedefaults": {
           "line": {
            "color": "#2a3f5f"
           }
          },
          "ternary": {
           "aaxis": {
            "gridcolor": "white",
            "linecolor": "white",
            "ticks": ""
           },
           "baxis": {
            "gridcolor": "white",
            "linecolor": "white",
            "ticks": ""
           },
           "bgcolor": "#E5ECF6",
           "caxis": {
            "gridcolor": "white",
            "linecolor": "white",
            "ticks": ""
           }
          },
          "title": {
           "x": 0.05
          },
          "xaxis": {
           "automargin": true,
           "gridcolor": "white",
           "linecolor": "white",
           "ticks": "",
           "title": {
            "standoff": 15
           },
           "zerolinecolor": "white",
           "zerolinewidth": 2
          },
          "yaxis": {
           "automargin": true,
           "gridcolor": "white",
           "linecolor": "white",
           "ticks": "",
           "title": {
            "standoff": 15
           },
           "zerolinecolor": "white",
           "zerolinewidth": 2
          }
         }
        },
        "title": {
         "text": "Proporción Ecobici por hora"
        },
        "xaxis": {
         "anchor": "y",
         "domain": [
          0,
          1
         ],
         "title": {
          "text": "fh_retiro"
         }
        },
        "yaxis": {
         "anchor": "x",
         "domain": [
          0,
          1
         ],
         "title": {
          "text": "proportion"
         }
        }
       }
      }
     },
     "metadata": {},
     "output_type": "display_data"
    }
   ],
   "source": [
    "# Crear la gráfica de barras interactiva\n",
    "fig = px.line(df_horas_muestra.reset_index(), x='fh_retiro', y='proportion', title=\"Proporción Ecobici por hora\")\n",
    "\n",
    "# Agregar etiquetas a las barras\n",
    "#fig.update_traces(text=df_horas_muestra.reset_index()['proportion'].apply( lambda x: round(x,2) ) )\n",
    "\n",
    "fig.show()"
   ]
  },
  {
   "cell_type": "code",
   "execution_count": 59,
   "metadata": {},
   "outputs": [
    {
     "data": {
      "application/vnd.plotly.v1+json": {
       "config": {
        "plotlyServerURL": "https://plot.ly"
       },
       "data": [
        {
         "hovertemplate": "variable=count<br>Ciclo_Estacion_Retiro=%{x}<br>value=%{y}<extra></extra>",
         "legendgroup": "count",
         "marker": {
          "color": "#636efa",
          "pattern": {
           "shape": ""
          }
         },
         "name": "count",
         "orientation": "v",
         "showlegend": true,
         "text": {
          "bdata": "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",
          "dtype": "f8"
         },
         "textposition": "auto",
         "type": "bar",
         "x": [
          "271-272",
          "027",
          "064",
          "237-238",
          "107-108",
          "001",
          "014",
          "018",
          "208",
          "028",
          "031",
          "192-193",
          "041",
          "158-159",
          "194",
          "052",
          "053",
          "043",
          "242",
          "038",
          "555",
          "007",
          "056",
          "134",
          "019",
          "029",
          "017",
          "182",
          "074",
          "010",
          "030",
          "266-267",
          "174",
          "072",
          "154",
          "036",
          "032",
          "047",
          "045",
          "390-391",
          "086",
          "015",
          "141",
          "016",
          "020",
          "150",
          "139",
          "037",
          "260",
          "059",
          "070",
          "084",
          "548",
          "054",
          "111",
          "270",
          "116",
          "142",
          "195",
          "136",
          "068",
          "257",
          "115",
          "025",
          "046",
          "061",
          "121",
          "302",
          "006",
          "217",
          "117",
          "066",
          "449",
          "096",
          "119",
          "005",
          "389",
          "495",
          "553",
          "033",
          "183",
          "145",
          "190",
          "211",
          "476",
          "123",
          "146",
          "087",
          "131",
          "077",
          "049",
          "494",
          "180",
          "040",
          "135",
          "034",
          "024",
          "082",
          "060",
          "023",
          "125",
          "291",
          "133",
          "175",
          "447",
          "071",
          "273-274",
          "212",
          "128",
          "474",
          "137",
          "026",
          "080",
          "295",
          "129",
          "058",
          "563",
          "011",
          "004",
          "155",
          "170",
          "079",
          "124",
          "151",
          "235-236",
          "166",
          "465",
          "305",
          "255",
          "051",
          "164",
          "085",
          "185",
          "002",
          "048",
          "594",
          "668",
          "475",
          "073",
          "075",
          "120",
          "369",
          "310",
          "492",
          "012",
          "372",
          "280",
          "044",
          "149",
          "009",
          "256",
          "042",
          "118",
          "169",
          "069",
          "173",
          "022",
          "467",
          "179",
          "021",
          "076",
          "167",
          "063",
          "152",
          "560",
          "067",
          "114",
          "546",
          "399",
          "113",
          "549",
          "163",
          "039",
          "384",
          "551",
          "398",
          "126",
          "222",
          "165",
          "405",
          "144",
          "130",
          "143",
          "498",
          "480",
          "206",
          "099",
          "132",
          "450",
          "340",
          "317",
          "223",
          "078",
          "035",
          "147",
          "448",
          "140",
          "197",
          "286",
          "186",
          "258",
          "455",
          "181",
          "081",
          "055",
          "112",
          "464",
          "160",
          "377",
          "008",
          "127",
          "188",
          "254",
          "110",
          "499",
          "253",
          "228",
          "065",
          "461",
          "092",
          "259",
          "402",
          "303",
          "250",
          "281",
          "162",
          "003",
          "327",
          "552",
          "233",
          "276",
          "485",
          "315",
          "095",
          "374",
          "427",
          "385",
          "460",
          "481",
          "463",
          "397",
          "300",
          "329",
          "412",
          "083",
          "098",
          "148",
          "226",
          "109",
          "062",
          "219",
          "103",
          "477",
          "013",
          "299",
          "466",
          "550",
          "207",
          "545",
          "685",
          "618",
          "290",
          "292",
          "351",
          "425",
          "541",
          "359",
          "284",
          "459",
          "178",
          "204",
          "261",
          "393",
          "172",
          "323",
          "252",
          "050",
          "184",
          "268-269",
          "584",
          "205",
          "277",
          "326",
          "191",
          "171",
          "232",
          "224",
          "187",
          "306",
          "337",
          "381",
          "316",
          "621",
          "168",
          "097",
          "325",
          "543",
          "334",
          "554",
          "210",
          "161",
          "288",
          "157",
          "308",
          "057",
          "248",
          "404",
          "243",
          "394",
          "231",
          "470",
          "312",
          "234",
          "102",
          "263",
          "365",
          "225",
          "138",
          "370",
          "239",
          "347",
          "320",
          "282",
          "386",
          "341",
          "209",
          "486",
          "502",
          "301",
          "596",
          "328",
          "156",
          "478",
          "200",
          "354",
          "106",
          "221",
          "669",
          "378",
          "688",
          "105",
          "472",
          "597",
          "264-275",
          "287",
          "218",
          "331",
          "419",
          "468",
          "153",
          "432",
          "321",
          "392",
          "441",
          "462",
          "262",
          "544",
          "304",
          "177",
          "644",
          "247",
          "189",
          "595",
          "452",
          "635",
          "360",
          "089",
          "246",
          "122",
          "088",
          "296",
          "278",
          "214",
          "309",
          "293",
          "628",
          "265",
          "593",
          "338",
          "249",
          "357",
          "285",
          "091",
          "216",
          "356",
          "496",
          "104",
          "230",
          "507",
          "564",
          "201",
          "352",
          "283",
          "401",
          "319",
          "298",
          "363",
          "575",
          "396",
          "251",
          "672",
          "318",
          "451",
          "562",
          "336",
          "571",
          "576",
          "626",
          "578",
          "445-446",
          "324",
          "424",
          "504",
          "348",
          "413",
          "387",
          "540",
          "215",
          "491",
          "314",
          "371",
          "100",
          "608",
          "244",
          "375",
          "630",
          "198",
          "613",
          "349",
          "294",
          "241",
          "229",
          "659",
          "366",
          "471",
          "313",
          "439",
          "539",
          "599",
          "568",
          "358",
          "373",
          "660",
          "093",
          "409",
          "453",
          "420",
          "624",
          "335",
          "322",
          "489",
          "428",
          "615",
          "416",
          "469",
          "542",
          "667",
          "430",
          "454",
          "227",
          "279",
          "196",
          "414",
          "343",
          "240",
          "497",
          "417",
          "479",
          "656",
          "395",
          "505",
          "638",
          "333",
          "565",
          "592",
          "297",
          "484",
          "617",
          "513",
          "566",
          "602",
          "245",
          "547",
          "415",
          "590",
          "631",
          "456",
          "199",
          "612",
          "633",
          "176",
          "648",
          "588",
          "438",
          "623",
          "090",
          "483",
          "673",
          "332",
          "614",
          "380",
          "339",
          "436",
          "679",
          "203",
          "556",
          "202",
          "600",
          "663",
          "604",
          "603",
          "355",
          "330",
          "709",
          "457",
          "625",
          "421",
          "407",
          "213",
          "561",
          "345",
          "591",
          "675",
          "611",
          "307",
          "538",
          "362",
          "094",
          "501",
          "580",
          "429",
          "361",
          "493",
          "559",
          "567",
          "433",
          "220",
          "589",
          "367",
          "579",
          "442",
          "683",
          "696",
          "652",
          "440",
          "536",
          "684",
          "582",
          "473",
          "537",
          "610",
          "506",
          "645",
          "557",
          "641",
          "482",
          "523",
          "657",
          "423",
          "558",
          "503",
          "710",
          "444",
          "627",
          "598",
          "353",
          "670",
          "573",
          "342",
          "632",
          "674",
          "634",
          "570",
          "458",
          "514",
          "490",
          "346",
          "520",
          "601",
          "437",
          "569",
          "434",
          "700",
          "577",
          "649",
          "705",
          "651",
          "689",
          "639",
          "619",
          "692",
          "678",
          "510",
          "637",
          "620",
          "695",
          "622",
          "658",
          "640",
          "531",
          "522",
          "609",
          "671",
          "533",
          "629",
          "697",
          "653",
          "711",
          "703",
          "487",
          "643",
          "708",
          "642",
          "488",
          "585",
          "691",
          "702",
          "605",
          "646",
          "701",
          "512",
          "586",
          "616",
          "517",
          "686",
          "606",
          "704",
          "422",
          "521",
          "500",
          "519",
          "518",
          "636",
          "572",
          "583",
          "654",
          "508",
          "528",
          "443",
          "535",
          "525",
          "706",
          "698",
          "655",
          "587",
          "534",
          "511",
          "509",
          "527",
          "699",
          "532",
          "680",
          "661",
          "666",
          "650",
          "574",
          "690",
          "515",
          "694",
          "581",
          "516",
          "529",
          "607",
          "647",
          "682",
          "677",
          "526",
          "693",
          "664",
          "530",
          "665",
          "687",
          "707",
          "662",
          "676",
          "681",
          "524",
          "4422222",
          "1000",
          "CE-642",
          "CE-622",
          "1002",
          "kiosco100-FallaRTC"
         ],
         "xaxis": "x",
         "y": {
          "bdata": "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",
          "dtype": "i4"
         },
         "yaxis": "y"
        }
       ],
       "layout": {
        "barmode": "relative",
        "legend": {
         "title": {
          "text": "variable"
         },
         "tracegroupgap": 0
        },
        "template": {
         "data": {
          "bar": [
           {
            "error_x": {
             "color": "#2a3f5f"
            },
            "error_y": {
             "color": "#2a3f5f"
            },
            "marker": {
             "line": {
              "color": "#E5ECF6",
              "width": 0.5
             },
             "pattern": {
              "fillmode": "overlay",
              "size": 10,
              "solidity": 0.2
             }
            },
            "type": "bar"
           }
          ],
          "barpolar": [
           {
            "marker": {
             "line": {
              "color": "#E5ECF6",
              "width": 0.5
             },
             "pattern": {
              "fillmode": "overlay",
              "size": 10,
              "solidity": 0.2
             }
            },
            "type": "barpolar"
           }
          ],
          "carpet": [
           {
            "aaxis": {
             "endlinecolor": "#2a3f5f",
             "gridcolor": "white",
             "linecolor": "white",
             "minorgridcolor": "white",
             "startlinecolor": "#2a3f5f"
            },
            "baxis": {
             "endlinecolor": "#2a3f5f",
             "gridcolor": "white",
             "linecolor": "white",
             "minorgridcolor": "white",
             "startlinecolor": "#2a3f5f"
            },
            "type": "carpet"
           }
          ],
          "choropleth": [
           {
            "colorbar": {
             "outlinewidth": 0,
             "ticks": ""
            },
            "type": "choropleth"
           }
          ],
          "contour": [
           {
            "colorbar": {
             "outlinewidth": 0,
             "ticks": ""
            },
            "colorscale": [
             [
              0,
              "#0d0887"
             ],
             [
              0.1111111111111111,
              "#46039f"
             ],
             [
              0.2222222222222222,
              "#7201a8"
             ],
             [
              0.3333333333333333,
              "#9c179e"
             ],
             [
              0.4444444444444444,
              "#bd3786"
             ],
             [
              0.5555555555555556,
              "#d8576b"
             ],
             [
              0.6666666666666666,
              "#ed7953"
             ],
             [
              0.7777777777777778,
              "#fb9f3a"
             ],
             [
              0.8888888888888888,
              "#fdca26"
             ],
             [
              1,
              "#f0f921"
             ]
            ],
            "type": "contour"
           }
          ],
          "contourcarpet": [
           {
            "colorbar": {
             "outlinewidth": 0,
             "ticks": ""
            },
            "type": "contourcarpet"
           }
          ],
          "heatmap": [
           {
            "colorbar": {
             "outlinewidth": 0,
             "ticks": ""
            },
            "colorscale": [
             [
              0,
              "#0d0887"
             ],
             [
              0.1111111111111111,
              "#46039f"
             ],
             [
              0.2222222222222222,
              "#7201a8"
             ],
             [
              0.3333333333333333,
              "#9c179e"
             ],
             [
              0.4444444444444444,
              "#bd3786"
             ],
             [
              0.5555555555555556,
              "#d8576b"
             ],
             [
              0.6666666666666666,
              "#ed7953"
             ],
             [
              0.7777777777777778,
              "#fb9f3a"
             ],
             [
              0.8888888888888888,
              "#fdca26"
             ],
             [
              1,
              "#f0f921"
             ]
            ],
            "type": "heatmap"
           }
          ],
          "histogram": [
           {
            "marker": {
             "pattern": {
              "fillmode": "overlay",
              "size": 10,
              "solidity": 0.2
             }
            },
            "type": "histogram"
           }
          ],
          "histogram2d": [
           {
            "colorbar": {
             "outlinewidth": 0,
             "ticks": ""
            },
            "colorscale": [
             [
              0,
              "#0d0887"
             ],
             [
              0.1111111111111111,
              "#46039f"
             ],
             [
              0.2222222222222222,
              "#7201a8"
             ],
             [
              0.3333333333333333,
              "#9c179e"
             ],
             [
              0.4444444444444444,
              "#bd3786"
             ],
             [
              0.5555555555555556,
              "#d8576b"
             ],
             [
              0.6666666666666666,
              "#ed7953"
             ],
             [
              0.7777777777777778,
              "#fb9f3a"
             ],
             [
              0.8888888888888888,
              "#fdca26"
             ],
             [
              1,
              "#f0f921"
             ]
            ],
            "type": "histogram2d"
           }
          ],
          "histogram2dcontour": [
           {
            "colorbar": {
             "outlinewidth": 0,
             "ticks": ""
            },
            "colorscale": [
             [
              0,
              "#0d0887"
             ],
             [
              0.1111111111111111,
              "#46039f"
             ],
             [
              0.2222222222222222,
              "#7201a8"
             ],
             [
              0.3333333333333333,
              "#9c179e"
             ],
             [
              0.4444444444444444,
              "#bd3786"
             ],
             [
              0.5555555555555556,
              "#d8576b"
             ],
             [
              0.6666666666666666,
              "#ed7953"
             ],
             [
              0.7777777777777778,
              "#fb9f3a"
             ],
             [
              0.8888888888888888,
              "#fdca26"
             ],
             [
              1,
              "#f0f921"
             ]
            ],
            "type": "histogram2dcontour"
           }
          ],
          "mesh3d": [
           {
            "colorbar": {
             "outlinewidth": 0,
             "ticks": ""
            },
            "type": "mesh3d"
           }
          ],
          "parcoords": [
           {
            "line": {
             "colorbar": {
              "outlinewidth": 0,
              "ticks": ""
             }
            },
            "type": "parcoords"
           }
          ],
          "pie": [
           {
            "automargin": true,
            "type": "pie"
           }
          ],
          "scatter": [
           {
            "fillpattern": {
             "fillmode": "overlay",
             "size": 10,
             "solidity": 0.2
            },
            "type": "scatter"
           }
          ],
          "scatter3d": [
           {
            "line": {
             "colorbar": {
              "outlinewidth": 0,
              "ticks": ""
             }
            },
            "marker": {
             "colorbar": {
              "outlinewidth": 0,
              "ticks": ""
             }
            },
            "type": "scatter3d"
           }
          ],
          "scattercarpet": [
           {
            "marker": {
             "colorbar": {
              "outlinewidth": 0,
              "ticks": ""
             }
            },
            "type": "scattercarpet"
           }
          ],
          "scattergeo": [
           {
            "marker": {
             "colorbar": {
              "outlinewidth": 0,
              "ticks": ""
             }
            },
            "type": "scattergeo"
           }
          ],
          "scattergl": [
           {
            "marker": {
             "colorbar": {
              "outlinewidth": 0,
              "ticks": ""
             }
            },
            "type": "scattergl"
           }
          ],
          "scattermap": [
           {
            "marker": {
             "colorbar": {
              "outlinewidth": 0,
              "ticks": ""
             }
            },
            "type": "scattermap"
           }
          ],
          "scattermapbox": [
           {
            "marker": {
             "colorbar": {
              "outlinewidth": 0,
              "ticks": ""
             }
            },
            "type": "scattermapbox"
           }
          ],
          "scatterpolar": [
           {
            "marker": {
             "colorbar": {
              "outlinewidth": 0,
              "ticks": ""
             }
            },
            "type": "scatterpolar"
           }
          ],
          "scatterpolargl": [
           {
            "marker": {
             "colorbar": {
              "outlinewidth": 0,
              "ticks": ""
             }
            },
            "type": "scatterpolargl"
           }
          ],
          "scatterternary": [
           {
            "marker": {
             "colorbar": {
              "outlinewidth": 0,
              "ticks": ""
             }
            },
            "type": "scatterternary"
           }
          ],
          "surface": [
           {
            "colorbar": {
             "outlinewidth": 0,
             "ticks": ""
            },
            "colorscale": [
             [
              0,
              "#0d0887"
             ],
             [
              0.1111111111111111,
              "#46039f"
             ],
             [
              0.2222222222222222,
              "#7201a8"
             ],
             [
              0.3333333333333333,
              "#9c179e"
             ],
             [
              0.4444444444444444,
              "#bd3786"
             ],
             [
              0.5555555555555556,
              "#d8576b"
             ],
             [
              0.6666666666666666,
              "#ed7953"
             ],
             [
              0.7777777777777778,
              "#fb9f3a"
             ],
             [
              0.8888888888888888,
              "#fdca26"
             ],
             [
              1,
              "#f0f921"
             ]
            ],
            "type": "surface"
           }
          ],
          "table": [
           {
            "cells": {
             "fill": {
              "color": "#EBF0F8"
             },
             "line": {
              "color": "white"
             }
            },
            "header": {
             "fill": {
              "color": "#C8D4E3"
             },
             "line": {
              "color": "white"
             }
            },
            "type": "table"
           }
          ]
         },
         "layout": {
          "annotationdefaults": {
           "arrowcolor": "#2a3f5f",
           "arrowhead": 0,
           "arrowwidth": 1
          },
          "autotypenumbers": "strict",
          "coloraxis": {
           "colorbar": {
            "outlinewidth": 0,
            "ticks": ""
           }
          },
          "colorscale": {
           "diverging": [
            [
             0,
             "#8e0152"
            ],
            [
             0.1,
             "#c51b7d"
            ],
            [
             0.2,
             "#de77ae"
            ],
            [
             0.3,
             "#f1b6da"
            ],
            [
             0.4,
             "#fde0ef"
            ],
            [
             0.5,
             "#f7f7f7"
            ],
            [
             0.6,
             "#e6f5d0"
            ],
            [
             0.7,
             "#b8e186"
            ],
            [
             0.8,
             "#7fbc41"
            ],
            [
             0.9,
             "#4d9221"
            ],
            [
             1,
             "#276419"
            ]
           ],
           "sequential": [
            [
             0,
             "#0d0887"
            ],
            [
             0.1111111111111111,
             "#46039f"
            ],
            [
             0.2222222222222222,
             "#7201a8"
            ],
            [
             0.3333333333333333,
             "#9c179e"
            ],
            [
             0.4444444444444444,
             "#bd3786"
            ],
            [
             0.5555555555555556,
             "#d8576b"
            ],
            [
             0.6666666666666666,
             "#ed7953"
            ],
            [
             0.7777777777777778,
             "#fb9f3a"
            ],
            [
             0.8888888888888888,
             "#fdca26"
            ],
            [
             1,
             "#f0f921"
            ]
           ],
           "sequentialminus": [
            [
             0,
             "#0d0887"
            ],
            [
             0.1111111111111111,
             "#46039f"
            ],
            [
             0.2222222222222222,
             "#7201a8"
            ],
            [
             0.3333333333333333,
             "#9c179e"
            ],
            [
             0.4444444444444444,
             "#bd3786"
            ],
            [
             0.5555555555555556,
             "#d8576b"
            ],
            [
             0.6666666666666666,
             "#ed7953"
            ],
            [
             0.7777777777777778,
             "#fb9f3a"
            ],
            [
             0.8888888888888888,
             "#fdca26"
            ],
            [
             1,
             "#f0f921"
            ]
           ]
          },
          "colorway": [
           "#636efa",
           "#EF553B",
           "#00cc96",
           "#ab63fa",
           "#FFA15A",
           "#19d3f3",
           "#FF6692",
           "#B6E880",
           "#FF97FF",
           "#FECB52"
          ],
          "font": {
           "color": "#2a3f5f"
          },
          "geo": {
           "bgcolor": "white",
           "lakecolor": "white",
           "landcolor": "#E5ECF6",
           "showlakes": true,
           "showland": true,
           "subunitcolor": "white"
          },
          "hoverlabel": {
           "align": "left"
          },
          "hovermode": "closest",
          "mapbox": {
           "style": "light"
          },
          "paper_bgcolor": "white",
          "plot_bgcolor": "#E5ECF6",
          "polar": {
           "angularaxis": {
            "gridcolor": "white",
            "linecolor": "white",
            "ticks": ""
           },
           "bgcolor": "#E5ECF6",
           "radialaxis": {
            "gridcolor": "white",
            "linecolor": "white",
            "ticks": ""
           }
          },
          "scene": {
           "xaxis": {
            "backgroundcolor": "#E5ECF6",
            "gridcolor": "white",
            "gridwidth": 2,
            "linecolor": "white",
            "showbackground": true,
            "ticks": "",
            "zerolinecolor": "white"
           },
           "yaxis": {
            "backgroundcolor": "#E5ECF6",
            "gridcolor": "white",
            "gridwidth": 2,
            "linecolor": "white",
            "showbackground": true,
            "ticks": "",
            "zerolinecolor": "white"
           },
           "zaxis": {
            "backgroundcolor": "#E5ECF6",
            "gridcolor": "white",
            "gridwidth": 2,
            "linecolor": "white",
            "showbackground": true,
            "ticks": "",
            "zerolinecolor": "white"
           }
          },
          "shapedefaults": {
           "line": {
            "color": "#2a3f5f"
           }
          },
          "ternary": {
           "aaxis": {
            "gridcolor": "white",
            "linecolor": "white",
            "ticks": ""
           },
           "baxis": {
            "gridcolor": "white",
            "linecolor": "white",
            "ticks": ""
           },
           "bgcolor": "#E5ECF6",
           "caxis": {
            "gridcolor": "white",
            "linecolor": "white",
            "ticks": ""
           }
          },
          "title": {
           "x": 0.05
          },
          "xaxis": {
           "automargin": true,
           "gridcolor": "white",
           "linecolor": "white",
           "ticks": "",
           "title": {
            "standoff": 15
           },
           "zerolinecolor": "white",
           "zerolinewidth": 2
          },
          "yaxis": {
           "automargin": true,
           "gridcolor": "white",
           "linecolor": "white",
           "ticks": "",
           "title": {
            "standoff": 15
           },
           "zerolinecolor": "white",
           "zerolinewidth": 2
          }
         }
        },
        "title": {
         "text": "Proporción estacion Ecobici"
        },
        "xaxis": {
         "anchor": "y",
         "domain": [
          0,
          1
         ],
         "title": {
          "text": "Ciclo_Estacion_Retiro"
         }
        },
        "yaxis": {
         "anchor": "x",
         "domain": [
          0,
          1
         ],
         "title": {
          "text": "value"
         }
        }
       }
      }
     },
     "metadata": {},
     "output_type": "display_data"
    }
   ],
   "source": [
    "import plotly.express as px\n",
    "\n",
    "# Crear la gráfica de barras interactiva\n",
    "fig = px.bar(df_viajes['Ciclo_Estacion_Retiro'].value_counts(), title=\"Proporción estacion Ecobici\")\n",
    "\n",
    "# Agregar etiquetas a las barras\n",
    "#fig.update_traces(text=df_horas_muestra.reset_index()['proportion'].apply( lambda x: round(x,2) ) )\n",
    "\n",
    "# ordeamos por la longitud de la estacion de retiro\n",
    "fig.update_traces(text=df_viajes['Ciclo_Estacion_Retiro'].value_counts().sort_index() )\n",
    "\n",
    "fig.show()"
   ]
  },
  {
   "cell_type": "code",
   "execution_count": 60,
   "metadata": {},
   "outputs": [
    {
     "data": {
      "text/html": [
       "<div>\n",
       "<style scoped>\n",
       "    .dataframe tbody tr th:only-of-type {\n",
       "        vertical-align: middle;\n",
       "    }\n",
       "\n",
       "    .dataframe tbody tr th {\n",
       "        vertical-align: top;\n",
       "    }\n",
       "\n",
       "    .dataframe thead th {\n",
       "        text-align: right;\n",
       "    }\n",
       "</style>\n",
       "<table border=\"1\" class=\"dataframe\">\n",
       "  <thead>\n",
       "    <tr style=\"text-align: right;\">\n",
       "      <th></th>\n",
       "      <th>Edad_Usuario</th>\n",
       "      <th>Bici</th>\n",
       "      <th>fh_retiro</th>\n",
       "      <th>fh_arribo</th>\n",
       "    </tr>\n",
       "  </thead>\n",
       "  <tbody>\n",
       "    <tr>\n",
       "      <th>count</th>\n",
       "      <td>33893476.000</td>\n",
       "      <td>33893476.000</td>\n",
       "      <td>33893476</td>\n",
       "      <td>33893476</td>\n",
       "    </tr>\n",
       "    <tr>\n",
       "      <th>mean</th>\n",
       "      <td>33.917</td>\n",
       "      <td>5463998.044</td>\n",
       "      <td>2024-04-03 01:03:12.007367680</td>\n",
       "      <td>2024-04-03 01:19:20.887438336</td>\n",
       "    </tr>\n",
       "    <tr>\n",
       "      <th>min</th>\n",
       "      <td>16.000</td>\n",
       "      <td>2000461.000</td>\n",
       "      <td>2022-08-19 14:44:45</td>\n",
       "      <td>2023-03-01 00:00:10</td>\n",
       "    </tr>\n",
       "    <tr>\n",
       "      <th>25%</th>\n",
       "      <td>27.000</td>\n",
       "      <td>3722022.000</td>\n",
       "      <td>2023-11-05 14:23:12.750000128</td>\n",
       "      <td>2023-11-05 14:43:37.750000128</td>\n",
       "    </tr>\n",
       "    <tr>\n",
       "      <th>50%</th>\n",
       "      <td>32.000</td>\n",
       "      <td>5449988.000</td>\n",
       "      <td>2024-04-15 15:32:15</td>\n",
       "      <td>2024-04-15 15:47:39.500000</td>\n",
       "    </tr>\n",
       "    <tr>\n",
       "      <th>75%</th>\n",
       "      <td>39.000</td>\n",
       "      <td>7216393.000</td>\n",
       "      <td>2024-09-13 17:07:47.249999872</td>\n",
       "      <td>2024-09-13 17:23:05</td>\n",
       "    </tr>\n",
       "    <tr>\n",
       "      <th>max</th>\n",
       "      <td>160.000</td>\n",
       "      <td>8999708.000</td>\n",
       "      <td>2025-01-31 23:57:09</td>\n",
       "      <td>2025-01-31 23:59:57</td>\n",
       "    </tr>\n",
       "    <tr>\n",
       "      <th>std</th>\n",
       "      <td>9.733</td>\n",
       "      <td>2029089.129</td>\n",
       "      <td>NaN</td>\n",
       "      <td>NaN</td>\n",
       "    </tr>\n",
       "  </tbody>\n",
       "</table>\n",
       "</div>"
      ],
      "text/plain": [
       "       Edad_Usuario         Bici                      fh_retiro  \\\n",
       "count  33893476.000 33893476.000                       33893476   \n",
       "mean         33.917  5463998.044  2024-04-03 01:03:12.007367680   \n",
       "min          16.000  2000461.000            2022-08-19 14:44:45   \n",
       "25%          27.000  3722022.000  2023-11-05 14:23:12.750000128   \n",
       "50%          32.000  5449988.000            2024-04-15 15:32:15   \n",
       "75%          39.000  7216393.000  2024-09-13 17:07:47.249999872   \n",
       "max         160.000  8999708.000            2025-01-31 23:57:09   \n",
       "std           9.733  2029089.129                            NaN   \n",
       "\n",
       "                           fh_arribo  \n",
       "count                       33893476  \n",
       "mean   2024-04-03 01:19:20.887438336  \n",
       "min              2023-03-01 00:00:10  \n",
       "25%    2023-11-05 14:43:37.750000128  \n",
       "50%       2024-04-15 15:47:39.500000  \n",
       "75%              2024-09-13 17:23:05  \n",
       "max              2025-01-31 23:59:57  \n",
       "std                              NaN  "
      ]
     },
     "execution_count": 60,
     "metadata": {},
     "output_type": "execute_result"
    }
   ],
   "source": [
    "df_viajes.describe()"
   ]
  },
  {
   "cell_type": "code",
   "execution_count": 61,
   "metadata": {},
   "outputs": [
    {
     "data": {
      "text/plain": [
       "Genero_Usuario                   object\n",
       "Edad_Usuario                      int32\n",
       "Bici                              int32\n",
       "Ciclo_Estacion_Retiro            object\n",
       "Ciclo_EstacionArribo             object\n",
       "fh_retiro                datetime64[ns]\n",
       "fh_arribo                datetime64[ns]\n",
       "dtype: object"
      ]
     },
     "execution_count": 61,
     "metadata": {},
     "output_type": "execute_result"
    }
   ],
   "source": [
    "df_viajes.dtypes"
   ]
  },
  {
   "cell_type": "code",
   "execution_count": 68,
   "metadata": {},
   "outputs": [
    {
     "name": "stdout",
     "output_type": "stream",
     "text": [
      "EDA.ipynb                    IngenieriaDeVariables.ipynb\n",
      "EDA_Airbnb.ipynb\n"
     ]
    }
   ],
   "source": [
    "%ls"
   ]
  },
  {
   "cell_type": "code",
   "execution_count": 69,
   "metadata": {},
   "outputs": [],
   "source": [
    "df_viajes.to_parquet('../data/ecobici/viajes.parquet')"
   ]
  },
  {
   "cell_type": "code",
   "execution_count": null,
   "metadata": {},
   "outputs": [],
   "source": [
    "del df_viajes\n",
    "gc.collect()"
   ]
  },
  {
   "cell_type": "markdown",
   "metadata": {},
   "source": [
    "## Conclusiones"
   ]
  },
  {
   "cell_type": "markdown",
   "metadata": {},
   "source": [
    "* La información analizada en este Notebook fue a partir del año 2023 hasta el primer mes del 2025. No se tiene un comportamiento distinto al visto en el ejericio en clase, ya que las horas pico se siguen manteniendo (08:00 a.m. y 18:00 p.m).\n",
    "\n",
    "* El promedio de las proporciones de las bicicletas por hora nota disminuir alrededor de un 10% con respecto al conjunto de datos realizado en clase, pero las distribuciones se siguen manteniendo de la misma forma.\n",
    "\n",
    "* En cuanto a la proporcion de Genero de Usuario, se ha tenido un cambio, ya que se han agregado dos valores mas, en el conjunto de datos visto en clase solo se tienen genero con la etiqueta 'M' (que lo podemos interpretar como el genero Masculino) y tambien la etiqueta 'F' (en este caso representa al genero 'Femenino'). En este conjunto de datos que se analizó nos percatamos que se encuentran dos etiquetas mas: O y ?, son etiquetas que representan menos del 3% del conjunto de datos, pero son valores que se han agregado.\n",
    "\n",
    "* Aun con estos valores que se agregaron, los registros con la etiqueta 'M' sigue predominando como el grupo mayoritario, tal como en el conjunto de datos analizado en la clase.\n",
    "\n",
    "* La distribucion de la edad de mantiene, ya que se encuentra una mayor concentración entre los 20 y 40 años, con un promedio de 33.9%, similar al promedio obtenido en ejercicio realizado en clase.\n",
    "\n",
    "* Como adicional, se encontraron detalles extras al realizar el analisis de los nuevos datos, uno de ellos es el nombre de las columnas, ya que al tener una variacion por un simple caracter, este afecta al analisis y procesamiento siguiente, por lo que es necesario aplicar transformaciones extras. Tambien en la variable 'Ciclo_estacion_retiro' se tienen valores concatenados, es decir, en un registro se encuentran dos ID de estaciones. Al buscar estos Id en el catalogo de estaciones, son estaciones diferentes, en este caso es necesario definir una accion para poder determinar un solo valor. No se opta por eliminar los registros, ya que el porcentaje de registros con esta carcateristica es considerable.\n",
    "\n"
   ]
  }
 ],
 "metadata": {
  "kernelspec": {
   "display_name": ".venv",
   "language": "python",
   "name": "python3"
  },
  "language_info": {
   "codemirror_mode": {
    "name": "ipython",
    "version": 3
   },
   "file_extension": ".py",
   "mimetype": "text/x-python",
   "name": "python",
   "nbconvert_exporter": "python",
   "pygments_lexer": "ipython3",
   "version": "3.13.2"
  }
 },
 "nbformat": 4,
 "nbformat_minor": 2
}
