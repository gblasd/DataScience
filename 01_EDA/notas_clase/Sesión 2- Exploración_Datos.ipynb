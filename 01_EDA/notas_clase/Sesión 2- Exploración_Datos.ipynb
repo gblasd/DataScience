{
 "cells": [
  {
   "cell_type": "code",
   "execution_count": 1,
   "id": "b780ada2-50c9-4966-8e4b-1ea594cf7ac7",
   "metadata": {},
   "outputs": [],
   "source": [
    "# Para descomprimir datos como si fuera la terminal\n",
    "#! tar -xvf ecobici.tar.gz -C data/"
   ]
  },
  {
   "cell_type": "markdown",
   "id": "a7a6999d-dfa8-443e-b66c-9918d27e84da",
   "metadata": {},
   "source": [
    "# Librerías"
   ]
  },
  {
   "cell_type": "code",
   "execution_count": 2,
   "id": "f200c305-2cd5-4715-9229-cf765d61b494",
   "metadata": {},
   "outputs": [],
   "source": [
    "import pandas as pd\n",
    "import numpy as np\n",
    "import os\n",
    "import gc"
   ]
  },
  {
   "cell_type": "code",
   "execution_count": 3,
   "id": "38b672e6-8833-4a5e-8054-3f14e33a2f3d",
   "metadata": {},
   "outputs": [],
   "source": [
    "pd.options.display.float_format = '{:,.3f}'.format"
   ]
  },
  {
   "cell_type": "markdown",
   "id": "133cef50-08c9-4d63-b8be-ba1d2d67ca8c",
   "metadata": {},
   "source": [
    "# Introducción"
   ]
  },
  {
   "cell_type": "markdown",
   "id": "fa3b085e-26e9-4497-9dd3-708846bd483c",
   "metadata": {},
   "source": [
    "\n",
    "Clara nos dió el dataset de las ecobicis\n",
    "Quiere que seamos creativos para resolver problemas con los datos\n",
    "como científicos de datos\n",
    "\n",
    "* Promedio de duración\n",
    "* Horas \"pico\"\n",
    "* Calculo de distancias\n",
    "\n",
    "* Problema: Proyeción de población de bicicletas\n",
    "* Problema: Oferta / Demanda\n",
    "  \n",
    "* Problema: Mantenimiento\n",
    "* Problema: Costo de membresia\n",
    "* Problema: Nuevas estaciones\n",
    "* Problema: Marketing\n",
    "* Problema: Logística / rutas\n",
    "* Problema: Robo"
   ]
  },
  {
   "cell_type": "markdown",
   "id": "f4bbd309-b9b3-4e91-abcb-f707dcd2da10",
   "metadata": {},
   "source": [
    "# Lectura de Insumos"
   ]
  },
  {
   "cell_type": "code",
   "execution_count": 4,
   "id": "8d2d6b8c-41e9-437c-8b6a-7032f098f6aa",
   "metadata": {},
   "outputs": [],
   "source": [
    "ruta = 'data'"
   ]
  },
  {
   "cell_type": "code",
   "execution_count": 5,
   "id": "cdd39e10-eb76-4eef-b373-73015b49de61",
   "metadata": {},
   "outputs": [],
   "source": [
    "cat_estacion = pd.read_csv( os.path.join( ruta , 'estaciones-de-ecobici.csv' ))"
   ]
  },
  {
   "cell_type": "code",
   "execution_count": 6,
   "id": "fb19d00c-4758-49c1-9f7b-1b7f34a9b23f",
   "metadata": {},
   "outputs": [
    {
     "data": {
      "text/html": [
       "<div>\n",
       "<style scoped>\n",
       "    .dataframe tbody tr th:only-of-type {\n",
       "        vertical-align: middle;\n",
       "    }\n",
       "\n",
       "    .dataframe tbody tr th {\n",
       "        vertical-align: top;\n",
       "    }\n",
       "\n",
       "    .dataframe thead th {\n",
       "        text-align: right;\n",
       "    }\n",
       "</style>\n",
       "<table border=\"1\" class=\"dataframe\">\n",
       "  <thead>\n",
       "    <tr style=\"text-align: right;\">\n",
       "      <th></th>\n",
       "      <th>ID</th>\n",
       "      <th>Nombre</th>\n",
       "      <th>Dirección</th>\n",
       "      <th>Número</th>\n",
       "      <th>Código postal</th>\n",
       "      <th>districtCode</th>\n",
       "      <th>Colonia</th>\n",
       "      <th>altitude</th>\n",
       "      <th>nearbyStations/0</th>\n",
       "      <th>location/lat</th>\n",
       "      <th>location/lon</th>\n",
       "      <th>Tipo de estación</th>\n",
       "      <th>nearbyStations/1</th>\n",
       "      <th>nearbyStations/2</th>\n",
       "      <th>nearbyStations/3</th>\n",
       "      <th>nearbyStations/4</th>\n",
       "      <th>nearbyStations/5</th>\n",
       "      <th>punto_geo</th>\n",
       "    </tr>\n",
       "  </thead>\n",
       "  <tbody>\n",
       "    <tr>\n",
       "      <th>0</th>\n",
       "      <td>416</td>\n",
       "      <td>416 RECREO-PARROQUÍA</td>\n",
       "      <td>416 - Recreo-Parroquía</td>\n",
       "      <td>S/N</td>\n",
       "      <td>3,104.000</td>\n",
       "      <td>1</td>\n",
       "      <td>Ampliación Granada</td>\n",
       "      <td>NaN</td>\n",
       "      <td>390</td>\n",
       "      <td>19.371</td>\n",
       "      <td>-99.178</td>\n",
       "      <td>BIKE</td>\n",
       "      <td>391.000</td>\n",
       "      <td>415.000</td>\n",
       "      <td>NaN</td>\n",
       "      <td>NaN</td>\n",
       "      <td>NaN</td>\n",
       "      <td>19.371308,-99.177607</td>\n",
       "    </tr>\n",
       "    <tr>\n",
       "      <th>1</th>\n",
       "      <td>440</td>\n",
       "      <td>440 REAL DE MAYORAZGO-PUENTE XOCO</td>\n",
       "      <td>440 - Real De Mayorazgo-Puente Xoco</td>\n",
       "      <td>S/N</td>\n",
       "      <td>3,330.000</td>\n",
       "      <td>1</td>\n",
       "      <td>Ampliación Granada</td>\n",
       "      <td>NaN</td>\n",
       "      <td>433</td>\n",
       "      <td>19.361</td>\n",
       "      <td>-99.169</td>\n",
       "      <td>BIKE</td>\n",
       "      <td>439.000</td>\n",
       "      <td>441.000</td>\n",
       "      <td>NaN</td>\n",
       "      <td>NaN</td>\n",
       "      <td>NaN</td>\n",
       "      <td>19.36065,-99.168669</td>\n",
       "    </tr>\n",
       "    <tr>\n",
       "      <th>2</th>\n",
       "      <td>70</td>\n",
       "      <td>70 PARQUE MEXICO-MICHOACAN</td>\n",
       "      <td>070 - Parque México - Michoacan</td>\n",
       "      <td>S/N</td>\n",
       "      <td>6,100.000</td>\n",
       "      <td>1</td>\n",
       "      <td>Ampliación Granada</td>\n",
       "      <td>NaN</td>\n",
       "      <td>69</td>\n",
       "      <td>19.411</td>\n",
       "      <td>-99.170</td>\n",
       "      <td>BIKE,TPV</td>\n",
       "      <td>71.000</td>\n",
       "      <td>76.000</td>\n",
       "      <td>NaN</td>\n",
       "      <td>NaN</td>\n",
       "      <td>NaN</td>\n",
       "      <td>19.411272,-99.169718</td>\n",
       "    </tr>\n",
       "    <tr>\n",
       "      <th>3</th>\n",
       "      <td>325</td>\n",
       "      <td>325 PROVIDENCIA -AVENIDA DEL VALLE</td>\n",
       "      <td>325 - Providencia -Avenida Del Valle</td>\n",
       "      <td>S/N</td>\n",
       "      <td>3,100.000</td>\n",
       "      <td>1</td>\n",
       "      <td>Ampliación Granada</td>\n",
       "      <td>NaN</td>\n",
       "      <td>316</td>\n",
       "      <td>19.388</td>\n",
       "      <td>-99.170</td>\n",
       "      <td>BIKE</td>\n",
       "      <td>335.000</td>\n",
       "      <td>336.000</td>\n",
       "      <td>NaN</td>\n",
       "      <td>NaN</td>\n",
       "      <td>NaN</td>\n",
       "      <td>19.3881779,-99.1696894</td>\n",
       "    </tr>\n",
       "    <tr>\n",
       "      <th>4</th>\n",
       "      <td>252</td>\n",
       "      <td>252 VICTOR HUGO-SHAKESPEARE</td>\n",
       "      <td>252 - Víctor Hugo-Shakespeare</td>\n",
       "      <td>S/N</td>\n",
       "      <td>11,510.000</td>\n",
       "      <td>2</td>\n",
       "      <td>Anzures</td>\n",
       "      <td>NaN</td>\n",
       "      <td>249</td>\n",
       "      <td>19.428</td>\n",
       "      <td>-99.177</td>\n",
       "      <td>BIKE</td>\n",
       "      <td>251.000</td>\n",
       "      <td>253.000</td>\n",
       "      <td>NaN</td>\n",
       "      <td>NaN</td>\n",
       "      <td>NaN</td>\n",
       "      <td>19.427575,-99.17702</td>\n",
       "    </tr>\n",
       "  </tbody>\n",
       "</table>\n",
       "</div>"
      ],
      "text/plain": [
       "    ID                              Nombre  \\\n",
       "0  416                416 RECREO-PARROQUÍA   \n",
       "1  440   440 REAL DE MAYORAZGO-PUENTE XOCO   \n",
       "2   70          70 PARQUE MEXICO-MICHOACAN   \n",
       "3  325  325 PROVIDENCIA -AVENIDA DEL VALLE   \n",
       "4  252         252 VICTOR HUGO-SHAKESPEARE   \n",
       "\n",
       "                              Dirección Número  Código postal districtCode  \\\n",
       "0                416 - Recreo-Parroquía    S/N      3,104.000            1   \n",
       "1   440 - Real De Mayorazgo-Puente Xoco    S/N      3,330.000            1   \n",
       "2       070 - Parque México - Michoacan    S/N      6,100.000            1   \n",
       "3  325 - Providencia -Avenida Del Valle    S/N      3,100.000            1   \n",
       "4         252 - Víctor Hugo-Shakespeare    S/N     11,510.000            2   \n",
       "\n",
       "              Colonia  altitude  nearbyStations/0  location/lat  location/lon  \\\n",
       "0  Ampliación Granada       NaN               390        19.371       -99.178   \n",
       "1  Ampliación Granada       NaN               433        19.361       -99.169   \n",
       "2  Ampliación Granada       NaN                69        19.411       -99.170   \n",
       "3  Ampliación Granada       NaN               316        19.388       -99.170   \n",
       "4             Anzures       NaN               249        19.428       -99.177   \n",
       "\n",
       "  Tipo de estación  nearbyStations/1  nearbyStations/2  nearbyStations/3  \\\n",
       "0             BIKE           391.000           415.000               NaN   \n",
       "1             BIKE           439.000           441.000               NaN   \n",
       "2         BIKE,TPV            71.000            76.000               NaN   \n",
       "3             BIKE           335.000           336.000               NaN   \n",
       "4             BIKE           251.000           253.000               NaN   \n",
       "\n",
       "   nearbyStations/4  nearbyStations/5               punto_geo  \n",
       "0               NaN               NaN    19.371308,-99.177607  \n",
       "1               NaN               NaN     19.36065,-99.168669  \n",
       "2               NaN               NaN    19.411272,-99.169718  \n",
       "3               NaN               NaN  19.3881779,-99.1696894  \n",
       "4               NaN               NaN     19.427575,-99.17702  "
      ]
     },
     "execution_count": 6,
     "metadata": {},
     "output_type": "execute_result"
    }
   ],
   "source": [
    "cat_estacion.head()"
   ]
  },
  {
   "cell_type": "code",
   "execution_count": 7,
   "id": "78a3d06b-2b99-46fa-a054-4109e328a3fc",
   "metadata": {},
   "outputs": [],
   "source": [
    "#Lista de archivos en ruta\n",
    "lst_f = os.listdir(ruta)"
   ]
  },
  {
   "cell_type": "code",
   "execution_count": 8,
   "id": "cb62b10d-2c93-49d4-8b2f-c214d4d4a32f",
   "metadata": {},
   "outputs": [],
   "source": [
    "#Todos los archivos que inician con \"20\"\n",
    "lst_f = [ f for i,f in enumerate(lst_f) if f[:2] == '20']"
   ]
  },
  {
   "cell_type": "code",
   "execution_count": 9,
   "id": "4960e5b2-939c-44ad-bde6-d19ed42b4095",
   "metadata": {},
   "outputs": [
    {
     "name": "stdout",
     "output_type": "stream",
     "text": [
      "Total de archivos\n"
     ]
    },
    {
     "data": {
      "text/plain": [
       "24"
      ]
     },
     "execution_count": 9,
     "metadata": {},
     "output_type": "execute_result"
    }
   ],
   "source": [
    "print(\"Total de archivos\")\n",
    "len(lst_f)"
   ]
  },
  {
   "cell_type": "code",
   "execution_count": 10,
   "id": "f4d5af00-b089-4d4e-a4a7-48e70aae6f9c",
   "metadata": {},
   "outputs": [],
   "source": [
    "lst_df = []"
   ]
  },
  {
   "cell_type": "code",
   "execution_count": 11,
   "id": "f36bc20c-8fe4-4006-97c9-a2e7d5a20b98",
   "metadata": {
    "scrolled": true
   },
   "outputs": [
    {
     "name": "stdout",
     "output_type": "stream",
     "text": [
      "archivo:  0\n"
     ]
    },
    {
     "name": "stderr",
     "output_type": "stream",
     "text": [
      "/tmp/ipykernel_88627/490836504.py:4: DtypeWarning: Columns (2) have mixed types. Specify dtype option on import or set low_memory=False.\n",
      "  lst_df.append( pd.read_csv( os.path.join( ruta , lst_f[id_] ) ) )\n"
     ]
    },
    {
     "name": "stdout",
     "output_type": "stream",
     "text": [
      "archivo:  1\n"
     ]
    },
    {
     "name": "stderr",
     "output_type": "stream",
     "text": [
      "/tmp/ipykernel_88627/490836504.py:4: DtypeWarning: Columns (2) have mixed types. Specify dtype option on import or set low_memory=False.\n",
      "  lst_df.append( pd.read_csv( os.path.join( ruta , lst_f[id_] ) ) )\n"
     ]
    },
    {
     "name": "stdout",
     "output_type": "stream",
     "text": [
      "archivo:  2\n",
      "archivo:  3\n"
     ]
    },
    {
     "name": "stderr",
     "output_type": "stream",
     "text": [
      "/tmp/ipykernel_88627/490836504.py:4: DtypeWarning: Columns (2,6,9) have mixed types. Specify dtype option on import or set low_memory=False.\n",
      "  lst_df.append( pd.read_csv( os.path.join( ruta , lst_f[id_] ) ) )\n"
     ]
    },
    {
     "name": "stdout",
     "output_type": "stream",
     "text": [
      "archivo:  4\n"
     ]
    },
    {
     "name": "stderr",
     "output_type": "stream",
     "text": [
      "/tmp/ipykernel_88627/490836504.py:4: DtypeWarning: Columns (2) have mixed types. Specify dtype option on import or set low_memory=False.\n",
      "  lst_df.append( pd.read_csv( os.path.join( ruta , lst_f[id_] ) ) )\n"
     ]
    },
    {
     "name": "stdout",
     "output_type": "stream",
     "text": [
      "archivo:  5\n",
      "archivo:  6\n"
     ]
    },
    {
     "name": "stderr",
     "output_type": "stream",
     "text": [
      "/tmp/ipykernel_88627/490836504.py:4: DtypeWarning: Columns (2) have mixed types. Specify dtype option on import or set low_memory=False.\n",
      "  lst_df.append( pd.read_csv( os.path.join( ruta , lst_f[id_] ) ) )\n"
     ]
    },
    {
     "name": "stdout",
     "output_type": "stream",
     "text": [
      "archivo:  7\n",
      "archivo:  8\n",
      "archivo:  9\n"
     ]
    },
    {
     "name": "stderr",
     "output_type": "stream",
     "text": [
      "/tmp/ipykernel_88627/490836504.py:4: DtypeWarning: Columns (2) have mixed types. Specify dtype option on import or set low_memory=False.\n",
      "  lst_df.append( pd.read_csv( os.path.join( ruta , lst_f[id_] ) ) )\n"
     ]
    },
    {
     "name": "stdout",
     "output_type": "stream",
     "text": [
      "archivo:  10\n",
      "archivo:  11\n",
      "archivo:  12\n",
      "archivo:  13\n",
      "archivo:  14\n"
     ]
    },
    {
     "name": "stderr",
     "output_type": "stream",
     "text": [
      "/tmp/ipykernel_88627/490836504.py:4: DtypeWarning: Columns (2) have mixed types. Specify dtype option on import or set low_memory=False.\n",
      "  lst_df.append( pd.read_csv( os.path.join( ruta , lst_f[id_] ) ) )\n"
     ]
    },
    {
     "name": "stdout",
     "output_type": "stream",
     "text": [
      "archivo:  15\n"
     ]
    },
    {
     "name": "stderr",
     "output_type": "stream",
     "text": [
      "/tmp/ipykernel_88627/490836504.py:4: DtypeWarning: Columns (2) have mixed types. Specify dtype option on import or set low_memory=False.\n",
      "  lst_df.append( pd.read_csv( os.path.join( ruta , lst_f[id_] ) ) )\n"
     ]
    },
    {
     "name": "stdout",
     "output_type": "stream",
     "text": [
      "archivo:  16\n",
      "archivo:  17\n",
      "archivo:  18\n",
      "archivo:  19\n"
     ]
    },
    {
     "name": "stderr",
     "output_type": "stream",
     "text": [
      "/tmp/ipykernel_88627/490836504.py:4: DtypeWarning: Columns (2) have mixed types. Specify dtype option on import or set low_memory=False.\n",
      "  lst_df.append( pd.read_csv( os.path.join( ruta , lst_f[id_] ) ) )\n"
     ]
    },
    {
     "name": "stdout",
     "output_type": "stream",
     "text": [
      "archivo:  20\n",
      "archivo:  21\n"
     ]
    },
    {
     "name": "stderr",
     "output_type": "stream",
     "text": [
      "/tmp/ipykernel_88627/490836504.py:4: DtypeWarning: Columns (2) have mixed types. Specify dtype option on import or set low_memory=False.\n",
      "  lst_df.append( pd.read_csv( os.path.join( ruta , lst_f[id_] ) ) )\n"
     ]
    },
    {
     "name": "stdout",
     "output_type": "stream",
     "text": [
      "archivo:  22\n",
      "archivo:  23\n"
     ]
    },
    {
     "name": "stderr",
     "output_type": "stream",
     "text": [
      "/tmp/ipykernel_88627/490836504.py:4: DtypeWarning: Columns (2) have mixed types. Specify dtype option on import or set low_memory=False.\n",
      "  lst_df.append( pd.read_csv( os.path.join( ruta , lst_f[id_] ) ) )\n"
     ]
    }
   ],
   "source": [
    "# Lectura de todos los archivos\n",
    "for id_ in range(len(lst_f)):\n",
    "    print(\"archivo: \",id_)\n",
    "    lst_df.append( pd.read_csv( os.path.join( ruta , lst_f[id_] ) ) )"
   ]
  },
  {
   "cell_type": "code",
   "execution_count": 12,
   "id": "98135cc3-4aa9-4d94-84e2-3d4a6ddf3b6d",
   "metadata": {},
   "outputs": [],
   "source": [
    "df_viajes = pd.concat(lst_df, ignore_index=True)"
   ]
  },
  {
   "cell_type": "code",
   "execution_count": 13,
   "id": "4c2d4743-4e09-46ac-91b4-cf6247417fce",
   "metadata": {},
   "outputs": [
    {
     "data": {
      "text/html": [
       "<div>\n",
       "<style scoped>\n",
       "    .dataframe tbody tr th:only-of-type {\n",
       "        vertical-align: middle;\n",
       "    }\n",
       "\n",
       "    .dataframe tbody tr th {\n",
       "        vertical-align: top;\n",
       "    }\n",
       "\n",
       "    .dataframe thead th {\n",
       "        text-align: right;\n",
       "    }\n",
       "</style>\n",
       "<table border=\"1\" class=\"dataframe\">\n",
       "  <thead>\n",
       "    <tr style=\"text-align: right;\">\n",
       "      <th></th>\n",
       "      <th>Genero_Usuario</th>\n",
       "      <th>Edad_Usuario</th>\n",
       "      <th>Bici</th>\n",
       "      <th>Ciclo_Estacion_Retiro</th>\n",
       "      <th>Fecha_Retiro</th>\n",
       "      <th>Hora_Retiro</th>\n",
       "      <th>Ciclo_Estacion_Arribo</th>\n",
       "      <th>Fecha_Arribo</th>\n",
       "      <th>Hora_Arribo</th>\n",
       "      <th>Unnamed: 9</th>\n",
       "    </tr>\n",
       "  </thead>\n",
       "  <tbody>\n",
       "    <tr>\n",
       "      <th>0</th>\n",
       "      <td>M</td>\n",
       "      <td>44</td>\n",
       "      <td>10225</td>\n",
       "      <td>169</td>\n",
       "      <td>01/11/2017</td>\n",
       "      <td>0:00:09</td>\n",
       "      <td>447</td>\n",
       "      <td>01/11/2017</td>\n",
       "      <td>0:11:47</td>\n",
       "      <td>NaN</td>\n",
       "    </tr>\n",
       "    <tr>\n",
       "      <th>1</th>\n",
       "      <td>M</td>\n",
       "      <td>35</td>\n",
       "      <td>8106</td>\n",
       "      <td>359</td>\n",
       "      <td>01/11/2017</td>\n",
       "      <td>0:02:16</td>\n",
       "      <td>338</td>\n",
       "      <td>01/11/2017</td>\n",
       "      <td>0:05:54</td>\n",
       "      <td>NaN</td>\n",
       "    </tr>\n",
       "    <tr>\n",
       "      <th>2</th>\n",
       "      <td>M</td>\n",
       "      <td>27</td>\n",
       "      <td>10899</td>\n",
       "      <td>84</td>\n",
       "      <td>01/11/2017</td>\n",
       "      <td>0:02:54</td>\n",
       "      <td>150</td>\n",
       "      <td>01/11/2017</td>\n",
       "      <td>0:06:30</td>\n",
       "      <td>NaN</td>\n",
       "    </tr>\n",
       "    <tr>\n",
       "      <th>3</th>\n",
       "      <td>M</td>\n",
       "      <td>27</td>\n",
       "      <td>9931</td>\n",
       "      <td>137</td>\n",
       "      <td>01/11/2017</td>\n",
       "      <td>0:03:12</td>\n",
       "      <td>182</td>\n",
       "      <td>01/11/2017</td>\n",
       "      <td>0:19:02</td>\n",
       "      <td>NaN</td>\n",
       "    </tr>\n",
       "    <tr>\n",
       "      <th>4</th>\n",
       "      <td>M</td>\n",
       "      <td>23</td>\n",
       "      <td>8934</td>\n",
       "      <td>134</td>\n",
       "      <td>01/11/2017</td>\n",
       "      <td>0:03:54</td>\n",
       "      <td>116</td>\n",
       "      <td>01/11/2017</td>\n",
       "      <td>0:10:24</td>\n",
       "      <td>NaN</td>\n",
       "    </tr>\n",
       "  </tbody>\n",
       "</table>\n",
       "</div>"
      ],
      "text/plain": [
       "  Genero_Usuario  Edad_Usuario   Bici  Ciclo_Estacion_Retiro Fecha_Retiro  \\\n",
       "0              M            44  10225                    169   01/11/2017   \n",
       "1              M            35   8106                    359   01/11/2017   \n",
       "2              M            27  10899                     84   01/11/2017   \n",
       "3              M            27   9931                    137   01/11/2017   \n",
       "4              M            23   8934                    134   01/11/2017   \n",
       "\n",
       "  Hora_Retiro Ciclo_Estacion_Arribo Fecha_Arribo Hora_Arribo Unnamed: 9  \n",
       "0     0:00:09                   447   01/11/2017     0:11:47        NaN  \n",
       "1     0:02:16                   338   01/11/2017     0:05:54        NaN  \n",
       "2     0:02:54                   150   01/11/2017     0:06:30        NaN  \n",
       "3     0:03:12                   182   01/11/2017     0:19:02        NaN  \n",
       "4     0:03:54                   116   01/11/2017     0:10:24        NaN  "
      ]
     },
     "execution_count": 13,
     "metadata": {},
     "output_type": "execute_result"
    }
   ],
   "source": [
    "df_viajes.head()"
   ]
  },
  {
   "cell_type": "code",
   "execution_count": 14,
   "id": "f0fbf31d-9dff-43a1-916f-4d3897880986",
   "metadata": {},
   "outputs": [
    {
     "data": {
      "text/html": [
       "<div>\n",
       "<style scoped>\n",
       "    .dataframe tbody tr th:only-of-type {\n",
       "        vertical-align: middle;\n",
       "    }\n",
       "\n",
       "    .dataframe tbody tr th {\n",
       "        vertical-align: top;\n",
       "    }\n",
       "\n",
       "    .dataframe thead th {\n",
       "        text-align: right;\n",
       "    }\n",
       "</style>\n",
       "<table border=\"1\" class=\"dataframe\">\n",
       "  <thead>\n",
       "    <tr style=\"text-align: right;\">\n",
       "      <th></th>\n",
       "      <th>Genero_Usuario</th>\n",
       "      <th>Edad_Usuario</th>\n",
       "      <th>Bici</th>\n",
       "      <th>Ciclo_Estacion_Retiro</th>\n",
       "      <th>Fecha_Retiro</th>\n",
       "      <th>Hora_Retiro</th>\n",
       "      <th>Ciclo_Estacion_Arribo</th>\n",
       "      <th>Fecha_Arribo</th>\n",
       "      <th>Hora_Arribo</th>\n",
       "      <th>Unnamed: 9</th>\n",
       "    </tr>\n",
       "  </thead>\n",
       "  <tbody>\n",
       "    <tr>\n",
       "      <th>17104568</th>\n",
       "      <td>F</td>\n",
       "      <td>37</td>\n",
       "      <td>11043</td>\n",
       "      <td>140</td>\n",
       "      <td>27/02/2018</td>\n",
       "      <td>23:58:19</td>\n",
       "      <td>291</td>\n",
       "      <td>28/02/2018</td>\n",
       "      <td>0:18:29</td>\n",
       "      <td>NaN</td>\n",
       "    </tr>\n",
       "    <tr>\n",
       "      <th>17104569</th>\n",
       "      <td>M</td>\n",
       "      <td>35</td>\n",
       "      <td>15129</td>\n",
       "      <td>257</td>\n",
       "      <td>27/02/2018</td>\n",
       "      <td>23:58:28</td>\n",
       "      <td>139</td>\n",
       "      <td>28/02/2018</td>\n",
       "      <td>0:23:59</td>\n",
       "      <td>NaN</td>\n",
       "    </tr>\n",
       "    <tr>\n",
       "      <th>17104570</th>\n",
       "      <td>M</td>\n",
       "      <td>37</td>\n",
       "      <td>7426</td>\n",
       "      <td>147</td>\n",
       "      <td>27/02/2018</td>\n",
       "      <td>23:59:28</td>\n",
       "      <td>164</td>\n",
       "      <td>28/02/2018</td>\n",
       "      <td>0:09:06</td>\n",
       "      <td>NaN</td>\n",
       "    </tr>\n",
       "    <tr>\n",
       "      <th>17104571</th>\n",
       "      <td>M</td>\n",
       "      <td>70</td>\n",
       "      <td>10429</td>\n",
       "      <td>95</td>\n",
       "      <td>27/02/2018</td>\n",
       "      <td>23:59:43</td>\n",
       "      <td>88</td>\n",
       "      <td>28/02/2018</td>\n",
       "      <td>0:16:39</td>\n",
       "      <td>NaN</td>\n",
       "    </tr>\n",
       "    <tr>\n",
       "      <th>17104572</th>\n",
       "      <td>M</td>\n",
       "      <td>28</td>\n",
       "      <td>9789</td>\n",
       "      <td>295</td>\n",
       "      <td>27/02/2018</td>\n",
       "      <td>23:59:55</td>\n",
       "      <td>172</td>\n",
       "      <td>28/02/2018</td>\n",
       "      <td>0:25:03</td>\n",
       "      <td>NaN</td>\n",
       "    </tr>\n",
       "  </tbody>\n",
       "</table>\n",
       "</div>"
      ],
      "text/plain": [
       "         Genero_Usuario  Edad_Usuario   Bici  Ciclo_Estacion_Retiro  \\\n",
       "17104568              F            37  11043                    140   \n",
       "17104569              M            35  15129                    257   \n",
       "17104570              M            37   7426                    147   \n",
       "17104571              M            70  10429                     95   \n",
       "17104572              M            28   9789                    295   \n",
       "\n",
       "         Fecha_Retiro Hora_Retiro Ciclo_Estacion_Arribo Fecha_Arribo  \\\n",
       "17104568   27/02/2018    23:58:19                   291   28/02/2018   \n",
       "17104569   27/02/2018    23:58:28                   139   28/02/2018   \n",
       "17104570   27/02/2018    23:59:28                   164   28/02/2018   \n",
       "17104571   27/02/2018    23:59:43                    88   28/02/2018   \n",
       "17104572   27/02/2018    23:59:55                   172   28/02/2018   \n",
       "\n",
       "         Hora_Arribo Unnamed: 9  \n",
       "17104568     0:18:29        NaN  \n",
       "17104569     0:23:59        NaN  \n",
       "17104570     0:09:06        NaN  \n",
       "17104571     0:16:39        NaN  \n",
       "17104572     0:25:03        NaN  "
      ]
     },
     "execution_count": 14,
     "metadata": {},
     "output_type": "execute_result"
    }
   ],
   "source": [
    "df_viajes.tail()"
   ]
  },
  {
   "cell_type": "code",
   "execution_count": 15,
   "id": "e9af27a9-8efa-4f77-ba8b-d748f4ba3291",
   "metadata": {},
   "outputs": [
    {
     "data": {
      "text/plain": [
       "(17104573, 10)"
      ]
     },
     "execution_count": 15,
     "metadata": {},
     "output_type": "execute_result"
    }
   ],
   "source": [
    "df_viajes.shape"
   ]
  },
  {
   "cell_type": "code",
   "execution_count": 16,
   "id": "8ccc242f-b92a-4001-b576-a0b96337eb76",
   "metadata": {},
   "outputs": [
    {
     "data": {
      "text/plain": [
       "(24, 24)"
      ]
     },
     "execution_count": 16,
     "metadata": {},
     "output_type": "execute_result"
    }
   ],
   "source": [
    "len(lst_df) , len(lst_f)"
   ]
  },
  {
   "cell_type": "code",
   "execution_count": 17,
   "id": "2d55838b-6403-413f-b92b-3da1a9fa54b6",
   "metadata": {},
   "outputs": [
    {
     "data": {
      "text/plain": [
       "0"
      ]
     },
     "execution_count": 17,
     "metadata": {},
     "output_type": "execute_result"
    }
   ],
   "source": [
    "# Eliminar y liberar memoria de cada DataFrame en la lista\n",
    "for df in lst_df:\n",
    "    del df\n",
    "\n",
    "gc.collect()  # llamada para recolección de basura, para liberar memoria"
   ]
  },
  {
   "cell_type": "markdown",
   "id": "b09a3e58-e5ea-42e9-8346-3c76019d336c",
   "metadata": {},
   "source": [
    "# Inspección / Exploración "
   ]
  },
  {
   "cell_type": "code",
   "execution_count": 18,
   "id": "f0a6a567-1fa4-4fb5-a23b-005ec8a700b1",
   "metadata": {},
   "outputs": [
    {
     "data": {
      "text/plain": [
       "Genero_Usuario           object\n",
       "Edad_Usuario              int64\n",
       "Bici                     object\n",
       "Ciclo_Estacion_Retiro     int64\n",
       "Fecha_Retiro             object\n",
       "Hora_Retiro              object\n",
       "Ciclo_Estacion_Arribo    object\n",
       "Fecha_Arribo             object\n",
       "Hora_Arribo              object\n",
       "Unnamed: 9               object\n",
       "dtype: object"
      ]
     },
     "execution_count": 18,
     "metadata": {},
     "output_type": "execute_result"
    }
   ],
   "source": [
    "df_viajes.dtypes"
   ]
  },
  {
   "cell_type": "code",
   "execution_count": 19,
   "id": "42dc804b-5cb7-405f-a21e-69ad5a537c1a",
   "metadata": {},
   "outputs": [
    {
     "name": "stdout",
     "output_type": "stream",
     "text": [
      "<class 'pandas.core.frame.DataFrame'>\n",
      "RangeIndex: 17104573 entries, 0 to 17104572\n",
      "Data columns (total 10 columns):\n",
      " #   Column                 Dtype \n",
      "---  ------                 ----- \n",
      " 0   Genero_Usuario         object\n",
      " 1   Edad_Usuario           int64 \n",
      " 2   Bici                   object\n",
      " 3   Ciclo_Estacion_Retiro  int64 \n",
      " 4   Fecha_Retiro           object\n",
      " 5   Hora_Retiro            object\n",
      " 6   Ciclo_Estacion_Arribo  object\n",
      " 7   Fecha_Arribo           object\n",
      " 8   Hora_Arribo            object\n",
      " 9   Unnamed: 9             object\n",
      "dtypes: int64(2), object(8)\n",
      "memory usage: 1.3+ GB\n"
     ]
    }
   ],
   "source": [
    "df_viajes.info()"
   ]
  },
  {
   "cell_type": "code",
   "execution_count": 20,
   "id": "058460b8-9c61-45e3-a77b-10166add1598",
   "metadata": {},
   "outputs": [
    {
     "name": "stdout",
     "output_type": "stream",
     "text": [
      "Genero_Usuario [<class 'str'>]\n",
      "Edad_Usuario [<class 'int'>]\n",
      "Bici [<class 'str'>, <class 'int'>]\n",
      "Ciclo_Estacion_Retiro [<class 'int'>]\n",
      "Fecha_Retiro [<class 'str'>]\n",
      "Hora_Retiro [<class 'str'>]\n",
      "Ciclo_Estacion_Arribo [<class 'int'>, <class 'str'>]\n",
      "Fecha_Arribo [<class 'str'>]\n",
      "Hora_Arribo [<class 'str'>]\n",
      "Unnamed: 9 [<class 'float'>, <class 'str'>]\n"
     ]
    }
   ],
   "source": [
    "for c in df_viajes.columns:\n",
    "    print(c,df_viajes[c].map(type).unique().tolist() )"
   ]
  },
  {
   "cell_type": "code",
   "execution_count": 21,
   "id": "e5c9f2b4-daae-4356-bea1-4ff132130e53",
   "metadata": {},
   "outputs": [
    {
     "data": {
      "text/plain": [
       "Bici\n",
       "9438     2915\n",
       "10501    2901\n",
       "9892     2851\n",
       "10199    2847\n",
       "10606    2838\n",
       "         ... \n",
       "14101       1\n",
       "14074       1\n",
       "1049        1\n",
       "3568        1\n",
       "10317       1\n",
       "Name: count, Length: 16767, dtype: int64"
      ]
     },
     "execution_count": 21,
     "metadata": {},
     "output_type": "execute_result"
    }
   ],
   "source": [
    "df_viajes['Bici'].value_counts()"
   ]
  },
  {
   "cell_type": "code",
   "execution_count": 22,
   "id": "539c8dd5-16d0-4d92-aebb-5eb44f21cb55",
   "metadata": {},
   "outputs": [
    {
     "data": {
      "text/plain": [
       "(Bici\n",
       " <class 'int'>    13098199\n",
       " <class 'str'>     4006374\n",
       " Name: count, dtype: int64,\n",
       " Bici\n",
       " <class 'int'>   0.766\n",
       " <class 'str'>   0.234\n",
       " Name: proportion, dtype: float64)"
      ]
     },
     "execution_count": 22,
     "metadata": {},
     "output_type": "execute_result"
    }
   ],
   "source": [
    "df_viajes['Bici'].map(type).value_counts(), df_viajes['Bici'].map(type).value_counts(True)"
   ]
  },
  {
   "cell_type": "code",
   "execution_count": 23,
   "id": "a4f53aea-f44c-4f9b-8713-804c9c147d58",
   "metadata": {},
   "outputs": [
    {
     "data": {
      "text/plain": [
       "Unnamed: 9\n",
       "08:41:11    1\n",
       "Name: count, dtype: int64"
      ]
     },
     "execution_count": 23,
     "metadata": {},
     "output_type": "execute_result"
    }
   ],
   "source": [
    "df_viajes['Unnamed: 9'].value_counts()"
   ]
  },
  {
   "cell_type": "code",
   "execution_count": 24,
   "id": "e40f6b77-291b-4721-88f7-95d1bffd28b7",
   "metadata": {},
   "outputs": [
    {
     "data": {
      "text/html": [
       "<div>\n",
       "<style scoped>\n",
       "    .dataframe tbody tr th:only-of-type {\n",
       "        vertical-align: middle;\n",
       "    }\n",
       "\n",
       "    .dataframe tbody tr th {\n",
       "        vertical-align: top;\n",
       "    }\n",
       "\n",
       "    .dataframe thead th {\n",
       "        text-align: right;\n",
       "    }\n",
       "</style>\n",
       "<table border=\"1\" class=\"dataframe\">\n",
       "  <thead>\n",
       "    <tr style=\"text-align: right;\">\n",
       "      <th></th>\n",
       "      <th>Genero_Usuario</th>\n",
       "      <th>Edad_Usuario</th>\n",
       "      <th>Bici</th>\n",
       "      <th>Ciclo_Estacion_Retiro</th>\n",
       "      <th>Fecha_Retiro</th>\n",
       "      <th>Hora_Retiro</th>\n",
       "      <th>Ciclo_Estacion_Arribo</th>\n",
       "      <th>Fecha_Arribo</th>\n",
       "      <th>Hora_Arribo</th>\n",
       "      <th>Unnamed: 9</th>\n",
       "    </tr>\n",
       "  </thead>\n",
       "  <tbody>\n",
       "    <tr>\n",
       "      <th>2347258</th>\n",
       "      <td>M</td>\n",
       "      <td>44</td>\n",
       "      <td>9944</td>\n",
       "      <td>267</td>\n",
       "      <td>06/03/2019</td>\n",
       "      <td>08:06:23</td>\n",
       "      <td>32:11.8</td>\n",
       "      <td>10</td>\n",
       "      <td>00:00:00</td>\n",
       "      <td>08:41:11</td>\n",
       "    </tr>\n",
       "  </tbody>\n",
       "</table>\n",
       "</div>"
      ],
      "text/plain": [
       "        Genero_Usuario  Edad_Usuario  Bici  Ciclo_Estacion_Retiro  \\\n",
       "2347258              M            44  9944                    267   \n",
       "\n",
       "        Fecha_Retiro Hora_Retiro Ciclo_Estacion_Arribo Fecha_Arribo  \\\n",
       "2347258   06/03/2019    08:06:23               32:11.8           10   \n",
       "\n",
       "        Hora_Arribo Unnamed: 9  \n",
       "2347258    00:00:00   08:41:11  "
      ]
     },
     "execution_count": 24,
     "metadata": {},
     "output_type": "execute_result"
    }
   ],
   "source": [
    "# Imprimir el viaje \"extraño\"\n",
    "df_viajes.loc[ df_viajes['Unnamed: 9'] == '08:41:11' ]"
   ]
  },
  {
   "cell_type": "code",
   "execution_count": 26,
   "id": "ad65c123-7889-434a-ba78-775a262b905e",
   "metadata": {},
   "outputs": [],
   "source": [
    "# Optimizar el uso de memoria ajustando los tipos de datos # Usar int de 32 bits en lugar de 64\n",
    "df_viajes['Edad_Usuario'] = df_viajes['Edad_Usuario'].astype('int32')\n",
    "df_viajes['Ciclo_Estacion_Retiro '] = df_viajes['Ciclo_Estacion_Retiro'].astype('int32')"
   ]
  },
  {
   "cell_type": "code",
   "execution_count": 27,
   "id": "22ea8760-9519-4e84-90bb-7dd96b9ff796",
   "metadata": {},
   "outputs": [],
   "source": [
    "df_viajes = df_viajes.loc[ df_viajes['Unnamed: 9'] != '08:41:11' ].reset_index(drop=True)"
   ]
  },
  {
   "cell_type": "code",
   "execution_count": 28,
   "id": "84007ea7-a720-4570-9aac-46b5e1228185",
   "metadata": {},
   "outputs": [
    {
     "data": {
      "text/plain": [
       "(17104572, 11)"
      ]
     },
     "execution_count": 28,
     "metadata": {},
     "output_type": "execute_result"
    }
   ],
   "source": [
    "df_viajes.shape"
   ]
  },
  {
   "cell_type": "code",
   "execution_count": 29,
   "id": "0e7d33a2-c3f9-4f17-92d3-055758d227c8",
   "metadata": {},
   "outputs": [
    {
     "data": {
      "text/plain": [
       "Series([], Name: count, dtype: int64)"
      ]
     },
     "execution_count": 29,
     "metadata": {},
     "output_type": "execute_result"
    }
   ],
   "source": [
    "df_viajes['Unnamed: 9'].value_counts()"
   ]
  },
  {
   "cell_type": "code",
   "execution_count": 30,
   "id": "2a9c4d70-9eea-471c-81e9-42b505303a8a",
   "metadata": {},
   "outputs": [],
   "source": [
    "df_viajes.drop(columns={'Unnamed: 9'},inplace=True)"
   ]
  },
  {
   "cell_type": "code",
   "execution_count": 31,
   "id": "a0c53628-9cb9-4041-837e-7f12bc0c3a07",
   "metadata": {},
   "outputs": [
    {
     "data": {
      "text/html": [
       "<div>\n",
       "<style scoped>\n",
       "    .dataframe tbody tr th:only-of-type {\n",
       "        vertical-align: middle;\n",
       "    }\n",
       "\n",
       "    .dataframe tbody tr th {\n",
       "        vertical-align: top;\n",
       "    }\n",
       "\n",
       "    .dataframe thead th {\n",
       "        text-align: right;\n",
       "    }\n",
       "</style>\n",
       "<table border=\"1\" class=\"dataframe\">\n",
       "  <thead>\n",
       "    <tr style=\"text-align: right;\">\n",
       "      <th></th>\n",
       "      <th>Genero_Usuario</th>\n",
       "      <th>Edad_Usuario</th>\n",
       "      <th>Bici</th>\n",
       "      <th>Ciclo_Estacion_Retiro</th>\n",
       "      <th>Fecha_Retiro</th>\n",
       "      <th>Hora_Retiro</th>\n",
       "      <th>Ciclo_Estacion_Arribo</th>\n",
       "      <th>Fecha_Arribo</th>\n",
       "      <th>Hora_Arribo</th>\n",
       "      <th>Ciclo_Estacion_Retiro</th>\n",
       "    </tr>\n",
       "  </thead>\n",
       "  <tbody>\n",
       "    <tr>\n",
       "      <th>0</th>\n",
       "      <td>M</td>\n",
       "      <td>44</td>\n",
       "      <td>10225</td>\n",
       "      <td>169</td>\n",
       "      <td>01/11/2017</td>\n",
       "      <td>0:00:09</td>\n",
       "      <td>447</td>\n",
       "      <td>01/11/2017</td>\n",
       "      <td>0:11:47</td>\n",
       "      <td>169</td>\n",
       "    </tr>\n",
       "    <tr>\n",
       "      <th>1</th>\n",
       "      <td>M</td>\n",
       "      <td>35</td>\n",
       "      <td>8106</td>\n",
       "      <td>359</td>\n",
       "      <td>01/11/2017</td>\n",
       "      <td>0:02:16</td>\n",
       "      <td>338</td>\n",
       "      <td>01/11/2017</td>\n",
       "      <td>0:05:54</td>\n",
       "      <td>359</td>\n",
       "    </tr>\n",
       "    <tr>\n",
       "      <th>2</th>\n",
       "      <td>M</td>\n",
       "      <td>27</td>\n",
       "      <td>10899</td>\n",
       "      <td>84</td>\n",
       "      <td>01/11/2017</td>\n",
       "      <td>0:02:54</td>\n",
       "      <td>150</td>\n",
       "      <td>01/11/2017</td>\n",
       "      <td>0:06:30</td>\n",
       "      <td>84</td>\n",
       "    </tr>\n",
       "    <tr>\n",
       "      <th>3</th>\n",
       "      <td>M</td>\n",
       "      <td>27</td>\n",
       "      <td>9931</td>\n",
       "      <td>137</td>\n",
       "      <td>01/11/2017</td>\n",
       "      <td>0:03:12</td>\n",
       "      <td>182</td>\n",
       "      <td>01/11/2017</td>\n",
       "      <td>0:19:02</td>\n",
       "      <td>137</td>\n",
       "    </tr>\n",
       "    <tr>\n",
       "      <th>4</th>\n",
       "      <td>M</td>\n",
       "      <td>23</td>\n",
       "      <td>8934</td>\n",
       "      <td>134</td>\n",
       "      <td>01/11/2017</td>\n",
       "      <td>0:03:54</td>\n",
       "      <td>116</td>\n",
       "      <td>01/11/2017</td>\n",
       "      <td>0:10:24</td>\n",
       "      <td>134</td>\n",
       "    </tr>\n",
       "  </tbody>\n",
       "</table>\n",
       "</div>"
      ],
      "text/plain": [
       "  Genero_Usuario  Edad_Usuario   Bici  Ciclo_Estacion_Retiro Fecha_Retiro  \\\n",
       "0              M            44  10225                    169   01/11/2017   \n",
       "1              M            35   8106                    359   01/11/2017   \n",
       "2              M            27  10899                     84   01/11/2017   \n",
       "3              M            27   9931                    137   01/11/2017   \n",
       "4              M            23   8934                    134   01/11/2017   \n",
       "\n",
       "  Hora_Retiro Ciclo_Estacion_Arribo Fecha_Arribo Hora_Arribo  \\\n",
       "0     0:00:09                   447   01/11/2017     0:11:47   \n",
       "1     0:02:16                   338   01/11/2017     0:05:54   \n",
       "2     0:02:54                   150   01/11/2017     0:06:30   \n",
       "3     0:03:12                   182   01/11/2017     0:19:02   \n",
       "4     0:03:54                   116   01/11/2017     0:10:24   \n",
       "\n",
       "   Ciclo_Estacion_Retiro   \n",
       "0                     169  \n",
       "1                     359  \n",
       "2                      84  \n",
       "3                     137  \n",
       "4                     134  "
      ]
     },
     "execution_count": 31,
     "metadata": {},
     "output_type": "execute_result"
    }
   ],
   "source": [
    "df_viajes.head()"
   ]
  },
  {
   "cell_type": "code",
   "execution_count": 32,
   "id": "036c526d-6f8f-4618-a33a-c5dd6b468e8f",
   "metadata": {},
   "outputs": [
    {
     "data": {
      "text/plain": [
       "Genero_Usuario            object\n",
       "Edad_Usuario               int32\n",
       "Bici                      object\n",
       "Ciclo_Estacion_Retiro      int64\n",
       "Fecha_Retiro              object\n",
       "Hora_Retiro               object\n",
       "Ciclo_Estacion_Arribo     object\n",
       "Fecha_Arribo              object\n",
       "Hora_Arribo               object\n",
       "Ciclo_Estacion_Retiro      int32\n",
       "dtype: object"
      ]
     },
     "execution_count": 32,
     "metadata": {},
     "output_type": "execute_result"
    }
   ],
   "source": [
    "df_viajes.dtypes"
   ]
  },
  {
   "cell_type": "code",
   "execution_count": 33,
   "id": "dc8d85e4-2d72-44f7-a6bb-1a4b9cde1869",
   "metadata": {},
   "outputs": [],
   "source": [
    "# Eliminación de viajes con fechas vacías\n",
    "df_viajes = df_viajes[ (~df_viajes['Fecha_Retiro'].isna()) | (~df_viajes['Fecha_Arribo'].isna()) ].reset_index(drop=True)"
   ]
  },
  {
   "cell_type": "code",
   "execution_count": 34,
   "id": "32bfa6b9-bf62-4a20-b144-208a54119125",
   "metadata": {},
   "outputs": [
    {
     "data": {
      "text/plain": [
       "(17104572, 10)"
      ]
     },
     "execution_count": 34,
     "metadata": {},
     "output_type": "execute_result"
    }
   ],
   "source": [
    "df_viajes.shape"
   ]
  },
  {
   "cell_type": "code",
   "execution_count": 35,
   "id": "89f61aa4-4b4b-4b46-b83d-959007205d89",
   "metadata": {},
   "outputs": [],
   "source": [
    "df_viajes['fh_retiro'] = pd.to_datetime(df_viajes['Fecha_Retiro'].map( lambda x: x[-4:]+'-'+x[3:5]+'-'+x[:2] ) +' ' + df_viajes['Hora_Retiro'].map( lambda x: x ) , errors='coerce')"
   ]
  },
  {
   "cell_type": "code",
   "execution_count": 36,
   "id": "1c72ae11-4fb8-4b3c-bc17-d65571312151",
   "metadata": {},
   "outputs": [],
   "source": [
    "df_viajes['fh_arribo'] = pd.to_datetime(df_viajes['Fecha_Arribo'].map( lambda x: x[-4:]+'-'+x[3:5]+'-'+x[:2] ) +' ' + df_viajes['Hora_Arribo'].map( lambda x: x ) , errors='coerce')"
   ]
  },
  {
   "cell_type": "code",
   "execution_count": 37,
   "id": "af853cfc-f79c-4550-885e-d4568d33d080",
   "metadata": {},
   "outputs": [],
   "source": [
    "df_viajes.drop(columns={'Fecha_Retiro','Hora_Retiro'},inplace=True)"
   ]
  },
  {
   "cell_type": "code",
   "execution_count": 38,
   "id": "258617a8-3750-4062-b02a-67572985a73d",
   "metadata": {},
   "outputs": [],
   "source": [
    "df_viajes.drop(columns={'Fecha_Arribo','Hora_Arribo'},inplace=True)"
   ]
  },
  {
   "cell_type": "code",
   "execution_count": 39,
   "id": "d4a8500b-39af-40d0-967b-3241bc14fea3",
   "metadata": {},
   "outputs": [
    {
     "data": {
      "text/html": [
       "<div>\n",
       "<style scoped>\n",
       "    .dataframe tbody tr th:only-of-type {\n",
       "        vertical-align: middle;\n",
       "    }\n",
       "\n",
       "    .dataframe tbody tr th {\n",
       "        vertical-align: top;\n",
       "    }\n",
       "\n",
       "    .dataframe thead th {\n",
       "        text-align: right;\n",
       "    }\n",
       "</style>\n",
       "<table border=\"1\" class=\"dataframe\">\n",
       "  <thead>\n",
       "    <tr style=\"text-align: right;\">\n",
       "      <th></th>\n",
       "      <th>Genero_Usuario</th>\n",
       "      <th>Edad_Usuario</th>\n",
       "      <th>Bici</th>\n",
       "      <th>Ciclo_Estacion_Retiro</th>\n",
       "      <th>Ciclo_Estacion_Arribo</th>\n",
       "      <th>Ciclo_Estacion_Retiro</th>\n",
       "      <th>fh_retiro</th>\n",
       "      <th>fh_arribo</th>\n",
       "    </tr>\n",
       "  </thead>\n",
       "  <tbody>\n",
       "    <tr>\n",
       "      <th>0</th>\n",
       "      <td>M</td>\n",
       "      <td>44</td>\n",
       "      <td>10225</td>\n",
       "      <td>169</td>\n",
       "      <td>447</td>\n",
       "      <td>169</td>\n",
       "      <td>2017-11-01 00:00:09</td>\n",
       "      <td>2017-11-01 00:11:47</td>\n",
       "    </tr>\n",
       "    <tr>\n",
       "      <th>1</th>\n",
       "      <td>M</td>\n",
       "      <td>35</td>\n",
       "      <td>8106</td>\n",
       "      <td>359</td>\n",
       "      <td>338</td>\n",
       "      <td>359</td>\n",
       "      <td>2017-11-01 00:02:16</td>\n",
       "      <td>2017-11-01 00:05:54</td>\n",
       "    </tr>\n",
       "    <tr>\n",
       "      <th>2</th>\n",
       "      <td>M</td>\n",
       "      <td>27</td>\n",
       "      <td>10899</td>\n",
       "      <td>84</td>\n",
       "      <td>150</td>\n",
       "      <td>84</td>\n",
       "      <td>2017-11-01 00:02:54</td>\n",
       "      <td>2017-11-01 00:06:30</td>\n",
       "    </tr>\n",
       "    <tr>\n",
       "      <th>3</th>\n",
       "      <td>M</td>\n",
       "      <td>27</td>\n",
       "      <td>9931</td>\n",
       "      <td>137</td>\n",
       "      <td>182</td>\n",
       "      <td>137</td>\n",
       "      <td>2017-11-01 00:03:12</td>\n",
       "      <td>2017-11-01 00:19:02</td>\n",
       "    </tr>\n",
       "    <tr>\n",
       "      <th>4</th>\n",
       "      <td>M</td>\n",
       "      <td>23</td>\n",
       "      <td>8934</td>\n",
       "      <td>134</td>\n",
       "      <td>116</td>\n",
       "      <td>134</td>\n",
       "      <td>2017-11-01 00:03:54</td>\n",
       "      <td>2017-11-01 00:10:24</td>\n",
       "    </tr>\n",
       "  </tbody>\n",
       "</table>\n",
       "</div>"
      ],
      "text/plain": [
       "  Genero_Usuario  Edad_Usuario   Bici  Ciclo_Estacion_Retiro  \\\n",
       "0              M            44  10225                    169   \n",
       "1              M            35   8106                    359   \n",
       "2              M            27  10899                     84   \n",
       "3              M            27   9931                    137   \n",
       "4              M            23   8934                    134   \n",
       "\n",
       "  Ciclo_Estacion_Arribo  Ciclo_Estacion_Retiro            fh_retiro  \\\n",
       "0                   447                     169 2017-11-01 00:00:09   \n",
       "1                   338                     359 2017-11-01 00:02:16   \n",
       "2                   150                      84 2017-11-01 00:02:54   \n",
       "3                   182                     137 2017-11-01 00:03:12   \n",
       "4                   116                     134 2017-11-01 00:03:54   \n",
       "\n",
       "            fh_arribo  \n",
       "0 2017-11-01 00:11:47  \n",
       "1 2017-11-01 00:05:54  \n",
       "2 2017-11-01 00:06:30  \n",
       "3 2017-11-01 00:19:02  \n",
       "4 2017-11-01 00:10:24  "
      ]
     },
     "execution_count": 39,
     "metadata": {},
     "output_type": "execute_result"
    }
   ],
   "source": [
    "df_viajes.head()"
   ]
  },
  {
   "cell_type": "code",
   "execution_count": 40,
   "id": "f52532e7-d9eb-470f-a9fd-cd351154fb16",
   "metadata": {},
   "outputs": [
    {
     "data": {
      "text/plain": [
       "Genero_Usuario                    object\n",
       "Edad_Usuario                       int32\n",
       "Bici                              object\n",
       "Ciclo_Estacion_Retiro              int64\n",
       "Ciclo_Estacion_Arribo             object\n",
       "Ciclo_Estacion_Retiro              int32\n",
       "fh_retiro                 datetime64[ns]\n",
       "fh_arribo                 datetime64[ns]\n",
       "dtype: object"
      ]
     },
     "execution_count": 40,
     "metadata": {},
     "output_type": "execute_result"
    }
   ],
   "source": [
    "df_viajes.dtypes"
   ]
  },
  {
   "cell_type": "code",
   "execution_count": 41,
   "id": "19d2be69-ceba-4611-a523-bc92000a8fa4",
   "metadata": {},
   "outputs": [
    {
     "data": {
      "text/html": [
       "<div>\n",
       "<style scoped>\n",
       "    .dataframe tbody tr th:only-of-type {\n",
       "        vertical-align: middle;\n",
       "    }\n",
       "\n",
       "    .dataframe tbody tr th {\n",
       "        vertical-align: top;\n",
       "    }\n",
       "\n",
       "    .dataframe thead th {\n",
       "        text-align: right;\n",
       "    }\n",
       "</style>\n",
       "<table border=\"1\" class=\"dataframe\">\n",
       "  <thead>\n",
       "    <tr style=\"text-align: right;\">\n",
       "      <th></th>\n",
       "      <th>Genero_Usuario</th>\n",
       "      <th>Edad_Usuario</th>\n",
       "      <th>Bici</th>\n",
       "      <th>Ciclo_Estacion_Retiro</th>\n",
       "      <th>Ciclo_Estacion_Arribo</th>\n",
       "      <th>Ciclo_Estacion_Retiro</th>\n",
       "      <th>fh_retiro</th>\n",
       "      <th>fh_arribo</th>\n",
       "    </tr>\n",
       "  </thead>\n",
       "  <tbody>\n",
       "    <tr>\n",
       "      <th>5730874</th>\n",
       "      <td>M</td>\n",
       "      <td>19</td>\n",
       "      <td>8026</td>\n",
       "      <td>18</td>\n",
       "      <td>400</td>\n",
       "      <td>18</td>\n",
       "      <td>NaT</td>\n",
       "      <td>2019-04-28 01:15:10</td>\n",
       "    </tr>\n",
       "  </tbody>\n",
       "</table>\n",
       "</div>"
      ],
      "text/plain": [
       "        Genero_Usuario  Edad_Usuario  Bici  Ciclo_Estacion_Retiro  \\\n",
       "5730874              M            19  8026                     18   \n",
       "\n",
       "        Ciclo_Estacion_Arribo  Ciclo_Estacion_Retiro  fh_retiro  \\\n",
       "5730874                   400                      18       NaT   \n",
       "\n",
       "                  fh_arribo  \n",
       "5730874 2019-04-28 01:15:10  "
      ]
     },
     "execution_count": 41,
     "metadata": {},
     "output_type": "execute_result"
    }
   ],
   "source": [
    "df_viajes.loc[ df_viajes['fh_retiro'].isna()]"
   ]
  },
  {
   "cell_type": "code",
   "execution_count": 42,
   "id": "5c4430e9-1d14-4745-b721-b585353ade55",
   "metadata": {},
   "outputs": [
    {
     "data": {
      "text/html": [
       "<div>\n",
       "<style scoped>\n",
       "    .dataframe tbody tr th:only-of-type {\n",
       "        vertical-align: middle;\n",
       "    }\n",
       "\n",
       "    .dataframe tbody tr th {\n",
       "        vertical-align: top;\n",
       "    }\n",
       "\n",
       "    .dataframe thead th {\n",
       "        text-align: right;\n",
       "    }\n",
       "</style>\n",
       "<table border=\"1\" class=\"dataframe\">\n",
       "  <thead>\n",
       "    <tr style=\"text-align: right;\">\n",
       "      <th></th>\n",
       "      <th>Genero_Usuario</th>\n",
       "      <th>Edad_Usuario</th>\n",
       "      <th>Bici</th>\n",
       "      <th>Ciclo_Estacion_Retiro</th>\n",
       "      <th>Ciclo_Estacion_Arribo</th>\n",
       "      <th>Ciclo_Estacion_Retiro</th>\n",
       "      <th>fh_retiro</th>\n",
       "      <th>fh_arribo</th>\n",
       "    </tr>\n",
       "  </thead>\n",
       "  <tbody>\n",
       "  </tbody>\n",
       "</table>\n",
       "</div>"
      ],
      "text/plain": [
       "Empty DataFrame\n",
       "Columns: [Genero_Usuario, Edad_Usuario, Bici, Ciclo_Estacion_Retiro, Ciclo_Estacion_Arribo, Ciclo_Estacion_Retiro , fh_retiro, fh_arribo]\n",
       "Index: []"
      ]
     },
     "execution_count": 42,
     "metadata": {},
     "output_type": "execute_result"
    }
   ],
   "source": [
    "df_viajes.loc[ df_viajes['fh_arribo'].isna()]"
   ]
  },
  {
   "cell_type": "code",
   "execution_count": 43,
   "id": "73d49530-98ed-460a-8233-c5ca592b6a19",
   "metadata": {},
   "outputs": [],
   "source": [
    "df_viajes = df_viajes.loc[ ~df_viajes['fh_retiro'].isna()].reset_index(drop=True)"
   ]
  },
  {
   "cell_type": "code",
   "execution_count": 44,
   "id": "66be3786-b8b0-4400-b820-59e06df89b68",
   "metadata": {},
   "outputs": [
    {
     "data": {
      "text/plain": [
       "(Genero_Usuario\n",
       " M    12818962\n",
       " F     4285609\n",
       " Name: count, dtype: int64,\n",
       " Genero_Usuario\n",
       " M   74.945\n",
       " F   25.055\n",
       " Name: proportion, dtype: float64)"
      ]
     },
     "execution_count": 44,
     "metadata": {},
     "output_type": "execute_result"
    }
   ],
   "source": [
    "df_viajes['Genero_Usuario'].value_counts() , df_viajes['Genero_Usuario'].value_counts(True)*100"
   ]
  },
  {
   "cell_type": "code",
   "execution_count": 45,
   "id": "78861c65-e960-4bd2-9f11-35296cda6ed2",
   "metadata": {},
   "outputs": [
    {
     "data": {
      "text/plain": [
       "np.int64(0)"
      ]
     },
     "execution_count": 45,
     "metadata": {},
     "output_type": "execute_result"
    }
   ],
   "source": [
    "df_viajes['Genero_Usuario'].isna().sum()"
   ]
  },
  {
   "cell_type": "code",
   "execution_count": 46,
   "id": "74b3657b-f617-43f5-9a6a-83e7e253e01b",
   "metadata": {},
   "outputs": [
    {
     "data": {
      "text/plain": [
       "(Edad_Usuario\n",
       " 28     979322\n",
       " 29     944615\n",
       " 27     927441\n",
       " 30     895171\n",
       " 26     855790\n",
       "         ...  \n",
       " 108         1\n",
       " 99          1\n",
       " 100         1\n",
       " 85          1\n",
       " 101         1\n",
       " Name: count, Length: 86, dtype: int64,\n",
       " Edad_Usuario\n",
       " 28    5.725\n",
       " 29    5.523\n",
       " 27    5.422\n",
       " 30    5.234\n",
       " 26    5.003\n",
       "        ... \n",
       " 108   0.000\n",
       " 99    0.000\n",
       " 100   0.000\n",
       " 85    0.000\n",
       " 101   0.000\n",
       " Name: proportion, Length: 86, dtype: float64)"
      ]
     },
     "execution_count": 46,
     "metadata": {},
     "output_type": "execute_result"
    }
   ],
   "source": [
    "df_viajes['Edad_Usuario'].value_counts() , df_viajes['Edad_Usuario'].value_counts(True)*100"
   ]
  },
  {
   "cell_type": "code",
   "execution_count": 47,
   "id": "b4fd48ea-894f-4baa-a2ac-09919ab3aee7",
   "metadata": {},
   "outputs": [
    {
     "data": {
      "text/plain": [
       "<Axes: >"
      ]
     },
     "execution_count": 47,
     "metadata": {},
     "output_type": "execute_result"
    },
    {
     "data": {
      "image/png": "[encoded data removed]",
      "text/plain": [
       "<Figure size 640x480 with 1 Axes>"
      ]
     },
     "metadata": {},
     "output_type": "display_data"
    }
   ],
   "source": [
    "df_viajes['Edad_Usuario'].hist()"
   ]
  },
  {
   "cell_type": "code",
   "execution_count": 48,
   "id": "e5d19467-6b00-43cd-9382-a87d67e5b763",
   "metadata": {},
   "outputs": [
    {
     "data": {
      "text/plain": [
       "count   17,104,571.000\n",
       "mean            34.936\n",
       "std             10.307\n",
       "min             16.000\n",
       "0%              16.000\n",
       "10%             24.000\n",
       "20%             27.000\n",
       "30%             28.000\n",
       "40%             30.000\n",
       "50%             32.000\n",
       "60%             35.000\n",
       "70%             38.000\n",
       "80%             43.000\n",
       "90%             50.000\n",
       "100%           119.000\n",
       "max            119.000\n",
       "Name: Edad_Usuario, dtype: float64"
      ]
     },
     "execution_count": 48,
     "metadata": {},
     "output_type": "execute_result"
    }
   ],
   "source": [
    "df_viajes['Edad_Usuario'].describe(percentiles=np.arange(0,1.01,.1))"
   ]
  },
  {
   "cell_type": "code",
   "execution_count": 49,
   "id": "82bbaf4a-c235-4e7e-b9f9-6bb07a4bc97f",
   "metadata": {},
   "outputs": [],
   "source": [
    "df_horas = df_viajes['fh_retiro'].map( lambda fecha: fecha.hour ).value_counts(True).sort_index()"
   ]
  },
  {
   "cell_type": "code",
   "execution_count": 50,
   "id": "7452b6dd-ed24-478b-b3d0-303098e3ba52",
   "metadata": {},
   "outputs": [
    {
     "data": {
      "text/plain": [
       "<Axes: xlabel='fh_retiro'>"
      ]
     },
     "execution_count": 50,
     "metadata": {},
     "output_type": "execute_result"
    },
    {
     "data": {
      "image/png": "[encoded data removed]",
      "text/plain": [
       "<Figure size 640x480 with 1 Axes>"
      ]
     },
     "metadata": {},
     "output_type": "display_data"
    }
   ],
   "source": [
    "df_horas.plot(kind='bar')"
   ]
  },
  {
   "cell_type": "code",
   "execution_count": 51,
   "id": "39ac0882-5c08-43ed-b927-c772dc62a6e2",
   "metadata": {
    "scrolled": true
   },
   "outputs": [
    {
     "data": {
      "text/html": [
       "<div>\n",
       "<style scoped>\n",
       "    .dataframe tbody tr th:only-of-type {\n",
       "        vertical-align: middle;\n",
       "    }\n",
       "\n",
       "    .dataframe tbody tr th {\n",
       "        vertical-align: top;\n",
       "    }\n",
       "\n",
       "    .dataframe thead th {\n",
       "        text-align: right;\n",
       "    }\n",
       "</style>\n",
       "<table border=\"1\" class=\"dataframe\">\n",
       "  <thead>\n",
       "    <tr style=\"text-align: right;\">\n",
       "      <th></th>\n",
       "      <th>fh_retiro</th>\n",
       "      <th>proportion</th>\n",
       "    </tr>\n",
       "  </thead>\n",
       "  <tbody>\n",
       "    <tr>\n",
       "      <th>0</th>\n",
       "      <td>0</td>\n",
       "      <td>0.003</td>\n",
       "    </tr>\n",
       "    <tr>\n",
       "      <th>1</th>\n",
       "      <td>1</td>\n",
       "      <td>0.000</td>\n",
       "    </tr>\n",
       "    <tr>\n",
       "      <th>2</th>\n",
       "      <td>2</td>\n",
       "      <td>0.000</td>\n",
       "    </tr>\n",
       "    <tr>\n",
       "      <th>3</th>\n",
       "      <td>3</td>\n",
       "      <td>0.000</td>\n",
       "    </tr>\n",
       "    <tr>\n",
       "      <th>4</th>\n",
       "      <td>4</td>\n",
       "      <td>0.000</td>\n",
       "    </tr>\n",
       "    <tr>\n",
       "      <th>5</th>\n",
       "      <td>5</td>\n",
       "      <td>0.005</td>\n",
       "    </tr>\n",
       "    <tr>\n",
       "      <th>6</th>\n",
       "      <td>6</td>\n",
       "      <td>0.021</td>\n",
       "    </tr>\n",
       "    <tr>\n",
       "      <th>7</th>\n",
       "      <td>7</td>\n",
       "      <td>0.053</td>\n",
       "    </tr>\n",
       "    <tr>\n",
       "      <th>8</th>\n",
       "      <td>8</td>\n",
       "      <td>0.098</td>\n",
       "    </tr>\n",
       "    <tr>\n",
       "      <th>9</th>\n",
       "      <td>9</td>\n",
       "      <td>0.075</td>\n",
       "    </tr>\n",
       "    <tr>\n",
       "      <th>10</th>\n",
       "      <td>10</td>\n",
       "      <td>0.049</td>\n",
       "    </tr>\n",
       "    <tr>\n",
       "      <th>11</th>\n",
       "      <td>11</td>\n",
       "      <td>0.044</td>\n",
       "    </tr>\n",
       "    <tr>\n",
       "      <th>12</th>\n",
       "      <td>12</td>\n",
       "      <td>0.047</td>\n",
       "    </tr>\n",
       "    <tr>\n",
       "      <th>13</th>\n",
       "      <td>13</td>\n",
       "      <td>0.057</td>\n",
       "    </tr>\n",
       "    <tr>\n",
       "      <th>14</th>\n",
       "      <td>14</td>\n",
       "      <td>0.070</td>\n",
       "    </tr>\n",
       "    <tr>\n",
       "      <th>15</th>\n",
       "      <td>15</td>\n",
       "      <td>0.068</td>\n",
       "    </tr>\n",
       "    <tr>\n",
       "      <th>16</th>\n",
       "      <td>16</td>\n",
       "      <td>0.057</td>\n",
       "    </tr>\n",
       "    <tr>\n",
       "      <th>17</th>\n",
       "      <td>17</td>\n",
       "      <td>0.071</td>\n",
       "    </tr>\n",
       "    <tr>\n",
       "      <th>18</th>\n",
       "      <td>18</td>\n",
       "      <td>0.098</td>\n",
       "    </tr>\n",
       "    <tr>\n",
       "      <th>19</th>\n",
       "      <td>19</td>\n",
       "      <td>0.077</td>\n",
       "    </tr>\n",
       "    <tr>\n",
       "      <th>20</th>\n",
       "      <td>20</td>\n",
       "      <td>0.047</td>\n",
       "    </tr>\n",
       "    <tr>\n",
       "      <th>21</th>\n",
       "      <td>21</td>\n",
       "      <td>0.031</td>\n",
       "    </tr>\n",
       "    <tr>\n",
       "      <th>22</th>\n",
       "      <td>22</td>\n",
       "      <td>0.019</td>\n",
       "    </tr>\n",
       "    <tr>\n",
       "      <th>23</th>\n",
       "      <td>23</td>\n",
       "      <td>0.010</td>\n",
       "    </tr>\n",
       "  </tbody>\n",
       "</table>\n",
       "</div>"
      ],
      "text/plain": [
       "    fh_retiro  proportion\n",
       "0           0       0.003\n",
       "1           1       0.000\n",
       "2           2       0.000\n",
       "3           3       0.000\n",
       "4           4       0.000\n",
       "5           5       0.005\n",
       "6           6       0.021\n",
       "7           7       0.053\n",
       "8           8       0.098\n",
       "9           9       0.075\n",
       "10         10       0.049\n",
       "11         11       0.044\n",
       "12         12       0.047\n",
       "13         13       0.057\n",
       "14         14       0.070\n",
       "15         15       0.068\n",
       "16         16       0.057\n",
       "17         17       0.071\n",
       "18         18       0.098\n",
       "19         19       0.077\n",
       "20         20       0.047\n",
       "21         21       0.031\n",
       "22         22       0.019\n",
       "23         23       0.010"
      ]
     },
     "execution_count": 51,
     "metadata": {},
     "output_type": "execute_result"
    }
   ],
   "source": [
    "df_horas.reset_index()"
   ]
  },
  {
   "cell_type": "code",
   "execution_count": 52,
   "id": "6815f5af-51a0-442a-8f46-27e07945e1d6",
   "metadata": {
    "scrolled": true
   },
   "outputs": [
    {
     "data": {
      "text/html": [
       "<div>\n",
       "<style scoped>\n",
       "    .dataframe tbody tr th:only-of-type {\n",
       "        vertical-align: middle;\n",
       "    }\n",
       "\n",
       "    .dataframe tbody tr th {\n",
       "        vertical-align: top;\n",
       "    }\n",
       "\n",
       "    .dataframe thead th {\n",
       "        text-align: right;\n",
       "    }\n",
       "</style>\n",
       "<table border=\"1\" class=\"dataframe\">\n",
       "  <thead>\n",
       "    <tr style=\"text-align: right;\">\n",
       "      <th></th>\n",
       "      <th>fh_retiro</th>\n",
       "      <th>proportion</th>\n",
       "    </tr>\n",
       "  </thead>\n",
       "  <tbody>\n",
       "    <tr>\n",
       "      <th>0</th>\n",
       "      <td>0</td>\n",
       "      <td>0.003</td>\n",
       "    </tr>\n",
       "    <tr>\n",
       "      <th>1</th>\n",
       "      <td>1</td>\n",
       "      <td>0.000</td>\n",
       "    </tr>\n",
       "    <tr>\n",
       "      <th>2</th>\n",
       "      <td>2</td>\n",
       "      <td>0.000</td>\n",
       "    </tr>\n",
       "    <tr>\n",
       "      <th>3</th>\n",
       "      <td>3</td>\n",
       "      <td>0.000</td>\n",
       "    </tr>\n",
       "    <tr>\n",
       "      <th>4</th>\n",
       "      <td>4</td>\n",
       "      <td>0.000</td>\n",
       "    </tr>\n",
       "    <tr>\n",
       "      <th>5</th>\n",
       "      <td>5</td>\n",
       "      <td>0.005</td>\n",
       "    </tr>\n",
       "    <tr>\n",
       "      <th>6</th>\n",
       "      <td>6</td>\n",
       "      <td>0.021</td>\n",
       "    </tr>\n",
       "    <tr>\n",
       "      <th>7</th>\n",
       "      <td>7</td>\n",
       "      <td>0.053</td>\n",
       "    </tr>\n",
       "    <tr>\n",
       "      <th>8</th>\n",
       "      <td>8</td>\n",
       "      <td>0.098</td>\n",
       "    </tr>\n",
       "    <tr>\n",
       "      <th>9</th>\n",
       "      <td>9</td>\n",
       "      <td>0.075</td>\n",
       "    </tr>\n",
       "    <tr>\n",
       "      <th>10</th>\n",
       "      <td>10</td>\n",
       "      <td>0.049</td>\n",
       "    </tr>\n",
       "    <tr>\n",
       "      <th>11</th>\n",
       "      <td>11</td>\n",
       "      <td>0.044</td>\n",
       "    </tr>\n",
       "    <tr>\n",
       "      <th>12</th>\n",
       "      <td>12</td>\n",
       "      <td>0.047</td>\n",
       "    </tr>\n",
       "    <tr>\n",
       "      <th>13</th>\n",
       "      <td>13</td>\n",
       "      <td>0.057</td>\n",
       "    </tr>\n",
       "    <tr>\n",
       "      <th>14</th>\n",
       "      <td>14</td>\n",
       "      <td>0.070</td>\n",
       "    </tr>\n",
       "    <tr>\n",
       "      <th>15</th>\n",
       "      <td>15</td>\n",
       "      <td>0.068</td>\n",
       "    </tr>\n",
       "    <tr>\n",
       "      <th>16</th>\n",
       "      <td>16</td>\n",
       "      <td>0.057</td>\n",
       "    </tr>\n",
       "    <tr>\n",
       "      <th>17</th>\n",
       "      <td>17</td>\n",
       "      <td>0.071</td>\n",
       "    </tr>\n",
       "    <tr>\n",
       "      <th>18</th>\n",
       "      <td>18</td>\n",
       "      <td>0.098</td>\n",
       "    </tr>\n",
       "    <tr>\n",
       "      <th>19</th>\n",
       "      <td>19</td>\n",
       "      <td>0.077</td>\n",
       "    </tr>\n",
       "    <tr>\n",
       "      <th>20</th>\n",
       "      <td>20</td>\n",
       "      <td>0.047</td>\n",
       "    </tr>\n",
       "    <tr>\n",
       "      <th>21</th>\n",
       "      <td>21</td>\n",
       "      <td>0.031</td>\n",
       "    </tr>\n",
       "    <tr>\n",
       "      <th>22</th>\n",
       "      <td>22</td>\n",
       "      <td>0.019</td>\n",
       "    </tr>\n",
       "    <tr>\n",
       "      <th>23</th>\n",
       "      <td>23</td>\n",
       "      <td>0.010</td>\n",
       "    </tr>\n",
       "  </tbody>\n",
       "</table>\n",
       "</div>"
      ],
      "text/plain": [
       "    fh_retiro  proportion\n",
       "0           0       0.003\n",
       "1           1       0.000\n",
       "2           2       0.000\n",
       "3           3       0.000\n",
       "4           4       0.000\n",
       "5           5       0.005\n",
       "6           6       0.021\n",
       "7           7       0.053\n",
       "8           8       0.098\n",
       "9           9       0.075\n",
       "10         10       0.049\n",
       "11         11       0.044\n",
       "12         12       0.047\n",
       "13         13       0.057\n",
       "14         14       0.070\n",
       "15         15       0.068\n",
       "16         16       0.057\n",
       "17         17       0.071\n",
       "18         18       0.098\n",
       "19         19       0.077\n",
       "20         20       0.047\n",
       "21         21       0.031\n",
       "22         22       0.019\n",
       "23         23       0.010"
      ]
     },
     "execution_count": 52,
     "metadata": {},
     "output_type": "execute_result"
    }
   ],
   "source": [
    "df_horas.reset_index()"
   ]
  },
  {
   "cell_type": "markdown",
   "id": "393d4f0a-d139-40c2-b199-db728e8c6706",
   "metadata": {},
   "source": [
    "# Gráficas"
   ]
  },
  {
   "cell_type": "code",
   "execution_count": 53,
   "id": "831bcf43-c7af-46ce-a899-a70382e06873",
   "metadata": {},
   "outputs": [],
   "source": [
    "# Tomo el 10% de los viajes y obtengo los viajes por hora\n",
    "df_horas_muestra = df_viajes['fh_retiro'].sample(frac=.1).map( lambda fecha: fecha.hour ).value_counts(True).sort_index()"
   ]
  },
  {
   "cell_type": "code",
   "execution_count": 54,
   "id": "2ca28515-ed25-418c-89a5-a5ee1a5a66f1",
   "metadata": {},
   "outputs": [
    {
     "data": {
      "text/plain": [
       "<Axes: xlabel='fh_retiro'>"
      ]
     },
     "execution_count": 54,
     "metadata": {},
     "output_type": "execute_result"
    },
    {
     "data": {
      "image/png": "[encoded data removed]",
      "text/plain": [
       "<Figure size 640x480 with 1 Axes>"
      ]
     },
     "metadata": {},
     "output_type": "display_data"
    }
   ],
   "source": [
    "df_horas_muestra.plot(kind='bar')"
   ]
  },
  {
   "cell_type": "code",
   "execution_count": 58,
   "id": "4a50ca11-85bf-420b-9188-35f845c2b882",
   "metadata": {},
   "outputs": [
    {
     "data": {
      "text/plain": [
       "<Axes: xlabel='fh_retiro'>"
      ]
     },
     "execution_count": 58,
     "metadata": {},
     "output_type": "execute_result"
    },
    {
     "data": {
      "image/png": "[encoded data removed]",
      "text/plain": [
       "<Figure size 640x480 with 1 Axes>"
      ]
     },
     "metadata": {},
     "output_type": "display_data"
    }
   ],
   "source": [
    "df_horas_muestra.plot(marker='o')"
   ]
  },
  {
   "cell_type": "code",
   "execution_count": 63,
   "id": "ce36fd4c-1c54-43b5-bf7e-e44856711ab6",
   "metadata": {},
   "outputs": [
    {
     "data": {
      "image/png": "[encoded data removed]",
      "text/plain": [
       "<Figure size 640x480 with 1 Axes>"
      ]
     },
     "metadata": {},
     "output_type": "display_data"
    }
   ],
   "source": [
    "import matplotlib.pyplot as plt\n",
    "\n",
    "plt.plot(df_horas_muestra, marker='o')\n",
    "\n",
    "# Títulos y etiquetas\n",
    "plt.title('Gráfica de df_horas_muestra')\n",
    "plt.xlabel('Eje X')\n",
    "plt.ylabel('Eje Y')\n",
    "\n",
    "# Mostrar la gráfica\n",
    "plt.show()\n"
   ]
  },
  {
   "cell_type": "code",
   "execution_count": 79,
   "id": "47b23add-5199-454f-8b3d-9028f8a35370",
   "metadata": {},
   "outputs": [
    {
     "data": {
      "application/vnd.plotly.v1+json": {
       "config": {
        "plotlyServerURL": "https://plot.ly"
       },
       "data": [
        {
         "hovertemplate": "fh_retiro=%{x}<br>proportion=%{y}<extra></extra>",
         "legendgroup": "",
         "marker": {
          "color": "#636efa",
          "pattern": {
           "shape": ""
          }
         },
         "name": "",
         "orientation": "v",
         "showlegend": false,
         "textposition": "auto",
         "type": "bar",
         "x": {
          "bdata": "AAECAwQFBgcICQoLDA0ODxAREhMUFRYX",
          "dtype": "i1"
         },
         "xaxis": "x",
         "y": {
          "bdata": "GOdYZzAwaj9MnUOsbu4xPzCqZoAsyCA/SdUrSsMR1j6XvZjsAp6jPimJjEYdTHQ/GAI8GU3klD8Ew2a4LzarP5SJK8LSB7k/fXAz3eQbsz/M3Kxgq+moPzaqfAdYk6Y/g3sD/KKwpz8WEcfdr0qtP7zTvhKJ3bE/qNO6uoJ/sT8jOT8oa0CtP+3HERWhPbI/61smYfAvuT9Zo+amuNWzPy3YOw+o06c/vse83nqfnz/p4ZajFrKTP8+V2Byy4YQ/",
          "dtype": "f8"
         },
         "yaxis": "y"
        }
       ],
       "layout": {
        "barmode": "relative",
        "legend": {
         "tracegroupgap": 0
        },
        "template": {
         "data": {
          "bar": [
           {
            "error_x": {
             "color": "#2a3f5f"
            },
            "error_y": {
             "color": "#2a3f5f"
            },
            "marker": {
             "line": {
              "color": "#E5ECF6",
              "width": 0.5
             },
             "pattern": {
              "fillmode": "overlay",
              "size": 10,
              "solidity": 0.2
             }
            },
            "type": "bar"
           }
          ],
          "barpolar": [
           {
            "marker": {
             "line": {
              "color": "#E5ECF6",
              "width": 0.5
             },
             "pattern": {
              "fillmode": "overlay",
              "size": 10,
              "solidity": 0.2
             }
            },
            "type": "barpolar"
           }
          ],
          "carpet": [
           {
            "aaxis": {
             "endlinecolor": "#2a3f5f",
             "gridcolor": "white",
             "linecolor": "white",
             "minorgridcolor": "white",
             "startlinecolor": "#2a3f5f"
            },
            "baxis": {
             "endlinecolor": "#2a3f5f",
             "gridcolor": "white",
             "linecolor": "white",
             "minorgridcolor": "white",
             "startlinecolor": "#2a3f5f"
            },
            "type": "carpet"
           }
          ],
          "choropleth": [
           {
            "colorbar": {
             "outlinewidth": 0,
             "ticks": ""
            },
            "type": "choropleth"
           }
          ],
          "contour": [
           {
            "colorbar": {
             "outlinewidth": 0,
             "ticks": ""
            },
            "colorscale": [
             [
              0,
              "#0d0887"
             ],
             [
              0.1111111111111111,
              "#46039f"
             ],
             [
              0.2222222222222222,
              "#7201a8"
             ],
             [
              0.3333333333333333,
              "#9c179e"
             ],
             [
              0.4444444444444444,
              "#bd3786"
             ],
             [
              0.5555555555555556,
              "#d8576b"
             ],
             [
              0.6666666666666666,
              "#ed7953"
             ],
             [
              0.7777777777777778,
              "#fb9f3a"
             ],
             [
              0.8888888888888888,
              "#fdca26"
             ],
             [
              1,
              "#f0f921"
             ]
            ],
            "type": "contour"
           }
          ],
          "contourcarpet": [
           {
            "colorbar": {
             "outlinewidth": 0,
             "ticks": ""
            },
            "type": "contourcarpet"
           }
          ],
          "heatmap": [
           {
            "colorbar": {
             "outlinewidth": 0,
             "ticks": ""
            },
            "colorscale": [
             [
              0,
              "#0d0887"
             ],
             [
              0.1111111111111111,
              "#46039f"
             ],
             [
              0.2222222222222222,
              "#7201a8"
             ],
             [
              0.3333333333333333,
              "#9c179e"
             ],
             [
              0.4444444444444444,
              "#bd3786"
             ],
             [
              0.5555555555555556,
              "#d8576b"
             ],
             [
              0.6666666666666666,
              "#ed7953"
             ],
             [
              0.7777777777777778,
              "#fb9f3a"
             ],
             [
              0.8888888888888888,
              "#fdca26"
             ],
             [
              1,
              "#f0f921"
             ]
            ],
            "type": "heatmap"
           }
          ],
          "histogram": [
           {
            "marker": {
             "pattern": {
              "fillmode": "overlay",
              "size": 10,
              "solidity": 0.2
             }
            },
            "type": "histogram"
           }
          ],
          "histogram2d": [
           {
            "colorbar": {
             "outlinewidth": 0,
             "ticks": ""
            },
            "colorscale": [
             [
              0,
              "#0d0887"
             ],
             [
              0.1111111111111111,
              "#46039f"
             ],
             [
              0.2222222222222222,
              "#7201a8"
             ],
             [
              0.3333333333333333,
              "#9c179e"
             ],
             [
              0.4444444444444444,
              "#bd3786"
             ],
             [
              0.5555555555555556,
              "#d8576b"
             ],
             [
              0.6666666666666666,
              "#ed7953"
             ],
             [
              0.7777777777777778,
              "#fb9f3a"
             ],
             [
              0.8888888888888888,
              "#fdca26"
             ],
             [
              1,
              "#f0f921"
             ]
            ],
            "type": "histogram2d"
           }
          ],
          "histogram2dcontour": [
           {
            "colorbar": {
             "outlinewidth": 0,
             "ticks": ""
            },
            "colorscale": [
             [
              0,
              "#0d0887"
             ],
             [
              0.1111111111111111,
              "#46039f"
             ],
             [
              0.2222222222222222,
              "#7201a8"
             ],
             [
              0.3333333333333333,
              "#9c179e"
             ],
             [
              0.4444444444444444,
              "#bd3786"
             ],
             [
              0.5555555555555556,
              "#d8576b"
             ],
             [
              0.6666666666666666,
              "#ed7953"
             ],
             [
              0.7777777777777778,
              "#fb9f3a"
             ],
             [
              0.8888888888888888,
              "#fdca26"
             ],
             [
              1,
              "#f0f921"
             ]
            ],
            "type": "histogram2dcontour"
           }
          ],
          "mesh3d": [
           {
            "colorbar": {
             "outlinewidth": 0,
             "ticks": ""
            },
            "type": "mesh3d"
           }
          ],
          "parcoords": [
           {
            "line": {
             "colorbar": {
              "outlinewidth": 0,
              "ticks": ""
             }
            },
            "type": "parcoords"
           }
          ],
          "pie": [
           {
            "automargin": true,
            "type": "pie"
           }
          ],
          "scatter": [
           {
            "fillpattern": {
             "fillmode": "overlay",
             "size": 10,
             "solidity": 0.2
            },
            "type": "scatter"
           }
          ],
          "scatter3d": [
           {
            "line": {
             "colorbar": {
              "outlinewidth": 0,
              "ticks": ""
             }
            },
            "marker": {
             "colorbar": {
              "outlinewidth": 0,
              "ticks": ""
             }
            },
            "type": "scatter3d"
           }
          ],
          "scattercarpet": [
           {
            "marker": {
             "colorbar": {
              "outlinewidth": 0,
              "ticks": ""
             }
            },
            "type": "scattercarpet"
           }
          ],
          "scattergeo": [
           {
            "marker": {
             "colorbar": {
              "outlinewidth": 0,
              "ticks": ""
             }
            },
            "type": "scattergeo"
           }
          ],
          "scattergl": [
           {
            "marker": {
             "colorbar": {
              "outlinewidth": 0,
              "ticks": ""
             }
            },
            "type": "scattergl"
           }
          ],
          "scattermap": [
           {
            "marker": {
             "colorbar": {
              "outlinewidth": 0,
              "ticks": ""
             }
            },
            "type": "scattermap"
           }
          ],
          "scattermapbox": [
           {
            "marker": {
             "colorbar": {
              "outlinewidth": 0,
              "ticks": ""
             }
            },
            "type": "scattermapbox"
           }
          ],
          "scatterpolar": [
           {
            "marker": {
             "colorbar": {
              "outlinewidth": 0,
              "ticks": ""
             }
            },
            "type": "scatterpolar"
           }
          ],
          "scatterpolargl": [
           {
            "marker": {
             "colorbar": {
              "outlinewidth": 0,
              "ticks": ""
             }
            },
            "type": "scatterpolargl"
           }
          ],
          "scatterternary": [
           {
            "marker": {
             "colorbar": {
              "outlinewidth": 0,
              "ticks": ""
             }
            },
            "type": "scatterternary"
           }
          ],
          "surface": [
           {
            "colorbar": {
             "outlinewidth": 0,
             "ticks": ""
            },
            "colorscale": [
             [
              0,
              "#0d0887"
             ],
             [
              0.1111111111111111,
              "#46039f"
             ],
             [
              0.2222222222222222,
              "#7201a8"
             ],
             [
              0.3333333333333333,
              "#9c179e"
             ],
             [
              0.4444444444444444,
              "#bd3786"
             ],
             [
              0.5555555555555556,
              "#d8576b"
             ],
             [
              0.6666666666666666,
              "#ed7953"
             ],
             [
              0.7777777777777778,
              "#fb9f3a"
             ],
             [
              0.8888888888888888,
              "#fdca26"
             ],
             [
              1,
              "#f0f921"
             ]
            ],
            "type": "surface"
           }
          ],
          "table": [
           {
            "cells": {
             "fill": {
              "color": "#EBF0F8"
             },
             "line": {
              "color": "white"
             }
            },
            "header": {
             "fill": {
              "color": "#C8D4E3"
             },
             "line": {
              "color": "white"
             }
            },
            "type": "table"
           }
          ]
         },
         "layout": {
          "annotationdefaults": {
           "arrowcolor": "#2a3f5f",
           "arrowhead": 0,
           "arrowwidth": 1
          },
          "autotypenumbers": "strict",
          "coloraxis": {
           "colorbar": {
            "outlinewidth": 0,
            "ticks": ""
           }
          },
          "colorscale": {
           "diverging": [
            [
             0,
             "#8e0152"
            ],
            [
             0.1,
             "#c51b7d"
            ],
            [
             0.2,
             "#de77ae"
            ],
            [
             0.3,
             "#f1b6da"
            ],
            [
             0.4,
             "#fde0ef"
            ],
            [
             0.5,
             "#f7f7f7"
            ],
            [
             0.6,
             "#e6f5d0"
            ],
            [
             0.7,
             "#b8e186"
            ],
            [
             0.8,
             "#7fbc41"
            ],
            [
             0.9,
             "#4d9221"
            ],
            [
             1,
             "#276419"
            ]
           ],
           "sequential": [
            [
             0,
             "#0d0887"
            ],
            [
             0.1111111111111111,
             "#46039f"
            ],
            [
             0.2222222222222222,
             "#7201a8"
            ],
            [
             0.3333333333333333,
             "#9c179e"
            ],
            [
             0.4444444444444444,
             "#bd3786"
            ],
            [
             0.5555555555555556,
             "#d8576b"
            ],
            [
             0.6666666666666666,
             "#ed7953"
            ],
            [
             0.7777777777777778,
             "#fb9f3a"
            ],
            [
             0.8888888888888888,
             "#fdca26"
            ],
            [
             1,
             "#f0f921"
            ]
           ],
           "sequentialminus": [
            [
             0,
             "#0d0887"
            ],
            [
             0.1111111111111111,
             "#46039f"
            ],
            [
             0.2222222222222222,
             "#7201a8"
            ],
            [
             0.3333333333333333,
             "#9c179e"
            ],
            [
             0.4444444444444444,
             "#bd3786"
            ],
            [
             0.5555555555555556,
             "#d8576b"
            ],
            [
             0.6666666666666666,
             "#ed7953"
            ],
            [
             0.7777777777777778,
             "#fb9f3a"
            ],
            [
             0.8888888888888888,
             "#fdca26"
            ],
            [
             1,
             "#f0f921"
            ]
           ]
          },
          "colorway": [
           "#636efa",
           "#EF553B",
           "#00cc96",
           "#ab63fa",
           "#FFA15A",
           "#19d3f3",
           "#FF6692",
           "#B6E880",
           "#FF97FF",
           "#FECB52"
          ],
          "font": {
           "color": "#2a3f5f"
          },
          "geo": {
           "bgcolor": "white",
           "lakecolor": "white",
           "landcolor": "#E5ECF6",
           "showlakes": true,
           "showland": true,
           "subunitcolor": "white"
          },
          "hoverlabel": {
           "align": "left"
          },
          "hovermode": "closest",
          "mapbox": {
           "style": "light"
          },
          "paper_bgcolor": "white",
          "plot_bgcolor": "#E5ECF6",
          "polar": {
           "angularaxis": {
            "gridcolor": "white",
            "linecolor": "white",
            "ticks": ""
           },
           "bgcolor": "#E5ECF6",
           "radialaxis": {
            "gridcolor": "white",
            "linecolor": "white",
            "ticks": ""
           }
          },
          "scene": {
           "xaxis": {
            "backgroundcolor": "#E5ECF6",
            "gridcolor": "white",
            "gridwidth": 2,
            "linecolor": "white",
            "showbackground": true,
            "ticks": "",
            "zerolinecolor": "white"
           },
           "yaxis": {
            "backgroundcolor": "#E5ECF6",
            "gridcolor": "white",
            "gridwidth": 2,
            "linecolor": "white",
            "showbackground": true,
            "ticks": "",
            "zerolinecolor": "white"
           },
           "zaxis": {
            "backgroundcolor": "#E5ECF6",
            "gridcolor": "white",
            "gridwidth": 2,
            "linecolor": "white",
            "showbackground": true,
            "ticks": "",
            "zerolinecolor": "white"
           }
          },
          "shapedefaults": {
           "line": {
            "color": "#2a3f5f"
           }
          },
          "ternary": {
           "aaxis": {
            "gridcolor": "white",
            "linecolor": "white",
            "ticks": ""
           },
           "baxis": {
            "gridcolor": "white",
            "linecolor": "white",
            "ticks": ""
           },
           "bgcolor": "#E5ECF6",
           "caxis": {
            "gridcolor": "white",
            "linecolor": "white",
            "ticks": ""
           }
          },
          "title": {
           "x": 0.05
          },
          "xaxis": {
           "automargin": true,
           "gridcolor": "white",
           "linecolor": "white",
           "ticks": "",
           "title": {
            "standoff": 15
           },
           "zerolinecolor": "white",
           "zerolinewidth": 2
          },
          "yaxis": {
           "automargin": true,
           "gridcolor": "white",
           "linecolor": "white",
           "ticks": "",
           "title": {
            "standoff": 15
           },
           "zerolinecolor": "white",
           "zerolinewidth": 2
          }
         }
        },
        "title": {
         "text": "Proporción Ecobici por hora"
        },
        "xaxis": {
         "anchor": "y",
         "domain": [
          0,
          1
         ],
         "title": {
          "text": "fh_retiro"
         }
        },
        "yaxis": {
         "anchor": "x",
         "domain": [
          0,
          1
         ],
         "title": {
          "text": "proportion"
         }
        }
       }
      },
      "text/html": [
       "<div>            <script src=\"https://cdnjs.cloudflare.com/ajax/libs/mathjax/2.7.5/MathJax.js?config=TeX-AMS-MML_SVG\"></script><script type=\"text/javascript\">if (window.MathJax && window.MathJax.Hub && window.MathJax.Hub.Config) {window.MathJax.Hub.Config({SVG: {font: \"STIX-Web\"}});}</script>                <script type=\"text/javascript\">window.PlotlyConfig = {MathJaxConfig: 'local'};</script>\n",
       "        <script charset=\"utf-8\" src=\"https://cdn.plot.ly/plotly-3.0.0.min.js\"></script>                <div id=\"ff9f310f-c14a-477a-af4b-88d05c51d509\" class=\"plotly-graph-div\" style=\"height:525px; width:100%;\"></div>            <script type=\"text/javascript\">                window.PLOTLYENV=window.PLOTLYENV || {};                                if (document.getElementById(\"ff9f310f-c14a-477a-af4b-88d05c51d509\")) {                    Plotly.newPlot(                        \"ff9f310f-c14a-477a-af4b-88d05c51d509\",                        [{\"hovertemplate\":\"fh_retiro=%{x}\\u003cbr\\u003eproportion=%{y}\\u003cextra\\u003e\\u003c\\u002fextra\\u003e\",\"legendgroup\":\"\",\"marker\":{\"color\":\"#636efa\",\"pattern\":{\"shape\":\"\"}},\"name\":\"\",\"orientation\":\"v\",\"showlegend\":false,\"textposition\":\"auto\",\"x\":{\"dtype\":\"i1\",\"bdata\":\"AAECAwQFBgcICQoLDA0ODxAREhMUFRYX\"},\"xaxis\":\"x\",\"y\":{\"dtype\":\"f8\",\"bdata\":\"GOdYZzAwaj9MnUOsbu4xPzCqZoAsyCA\\u002fSdUrSsMR1j6XvZjsAp6jPimJjEYdTHQ\\u002fGAI8GU3klD8Ew2a4LzarP5SJK8LSB7k\\u002ffXAz3eQbsz\\u002fM3Kxgq+moPzaqfAdYk6Y\\u002fg3sD\\u002fKKwpz8WEcfdr0qtP7zTvhKJ3bE\\u002fqNO6uoJ\\u002fsT8jOT8oa0CtP+3HERWhPbI\\u002f61smYfAvuT9Zo+amuNWzPy3YOw+o06c\\u002fvse83nqfnz\\u002fp4ZajFrKTP8+V2Byy4YQ\\u002f\"},\"yaxis\":\"y\",\"type\":\"bar\"}],                        {\"template\":{\"data\":{\"histogram2dcontour\":[{\"type\":\"histogram2dcontour\",\"colorbar\":{\"outlinewidth\":0,\"ticks\":\"\"},\"colorscale\":[[0.0,\"#0d0887\"],[0.1111111111111111,\"#46039f\"],[0.2222222222222222,\"#7201a8\"],[0.3333333333333333,\"#9c179e\"],[0.4444444444444444,\"#bd3786\"],[0.5555555555555556,\"#d8576b\"],[0.6666666666666666,\"#ed7953\"],[0.7777777777777778,\"#fb9f3a\"],[0.8888888888888888,\"#fdca26\"],[1.0,\"#f0f921\"]]}],\"choropleth\":[{\"type\":\"choropleth\",\"colorbar\":{\"outlinewidth\":0,\"ticks\":\"\"}}],\"histogram2d\":[{\"type\":\"histogram2d\",\"colorbar\":{\"outlinewidth\":0,\"ticks\":\"\"},\"colorscale\":[[0.0,\"#0d0887\"],[0.1111111111111111,\"#46039f\"],[0.2222222222222222,\"#7201a8\"],[0.3333333333333333,\"#9c179e\"],[0.4444444444444444,\"#bd3786\"],[0.5555555555555556,\"#d8576b\"],[0.6666666666666666,\"#ed7953\"],[0.7777777777777778,\"#fb9f3a\"],[0.8888888888888888,\"#fdca26\"],[1.0,\"#f0f921\"]]}],\"heatmap\":[{\"type\":\"heatmap\",\"colorbar\":{\"outlinewidth\":0,\"ticks\":\"\"},\"colorscale\":[[0.0,\"#0d0887\"],[0.1111111111111111,\"#46039f\"],[0.2222222222222222,\"#7201a8\"],[0.3333333333333333,\"#9c179e\"],[0.4444444444444444,\"#bd3786\"],[0.5555555555555556,\"#d8576b\"],[0.6666666666666666,\"#ed7953\"],[0.7777777777777778,\"#fb9f3a\"],[0.8888888888888888,\"#fdca26\"],[1.0,\"#f0f921\"]]}],\"contourcarpet\":[{\"type\":\"contourcarpet\",\"colorbar\":{\"outlinewidth\":0,\"ticks\":\"\"}}],\"contour\":[{\"type\":\"contour\",\"colorbar\":{\"outlinewidth\":0,\"ticks\":\"\"},\"colorscale\":[[0.0,\"#0d0887\"],[0.1111111111111111,\"#46039f\"],[0.2222222222222222,\"#7201a8\"],[0.3333333333333333,\"#9c179e\"],[0.4444444444444444,\"#bd3786\"],[0.5555555555555556,\"#d8576b\"],[0.6666666666666666,\"#ed7953\"],[0.7777777777777778,\"#fb9f3a\"],[0.8888888888888888,\"#fdca26\"],[1.0,\"#f0f921\"]]}],\"surface\":[{\"type\":\"surface\",\"colorbar\":{\"outlinewidth\":0,\"ticks\":\"\"},\"colorscale\":[[0.0,\"#0d0887\"],[0.1111111111111111,\"#46039f\"],[0.2222222222222222,\"#7201a8\"],[0.3333333333333333,\"#9c179e\"],[0.4444444444444444,\"#bd3786\"],[0.5555555555555556,\"#d8576b\"],[0.6666666666666666,\"#ed7953\"],[0.7777777777777778,\"#fb9f3a\"],[0.8888888888888888,\"#fdca26\"],[1.0,\"#f0f921\"]]}],\"mesh3d\":[{\"type\":\"mesh3d\",\"colorbar\":{\"outlinewidth\":0,\"ticks\":\"\"}}],\"scatter\":[{\"fillpattern\":{\"fillmode\":\"overlay\",\"size\":10,\"solidity\":0.2},\"type\":\"scatter\"}],\"parcoords\":[{\"type\":\"parcoords\",\"line\":{\"colorbar\":{\"outlinewidth\":0,\"ticks\":\"\"}}}],\"scatterpolargl\":[{\"type\":\"scatterpolargl\",\"marker\":{\"colorbar\":{\"outlinewidth\":0,\"ticks\":\"\"}}}],\"bar\":[{\"error_x\":{\"color\":\"#2a3f5f\"},\"error_y\":{\"color\":\"#2a3f5f\"},\"marker\":{\"line\":{\"color\":\"#E5ECF6\",\"width\":0.5},\"pattern\":{\"fillmode\":\"overlay\",\"size\":10,\"solidity\":0.2}},\"type\":\"bar\"}],\"scattergeo\":[{\"type\":\"scattergeo\",\"marker\":{\"colorbar\":{\"outlinewidth\":0,\"ticks\":\"\"}}}],\"scatterpolar\":[{\"type\":\"scatterpolar\",\"marker\":{\"colorbar\":{\"outlinewidth\":0,\"ticks\":\"\"}}}],\"histogram\":[{\"marker\":{\"pattern\":{\"fillmode\":\"overlay\",\"size\":10,\"solidity\":0.2}},\"type\":\"histogram\"}],\"scattergl\":[{\"type\":\"scattergl\",\"marker\":{\"colorbar\":{\"outlinewidth\":0,\"ticks\":\"\"}}}],\"scatter3d\":[{\"type\":\"scatter3d\",\"line\":{\"colorbar\":{\"outlinewidth\":0,\"ticks\":\"\"}},\"marker\":{\"colorbar\":{\"outlinewidth\":0,\"ticks\":\"\"}}}],\"scattermap\":[{\"type\":\"scattermap\",\"marker\":{\"colorbar\":{\"outlinewidth\":0,\"ticks\":\"\"}}}],\"scattermapbox\":[{\"type\":\"scattermapbox\",\"marker\":{\"colorbar\":{\"outlinewidth\":0,\"ticks\":\"\"}}}],\"scatterternary\":[{\"type\":\"scatterternary\",\"marker\":{\"colorbar\":{\"outlinewidth\":0,\"ticks\":\"\"}}}],\"scattercarpet\":[{\"type\":\"scattercarpet\",\"marker\":{\"colorbar\":{\"outlinewidth\":0,\"ticks\":\"\"}}}],\"carpet\":[{\"aaxis\":{\"endlinecolor\":\"#2a3f5f\",\"gridcolor\":\"white\",\"linecolor\":\"white\",\"minorgridcolor\":\"white\",\"startlinecolor\":\"#2a3f5f\"},\"baxis\":{\"endlinecolor\":\"#2a3f5f\",\"gridcolor\":\"white\",\"linecolor\":\"white\",\"minorgridcolor\":\"white\",\"startlinecolor\":\"#2a3f5f\"},\"type\":\"carpet\"}],\"table\":[{\"cells\":{\"fill\":{\"color\":\"#EBF0F8\"},\"line\":{\"color\":\"white\"}},\"header\":{\"fill\":{\"color\":\"#C8D4E3\"},\"line\":{\"color\":\"white\"}},\"type\":\"table\"}],\"barpolar\":[{\"marker\":{\"line\":{\"color\":\"#E5ECF6\",\"width\":0.5},\"pattern\":{\"fillmode\":\"overlay\",\"size\":10,\"solidity\":0.2}},\"type\":\"barpolar\"}],\"pie\":[{\"automargin\":true,\"type\":\"pie\"}]},\"layout\":{\"autotypenumbers\":\"strict\",\"colorway\":[\"#636efa\",\"#EF553B\",\"#00cc96\",\"#ab63fa\",\"#FFA15A\",\"#19d3f3\",\"#FF6692\",\"#B6E880\",\"#FF97FF\",\"#FECB52\"],\"font\":{\"color\":\"#2a3f5f\"},\"hovermode\":\"closest\",\"hoverlabel\":{\"align\":\"left\"},\"paper_bgcolor\":\"white\",\"plot_bgcolor\":\"#E5ECF6\",\"polar\":{\"bgcolor\":\"#E5ECF6\",\"angularaxis\":{\"gridcolor\":\"white\",\"linecolor\":\"white\",\"ticks\":\"\"},\"radialaxis\":{\"gridcolor\":\"white\",\"linecolor\":\"white\",\"ticks\":\"\"}},\"ternary\":{\"bgcolor\":\"#E5ECF6\",\"aaxis\":{\"gridcolor\":\"white\",\"linecolor\":\"white\",\"ticks\":\"\"},\"baxis\":{\"gridcolor\":\"white\",\"linecolor\":\"white\",\"ticks\":\"\"},\"caxis\":{\"gridcolor\":\"white\",\"linecolor\":\"white\",\"ticks\":\"\"}},\"coloraxis\":{\"colorbar\":{\"outlinewidth\":0,\"ticks\":\"\"}},\"colorscale\":{\"sequential\":[[0.0,\"#0d0887\"],[0.1111111111111111,\"#46039f\"],[0.2222222222222222,\"#7201a8\"],[0.3333333333333333,\"#9c179e\"],[0.4444444444444444,\"#bd3786\"],[0.5555555555555556,\"#d8576b\"],[0.6666666666666666,\"#ed7953\"],[0.7777777777777778,\"#fb9f3a\"],[0.8888888888888888,\"#fdca26\"],[1.0,\"#f0f921\"]],\"sequentialminus\":[[0.0,\"#0d0887\"],[0.1111111111111111,\"#46039f\"],[0.2222222222222222,\"#7201a8\"],[0.3333333333333333,\"#9c179e\"],[0.4444444444444444,\"#bd3786\"],[0.5555555555555556,\"#d8576b\"],[0.6666666666666666,\"#ed7953\"],[0.7777777777777778,\"#fb9f3a\"],[0.8888888888888888,\"#fdca26\"],[1.0,\"#f0f921\"]],\"diverging\":[[0,\"#8e0152\"],[0.1,\"#c51b7d\"],[0.2,\"#de77ae\"],[0.3,\"#f1b6da\"],[0.4,\"#fde0ef\"],[0.5,\"#f7f7f7\"],[0.6,\"#e6f5d0\"],[0.7,\"#b8e186\"],[0.8,\"#7fbc41\"],[0.9,\"#4d9221\"],[1,\"#276419\"]]},\"xaxis\":{\"gridcolor\":\"white\",\"linecolor\":\"white\",\"ticks\":\"\",\"title\":{\"standoff\":15},\"zerolinecolor\":\"white\",\"automargin\":true,\"zerolinewidth\":2},\"yaxis\":{\"gridcolor\":\"white\",\"linecolor\":\"white\",\"ticks\":\"\",\"title\":{\"standoff\":15},\"zerolinecolor\":\"white\",\"automargin\":true,\"zerolinewidth\":2},\"scene\":{\"xaxis\":{\"backgroundcolor\":\"#E5ECF6\",\"gridcolor\":\"white\",\"linecolor\":\"white\",\"showbackground\":true,\"ticks\":\"\",\"zerolinecolor\":\"white\",\"gridwidth\":2},\"yaxis\":{\"backgroundcolor\":\"#E5ECF6\",\"gridcolor\":\"white\",\"linecolor\":\"white\",\"showbackground\":true,\"ticks\":\"\",\"zerolinecolor\":\"white\",\"gridwidth\":2},\"zaxis\":{\"backgroundcolor\":\"#E5ECF6\",\"gridcolor\":\"white\",\"linecolor\":\"white\",\"showbackground\":true,\"ticks\":\"\",\"zerolinecolor\":\"white\",\"gridwidth\":2}},\"shapedefaults\":{\"line\":{\"color\":\"#2a3f5f\"}},\"annotationdefaults\":{\"arrowcolor\":\"#2a3f5f\",\"arrowhead\":0,\"arrowwidth\":1},\"geo\":{\"bgcolor\":\"white\",\"landcolor\":\"#E5ECF6\",\"subunitcolor\":\"white\",\"showland\":true,\"showlakes\":true,\"lakecolor\":\"white\"},\"title\":{\"x\":0.05},\"mapbox\":{\"style\":\"light\"}}},\"xaxis\":{\"anchor\":\"y\",\"domain\":[0.0,1.0],\"title\":{\"text\":\"fh_retiro\"}},\"yaxis\":{\"anchor\":\"x\",\"domain\":[0.0,1.0],\"title\":{\"text\":\"proportion\"}},\"legend\":{\"tracegroupgap\":0},\"title\":{\"text\":\"Proporci\\u00f3n Ecobici por hora\"},\"barmode\":\"relative\"},                        {\"responsive\": true}                    ).then(function(){\n",
       "                            \n",
       "var gd = document.getElementById('ff9f310f-c14a-477a-af4b-88d05c51d509');\n",
       "var x = new MutationObserver(function (mutations, observer) {{\n",
       "        var display = window.getComputedStyle(gd).display;\n",
       "        if (!display || display === 'none') {{\n",
       "            console.log([gd, 'removed!']);\n",
       "            Plotly.purge(gd);\n",
       "            observer.disconnect();\n",
       "        }}\n",
       "}});\n",
       "\n",
       "// Listen for the removal of the full notebook cells\n",
       "var notebookContainer = gd.closest('#notebook-container');\n",
       "if (notebookContainer) {{\n",
       "    x.observe(notebookContainer, {childList: true});\n",
       "}}\n",
       "\n",
       "// Listen for the clearing of the current output cell\n",
       "var outputEl = gd.closest('.output');\n",
       "if (outputEl) {{\n",
       "    x.observe(outputEl, {childList: true});\n",
       "}}\n",
       "\n",
       "                        })                };            </script>        </div>"
      ]
     },
     "metadata": {},
     "output_type": "display_data"
    }
   ],
   "source": [
    "import plotly.express as px\n",
    "\n",
    "# Crear la gráfica de barras interactiva\n",
    "fig = px.bar(df_horas_muestra.reset_index(), x='fh_retiro', y='proportion', title=\"Proporción Ecobici por hora\")\n",
    "\n",
    "# Agregar etiquetas a las barras\n",
    "#fig.update_traces(text=df_horas_muestra.reset_index()['proportion'].apply( lambda x: round(x,2) ) )\n",
    "\n",
    "fig.show()"
   ]
  },
  {
   "cell_type": "code",
   "execution_count": 80,
   "id": "3c5df0d0-3e66-42fa-af9d-83f832f2a803",
   "metadata": {},
   "outputs": [
    {
     "data": {
      "application/vnd.plotly.v1+json": {
       "config": {
        "plotlyServerURL": "https://plot.ly"
       },
       "data": [
        {
         "hovertemplate": "fh_retiro=%{x}<br>proportion=%{y}<extra></extra>",
         "legendgroup": "",
         "line": {
          "color": "#636efa",
          "dash": "solid"
         },
         "marker": {
          "symbol": "circle"
         },
         "mode": "lines",
         "name": "",
         "orientation": "v",
         "showlegend": false,
         "type": "scatter",
         "x": {
          "bdata": "AAECAwQFBgcICQoLDA0ODxAREhMUFRYX",
          "dtype": "i1"
         },
         "xaxis": "x",
         "y": {
          "bdata": "GOdYZzAwaj9MnUOsbu4xPzCqZoAsyCA/SdUrSsMR1j6XvZjsAp6jPimJjEYdTHQ/GAI8GU3klD8Ew2a4LzarP5SJK8LSB7k/fXAz3eQbsz/M3Kxgq+moPzaqfAdYk6Y/g3sD/KKwpz8WEcfdr0qtP7zTvhKJ3bE/qNO6uoJ/sT8jOT8oa0CtP+3HERWhPbI/61smYfAvuT9Zo+amuNWzPy3YOw+o06c/vse83nqfnz/p4ZajFrKTP8+V2Byy4YQ/",
          "dtype": "f8"
         },
         "yaxis": "y"
        }
       ],
       "layout": {
        "legend": {
         "tracegroupgap": 0
        },
        "template": {
         "data": {
          "bar": [
           {
            "error_x": {
             "color": "#2a3f5f"
            },
            "error_y": {
             "color": "#2a3f5f"
            },
            "marker": {
             "line": {
              "color": "#E5ECF6",
              "width": 0.5
             },
             "pattern": {
              "fillmode": "overlay",
              "size": 10,
              "solidity": 0.2
             }
            },
            "type": "bar"
           }
          ],
          "barpolar": [
           {
            "marker": {
             "line": {
              "color": "#E5ECF6",
              "width": 0.5
             },
             "pattern": {
              "fillmode": "overlay",
              "size": 10,
              "solidity": 0.2
             }
            },
            "type": "barpolar"
           }
          ],
          "carpet": [
           {
            "aaxis": {
             "endlinecolor": "#2a3f5f",
             "gridcolor": "white",
             "linecolor": "white",
             "minorgridcolor": "white",
             "startlinecolor": "#2a3f5f"
            },
            "baxis": {
             "endlinecolor": "#2a3f5f",
             "gridcolor": "white",
             "linecolor": "white",
             "minorgridcolor": "white",
             "startlinecolor": "#2a3f5f"
            },
            "type": "carpet"
           }
          ],
          "choropleth": [
           {
            "colorbar": {
             "outlinewidth": 0,
             "ticks": ""
            },
            "type": "choropleth"
           }
          ],
          "contour": [
           {
            "colorbar": {
             "outlinewidth": 0,
             "ticks": ""
            },
            "colorscale": [
             [
              0,
              "#0d0887"
             ],
             [
              0.1111111111111111,
              "#46039f"
             ],
             [
              0.2222222222222222,
              "#7201a8"
             ],
             [
              0.3333333333333333,
              "#9c179e"
             ],
             [
              0.4444444444444444,
              "#bd3786"
             ],
             [
              0.5555555555555556,
              "#d8576b"
             ],
             [
              0.6666666666666666,
              "#ed7953"
             ],
             [
              0.7777777777777778,
              "#fb9f3a"
             ],
             [
              0.8888888888888888,
              "#fdca26"
             ],
             [
              1,
              "#f0f921"
             ]
            ],
            "type": "contour"
           }
          ],
          "contourcarpet": [
           {
            "colorbar": {
             "outlinewidth": 0,
             "ticks": ""
            },
            "type": "contourcarpet"
           }
          ],
          "heatmap": [
           {
            "colorbar": {
             "outlinewidth": 0,
             "ticks": ""
            },
            "colorscale": [
             [
              0,
              "#0d0887"
             ],
             [
              0.1111111111111111,
              "#46039f"
             ],
             [
              0.2222222222222222,
              "#7201a8"
             ],
             [
              0.3333333333333333,
              "#9c179e"
             ],
             [
              0.4444444444444444,
              "#bd3786"
             ],
             [
              0.5555555555555556,
              "#d8576b"
             ],
             [
              0.6666666666666666,
              "#ed7953"
             ],
             [
              0.7777777777777778,
              "#fb9f3a"
             ],
             [
              0.8888888888888888,
              "#fdca26"
             ],
             [
              1,
              "#f0f921"
             ]
            ],
            "type": "heatmap"
           }
          ],
          "histogram": [
           {
            "marker": {
             "pattern": {
              "fillmode": "overlay",
              "size": 10,
              "solidity": 0.2
             }
            },
            "type": "histogram"
           }
          ],
          "histogram2d": [
           {
            "colorbar": {
             "outlinewidth": 0,
             "ticks": ""
            },
            "colorscale": [
             [
              0,
              "#0d0887"
             ],
             [
              0.1111111111111111,
              "#46039f"
             ],
             [
              0.2222222222222222,
              "#7201a8"
             ],
             [
              0.3333333333333333,
              "#9c179e"
             ],
             [
              0.4444444444444444,
              "#bd3786"
             ],
             [
              0.5555555555555556,
              "#d8576b"
             ],
             [
              0.6666666666666666,
              "#ed7953"
             ],
             [
              0.7777777777777778,
              "#fb9f3a"
             ],
             [
              0.8888888888888888,
              "#fdca26"
             ],
             [
              1,
              "#f0f921"
             ]
            ],
            "type": "histogram2d"
           }
          ],
          "histogram2dcontour": [
           {
            "colorbar": {
             "outlinewidth": 0,
             "ticks": ""
            },
            "colorscale": [
             [
              0,
              "#0d0887"
             ],
             [
              0.1111111111111111,
              "#46039f"
             ],
             [
              0.2222222222222222,
              "#7201a8"
             ],
             [
              0.3333333333333333,
              "#9c179e"
             ],
             [
              0.4444444444444444,
              "#bd3786"
             ],
             [
              0.5555555555555556,
              "#d8576b"
             ],
             [
              0.6666666666666666,
              "#ed7953"
             ],
             [
              0.7777777777777778,
              "#fb9f3a"
             ],
             [
              0.8888888888888888,
              "#fdca26"
             ],
             [
              1,
              "#f0f921"
             ]
            ],
            "type": "histogram2dcontour"
           }
          ],
          "mesh3d": [
           {
            "colorbar": {
             "outlinewidth": 0,
             "ticks": ""
            },
            "type": "mesh3d"
           }
          ],
          "parcoords": [
           {
            "line": {
             "colorbar": {
              "outlinewidth": 0,
              "ticks": ""
             }
            },
            "type": "parcoords"
           }
          ],
          "pie": [
           {
            "automargin": true,
            "type": "pie"
           }
          ],
          "scatter": [
           {
            "fillpattern": {
             "fillmode": "overlay",
             "size": 10,
             "solidity": 0.2
            },
            "type": "scatter"
           }
          ],
          "scatter3d": [
           {
            "line": {
             "colorbar": {
              "outlinewidth": 0,
              "ticks": ""
             }
            },
            "marker": {
             "colorbar": {
              "outlinewidth": 0,
              "ticks": ""
             }
            },
            "type": "scatter3d"
           }
          ],
          "scattercarpet": [
           {
            "marker": {
             "colorbar": {
              "outlinewidth": 0,
              "ticks": ""
             }
            },
            "type": "scattercarpet"
           }
          ],
          "scattergeo": [
           {
            "marker": {
             "colorbar": {
              "outlinewidth": 0,
              "ticks": ""
             }
            },
            "type": "scattergeo"
           }
          ],
          "scattergl": [
           {
            "marker": {
             "colorbar": {
              "outlinewidth": 0,
              "ticks": ""
             }
            },
            "type": "scattergl"
           }
          ],
          "scattermap": [
           {
            "marker": {
             "colorbar": {
              "outlinewidth": 0,
              "ticks": ""
             }
            },
            "type": "scattermap"
           }
          ],
          "scattermapbox": [
           {
            "marker": {
             "colorbar": {
              "outlinewidth": 0,
              "ticks": ""
             }
            },
            "type": "scattermapbox"
           }
          ],
          "scatterpolar": [
           {
            "marker": {
             "colorbar": {
              "outlinewidth": 0,
              "ticks": ""
             }
            },
            "type": "scatterpolar"
           }
          ],
          "scatterpolargl": [
           {
            "marker": {
             "colorbar": {
              "outlinewidth": 0,
              "ticks": ""
             }
            },
            "type": "scatterpolargl"
           }
          ],
          "scatterternary": [
           {
            "marker": {
             "colorbar": {
              "outlinewidth": 0,
              "ticks": ""
             }
            },
            "type": "scatterternary"
           }
          ],
          "surface": [
           {
            "colorbar": {
             "outlinewidth": 0,
             "ticks": ""
            },
            "colorscale": [
             [
              0,
              "#0d0887"
             ],
             [
              0.1111111111111111,
              "#46039f"
             ],
             [
              0.2222222222222222,
              "#7201a8"
             ],
             [
              0.3333333333333333,
              "#9c179e"
             ],
             [
              0.4444444444444444,
              "#bd3786"
             ],
             [
              0.5555555555555556,
              "#d8576b"
             ],
             [
              0.6666666666666666,
              "#ed7953"
             ],
             [
              0.7777777777777778,
              "#fb9f3a"
             ],
             [
              0.8888888888888888,
              "#fdca26"
             ],
             [
              1,
              "#f0f921"
             ]
            ],
            "type": "surface"
           }
          ],
          "table": [
           {
            "cells": {
             "fill": {
              "color": "#EBF0F8"
             },
             "line": {
              "color": "white"
             }
            },
            "header": {
             "fill": {
              "color": "#C8D4E3"
             },
             "line": {
              "color": "white"
             }
            },
            "type": "table"
           }
          ]
         },
         "layout": {
          "annotationdefaults": {
           "arrowcolor": "#2a3f5f",
           "arrowhead": 0,
           "arrowwidth": 1
          },
          "autotypenumbers": "strict",
          "coloraxis": {
           "colorbar": {
            "outlinewidth": 0,
            "ticks": ""
           }
          },
          "colorscale": {
           "diverging": [
            [
             0,
             "#8e0152"
            ],
            [
             0.1,
             "#c51b7d"
            ],
            [
             0.2,
             "#de77ae"
            ],
            [
             0.3,
             "#f1b6da"
            ],
            [
             0.4,
             "#fde0ef"
            ],
            [
             0.5,
             "#f7f7f7"
            ],
            [
             0.6,
             "#e6f5d0"
            ],
            [
             0.7,
             "#b8e186"
            ],
            [
             0.8,
             "#7fbc41"
            ],
            [
             0.9,
             "#4d9221"
            ],
            [
             1,
             "#276419"
            ]
           ],
           "sequential": [
            [
             0,
             "#0d0887"
            ],
            [
             0.1111111111111111,
             "#46039f"
            ],
            [
             0.2222222222222222,
             "#7201a8"
            ],
            [
             0.3333333333333333,
             "#9c179e"
            ],
            [
             0.4444444444444444,
             "#bd3786"
            ],
            [
             0.5555555555555556,
             "#d8576b"
            ],
            [
             0.6666666666666666,
             "#ed7953"
            ],
            [
             0.7777777777777778,
             "#fb9f3a"
            ],
            [
             0.8888888888888888,
             "#fdca26"
            ],
            [
             1,
             "#f0f921"
            ]
           ],
           "sequentialminus": [
            [
             0,
             "#0d0887"
            ],
            [
             0.1111111111111111,
             "#46039f"
            ],
            [
             0.2222222222222222,
             "#7201a8"
            ],
            [
             0.3333333333333333,
             "#9c179e"
            ],
            [
             0.4444444444444444,
             "#bd3786"
            ],
            [
             0.5555555555555556,
             "#d8576b"
            ],
            [
             0.6666666666666666,
             "#ed7953"
            ],
            [
             0.7777777777777778,
             "#fb9f3a"
            ],
            [
             0.8888888888888888,
             "#fdca26"
            ],
            [
             1,
             "#f0f921"
            ]
           ]
          },
          "colorway": [
           "#636efa",
           "#EF553B",
           "#00cc96",
           "#ab63fa",
           "#FFA15A",
           "#19d3f3",
           "#FF6692",
           "#B6E880",
           "#FF97FF",
           "#FECB52"
          ],
          "font": {
           "color": "#2a3f5f"
          },
          "geo": {
           "bgcolor": "white",
           "lakecolor": "white",
           "landcolor": "#E5ECF6",
           "showlakes": true,
           "showland": true,
           "subunitcolor": "white"
          },
          "hoverlabel": {
           "align": "left"
          },
          "hovermode": "closest",
          "mapbox": {
           "style": "light"
          },
          "paper_bgcolor": "white",
          "plot_bgcolor": "#E5ECF6",
          "polar": {
           "angularaxis": {
            "gridcolor": "white",
            "linecolor": "white",
            "ticks": ""
           },
           "bgcolor": "#E5ECF6",
           "radialaxis": {
            "gridcolor": "white",
            "linecolor": "white",
            "ticks": ""
           }
          },
          "scene": {
           "xaxis": {
            "backgroundcolor": "#E5ECF6",
            "gridcolor": "white",
            "gridwidth": 2,
            "linecolor": "white",
            "showbackground": true,
            "ticks": "",
            "zerolinecolor": "white"
           },
           "yaxis": {
            "backgroundcolor": "#E5ECF6",
            "gridcolor": "white",
            "gridwidth": 2,
            "linecolor": "white",
            "showbackground": true,
            "ticks": "",
            "zerolinecolor": "white"
           },
           "zaxis": {
            "backgroundcolor": "#E5ECF6",
            "gridcolor": "white",
            "gridwidth": 2,
            "linecolor": "white",
            "showbackground": true,
            "ticks": "",
            "zerolinecolor": "white"
           }
          },
          "shapedefaults": {
           "line": {
            "color": "#2a3f5f"
           }
          },
          "ternary": {
           "aaxis": {
            "gridcolor": "white",
            "linecolor": "white",
            "ticks": ""
           },
           "baxis": {
            "gridcolor": "white",
            "linecolor": "white",
            "ticks": ""
           },
           "bgcolor": "#E5ECF6",
           "caxis": {
            "gridcolor": "white",
            "linecolor": "white",
            "ticks": ""
           }
          },
          "title": {
           "x": 0.05
          },
          "xaxis": {
           "automargin": true,
           "gridcolor": "white",
           "linecolor": "white",
           "ticks": "",
           "title": {
            "standoff": 15
           },
           "zerolinecolor": "white",
           "zerolinewidth": 2
          },
          "yaxis": {
           "automargin": true,
           "gridcolor": "white",
           "linecolor": "white",
           "ticks": "",
           "title": {
            "standoff": 15
           },
           "zerolinecolor": "white",
           "zerolinewidth": 2
          }
         }
        },
        "title": {
         "text": "Proporción Ecobici por hora"
        },
        "xaxis": {
         "anchor": "y",
         "domain": [
          0,
          1
         ],
         "title": {
          "text": "fh_retiro"
         }
        },
        "yaxis": {
         "anchor": "x",
         "domain": [
          0,
          1
         ],
         "title": {
          "text": "proportion"
         }
        }
       }
      },
      "text/html": [
       "<div>            <script src=\"https://cdnjs.cloudflare.com/ajax/libs/mathjax/2.7.5/MathJax.js?config=TeX-AMS-MML_SVG\"></script><script type=\"text/javascript\">if (window.MathJax && window.MathJax.Hub && window.MathJax.Hub.Config) {window.MathJax.Hub.Config({SVG: {font: \"STIX-Web\"}});}</script>                <script type=\"text/javascript\">window.PlotlyConfig = {MathJaxConfig: 'local'};</script>\n",
       "        <script charset=\"utf-8\" src=\"https://cdn.plot.ly/plotly-3.0.0.min.js\"></script>                <div id=\"f8879f49-9d2d-4509-9f01-2ed57b2a2630\" class=\"plotly-graph-div\" style=\"height:525px; width:100%;\"></div>            <script type=\"text/javascript\">                window.PLOTLYENV=window.PLOTLYENV || {};                                if (document.getElementById(\"f8879f49-9d2d-4509-9f01-2ed57b2a2630\")) {                    Plotly.newPlot(                        \"f8879f49-9d2d-4509-9f01-2ed57b2a2630\",                        [{\"hovertemplate\":\"fh_retiro=%{x}\\u003cbr\\u003eproportion=%{y}\\u003cextra\\u003e\\u003c\\u002fextra\\u003e\",\"legendgroup\":\"\",\"line\":{\"color\":\"#636efa\",\"dash\":\"solid\"},\"marker\":{\"symbol\":\"circle\"},\"mode\":\"lines\",\"name\":\"\",\"orientation\":\"v\",\"showlegend\":false,\"x\":{\"dtype\":\"i1\",\"bdata\":\"AAECAwQFBgcICQoLDA0ODxAREhMUFRYX\"},\"xaxis\":\"x\",\"y\":{\"dtype\":\"f8\",\"bdata\":\"GOdYZzAwaj9MnUOsbu4xPzCqZoAsyCA\\u002fSdUrSsMR1j6XvZjsAp6jPimJjEYdTHQ\\u002fGAI8GU3klD8Ew2a4LzarP5SJK8LSB7k\\u002ffXAz3eQbsz\\u002fM3Kxgq+moPzaqfAdYk6Y\\u002fg3sD\\u002fKKwpz8WEcfdr0qtP7zTvhKJ3bE\\u002fqNO6uoJ\\u002fsT8jOT8oa0CtP+3HERWhPbI\\u002f61smYfAvuT9Zo+amuNWzPy3YOw+o06c\\u002fvse83nqfnz\\u002fp4ZajFrKTP8+V2Byy4YQ\\u002f\"},\"yaxis\":\"y\",\"type\":\"scatter\"}],                        {\"template\":{\"data\":{\"histogram2dcontour\":[{\"type\":\"histogram2dcontour\",\"colorbar\":{\"outlinewidth\":0,\"ticks\":\"\"},\"colorscale\":[[0.0,\"#0d0887\"],[0.1111111111111111,\"#46039f\"],[0.2222222222222222,\"#7201a8\"],[0.3333333333333333,\"#9c179e\"],[0.4444444444444444,\"#bd3786\"],[0.5555555555555556,\"#d8576b\"],[0.6666666666666666,\"#ed7953\"],[0.7777777777777778,\"#fb9f3a\"],[0.8888888888888888,\"#fdca26\"],[1.0,\"#f0f921\"]]}],\"choropleth\":[{\"type\":\"choropleth\",\"colorbar\":{\"outlinewidth\":0,\"ticks\":\"\"}}],\"histogram2d\":[{\"type\":\"histogram2d\",\"colorbar\":{\"outlinewidth\":0,\"ticks\":\"\"},\"colorscale\":[[0.0,\"#0d0887\"],[0.1111111111111111,\"#46039f\"],[0.2222222222222222,\"#7201a8\"],[0.3333333333333333,\"#9c179e\"],[0.4444444444444444,\"#bd3786\"],[0.5555555555555556,\"#d8576b\"],[0.6666666666666666,\"#ed7953\"],[0.7777777777777778,\"#fb9f3a\"],[0.8888888888888888,\"#fdca26\"],[1.0,\"#f0f921\"]]}],\"heatmap\":[{\"type\":\"heatmap\",\"colorbar\":{\"outlinewidth\":0,\"ticks\":\"\"},\"colorscale\":[[0.0,\"#0d0887\"],[0.1111111111111111,\"#46039f\"],[0.2222222222222222,\"#7201a8\"],[0.3333333333333333,\"#9c179e\"],[0.4444444444444444,\"#bd3786\"],[0.5555555555555556,\"#d8576b\"],[0.6666666666666666,\"#ed7953\"],[0.7777777777777778,\"#fb9f3a\"],[0.8888888888888888,\"#fdca26\"],[1.0,\"#f0f921\"]]}],\"contourcarpet\":[{\"type\":\"contourcarpet\",\"colorbar\":{\"outlinewidth\":0,\"ticks\":\"\"}}],\"contour\":[{\"type\":\"contour\",\"colorbar\":{\"outlinewidth\":0,\"ticks\":\"\"},\"colorscale\":[[0.0,\"#0d0887\"],[0.1111111111111111,\"#46039f\"],[0.2222222222222222,\"#7201a8\"],[0.3333333333333333,\"#9c179e\"],[0.4444444444444444,\"#bd3786\"],[0.5555555555555556,\"#d8576b\"],[0.6666666666666666,\"#ed7953\"],[0.7777777777777778,\"#fb9f3a\"],[0.8888888888888888,\"#fdca26\"],[1.0,\"#f0f921\"]]}],\"surface\":[{\"type\":\"surface\",\"colorbar\":{\"outlinewidth\":0,\"ticks\":\"\"},\"colorscale\":[[0.0,\"#0d0887\"],[0.1111111111111111,\"#46039f\"],[0.2222222222222222,\"#7201a8\"],[0.3333333333333333,\"#9c179e\"],[0.4444444444444444,\"#bd3786\"],[0.5555555555555556,\"#d8576b\"],[0.6666666666666666,\"#ed7953\"],[0.7777777777777778,\"#fb9f3a\"],[0.8888888888888888,\"#fdca26\"],[1.0,\"#f0f921\"]]}],\"mesh3d\":[{\"type\":\"mesh3d\",\"colorbar\":{\"outlinewidth\":0,\"ticks\":\"\"}}],\"scatter\":[{\"fillpattern\":{\"fillmode\":\"overlay\",\"size\":10,\"solidity\":0.2},\"type\":\"scatter\"}],\"parcoords\":[{\"type\":\"parcoords\",\"line\":{\"colorbar\":{\"outlinewidth\":0,\"ticks\":\"\"}}}],\"scatterpolargl\":[{\"type\":\"scatterpolargl\",\"marker\":{\"colorbar\":{\"outlinewidth\":0,\"ticks\":\"\"}}}],\"bar\":[{\"error_x\":{\"color\":\"#2a3f5f\"},\"error_y\":{\"color\":\"#2a3f5f\"},\"marker\":{\"line\":{\"color\":\"#E5ECF6\",\"width\":0.5},\"pattern\":{\"fillmode\":\"overlay\",\"size\":10,\"solidity\":0.2}},\"type\":\"bar\"}],\"scattergeo\":[{\"type\":\"scattergeo\",\"marker\":{\"colorbar\":{\"outlinewidth\":0,\"ticks\":\"\"}}}],\"scatterpolar\":[{\"type\":\"scatterpolar\",\"marker\":{\"colorbar\":{\"outlinewidth\":0,\"ticks\":\"\"}}}],\"histogram\":[{\"marker\":{\"pattern\":{\"fillmode\":\"overlay\",\"size\":10,\"solidity\":0.2}},\"type\":\"histogram\"}],\"scattergl\":[{\"type\":\"scattergl\",\"marker\":{\"colorbar\":{\"outlinewidth\":0,\"ticks\":\"\"}}}],\"scatter3d\":[{\"type\":\"scatter3d\",\"line\":{\"colorbar\":{\"outlinewidth\":0,\"ticks\":\"\"}},\"marker\":{\"colorbar\":{\"outlinewidth\":0,\"ticks\":\"\"}}}],\"scattermap\":[{\"type\":\"scattermap\",\"marker\":{\"colorbar\":{\"outlinewidth\":0,\"ticks\":\"\"}}}],\"scattermapbox\":[{\"type\":\"scattermapbox\",\"marker\":{\"colorbar\":{\"outlinewidth\":0,\"ticks\":\"\"}}}],\"scatterternary\":[{\"type\":\"scatterternary\",\"marker\":{\"colorbar\":{\"outlinewidth\":0,\"ticks\":\"\"}}}],\"scattercarpet\":[{\"type\":\"scattercarpet\",\"marker\":{\"colorbar\":{\"outlinewidth\":0,\"ticks\":\"\"}}}],\"carpet\":[{\"aaxis\":{\"endlinecolor\":\"#2a3f5f\",\"gridcolor\":\"white\",\"linecolor\":\"white\",\"minorgridcolor\":\"white\",\"startlinecolor\":\"#2a3f5f\"},\"baxis\":{\"endlinecolor\":\"#2a3f5f\",\"gridcolor\":\"white\",\"linecolor\":\"white\",\"minorgridcolor\":\"white\",\"startlinecolor\":\"#2a3f5f\"},\"type\":\"carpet\"}],\"table\":[{\"cells\":{\"fill\":{\"color\":\"#EBF0F8\"},\"line\":{\"color\":\"white\"}},\"header\":{\"fill\":{\"color\":\"#C8D4E3\"},\"line\":{\"color\":\"white\"}},\"type\":\"table\"}],\"barpolar\":[{\"marker\":{\"line\":{\"color\":\"#E5ECF6\",\"width\":0.5},\"pattern\":{\"fillmode\":\"overlay\",\"size\":10,\"solidity\":0.2}},\"type\":\"barpolar\"}],\"pie\":[{\"automargin\":true,\"type\":\"pie\"}]},\"layout\":{\"autotypenumbers\":\"strict\",\"colorway\":[\"#636efa\",\"#EF553B\",\"#00cc96\",\"#ab63fa\",\"#FFA15A\",\"#19d3f3\",\"#FF6692\",\"#B6E880\",\"#FF97FF\",\"#FECB52\"],\"font\":{\"color\":\"#2a3f5f\"},\"hovermode\":\"closest\",\"hoverlabel\":{\"align\":\"left\"},\"paper_bgcolor\":\"white\",\"plot_bgcolor\":\"#E5ECF6\",\"polar\":{\"bgcolor\":\"#E5ECF6\",\"angularaxis\":{\"gridcolor\":\"white\",\"linecolor\":\"white\",\"ticks\":\"\"},\"radialaxis\":{\"gridcolor\":\"white\",\"linecolor\":\"white\",\"ticks\":\"\"}},\"ternary\":{\"bgcolor\":\"#E5ECF6\",\"aaxis\":{\"gridcolor\":\"white\",\"linecolor\":\"white\",\"ticks\":\"\"},\"baxis\":{\"gridcolor\":\"white\",\"linecolor\":\"white\",\"ticks\":\"\"},\"caxis\":{\"gridcolor\":\"white\",\"linecolor\":\"white\",\"ticks\":\"\"}},\"coloraxis\":{\"colorbar\":{\"outlinewidth\":0,\"ticks\":\"\"}},\"colorscale\":{\"sequential\":[[0.0,\"#0d0887\"],[0.1111111111111111,\"#46039f\"],[0.2222222222222222,\"#7201a8\"],[0.3333333333333333,\"#9c179e\"],[0.4444444444444444,\"#bd3786\"],[0.5555555555555556,\"#d8576b\"],[0.6666666666666666,\"#ed7953\"],[0.7777777777777778,\"#fb9f3a\"],[0.8888888888888888,\"#fdca26\"],[1.0,\"#f0f921\"]],\"sequentialminus\":[[0.0,\"#0d0887\"],[0.1111111111111111,\"#46039f\"],[0.2222222222222222,\"#7201a8\"],[0.3333333333333333,\"#9c179e\"],[0.4444444444444444,\"#bd3786\"],[0.5555555555555556,\"#d8576b\"],[0.6666666666666666,\"#ed7953\"],[0.7777777777777778,\"#fb9f3a\"],[0.8888888888888888,\"#fdca26\"],[1.0,\"#f0f921\"]],\"diverging\":[[0,\"#8e0152\"],[0.1,\"#c51b7d\"],[0.2,\"#de77ae\"],[0.3,\"#f1b6da\"],[0.4,\"#fde0ef\"],[0.5,\"#f7f7f7\"],[0.6,\"#e6f5d0\"],[0.7,\"#b8e186\"],[0.8,\"#7fbc41\"],[0.9,\"#4d9221\"],[1,\"#276419\"]]},\"xaxis\":{\"gridcolor\":\"white\",\"linecolor\":\"white\",\"ticks\":\"\",\"title\":{\"standoff\":15},\"zerolinecolor\":\"white\",\"automargin\":true,\"zerolinewidth\":2},\"yaxis\":{\"gridcolor\":\"white\",\"linecolor\":\"white\",\"ticks\":\"\",\"title\":{\"standoff\":15},\"zerolinecolor\":\"white\",\"automargin\":true,\"zerolinewidth\":2},\"scene\":{\"xaxis\":{\"backgroundcolor\":\"#E5ECF6\",\"gridcolor\":\"white\",\"linecolor\":\"white\",\"showbackground\":true,\"ticks\":\"\",\"zerolinecolor\":\"white\",\"gridwidth\":2},\"yaxis\":{\"backgroundcolor\":\"#E5ECF6\",\"gridcolor\":\"white\",\"linecolor\":\"white\",\"showbackground\":true,\"ticks\":\"\",\"zerolinecolor\":\"white\",\"gridwidth\":2},\"zaxis\":{\"backgroundcolor\":\"#E5ECF6\",\"gridcolor\":\"white\",\"linecolor\":\"white\",\"showbackground\":true,\"ticks\":\"\",\"zerolinecolor\":\"white\",\"gridwidth\":2}},\"shapedefaults\":{\"line\":{\"color\":\"#2a3f5f\"}},\"annotationdefaults\":{\"arrowcolor\":\"#2a3f5f\",\"arrowhead\":0,\"arrowwidth\":1},\"geo\":{\"bgcolor\":\"white\",\"landcolor\":\"#E5ECF6\",\"subunitcolor\":\"white\",\"showland\":true,\"showlakes\":true,\"lakecolor\":\"white\"},\"title\":{\"x\":0.05},\"mapbox\":{\"style\":\"light\"}}},\"xaxis\":{\"anchor\":\"y\",\"domain\":[0.0,1.0],\"title\":{\"text\":\"fh_retiro\"}},\"yaxis\":{\"anchor\":\"x\",\"domain\":[0.0,1.0],\"title\":{\"text\":\"proportion\"}},\"legend\":{\"tracegroupgap\":0},\"title\":{\"text\":\"Proporci\\u00f3n Ecobici por hora\"}},                        {\"responsive\": true}                    ).then(function(){\n",
       "                            \n",
       "var gd = document.getElementById('f8879f49-9d2d-4509-9f01-2ed57b2a2630');\n",
       "var x = new MutationObserver(function (mutations, observer) {{\n",
       "        var display = window.getComputedStyle(gd).display;\n",
       "        if (!display || display === 'none') {{\n",
       "            console.log([gd, 'removed!']);\n",
       "            Plotly.purge(gd);\n",
       "            observer.disconnect();\n",
       "        }}\n",
       "}});\n",
       "\n",
       "// Listen for the removal of the full notebook cells\n",
       "var notebookContainer = gd.closest('#notebook-container');\n",
       "if (notebookContainer) {{\n",
       "    x.observe(notebookContainer, {childList: true});\n",
       "}}\n",
       "\n",
       "// Listen for the clearing of the current output cell\n",
       "var outputEl = gd.closest('.output');\n",
       "if (outputEl) {{\n",
       "    x.observe(outputEl, {childList: true});\n",
       "}}\n",
       "\n",
       "                        })                };            </script>        </div>"
      ]
     },
     "metadata": {},
     "output_type": "display_data"
    }
   ],
   "source": [
    "# Crear la gráfica de barras interactiva\n",
    "fig = px.line(df_horas_muestra.reset_index(), x='fh_retiro', y='proportion', title=\"Proporción Ecobici por hora\")\n",
    "\n",
    "# Agregar etiquetas a las barras\n",
    "#fig.update_traces(text=df_horas_muestra.reset_index()['proportion'].apply( lambda x: round(x,2) ) )\n",
    "\n",
    "fig.show()"
   ]
  },
  {
   "cell_type": "code",
   "execution_count": null,
   "id": "fe4e08af-6fce-406e-9bb2-436c343ad499",
   "metadata": {},
   "outputs": [],
   "source": []
  },
  {
   "cell_type": "code",
   "execution_count": null,
   "id": "b440af4f-a121-4551-bbf9-0634dc9e03b5",
   "metadata": {},
   "outputs": [],
   "source": []
  },
  {
   "cell_type": "code",
   "execution_count": null,
   "id": "9a279c9c-6602-47b0-a671-08d5a71507a0",
   "metadata": {},
   "outputs": [],
   "source": []
  },
  {
   "cell_type": "code",
   "execution_count": null,
   "id": "d2b55de9-54d8-4f19-8bdb-3b2ab7a640f2",
   "metadata": {},
   "outputs": [],
   "source": []
  },
  {
   "cell_type": "code",
   "execution_count": null,
   "id": "f53944bb-5c3a-42ce-82fc-cf969ef0c46b",
   "metadata": {},
   "outputs": [],
   "source": []
  },
  {
   "cell_type": "code",
   "execution_count": null,
   "id": "606412f4-7e9e-4c2d-9189-42e25a186daa",
   "metadata": {},
   "outputs": [],
   "source": []
  },
  {
   "cell_type": "code",
   "execution_count": null,
   "id": "4521a2ed-76e5-4d89-b9f7-b9b0998e4f2e",
   "metadata": {},
   "outputs": [],
   "source": []
  },
  {
   "cell_type": "code",
   "execution_count": null,
   "id": "0d1d004b-169c-4c95-bb1b-86278aace3e0",
   "metadata": {},
   "outputs": [],
   "source": []
  },
  {
   "cell_type": "code",
   "execution_count": null,
   "id": "556c356b-32aa-402e-ab20-faf70fceae7a",
   "metadata": {},
   "outputs": [],
   "source": []
  }
 ],
 "metadata": {
  "kernelspec": {
   "display_name": "Python (envG28)",
   "language": "python",
   "name": "envg28"
  },
  "language_info": {
   "codemirror_mode": {
    "name": "ipython",
    "version": 3
   },
   "file_extension": ".py",
   "mimetype": "text/x-python",
   "name": "python",
   "nbconvert_exporter": "python",
   "pygments_lexer": "ipython3",
   "version": "3.10.12"
  }
 },
 "nbformat": 4,
 "nbformat_minor": 5
}
