version https://git-lfs.github.com/spec/v1
oid sha256:f694afc1234495610d589fdde8096b95bcdce04112f46a7547c47673d57c3c1d
size 519364
