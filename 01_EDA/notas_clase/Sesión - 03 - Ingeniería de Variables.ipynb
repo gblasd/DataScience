{
 "cells": [
  {
   "cell_type": "code",
   "execution_count": 1,
   "id": "f5146564-6cf0-40d9-8d45-74e8d4e1aa54",
   "metadata": {},
   "outputs": [],
   "source": [
    "import pandas as pd\n",
    "import numpy as np"
   ]
  },
  {
   "cell_type": "code",
   "execution_count": 81,
   "id": "2f2dc22b-ea5f-4517-a6f4-e35f06745130",
   "metadata": {},
   "outputs": [],
   "source": [
    "from functools import reduce"
   ]
  },
  {
   "cell_type": "markdown",
   "id": "3d438182-0059-45c2-86ed-997e177093bf",
   "metadata": {},
   "source": [
    "# Lectura de Datos"
   ]
  },
  {
   "cell_type": "code",
   "execution_count": 2,
   "id": "67f29a17-7088-4dc9-a409-e78de73414ec",
   "metadata": {},
   "outputs": [],
   "source": [
    "df = pd.read_parquet('df_viajes_G28.parquet')"
   ]
  },
  {
   "cell_type": "code",
   "execution_count": 3,
   "id": "06489153-c946-45be-9f4c-b23c6fd6a5e0",
   "metadata": {},
   "outputs": [
    {
     "data": {
      "text/plain": [
       "(17104571, 7)"
      ]
     },
     "execution_count": 3,
     "metadata": {},
     "output_type": "execute_result"
    }
   ],
   "source": [
    "df.shape"
   ]
  },
  {
   "cell_type": "code",
   "execution_count": 4,
   "id": "9da26b26-37ad-4c9b-ab6b-6517bff09d14",
   "metadata": {},
   "outputs": [
    {
     "data": {
      "text/html": [
       "<div>\n",
       "<style scoped>\n",
       "    .dataframe tbody tr th:only-of-type {\n",
       "        vertical-align: middle;\n",
       "    }\n",
       "\n",
       "    .dataframe tbody tr th {\n",
       "        vertical-align: top;\n",
       "    }\n",
       "\n",
       "    .dataframe thead th {\n",
       "        text-align: right;\n",
       "    }\n",
       "</style>\n",
       "<table border=\"1\" class=\"dataframe\">\n",
       "  <thead>\n",
       "    <tr style=\"text-align: right;\">\n",
       "      <th></th>\n",
       "      <th>Genero_Usuario</th>\n",
       "      <th>Edad_Usuario</th>\n",
       "      <th>Bici</th>\n",
       "      <th>Ciclo_Estacion_Retiro</th>\n",
       "      <th>Ciclo_Estacion_Arribo</th>\n",
       "      <th>fh_retiro</th>\n",
       "      <th>fh_arribo</th>\n",
       "    </tr>\n",
       "  </thead>\n",
       "  <tbody>\n",
       "    <tr>\n",
       "      <th>0</th>\n",
       "      <td>M</td>\n",
       "      <td>44</td>\n",
       "      <td>10225</td>\n",
       "      <td>169</td>\n",
       "      <td>447</td>\n",
       "      <td>2017-11-01 00:00:09</td>\n",
       "      <td>2017-11-01 00:11:47</td>\n",
       "    </tr>\n",
       "    <tr>\n",
       "      <th>1</th>\n",
       "      <td>M</td>\n",
       "      <td>35</td>\n",
       "      <td>8106</td>\n",
       "      <td>359</td>\n",
       "      <td>338</td>\n",
       "      <td>2017-11-01 00:02:16</td>\n",
       "      <td>2017-11-01 00:05:54</td>\n",
       "    </tr>\n",
       "    <tr>\n",
       "      <th>2</th>\n",
       "      <td>M</td>\n",
       "      <td>27</td>\n",
       "      <td>10899</td>\n",
       "      <td>84</td>\n",
       "      <td>150</td>\n",
       "      <td>2017-11-01 00:02:54</td>\n",
       "      <td>2017-11-01 00:06:30</td>\n",
       "    </tr>\n",
       "    <tr>\n",
       "      <th>3</th>\n",
       "      <td>M</td>\n",
       "      <td>27</td>\n",
       "      <td>9931</td>\n",
       "      <td>137</td>\n",
       "      <td>182</td>\n",
       "      <td>2017-11-01 00:03:12</td>\n",
       "      <td>2017-11-01 00:19:02</td>\n",
       "    </tr>\n",
       "    <tr>\n",
       "      <th>4</th>\n",
       "      <td>M</td>\n",
       "      <td>23</td>\n",
       "      <td>8934</td>\n",
       "      <td>134</td>\n",
       "      <td>116</td>\n",
       "      <td>2017-11-01 00:03:54</td>\n",
       "      <td>2017-11-01 00:10:24</td>\n",
       "    </tr>\n",
       "  </tbody>\n",
       "</table>\n",
       "</div>"
      ],
      "text/plain": [
       "  Genero_Usuario  Edad_Usuario   Bici  Ciclo_Estacion_Retiro  \\\n",
       "0              M            44  10225                    169   \n",
       "1              M            35   8106                    359   \n",
       "2              M            27  10899                     84   \n",
       "3              M            27   9931                    137   \n",
       "4              M            23   8934                    134   \n",
       "\n",
       "   Ciclo_Estacion_Arribo           fh_retiro           fh_arribo  \n",
       "0                    447 2017-11-01 00:00:09 2017-11-01 00:11:47  \n",
       "1                    338 2017-11-01 00:02:16 2017-11-01 00:05:54  \n",
       "2                    150 2017-11-01 00:02:54 2017-11-01 00:06:30  \n",
       "3                    182 2017-11-01 00:03:12 2017-11-01 00:19:02  \n",
       "4                    116 2017-11-01 00:03:54 2017-11-01 00:10:24  "
      ]
     },
     "execution_count": 4,
     "metadata": {},
     "output_type": "execute_result"
    }
   ],
   "source": [
    "df.head()"
   ]
  },
  {
   "cell_type": "code",
   "execution_count": 5,
   "id": "409d5f01-b4d6-49db-97d6-655a9e8fcc1a",
   "metadata": {},
   "outputs": [
    {
     "data": {
      "text/plain": [
       "Genero_Usuario                   object\n",
       "Edad_Usuario                      int32\n",
       "Bici                             object\n",
       "Ciclo_Estacion_Retiro             int32\n",
       "Ciclo_Estacion_Arribo             int32\n",
       "fh_retiro                datetime64[ns]\n",
       "fh_arribo                datetime64[ns]\n",
       "dtype: object"
      ]
     },
     "execution_count": 5,
     "metadata": {},
     "output_type": "execute_result"
    }
   ],
   "source": [
    "df.dtypes"
   ]
  },
  {
   "cell_type": "markdown",
   "id": "d0412ed2-9f45-412e-8bab-3d67da61ea22",
   "metadata": {},
   "source": [
    "# Ingeniaría de Variables"
   ]
  },
  {
   "cell_type": "markdown",
   "id": "93aa3cba-b20a-4524-b078-3b02e7fbdefc",
   "metadata": {},
   "source": [
    "* Unidad Muestral .- Ciclo Estación en una fecha en una hora específica\n",
    "* Generar variables\n",
    "* Matriz de predictoras\n",
    "* Variables objetivo\n",
    "* Ventanas de tiempo\n",
    "* TAD"
   ]
  },
  {
   "cell_type": "code",
   "execution_count": 6,
   "id": "10375796-0772-4219-a3ee-7a4e9f1d4a82",
   "metadata": {},
   "outputs": [],
   "source": [
    "um = ['Ciclo_Estacion_Retiro','hrs']"
   ]
  },
  {
   "cell_type": "code",
   "execution_count": 8,
   "id": "7ca9ff4d-f0fe-4580-84d4-daf515454742",
   "metadata": {},
   "outputs": [],
   "source": [
    "df['hrs'] = df['fh_retiro'].map( lambda x: x.strftime('%Y%m%d%H')  ).astype(int)"
   ]
  },
  {
   "cell_type": "code",
   "execution_count": 9,
   "id": "ad966a59-8260-4b42-8e7c-19234985c0a4",
   "metadata": {},
   "outputs": [
    {
     "data": {
      "text/html": [
       "<div>\n",
       "<style scoped>\n",
       "    .dataframe tbody tr th:only-of-type {\n",
       "        vertical-align: middle;\n",
       "    }\n",
       "\n",
       "    .dataframe tbody tr th {\n",
       "        vertical-align: top;\n",
       "    }\n",
       "\n",
       "    .dataframe thead th {\n",
       "        text-align: right;\n",
       "    }\n",
       "</style>\n",
       "<table border=\"1\" class=\"dataframe\">\n",
       "  <thead>\n",
       "    <tr style=\"text-align: right;\">\n",
       "      <th></th>\n",
       "      <th>Genero_Usuario</th>\n",
       "      <th>Edad_Usuario</th>\n",
       "      <th>Bici</th>\n",
       "      <th>Ciclo_Estacion_Retiro</th>\n",
       "      <th>Ciclo_Estacion_Arribo</th>\n",
       "      <th>fh_retiro</th>\n",
       "      <th>fh_arribo</th>\n",
       "      <th>hrs</th>\n",
       "    </tr>\n",
       "  </thead>\n",
       "  <tbody>\n",
       "    <tr>\n",
       "      <th>0</th>\n",
       "      <td>M</td>\n",
       "      <td>44</td>\n",
       "      <td>10225</td>\n",
       "      <td>169</td>\n",
       "      <td>447</td>\n",
       "      <td>2017-11-01 00:00:09</td>\n",
       "      <td>2017-11-01 00:11:47</td>\n",
       "      <td>2017110100</td>\n",
       "    </tr>\n",
       "    <tr>\n",
       "      <th>1</th>\n",
       "      <td>M</td>\n",
       "      <td>35</td>\n",
       "      <td>8106</td>\n",
       "      <td>359</td>\n",
       "      <td>338</td>\n",
       "      <td>2017-11-01 00:02:16</td>\n",
       "      <td>2017-11-01 00:05:54</td>\n",
       "      <td>2017110100</td>\n",
       "    </tr>\n",
       "    <tr>\n",
       "      <th>2</th>\n",
       "      <td>M</td>\n",
       "      <td>27</td>\n",
       "      <td>10899</td>\n",
       "      <td>84</td>\n",
       "      <td>150</td>\n",
       "      <td>2017-11-01 00:02:54</td>\n",
       "      <td>2017-11-01 00:06:30</td>\n",
       "      <td>2017110100</td>\n",
       "    </tr>\n",
       "    <tr>\n",
       "      <th>3</th>\n",
       "      <td>M</td>\n",
       "      <td>27</td>\n",
       "      <td>9931</td>\n",
       "      <td>137</td>\n",
       "      <td>182</td>\n",
       "      <td>2017-11-01 00:03:12</td>\n",
       "      <td>2017-11-01 00:19:02</td>\n",
       "      <td>2017110100</td>\n",
       "    </tr>\n",
       "    <tr>\n",
       "      <th>4</th>\n",
       "      <td>M</td>\n",
       "      <td>23</td>\n",
       "      <td>8934</td>\n",
       "      <td>134</td>\n",
       "      <td>116</td>\n",
       "      <td>2017-11-01 00:03:54</td>\n",
       "      <td>2017-11-01 00:10:24</td>\n",
       "      <td>2017110100</td>\n",
       "    </tr>\n",
       "  </tbody>\n",
       "</table>\n",
       "</div>"
      ],
      "text/plain": [
       "  Genero_Usuario  Edad_Usuario   Bici  Ciclo_Estacion_Retiro  \\\n",
       "0              M            44  10225                    169   \n",
       "1              M            35   8106                    359   \n",
       "2              M            27  10899                     84   \n",
       "3              M            27   9931                    137   \n",
       "4              M            23   8934                    134   \n",
       "\n",
       "   Ciclo_Estacion_Arribo           fh_retiro           fh_arribo         hrs  \n",
       "0                    447 2017-11-01 00:00:09 2017-11-01 00:11:47  2017110100  \n",
       "1                    338 2017-11-01 00:02:16 2017-11-01 00:05:54  2017110100  \n",
       "2                    150 2017-11-01 00:02:54 2017-11-01 00:06:30  2017110100  \n",
       "3                    182 2017-11-01 00:03:12 2017-11-01 00:19:02  2017110100  \n",
       "4                    116 2017-11-01 00:03:54 2017-11-01 00:10:24  2017110100  "
      ]
     },
     "execution_count": 9,
     "metadata": {},
     "output_type": "execute_result"
    }
   ],
   "source": [
    "df.head()"
   ]
  },
  {
   "cell_type": "code",
   "execution_count": 11,
   "id": "65c74197-2175-4542-835a-0d081195259a",
   "metadata": {},
   "outputs": [],
   "source": [
    "# Agrupar los viajes para la demanda de ecobicis por estación de retiro en cada fecha-hora\n",
    "df_g = df.groupby( um )['Bici'].count().reset_index()"
   ]
  },
  {
   "cell_type": "code",
   "execution_count": 13,
   "id": "c60a2159-6e7e-475e-97fc-a2b00572c222",
   "metadata": {},
   "outputs": [
    {
     "data": {
      "text/html": [
       "<div>\n",
       "<style scoped>\n",
       "    .dataframe tbody tr th:only-of-type {\n",
       "        vertical-align: middle;\n",
       "    }\n",
       "\n",
       "    .dataframe tbody tr th {\n",
       "        vertical-align: top;\n",
       "    }\n",
       "\n",
       "    .dataframe thead th {\n",
       "        text-align: right;\n",
       "    }\n",
       "</style>\n",
       "<table border=\"1\" class=\"dataframe\">\n",
       "  <thead>\n",
       "    <tr style=\"text-align: right;\">\n",
       "      <th></th>\n",
       "      <th>Ciclo_Estacion_Retiro</th>\n",
       "      <th>hrs</th>\n",
       "      <th>Bici</th>\n",
       "    </tr>\n",
       "  </thead>\n",
       "  <tbody>\n",
       "    <tr>\n",
       "      <th>638548</th>\n",
       "      <td>56</td>\n",
       "      <td>2019080611</td>\n",
       "      <td>3</td>\n",
       "    </tr>\n",
       "    <tr>\n",
       "      <th>730480</th>\n",
       "      <td>64</td>\n",
       "      <td>2019060710</td>\n",
       "      <td>10</td>\n",
       "    </tr>\n",
       "    <tr>\n",
       "      <th>3349418</th>\n",
       "      <td>336</td>\n",
       "      <td>2019062706</td>\n",
       "      <td>1</td>\n",
       "    </tr>\n",
       "    <tr>\n",
       "      <th>2841515</th>\n",
       "      <td>280</td>\n",
       "      <td>2019091812</td>\n",
       "      <td>1</td>\n",
       "    </tr>\n",
       "    <tr>\n",
       "      <th>3452842</th>\n",
       "      <td>349</td>\n",
       "      <td>2019010416</td>\n",
       "      <td>4</td>\n",
       "    </tr>\n",
       "    <tr>\n",
       "      <th>1502022</th>\n",
       "      <td>138</td>\n",
       "      <td>2018101817</td>\n",
       "      <td>3</td>\n",
       "    </tr>\n",
       "    <tr>\n",
       "      <th>2038863</th>\n",
       "      <td>189</td>\n",
       "      <td>2018041316</td>\n",
       "      <td>2</td>\n",
       "    </tr>\n",
       "    <tr>\n",
       "      <th>820435</th>\n",
       "      <td>72</td>\n",
       "      <td>2018112108</td>\n",
       "      <td>13</td>\n",
       "    </tr>\n",
       "    <tr>\n",
       "      <th>1675795</th>\n",
       "      <td>153</td>\n",
       "      <td>2019022416</td>\n",
       "      <td>4</td>\n",
       "    </tr>\n",
       "    <tr>\n",
       "      <th>668893</th>\n",
       "      <td>59</td>\n",
       "      <td>2018112214</td>\n",
       "      <td>8</td>\n",
       "    </tr>\n",
       "  </tbody>\n",
       "</table>\n",
       "</div>"
      ],
      "text/plain": [
       "         Ciclo_Estacion_Retiro         hrs  Bici\n",
       "638548                      56  2019080611     3\n",
       "730480                      64  2019060710    10\n",
       "3349418                    336  2019062706     1\n",
       "2841515                    280  2019091812     1\n",
       "3452842                    349  2019010416     4\n",
       "1502022                    138  2018101817     3\n",
       "2038863                    189  2018041316     2\n",
       "820435                      72  2018112108    13\n",
       "1675795                    153  2019022416     4\n",
       "668893                      59  2018112214     8"
      ]
     },
     "execution_count": 13,
     "metadata": {},
     "output_type": "execute_result"
    }
   ],
   "source": [
    "df_g.sample(3)"
   ]
  },
  {
   "cell_type": "markdown",
   "id": "e7039a87-9389-4983-b8cb-ec077893993b",
   "metadata": {},
   "source": [
    "### Definición variables"
   ]
  },
  {
   "cell_type": "markdown",
   "id": "6706589e-4863-4ae5-ac2e-475848ecb76b",
   "metadata": {},
   "source": [
    "###### y = H( X )"
   ]
  },
  {
   "cell_type": "markdown",
   "id": "49c61891-4fb3-4fe7-8c97-b3962d400b5b",
   "metadata": {},
   "source": [
    "* Promedio de la edad en Ciclo estación fecha hora (por unidad muestral)\n",
    "* Porcentaje de hombres por UM\n",
    "* Número de hombres\n",
    "* Número de mujeres\n",
    "* Promedio de minutos de los viajes a nivel UM \n",
    "* Promedio, Max, min, desv, .... "
   ]
  },
  {
   "cell_type": "markdown",
   "id": "363e7c7f-d8dc-46b1-98f5-10ecdcf3831d",
   "metadata": {},
   "source": [
    "### Nomenclatura de variables:"
   ]
  },
  {
   "cell_type": "markdown",
   "id": "3f407451-680e-4928-a29b-e1aff75c1687",
   "metadata": {},
   "source": [
    "* v_ -> númericas\n",
    "* c_ -> categóricas\n",
    "* fh_ -> fechas\n",
    "* bl_ -> booleanas"
   ]
  },
  {
   "cell_type": "markdown",
   "id": "5adae801-2c94-482d-b9c0-a71b50040ab7",
   "metadata": {},
   "source": [
    "------------------------------------------------------------"
   ]
  },
  {
   "cell_type": "markdown",
   "id": "a5ce2ec1-bd92-4a0d-a2ba-d2c3892c39e0",
   "metadata": {},
   "source": [
    "# Construcción TAD"
   ]
  },
  {
   "cell_type": "markdown",
   "id": "715bd94f-1456-4d0f-a57f-9a6fb01087a8",
   "metadata": {},
   "source": [
    "## Variable Objetivo"
   ]
  },
  {
   "cell_type": "code",
   "execution_count": 17,
   "id": "00f2630e-d5d2-4da3-b7ef-0c8ca445acc5",
   "metadata": {},
   "outputs": [],
   "source": [
    "df_g.rename(columns={'Bici':'v_num_viajes'},inplace=True)"
   ]
  },
  {
   "cell_type": "code",
   "execution_count": 19,
   "id": "ade2d43d-e886-43bf-81d6-bc0f4ed8871d",
   "metadata": {},
   "outputs": [
    {
     "data": {
      "text/html": [
       "<div>\n",
       "<style scoped>\n",
       "    .dataframe tbody tr th:only-of-type {\n",
       "        vertical-align: middle;\n",
       "    }\n",
       "\n",
       "    .dataframe tbody tr th {\n",
       "        vertical-align: top;\n",
       "    }\n",
       "\n",
       "    .dataframe thead th {\n",
       "        text-align: right;\n",
       "    }\n",
       "</style>\n",
       "<table border=\"1\" class=\"dataframe\">\n",
       "  <thead>\n",
       "    <tr style=\"text-align: right;\">\n",
       "      <th></th>\n",
       "      <th>Ciclo_Estacion_Retiro</th>\n",
       "      <th>hrs</th>\n",
       "      <th>v_num_viajes</th>\n",
       "    </tr>\n",
       "  </thead>\n",
       "  <tbody>\n",
       "    <tr>\n",
       "      <th>0</th>\n",
       "      <td>1</td>\n",
       "      <td>2017103119</td>\n",
       "      <td>1</td>\n",
       "    </tr>\n",
       "    <tr>\n",
       "      <th>1</th>\n",
       "      <td>1</td>\n",
       "      <td>2017110105</td>\n",
       "      <td>3</td>\n",
       "    </tr>\n",
       "    <tr>\n",
       "      <th>2</th>\n",
       "      <td>1</td>\n",
       "      <td>2017110106</td>\n",
       "      <td>9</td>\n",
       "    </tr>\n",
       "    <tr>\n",
       "      <th>3</th>\n",
       "      <td>1</td>\n",
       "      <td>2017110107</td>\n",
       "      <td>14</td>\n",
       "    </tr>\n",
       "    <tr>\n",
       "      <th>4</th>\n",
       "      <td>1</td>\n",
       "      <td>2017110108</td>\n",
       "      <td>42</td>\n",
       "    </tr>\n",
       "  </tbody>\n",
       "</table>\n",
       "</div>"
      ],
      "text/plain": [
       "   Ciclo_Estacion_Retiro         hrs  v_num_viajes\n",
       "0                      1  2017103119             1\n",
       "1                      1  2017110105             3\n",
       "2                      1  2017110106             9\n",
       "3                      1  2017110107            14\n",
       "4                      1  2017110108            42"
      ]
     },
     "execution_count": 19,
     "metadata": {},
     "output_type": "execute_result"
    }
   ],
   "source": [
    "df_g.head()"
   ]
  },
  {
   "cell_type": "markdown",
   "id": "efd9f883-ef80-4efb-8aca-6b845f80b3e8",
   "metadata": {},
   "source": [
    "### Promedio de la edad"
   ]
  },
  {
   "cell_type": "code",
   "execution_count": 50,
   "id": "1e1530e4-4a8f-4e85-9ee4-5d5ad3365903",
   "metadata": {},
   "outputs": [],
   "source": [
    "df_prom_edad = df.groupby(um)['Edad_Usuario'].mean().reset_index()"
   ]
  },
  {
   "cell_type": "code",
   "execution_count": 66,
   "id": "e3f86582-01e0-4719-9e11-21ffa86e0153",
   "metadata": {},
   "outputs": [],
   "source": [
    "df_prom_edad.rename(columns={'Edad_Usuario':'v_edad_prom'},inplace=True)"
   ]
  },
  {
   "cell_type": "code",
   "execution_count": 67,
   "id": "05349e99-2b30-4227-9e2e-4ea59935a197",
   "metadata": {},
   "outputs": [
    {
     "data": {
      "text/html": [
       "<div>\n",
       "<style scoped>\n",
       "    .dataframe tbody tr th:only-of-type {\n",
       "        vertical-align: middle;\n",
       "    }\n",
       "\n",
       "    .dataframe tbody tr th {\n",
       "        vertical-align: top;\n",
       "    }\n",
       "\n",
       "    .dataframe thead th {\n",
       "        text-align: right;\n",
       "    }\n",
       "</style>\n",
       "<table border=\"1\" class=\"dataframe\">\n",
       "  <thead>\n",
       "    <tr style=\"text-align: right;\">\n",
       "      <th></th>\n",
       "      <th>Ciclo_Estacion_Retiro</th>\n",
       "      <th>hrs</th>\n",
       "      <th>v_edad_prom</th>\n",
       "    </tr>\n",
       "  </thead>\n",
       "  <tbody>\n",
       "    <tr>\n",
       "      <th>0</th>\n",
       "      <td>1</td>\n",
       "      <td>2017103119</td>\n",
       "      <td>35.000000</td>\n",
       "    </tr>\n",
       "    <tr>\n",
       "      <th>1</th>\n",
       "      <td>1</td>\n",
       "      <td>2017110105</td>\n",
       "      <td>35.666667</td>\n",
       "    </tr>\n",
       "  </tbody>\n",
       "</table>\n",
       "</div>"
      ],
      "text/plain": [
       "   Ciclo_Estacion_Retiro         hrs  v_edad_prom\n",
       "0                      1  2017103119    35.000000\n",
       "1                      1  2017110105    35.666667"
      ]
     },
     "execution_count": 67,
     "metadata": {},
     "output_type": "execute_result"
    }
   ],
   "source": [
    "df_prom_edad.head(2)"
   ]
  },
  {
   "cell_type": "markdown",
   "id": "1b11c90c-b118-4e33-8563-15c8ef3ab771",
   "metadata": {},
   "source": [
    "### Numeralia de genero"
   ]
  },
  {
   "cell_type": "code",
   "execution_count": null,
   "id": "cab13db0-7dfc-42c8-95df-62c6094ba2c3",
   "metadata": {},
   "outputs": [],
   "source": [
    "aux = df.pivot_table( index=um , columns=['Genero_Usuario'] , values=['Bici'] , aggfunc='count' , fill_value=0 )\n",
    "aux['v_personas_tot'] = aux.sum(axis=1)\n",
    "aux.columns = [c[0]+'_'+c[1] if c[1] != '' else c[0] for c in aux.columns]\n",
    "aux['v_pct_F'] = np.where( aux['v_personas_tot'] == 0 , 0, aux['Bici_F'] / aux['v_personas_tot'] )\n",
    "aux['v_pct_M'] = np.where( aux['v_personas_tot'] == 0 , 0, aux['Bici_M'] / aux['v_personas_tot'] )"
   ]
  },
  {
   "cell_type": "code",
   "execution_count": 46,
   "id": "5a6a5ae6-d5ac-4807-b48b-676606779b33",
   "metadata": {},
   "outputs": [],
   "source": [
    "df_pct_genero = aux.reset_index()"
   ]
  },
  {
   "cell_type": "code",
   "execution_count": 70,
   "id": "d386b9d0-825b-4482-b2f9-8ebe2a25935d",
   "metadata": {},
   "outputs": [],
   "source": [
    "df_pct_genero.rename(columns={'Bici_F':'v_F_tot','Bici_M':'v_M_tot'},inplace=True)"
   ]
  },
  {
   "cell_type": "code",
   "execution_count": 71,
   "id": "3f1eb83f-39e2-4ae6-bcd7-4928e7c2166b",
   "metadata": {},
   "outputs": [
    {
     "data": {
      "text/html": [
       "<div>\n",
       "<style scoped>\n",
       "    .dataframe tbody tr th:only-of-type {\n",
       "        vertical-align: middle;\n",
       "    }\n",
       "\n",
       "    .dataframe tbody tr th {\n",
       "        vertical-align: top;\n",
       "    }\n",
       "\n",
       "    .dataframe thead th {\n",
       "        text-align: right;\n",
       "    }\n",
       "</style>\n",
       "<table border=\"1\" class=\"dataframe\">\n",
       "  <thead>\n",
       "    <tr style=\"text-align: right;\">\n",
       "      <th></th>\n",
       "      <th>Ciclo_Estacion_Retiro</th>\n",
       "      <th>hrs</th>\n",
       "      <th>v_F_tot</th>\n",
       "      <th>v_M_tot</th>\n",
       "      <th>v_personas_tot</th>\n",
       "      <th>v_pct_F</th>\n",
       "      <th>v_pct_M</th>\n",
       "    </tr>\n",
       "  </thead>\n",
       "  <tbody>\n",
       "    <tr>\n",
       "      <th>0</th>\n",
       "      <td>1</td>\n",
       "      <td>2017103119</td>\n",
       "      <td>0</td>\n",
       "      <td>1</td>\n",
       "      <td>1</td>\n",
       "      <td>0.0</td>\n",
       "      <td>1.0</td>\n",
       "    </tr>\n",
       "    <tr>\n",
       "      <th>1</th>\n",
       "      <td>1</td>\n",
       "      <td>2017110105</td>\n",
       "      <td>0</td>\n",
       "      <td>3</td>\n",
       "      <td>3</td>\n",
       "      <td>0.0</td>\n",
       "      <td>1.0</td>\n",
       "    </tr>\n",
       "  </tbody>\n",
       "</table>\n",
       "</div>"
      ],
      "text/plain": [
       "   Ciclo_Estacion_Retiro         hrs  v_F_tot  v_M_tot  v_personas_tot  \\\n",
       "0                      1  2017103119        0        1               1   \n",
       "1                      1  2017110105        0        3               3   \n",
       "\n",
       "   v_pct_F  v_pct_M  \n",
       "0      0.0      1.0  \n",
       "1      0.0      1.0  "
      ]
     },
     "execution_count": 71,
     "metadata": {},
     "output_type": "execute_result"
    }
   ],
   "source": [
    "df_pct_genero.head(2)"
   ]
  },
  {
   "cell_type": "markdown",
   "id": "d3034d0f-267d-4ceb-9e4e-dd0439498e92",
   "metadata": {},
   "source": [
    "### Tiempo de viajes"
   ]
  },
  {
   "cell_type": "code",
   "execution_count": 55,
   "id": "da2f5616-7110-4529-97ce-419ccea656c2",
   "metadata": {},
   "outputs": [],
   "source": [
    "df['v_tiempo_viaje'] = (df['fh_arribo'] - df['fh_retiro']  ) / np.timedelta64(1,'m')"
   ]
  },
  {
   "cell_type": "code",
   "execution_count": 58,
   "id": "4cd057d0-b04c-4b51-a828-7f62e85092c9",
   "metadata": {},
   "outputs": [],
   "source": [
    "df_tiempos = df.groupby(um).agg({'v_tiempo_viaje':[ 'min', 'mean', 'max', 'std' ]}).reset_index()"
   ]
  },
  {
   "cell_type": "code",
   "execution_count": 62,
   "id": "728938f6-7335-4261-bde5-0a83560b953e",
   "metadata": {},
   "outputs": [],
   "source": [
    "df_tiempos.columns = [c[0]+'_'+c[1] if c[1] != '' else c[0] for c in df_tiempos.columns]"
   ]
  },
  {
   "cell_type": "code",
   "execution_count": 64,
   "id": "ae50f621-8e74-48ad-a8c2-97a6150d8e00",
   "metadata": {},
   "outputs": [
    {
     "data": {
      "text/html": [
       "<div>\n",
       "<style scoped>\n",
       "    .dataframe tbody tr th:only-of-type {\n",
       "        vertical-align: middle;\n",
       "    }\n",
       "\n",
       "    .dataframe tbody tr th {\n",
       "        vertical-align: top;\n",
       "    }\n",
       "\n",
       "    .dataframe thead th {\n",
       "        text-align: right;\n",
       "    }\n",
       "</style>\n",
       "<table border=\"1\" class=\"dataframe\">\n",
       "  <thead>\n",
       "    <tr style=\"text-align: right;\">\n",
       "      <th></th>\n",
       "      <th>Ciclo_Estacion_Retiro</th>\n",
       "      <th>hrs</th>\n",
       "      <th>v_tiempo_viaje_min</th>\n",
       "      <th>v_tiempo_viaje_mean</th>\n",
       "      <th>v_tiempo_viaje_max</th>\n",
       "      <th>v_tiempo_viaje_std</th>\n",
       "    </tr>\n",
       "  </thead>\n",
       "  <tbody>\n",
       "    <tr>\n",
       "      <th>0</th>\n",
       "      <td>1</td>\n",
       "      <td>2017103119</td>\n",
       "      <td>663.666667</td>\n",
       "      <td>663.666667</td>\n",
       "      <td>663.666667</td>\n",
       "      <td>NaN</td>\n",
       "    </tr>\n",
       "    <tr>\n",
       "      <th>1</th>\n",
       "      <td>1</td>\n",
       "      <td>2017110105</td>\n",
       "      <td>5.316667</td>\n",
       "      <td>8.077778</td>\n",
       "      <td>11.883333</td>\n",
       "      <td>3.405646</td>\n",
       "    </tr>\n",
       "  </tbody>\n",
       "</table>\n",
       "</div>"
      ],
      "text/plain": [
       "   Ciclo_Estacion_Retiro         hrs  v_tiempo_viaje_min  v_tiempo_viaje_mean  \\\n",
       "0                      1  2017103119          663.666667           663.666667   \n",
       "1                      1  2017110105            5.316667             8.077778   \n",
       "\n",
       "   v_tiempo_viaje_max  v_tiempo_viaje_std  \n",
       "0          663.666667                 NaN  \n",
       "1           11.883333            3.405646  "
      ]
     },
     "execution_count": 64,
     "metadata": {},
     "output_type": "execute_result"
    }
   ],
   "source": [
    "df_tiempos.head(2)"
   ]
  },
  {
   "cell_type": "markdown",
   "id": "0f838d95-be58-43b3-ad9b-598add177e8a",
   "metadata": {},
   "source": [
    "### Nivel demanda"
   ]
  },
  {
   "cell_type": "code",
   "execution_count": null,
   "id": "6b6ef82e-ccde-4f3c-9936-ed00e2bf4b3e",
   "metadata": {},
   "outputs": [],
   "source": [
    "# <=5 := BAJA\n",
    "# 5> <=10 := MEDIA\n",
    "# 10> := ALTA"
   ]
  },
  {
   "cell_type": "code",
   "execution_count": 73,
   "id": "474df23d-dc4d-4f39-9d51-dd419ad1aa17",
   "metadata": {},
   "outputs": [],
   "source": [
    "def func_demanda(num_viajes):\n",
    "\n",
    "    if num_viajes <= 5:\n",
    "        r = \"BAJA\"\n",
    "    elif num_viajes <= 10:\n",
    "        r = \"MEDIA\"\n",
    "    elif num_viajes > 10:\n",
    "        r = \"ALTA\"\n",
    "    else:\n",
    "        r = \"ERROR\"\n",
    "    \n",
    "    return r"
   ]
  },
  {
   "cell_type": "code",
   "execution_count": 78,
   "id": "4f936b07-a333-4909-844c-573ff5e013d0",
   "metadata": {},
   "outputs": [],
   "source": [
    "df_g['c_nivel_demanda'] = df_g['v_num_viajes'].map(lambda x: func_demanda(x) )"
   ]
  },
  {
   "cell_type": "code",
   "execution_count": 79,
   "id": "fd4de0b1-244b-436b-9676-1e06ddc9ef20",
   "metadata": {},
   "outputs": [
    {
     "data": {
      "text/html": [
       "<div>\n",
       "<style scoped>\n",
       "    .dataframe tbody tr th:only-of-type {\n",
       "        vertical-align: middle;\n",
       "    }\n",
       "\n",
       "    .dataframe tbody tr th {\n",
       "        vertical-align: top;\n",
       "    }\n",
       "\n",
       "    .dataframe thead th {\n",
       "        text-align: right;\n",
       "    }\n",
       "</style>\n",
       "<table border=\"1\" class=\"dataframe\">\n",
       "  <thead>\n",
       "    <tr style=\"text-align: right;\">\n",
       "      <th></th>\n",
       "      <th>Ciclo_Estacion_Retiro</th>\n",
       "      <th>hrs</th>\n",
       "      <th>v_num_viajes</th>\n",
       "      <th>c_nivel_demanda</th>\n",
       "    </tr>\n",
       "  </thead>\n",
       "  <tbody>\n",
       "    <tr>\n",
       "      <th>0</th>\n",
       "      <td>1</td>\n",
       "      <td>2017103119</td>\n",
       "      <td>1</td>\n",
       "      <td>BAJA</td>\n",
       "    </tr>\n",
       "    <tr>\n",
       "      <th>1</th>\n",
       "      <td>1</td>\n",
       "      <td>2017110105</td>\n",
       "      <td>3</td>\n",
       "      <td>BAJA</td>\n",
       "    </tr>\n",
       "    <tr>\n",
       "      <th>2</th>\n",
       "      <td>1</td>\n",
       "      <td>2017110106</td>\n",
       "      <td>9</td>\n",
       "      <td>MEDIA</td>\n",
       "    </tr>\n",
       "    <tr>\n",
       "      <th>3</th>\n",
       "      <td>1</td>\n",
       "      <td>2017110107</td>\n",
       "      <td>14</td>\n",
       "      <td>ALTA</td>\n",
       "    </tr>\n",
       "    <tr>\n",
       "      <th>4</th>\n",
       "      <td>1</td>\n",
       "      <td>2017110108</td>\n",
       "      <td>42</td>\n",
       "      <td>ALTA</td>\n",
       "    </tr>\n",
       "  </tbody>\n",
       "</table>\n",
       "</div>"
      ],
      "text/plain": [
       "   Ciclo_Estacion_Retiro         hrs  v_num_viajes c_nivel_demanda\n",
       "0                      1  2017103119             1            BAJA\n",
       "1                      1  2017110105             3            BAJA\n",
       "2                      1  2017110106             9           MEDIA\n",
       "3                      1  2017110107            14            ALTA\n",
       "4                      1  2017110108            42            ALTA"
      ]
     },
     "execution_count": 79,
     "metadata": {},
     "output_type": "execute_result"
    }
   ],
   "source": [
    "df_g.head()df_g"
   ]
  },
  {
   "cell_type": "markdown",
   "id": "df66b905-f887-46d9-b369-71cd5f5dea00",
   "metadata": {},
   "source": [
    "# Matriz de predictoras"
   ]
  },
  {
   "cell_type": "code",
   "execution_count": 82,
   "id": "d54ed36d-a9bb-412b-b010-030bac6406b3",
   "metadata": {},
   "outputs": [],
   "source": [
    "X_ = reduce( lambda x,y: pd.merge( x,y, on=um, how='outer' ) , [df_prom_edad, df_pct_genero, df_tiempos, df_g] )"
   ]
  },
  {
   "cell_type": "code",
   "execution_count": 83,
   "id": "28fbf216-bbed-46e8-94bb-b38413c442d7",
   "metadata": {},
   "outputs": [
    {
     "data": {
      "text/plain": [
       "(4409852, 14)"
      ]
     },
     "execution_count": 83,
     "metadata": {},
     "output_type": "execute_result"
    }
   ],
   "source": [
    "X_.shape"
   ]
  },
  {
   "cell_type": "code",
   "execution_count": 89,
   "id": "00cd6ab2-2fc6-4323-a57f-1dcaf4940018",
   "metadata": {},
   "outputs": [],
   "source": [
    "X_.rename(columns={'v_num_viajes':'y'},inplace=True)"
   ]
  },
  {
   "cell_type": "code",
   "execution_count": 90,
   "id": "13e441a3-d437-4e4d-8f7f-74a9979ab106",
   "metadata": {},
   "outputs": [],
   "source": [
    "X_.to_parquet(\"df_um_G28.parquet\")"
   ]
  },
  {
   "cell_type": "code",
   "execution_count": 95,
   "id": "c0d4a14b-1897-4af3-9f1e-22a1a6a6b807",
   "metadata": {},
   "outputs": [],
   "source": [
    "cols_X = [c for c in X_.columns.tolist() if c != 'y']"
   ]
  },
  {
   "cell_type": "code",
   "execution_count": 96,
   "id": "19e934c4-a879-4fee-9c03-fb258d312eb4",
   "metadata": {},
   "outputs": [
    {
     "data": {
      "text/html": [
       "<div>\n",
       "<style scoped>\n",
       "    .dataframe tbody tr th:only-of-type {\n",
       "        vertical-align: middle;\n",
       "    }\n",
       "\n",
       "    .dataframe tbody tr th {\n",
       "        vertical-align: top;\n",
       "    }\n",
       "\n",
       "    .dataframe thead th {\n",
       "        text-align: right;\n",
       "    }\n",
       "</style>\n",
       "<table border=\"1\" class=\"dataframe\">\n",
       "  <thead>\n",
       "    <tr style=\"text-align: right;\">\n",
       "      <th></th>\n",
       "      <th>Ciclo_Estacion_Retiro</th>\n",
       "      <th>hrs</th>\n",
       "      <th>v_edad_prom</th>\n",
       "      <th>v_F_tot</th>\n",
       "      <th>v_M_tot</th>\n",
       "      <th>v_personas_tot</th>\n",
       "      <th>v_pct_F</th>\n",
       "      <th>v_pct_M</th>\n",
       "      <th>v_tiempo_viaje_min</th>\n",
       "      <th>v_tiempo_viaje_mean</th>\n",
       "      <th>v_tiempo_viaje_max</th>\n",
       "      <th>v_tiempo_viaje_std</th>\n",
       "      <th>c_nivel_demanda</th>\n",
       "    </tr>\n",
       "  </thead>\n",
       "  <tbody>\n",
       "    <tr>\n",
       "      <th>0</th>\n",
       "      <td>1</td>\n",
       "      <td>2017103119</td>\n",
       "      <td>35.000000</td>\n",
       "      <td>0</td>\n",
       "      <td>1</td>\n",
       "      <td>1</td>\n",
       "      <td>0.000000</td>\n",
       "      <td>1.000000</td>\n",
       "      <td>663.666667</td>\n",
       "      <td>663.666667</td>\n",
       "      <td>663.666667</td>\n",
       "      <td>NaN</td>\n",
       "      <td>BAJA</td>\n",
       "    </tr>\n",
       "    <tr>\n",
       "      <th>1</th>\n",
       "      <td>1</td>\n",
       "      <td>2017110105</td>\n",
       "      <td>35.666667</td>\n",
       "      <td>0</td>\n",
       "      <td>3</td>\n",
       "      <td>3</td>\n",
       "      <td>0.000000</td>\n",
       "      <td>1.000000</td>\n",
       "      <td>5.316667</td>\n",
       "      <td>8.077778</td>\n",
       "      <td>11.883333</td>\n",
       "      <td>3.405646</td>\n",
       "      <td>BAJA</td>\n",
       "    </tr>\n",
       "    <tr>\n",
       "      <th>2</th>\n",
       "      <td>1</td>\n",
       "      <td>2017110106</td>\n",
       "      <td>29.555556</td>\n",
       "      <td>2</td>\n",
       "      <td>7</td>\n",
       "      <td>9</td>\n",
       "      <td>0.222222</td>\n",
       "      <td>0.777778</td>\n",
       "      <td>3.200000</td>\n",
       "      <td>31.333333</td>\n",
       "      <td>206.033333</td>\n",
       "      <td>65.718493</td>\n",
       "      <td>MEDIA</td>\n",
       "    </tr>\n",
       "    <tr>\n",
       "      <th>3</th>\n",
       "      <td>1</td>\n",
       "      <td>2017110107</td>\n",
       "      <td>37.285714</td>\n",
       "      <td>1</td>\n",
       "      <td>13</td>\n",
       "      <td>14</td>\n",
       "      <td>0.071429</td>\n",
       "      <td>0.928571</td>\n",
       "      <td>4.333333</td>\n",
       "      <td>11.029762</td>\n",
       "      <td>24.633333</td>\n",
       "      <td>6.082493</td>\n",
       "      <td>ALTA</td>\n",
       "    </tr>\n",
       "    <tr>\n",
       "      <th>4</th>\n",
       "      <td>1</td>\n",
       "      <td>2017110108</td>\n",
       "      <td>35.857143</td>\n",
       "      <td>11</td>\n",
       "      <td>31</td>\n",
       "      <td>42</td>\n",
       "      <td>0.261905</td>\n",
       "      <td>0.738095</td>\n",
       "      <td>3.450000</td>\n",
       "      <td>11.424603</td>\n",
       "      <td>35.066667</td>\n",
       "      <td>6.260715</td>\n",
       "      <td>ALTA</td>\n",
       "    </tr>\n",
       "    <tr>\n",
       "      <th>...</th>\n",
       "      <td>...</td>\n",
       "      <td>...</td>\n",
       "      <td>...</td>\n",
       "      <td>...</td>\n",
       "      <td>...</td>\n",
       "      <td>...</td>\n",
       "      <td>...</td>\n",
       "      <td>...</td>\n",
       "      <td>...</td>\n",
       "      <td>...</td>\n",
       "      <td>...</td>\n",
       "      <td>...</td>\n",
       "      <td>...</td>\n",
       "    </tr>\n",
       "    <tr>\n",
       "      <th>4409847</th>\n",
       "      <td>3001</td>\n",
       "      <td>2019031411</td>\n",
       "      <td>59.000000</td>\n",
       "      <td>0</td>\n",
       "      <td>4</td>\n",
       "      <td>4</td>\n",
       "      <td>0.000000</td>\n",
       "      <td>1.000000</td>\n",
       "      <td>4.133333</td>\n",
       "      <td>5.029167</td>\n",
       "      <td>5.850000</td>\n",
       "      <td>0.774402</td>\n",
       "      <td>BAJA</td>\n",
       "    </tr>\n",
       "    <tr>\n",
       "      <th>4409848</th>\n",
       "      <td>3001</td>\n",
       "      <td>2019080911</td>\n",
       "      <td>25.000000</td>\n",
       "      <td>0</td>\n",
       "      <td>1</td>\n",
       "      <td>1</td>\n",
       "      <td>0.000000</td>\n",
       "      <td>1.000000</td>\n",
       "      <td>4222.033333</td>\n",
       "      <td>4222.033333</td>\n",
       "      <td>4222.033333</td>\n",
       "      <td>NaN</td>\n",
       "      <td>BAJA</td>\n",
       "    </tr>\n",
       "    <tr>\n",
       "      <th>4409849</th>\n",
       "      <td>3001</td>\n",
       "      <td>2019090206</td>\n",
       "      <td>29.000000</td>\n",
       "      <td>0</td>\n",
       "      <td>1</td>\n",
       "      <td>1</td>\n",
       "      <td>0.000000</td>\n",
       "      <td>1.000000</td>\n",
       "      <td>33.550000</td>\n",
       "      <td>33.550000</td>\n",
       "      <td>33.550000</td>\n",
       "      <td>NaN</td>\n",
       "      <td>BAJA</td>\n",
       "    </tr>\n",
       "    <tr>\n",
       "      <th>4409850</th>\n",
       "      <td>3002</td>\n",
       "      <td>2019101014</td>\n",
       "      <td>32.000000</td>\n",
       "      <td>0</td>\n",
       "      <td>1</td>\n",
       "      <td>1</td>\n",
       "      <td>0.000000</td>\n",
       "      <td>1.000000</td>\n",
       "      <td>72.233333</td>\n",
       "      <td>72.233333</td>\n",
       "      <td>72.233333</td>\n",
       "      <td>NaN</td>\n",
       "      <td>BAJA</td>\n",
       "    </tr>\n",
       "    <tr>\n",
       "      <th>4409851</th>\n",
       "      <td>3002</td>\n",
       "      <td>2019101016</td>\n",
       "      <td>32.000000</td>\n",
       "      <td>0</td>\n",
       "      <td>2</td>\n",
       "      <td>2</td>\n",
       "      <td>0.000000</td>\n",
       "      <td>1.000000</td>\n",
       "      <td>6.100000</td>\n",
       "      <td>109.900000</td>\n",
       "      <td>213.700000</td>\n",
       "      <td>146.795368</td>\n",
       "      <td>BAJA</td>\n",
       "    </tr>\n",
       "  </tbody>\n",
       "</table>\n",
       "<p>4409852 rows × 13 columns</p>\n",
       "</div>"
      ],
      "text/plain": [
       "         Ciclo_Estacion_Retiro         hrs  v_edad_prom  v_F_tot  v_M_tot  \\\n",
       "0                            1  2017103119    35.000000        0        1   \n",
       "1                            1  2017110105    35.666667        0        3   \n",
       "2                            1  2017110106    29.555556        2        7   \n",
       "3                            1  2017110107    37.285714        1       13   \n",
       "4                            1  2017110108    35.857143       11       31   \n",
       "...                        ...         ...          ...      ...      ...   \n",
       "4409847                   3001  2019031411    59.000000        0        4   \n",
       "4409848                   3001  2019080911    25.000000        0        1   \n",
       "4409849                   3001  2019090206    29.000000        0        1   \n",
       "4409850                   3002  2019101014    32.000000        0        1   \n",
       "4409851                   3002  2019101016    32.000000        0        2   \n",
       "\n",
       "         v_personas_tot   v_pct_F   v_pct_M  v_tiempo_viaje_min  \\\n",
       "0                     1  0.000000  1.000000          663.666667   \n",
       "1                     3  0.000000  1.000000            5.316667   \n",
       "2                     9  0.222222  0.777778            3.200000   \n",
       "3                    14  0.071429  0.928571            4.333333   \n",
       "4                    42  0.261905  0.738095            3.450000   \n",
       "...                 ...       ...       ...                 ...   \n",
       "4409847               4  0.000000  1.000000            4.133333   \n",
       "4409848               1  0.000000  1.000000         4222.033333   \n",
       "4409849               1  0.000000  1.000000           33.550000   \n",
       "4409850               1  0.000000  1.000000           72.233333   \n",
       "4409851               2  0.000000  1.000000            6.100000   \n",
       "\n",
       "         v_tiempo_viaje_mean  v_tiempo_viaje_max  v_tiempo_viaje_std  \\\n",
       "0                 663.666667          663.666667                 NaN   \n",
       "1                   8.077778           11.883333            3.405646   \n",
       "2                  31.333333          206.033333           65.718493   \n",
       "3                  11.029762           24.633333            6.082493   \n",
       "4                  11.424603           35.066667            6.260715   \n",
       "...                      ...                 ...                 ...   \n",
       "4409847             5.029167            5.850000            0.774402   \n",
       "4409848          4222.033333         4222.033333                 NaN   \n",
       "4409849            33.550000           33.550000                 NaN   \n",
       "4409850            72.233333           72.233333                 NaN   \n",
       "4409851           109.900000          213.700000          146.795368   \n",
       "\n",
       "        c_nivel_demanda  \n",
       "0                  BAJA  \n",
       "1                  BAJA  \n",
       "2                 MEDIA  \n",
       "3                  ALTA  \n",
       "4                  ALTA  \n",
       "...                 ...  \n",
       "4409847            BAJA  \n",
       "4409848            BAJA  \n",
       "4409849            BAJA  \n",
       "4409850            BAJA  \n",
       "4409851            BAJA  \n",
       "\n",
       "[4409852 rows x 13 columns]"
      ]
     },
     "execution_count": 96,
     "metadata": {},
     "output_type": "execute_result"
    }
   ],
   "source": [
    "### UM + Variables predictoras = Matriz de predictoras\n",
    "X_[cols_X]"
   ]
  },
  {
   "cell_type": "code",
   "execution_count": 99,
   "id": "ca6cb985-298f-49cc-bbeb-1f70f3f2b688",
   "metadata": {},
   "outputs": [
    {
     "data": {
      "text/html": [
       "<div>\n",
       "<style scoped>\n",
       "    .dataframe tbody tr th:only-of-type {\n",
       "        vertical-align: middle;\n",
       "    }\n",
       "\n",
       "    .dataframe tbody tr th {\n",
       "        vertical-align: top;\n",
       "    }\n",
       "\n",
       "    .dataframe thead th {\n",
       "        text-align: right;\n",
       "    }\n",
       "</style>\n",
       "<table border=\"1\" class=\"dataframe\">\n",
       "  <thead>\n",
       "    <tr style=\"text-align: right;\">\n",
       "      <th></th>\n",
       "      <th>Ciclo_Estacion_Retiro</th>\n",
       "      <th>hrs</th>\n",
       "      <th>y</th>\n",
       "    </tr>\n",
       "  </thead>\n",
       "  <tbody>\n",
       "    <tr>\n",
       "      <th>0</th>\n",
       "      <td>1</td>\n",
       "      <td>2017103119</td>\n",
       "      <td>1</td>\n",
       "    </tr>\n",
       "    <tr>\n",
       "      <th>1</th>\n",
       "      <td>1</td>\n",
       "      <td>2017110105</td>\n",
       "      <td>3</td>\n",
       "    </tr>\n",
       "    <tr>\n",
       "      <th>2</th>\n",
       "      <td>1</td>\n",
       "      <td>2017110106</td>\n",
       "      <td>9</td>\n",
       "    </tr>\n",
       "    <tr>\n",
       "      <th>3</th>\n",
       "      <td>1</td>\n",
       "      <td>2017110107</td>\n",
       "      <td>14</td>\n",
       "    </tr>\n",
       "    <tr>\n",
       "      <th>4</th>\n",
       "      <td>1</td>\n",
       "      <td>2017110108</td>\n",
       "      <td>42</td>\n",
       "    </tr>\n",
       "    <tr>\n",
       "      <th>...</th>\n",
       "      <td>...</td>\n",
       "      <td>...</td>\n",
       "      <td>...</td>\n",
       "    </tr>\n",
       "    <tr>\n",
       "      <th>4409847</th>\n",
       "      <td>3001</td>\n",
       "      <td>2019031411</td>\n",
       "      <td>4</td>\n",
       "    </tr>\n",
       "    <tr>\n",
       "      <th>4409848</th>\n",
       "      <td>3001</td>\n",
       "      <td>2019080911</td>\n",
       "      <td>1</td>\n",
       "    </tr>\n",
       "    <tr>\n",
       "      <th>4409849</th>\n",
       "      <td>3001</td>\n",
       "      <td>2019090206</td>\n",
       "      <td>1</td>\n",
       "    </tr>\n",
       "    <tr>\n",
       "      <th>4409850</th>\n",
       "      <td>3002</td>\n",
       "      <td>2019101014</td>\n",
       "      <td>1</td>\n",
       "    </tr>\n",
       "    <tr>\n",
       "      <th>4409851</th>\n",
       "      <td>3002</td>\n",
       "      <td>2019101016</td>\n",
       "      <td>2</td>\n",
       "    </tr>\n",
       "  </tbody>\n",
       "</table>\n",
       "<p>4409852 rows × 3 columns</p>\n",
       "</div>"
      ],
      "text/plain": [
       "         Ciclo_Estacion_Retiro         hrs   y\n",
       "0                            1  2017103119   1\n",
       "1                            1  2017110105   3\n",
       "2                            1  2017110106   9\n",
       "3                            1  2017110107  14\n",
       "4                            1  2017110108  42\n",
       "...                        ...         ...  ..\n",
       "4409847                   3001  2019031411   4\n",
       "4409848                   3001  2019080911   1\n",
       "4409849                   3001  2019090206   1\n",
       "4409850                   3002  2019101014   1\n",
       "4409851                   3002  2019101016   2\n",
       "\n",
       "[4409852 rows x 3 columns]"
      ]
     },
     "execution_count": 99,
     "metadata": {},
     "output_type": "execute_result"
    }
   ],
   "source": [
    "### UM + Varaible objetivo\n",
    "X_[um + ['y']]"
   ]
  },
  {
   "cell_type": "markdown",
   "id": "c6db5555-c9d1-4f4f-9884-f2fa6bd16898",
   "metadata": {},
   "source": [
    "# Catálogo de tiempo"
   ]
  },
  {
   "cell_type": "code",
   "execution_count": null,
   "id": "0e11cae0-a936-45dc-a376-4e48d65d9060",
   "metadata": {},
   "outputs": [],
   "source": []
  }
 ],
 "metadata": {
  "kernelspec": {
   "display_name": "Python 3 (ipykernel)",
   "language": "python",
   "name": "python3"
  },
  "language_info": {
   "codemirror_mode": {
    "name": "ipython",
    "version": 3
   },
   "file_extension": ".py",
   "mimetype": "text/x-python",
   "name": "python",
   "nbconvert_exporter": "python",
   "pygments_lexer": "ipython3",
   "version": "3.10.12"
  }
 },
 "nbformat": 4,
 "nbformat_minor": 5
}
