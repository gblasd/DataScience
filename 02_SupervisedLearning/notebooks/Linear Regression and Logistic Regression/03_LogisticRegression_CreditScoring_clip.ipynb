version https://git-lfs.github.com/spec/v1
oid sha256:05c19bdb6398ac7f3b2bdd5f7208bdbabaf39e2793982acca7796d1427d7eb72
size 1262767
