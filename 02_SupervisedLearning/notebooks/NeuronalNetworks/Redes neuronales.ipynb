{
 "cells": [
  {
   "cell_type": "markdown",
   "metadata": {},
   "source": [
    "# Neuronal Networks"
   ]
  },
  {
   "cell_type": "markdown",
   "metadata": {
    "jp-MarkdownHeadingCollapsed": true
   },
   "source": [
    "### Load Modules"
   ]
  },
  {
   "cell_type": "code",
   "execution_count": 10,
   "metadata": {
    "ExecuteTime": {
     "end_time": "2020-08-10T19:59:39.868869Z",
     "start_time": "2020-08-10T19:59:36.361219Z"
    }
   },
   "outputs": [],
   "source": [
    "import numpy as np\n",
    "import pandas as pd\n",
    "from PIL import Image\n",
    "#from mnist import MNIST\n",
    "from sklearn.neural_network import MLPClassifier\n",
    "from sklearn.model_selection import RandomizedSearchCV,train_test_split, cross_val_score"
   ]
  },
  {
   "cell_type": "markdown",
   "metadata": {
    "jp-MarkdownHeadingCollapsed": true
   },
   "source": [
    "### Funciones relevantes"
   ]
  },
  {
   "cell_type": "code",
   "execution_count": 2,
   "metadata": {
    "ExecuteTime": {
     "end_time": "2020-08-10T19:59:41.950393Z",
     "start_time": "2020-08-10T19:59:41.934962Z"
    }
   },
   "outputs": [],
   "source": [
    "def print_data(data):\n",
    "    for row in data:\n",
    "        print(''.join('{:3}'.format(value) for value in row))"
   ]
  },
  {
   "cell_type": "code",
   "execution_count": 3,
   "metadata": {
    "ExecuteTime": {
     "end_time": "2020-08-10T19:59:42.382839Z",
     "start_time": "2020-08-10T19:59:42.365769Z"
    }
   },
   "outputs": [],
   "source": [
    "def get_data(number):\n",
    "    img = Image.open('sample%d_black_r.png'%(number)).convert('L')\n",
    "    img_arr = np.array(img)\n",
    "    WIDTH, HEIGHT = img.size\n",
    "    data = list(img.getdata())\n",
    "    data = [data[offset:offset+WIDTH] for offset in range(0, WIDTH*HEIGHT, WIDTH)]\n",
    "    return data"
   ]
  },
  {
   "cell_type": "code",
   "execution_count": 4,
   "metadata": {
    "ExecuteTime": {
     "end_time": "2020-08-10T19:59:43.872597Z",
     "start_time": "2020-08-10T19:59:43.863292Z"
    }
   },
   "outputs": [],
   "source": [
    "def flatten_data(data):\n",
    "    return[np.reshape(data, (28*28,))]"
   ]
  },
  {
   "cell_type": "code",
   "execution_count": 5,
   "metadata": {
    "ExecuteTime": {
     "end_time": "2020-08-10T19:59:44.148990Z",
     "start_time": "2020-08-10T19:59:44.141624Z"
    }
   },
   "outputs": [],
   "source": [
    "def classification_metrics(X, y, estimator):\n",
    "    ls_scores_roc = cross_val_score(estimator=estimator, X=X, y=y, scoring=\"roc_auc\", n_jobs=-1, cv=4)\n",
    "    print(f\"ROC media: {np.mean(ls_scores_roc):,.2f}, desviación estándar: {np.std(ls_scores_roc)}\")"
   ]
  },
  {
   "cell_type": "markdown",
   "metadata": {},
   "source": [
    "## Carga de datos"
   ]
  },
  {
   "cell_type": "markdown",
   "metadata": {
    "jp-MarkdownHeadingCollapsed": true
   },
   "source": [
    "### Set de entrenamiento"
   ]
  },
  {
   "cell_type": "code",
   "execution_count": 8,
   "metadata": {
    "ExecuteTime": {
     "end_time": "2020-08-10T20:05:33.809248Z",
     "start_time": "2020-08-10T20:05:33.791923Z"
    },
    "scrolled": true
   },
   "outputs": [
    {
     "ename": "NameError",
     "evalue": "name 'MNIST' is not defined",
     "output_type": "error",
     "traceback": [
      "\u001b[0;31m---------------------------------------------------------------------------\u001b[0m",
      "\u001b[0;31mNameError\u001b[0m                                 Traceback (most recent call last)",
      "Cell \u001b[0;32mIn[8], line 1\u001b[0m\n\u001b[0;32m----> 1\u001b[0m mndata \u001b[38;5;241m=\u001b[39m \u001b[43mMNIST\u001b[49m(\u001b[38;5;124m'\u001b[39m\u001b[38;5;124mletters/\u001b[39m\u001b[38;5;124m'\u001b[39m)\n\u001b[1;32m      2\u001b[0m mndata\u001b[38;5;241m.\u001b[39mselect_emnist(\u001b[38;5;124m\"\u001b[39m\u001b[38;5;124mletters\u001b[39m\u001b[38;5;124m\"\u001b[39m)\n",
      "\u001b[0;31mNameError\u001b[0m: name 'MNIST' is not defined"
     ]
    }
   ],
   "source": [
    "mndata = MNIST('letters/')\n",
    "mndata.select_emnist(\"letters\")"
   ]
  },
  {
   "cell_type": "code",
   "execution_count": null,
   "metadata": {
    "ExecuteTime": {
     "end_time": "2020-08-10T20:05:33.809248Z",
     "start_time": "2020-08-10T20:05:33.791923Z"
    },
    "scrolled": true
   },
   "outputs": [],
   "source": [
    "#images, labels = mndata.load_testing()\n",
    "images, labels = mndata.load_training()"
   ]
  },
  {
   "cell_type": "markdown",
   "metadata": {
    "jp-MarkdownHeadingCollapsed": true
   },
   "source": [
    "#### Convirtiendo a DataFrame"
   ]
  },
  {
   "cell_type": "code",
   "execution_count": null,
   "metadata": {
    "ExecuteTime": {
     "end_time": "2020-07-04T15:24:19.312304Z",
     "start_time": "2020-07-04T15:23:42.969291Z"
    }
   },
   "outputs": [],
   "source": [
    "train = pd.DataFrame(data=images, columns=[f\"{i+1}x{j+1}\" for i in range(28) for j in range(28)])"
   ]
  },
  {
   "cell_type": "code",
   "execution_count": null,
   "metadata": {
    "ExecuteTime": {
     "end_time": "2020-07-04T15:24:19.350578Z",
     "start_time": "2020-07-04T15:24:19.314066Z"
    }
   },
   "outputs": [],
   "source": [
    "train.head()"
   ]
  },
  {
   "cell_type": "code",
   "execution_count": null,
   "metadata": {
    "ExecuteTime": {
     "end_time": "2020-07-04T15:25:09.806668Z",
     "start_time": "2020-07-04T15:25:09.767403Z"
    }
   },
   "outputs": [],
   "source": [
    "train[\"letter\"] = [chr(ord('@')+x) for x in labels]"
   ]
  },
  {
   "cell_type": "code",
   "execution_count": null,
   "metadata": {
    "scrolled": true
   },
   "outputs": [],
   "source": [
    "labels"
   ]
  },
  {
   "cell_type": "code",
   "execution_count": null,
   "metadata": {},
   "outputs": [],
   "source": [
    "train.head()"
   ]
  },
  {
   "cell_type": "code",
   "execution_count": null,
   "metadata": {
    "ExecuteTime": {
     "end_time": "2020-07-04T15:25:14.912786Z",
     "start_time": "2020-07-04T15:25:11.771272Z"
    }
   },
   "outputs": [],
   "source": [
    "images, labels = mndata.load_testing()"
   ]
  },
  {
   "cell_type": "code",
   "execution_count": null,
   "metadata": {},
   "outputs": [],
   "source": [
    "train.head()"
   ]
  },
  {
   "cell_type": "code",
   "execution_count": null,
   "metadata": {
    "ExecuteTime": {
     "end_time": "2020-07-04T15:26:19.467702Z",
     "start_time": "2020-07-04T15:26:19.451295Z"
    }
   },
   "outputs": [],
   "source": [
    "print_data(np.reshape(train.loc[0, [x for x in train.columns if x != \"letter\"]].values, (28, 28)))"
   ]
  },
  {
   "cell_type": "code",
   "execution_count": null,
   "metadata": {
    "ExecuteTime": {
     "end_time": "2020-07-04T15:25:21.083613Z",
     "start_time": "2020-07-04T15:25:14.914988Z"
    }
   },
   "outputs": [],
   "source": [
    "val = pd.DataFrame(data=images, columns=[f\"{i+1}x{j+1}\" for i in range(28) for j in range(28)])\n",
    "val[\"letter\"] = [chr(ord('@')+x) for x in labels]"
   ]
  },
  {
   "cell_type": "code",
   "execution_count": null,
   "metadata": {},
   "outputs": [],
   "source": [
    "val.head()"
   ]
  },
  {
   "cell_type": "markdown",
   "metadata": {
    "jp-MarkdownHeadingCollapsed": true
   },
   "source": [
    "### EDA"
   ]
  },
  {
   "cell_type": "code",
   "execution_count": null,
   "metadata": {
    "ExecuteTime": {
     "end_time": "2020-07-04T15:26:42.760173Z",
     "start_time": "2020-07-04T15:26:42.639994Z"
    },
    "scrolled": true
   },
   "outputs": [],
   "source": [
    "for i in range(0, 21600, 800):\n",
    "    print_data(np.reshape(images[i], (28, 28)))\n",
    "    print(\"\\n\\n\")"
   ]
  },
  {
   "cell_type": "code",
   "execution_count": null,
   "metadata": {
    "ExecuteTime": {
     "end_time": "2020-07-04T15:27:33.870349Z",
     "start_time": "2020-07-04T15:27:33.766504Z"
    },
    "scrolled": true
   },
   "outputs": [],
   "source": [
    "train[\"letter\"].value_counts(True)"
   ]
  },
  {
   "cell_type": "markdown",
   "metadata": {
    "jp-MarkdownHeadingCollapsed": true
   },
   "source": [
    "### Separación de set"
   ]
  },
  {
   "cell_type": "code",
   "execution_count": null,
   "metadata": {
    "ExecuteTime": {
     "end_time": "2020-07-04T15:27:56.671645Z",
     "start_time": "2020-07-04T15:27:56.236006Z"
    }
   },
   "outputs": [],
   "source": [
    "xo_train = train[train[\"letter\"].isin([\"O\", \"X\"])]"
   ]
  },
  {
   "cell_type": "code",
   "execution_count": null,
   "metadata": {},
   "outputs": [],
   "source": [
    "xo_train.sample(6)"
   ]
  },
  {
   "cell_type": "code",
   "execution_count": null,
   "metadata": {},
   "outputs": [],
   "source": [
    "xo_train.shape"
   ]
  },
  {
   "cell_type": "code",
   "execution_count": null,
   "metadata": {
    "ExecuteTime": {
     "end_time": "2020-07-04T15:28:01.084487Z",
     "start_time": "2020-07-04T15:27:59.922921Z"
    }
   },
   "outputs": [],
   "source": [
    "xo_train.to_csv(\"xo_train.csv\", index = False)"
   ]
  },
  {
   "cell_type": "code",
   "execution_count": null,
   "metadata": {
    "ExecuteTime": {
     "end_time": "2020-07-04T15:28:15.289660Z",
     "start_time": "2020-07-04T15:28:15.063722Z"
    }
   },
   "outputs": [],
   "source": [
    "xo_val = val[val[\"letter\"].isin([\"O\", \"X\"])]\n",
    "xo_val.to_csv(\"xo_val.csv\", index = False)"
   ]
  },
  {
   "cell_type": "code",
   "execution_count": null,
   "metadata": {
    "ExecuteTime": {
     "end_time": "2020-07-04T15:28:24.375718Z",
     "start_time": "2020-07-04T15:28:24.138858Z"
    }
   },
   "outputs": [],
   "source": [
    "X = xo_train[[x for x in xo_train.columns if x != \"letter\"]]\n",
    "y = xo_train[\"letter\"]"
   ]
  },
  {
   "cell_type": "code",
   "execution_count": null,
   "metadata": {},
   "outputs": [],
   "source": [
    "X.head()"
   ]
  },
  {
   "cell_type": "code",
   "execution_count": null,
   "metadata": {
    "ExecuteTime": {
     "end_time": "2020-07-04T15:28:35.780388Z",
     "start_time": "2020-07-04T15:28:35.645145Z"
    }
   },
   "outputs": [],
   "source": [
    "X_train, X_test, y_train, y_test = train_test_split(X, y, train_size = 0.7)"
   ]
  },
  {
   "cell_type": "code",
   "execution_count": null,
   "metadata": {
    "ExecuteTime": {
     "end_time": "2020-07-04T15:28:35.780388Z",
     "start_time": "2020-07-04T15:28:35.645145Z"
    }
   },
   "outputs": [],
   "source": [
    "X_val = xo_val[[x for x in xo_val.columns if x != \"letter\"]]\n",
    "y_val = xo_val[\"letter\"]"
   ]
  },
  {
   "cell_type": "markdown",
   "metadata": {},
   "source": [
    "## Modelado"
   ]
  },
  {
   "cell_type": "markdown",
   "metadata": {
    "jp-MarkdownHeadingCollapsed": true
   },
   "source": [
    "### Cross validation"
   ]
  },
  {
   "cell_type": "code",
   "execution_count": null,
   "metadata": {
    "ExecuteTime": {
     "end_time": "2020-07-04T15:28:43.576012Z",
     "start_time": "2020-07-04T15:28:43.571127Z"
    }
   },
   "outputs": [],
   "source": [
    "mlp = MLPClassifier(max_iter=100)"
   ]
  },
  {
   "cell_type": "code",
   "execution_count": null,
   "metadata": {
    "ExecuteTime": {
     "end_time": "2020-07-04T15:28:56.362647Z",
     "start_time": "2020-07-04T15:28:43.935897Z"
    }
   },
   "outputs": [],
   "source": [
    "mlp.fit(X_train, y_train)"
   ]
  },
  {
   "cell_type": "code",
   "execution_count": null,
   "metadata": {
    "ExecuteTime": {
     "end_time": "2020-07-04T15:29:04.739870Z",
     "start_time": "2020-07-04T15:28:56.366181Z"
    }
   },
   "outputs": [],
   "source": [
    "classification_metrics(X=X_train, y=y_train, estimator=mlp)"
   ]
  },
  {
   "cell_type": "code",
   "execution_count": null,
   "metadata": {
    "ExecuteTime": {
     "end_time": "2020-07-04T15:29:04.824464Z",
     "start_time": "2020-07-04T15:29:04.743385Z"
    }
   },
   "outputs": [],
   "source": [
    "mlp.score(X_test, y_test)"
   ]
  },
  {
   "cell_type": "code",
   "execution_count": null,
   "metadata": {
    "ExecuteTime": {
     "end_time": "2020-07-04T15:29:04.899107Z",
     "start_time": "2020-07-04T15:29:04.828173Z"
    }
   },
   "outputs": [],
   "source": [
    "mlp.score(X_val, y_val)"
   ]
  },
  {
   "cell_type": "markdown",
   "metadata": {
    "jp-MarkdownHeadingCollapsed": true
   },
   "source": [
    "### Hyperparametrización"
   ]
  },
  {
   "cell_type": "code",
   "execution_count": null,
   "metadata": {
    "ExecuteTime": {
     "end_time": "2020-07-04T15:29:04.959305Z",
     "start_time": "2020-07-04T15:29:04.922991Z"
    }
   },
   "outputs": [],
   "source": [
    "param_grid = {\n",
    "    'hidden_layer_sizes': [(50,50,50), (50,100,50), (100,)],\n",
    "    'activation': ['tanh', 'relu'],\n",
    "    'solver': ['sgd', 'adam'],\n",
    "    'alpha': [0.0001, 0.05],\n",
    "    'learning_rate': ['constant','adaptive'],\n",
    "}"
   ]
  },
  {
   "cell_type": "code",
   "execution_count": null,
   "metadata": {
    "ExecuteTime": {
     "end_time": "2020-07-04T15:29:05.059145Z",
     "start_time": "2020-07-04T15:29:04.962328Z"
    }
   },
   "outputs": [],
   "source": [
    "search = RandomizedSearchCV(param_distributions=param_grid, cv=4, n_jobs=-1, scoring=\"roc_auc\", estimator=mlp, n_iter=10, verbose=5)"
   ]
  },
  {
   "cell_type": "code",
   "execution_count": null,
   "metadata": {
    "ExecuteTime": {
     "end_time": "2020-07-04T15:32:36.379386Z",
     "start_time": "2020-07-04T15:29:05.063507Z"
    },
    "scrolled": true
   },
   "outputs": [],
   "source": [
    "search.fit(X=xo_train[[x for x in xo_train if x != \"letter\"]], y=xo_train[\"letter\"])"
   ]
  },
  {
   "cell_type": "code",
   "execution_count": null,
   "metadata": {
    "ExecuteTime": {
     "end_time": "2020-07-04T15:32:36.441191Z",
     "start_time": "2020-07-04T15:32:36.383541Z"
    }
   },
   "outputs": [],
   "source": [
    "search.best_estimator_"
   ]
  },
  {
   "cell_type": "code",
   "execution_count": null,
   "metadata": {
    "ExecuteTime": {
     "end_time": "2020-07-04T15:33:02.046241Z",
     "start_time": "2020-07-04T15:33:02.042614Z"
    }
   },
   "outputs": [],
   "source": [
    "search.best_score_"
   ]
  },
  {
   "cell_type": "code",
   "execution_count": null,
   "metadata": {
    "ExecuteTime": {
     "end_time": "2020-07-04T15:33:07.235782Z",
     "start_time": "2020-07-04T15:33:07.162982Z"
    }
   },
   "outputs": [],
   "source": [
    "search.score(X_test, y_test)"
   ]
  },
  {
   "cell_type": "code",
   "execution_count": null,
   "metadata": {
    "ExecuteTime": {
     "end_time": "2020-07-04T15:33:09.566348Z",
     "start_time": "2020-07-04T15:33:09.530902Z"
    },
    "scrolled": true
   },
   "outputs": [],
   "source": [
    "search.score(X_val, y_val)"
   ]
  },
  {
   "cell_type": "markdown",
   "metadata": {
    "jp-MarkdownHeadingCollapsed": true
   },
   "source": [
    "### Preservación de modelo ganador"
   ]
  },
  {
   "cell_type": "code",
   "execution_count": null,
   "metadata": {
    "ExecuteTime": {
     "end_time": "2020-07-04T15:33:24.836895Z",
     "start_time": "2020-07-04T15:33:24.626984Z"
    }
   },
   "outputs": [],
   "source": [
    "pd.to_pickle(search.best_estimator_, \"rnn_tictactoe.pickle\")"
   ]
  },
  {
   "cell_type": "markdown",
   "metadata": {
    "jp-MarkdownHeadingCollapsed": true
   },
   "source": [
    "### Evaluación"
   ]
  },
  {
   "cell_type": "code",
   "execution_count": null,
   "metadata": {},
   "outputs": [],
   "source": [
    "X_val.sample(10)"
   ]
  },
  {
   "cell_type": "code",
   "execution_count": null,
   "metadata": {},
   "outputs": [],
   "source": [
    "n= 18734"
   ]
  },
  {
   "cell_type": "code",
   "execution_count": null,
   "metadata": {
    "scrolled": true
   },
   "outputs": [],
   "source": [
    "X_val.loc[n]"
   ]
  },
  {
   "cell_type": "code",
   "execution_count": null,
   "metadata": {},
   "outputs": [],
   "source": [
    "y_val.loc[n]"
   ]
  },
  {
   "cell_type": "code",
   "execution_count": null,
   "metadata": {
    "scrolled": true
   },
   "outputs": [],
   "source": [
    "search.best_estimator_.predict(X_val.loc[[n]])"
   ]
  },
  {
   "cell_type": "code",
   "execution_count": null,
   "metadata": {},
   "outputs": [],
   "source": []
  },
  {
   "cell_type": "code",
   "execution_count": null,
   "metadata": {},
   "outputs": [],
   "source": []
  }
 ],
 "metadata": {
  "hide_input": false,
  "kernelspec": {
   "display_name": ".venv",
   "language": "python",
   "name": "python3"
  },
  "language_info": {
   "codemirror_mode": {
    "name": "ipython",
    "version": 3
   },
   "file_extension": ".py",
   "mimetype": "text/x-python",
   "name": "python",
   "nbconvert_exporter": "python",
   "pygments_lexer": "ipython3",
   "version": "3.13.2"
  }
 },
 "nbformat": 4,
 "nbformat_minor": 4
}
