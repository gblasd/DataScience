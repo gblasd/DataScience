{
  "cells": [
    {
      "cell_type": "markdown",
      "metadata": {
        "id": "EZ88WjAxzsar"
      },
      "source": [
        "# Neuronal Networks"
      ]
    },
    {
      "cell_type": "markdown",
      "metadata": {
        "id": "Q_tryWy-zvxg"
      },
      "source": [
        "## Set up Tensorflow"
      ]
    },
    {
      "cell_type": "code",
      "execution_count": 1,
      "metadata": {
        "colab": {
          "base_uri": "https://localhost:8080/"
        },
        "id": "CMr7AesfzOJR",
        "outputId": "4a15ab53-49f6-4611-96ac-c7e4a7849c56"
      },
      "outputs": [
        {
          "name": "stdout",
          "output_type": "stream",
          "text": [
            "TensorFlow version:  2.18.0\n"
          ]
        }
      ],
      "source": [
        "import tensorflow as tf\n",
        "print(\"TensorFlow version: \", tf.__version__)"
      ]
    },
    {
      "cell_type": "markdown",
      "metadata": {
        "id": "3p74e1Q3zyty"
      },
      "source": [
        "## Load a dataset"
      ]
    },
    {
      "cell_type": "markdown",
      "metadata": {
        "id": "pjBB2fLa0AsK"
      },
      "source": [
        "Load and prepare the MNIST dataset. The pixel values of the images range from 0 through 255. Scale these values to a range 0 to 1 by dividing the values by `255.0`. This also converts the sample data from integers to floating-point numbers:"
      ]
    },
    {
      "cell_type": "code",
      "execution_count": 2,
      "metadata": {
        "colab": {
          "base_uri": "https://localhost:8080/"
        },
        "id": "5XOTyhhFznxd",
        "outputId": "0a817615-47c5-4fc0-cf77-5e1ef126453f"
      },
      "outputs": [
        {
          "name": "stdout",
          "output_type": "stream",
          "text": [
            "Downloading data from https://storage.googleapis.com/tensorflow/tf-keras-datasets/mnist.npz\n",
            "\u001b[1m11490434/11490434\u001b[0m \u001b[32m━━━━━━━━━━━━━━━━━━━━\u001b[0m\u001b[37m\u001b[0m \u001b[1m0s\u001b[0m 0us/step\n"
          ]
        }
      ],
      "source": [
        "mnist = tf.keras.datasets.mnist\n",
        "\n",
        "(x_train, y_train), (x_test, y_test) = mnist.load_data()\n",
        "x_train, x_test = x_train / 255.0, x_test / 255.0"
      ]
    },
    {
      "cell_type": "markdown",
      "metadata": {
        "id": "WKCr4Px70dsD"
      },
      "source": [
        "## Build a machine learning model"
      ]
    },
    {
      "cell_type": "code",
      "execution_count": 3,
      "metadata": {
        "colab": {
          "base_uri": "https://localhost:8080/"
        },
        "id": "qmAFxyLy0AG5",
        "outputId": "e25aea6a-e7e7-40e5-be30-ecaee794570f"
      },
      "outputs": [
        {
          "name": "stderr",
          "output_type": "stream",
          "text": [
            "/usr/local/lib/python3.11/dist-packages/keras/src/layers/reshaping/flatten.py:37: UserWarning: Do not pass an `input_shape`/`input_dim` argument to a layer. When using Sequential models, prefer using an `Input(shape)` object as the first layer in the model instead.\n",
            "  super().__init__(**kwargs)\n"
          ]
        }
      ],
      "source": [
        "model = tf.keras.models.Sequential([\n",
        "  tf.keras.layers.Flatten(input_shape=(28, 28)),\n",
        "  tf.keras.layers.Dense(128, activation='relu'),\n",
        "  tf.keras.layers.Dropout(0.2),\n",
        "  tf.keras.layers.Dense(10)\n",
        "])"
      ]
    },
    {
      "cell_type": "markdown",
      "metadata": {
        "id": "EI0yZ5rr0oeW"
      },
      "source": [
        "`Sequential` is useful for staking layers where each layer has one input `tensor` and one output tensor. Layers are functions with a known mathematical structure that can be reused and have trainable variables."
      ]
    },
    {
      "cell_type": "code",
      "execution_count": 6,
      "metadata": {
        "colab": {
          "base_uri": "https://localhost:8080/"
        },
        "id": "0_yhIR060lrL",
        "outputId": "b9db78e8-3191-48fd-c076-37572c70797f"
      },
      "outputs": [
        {
          "data": {
            "text/plain": [
              "array([[-0.09420404, -0.43470845, -0.24208869,  0.3612834 ,  0.0647642 ,\n",
              "        -0.3003919 , -0.18934788,  0.24547103,  0.3009249 ,  0.06177798]],\n",
              "      dtype=float32)"
            ]
          },
          "execution_count": 6,
          "metadata": {},
          "output_type": "execute_result"
        }
      ],
      "source": [
        "predictions = model(x_train[:1]).numpy()\n",
        "predictions"
      ]
    },
    {
      "cell_type": "markdown",
      "metadata": {
        "id": "Bt2wS9pn1Eze"
      },
      "source": [
        "The `tf.nn.softmax` function converts these logist to probabilities for each class:"
      ]
    },
    {
      "cell_type": "code",
      "execution_count": 8,
      "metadata": {
        "colab": {
          "base_uri": "https://localhost:8080/"
        },
        "id": "oyLCaqru0_kp",
        "outputId": "6182a1a3-79c4-47c0-a9ef-b2231da6de7f"
      },
      "outputs": [
        {
          "data": {
            "text/plain": [
              "array([[0.0900578 , 0.06406815, 0.07767761, 0.14201592, 0.10557483,\n",
              "        0.07327825, 0.08188435, 0.12648539, 0.13369761, 0.10526003]],\n",
              "      dtype=float32)"
            ]
          },
          "execution_count": 8,
          "metadata": {},
          "output_type": "execute_result"
        }
      ],
      "source": [
        "tf.nn.softmax(predictions).numpy()"
      ]
    },
    {
      "cell_type": "markdown",
      "metadata": {
        "id": "vOmVD2LW1W9b"
      },
      "source": [
        "Note: it is possible to bake the `tf.nn.softmax` function into the activation function for the last layer of the network. While this can make the model output more directly interpretable, this approach is discouraged as it's impossible to provide an exact and numerically stable loss calculation for all models when using a softmax output."
      ]
    },
    {
      "cell_type": "code",
      "execution_count": 9,
      "metadata": {
        "id": "pccRBvVc1N1R"
      },
      "outputs": [],
      "source": [
        "loss_fn = tf.keras.losses.SparseCategoricalCrossentropy(from_logits=True)"
      ]
    },
    {
      "cell_type": "markdown",
      "metadata": {
        "id": "RQ6F1dFA19SP"
      },
      "source": [
        "The loss function takes a vector of ground truth values and a vector of logits and returns a scalar loss for each example. This loss is equal to the negative log probability of the true class: The loss is zero if the model is sure of the correct class.\n",
        "\n",
        "This untrained model gives probabilities close to random (1/10 for each class), so the initial loss should be close to `-tf.math.log(1/10) ~= 2.3`."
      ]
    },
    {
      "cell_type": "code",
      "execution_count": 10,
      "metadata": {
        "colab": {
          "base_uri": "https://localhost:8080/"
        },
        "id": "2yXedkSq154A",
        "outputId": "814c6bdc-6874-42ed-d13b-29e5fc127fd8"
      },
      "outputs": [
        {
          "data": {
            "text/plain": [
              "np.float32(2.6134915)"
            ]
          },
          "execution_count": 10,
          "metadata": {},
          "output_type": "execute_result"
        }
      ],
      "source": [
        "loss_fn(y_train[:1], predictions).numpy()"
      ]
    },
    {
      "cell_type": "markdown",
      "metadata": {
        "id": "OvamuDdJ2D7Y"
      },
      "source": [
        "Before you start training, configure and compile the model using Keras `Model.compile`. Set the `optimizer` class to `adam`, set the `loss` to the `loss_fn` function you defined earlier, and specify a metric to be evaluated for the model by setting the `metrics` parameter to `accuracy`."
      ]
    },
    {
      "cell_type": "code",
      "execution_count": 11,
      "metadata": {
        "id": "AvdDch4o1_GB"
      },
      "outputs": [],
      "source": [
        "model.compile(optimizer='adam',\n",
        "              loss=loss_fn,\n",
        "              metrics=['accuracy'])"
      ]
    },
    {
      "cell_type": "markdown",
      "metadata": {
        "id": "XIjkEze82KQb"
      },
      "source": [
        "## Train and evaluate your model"
      ]
    },
    {
      "cell_type": "code",
      "execution_count": 12,
      "metadata": {
        "colab": {
          "base_uri": "https://localhost:8080/"
        },
        "id": "Ar5LzOpC2JQv",
        "outputId": "9b181da2-5fd5-4612-ea58-de8db349b75c"
      },
      "outputs": [
        {
          "name": "stdout",
          "output_type": "stream",
          "text": [
            "Epoch 1/5\n",
            "\u001b[1m1875/1875\u001b[0m \u001b[32m━━━━━━━━━━━━━━━━━━━━\u001b[0m\u001b[37m\u001b[0m \u001b[1m9s\u001b[0m 4ms/step - accuracy: 0.8605 - loss: 0.4783\n",
            "Epoch 2/5\n",
            "\u001b[1m1875/1875\u001b[0m \u001b[32m━━━━━━━━━━━━━━━━━━━━\u001b[0m\u001b[37m\u001b[0m \u001b[1m11s\u001b[0m 5ms/step - accuracy: 0.9555 - loss: 0.1490\n",
            "Epoch 3/5\n",
            "\u001b[1m1875/1875\u001b[0m \u001b[32m━━━━━━━━━━━━━━━━━━━━\u001b[0m\u001b[37m\u001b[0m \u001b[1m8s\u001b[0m 3ms/step - accuracy: 0.9659 - loss: 0.1090\n",
            "Epoch 4/5\n",
            "\u001b[1m1875/1875\u001b[0m \u001b[32m━━━━━━━━━━━━━━━━━━━━\u001b[0m\u001b[37m\u001b[0m \u001b[1m8s\u001b[0m 4ms/step - accuracy: 0.9746 - loss: 0.0826\n",
            "Epoch 5/5\n",
            "\u001b[1m1875/1875\u001b[0m \u001b[32m━━━━━━━━━━━━━━━━━━━━\u001b[0m\u001b[37m\u001b[0m \u001b[1m10s\u001b[0m 4ms/step - accuracy: 0.9783 - loss: 0.0705\n"
          ]
        },
        {
          "data": {
            "text/plain": [
              "<keras.src.callbacks.history.History at 0x7b22b3299590>"
            ]
          },
          "execution_count": 12,
          "metadata": {},
          "output_type": "execute_result"
        }
      ],
      "source": [
        "model.fit(x_train, y_train, epochs=5)"
      ]
    },
    {
      "cell_type": "code",
      "execution_count": 13,
      "metadata": {
        "colab": {
          "base_uri": "https://localhost:8080/"
        },
        "id": "yekiclww2SDC",
        "outputId": "58f75196-a79b-49ba-ad8e-f28f4e835e5b"
      },
      "outputs": [
        {
          "name": "stdout",
          "output_type": "stream",
          "text": [
            "313/313 - 1s - 2ms/step - accuracy: 0.9765 - loss: 0.0765\n"
          ]
        },
        {
          "data": {
            "text/plain": [
              "[0.07646095752716064, 0.9764999747276306]"
            ]
          },
          "execution_count": 13,
          "metadata": {},
          "output_type": "execute_result"
        }
      ],
      "source": [
        "model.evaluate(x_test,  y_test, verbose=2)"
      ]
    },
    {
      "cell_type": "code",
      "execution_count": 14,
      "metadata": {
        "id": "iMwgn6ud2VT8"
      },
      "outputs": [],
      "source": [
        "probability_model = tf.keras.Sequential([\n",
        "  model,\n",
        "  tf.keras.layers.Softmax()\n",
        "])"
      ]
    },
    {
      "cell_type": "code",
      "execution_count": 15,
      "metadata": {
        "colab": {
          "base_uri": "https://localhost:8080/"
        },
        "id": "zkThyA-N2WPe",
        "outputId": "42bdbd2a-6fe1-4444-84e3-7222ab6d7245"
      },
      "outputs": [
        {
          "data": {
            "text/plain": [
              "<tf.Tensor: shape=(5, 10), dtype=float32, numpy=\n",
              "array([[3.3802417e-07, 6.8122707e-10, 9.6974800e-05, 6.2830797e-05,\n",
              "        1.6841946e-10, 3.8955662e-08, 5.8014840e-13, 9.9983108e-01,\n",
              "        1.0635636e-06, 7.7520190e-06],\n",
              "       [1.2040912e-08, 9.3704475e-05, 9.9990201e-01, 2.0435935e-07,\n",
              "        9.9230291e-15, 2.3701881e-08, 3.9022311e-06, 1.7820202e-13,\n",
              "        8.2547857e-08, 7.7031881e-16],\n",
              "       [5.6427592e-07, 9.9825865e-01, 4.0181010e-04, 8.2560946e-06,\n",
              "        1.0201243e-04, 4.6863415e-06, 5.9381786e-05, 1.0178669e-03,\n",
              "        1.4496608e-04, 1.8461936e-06],\n",
              "       [9.9973577e-01, 1.1896657e-08, 2.6754378e-05, 3.7973015e-07,\n",
              "        4.6059949e-06, 5.1384623e-06, 1.4534128e-04, 7.8666460e-05,\n",
              "        3.1915416e-08, 3.3512079e-06],\n",
              "       [3.4748977e-05, 5.1199333e-08, 4.5421307e-06, 3.8600157e-07,\n",
              "        9.6850991e-01, 3.9412447e-07, 1.6762371e-05, 6.6160232e-05,\n",
              "        2.7612043e-06, 3.1364325e-02]], dtype=float32)>"
            ]
          },
          "execution_count": 15,
          "metadata": {},
          "output_type": "execute_result"
        }
      ],
      "source": [
        "probability_model(x_test[:5])"
      ]
    },
    {
      "cell_type": "code",
      "execution_count": null,
      "metadata": {},
      "outputs": [],
      "source": [
        "# from https://www.tensorflow.org/tutorials/quickstart/beginner"
      ]
    }
  ],
  "metadata": {
    "colab": {
      "provenance": []
    },
    "kernelspec": {
      "display_name": "Python 3",
      "name": "python3"
    },
    "language_info": {
      "name": "python"
    }
  },
  "nbformat": 4,
  "nbformat_minor": 0
}
