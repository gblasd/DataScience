{
 "cells": [
  {
   "cell_type": "markdown",
   "id": "5c1496e2",
   "metadata": {},
   "source": [
    "# Escalamiento de datos"
   ]
  },
  {
   "cell_type": "markdown",
   "id": "dd4bf676",
   "metadata": {},
   "source": [
    "## Carga de librerias"
   ]
  },
  {
   "cell_type": "code",
   "execution_count": 1,
   "id": "25c74254",
   "metadata": {},
   "outputs": [],
   "source": [
    "import numpy as np\n",
    "import pandas as pd\n",
    "\n",
    "from sklearn.model_selection import cross_val_score, train_test_split\n",
    "from sklearn.preprocessing import MinMaxScaler, StandardScaler\n",
    "from sklearn.linear_model import Ridge, Lasso, ElasticNet, BayesianRidge, Lars"
   ]
  },
  {
   "cell_type": "markdown",
   "id": "50da4ca0",
   "metadata": {},
   "source": [
    "## Carga de datos"
   ]
  },
  {
   "cell_type": "code",
   "execution_count": 2,
   "id": "afc36e30",
   "metadata": {},
   "outputs": [
    {
     "data": {
      "text/plain": [
       "(414, 8)"
      ]
     },
     "execution_count": 2,
     "metadata": {},
     "output_type": "execute_result"
    }
   ],
   "source": [
    "df = pd.read_csv(\"/Users/gblasd/Documents/DataScience/02_SupervisedLearning/data/real_state/Real_estate.csv\")\n",
    "df.shape"
   ]
  },
  {
   "cell_type": "code",
   "execution_count": 3,
   "id": "5ea3f7ca",
   "metadata": {},
   "outputs": [
    {
     "data": {
      "text/html": [
       "<div>\n",
       "<style scoped>\n",
       "    .dataframe tbody tr th:only-of-type {\n",
       "        vertical-align: middle;\n",
       "    }\n",
       "\n",
       "    .dataframe tbody tr th {\n",
       "        vertical-align: top;\n",
       "    }\n",
       "\n",
       "    .dataframe thead th {\n",
       "        text-align: right;\n",
       "    }\n",
       "</style>\n",
       "<table border=\"1\" class=\"dataframe\">\n",
       "  <thead>\n",
       "    <tr style=\"text-align: right;\">\n",
       "      <th></th>\n",
       "      <th>No</th>\n",
       "      <th>X1 transaction date</th>\n",
       "      <th>X2 house age</th>\n",
       "      <th>X3 distance to the nearest MRT station</th>\n",
       "      <th>X4 number of convenience stores</th>\n",
       "      <th>X5 latitude</th>\n",
       "      <th>X6 longitude</th>\n",
       "      <th>Y house price of unit area</th>\n",
       "    </tr>\n",
       "  </thead>\n",
       "  <tbody>\n",
       "    <tr>\n",
       "      <th>0</th>\n",
       "      <td>1</td>\n",
       "      <td>2012.917</td>\n",
       "      <td>32.0</td>\n",
       "      <td>84.87882</td>\n",
       "      <td>10</td>\n",
       "      <td>24.98298</td>\n",
       "      <td>121.54024</td>\n",
       "      <td>37.9</td>\n",
       "    </tr>\n",
       "    <tr>\n",
       "      <th>1</th>\n",
       "      <td>2</td>\n",
       "      <td>2012.917</td>\n",
       "      <td>19.5</td>\n",
       "      <td>306.59470</td>\n",
       "      <td>9</td>\n",
       "      <td>24.98034</td>\n",
       "      <td>121.53951</td>\n",
       "      <td>42.2</td>\n",
       "    </tr>\n",
       "    <tr>\n",
       "      <th>2</th>\n",
       "      <td>3</td>\n",
       "      <td>2013.583</td>\n",
       "      <td>13.3</td>\n",
       "      <td>561.98450</td>\n",
       "      <td>5</td>\n",
       "      <td>24.98746</td>\n",
       "      <td>121.54391</td>\n",
       "      <td>47.3</td>\n",
       "    </tr>\n",
       "    <tr>\n",
       "      <th>3</th>\n",
       "      <td>4</td>\n",
       "      <td>2013.500</td>\n",
       "      <td>13.3</td>\n",
       "      <td>561.98450</td>\n",
       "      <td>5</td>\n",
       "      <td>24.98746</td>\n",
       "      <td>121.54391</td>\n",
       "      <td>54.8</td>\n",
       "    </tr>\n",
       "    <tr>\n",
       "      <th>4</th>\n",
       "      <td>5</td>\n",
       "      <td>2012.833</td>\n",
       "      <td>5.0</td>\n",
       "      <td>390.56840</td>\n",
       "      <td>5</td>\n",
       "      <td>24.97937</td>\n",
       "      <td>121.54245</td>\n",
       "      <td>43.1</td>\n",
       "    </tr>\n",
       "  </tbody>\n",
       "</table>\n",
       "</div>"
      ],
      "text/plain": [
       "   No  X1 transaction date  X2 house age  \\\n",
       "0   1             2012.917          32.0   \n",
       "1   2             2012.917          19.5   \n",
       "2   3             2013.583          13.3   \n",
       "3   4             2013.500          13.3   \n",
       "4   5             2012.833           5.0   \n",
       "\n",
       "   X3 distance to the nearest MRT station  X4 number of convenience stores  \\\n",
       "0                                84.87882                               10   \n",
       "1                               306.59470                                9   \n",
       "2                               561.98450                                5   \n",
       "3                               561.98450                                5   \n",
       "4                               390.56840                                5   \n",
       "\n",
       "   X5 latitude  X6 longitude  Y house price of unit area  \n",
       "0     24.98298     121.54024                        37.9  \n",
       "1     24.98034     121.53951                        42.2  \n",
       "2     24.98746     121.54391                        47.3  \n",
       "3     24.98746     121.54391                        54.8  \n",
       "4     24.97937     121.54245                        43.1  "
      ]
     },
     "execution_count": 3,
     "metadata": {},
     "output_type": "execute_result"
    }
   ],
   "source": [
    "df.head()"
   ]
  },
  {
   "cell_type": "code",
   "execution_count": 4,
   "id": "0093542a",
   "metadata": {},
   "outputs": [
    {
     "data": {
      "text/html": [
       "<div>\n",
       "<style scoped>\n",
       "    .dataframe tbody tr th:only-of-type {\n",
       "        vertical-align: middle;\n",
       "    }\n",
       "\n",
       "    .dataframe tbody tr th {\n",
       "        vertical-align: top;\n",
       "    }\n",
       "\n",
       "    .dataframe thead th {\n",
       "        text-align: right;\n",
       "    }\n",
       "</style>\n",
       "<table border=\"1\" class=\"dataframe\">\n",
       "  <thead>\n",
       "    <tr style=\"text-align: right;\">\n",
       "      <th></th>\n",
       "      <th>No</th>\n",
       "      <th>X1 transaction date</th>\n",
       "      <th>X2 house age</th>\n",
       "      <th>X3 distance to the nearest MRT station</th>\n",
       "      <th>X4 number of convenience stores</th>\n",
       "      <th>X5 latitude</th>\n",
       "      <th>X6 longitude</th>\n",
       "      <th>Y house price of unit area</th>\n",
       "    </tr>\n",
       "  </thead>\n",
       "  <tbody>\n",
       "    <tr>\n",
       "      <th>count</th>\n",
       "      <td>414.000000</td>\n",
       "      <td>414.000000</td>\n",
       "      <td>414.000000</td>\n",
       "      <td>414.000000</td>\n",
       "      <td>414.000000</td>\n",
       "      <td>414.000000</td>\n",
       "      <td>414.000000</td>\n",
       "      <td>414.000000</td>\n",
       "    </tr>\n",
       "    <tr>\n",
       "      <th>mean</th>\n",
       "      <td>207.500000</td>\n",
       "      <td>2013.148971</td>\n",
       "      <td>17.712560</td>\n",
       "      <td>1083.885689</td>\n",
       "      <td>4.094203</td>\n",
       "      <td>24.969030</td>\n",
       "      <td>121.533361</td>\n",
       "      <td>37.980193</td>\n",
       "    </tr>\n",
       "    <tr>\n",
       "      <th>std</th>\n",
       "      <td>119.655756</td>\n",
       "      <td>0.281967</td>\n",
       "      <td>11.392485</td>\n",
       "      <td>1262.109595</td>\n",
       "      <td>2.945562</td>\n",
       "      <td>0.012410</td>\n",
       "      <td>0.015347</td>\n",
       "      <td>13.606488</td>\n",
       "    </tr>\n",
       "    <tr>\n",
       "      <th>min</th>\n",
       "      <td>1.000000</td>\n",
       "      <td>2012.667000</td>\n",
       "      <td>0.000000</td>\n",
       "      <td>23.382840</td>\n",
       "      <td>0.000000</td>\n",
       "      <td>24.932070</td>\n",
       "      <td>121.473530</td>\n",
       "      <td>7.600000</td>\n",
       "    </tr>\n",
       "    <tr>\n",
       "      <th>25%</th>\n",
       "      <td>104.250000</td>\n",
       "      <td>2012.917000</td>\n",
       "      <td>9.025000</td>\n",
       "      <td>289.324800</td>\n",
       "      <td>1.000000</td>\n",
       "      <td>24.963000</td>\n",
       "      <td>121.528085</td>\n",
       "      <td>27.700000</td>\n",
       "    </tr>\n",
       "    <tr>\n",
       "      <th>50%</th>\n",
       "      <td>207.500000</td>\n",
       "      <td>2013.167000</td>\n",
       "      <td>16.100000</td>\n",
       "      <td>492.231300</td>\n",
       "      <td>4.000000</td>\n",
       "      <td>24.971100</td>\n",
       "      <td>121.538630</td>\n",
       "      <td>38.450000</td>\n",
       "    </tr>\n",
       "    <tr>\n",
       "      <th>75%</th>\n",
       "      <td>310.750000</td>\n",
       "      <td>2013.417000</td>\n",
       "      <td>28.150000</td>\n",
       "      <td>1454.279000</td>\n",
       "      <td>6.000000</td>\n",
       "      <td>24.977455</td>\n",
       "      <td>121.543305</td>\n",
       "      <td>46.600000</td>\n",
       "    </tr>\n",
       "    <tr>\n",
       "      <th>max</th>\n",
       "      <td>414.000000</td>\n",
       "      <td>2013.583000</td>\n",
       "      <td>43.800000</td>\n",
       "      <td>6488.021000</td>\n",
       "      <td>10.000000</td>\n",
       "      <td>25.014590</td>\n",
       "      <td>121.566270</td>\n",
       "      <td>117.500000</td>\n",
       "    </tr>\n",
       "  </tbody>\n",
       "</table>\n",
       "</div>"
      ],
      "text/plain": [
       "               No  X1 transaction date  X2 house age  \\\n",
       "count  414.000000           414.000000    414.000000   \n",
       "mean   207.500000          2013.148971     17.712560   \n",
       "std    119.655756             0.281967     11.392485   \n",
       "min      1.000000          2012.667000      0.000000   \n",
       "25%    104.250000          2012.917000      9.025000   \n",
       "50%    207.500000          2013.167000     16.100000   \n",
       "75%    310.750000          2013.417000     28.150000   \n",
       "max    414.000000          2013.583000     43.800000   \n",
       "\n",
       "       X3 distance to the nearest MRT station  \\\n",
       "count                              414.000000   \n",
       "mean                              1083.885689   \n",
       "std                               1262.109595   \n",
       "min                                 23.382840   \n",
       "25%                                289.324800   \n",
       "50%                                492.231300   \n",
       "75%                               1454.279000   \n",
       "max                               6488.021000   \n",
       "\n",
       "       X4 number of convenience stores  X5 latitude  X6 longitude  \\\n",
       "count                       414.000000   414.000000    414.000000   \n",
       "mean                          4.094203    24.969030    121.533361   \n",
       "std                           2.945562     0.012410      0.015347   \n",
       "min                           0.000000    24.932070    121.473530   \n",
       "25%                           1.000000    24.963000    121.528085   \n",
       "50%                           4.000000    24.971100    121.538630   \n",
       "75%                           6.000000    24.977455    121.543305   \n",
       "max                          10.000000    25.014590    121.566270   \n",
       "\n",
       "       Y house price of unit area  \n",
       "count                  414.000000  \n",
       "mean                    37.980193  \n",
       "std                     13.606488  \n",
       "min                      7.600000  \n",
       "25%                     27.700000  \n",
       "50%                     38.450000  \n",
       "75%                     46.600000  \n",
       "max                    117.500000  "
      ]
     },
     "execution_count": 4,
     "metadata": {},
     "output_type": "execute_result"
    }
   ],
   "source": [
    "df.describe()"
   ]
  },
  {
   "cell_type": "code",
   "execution_count": 5,
   "id": "862564b3",
   "metadata": {},
   "outputs": [],
   "source": [
    "df.columns = ['no','date','house_age','distanceToTheNearestMRTstation',\n",
    "       'Number OfConvenience stores', 'latitude', 'longitude',\n",
    "       'house_price']"
   ]
  },
  {
   "cell_type": "code",
   "execution_count": 7,
   "id": "ad92a4e2",
   "metadata": {},
   "outputs": [],
   "source": [
    "X = df[['house_age','distanceToTheNearestMRTstation',\n",
    "       'Number OfConvenience stores', 'latitude', 'longitude']]\n",
    "y = df[['house_price']]\n",
    "\n",
    "dc_scores = {}"
   ]
  },
  {
   "cell_type": "code",
   "execution_count": 8,
   "id": "8c10e379",
   "metadata": {},
   "outputs": [],
   "source": [
    "# diabetes = load_diabetes()\n",
    "# dc_scores = {}\n",
    "# df = pd.DataFrame(data = diabetes[\"data\"], columns=diabetes[\"feature_names\"])\n",
    "# df[\"target\"] = diabetes[\"target\"]\n",
    "# tgt = \"target\"\n",
    "# ls_pred = [x for x in df.columns if x not in [tgt]]\n",
    "# X = df[ls_pred]\n",
    "# y = df[tgt]"
   ]
  },
  {
   "cell_type": "code",
   "execution_count": 9,
   "id": "ac127424",
   "metadata": {},
   "outputs": [],
   "source": [
    "X_train, X_test, y_train, y_test = train_test_split(X, y)"
   ]
  },
  {
   "cell_type": "code",
   "execution_count": 10,
   "id": "a0f8b426",
   "metadata": {},
   "outputs": [
    {
     "data": {
      "text/html": [
       "<div>\n",
       "<style scoped>\n",
       "    .dataframe tbody tr th:only-of-type {\n",
       "        vertical-align: middle;\n",
       "    }\n",
       "\n",
       "    .dataframe tbody tr th {\n",
       "        vertical-align: top;\n",
       "    }\n",
       "\n",
       "    .dataframe thead th {\n",
       "        text-align: right;\n",
       "    }\n",
       "</style>\n",
       "<table border=\"1\" class=\"dataframe\">\n",
       "  <thead>\n",
       "    <tr style=\"text-align: right;\">\n",
       "      <th></th>\n",
       "      <th>house_age</th>\n",
       "      <th>distanceToTheNearestMRTstation</th>\n",
       "      <th>Number OfConvenience stores</th>\n",
       "      <th>latitude</th>\n",
       "      <th>longitude</th>\n",
       "    </tr>\n",
       "  </thead>\n",
       "  <tbody>\n",
       "    <tr>\n",
       "      <th>388</th>\n",
       "      <td>10.4</td>\n",
       "      <td>2251.93800</td>\n",
       "      <td>4</td>\n",
       "      <td>24.95957</td>\n",
       "      <td>121.51353</td>\n",
       "    </tr>\n",
       "    <tr>\n",
       "      <th>62</th>\n",
       "      <td>17.2</td>\n",
       "      <td>2175.87700</td>\n",
       "      <td>3</td>\n",
       "      <td>24.96303</td>\n",
       "      <td>121.51254</td>\n",
       "    </tr>\n",
       "    <tr>\n",
       "      <th>91</th>\n",
       "      <td>9.1</td>\n",
       "      <td>1402.01600</td>\n",
       "      <td>0</td>\n",
       "      <td>24.98569</td>\n",
       "      <td>121.52760</td>\n",
       "    </tr>\n",
       "    <tr>\n",
       "      <th>275</th>\n",
       "      <td>1.5</td>\n",
       "      <td>23.38284</td>\n",
       "      <td>7</td>\n",
       "      <td>24.96772</td>\n",
       "      <td>121.54102</td>\n",
       "    </tr>\n",
       "    <tr>\n",
       "      <th>181</th>\n",
       "      <td>11.6</td>\n",
       "      <td>201.89390</td>\n",
       "      <td>8</td>\n",
       "      <td>24.98489</td>\n",
       "      <td>121.54121</td>\n",
       "    </tr>\n",
       "  </tbody>\n",
       "</table>\n",
       "</div>"
      ],
      "text/plain": [
       "     house_age  distanceToTheNearestMRTstation  Number OfConvenience stores  \\\n",
       "388       10.4                      2251.93800                            4   \n",
       "62        17.2                      2175.87700                            3   \n",
       "91         9.1                      1402.01600                            0   \n",
       "275        1.5                        23.38284                            7   \n",
       "181       11.6                       201.89390                            8   \n",
       "\n",
       "     latitude  longitude  \n",
       "388  24.95957  121.51353  \n",
       "62   24.96303  121.51254  \n",
       "91   24.98569  121.52760  \n",
       "275  24.96772  121.54102  \n",
       "181  24.98489  121.54121  "
      ]
     },
     "execution_count": 10,
     "metadata": {},
     "output_type": "execute_result"
    }
   ],
   "source": [
    "X_train.head()"
   ]
  },
  {
   "cell_type": "markdown",
   "id": "e01ab77b",
   "metadata": {},
   "source": [
    "## Escalamiento"
   ]
  },
  {
   "cell_type": "code",
   "execution_count": 11,
   "id": "2c41e1db",
   "metadata": {},
   "outputs": [
    {
     "data": {
      "text/html": [
       "<div>\n",
       "<style scoped>\n",
       "    .dataframe tbody tr th:only-of-type {\n",
       "        vertical-align: middle;\n",
       "    }\n",
       "\n",
       "    .dataframe tbody tr th {\n",
       "        vertical-align: top;\n",
       "    }\n",
       "\n",
       "    .dataframe thead th {\n",
       "        text-align: right;\n",
       "    }\n",
       "</style>\n",
       "<table border=\"1\" class=\"dataframe\">\n",
       "  <thead>\n",
       "    <tr style=\"text-align: right;\">\n",
       "      <th></th>\n",
       "      <th>house_age</th>\n",
       "      <th>distanceToTheNearestMRTstation</th>\n",
       "      <th>Number OfConvenience stores</th>\n",
       "      <th>latitude</th>\n",
       "      <th>longitude</th>\n",
       "    </tr>\n",
       "  </thead>\n",
       "  <tbody>\n",
       "    <tr>\n",
       "      <th>count</th>\n",
       "      <td>310.000000</td>\n",
       "      <td>310.000000</td>\n",
       "      <td>310.000000</td>\n",
       "      <td>310.000000</td>\n",
       "      <td>310.000000</td>\n",
       "    </tr>\n",
       "    <tr>\n",
       "      <th>mean</th>\n",
       "      <td>18.098710</td>\n",
       "      <td>1124.142050</td>\n",
       "      <td>4.125806</td>\n",
       "      <td>24.968435</td>\n",
       "      <td>121.532791</td>\n",
       "    </tr>\n",
       "    <tr>\n",
       "      <th>std</th>\n",
       "      <td>11.143492</td>\n",
       "      <td>1318.727933</td>\n",
       "      <td>2.966967</td>\n",
       "      <td>0.012572</td>\n",
       "      <td>0.015845</td>\n",
       "    </tr>\n",
       "    <tr>\n",
       "      <th>min</th>\n",
       "      <td>0.000000</td>\n",
       "      <td>23.382840</td>\n",
       "      <td>0.000000</td>\n",
       "      <td>24.932070</td>\n",
       "      <td>121.473530</td>\n",
       "    </tr>\n",
       "    <tr>\n",
       "      <th>25%</th>\n",
       "      <td>10.575000</td>\n",
       "      <td>289.324800</td>\n",
       "      <td>1.000000</td>\n",
       "      <td>24.962990</td>\n",
       "      <td>121.527585</td>\n",
       "    </tr>\n",
       "    <tr>\n",
       "      <th>50%</th>\n",
       "      <td>16.300000</td>\n",
       "      <td>492.231300</td>\n",
       "      <td>4.000000</td>\n",
       "      <td>24.970235</td>\n",
       "      <td>121.538420</td>\n",
       "    </tr>\n",
       "    <tr>\n",
       "      <th>75%</th>\n",
       "      <td>28.350000</td>\n",
       "      <td>1487.175250</td>\n",
       "      <td>6.000000</td>\n",
       "      <td>24.977440</td>\n",
       "      <td>121.543100</td>\n",
       "    </tr>\n",
       "    <tr>\n",
       "      <th>max</th>\n",
       "      <td>43.800000</td>\n",
       "      <td>6488.021000</td>\n",
       "      <td>10.000000</td>\n",
       "      <td>25.001150</td>\n",
       "      <td>121.566270</td>\n",
       "    </tr>\n",
       "  </tbody>\n",
       "</table>\n",
       "</div>"
      ],
      "text/plain": [
       "        house_age  distanceToTheNearestMRTstation  \\\n",
       "count  310.000000                      310.000000   \n",
       "mean    18.098710                     1124.142050   \n",
       "std     11.143492                     1318.727933   \n",
       "min      0.000000                       23.382840   \n",
       "25%     10.575000                      289.324800   \n",
       "50%     16.300000                      492.231300   \n",
       "75%     28.350000                     1487.175250   \n",
       "max     43.800000                     6488.021000   \n",
       "\n",
       "       Number OfConvenience stores    latitude   longitude  \n",
       "count                   310.000000  310.000000  310.000000  \n",
       "mean                      4.125806   24.968435  121.532791  \n",
       "std                       2.966967    0.012572    0.015845  \n",
       "min                       0.000000   24.932070  121.473530  \n",
       "25%                       1.000000   24.962990  121.527585  \n",
       "50%                       4.000000   24.970235  121.538420  \n",
       "75%                       6.000000   24.977440  121.543100  \n",
       "max                      10.000000   25.001150  121.566270  "
      ]
     },
     "execution_count": 11,
     "metadata": {},
     "output_type": "execute_result"
    }
   ],
   "source": [
    "X_train.describe()"
   ]
  },
  {
   "cell_type": "markdown",
   "id": "12dfb7b9",
   "metadata": {},
   "source": [
    "### MinMaxScaler"
   ]
  },
  {
   "cell_type": "code",
   "execution_count": 12,
   "id": "68fd5c68",
   "metadata": {},
   "outputs": [],
   "source": [
    "mm_x = MinMaxScaler()\n",
    "mm_y = MinMaxScaler()\n",
    "\n",
    "Xs = mm_x.fit_transform(X_train)\n",
    "ys = mm_y.fit_transform(y_train)"
   ]
  },
  {
   "cell_type": "code",
   "execution_count": 15,
   "id": "41e25b5d",
   "metadata": {},
   "outputs": [
    {
     "data": {
      "text/html": [
       "<div>\n",
       "<style scoped>\n",
       "    .dataframe tbody tr th:only-of-type {\n",
       "        vertical-align: middle;\n",
       "    }\n",
       "\n",
       "    .dataframe tbody tr th {\n",
       "        vertical-align: top;\n",
       "    }\n",
       "\n",
       "    .dataframe thead th {\n",
       "        text-align: right;\n",
       "    }\n",
       "</style>\n",
       "<table border=\"1\" class=\"dataframe\">\n",
       "  <thead>\n",
       "    <tr style=\"text-align: right;\">\n",
       "      <th></th>\n",
       "      <th>0</th>\n",
       "      <th>1</th>\n",
       "      <th>2</th>\n",
       "      <th>3</th>\n",
       "      <th>4</th>\n",
       "    </tr>\n",
       "  </thead>\n",
       "  <tbody>\n",
       "    <tr>\n",
       "      <th>count</th>\n",
       "      <td>310.000000</td>\n",
       "      <td>310.000000</td>\n",
       "      <td>310.000000</td>\n",
       "      <td>310.000000</td>\n",
       "      <td>310.000000</td>\n",
       "    </tr>\n",
       "    <tr>\n",
       "      <th>mean</th>\n",
       "      <td>0.413213</td>\n",
       "      <td>0.170274</td>\n",
       "      <td>0.412581</td>\n",
       "      <td>0.526422</td>\n",
       "      <td>0.638999</td>\n",
       "    </tr>\n",
       "    <tr>\n",
       "      <th>std</th>\n",
       "      <td>0.254418</td>\n",
       "      <td>0.203991</td>\n",
       "      <td>0.296697</td>\n",
       "      <td>0.181991</td>\n",
       "      <td>0.170851</td>\n",
       "    </tr>\n",
       "    <tr>\n",
       "      <th>min</th>\n",
       "      <td>0.000000</td>\n",
       "      <td>0.000000</td>\n",
       "      <td>0.000000</td>\n",
       "      <td>0.000000</td>\n",
       "      <td>0.000000</td>\n",
       "    </tr>\n",
       "    <tr>\n",
       "      <th>25%</th>\n",
       "      <td>0.241438</td>\n",
       "      <td>0.041138</td>\n",
       "      <td>0.100000</td>\n",
       "      <td>0.447597</td>\n",
       "      <td>0.582866</td>\n",
       "    </tr>\n",
       "    <tr>\n",
       "      <th>50%</th>\n",
       "      <td>0.372146</td>\n",
       "      <td>0.072525</td>\n",
       "      <td>0.400000</td>\n",
       "      <td>0.552475</td>\n",
       "      <td>0.699698</td>\n",
       "    </tr>\n",
       "    <tr>\n",
       "      <th>75%</th>\n",
       "      <td>0.647260</td>\n",
       "      <td>0.226431</td>\n",
       "      <td>0.600000</td>\n",
       "      <td>0.656775</td>\n",
       "      <td>0.750162</td>\n",
       "    </tr>\n",
       "    <tr>\n",
       "      <th>max</th>\n",
       "      <td>1.000000</td>\n",
       "      <td>1.000000</td>\n",
       "      <td>1.000000</td>\n",
       "      <td>1.000000</td>\n",
       "      <td>1.000000</td>\n",
       "    </tr>\n",
       "  </tbody>\n",
       "</table>\n",
       "</div>"
      ],
      "text/plain": [
       "                0           1           2           3           4\n",
       "count  310.000000  310.000000  310.000000  310.000000  310.000000\n",
       "mean     0.413213    0.170274    0.412581    0.526422    0.638999\n",
       "std      0.254418    0.203991    0.296697    0.181991    0.170851\n",
       "min      0.000000    0.000000    0.000000    0.000000    0.000000\n",
       "25%      0.241438    0.041138    0.100000    0.447597    0.582866\n",
       "50%      0.372146    0.072525    0.400000    0.552475    0.699698\n",
       "75%      0.647260    0.226431    0.600000    0.656775    0.750162\n",
       "max      1.000000    1.000000    1.000000    1.000000    1.000000"
      ]
     },
     "execution_count": 15,
     "metadata": {},
     "output_type": "execute_result"
    }
   ],
   "source": [
    "pd.DataFrame(Xs).describe()"
   ]
  },
  {
   "cell_type": "code",
   "execution_count": 14,
   "id": "703a8b8f",
   "metadata": {},
   "outputs": [
    {
     "data": {
      "text/html": [
       "<div>\n",
       "<style scoped>\n",
       "    .dataframe tbody tr th:only-of-type {\n",
       "        vertical-align: middle;\n",
       "    }\n",
       "\n",
       "    .dataframe tbody tr th {\n",
       "        vertical-align: top;\n",
       "    }\n",
       "\n",
       "    .dataframe thead th {\n",
       "        text-align: right;\n",
       "    }\n",
       "</style>\n",
       "<table border=\"1\" class=\"dataframe\">\n",
       "  <thead>\n",
       "    <tr style=\"text-align: right;\">\n",
       "      <th></th>\n",
       "      <th>0</th>\n",
       "    </tr>\n",
       "  </thead>\n",
       "  <tbody>\n",
       "    <tr>\n",
       "      <th>count</th>\n",
       "      <td>310.000000</td>\n",
       "    </tr>\n",
       "    <tr>\n",
       "      <th>mean</th>\n",
       "      <td>0.273199</td>\n",
       "    </tr>\n",
       "    <tr>\n",
       "      <th>std</th>\n",
       "      <td>0.126851</td>\n",
       "    </tr>\n",
       "    <tr>\n",
       "      <th>min</th>\n",
       "      <td>0.000000</td>\n",
       "    </tr>\n",
       "    <tr>\n",
       "      <th>25%</th>\n",
       "      <td>0.176524</td>\n",
       "    </tr>\n",
       "    <tr>\n",
       "      <th>50%</th>\n",
       "      <td>0.277980</td>\n",
       "    </tr>\n",
       "    <tr>\n",
       "      <th>75%</th>\n",
       "      <td>0.349181</td>\n",
       "    </tr>\n",
       "    <tr>\n",
       "      <th>max</th>\n",
       "      <td>1.000000</td>\n",
       "    </tr>\n",
       "  </tbody>\n",
       "</table>\n",
       "</div>"
      ],
      "text/plain": [
       "                0\n",
       "count  310.000000\n",
       "mean     0.273199\n",
       "std      0.126851\n",
       "min      0.000000\n",
       "25%      0.176524\n",
       "50%      0.277980\n",
       "75%      0.349181\n",
       "max      1.000000"
      ]
     },
     "execution_count": 14,
     "metadata": {},
     "output_type": "execute_result"
    }
   ],
   "source": [
    "pd.DataFrame(ys).describe()"
   ]
  },
  {
   "cell_type": "markdown",
   "id": "7831e33d",
   "metadata": {},
   "source": [
    "### StandardScaler"
   ]
  },
  {
   "cell_type": "code",
   "execution_count": 16,
   "id": "3468b681",
   "metadata": {},
   "outputs": [],
   "source": [
    "sc_x = StandardScaler()\n",
    "sc_y = StandardScaler()\n",
    "Xn = sc_x.fit_transform(X_train)\n",
    "yn = sc_y.fit_transform(y_train)"
   ]
  },
  {
   "cell_type": "code",
   "execution_count": 17,
   "id": "a0fccd44",
   "metadata": {},
   "outputs": [
    {
     "data": {
      "text/html": [
       "<div>\n",
       "<style scoped>\n",
       "    .dataframe tbody tr th:only-of-type {\n",
       "        vertical-align: middle;\n",
       "    }\n",
       "\n",
       "    .dataframe tbody tr th {\n",
       "        vertical-align: top;\n",
       "    }\n",
       "\n",
       "    .dataframe thead th {\n",
       "        text-align: right;\n",
       "    }\n",
       "</style>\n",
       "<table border=\"1\" class=\"dataframe\">\n",
       "  <thead>\n",
       "    <tr style=\"text-align: right;\">\n",
       "      <th></th>\n",
       "      <th>0</th>\n",
       "      <th>1</th>\n",
       "      <th>2</th>\n",
       "      <th>3</th>\n",
       "      <th>4</th>\n",
       "    </tr>\n",
       "  </thead>\n",
       "  <tbody>\n",
       "    <tr>\n",
       "      <th>count</th>\n",
       "      <td>3.100000e+02</td>\n",
       "      <td>3.100000e+02</td>\n",
       "      <td>3.100000e+02</td>\n",
       "      <td>3.100000e+02</td>\n",
       "      <td>3.100000e+02</td>\n",
       "    </tr>\n",
       "    <tr>\n",
       "      <th>mean</th>\n",
       "      <td>-2.378026e-16</td>\n",
       "      <td>-5.157165e-17</td>\n",
       "      <td>-5.157165e-17</td>\n",
       "      <td>-3.195723e-14</td>\n",
       "      <td>1.648869e-12</td>\n",
       "    </tr>\n",
       "    <tr>\n",
       "      <th>std</th>\n",
       "      <td>1.001617e+00</td>\n",
       "      <td>1.001617e+00</td>\n",
       "      <td>1.001617e+00</td>\n",
       "      <td>1.001617e+00</td>\n",
       "      <td>1.001617e+00</td>\n",
       "    </tr>\n",
       "    <tr>\n",
       "      <th>min</th>\n",
       "      <td>-1.626777e+00</td>\n",
       "      <td>-8.360625e-01</td>\n",
       "      <td>-1.392829e+00</td>\n",
       "      <td>-2.897243e+00</td>\n",
       "      <td>-3.746138e+00</td>\n",
       "    </tr>\n",
       "    <tr>\n",
       "      <th>25%</th>\n",
       "      <td>-6.762579e-01</td>\n",
       "      <td>-6.340709e-01</td>\n",
       "      <td>-1.055239e+00</td>\n",
       "      <td>-4.338249e-01</td>\n",
       "      <td>-3.290784e-01</td>\n",
       "    </tr>\n",
       "    <tr>\n",
       "      <th>50%</th>\n",
       "      <td>-1.616744e-01</td>\n",
       "      <td>-4.799568e-01</td>\n",
       "      <td>-4.247094e-02</td>\n",
       "      <td>1.433893e-01</td>\n",
       "      <td>3.558507e-01</td>\n",
       "    </tr>\n",
       "    <tr>\n",
       "      <th>75%</th>\n",
       "      <td>9.214226e-01</td>\n",
       "      <td>2.757355e-01</td>\n",
       "      <td>6.327081e-01</td>\n",
       "      <td>7.174166e-01</td>\n",
       "      <td>6.516946e-01</td>\n",
       "    </tr>\n",
       "    <tr>\n",
       "      <th>max</th>\n",
       "      <td>2.310124e+00</td>\n",
       "      <td>4.074041e+00</td>\n",
       "      <td>1.983066e+00</td>\n",
       "      <td>2.606409e+00</td>\n",
       "      <td>2.116374e+00</td>\n",
       "    </tr>\n",
       "  </tbody>\n",
       "</table>\n",
       "</div>"
      ],
      "text/plain": [
       "                  0             1             2             3             4\n",
       "count  3.100000e+02  3.100000e+02  3.100000e+02  3.100000e+02  3.100000e+02\n",
       "mean  -2.378026e-16 -5.157165e-17 -5.157165e-17 -3.195723e-14  1.648869e-12\n",
       "std    1.001617e+00  1.001617e+00  1.001617e+00  1.001617e+00  1.001617e+00\n",
       "min   -1.626777e+00 -8.360625e-01 -1.392829e+00 -2.897243e+00 -3.746138e+00\n",
       "25%   -6.762579e-01 -6.340709e-01 -1.055239e+00 -4.338249e-01 -3.290784e-01\n",
       "50%   -1.616744e-01 -4.799568e-01 -4.247094e-02  1.433893e-01  3.558507e-01\n",
       "75%    9.214226e-01  2.757355e-01  6.327081e-01  7.174166e-01  6.516946e-01\n",
       "max    2.310124e+00  4.074041e+00  1.983066e+00  2.606409e+00  2.116374e+00"
      ]
     },
     "execution_count": 17,
     "metadata": {},
     "output_type": "execute_result"
    }
   ],
   "source": [
    "pd.DataFrame(Xn).describe()"
   ]
  },
  {
   "cell_type": "markdown",
   "id": "560cc4ac",
   "metadata": {},
   "source": [
    "## Modelado con variables escaladas"
   ]
  },
  {
   "cell_type": "markdown",
   "id": "773491af",
   "metadata": {},
   "source": [
    "### Regresión Lasso"
   ]
  },
  {
   "cell_type": "markdown",
   "id": "785c54fc",
   "metadata": {},
   "source": [
    "#### Sin escalar"
   ]
  },
  {
   "cell_type": "code",
   "execution_count": 18,
   "id": "7fee4738",
   "metadata": {},
   "outputs": [
    {
     "data": {
      "text/plain": [
       "(np.float64(0.5439376531397451), np.float64(0.058860561148638794))"
      ]
     },
     "execution_count": 18,
     "metadata": {},
     "output_type": "execute_result"
    }
   ],
   "source": [
    "model = Lasso(alpha=0.001)\n",
    "model.fit(X_train, y_train)\n",
    "ls_medias = cross_val_score(estimator=model, X=X_train, y = y_train, cv = 4, n_jobs=-1, scoring=\"r2\")\n",
    "np.mean(ls_medias), np.std(ls_medias)"
   ]
  },
  {
   "cell_type": "markdown",
   "id": "3ab74306",
   "metadata": {},
   "source": [
    "#### Escalada"
   ]
  },
  {
   "cell_type": "code",
   "execution_count": 19,
   "id": "e89d200d",
   "metadata": {},
   "outputs": [
    {
     "data": {
      "text/plain": [
       "(np.float64(0.5425819492557116), np.float64(0.0562288465008557))"
      ]
     },
     "execution_count": 19,
     "metadata": {},
     "output_type": "execute_result"
    }
   ],
   "source": [
    "model = Lasso(alpha=0.001)\n",
    "model.fit(Xs, ys)\n",
    "ls_medias = cross_val_score(estimator=model, X=Xs, y = ys, cv = 4, n_jobs=-1, scoring=\"r2\")\n",
    "np.mean(ls_medias), np.std(ls_medias)"
   ]
  },
  {
   "cell_type": "markdown",
   "id": "02a209df",
   "metadata": {},
   "source": [
    "### Regresión Ridge"
   ]
  },
  {
   "cell_type": "markdown",
   "id": "f912db9c",
   "metadata": {},
   "source": [
    "#### Sin escalar"
   ]
  },
  {
   "cell_type": "code",
   "execution_count": 20,
   "id": "9451624a",
   "metadata": {},
   "outputs": [
    {
     "data": {
      "text/plain": [
       "(np.float64(0.5434913412000495), np.float64(0.05884424505667738))"
      ]
     },
     "execution_count": 20,
     "metadata": {},
     "output_type": "execute_result"
    }
   ],
   "source": [
    "model = Ridge(alpha=0.001)\n",
    "model.fit(X_train, y_train)\n",
    "ls_medias = cross_val_score(estimator=model, X=X_train, y = y_train, cv = 4, n_jobs=-1, scoring=\"r2\")\n",
    "np.mean(ls_medias), np.std(ls_medias)"
   ]
  },
  {
   "cell_type": "markdown",
   "id": "354d2a20",
   "metadata": {},
   "source": [
    "#### Escalada"
   ]
  },
  {
   "cell_type": "code",
   "execution_count": 21,
   "id": "1bebd837",
   "metadata": {},
   "outputs": [
    {
     "data": {
      "text/plain": [
       "(np.float64(0.543319565078076), np.float64(0.05904599444896186))"
      ]
     },
     "execution_count": 21,
     "metadata": {},
     "output_type": "execute_result"
    }
   ],
   "source": [
    "model = Ridge(alpha=0.001)\n",
    "model.fit(Xs, ys)\n",
    "ls_medias = cross_val_score(estimator=model, X=Xs, y = ys, cv = 4, n_jobs=-1, scoring=\"r2\")\n",
    "np.mean(ls_medias), np.std(ls_medias)"
   ]
  },
  {
   "cell_type": "markdown",
   "id": "1ad5f368",
   "metadata": {},
   "source": [
    "### Elastic Net"
   ]
  },
  {
   "cell_type": "markdown",
   "id": "412a6fdf",
   "metadata": {},
   "source": [
    "#### Sin escalar"
   ]
  },
  {
   "cell_type": "code",
   "execution_count": 22,
   "id": "913bc24f",
   "metadata": {},
   "outputs": [
    {
     "data": {
      "text/plain": [
       "(np.float64(0.5279401517757072), np.float64(0.05874629746262225))"
      ]
     },
     "execution_count": 22,
     "metadata": {},
     "output_type": "execute_result"
    }
   ],
   "source": [
    "model = ElasticNet(alpha=0.001)\n",
    "model.fit(X_train, y_train)\n",
    "ls_medias = cross_val_score(estimator=model, X=X_train, y = y_train, cv = 4, n_jobs=-1, scoring=\"r2\")\n",
    "np.mean(ls_medias), np.std(ls_medias)"
   ]
  },
  {
   "cell_type": "markdown",
   "id": "b3a5d49c",
   "metadata": {},
   "source": [
    "#### Escalada"
   ]
  },
  {
   "cell_type": "code",
   "execution_count": 23,
   "id": "ff01ff60",
   "metadata": {},
   "outputs": [
    {
     "data": {
      "text/plain": [
       "(np.float64(0.5440708211852359), np.float64(0.057765654137106735))"
      ]
     },
     "execution_count": 23,
     "metadata": {},
     "output_type": "execute_result"
    }
   ],
   "source": [
    "model = ElasticNet(alpha=0.001)\n",
    "model.fit(Xs, ys)\n",
    "ls_medias = cross_val_score(estimator=model, X=Xs, y = ys, cv = 4, n_jobs=-1, scoring=\"r2\")\n",
    "np.mean(ls_medias), np.std(ls_medias)"
   ]
  },
  {
   "cell_type": "markdown",
   "id": "5a23d824",
   "metadata": {},
   "source": [
    "## Modelado con vartiables estandarizados"
   ]
  },
  {
   "cell_type": "markdown",
   "id": "525d377b",
   "metadata": {},
   "source": [
    "### Regresión Lasso"
   ]
  },
  {
   "cell_type": "markdown",
   "id": "44c16886",
   "metadata": {},
   "source": [
    "#### Sin escalar"
   ]
  },
  {
   "cell_type": "code",
   "execution_count": null,
   "id": "55eef0eb",
   "metadata": {},
   "outputs": [],
   "source": [
    "model = Lasso(alpha=0.001)\n",
    "model.fit(X_train, y_train)\n",
    "ls_medias = cross_val_score(estimator=model, X=X_train, y = y_train, cv = 4, n_jobs=-1, scoring=\"r2\")\n",
    "np.mean(ls_medias), np.std(ls_medias)"
   ]
  },
  {
   "cell_type": "markdown",
   "id": "976c2690",
   "metadata": {},
   "source": [
    "#### Escalada"
   ]
  },
  {
   "cell_type": "code",
   "execution_count": 24,
   "id": "34dbf512",
   "metadata": {},
   "outputs": [
    {
     "data": {
      "text/plain": [
       "(np.float64(0.5435110560319631), np.float64(0.05897647339710347))"
      ]
     },
     "execution_count": 24,
     "metadata": {},
     "output_type": "execute_result"
    }
   ],
   "source": [
    "model = Lasso(alpha=0.001)\n",
    "model.fit(Xs, ys)\n",
    "ls_medias = cross_val_score(estimator=model, X=Xn, y = yn, cv = 4, n_jobs=-1, scoring=\"r2\")\n",
    "np.mean(ls_medias), np.std(ls_medias)"
   ]
  },
  {
   "cell_type": "markdown",
   "id": "57ceb299",
   "metadata": {},
   "source": [
    "### Regresión Ridge"
   ]
  },
  {
   "cell_type": "markdown",
   "id": "7bc2c7fa",
   "metadata": {},
   "source": [
    "#### Sin escalar"
   ]
  },
  {
   "cell_type": "code",
   "execution_count": 25,
   "id": "68457297",
   "metadata": {},
   "outputs": [
    {
     "data": {
      "text/plain": [
       "(np.float64(0.5434913412000495), np.float64(0.05884424505667738))"
      ]
     },
     "execution_count": 25,
     "metadata": {},
     "output_type": "execute_result"
    }
   ],
   "source": [
    "model = Ridge(alpha=0.001)\n",
    "model.fit(X_train, y_train)\n",
    "ls_medias = cross_val_score(estimator=model, X=X_train, y = y_train, cv = 4, n_jobs=-1, scoring=\"r2\")\n",
    "np.mean(ls_medias), np.std(ls_medias)"
   ]
  },
  {
   "cell_type": "markdown",
   "id": "41d4855e",
   "metadata": {},
   "source": [
    "#### Escalado"
   ]
  },
  {
   "cell_type": "code",
   "execution_count": 26,
   "id": "25966504",
   "metadata": {},
   "outputs": [
    {
     "data": {
      "text/plain": [
       "(np.float64(0.5433136110099901), np.float64(0.05904230322898269))"
      ]
     },
     "execution_count": 26,
     "metadata": {},
     "output_type": "execute_result"
    }
   ],
   "source": [
    "model = Ridge(alpha=0.001)\n",
    "model.fit(Xn, yn)\n",
    "ls_medias = cross_val_score(estimator=model, X=Xn, y = yn, cv = 4, n_jobs=-1, scoring=\"r2\")\n",
    "np.mean(ls_medias), np.std(ls_medias)"
   ]
  },
  {
   "cell_type": "markdown",
   "id": "5fd69e9d",
   "metadata": {},
   "source": [
    "### ElasticNet"
   ]
  },
  {
   "cell_type": "markdown",
   "id": "6df62e28",
   "metadata": {},
   "source": [
    "#### Sin escalar"
   ]
  },
  {
   "cell_type": "code",
   "execution_count": 27,
   "id": "b7ea447f",
   "metadata": {},
   "outputs": [
    {
     "data": {
      "text/plain": [
       "(np.float64(0.5279401517757072), np.float64(0.05874629746262225))"
      ]
     },
     "execution_count": 27,
     "metadata": {},
     "output_type": "execute_result"
    }
   ],
   "source": [
    "model = ElasticNet(alpha=0.001)\n",
    "model.fit(X_train, y_train)\n",
    "ls_medias = cross_val_score(estimator=model, X=X_train, y = y_train, cv = 4, n_jobs=-1, scoring=\"r2\")\n",
    "np.mean(ls_medias), np.std(ls_medias)"
   ]
  },
  {
   "cell_type": "markdown",
   "id": "c29f94ec",
   "metadata": {},
   "source": [
    "#### Escalado"
   ]
  },
  {
   "cell_type": "code",
   "execution_count": 28,
   "id": "53ed0b9a",
   "metadata": {},
   "outputs": [
    {
     "data": {
      "text/plain": [
       "(np.float64(0.5434451802208382), np.float64(0.05900792042254918))"
      ]
     },
     "execution_count": 28,
     "metadata": {},
     "output_type": "execute_result"
    }
   ],
   "source": [
    "model = ElasticNet(alpha=0.001)\n",
    "model.fit(Xn, yn)\n",
    "ls_medias = cross_val_score(estimator=model, X=Xn, y = yn, cv = 4, n_jobs=-1, scoring=\"r2\")\n",
    "np.mean(ls_medias), np.std(ls_medias)"
   ]
  },
  {
   "cell_type": "markdown",
   "id": "2c7444aa",
   "metadata": {},
   "source": [
    "## Aplicación"
   ]
  },
  {
   "cell_type": "code",
   "execution_count": 29,
   "id": "3aba2f1e",
   "metadata": {},
   "outputs": [
    {
     "data": {
      "text/html": [
       "<div>\n",
       "<style scoped>\n",
       "    .dataframe tbody tr th:only-of-type {\n",
       "        vertical-align: middle;\n",
       "    }\n",
       "\n",
       "    .dataframe tbody tr th {\n",
       "        vertical-align: top;\n",
       "    }\n",
       "\n",
       "    .dataframe thead th {\n",
       "        text-align: right;\n",
       "    }\n",
       "</style>\n",
       "<table border=\"1\" class=\"dataframe\">\n",
       "  <thead>\n",
       "    <tr style=\"text-align: right;\">\n",
       "      <th></th>\n",
       "      <th>house_age</th>\n",
       "      <th>distanceToTheNearestMRTstation</th>\n",
       "      <th>Number OfConvenience stores</th>\n",
       "      <th>latitude</th>\n",
       "      <th>longitude</th>\n",
       "    </tr>\n",
       "  </thead>\n",
       "  <tbody>\n",
       "    <tr>\n",
       "      <th>360</th>\n",
       "      <td>32.9</td>\n",
       "      <td>87.30222</td>\n",
       "      <td>10</td>\n",
       "      <td>24.98300</td>\n",
       "      <td>121.54022</td>\n",
       "    </tr>\n",
       "    <tr>\n",
       "      <th>196</th>\n",
       "      <td>22.8</td>\n",
       "      <td>707.90670</td>\n",
       "      <td>2</td>\n",
       "      <td>24.98100</td>\n",
       "      <td>121.54713</td>\n",
       "    </tr>\n",
       "    <tr>\n",
       "      <th>283</th>\n",
       "      <td>33.5</td>\n",
       "      <td>1978.67100</td>\n",
       "      <td>2</td>\n",
       "      <td>24.98674</td>\n",
       "      <td>121.51844</td>\n",
       "    </tr>\n",
       "    <tr>\n",
       "      <th>312</th>\n",
       "      <td>35.4</td>\n",
       "      <td>318.52920</td>\n",
       "      <td>9</td>\n",
       "      <td>24.97071</td>\n",
       "      <td>121.54069</td>\n",
       "    </tr>\n",
       "    <tr>\n",
       "      <th>267</th>\n",
       "      <td>34.7</td>\n",
       "      <td>482.75810</td>\n",
       "      <td>5</td>\n",
       "      <td>24.97433</td>\n",
       "      <td>121.53863</td>\n",
       "    </tr>\n",
       "  </tbody>\n",
       "</table>\n",
       "</div>"
      ],
      "text/plain": [
       "     house_age  distanceToTheNearestMRTstation  Number OfConvenience stores  \\\n",
       "360       32.9                        87.30222                           10   \n",
       "196       22.8                       707.90670                            2   \n",
       "283       33.5                      1978.67100                            2   \n",
       "312       35.4                       318.52920                            9   \n",
       "267       34.7                       482.75810                            5   \n",
       "\n",
       "     latitude  longitude  \n",
       "360  24.98300  121.54022  \n",
       "196  24.98100  121.54713  \n",
       "283  24.98674  121.51844  \n",
       "312  24.97071  121.54069  \n",
       "267  24.97433  121.53863  "
      ]
     },
     "execution_count": 29,
     "metadata": {},
     "output_type": "execute_result"
    }
   ],
   "source": [
    "X_test.head()"
   ]
  },
  {
   "cell_type": "code",
   "execution_count": 30,
   "id": "a3cb84bd",
   "metadata": {},
   "outputs": [
    {
     "data": {
      "text/plain": [
       "array([ 0.69552462,  0.06262267, -0.45399626,  0.28992175, -0.00700504,\n",
       "        0.08869851,  0.68998804, -0.32244131,  1.02118338,  0.80748316,\n",
       "       -0.04741908, -0.18282047, -0.41696632, -0.22405149,  0.2186825 ,\n",
       "        0.85571471,  0.48468785,  0.36754346, -0.31739186, -0.3785069 ,\n",
       "        1.04575968,  0.58900436,  0.06678257, -0.67020196, -0.17845318,\n",
       "       -0.14060668, -0.52783327,  0.22544693,  0.70305388, -1.56559293,\n",
       "        0.56018879, -0.06083486,  0.65895211,  0.58303033, -0.32314573,\n",
       "       -0.76660505, -0.20750837,  0.56018879,  0.58654121,  0.48699522,\n",
       "        0.54396767,  0.81081622,  0.6170682 , -1.83722288, -0.95239502,\n",
       "        0.58247144,  0.71548767,  0.53869541,  0.09654223, -0.48738496,\n",
       "       -1.61513257,  0.55583352,  0.01841717,  0.57376088, -0.49101514,\n",
       "        0.55201537,  0.50034183,  0.73958437,  0.87866699, -0.59911089,\n",
       "       -0.2724917 ,  0.49655077, -1.66265154,  0.3659577 , -0.58325457,\n",
       "        0.89562192, -1.54544812,  0.13308978,  0.49095735, -0.2194581 ,\n",
       "       -0.42631386, -0.26813642,  0.14660238,  0.20187277, -0.17627554,\n",
       "       -0.89137716, -0.39112901,  0.57811616,  0.55365588,  1.05882552,\n",
       "        0.48468785,  0.3043853 ,  1.14317291, -0.37985916,  0.63070241,\n",
       "       -0.27295624,  0.5493006 ,  0.58464908, -0.21074754,  0.82272664,\n",
       "       -0.49244861, -0.00486443,  0.36988089,  0.76210299, -0.50848222,\n",
       "        0.30652657,  0.16938374, -0.10515423,  0.60894302,  0.14325411,\n",
       "       -0.44750832,  0.2077943 ,  0.90868775,  0.74521756])"
      ]
     },
     "execution_count": 30,
     "metadata": {},
     "output_type": "execute_result"
    }
   ],
   "source": [
    "# Aplicación de MinMaxScaler a los datos de prueba\n",
    "model.predict(sc_x.transform(X_test))"
   ]
  },
  {
   "cell_type": "code",
   "execution_count": 31,
   "id": "c405aaa7",
   "metadata": {},
   "outputs": [
    {
     "data": {
      "text/html": [
       "<div>\n",
       "<style scoped>\n",
       "    .dataframe tbody tr th:only-of-type {\n",
       "        vertical-align: middle;\n",
       "    }\n",
       "\n",
       "    .dataframe tbody tr th {\n",
       "        vertical-align: top;\n",
       "    }\n",
       "\n",
       "    .dataframe thead th {\n",
       "        text-align: right;\n",
       "    }\n",
       "</style>\n",
       "<table border=\"1\" class=\"dataframe\">\n",
       "  <thead>\n",
       "    <tr style=\"text-align: right;\">\n",
       "      <th></th>\n",
       "      <th>target</th>\n",
       "    </tr>\n",
       "  </thead>\n",
       "  <tbody>\n",
       "    <tr>\n",
       "      <th>0</th>\n",
       "      <td>0.695525</td>\n",
       "    </tr>\n",
       "    <tr>\n",
       "      <th>1</th>\n",
       "      <td>0.062623</td>\n",
       "    </tr>\n",
       "    <tr>\n",
       "      <th>2</th>\n",
       "      <td>-0.453996</td>\n",
       "    </tr>\n",
       "    <tr>\n",
       "      <th>3</th>\n",
       "      <td>0.289922</td>\n",
       "    </tr>\n",
       "    <tr>\n",
       "      <th>4</th>\n",
       "      <td>-0.007005</td>\n",
       "    </tr>\n",
       "    <tr>\n",
       "      <th>...</th>\n",
       "      <td>...</td>\n",
       "    </tr>\n",
       "    <tr>\n",
       "      <th>99</th>\n",
       "      <td>0.143254</td>\n",
       "    </tr>\n",
       "    <tr>\n",
       "      <th>100</th>\n",
       "      <td>-0.447508</td>\n",
       "    </tr>\n",
       "    <tr>\n",
       "      <th>101</th>\n",
       "      <td>0.207794</td>\n",
       "    </tr>\n",
       "    <tr>\n",
       "      <th>102</th>\n",
       "      <td>0.908688</td>\n",
       "    </tr>\n",
       "    <tr>\n",
       "      <th>103</th>\n",
       "      <td>0.745218</td>\n",
       "    </tr>\n",
       "  </tbody>\n",
       "</table>\n",
       "<p>104 rows × 1 columns</p>\n",
       "</div>"
      ],
      "text/plain": [
       "       target\n",
       "0    0.695525\n",
       "1    0.062623\n",
       "2   -0.453996\n",
       "3    0.289922\n",
       "4   -0.007005\n",
       "..        ...\n",
       "99   0.143254\n",
       "100 -0.447508\n",
       "101  0.207794\n",
       "102  0.908688\n",
       "103  0.745218\n",
       "\n",
       "[104 rows x 1 columns]"
      ]
     },
     "execution_count": 31,
     "metadata": {},
     "output_type": "execute_result"
    }
   ],
   "source": [
    "# Prediccion de los datos escalados\n",
    "pd.DataFrame(model.predict(sc_x.transform(X_test)), columns=[\"target\"])"
   ]
  },
  {
   "cell_type": "code",
   "execution_count": 33,
   "id": "d0b50f8d",
   "metadata": {},
   "outputs": [
    {
     "data": {
      "text/plain": [
       "array([[47.3051542 ],\n",
       "       [38.4961278 ],\n",
       "       [31.30558319],\n",
       "       [41.65978304],\n",
       "       [37.52701674],\n",
       "       [38.85906364],\n",
       "       [47.22809347],\n",
       "       [33.13662661],\n",
       "       [51.83782557],\n",
       "       [48.86344571],\n",
       "       [36.96451511],\n",
       "       [35.07993505],\n",
       "       [31.82098317],\n",
       "       [34.50606232],\n",
       "       [40.66824172],\n",
       "       [49.53475507],\n",
       "       [44.3706291 ],\n",
       "       [42.74015854],\n",
       "       [33.20690735],\n",
       "       [32.35627943],\n",
       "       [52.1798901 ],\n",
       "       [45.82255519],\n",
       "       [38.55402724],\n",
       "       [28.29633076],\n",
       "       [35.14072105],\n",
       "       [35.66748632],\n",
       "       [30.27788501],\n",
       "       [40.76239235],\n",
       "       [47.4099499 ],\n",
       "       [15.83385909],\n",
       "       [45.42148663],\n",
       "       [36.77778807],\n",
       "       [46.79612083],\n",
       "       [45.73940589],\n",
       "       [33.12682226],\n",
       "       [26.9545473 ],\n",
       "       [34.73631721],\n",
       "       [45.42148663],\n",
       "       [45.78827193],\n",
       "       [44.40274418],\n",
       "       [45.19571346],\n",
       "       [48.90983671],\n",
       "       [46.21316094],\n",
       "       [12.05318604],\n",
       "       [24.36863527],\n",
       "       [45.73162698],\n",
       "       [47.58300931],\n",
       "       [45.12233163],\n",
       "       [38.96823616],\n",
       "       [30.84086362],\n",
       "       [15.14434312],\n",
       "       [45.36086782],\n",
       "       [37.88085496],\n",
       "       [45.61038936],\n",
       "       [30.790337  ],\n",
       "       [45.30772511],\n",
       "       [44.58850844],\n",
       "       [47.91839838],\n",
       "       [49.85421555],\n",
       "       [29.28580963],\n",
       "       [33.83184877],\n",
       "       [44.53574279],\n",
       "       [14.48295178],\n",
       "       [42.71808706],\n",
       "       [29.50650538],\n",
       "       [50.09020223],\n",
       "       [16.11424405],\n",
       "       [39.4769222 ],\n",
       "       [44.45789094],\n",
       "       [34.5699953 ],\n",
       "       [31.69087985],\n",
       "       [33.89246758],\n",
       "       [39.6649968 ],\n",
       "       [40.43427611],\n",
       "       [35.17103045],\n",
       "       [25.21791051],\n",
       "       [32.18059906],\n",
       "       [45.67100817],\n",
       "       [45.33055841],\n",
       "       [52.36174652],\n",
       "       [44.3706291 ],\n",
       "       [41.86109358],\n",
       "       [53.53573309],\n",
       "       [32.33745806],\n",
       "       [46.40292817],\n",
       "       [33.82538313],\n",
       "       [45.26993961],\n",
       "       [45.76193638],\n",
       "       [34.69123292],\n",
       "       [49.07561154],\n",
       "       [30.77038523],\n",
       "       [37.55681069],\n",
       "       [42.7726919 ],\n",
       "       [48.23182315],\n",
       "       [30.547222  ],\n",
       "       [41.89089678],\n",
       "       [39.98207848],\n",
       "       [36.1609302 ],\n",
       "       [46.10007082],\n",
       "       [39.61839402],\n",
       "       [31.39588532],\n",
       "       [40.5166947 ],\n",
       "       [50.27205865],\n",
       "       [47.99680377]])"
      ]
     },
     "execution_count": 33,
     "metadata": {},
     "output_type": "execute_result"
    }
   ],
   "source": [
    "# Regresar datos a formato original\n",
    "sc_y.inverse_transform(pd.DataFrame(model.predict(sc_x.transform(X_test)), columns=[\"target\"]))"
   ]
  },
  {
   "cell_type": "code",
   "execution_count": 34,
   "id": "f7f070dc",
   "metadata": {},
   "outputs": [
    {
     "data": {
      "text/html": [
       "<div>\n",
       "<style scoped>\n",
       "    .dataframe tbody tr th:only-of-type {\n",
       "        vertical-align: middle;\n",
       "    }\n",
       "\n",
       "    .dataframe tbody tr th {\n",
       "        vertical-align: top;\n",
       "    }\n",
       "\n",
       "    .dataframe thead th {\n",
       "        text-align: right;\n",
       "    }\n",
       "</style>\n",
       "<table border=\"1\" class=\"dataframe\">\n",
       "  <thead>\n",
       "    <tr style=\"text-align: right;\">\n",
       "      <th></th>\n",
       "      <th>house_price</th>\n",
       "    </tr>\n",
       "  </thead>\n",
       "  <tbody>\n",
       "    <tr>\n",
       "      <th>360</th>\n",
       "      <td>47.1</td>\n",
       "    </tr>\n",
       "    <tr>\n",
       "      <th>196</th>\n",
       "      <td>36.6</td>\n",
       "    </tr>\n",
       "    <tr>\n",
       "      <th>283</th>\n",
       "      <td>23.5</td>\n",
       "    </tr>\n",
       "    <tr>\n",
       "      <th>312</th>\n",
       "      <td>78.0</td>\n",
       "    </tr>\n",
       "    <tr>\n",
       "      <th>267</th>\n",
       "      <td>41.1</td>\n",
       "    </tr>\n",
       "    <tr>\n",
       "      <th>...</th>\n",
       "      <td>...</td>\n",
       "    </tr>\n",
       "    <tr>\n",
       "      <th>279</th>\n",
       "      <td>31.1</td>\n",
       "    </tr>\n",
       "    <tr>\n",
       "      <th>144</th>\n",
       "      <td>28.4</td>\n",
       "    </tr>\n",
       "    <tr>\n",
       "      <th>273</th>\n",
       "      <td>29.3</td>\n",
       "    </tr>\n",
       "    <tr>\n",
       "      <th>254</th>\n",
       "      <td>51.8</td>\n",
       "    </tr>\n",
       "    <tr>\n",
       "      <th>225</th>\n",
       "      <td>49.0</td>\n",
       "    </tr>\n",
       "  </tbody>\n",
       "</table>\n",
       "<p>104 rows × 1 columns</p>\n",
       "</div>"
      ],
      "text/plain": [
       "     house_price\n",
       "360         47.1\n",
       "196         36.6\n",
       "283         23.5\n",
       "312         78.0\n",
       "267         41.1\n",
       "..           ...\n",
       "279         31.1\n",
       "144         28.4\n",
       "273         29.3\n",
       "254         51.8\n",
       "225         49.0\n",
       "\n",
       "[104 rows x 1 columns]"
      ]
     },
     "execution_count": 34,
     "metadata": {},
     "output_type": "execute_result"
    }
   ],
   "source": [
    "y_test"
   ]
  },
  {
   "cell_type": "markdown",
   "id": "b7f10ef1",
   "metadata": {},
   "source": []
  }
 ],
 "metadata": {
  "kernelspec": {
   "display_name": ".venv",
   "language": "python",
   "name": "python3"
  },
  "language_info": {
   "codemirror_mode": {
    "name": "ipython",
    "version": 3
   },
   "file_extension": ".py",
   "mimetype": "text/x-python",
   "name": "python",
   "nbconvert_exporter": "python",
   "pygments_lexer": "ipython3",
   "version": "3.13.2"
  }
 },
 "nbformat": 4,
 "nbformat_minor": 5
}
