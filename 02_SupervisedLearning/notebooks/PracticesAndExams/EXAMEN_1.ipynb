{
 "cells": [
  {
   "cell_type": "markdown",
   "id": "394c5080",
   "metadata": {},
   "source": [
    "# Lectura de Datos"
   ]
  },
  {
   "cell_type": "code",
   "execution_count": 221,
   "id": "0be86750",
   "metadata": {},
   "outputs": [],
   "source": [
    "import numpy as np\n",
    "import pandas as pd\n",
    "\n",
    "import seaborn as sns\n",
    "import matplotlib.pyplot as plt\n",
    "\n",
    "from sklearn.linear_model import LinearRegression\n",
    "from sklearn.model_selection import cross_val_score\n",
    "from sklearn.metrics import r2_score, mean_squared_error, mean_absolute_error\n",
    "from sklearn.feature_selection import SelectKBest, f_classif, f_regression"
   ]
  },
  {
   "cell_type": "code",
   "execution_count": 222,
   "id": "e1a79ba3",
   "metadata": {},
   "outputs": [],
   "source": [
    "pd.set_option(\"display.max_columns\", 100)\n",
    "pd.set_option('display.float_format', lambda x: \"{:,.2f}\".format(x))"
   ]
  },
  {
   "cell_type": "code",
   "execution_count": 223,
   "id": "a5843eba",
   "metadata": {},
   "outputs": [
    {
     "data": {
      "text/plain": [
       "(5625, 23)"
      ]
     },
     "execution_count": 223,
     "metadata": {},
     "output_type": "execute_result"
    }
   ],
   "source": [
    "train_PAY_AMT1 = pd.read_csv('/Users/gblasd/Documents/DataScience/02_SupervisedLearning/data/Examen_1/train_PAY_AMT1.csv',\n",
    "                             delimiter='|')\n",
    "train_PAY_AMT1.shape"
   ]
  },
  {
   "cell_type": "code",
   "execution_count": 224,
   "id": "51dd4573",
   "metadata": {},
   "outputs": [
    {
     "data": {
      "text/plain": [
       "(1875, 22)"
      ]
     },
     "execution_count": 224,
     "metadata": {},
     "output_type": "execute_result"
    }
   ],
   "source": [
    "val_PAY_AMT1 = pd.read_csv('/Users/gblasd/Documents/DataScience/02_SupervisedLearning/data/Examen_1/val_PAY_AMT1.csv',\n",
    "                             delimiter='|')\n",
    "val_PAY_AMT1.shape"
   ]
  },
  {
   "cell_type": "code",
   "execution_count": 225,
   "id": "c00e1dbd",
   "metadata": {},
   "outputs": [
    {
     "data": {
      "text/html": [
       "<div>\n",
       "<style scoped>\n",
       "    .dataframe tbody tr th:only-of-type {\n",
       "        vertical-align: middle;\n",
       "    }\n",
       "\n",
       "    .dataframe tbody tr th {\n",
       "        vertical-align: top;\n",
       "    }\n",
       "\n",
       "    .dataframe thead th {\n",
       "        text-align: right;\n",
       "    }\n",
       "</style>\n",
       "<table border=\"1\" class=\"dataframe\">\n",
       "  <thead>\n",
       "    <tr style=\"text-align: right;\">\n",
       "      <th></th>\n",
       "      <th>CUSTOMER_ID</th>\n",
       "      <th>LIMIT_BAL</th>\n",
       "      <th>SEX</th>\n",
       "      <th>EDUCATION</th>\n",
       "      <th>MARRIAGE</th>\n",
       "      <th>AGE</th>\n",
       "      <th>PAY_2</th>\n",
       "      <th>PAY_3</th>\n",
       "      <th>PAY_4</th>\n",
       "      <th>PAY_5</th>\n",
       "      <th>PAY_6</th>\n",
       "      <th>BILL_AMT1</th>\n",
       "      <th>BILL_AMT2</th>\n",
       "      <th>BILL_AMT3</th>\n",
       "      <th>BILL_AMT4</th>\n",
       "      <th>BILL_AMT5</th>\n",
       "      <th>BILL_AMT6</th>\n",
       "      <th>PAY_AMT2</th>\n",
       "      <th>PAY_AMT3</th>\n",
       "      <th>PAY_AMT4</th>\n",
       "      <th>PAY_AMT5</th>\n",
       "      <th>PAY_AMT6</th>\n",
       "    </tr>\n",
       "  </thead>\n",
       "  <tbody>\n",
       "    <tr>\n",
       "      <th>0</th>\n",
       "      <td>4130</td>\n",
       "      <td>30,000.00</td>\n",
       "      <td>2</td>\n",
       "      <td>2</td>\n",
       "      <td>2</td>\n",
       "      <td>22</td>\n",
       "      <td>2</td>\n",
       "      <td>2</td>\n",
       "      <td>2</td>\n",
       "      <td>-1</td>\n",
       "      <td>-1</td>\n",
       "      <td>200.00</td>\n",
       "      <td>200.00</td>\n",
       "      <td>200.00</td>\n",
       "      <td>200.00</td>\n",
       "      <td>29,847.00</td>\n",
       "      <td>30,089.00</td>\n",
       "      <td>0.00</td>\n",
       "      <td>0.00</td>\n",
       "      <td>29,847.00</td>\n",
       "      <td>340.00</td>\n",
       "      <td>0.00</td>\n",
       "    </tr>\n",
       "    <tr>\n",
       "      <th>1</th>\n",
       "      <td>4150</td>\n",
       "      <td>180,000.00</td>\n",
       "      <td>2</td>\n",
       "      <td>1</td>\n",
       "      <td>2</td>\n",
       "      <td>28</td>\n",
       "      <td>-2</td>\n",
       "      <td>-2</td>\n",
       "      <td>-2</td>\n",
       "      <td>-2</td>\n",
       "      <td>-2</td>\n",
       "      <td>0.00</td>\n",
       "      <td>0.00</td>\n",
       "      <td>0.00</td>\n",
       "      <td>0.00</td>\n",
       "      <td>0.00</td>\n",
       "      <td>0.00</td>\n",
       "      <td>0.00</td>\n",
       "      <td>0.00</td>\n",
       "      <td>0.00</td>\n",
       "      <td>0.00</td>\n",
       "      <td>0.00</td>\n",
       "    </tr>\n",
       "    <tr>\n",
       "      <th>2</th>\n",
       "      <td>19181</td>\n",
       "      <td>250,000.00</td>\n",
       "      <td>2</td>\n",
       "      <td>2</td>\n",
       "      <td>2</td>\n",
       "      <td>24</td>\n",
       "      <td>0</td>\n",
       "      <td>0</td>\n",
       "      <td>0</td>\n",
       "      <td>0</td>\n",
       "      <td>0</td>\n",
       "      <td>69,770.00</td>\n",
       "      <td>70,954.00</td>\n",
       "      <td>70,681.00</td>\n",
       "      <td>69,497.00</td>\n",
       "      <td>41,367.00</td>\n",
       "      <td>17,004.00</td>\n",
       "      <td>1,914.00</td>\n",
       "      <td>1,517.00</td>\n",
       "      <td>2,000.00</td>\n",
       "      <td>8,001.00</td>\n",
       "      <td>295.00</td>\n",
       "    </tr>\n",
       "    <tr>\n",
       "      <th>3</th>\n",
       "      <td>2595</td>\n",
       "      <td>20,000.00</td>\n",
       "      <td>2</td>\n",
       "      <td>2</td>\n",
       "      <td>2</td>\n",
       "      <td>34</td>\n",
       "      <td>-1</td>\n",
       "      <td>-1</td>\n",
       "      <td>-1</td>\n",
       "      <td>-1</td>\n",
       "      <td>-1</td>\n",
       "      <td>780.00</td>\n",
       "      <td>0.00</td>\n",
       "      <td>390.00</td>\n",
       "      <td>390.00</td>\n",
       "      <td>390.00</td>\n",
       "      <td>12,190.00</td>\n",
       "      <td>390.00</td>\n",
       "      <td>390.00</td>\n",
       "      <td>390.00</td>\n",
       "      <td>12,190.00</td>\n",
       "      <td>780.00</td>\n",
       "    </tr>\n",
       "    <tr>\n",
       "      <th>4</th>\n",
       "      <td>4513</td>\n",
       "      <td>40,000.00</td>\n",
       "      <td>2</td>\n",
       "      <td>2</td>\n",
       "      <td>1</td>\n",
       "      <td>36</td>\n",
       "      <td>2</td>\n",
       "      <td>2</td>\n",
       "      <td>2</td>\n",
       "      <td>0</td>\n",
       "      <td>0</td>\n",
       "      <td>7,129.00</td>\n",
       "      <td>8,850.00</td>\n",
       "      <td>9,733.00</td>\n",
       "      <td>9,375.00</td>\n",
       "      <td>6,003.00</td>\n",
       "      <td>2,435.00</td>\n",
       "      <td>1,172.00</td>\n",
       "      <td>0.00</td>\n",
       "      <td>500.00</td>\n",
       "      <td>1,015.00</td>\n",
       "      <td>1,000.00</td>\n",
       "    </tr>\n",
       "  </tbody>\n",
       "</table>\n",
       "</div>"
      ],
      "text/plain": [
       "   CUSTOMER_ID  LIMIT_BAL  SEX  EDUCATION  MARRIAGE  AGE  PAY_2  PAY_3  PAY_4  \\\n",
       "0         4130  30,000.00    2          2         2   22      2      2      2   \n",
       "1         4150 180,000.00    2          1         2   28     -2     -2     -2   \n",
       "2        19181 250,000.00    2          2         2   24      0      0      0   \n",
       "3         2595  20,000.00    2          2         2   34     -1     -1     -1   \n",
       "4         4513  40,000.00    2          2         1   36      2      2      2   \n",
       "\n",
       "   PAY_5  PAY_6  BILL_AMT1  BILL_AMT2  BILL_AMT3  BILL_AMT4  BILL_AMT5  \\\n",
       "0     -1     -1     200.00     200.00     200.00     200.00  29,847.00   \n",
       "1     -2     -2       0.00       0.00       0.00       0.00       0.00   \n",
       "2      0      0  69,770.00  70,954.00  70,681.00  69,497.00  41,367.00   \n",
       "3     -1     -1     780.00       0.00     390.00     390.00     390.00   \n",
       "4      0      0   7,129.00   8,850.00   9,733.00   9,375.00   6,003.00   \n",
       "\n",
       "   BILL_AMT6  PAY_AMT2  PAY_AMT3  PAY_AMT4  PAY_AMT5  PAY_AMT6  \n",
       "0  30,089.00      0.00      0.00 29,847.00    340.00      0.00  \n",
       "1       0.00      0.00      0.00      0.00      0.00      0.00  \n",
       "2  17,004.00  1,914.00  1,517.00  2,000.00  8,001.00    295.00  \n",
       "3  12,190.00    390.00    390.00    390.00 12,190.00    780.00  \n",
       "4   2,435.00  1,172.00      0.00    500.00  1,015.00  1,000.00  "
      ]
     },
     "execution_count": 225,
     "metadata": {},
     "output_type": "execute_result"
    }
   ],
   "source": [
    "val_PAY_AMT1.head()"
   ]
  },
  {
   "cell_type": "code",
   "execution_count": 226,
   "id": "216a6582",
   "metadata": {},
   "outputs": [
    {
     "data": {
      "text/html": [
       "<div>\n",
       "<style scoped>\n",
       "    .dataframe tbody tr th:only-of-type {\n",
       "        vertical-align: middle;\n",
       "    }\n",
       "\n",
       "    .dataframe tbody tr th {\n",
       "        vertical-align: top;\n",
       "    }\n",
       "\n",
       "    .dataframe thead th {\n",
       "        text-align: right;\n",
       "    }\n",
       "</style>\n",
       "<table border=\"1\" class=\"dataframe\">\n",
       "  <thead>\n",
       "    <tr style=\"text-align: right;\">\n",
       "      <th></th>\n",
       "      <th>CUSTOMER_ID</th>\n",
       "      <th>LIMIT_BAL</th>\n",
       "      <th>SEX</th>\n",
       "      <th>EDUCATION</th>\n",
       "      <th>MARRIAGE</th>\n",
       "      <th>AGE</th>\n",
       "      <th>PAY_2</th>\n",
       "      <th>PAY_3</th>\n",
       "      <th>PAY_4</th>\n",
       "      <th>PAY_5</th>\n",
       "      <th>PAY_6</th>\n",
       "      <th>BILL_AMT1</th>\n",
       "      <th>BILL_AMT2</th>\n",
       "      <th>BILL_AMT3</th>\n",
       "      <th>BILL_AMT4</th>\n",
       "      <th>BILL_AMT5</th>\n",
       "      <th>BILL_AMT6</th>\n",
       "      <th>PAY_AMT1</th>\n",
       "      <th>PAY_AMT2</th>\n",
       "      <th>PAY_AMT3</th>\n",
       "      <th>PAY_AMT4</th>\n",
       "      <th>PAY_AMT5</th>\n",
       "      <th>PAY_AMT6</th>\n",
       "    </tr>\n",
       "  </thead>\n",
       "  <tbody>\n",
       "    <tr>\n",
       "      <th>0</th>\n",
       "      <td>22944</td>\n",
       "      <td>90,000.00</td>\n",
       "      <td>2</td>\n",
       "      <td>3</td>\n",
       "      <td>1</td>\n",
       "      <td>42</td>\n",
       "      <td>0</td>\n",
       "      <td>0</td>\n",
       "      <td>0</td>\n",
       "      <td>0</td>\n",
       "      <td>0</td>\n",
       "      <td>34,672.00</td>\n",
       "      <td>35,270.00</td>\n",
       "      <td>36,150.00</td>\n",
       "      <td>36,528.00</td>\n",
       "      <td>37,128.00</td>\n",
       "      <td>37,348.00</td>\n",
       "      <td>1,562.00</td>\n",
       "      <td>1,832.00</td>\n",
       "      <td>1,600.00</td>\n",
       "      <td>1,000.00</td>\n",
       "      <td>1,000.00</td>\n",
       "      <td>0.00</td>\n",
       "    </tr>\n",
       "    <tr>\n",
       "      <th>1</th>\n",
       "      <td>28806</td>\n",
       "      <td>40,000.00</td>\n",
       "      <td>2</td>\n",
       "      <td>2</td>\n",
       "      <td>1</td>\n",
       "      <td>33</td>\n",
       "      <td>2</td>\n",
       "      <td>2</td>\n",
       "      <td>2</td>\n",
       "      <td>2</td>\n",
       "      <td>2</td>\n",
       "      <td>23,734.00</td>\n",
       "      <td>24,644.00</td>\n",
       "      <td>25,749.00</td>\n",
       "      <td>26,127.00</td>\n",
       "      <td>26,401.00</td>\n",
       "      <td>25,839.00</td>\n",
       "      <td>1,600.00</td>\n",
       "      <td>1,800.00</td>\n",
       "      <td>1,100.00</td>\n",
       "      <td>1,000.00</td>\n",
       "      <td>0.00</td>\n",
       "      <td>2,300.00</td>\n",
       "    </tr>\n",
       "    <tr>\n",
       "      <th>2</th>\n",
       "      <td>26865</td>\n",
       "      <td>40,000.00</td>\n",
       "      <td>2</td>\n",
       "      <td>1</td>\n",
       "      <td>2</td>\n",
       "      <td>26</td>\n",
       "      <td>0</td>\n",
       "      <td>0</td>\n",
       "      <td>0</td>\n",
       "      <td>-1</td>\n",
       "      <td>-1</td>\n",
       "      <td>6,223.00</td>\n",
       "      <td>7,944.00</td>\n",
       "      <td>8,961.00</td>\n",
       "      <td>3,090.00</td>\n",
       "      <td>390.00</td>\n",
       "      <td>795.00</td>\n",
       "      <td>2,000.00</td>\n",
       "      <td>1,196.00</td>\n",
       "      <td>1,000.00</td>\n",
       "      <td>1,950.00</td>\n",
       "      <td>795.00</td>\n",
       "      <td>1,170.00</td>\n",
       "    </tr>\n",
       "    <tr>\n",
       "      <th>3</th>\n",
       "      <td>3082</td>\n",
       "      <td>90,000.00</td>\n",
       "      <td>2</td>\n",
       "      <td>3</td>\n",
       "      <td>2</td>\n",
       "      <td>50</td>\n",
       "      <td>0</td>\n",
       "      <td>0</td>\n",
       "      <td>0</td>\n",
       "      <td>0</td>\n",
       "      <td>0</td>\n",
       "      <td>83,939.00</td>\n",
       "      <td>86,583.00</td>\n",
       "      <td>87,014.00</td>\n",
       "      <td>46,293.00</td>\n",
       "      <td>47,576.00</td>\n",
       "      <td>46,663.00</td>\n",
       "      <td>4,000.00</td>\n",
       "      <td>2,500.00</td>\n",
       "      <td>2,000.00</td>\n",
       "      <td>2,000.00</td>\n",
       "      <td>2,000.00</td>\n",
       "      <td>2,000.00</td>\n",
       "    </tr>\n",
       "    <tr>\n",
       "      <th>4</th>\n",
       "      <td>10159</td>\n",
       "      <td>30,000.00</td>\n",
       "      <td>2</td>\n",
       "      <td>2</td>\n",
       "      <td>2</td>\n",
       "      <td>22</td>\n",
       "      <td>0</td>\n",
       "      <td>0</td>\n",
       "      <td>0</td>\n",
       "      <td>0</td>\n",
       "      <td>0</td>\n",
       "      <td>30,123.00</td>\n",
       "      <td>30,299.00</td>\n",
       "      <td>27,758.00</td>\n",
       "      <td>22,720.00</td>\n",
       "      <td>19,136.00</td>\n",
       "      <td>14,452.00</td>\n",
       "      <td>1,600.00</td>\n",
       "      <td>2,000.00</td>\n",
       "      <td>2,000.00</td>\n",
       "      <td>614.00</td>\n",
       "      <td>924.00</td>\n",
       "      <td>0.00</td>\n",
       "    </tr>\n",
       "  </tbody>\n",
       "</table>\n",
       "</div>"
      ],
      "text/plain": [
       "   CUSTOMER_ID  LIMIT_BAL  SEX  EDUCATION  MARRIAGE  AGE  PAY_2  PAY_3  PAY_4  \\\n",
       "0        22944  90,000.00    2          3         1   42      0      0      0   \n",
       "1        28806  40,000.00    2          2         1   33      2      2      2   \n",
       "2        26865  40,000.00    2          1         2   26      0      0      0   \n",
       "3         3082  90,000.00    2          3         2   50      0      0      0   \n",
       "4        10159  30,000.00    2          2         2   22      0      0      0   \n",
       "\n",
       "   PAY_5  PAY_6  BILL_AMT1  BILL_AMT2  BILL_AMT3  BILL_AMT4  BILL_AMT5  \\\n",
       "0      0      0  34,672.00  35,270.00  36,150.00  36,528.00  37,128.00   \n",
       "1      2      2  23,734.00  24,644.00  25,749.00  26,127.00  26,401.00   \n",
       "2     -1     -1   6,223.00   7,944.00   8,961.00   3,090.00     390.00   \n",
       "3      0      0  83,939.00  86,583.00  87,014.00  46,293.00  47,576.00   \n",
       "4      0      0  30,123.00  30,299.00  27,758.00  22,720.00  19,136.00   \n",
       "\n",
       "   BILL_AMT6  PAY_AMT1  PAY_AMT2  PAY_AMT3  PAY_AMT4  PAY_AMT5  PAY_AMT6  \n",
       "0  37,348.00  1,562.00  1,832.00  1,600.00  1,000.00  1,000.00      0.00  \n",
       "1  25,839.00  1,600.00  1,800.00  1,100.00  1,000.00      0.00  2,300.00  \n",
       "2     795.00  2,000.00  1,196.00  1,000.00  1,950.00    795.00  1,170.00  \n",
       "3  46,663.00  4,000.00  2,500.00  2,000.00  2,000.00  2,000.00  2,000.00  \n",
       "4  14,452.00  1,600.00  2,000.00  2,000.00    614.00    924.00      0.00  "
      ]
     },
     "execution_count": 226,
     "metadata": {},
     "output_type": "execute_result"
    }
   ],
   "source": [
    "train_PAY_AMT1.head()"
   ]
  },
  {
   "cell_type": "code",
   "execution_count": 227,
   "id": "9c152487",
   "metadata": {},
   "outputs": [
    {
     "name": "stdout",
     "output_type": "stream",
     "text": [
      "<class 'pandas.core.frame.DataFrame'>\n",
      "RangeIndex: 5625 entries, 0 to 5624\n",
      "Data columns (total 23 columns):\n",
      " #   Column       Non-Null Count  Dtype  \n",
      "---  ------       --------------  -----  \n",
      " 0   CUSTOMER_ID  5625 non-null   int64  \n",
      " 1   LIMIT_BAL    5625 non-null   float64\n",
      " 2   SEX          5625 non-null   int64  \n",
      " 3   EDUCATION    5625 non-null   int64  \n",
      " 4   MARRIAGE     5625 non-null   int64  \n",
      " 5   AGE          5625 non-null   int64  \n",
      " 6   PAY_2        5625 non-null   int64  \n",
      " 7   PAY_3        5625 non-null   int64  \n",
      " 8   PAY_4        5625 non-null   int64  \n",
      " 9   PAY_5        5625 non-null   int64  \n",
      " 10  PAY_6        5625 non-null   int64  \n",
      " 11  BILL_AMT1    5625 non-null   float64\n",
      " 12  BILL_AMT2    5625 non-null   float64\n",
      " 13  BILL_AMT3    5625 non-null   float64\n",
      " 14  BILL_AMT4    5625 non-null   float64\n",
      " 15  BILL_AMT5    5625 non-null   float64\n",
      " 16  BILL_AMT6    5625 non-null   float64\n",
      " 17  PAY_AMT1     5625 non-null   float64\n",
      " 18  PAY_AMT2     5625 non-null   float64\n",
      " 19  PAY_AMT3     5625 non-null   float64\n",
      " 20  PAY_AMT4     5625 non-null   float64\n",
      " 21  PAY_AMT5     5625 non-null   float64\n",
      " 22  PAY_AMT6     5625 non-null   float64\n",
      "dtypes: float64(13), int64(10)\n",
      "memory usage: 1010.9 KB\n"
     ]
    }
   ],
   "source": [
    "train_PAY_AMT1.info()"
   ]
  },
  {
   "cell_type": "markdown",
   "id": "9f3611ac",
   "metadata": {},
   "source": [
    "__Diccionario de datos__\n",
    "\n",
    "* CUSTOMER ID: Identificador de cada cliente\n",
    "* LIMIT BAL: Monto de la línea de crédito\n",
    "* SEX: Genero (1=masculino, 2=femenino)\n",
    "* EDUCATION: (1=preparatoria, 2=universidad, 3=secundaria, 4=otros, 5=desconocido, 6=desconocido, 0=nulo)\n",
    "* MARRIAGE: Estatus marital (1=casado, 2=soltero, 3=otros, 0=nulo)\n",
    "* AGE: Edad en años.\n",
    "* PAY 0: Estatus de pago en Septiembre, 2005 (\n",
    "    -2=no uso (non use),\n",
    "    0=uso, \n",
    "    -1=pago correcto, \n",
    "    1=pago retrasado por un mes, \n",
    "    2=pago retrasado por dos meses , \n",
    "    ... 8=pago retrasado por ocho meses, \n",
    "    \\* pago retrasado por nueve o mas meses).\n",
    "* PAY 2: Estatus de pago en Agosto, 2005 (La escala es igual que en PAY 0).\n",
    "* PAY 3: Estatus de pago en Julio, 2005 (La escala es igual que en PAY 0).\n",
    "* PAY 4: Estatus de pago en Junio, 2005 (La escala es igual que en PAY 0).\n",
    "* PAY 5: Estatus de pago en Mayo, 2005 (La escala es igual que en PAY 0).\n",
    "* PAY 6: Estatus de pago en Abril, 2005 (La escala es igual que en PAY 0).\n",
    "* BILL AMT1: Monto por pagar en Septiembre, 2005\n",
    "* BILL AMT2: Monto por pagar en Agosto, 2005\n",
    "* BILL AMT3: Monto por pagar en Julio, 2005\n",
    "* BILL AMT4: Monto por pagar en Junio, 2005\n",
    "* BILL AMT5: Monto por pagar en Mayo, 2005\n",
    "* BILL AMT6: Monto por pagar en Abril, 2005\n",
    "* PAY AMT1: Cantidad pagada en Septiembre, 2005\n",
    "* PAY AMT2: Cantidad pagada en Agosto, 2005\n",
    "* PAY AMT3: Cantidad pagada en Julio, 2005\n",
    "* PAY AMT4: Cantidad pagada en Junio, 2005\n",
    "* PAY AMT5: Cantidad pagada en Mayo, 2005\n",
    "* PAY AMT6: Cantidad pagada en Abril, 2005\n",
    "* default.payment.next.month: Incumplimiento de pago (1=si, 0=no)\n",
    "\n",
    "\n",
    "__Objetivo (REGRESIÓN)__\n",
    "\n",
    "PAY AMT1: Cantidad pagada en Septiembre, 2005. Para esta solución deben usarse los conjuntos train_PAY_AMT1.csv y val PAY_AMT1.csv."
   ]
  },
  {
   "cell_type": "markdown",
   "id": "731c50a2",
   "metadata": {},
   "source": [
    "# Análisis Exploratorio de Datos"
   ]
  },
  {
   "cell_type": "markdown",
   "id": "a7ca6a46",
   "metadata": {},
   "source": [
    "Revisamos valores ausentes"
   ]
  },
  {
   "cell_type": "code",
   "execution_count": 228,
   "id": "69813982",
   "metadata": {},
   "outputs": [
    {
     "data": {
      "text/plain": [
       "CUSTOMER_ID   0.00\n",
       "LIMIT_BAL     0.00\n",
       "SEX           0.00\n",
       "EDUCATION     0.00\n",
       "MARRIAGE      0.00\n",
       "AGE           0.00\n",
       "PAY_2         0.00\n",
       "PAY_3         0.00\n",
       "PAY_4         0.00\n",
       "PAY_5         0.00\n",
       "PAY_6         0.00\n",
       "BILL_AMT1     0.00\n",
       "BILL_AMT2     0.00\n",
       "BILL_AMT3     0.00\n",
       "BILL_AMT4     0.00\n",
       "BILL_AMT5     0.00\n",
       "BILL_AMT6     0.00\n",
       "PAY_AMT1      0.00\n",
       "PAY_AMT2      0.00\n",
       "PAY_AMT3      0.00\n",
       "PAY_AMT4      0.00\n",
       "PAY_AMT5      0.00\n",
       "PAY_AMT6      0.00\n",
       "dtype: float64"
      ]
     },
     "execution_count": 228,
     "metadata": {},
     "output_type": "execute_result"
    }
   ],
   "source": [
    "train_PAY_AMT1.isna().sum() / train_PAY_AMT1.shape[0]"
   ]
  },
  {
   "cell_type": "code",
   "execution_count": 229,
   "id": "5f5c3958",
   "metadata": {},
   "outputs": [
    {
     "data": {
      "text/html": [
       "<div>\n",
       "<style scoped>\n",
       "    .dataframe tbody tr th:only-of-type {\n",
       "        vertical-align: middle;\n",
       "    }\n",
       "\n",
       "    .dataframe tbody tr th {\n",
       "        vertical-align: top;\n",
       "    }\n",
       "\n",
       "    .dataframe thead th {\n",
       "        text-align: right;\n",
       "    }\n",
       "</style>\n",
       "<table border=\"1\" class=\"dataframe\">\n",
       "  <thead>\n",
       "    <tr style=\"text-align: right;\">\n",
       "      <th></th>\n",
       "      <th>CUSTOMER_ID</th>\n",
       "      <th>LIMIT_BAL</th>\n",
       "      <th>SEX</th>\n",
       "      <th>EDUCATION</th>\n",
       "      <th>MARRIAGE</th>\n",
       "      <th>AGE</th>\n",
       "      <th>PAY_2</th>\n",
       "      <th>PAY_3</th>\n",
       "      <th>PAY_4</th>\n",
       "      <th>PAY_5</th>\n",
       "      <th>PAY_6</th>\n",
       "      <th>BILL_AMT1</th>\n",
       "      <th>BILL_AMT2</th>\n",
       "      <th>BILL_AMT3</th>\n",
       "      <th>BILL_AMT4</th>\n",
       "      <th>BILL_AMT5</th>\n",
       "      <th>BILL_AMT6</th>\n",
       "      <th>PAY_AMT1</th>\n",
       "      <th>PAY_AMT2</th>\n",
       "      <th>PAY_AMT3</th>\n",
       "      <th>PAY_AMT4</th>\n",
       "      <th>PAY_AMT5</th>\n",
       "      <th>PAY_AMT6</th>\n",
       "    </tr>\n",
       "  </thead>\n",
       "  <tbody>\n",
       "    <tr>\n",
       "      <th>count</th>\n",
       "      <td>5,625.00</td>\n",
       "      <td>5,625.00</td>\n",
       "      <td>5,625.00</td>\n",
       "      <td>5,625.00</td>\n",
       "      <td>5,625.00</td>\n",
       "      <td>5,625.00</td>\n",
       "      <td>5,625.00</td>\n",
       "      <td>5,625.00</td>\n",
       "      <td>5,625.00</td>\n",
       "      <td>5,625.00</td>\n",
       "      <td>5,625.00</td>\n",
       "      <td>5,625.00</td>\n",
       "      <td>5,625.00</td>\n",
       "      <td>5,625.00</td>\n",
       "      <td>5,625.00</td>\n",
       "      <td>5,625.00</td>\n",
       "      <td>5,625.00</td>\n",
       "      <td>5,625.00</td>\n",
       "      <td>5,625.00</td>\n",
       "      <td>5,625.00</td>\n",
       "      <td>5,625.00</td>\n",
       "      <td>5,625.00</td>\n",
       "      <td>5,625.00</td>\n",
       "    </tr>\n",
       "    <tr>\n",
       "      <th>mean</th>\n",
       "      <td>14,975.77</td>\n",
       "      <td>169,135.29</td>\n",
       "      <td>1.60</td>\n",
       "      <td>1.84</td>\n",
       "      <td>1.54</td>\n",
       "      <td>35.47</td>\n",
       "      <td>-0.11</td>\n",
       "      <td>-0.14</td>\n",
       "      <td>-0.21</td>\n",
       "      <td>-0.26</td>\n",
       "      <td>-0.26</td>\n",
       "      <td>52,125.78</td>\n",
       "      <td>50,163.16</td>\n",
       "      <td>47,766.32</td>\n",
       "      <td>44,065.84</td>\n",
       "      <td>41,217.96</td>\n",
       "      <td>40,016.96</td>\n",
       "      <td>5,931.04</td>\n",
       "      <td>6,143.61</td>\n",
       "      <td>5,387.47</td>\n",
       "      <td>4,714.09</td>\n",
       "      <td>5,081.42</td>\n",
       "      <td>5,621.63</td>\n",
       "    </tr>\n",
       "    <tr>\n",
       "      <th>std</th>\n",
       "      <td>8,660.72</td>\n",
       "      <td>133,085.18</td>\n",
       "      <td>0.49</td>\n",
       "      <td>0.78</td>\n",
       "      <td>0.52</td>\n",
       "      <td>9.06</td>\n",
       "      <td>1.20</td>\n",
       "      <td>1.22</td>\n",
       "      <td>1.18</td>\n",
       "      <td>1.13</td>\n",
       "      <td>1.17</td>\n",
       "      <td>77,205.54</td>\n",
       "      <td>73,993.57</td>\n",
       "      <td>72,896.20</td>\n",
       "      <td>66,259.44</td>\n",
       "      <td>62,996.38</td>\n",
       "      <td>62,464.98</td>\n",
       "      <td>16,738.34</td>\n",
       "      <td>28,468.70</td>\n",
       "      <td>19,684.13</td>\n",
       "      <td>13,916.82</td>\n",
       "      <td>16,534.31</td>\n",
       "      <td>19,638.48</td>\n",
       "    </tr>\n",
       "    <tr>\n",
       "      <th>min</th>\n",
       "      <td>7.00</td>\n",
       "      <td>10,000.00</td>\n",
       "      <td>1.00</td>\n",
       "      <td>0.00</td>\n",
       "      <td>0.00</td>\n",
       "      <td>21.00</td>\n",
       "      <td>-2.00</td>\n",
       "      <td>-2.00</td>\n",
       "      <td>-2.00</td>\n",
       "      <td>-2.00</td>\n",
       "      <td>-2.00</td>\n",
       "      <td>-9,095.00</td>\n",
       "      <td>-30,000.00</td>\n",
       "      <td>-25,443.00</td>\n",
       "      <td>-65,167.00</td>\n",
       "      <td>-46,627.00</td>\n",
       "      <td>-46,627.00</td>\n",
       "      <td>0.00</td>\n",
       "      <td>0.00</td>\n",
       "      <td>0.00</td>\n",
       "      <td>0.00</td>\n",
       "      <td>0.00</td>\n",
       "      <td>0.00</td>\n",
       "    </tr>\n",
       "    <tr>\n",
       "      <th>25%</th>\n",
       "      <td>7,464.00</td>\n",
       "      <td>50,000.00</td>\n",
       "      <td>1.00</td>\n",
       "      <td>1.00</td>\n",
       "      <td>1.00</td>\n",
       "      <td>28.00</td>\n",
       "      <td>-1.00</td>\n",
       "      <td>-1.00</td>\n",
       "      <td>-1.00</td>\n",
       "      <td>-1.00</td>\n",
       "      <td>-1.00</td>\n",
       "      <td>3,609.00</td>\n",
       "      <td>3,462.00</td>\n",
       "      <td>2,936.00</td>\n",
       "      <td>2,500.00</td>\n",
       "      <td>1,980.00</td>\n",
       "      <td>1,390.00</td>\n",
       "      <td>1,000.00</td>\n",
       "      <td>762.00</td>\n",
       "      <td>428.00</td>\n",
       "      <td>303.00</td>\n",
       "      <td>287.00</td>\n",
       "      <td>200.00</td>\n",
       "    </tr>\n",
       "    <tr>\n",
       "      <th>50%</th>\n",
       "      <td>15,090.00</td>\n",
       "      <td>140,000.00</td>\n",
       "      <td>2.00</td>\n",
       "      <td>2.00</td>\n",
       "      <td>2.00</td>\n",
       "      <td>34.00</td>\n",
       "      <td>0.00</td>\n",
       "      <td>0.00</td>\n",
       "      <td>0.00</td>\n",
       "      <td>0.00</td>\n",
       "      <td>0.00</td>\n",
       "      <td>23,191.00</td>\n",
       "      <td>21,887.00</td>\n",
       "      <td>20,366.00</td>\n",
       "      <td>19,430.00</td>\n",
       "      <td>18,592.00</td>\n",
       "      <td>17,738.00</td>\n",
       "      <td>2,202.00</td>\n",
       "      <td>2,011.00</td>\n",
       "      <td>1,900.00</td>\n",
       "      <td>1,528.00</td>\n",
       "      <td>1,509.00</td>\n",
       "      <td>1,500.00</td>\n",
       "    </tr>\n",
       "    <tr>\n",
       "      <th>75%</th>\n",
       "      <td>22,456.00</td>\n",
       "      <td>240,000.00</td>\n",
       "      <td>2.00</td>\n",
       "      <td>2.00</td>\n",
       "      <td>2.00</td>\n",
       "      <td>41.00</td>\n",
       "      <td>0.00</td>\n",
       "      <td>0.00</td>\n",
       "      <td>0.00</td>\n",
       "      <td>0.00</td>\n",
       "      <td>0.00</td>\n",
       "      <td>67,474.00</td>\n",
       "      <td>65,305.00</td>\n",
       "      <td>60,557.00</td>\n",
       "      <td>55,506.00</td>\n",
       "      <td>51,169.00</td>\n",
       "      <td>49,940.00</td>\n",
       "      <td>5,088.00</td>\n",
       "      <td>5,000.00</td>\n",
       "      <td>4,600.00</td>\n",
       "      <td>4,000.00</td>\n",
       "      <td>4,100.00</td>\n",
       "      <td>4,173.00</td>\n",
       "    </tr>\n",
       "    <tr>\n",
       "      <th>max</th>\n",
       "      <td>29,995.00</td>\n",
       "      <td>1,000,000.00</td>\n",
       "      <td>2.00</td>\n",
       "      <td>6.00</td>\n",
       "      <td>3.00</td>\n",
       "      <td>69.00</td>\n",
       "      <td>7.00</td>\n",
       "      <td>8.00</td>\n",
       "      <td>8.00</td>\n",
       "      <td>8.00</td>\n",
       "      <td>8.00</td>\n",
       "      <td>964,511.00</td>\n",
       "      <td>983,931.00</td>\n",
       "      <td>1,664,089.00</td>\n",
       "      <td>891,586.00</td>\n",
       "      <td>927,171.00</td>\n",
       "      <td>961,664.00</td>\n",
       "      <td>405,016.00</td>\n",
       "      <td>1,684,259.00</td>\n",
       "      <td>896,040.00</td>\n",
       "      <td>400,046.00</td>\n",
       "      <td>388,071.00</td>\n",
       "      <td>527,143.00</td>\n",
       "    </tr>\n",
       "  </tbody>\n",
       "</table>\n",
       "</div>"
      ],
      "text/plain": [
       "       CUSTOMER_ID    LIMIT_BAL      SEX  EDUCATION  MARRIAGE      AGE  \\\n",
       "count     5,625.00     5,625.00 5,625.00   5,625.00  5,625.00 5,625.00   \n",
       "mean     14,975.77   169,135.29     1.60       1.84      1.54    35.47   \n",
       "std       8,660.72   133,085.18     0.49       0.78      0.52     9.06   \n",
       "min           7.00    10,000.00     1.00       0.00      0.00    21.00   \n",
       "25%       7,464.00    50,000.00     1.00       1.00      1.00    28.00   \n",
       "50%      15,090.00   140,000.00     2.00       2.00      2.00    34.00   \n",
       "75%      22,456.00   240,000.00     2.00       2.00      2.00    41.00   \n",
       "max      29,995.00 1,000,000.00     2.00       6.00      3.00    69.00   \n",
       "\n",
       "         PAY_2    PAY_3    PAY_4    PAY_5    PAY_6  BILL_AMT1  BILL_AMT2  \\\n",
       "count 5,625.00 5,625.00 5,625.00 5,625.00 5,625.00   5,625.00   5,625.00   \n",
       "mean     -0.11    -0.14    -0.21    -0.26    -0.26  52,125.78  50,163.16   \n",
       "std       1.20     1.22     1.18     1.13     1.17  77,205.54  73,993.57   \n",
       "min      -2.00    -2.00    -2.00    -2.00    -2.00  -9,095.00 -30,000.00   \n",
       "25%      -1.00    -1.00    -1.00    -1.00    -1.00   3,609.00   3,462.00   \n",
       "50%       0.00     0.00     0.00     0.00     0.00  23,191.00  21,887.00   \n",
       "75%       0.00     0.00     0.00     0.00     0.00  67,474.00  65,305.00   \n",
       "max       7.00     8.00     8.00     8.00     8.00 964,511.00 983,931.00   \n",
       "\n",
       "         BILL_AMT3  BILL_AMT4  BILL_AMT5  BILL_AMT6   PAY_AMT1     PAY_AMT2  \\\n",
       "count     5,625.00   5,625.00   5,625.00   5,625.00   5,625.00     5,625.00   \n",
       "mean     47,766.32  44,065.84  41,217.96  40,016.96   5,931.04     6,143.61   \n",
       "std      72,896.20  66,259.44  62,996.38  62,464.98  16,738.34    28,468.70   \n",
       "min     -25,443.00 -65,167.00 -46,627.00 -46,627.00       0.00         0.00   \n",
       "25%       2,936.00   2,500.00   1,980.00   1,390.00   1,000.00       762.00   \n",
       "50%      20,366.00  19,430.00  18,592.00  17,738.00   2,202.00     2,011.00   \n",
       "75%      60,557.00  55,506.00  51,169.00  49,940.00   5,088.00     5,000.00   \n",
       "max   1,664,089.00 891,586.00 927,171.00 961,664.00 405,016.00 1,684,259.00   \n",
       "\n",
       "        PAY_AMT3   PAY_AMT4   PAY_AMT5   PAY_AMT6  \n",
       "count   5,625.00   5,625.00   5,625.00   5,625.00  \n",
       "mean    5,387.47   4,714.09   5,081.42   5,621.63  \n",
       "std    19,684.13  13,916.82  16,534.31  19,638.48  \n",
       "min         0.00       0.00       0.00       0.00  \n",
       "25%       428.00     303.00     287.00     200.00  \n",
       "50%     1,900.00   1,528.00   1,509.00   1,500.00  \n",
       "75%     4,600.00   4,000.00   4,100.00   4,173.00  \n",
       "max   896,040.00 400,046.00 388,071.00 527,143.00  "
      ]
     },
     "execution_count": 229,
     "metadata": {},
     "output_type": "execute_result"
    }
   ],
   "source": [
    "train_PAY_AMT1.describe()"
   ]
  },
  {
   "cell_type": "code",
   "execution_count": 230,
   "id": "563ea34b",
   "metadata": {},
   "outputs": [
    {
     "data": {
      "image/png": "[encoded data removed]",
      "text/plain": [
       "<Figure size 800x600 with 6 Axes>"
      ]
     },
     "metadata": {},
     "output_type": "display_data"
    }
   ],
   "source": [
    "# numeric columns in DataFrame\n",
    "col_df_num = ['BILL_AMT1','BILL_AMT2','BILL_AMT3','BILL_AMT4','BILL_AMT5','BILL_AMT6']\n",
    "\n",
    "n_cols = 3\n",
    "n_rows = 2\n",
    "\n",
    "#fig = plt.figure(layout=\"constrained\", figsize=(10, 10))\n",
    "fig = plt.figure(figsize=(8, 6))\n",
    "ax_array = fig.subplots(n_rows, n_cols, squeeze=False)\n",
    "\n",
    "index_col = 0\n",
    "for row in range(n_rows):\n",
    "    for col in range(n_cols):\n",
    "        ax_array[row, col].boxplot(train_PAY_AMT1[col_df_num[index_col]])\n",
    "        ax_array[row, col].set_title(col_df_num[index_col])\n",
    "        index_col += 1\n",
    "        # to avoid error, break loop\n",
    "        if index_col >= len(col_df_num):\n",
    "            break"
   ]
  },
  {
   "cell_type": "code",
   "execution_count": 231,
   "id": "30cca8c4",
   "metadata": {},
   "outputs": [
    {
     "data": {
      "text/html": [
       "<div>\n",
       "<style scoped>\n",
       "    .dataframe tbody tr th:only-of-type {\n",
       "        vertical-align: middle;\n",
       "    }\n",
       "\n",
       "    .dataframe tbody tr th {\n",
       "        vertical-align: top;\n",
       "    }\n",
       "\n",
       "    .dataframe thead th {\n",
       "        text-align: right;\n",
       "    }\n",
       "</style>\n",
       "<table border=\"1\" class=\"dataframe\">\n",
       "  <thead>\n",
       "    <tr style=\"text-align: right;\">\n",
       "      <th></th>\n",
       "      <th>count</th>\n",
       "      <th>mean</th>\n",
       "      <th>std</th>\n",
       "      <th>min</th>\n",
       "      <th>1%</th>\n",
       "      <th>5%</th>\n",
       "      <th>25%</th>\n",
       "      <th>50%</th>\n",
       "      <th>75%</th>\n",
       "      <th>95%</th>\n",
       "      <th>96%</th>\n",
       "      <th>97%</th>\n",
       "      <th>98%</th>\n",
       "      <th>99%</th>\n",
       "      <th>max</th>\n",
       "    </tr>\n",
       "  </thead>\n",
       "  <tbody>\n",
       "    <tr>\n",
       "      <th>BILL_AMT1</th>\n",
       "      <td>5,625.00</td>\n",
       "      <td>52,125.78</td>\n",
       "      <td>77,205.54</td>\n",
       "      <td>-9,095.00</td>\n",
       "      <td>-19.76</td>\n",
       "      <td>0.00</td>\n",
       "      <td>3,609.00</td>\n",
       "      <td>23,191.00</td>\n",
       "      <td>67,474.00</td>\n",
       "      <td>201,512.80</td>\n",
       "      <td>222,440.32</td>\n",
       "      <td>250,740.76</td>\n",
       "      <td>287,834.28</td>\n",
       "      <td>369,042.84</td>\n",
       "      <td>964,511.00</td>\n",
       "    </tr>\n",
       "  </tbody>\n",
       "</table>\n",
       "</div>"
      ],
      "text/plain": [
       "             count      mean       std       min     1%   5%      25%  \\\n",
       "BILL_AMT1 5,625.00 52,125.78 77,205.54 -9,095.00 -19.76 0.00 3,609.00   \n",
       "\n",
       "                50%       75%        95%        96%        97%        98%  \\\n",
       "BILL_AMT1 23,191.00 67,474.00 201,512.80 222,440.32 250,740.76 287,834.28   \n",
       "\n",
       "                 99%        max  \n",
       "BILL_AMT1 369,042.84 964,511.00  "
      ]
     },
     "execution_count": 231,
     "metadata": {},
     "output_type": "execute_result"
    }
   ],
   "source": [
    "train_PAY_AMT1[['BILL_AMT1']].describe(percentiles=[0.01, .05, .25, .5, .75, .95, .96, .97, .98, .99]).T"
   ]
  },
  {
   "cell_type": "code",
   "execution_count": 232,
   "id": "37ce82d6",
   "metadata": {},
   "outputs": [
    {
     "data": {
      "text/plain": [
       "(5625, 23)"
      ]
     },
     "execution_count": 232,
     "metadata": {},
     "output_type": "execute_result"
    }
   ],
   "source": [
    "train_PAY_AMT1.shape"
   ]
  },
  {
   "cell_type": "code",
   "execution_count": 233,
   "id": "125dc224",
   "metadata": {},
   "outputs": [
    {
     "data": {
      "text/plain": [
       "(282, 23)"
      ]
     },
     "execution_count": 233,
     "metadata": {},
     "output_type": "execute_result"
    }
   ],
   "source": [
    "train_PAY_AMT1[~(train_PAY_AMT1['BILL_AMT1'] < train_PAY_AMT1['BILL_AMT1'].quantile(.95))].shape"
   ]
  },
  {
   "cell_type": "code",
   "execution_count": 234,
   "id": "5fa4780b",
   "metadata": {},
   "outputs": [
    {
     "data": {
      "text/plain": [
       "(467, 23)"
      ]
     },
     "execution_count": 234,
     "metadata": {},
     "output_type": "execute_result"
    }
   ],
   "source": [
    "train_PAY_AMT1[~(train_PAY_AMT1['BILL_AMT1'] > train_PAY_AMT1['BILL_AMT1'].quantile(.05))].shape"
   ]
  },
  {
   "cell_type": "code",
   "execution_count": 235,
   "id": "9d672431",
   "metadata": {},
   "outputs": [],
   "source": [
    "train_PAY_AMT1 = train_PAY_AMT1[train_PAY_AMT1['BILL_AMT1'] < train_PAY_AMT1['BILL_AMT1'].quantile(.85)]\n",
    "train_PAY_AMT1 = train_PAY_AMT1[train_PAY_AMT1['BILL_AMT1'] > train_PAY_AMT1['BILL_AMT1'].quantile(.05)]"
   ]
  },
  {
   "cell_type": "code",
   "execution_count": 236,
   "id": "66cd124b",
   "metadata": {},
   "outputs": [
    {
     "data": {
      "text/plain": [
       "(4314, 23)"
      ]
     },
     "execution_count": 236,
     "metadata": {},
     "output_type": "execute_result"
    }
   ],
   "source": [
    "train_PAY_AMT1.shape"
   ]
  },
  {
   "cell_type": "code",
   "execution_count": 237,
   "id": "f0785e55",
   "metadata": {},
   "outputs": [
    {
     "data": {
      "text/html": [
       "<div>\n",
       "<style scoped>\n",
       "    .dataframe tbody tr th:only-of-type {\n",
       "        vertical-align: middle;\n",
       "    }\n",
       "\n",
       "    .dataframe tbody tr th {\n",
       "        vertical-align: top;\n",
       "    }\n",
       "\n",
       "    .dataframe thead th {\n",
       "        text-align: right;\n",
       "    }\n",
       "</style>\n",
       "<table border=\"1\" class=\"dataframe\">\n",
       "  <thead>\n",
       "    <tr style=\"text-align: right;\">\n",
       "      <th></th>\n",
       "      <th>count</th>\n",
       "      <th>mean</th>\n",
       "      <th>std</th>\n",
       "      <th>min</th>\n",
       "      <th>1%</th>\n",
       "      <th>5%</th>\n",
       "      <th>25%</th>\n",
       "      <th>50%</th>\n",
       "      <th>75%</th>\n",
       "      <th>99%</th>\n",
       "      <th>max</th>\n",
       "    </tr>\n",
       "  </thead>\n",
       "  <tbody>\n",
       "    <tr>\n",
       "      <th>BILL_AMT3</th>\n",
       "      <td>4,314.00</td>\n",
       "      <td>28,543.47</td>\n",
       "      <td>40,037.15</td>\n",
       "      <td>-24,702.00</td>\n",
       "      <td>-41.48</td>\n",
       "      <td>0.00</td>\n",
       "      <td>3,745.00</td>\n",
       "      <td>18,469.00</td>\n",
       "      <td>45,557.00</td>\n",
       "      <td>115,004.03</td>\n",
       "      <td>1,664,089.00</td>\n",
       "    </tr>\n",
       "  </tbody>\n",
       "</table>\n",
       "</div>"
      ],
      "text/plain": [
       "             count      mean       std        min     1%   5%      25%  \\\n",
       "BILL_AMT3 4,314.00 28,543.47 40,037.15 -24,702.00 -41.48 0.00 3,745.00   \n",
       "\n",
       "                50%       75%        99%          max  \n",
       "BILL_AMT3 18,469.00 45,557.00 115,004.03 1,664,089.00  "
      ]
     },
     "execution_count": 237,
     "metadata": {},
     "output_type": "execute_result"
    }
   ],
   "source": [
    "train_PAY_AMT1[['BILL_AMT3']].describe(percentiles=[0.01, .05, .25, .5, .75, .99]).T"
   ]
  },
  {
   "cell_type": "code",
   "execution_count": 238,
   "id": "9f26633b",
   "metadata": {},
   "outputs": [
    {
     "data": {
      "text/plain": [
       "(44, 23)"
      ]
     },
     "execution_count": 238,
     "metadata": {},
     "output_type": "execute_result"
    }
   ],
   "source": [
    "train_PAY_AMT1[~(train_PAY_AMT1['BILL_AMT3'] < train_PAY_AMT1['BILL_AMT3'].quantile(.99))].shape"
   ]
  },
  {
   "cell_type": "code",
   "execution_count": 239,
   "id": "65ed9b23",
   "metadata": {},
   "outputs": [],
   "source": [
    "# train_PAY_AMT1 = train_PAY_AMT1[train_PAY_AMT1['BILL_AMT3'] < train_PAY_AMT1['BILL_AMT3'].quantile(.95)]\n",
    "# train_PAY_AMT1 = train_PAY_AMT1[train_PAY_AMT1['BILL_AMT3'] > train_PAY_AMT1['BILL_AMT3'].quantile(.05)]"
   ]
  },
  {
   "cell_type": "code",
   "execution_count": 240,
   "id": "288f640e",
   "metadata": {},
   "outputs": [
    {
     "data": {
      "text/plain": [
       "(4314, 23)"
      ]
     },
     "execution_count": 240,
     "metadata": {},
     "output_type": "execute_result"
    }
   ],
   "source": [
    "train_PAY_AMT1.shape"
   ]
  },
  {
   "cell_type": "code",
   "execution_count": 241,
   "id": "33cee092",
   "metadata": {},
   "outputs": [
    {
     "data": {
      "text/html": [
       "<div>\n",
       "<style scoped>\n",
       "    .dataframe tbody tr th:only-of-type {\n",
       "        vertical-align: middle;\n",
       "    }\n",
       "\n",
       "    .dataframe tbody tr th {\n",
       "        vertical-align: top;\n",
       "    }\n",
       "\n",
       "    .dataframe thead th {\n",
       "        text-align: right;\n",
       "    }\n",
       "</style>\n",
       "<table border=\"1\" class=\"dataframe\">\n",
       "  <thead>\n",
       "    <tr style=\"text-align: right;\">\n",
       "      <th></th>\n",
       "      <th>count</th>\n",
       "      <th>mean</th>\n",
       "      <th>std</th>\n",
       "      <th>min</th>\n",
       "      <th>1%</th>\n",
       "      <th>5%</th>\n",
       "      <th>25%</th>\n",
       "      <th>50%</th>\n",
       "      <th>75%</th>\n",
       "      <th>99%</th>\n",
       "      <th>max</th>\n",
       "    </tr>\n",
       "  </thead>\n",
       "  <tbody>\n",
       "    <tr>\n",
       "      <th>BILL_AMT2</th>\n",
       "      <td>4,314.00</td>\n",
       "      <td>28,849.41</td>\n",
       "      <td>29,873.90</td>\n",
       "      <td>-24,702.00</td>\n",
       "      <td>-26.74</td>\n",
       "      <td>0.00</td>\n",
       "      <td>4,294.25</td>\n",
       "      <td>18,860.00</td>\n",
       "      <td>47,576.75</td>\n",
       "      <td>104,529.62</td>\n",
       "      <td>405,016.00</td>\n",
       "    </tr>\n",
       "  </tbody>\n",
       "</table>\n",
       "</div>"
      ],
      "text/plain": [
       "             count      mean       std        min     1%   5%      25%  \\\n",
       "BILL_AMT2 4,314.00 28,849.41 29,873.90 -24,702.00 -26.74 0.00 4,294.25   \n",
       "\n",
       "                50%       75%        99%        max  \n",
       "BILL_AMT2 18,860.00 47,576.75 104,529.62 405,016.00  "
      ]
     },
     "execution_count": 241,
     "metadata": {},
     "output_type": "execute_result"
    }
   ],
   "source": [
    "train_PAY_AMT1[['BILL_AMT2']].describe(percentiles=[0.01, .05, .25, .5, .75, .99]).T"
   ]
  },
  {
   "cell_type": "code",
   "execution_count": 242,
   "id": "0024419b",
   "metadata": {},
   "outputs": [
    {
     "data": {
      "text/plain": [
       "(44, 23)"
      ]
     },
     "execution_count": 242,
     "metadata": {},
     "output_type": "execute_result"
    }
   ],
   "source": [
    "train_PAY_AMT1[~(train_PAY_AMT1['BILL_AMT2'] < train_PAY_AMT1['BILL_AMT2'].quantile(.99))].shape"
   ]
  },
  {
   "cell_type": "code",
   "execution_count": 243,
   "id": "c06b033e",
   "metadata": {},
   "outputs": [
    {
     "data": {
      "text/plain": [
       "(251, 23)"
      ]
     },
     "execution_count": 243,
     "metadata": {},
     "output_type": "execute_result"
    }
   ],
   "source": [
    "train_PAY_AMT1[~(train_PAY_AMT1['BILL_AMT2'] > train_PAY_AMT1['BILL_AMT2'].quantile(.05))].shape"
   ]
  },
  {
   "cell_type": "code",
   "execution_count": 244,
   "id": "0d3ca605",
   "metadata": {},
   "outputs": [],
   "source": [
    "# train_PAY_AMT1 = train_PAY_AMT1[train_PAY_AMT1['BILL_AMT2'] < train_PAY_AMT1['BILL_AMT2'].quantile(.95)]\n",
    "# train_PAY_AMT1 = train_PAY_AMT1[train_PAY_AMT1['BILL_AMT2'] > train_PAY_AMT1['BILL_AMT2'].quantile(.05)]"
   ]
  },
  {
   "cell_type": "code",
   "execution_count": 245,
   "id": "af096f04",
   "metadata": {},
   "outputs": [
    {
     "data": {
      "text/plain": [
       "(4314, 23)"
      ]
     },
     "execution_count": 245,
     "metadata": {},
     "output_type": "execute_result"
    }
   ],
   "source": [
    "train_PAY_AMT1.shape"
   ]
  },
  {
   "cell_type": "code",
   "execution_count": 246,
   "id": "c0c8e11e",
   "metadata": {},
   "outputs": [
    {
     "data": {
      "text/plain": [
       "<Axes: xlabel='EDUCATION'>"
      ]
     },
     "execution_count": 246,
     "metadata": {},
     "output_type": "execute_result"
    },
    {
     "data": {
      "image/png": "[encoded data removed]",
      "text/plain": [
       "<Figure size 640x480 with 1 Axes>"
      ]
     },
     "metadata": {},
     "output_type": "display_data"
    }
   ],
   "source": [
    "train_PAY_AMT1['EDUCATION'].value_counts().sort_index().plot(kind='bar')"
   ]
  },
  {
   "cell_type": "code",
   "execution_count": 247,
   "id": "08d7e482",
   "metadata": {},
   "outputs": [
    {
     "name": "stderr",
     "output_type": "stream",
     "text": [
      "/var/folders/hz/jqhxy08n571fxkqnm7ntk93c0000gn/T/ipykernel_68927/2736234471.py:1: FutureWarning: A value is trying to be set on a copy of a DataFrame or Series through chained assignment using an inplace method.\n",
      "The behavior will change in pandas 3.0. This inplace method will never work because the intermediate object on which we are setting values always behaves as a copy.\n",
      "\n",
      "For example, when doing 'df[col].method(value, inplace=True)', try using 'df.method({col: value}, inplace=True)' or df[col] = df[col].method(value) instead, to perform the operation inplace on the original object.\n",
      "\n",
      "\n",
      "  train_PAY_AMT1['EDUCATION'].replace({4:0,5:0,6:0}, inplace=True)\n"
     ]
    }
   ],
   "source": [
    "train_PAY_AMT1['EDUCATION'].replace({4:0,5:0,6:0}, inplace=True)"
   ]
  },
  {
   "cell_type": "code",
   "execution_count": 248,
   "id": "6916ac7e",
   "metadata": {},
   "outputs": [
    {
     "data": {
      "text/plain": [
       "<Axes: xlabel='EDUCATION'>"
      ]
     },
     "execution_count": 248,
     "metadata": {},
     "output_type": "execute_result"
    },
    {
     "data": {
      "image/png": "[encoded data removed]",
      "text/plain": [
       "<Figure size 640x480 with 1 Axes>"
      ]
     },
     "metadata": {},
     "output_type": "display_data"
    }
   ],
   "source": [
    "train_PAY_AMT1['EDUCATION'].value_counts().sort_index().plot(kind='bar')"
   ]
  },
  {
   "cell_type": "code",
   "execution_count": 249,
   "id": "b11ac619",
   "metadata": {},
   "outputs": [
    {
     "name": "stderr",
     "output_type": "stream",
     "text": [
      "/var/folders/hz/jqhxy08n571fxkqnm7ntk93c0000gn/T/ipykernel_68927/379946103.py:2: FutureWarning: A value is trying to be set on a copy of a DataFrame or Series through chained assignment using an inplace method.\n",
      "The behavior will change in pandas 3.0. This inplace method will never work because the intermediate object on which we are setting values always behaves as a copy.\n",
      "\n",
      "For example, when doing 'df[col].method(value, inplace=True)', try using 'df.method({col: value}, inplace=True)' or df[col] = df[col].method(value) instead, to perform the operation inplace on the original object.\n",
      "\n",
      "\n",
      "  train_PAY_AMT1['EDUCATION'].replace({3:2, 2:3}, inplace=True)\n"
     ]
    }
   ],
   "source": [
    "# EDUCATION: (1=preparatoria, 2=universidad, 3=secundaria, 4=otros, 5=desconocido, 6=desconocido, 0=nulo)\n",
    "train_PAY_AMT1['EDUCATION'].replace({3:2, 2:3}, inplace=True)"
   ]
  },
  {
   "cell_type": "code",
   "execution_count": 250,
   "id": "740cf614",
   "metadata": {},
   "outputs": [
    {
     "data": {
      "text/plain": [
       "<Axes: xlabel='MARRIAGE'>"
      ]
     },
     "execution_count": 250,
     "metadata": {},
     "output_type": "execute_result"
    },
    {
     "data": {
      "image/png": "[encoded data removed]",
      "text/plain": [
       "<Figure size 640x480 with 1 Axes>"
      ]
     },
     "metadata": {},
     "output_type": "display_data"
    }
   ],
   "source": [
    "train_PAY_AMT1['MARRIAGE'].value_counts().sort_index().plot(kind='bar')"
   ]
  },
  {
   "cell_type": "code",
   "execution_count": 251,
   "id": "8285f4fa",
   "metadata": {},
   "outputs": [
    {
     "name": "stderr",
     "output_type": "stream",
     "text": [
      "/var/folders/hz/jqhxy08n571fxkqnm7ntk93c0000gn/T/ipykernel_68927/912939589.py:1: FutureWarning: A value is trying to be set on a copy of a DataFrame or Series through chained assignment using an inplace method.\n",
      "The behavior will change in pandas 3.0. This inplace method will never work because the intermediate object on which we are setting values always behaves as a copy.\n",
      "\n",
      "For example, when doing 'df[col].method(value, inplace=True)', try using 'df.method({col: value}, inplace=True)' or df[col] = df[col].method(value) instead, to perform the operation inplace on the original object.\n",
      "\n",
      "\n",
      "  train_PAY_AMT1['MARRIAGE'].replace({0:2, 3:2}, inplace=True)\n"
     ]
    }
   ],
   "source": [
    "train_PAY_AMT1['MARRIAGE'].replace({0:2, 3:2}, inplace=True)"
   ]
  },
  {
   "cell_type": "code",
   "execution_count": 252,
   "id": "b404edc6",
   "metadata": {},
   "outputs": [
    {
     "data": {
      "text/plain": [
       "<Axes: xlabel='MARRIAGE'>"
      ]
     },
     "execution_count": 252,
     "metadata": {},
     "output_type": "execute_result"
    },
    {
     "data": {
      "image/png": "[encoded data removed]",
      "text/plain": [
       "<Figure size 640x480 with 1 Axes>"
      ]
     },
     "metadata": {},
     "output_type": "display_data"
    }
   ],
   "source": [
    "train_PAY_AMT1['MARRIAGE'].value_counts().sort_index().plot(kind='bar')"
   ]
  },
  {
   "cell_type": "markdown",
   "id": "c23bee10",
   "metadata": {},
   "source": [
    "## Ingenieria de Variables"
   ]
  },
  {
   "cell_type": "markdown",
   "id": "df9603e9",
   "metadata": {},
   "source": [
    "#### Numero de meses con retraso"
   ]
  },
  {
   "cell_type": "code",
   "execution_count": 253,
   "id": "bfec74a6",
   "metadata": {},
   "outputs": [
    {
     "data": {
      "text/html": [
       "<div>\n",
       "<style scoped>\n",
       "    .dataframe tbody tr th:only-of-type {\n",
       "        vertical-align: middle;\n",
       "    }\n",
       "\n",
       "    .dataframe tbody tr th {\n",
       "        vertical-align: top;\n",
       "    }\n",
       "\n",
       "    .dataframe thead th {\n",
       "        text-align: right;\n",
       "    }\n",
       "</style>\n",
       "<table border=\"1\" class=\"dataframe\">\n",
       "  <thead>\n",
       "    <tr style=\"text-align: right;\">\n",
       "      <th></th>\n",
       "      <th>PAY_6</th>\n",
       "      <th>PAY_5</th>\n",
       "      <th>PAY_4</th>\n",
       "      <th>PAY_3</th>\n",
       "      <th>PAY_2</th>\n",
       "    </tr>\n",
       "  </thead>\n",
       "  <tbody>\n",
       "    <tr>\n",
       "      <th>252</th>\n",
       "      <td>-1</td>\n",
       "      <td>-1</td>\n",
       "      <td>0</td>\n",
       "      <td>0</td>\n",
       "      <td>0</td>\n",
       "    </tr>\n",
       "    <tr>\n",
       "      <th>1591</th>\n",
       "      <td>0</td>\n",
       "      <td>0</td>\n",
       "      <td>0</td>\n",
       "      <td>0</td>\n",
       "      <td>0</td>\n",
       "    </tr>\n",
       "    <tr>\n",
       "      <th>2405</th>\n",
       "      <td>0</td>\n",
       "      <td>0</td>\n",
       "      <td>0</td>\n",
       "      <td>1</td>\n",
       "      <td>1</td>\n",
       "    </tr>\n",
       "    <tr>\n",
       "      <th>636</th>\n",
       "      <td>-1</td>\n",
       "      <td>-1</td>\n",
       "      <td>-1</td>\n",
       "      <td>0</td>\n",
       "      <td>0</td>\n",
       "    </tr>\n",
       "    <tr>\n",
       "      <th>2954</th>\n",
       "      <td>0</td>\n",
       "      <td>0</td>\n",
       "      <td>0</td>\n",
       "      <td>0</td>\n",
       "      <td>0</td>\n",
       "    </tr>\n",
       "  </tbody>\n",
       "</table>\n",
       "</div>"
      ],
      "text/plain": [
       "      PAY_6  PAY_5  PAY_4  PAY_3  PAY_2\n",
       "252      -1     -1      0      0      0\n",
       "1591      0      0      0      0      0\n",
       "2405      0      0      0      1      1\n",
       "636      -1     -1     -1      0      0\n",
       "2954      0      0      0      0      0"
      ]
     },
     "execution_count": 253,
     "metadata": {},
     "output_type": "execute_result"
    }
   ],
   "source": [
    "# orden de los meses y total de meses de retraso en el pago\n",
    "train_PAY_AMT1[ ['PAY_6', 'PAY_5', 'PAY_4', 'PAY_3', 'PAY_2'] ].sample(5)"
   ]
  },
  {
   "cell_type": "code",
   "execution_count": 254,
   "id": "914b3eef",
   "metadata": {},
   "outputs": [],
   "source": [
    "train_PAY_AMT1[ 'Num_Meses_Con_Retraso' ] = train_PAY_AMT1[['PAY_6', 'PAY_5', 'PAY_4', 'PAY_3', 'PAY_2']].apply(lambda row: (row > 0).sum(), axis=1)\n",
    "train_PAY_AMT1[ 'Max_Meses_Con_Retraso' ] = train_PAY_AMT1[['PAY_6', 'PAY_5', 'PAY_4', 'PAY_3', 'PAY_2']].apply(lambda row: max(list(filter(lambda x: x > 0,row)), default=0), axis=1)\n",
    "train_PAY_AMT1[ 'Max_Retraso_Reciente' ] = train_PAY_AMT1[['PAY_3', 'PAY_2']].apply(lambda row: max(list(filter(lambda x: x > 0,row)), default=0), axis=1)"
   ]
  },
  {
   "cell_type": "code",
   "execution_count": 255,
   "id": "423cbe0e",
   "metadata": {},
   "outputs": [
    {
     "data": {
      "text/html": [
       "<div>\n",
       "<style scoped>\n",
       "    .dataframe tbody tr th:only-of-type {\n",
       "        vertical-align: middle;\n",
       "    }\n",
       "\n",
       "    .dataframe tbody tr th {\n",
       "        vertical-align: top;\n",
       "    }\n",
       "\n",
       "    .dataframe thead th {\n",
       "        text-align: right;\n",
       "    }\n",
       "</style>\n",
       "<table border=\"1\" class=\"dataframe\">\n",
       "  <thead>\n",
       "    <tr style=\"text-align: right;\">\n",
       "      <th></th>\n",
       "      <th>PAY_6</th>\n",
       "      <th>PAY_5</th>\n",
       "      <th>PAY_4</th>\n",
       "      <th>PAY_3</th>\n",
       "      <th>PAY_2</th>\n",
       "      <th>Num_Meses_Con_Retraso</th>\n",
       "      <th>Max_Meses_Con_Retraso</th>\n",
       "      <th>Max_Retraso_Reciente</th>\n",
       "    </tr>\n",
       "  </thead>\n",
       "  <tbody>\n",
       "    <tr>\n",
       "      <th>4007</th>\n",
       "      <td>0</td>\n",
       "      <td>-1</td>\n",
       "      <td>2</td>\n",
       "      <td>0</td>\n",
       "      <td>0</td>\n",
       "      <td>1</td>\n",
       "      <td>2</td>\n",
       "      <td>0</td>\n",
       "    </tr>\n",
       "    <tr>\n",
       "      <th>1034</th>\n",
       "      <td>-1</td>\n",
       "      <td>-1</td>\n",
       "      <td>-1</td>\n",
       "      <td>2</td>\n",
       "      <td>-1</td>\n",
       "      <td>1</td>\n",
       "      <td>2</td>\n",
       "      <td>2</td>\n",
       "    </tr>\n",
       "    <tr>\n",
       "      <th>3174</th>\n",
       "      <td>-1</td>\n",
       "      <td>-2</td>\n",
       "      <td>-2</td>\n",
       "      <td>0</td>\n",
       "      <td>0</td>\n",
       "      <td>0</td>\n",
       "      <td>0</td>\n",
       "      <td>0</td>\n",
       "    </tr>\n",
       "    <tr>\n",
       "      <th>4262</th>\n",
       "      <td>-2</td>\n",
       "      <td>-2</td>\n",
       "      <td>-2</td>\n",
       "      <td>-2</td>\n",
       "      <td>-2</td>\n",
       "      <td>0</td>\n",
       "      <td>0</td>\n",
       "      <td>0</td>\n",
       "    </tr>\n",
       "    <tr>\n",
       "      <th>4548</th>\n",
       "      <td>-2</td>\n",
       "      <td>-1</td>\n",
       "      <td>-1</td>\n",
       "      <td>-1</td>\n",
       "      <td>2</td>\n",
       "      <td>1</td>\n",
       "      <td>2</td>\n",
       "      <td>2</td>\n",
       "    </tr>\n",
       "  </tbody>\n",
       "</table>\n",
       "</div>"
      ],
      "text/plain": [
       "      PAY_6  PAY_5  PAY_4  PAY_3  PAY_2  Num_Meses_Con_Retraso  \\\n",
       "4007      0     -1      2      0      0                      1   \n",
       "1034     -1     -1     -1      2     -1                      1   \n",
       "3174     -1     -2     -2      0      0                      0   \n",
       "4262     -2     -2     -2     -2     -2                      0   \n",
       "4548     -2     -1     -1     -1      2                      1   \n",
       "\n",
       "      Max_Meses_Con_Retraso  Max_Retraso_Reciente  \n",
       "4007                      2                     0  \n",
       "1034                      2                     2  \n",
       "3174                      0                     0  \n",
       "4262                      0                     0  \n",
       "4548                      2                     2  "
      ]
     },
     "execution_count": 255,
     "metadata": {},
     "output_type": "execute_result"
    }
   ],
   "source": [
    "lst_var_1 = ['Num_Meses_Con_Retraso', 'Max_Meses_Con_Retraso', 'Max_Retraso_Reciente']\n",
    "\n",
    "# orden de los meses y total de meses de retraso en el pago\n",
    "train_PAY_AMT1[ ['PAY_6', 'PAY_5', 'PAY_4', 'PAY_3', 'PAY_2'] + lst_var_1 ].sample(5)"
   ]
  },
  {
   "cell_type": "markdown",
   "id": "2e4706e3",
   "metadata": {},
   "source": [
    "#### Saldo de la deuda"
   ]
  },
  {
   "cell_type": "code",
   "execution_count": 256,
   "id": "4109b6d4",
   "metadata": {},
   "outputs": [
    {
     "data": {
      "text/html": [
       "<div>\n",
       "<style scoped>\n",
       "    .dataframe tbody tr th:only-of-type {\n",
       "        vertical-align: middle;\n",
       "    }\n",
       "\n",
       "    .dataframe tbody tr th {\n",
       "        vertical-align: top;\n",
       "    }\n",
       "\n",
       "    .dataframe thead th {\n",
       "        text-align: right;\n",
       "    }\n",
       "</style>\n",
       "<table border=\"1\" class=\"dataframe\">\n",
       "  <thead>\n",
       "    <tr style=\"text-align: right;\">\n",
       "      <th></th>\n",
       "      <th>BILL_AMT2</th>\n",
       "      <th>BILL_AMT3</th>\n",
       "      <th>BILL_AMT4</th>\n",
       "    </tr>\n",
       "  </thead>\n",
       "  <tbody>\n",
       "    <tr>\n",
       "      <th>2444</th>\n",
       "      <td>58,876.00</td>\n",
       "      <td>73,068.00</td>\n",
       "      <td>102,311.00</td>\n",
       "    </tr>\n",
       "    <tr>\n",
       "      <th>2915</th>\n",
       "      <td>23,880.00</td>\n",
       "      <td>24,843.00</td>\n",
       "      <td>25,338.00</td>\n",
       "    </tr>\n",
       "    <tr>\n",
       "      <th>2162</th>\n",
       "      <td>15,105.00</td>\n",
       "      <td>16,545.00</td>\n",
       "      <td>16,977.00</td>\n",
       "    </tr>\n",
       "    <tr>\n",
       "      <th>2363</th>\n",
       "      <td>390.00</td>\n",
       "      <td>36,659.00</td>\n",
       "      <td>23,150.00</td>\n",
       "    </tr>\n",
       "    <tr>\n",
       "      <th>5322</th>\n",
       "      <td>36,108.00</td>\n",
       "      <td>37,112.00</td>\n",
       "      <td>37,695.00</td>\n",
       "    </tr>\n",
       "  </tbody>\n",
       "</table>\n",
       "</div>"
      ],
      "text/plain": [
       "      BILL_AMT2  BILL_AMT3  BILL_AMT4\n",
       "2444  58,876.00  73,068.00 102,311.00\n",
       "2915  23,880.00  24,843.00  25,338.00\n",
       "2162  15,105.00  16,545.00  16,977.00\n",
       "2363     390.00  36,659.00  23,150.00\n",
       "5322  36,108.00  37,112.00  37,695.00"
      ]
     },
     "execution_count": 256,
     "metadata": {},
     "output_type": "execute_result"
    }
   ],
   "source": [
    "train_PAY_AMT1[['BILL_AMT2','BILL_AMT3','BILL_AMT4']].sample(5)"
   ]
  },
  {
   "cell_type": "code",
   "execution_count": 257,
   "id": "644a96e7",
   "metadata": {},
   "outputs": [],
   "source": [
    "train_PAY_AMT1[ 'Promedio_Deuda_Ultimos_3_Meses' ] = train_PAY_AMT1[['BILL_AMT2','BILL_AMT3','BILL_AMT4']].apply(lambda row: row.mean(), axis=1)\n",
    "train_PAY_AMT1[ 'Cambio_Deuda_Reciente' ] = train_PAY_AMT1[['BILL_AMT2','BILL_AMT3','BILL_AMT4']].apply(lambda row: row['BILL_AMT2'] - row['BILL_AMT3'], axis=1)\n",
    "train_PAY_AMT1[ 'Suma_Deuda_Total_Historica' ] = train_PAY_AMT1[['BILL_AMT2','BILL_AMT3','BILL_AMT4', 'BILL_AMT5', 'BILL_AMT6']].apply(lambda row: row.sum(), axis=1)\n",
    "train_PAY_AMT1[ 'Max_Deuda_Historica' ] = train_PAY_AMT1[['BILL_AMT2','BILL_AMT3','BILL_AMT4', 'BILL_AMT5', 'BILL_AMT6']].apply(lambda row: row.max(), axis=1)\n",
    "train_PAY_AMT1[ 'Utilizacion_Credito_Actual' ] = train_PAY_AMT1.apply(lambda row: row['BILL_AMT1'] / row['LIMIT_BAL'], axis=1)\n",
    "train_PAY_AMT1[ 'Utilizacion_Credito_Promedio' ] = train_PAY_AMT1.apply(lambda row: row[['BILL_AMT2','BILL_AMT3','BILL_AMT4', 'BILL_AMT5', 'BILL_AMT6']].sum() / 6*row['LIMIT_BAL'], axis=1)\n"
   ]
  },
  {
   "cell_type": "code",
   "execution_count": 258,
   "id": "e53c3127",
   "metadata": {},
   "outputs": [
    {
     "data": {
      "text/html": [
       "<div>\n",
       "<style scoped>\n",
       "    .dataframe tbody tr th:only-of-type {\n",
       "        vertical-align: middle;\n",
       "    }\n",
       "\n",
       "    .dataframe tbody tr th {\n",
       "        vertical-align: top;\n",
       "    }\n",
       "\n",
       "    .dataframe thead th {\n",
       "        text-align: right;\n",
       "    }\n",
       "</style>\n",
       "<table border=\"1\" class=\"dataframe\">\n",
       "  <thead>\n",
       "    <tr style=\"text-align: right;\">\n",
       "      <th></th>\n",
       "      <th>BILL_AMT2</th>\n",
       "      <th>BILL_AMT3</th>\n",
       "      <th>BILL_AMT4</th>\n",
       "      <th>Promedio_Deuda_Ultimos_3_Meses</th>\n",
       "      <th>Cambio_Deuda_Reciente</th>\n",
       "      <th>Suma_Deuda_Total_Historica</th>\n",
       "      <th>Max_Deuda_Historica</th>\n",
       "      <th>Utilizacion_Credito_Actual</th>\n",
       "      <th>Utilizacion_Credito_Promedio</th>\n",
       "    </tr>\n",
       "  </thead>\n",
       "  <tbody>\n",
       "    <tr>\n",
       "      <th>1723</th>\n",
       "      <td>31,402.00</td>\n",
       "      <td>30,047.00</td>\n",
       "      <td>30,869.00</td>\n",
       "      <td>30,772.67</td>\n",
       "      <td>1,355.00</td>\n",
       "      <td>151,552.00</td>\n",
       "      <td>31,402.00</td>\n",
       "      <td>0.91</td>\n",
       "      <td>757,760,000.00</td>\n",
       "    </tr>\n",
       "    <tr>\n",
       "      <th>3366</th>\n",
       "      <td>31,462.00</td>\n",
       "      <td>31,499.00</td>\n",
       "      <td>16,773.00</td>\n",
       "      <td>26,578.00</td>\n",
       "      <td>-37.00</td>\n",
       "      <td>101,029.00</td>\n",
       "      <td>31,499.00</td>\n",
       "      <td>0.52</td>\n",
       "      <td>1,010,290,000.00</td>\n",
       "    </tr>\n",
       "    <tr>\n",
       "      <th>2019</th>\n",
       "      <td>4,206.00</td>\n",
       "      <td>15,610.00</td>\n",
       "      <td>10,556.00</td>\n",
       "      <td>10,124.00</td>\n",
       "      <td>-11,404.00</td>\n",
       "      <td>47,854.00</td>\n",
       "      <td>15,610.00</td>\n",
       "      <td>0.01</td>\n",
       "      <td>2,552,213,333.33</td>\n",
       "    </tr>\n",
       "    <tr>\n",
       "      <th>3108</th>\n",
       "      <td>-5.00</td>\n",
       "      <td>-5.00</td>\n",
       "      <td>1,578.00</td>\n",
       "      <td>522.67</td>\n",
       "      <td>0.00</td>\n",
       "      <td>2,875.00</td>\n",
       "      <td>1,578.00</td>\n",
       "      <td>0.07</td>\n",
       "      <td>143,750,000.00</td>\n",
       "    </tr>\n",
       "    <tr>\n",
       "      <th>157</th>\n",
       "      <td>19,760.00</td>\n",
       "      <td>18,570.00</td>\n",
       "      <td>17,604.00</td>\n",
       "      <td>18,644.67</td>\n",
       "      <td>1,190.00</td>\n",
       "      <td>77,424.00</td>\n",
       "      <td>19,760.00</td>\n",
       "      <td>0.92</td>\n",
       "      <td>258,080,000.00</td>\n",
       "    </tr>\n",
       "  </tbody>\n",
       "</table>\n",
       "</div>"
      ],
      "text/plain": [
       "      BILL_AMT2  BILL_AMT3  BILL_AMT4  Promedio_Deuda_Ultimos_3_Meses  \\\n",
       "1723  31,402.00  30,047.00  30,869.00                       30,772.67   \n",
       "3366  31,462.00  31,499.00  16,773.00                       26,578.00   \n",
       "2019   4,206.00  15,610.00  10,556.00                       10,124.00   \n",
       "3108      -5.00      -5.00   1,578.00                          522.67   \n",
       "157   19,760.00  18,570.00  17,604.00                       18,644.67   \n",
       "\n",
       "      Cambio_Deuda_Reciente  Suma_Deuda_Total_Historica  Max_Deuda_Historica  \\\n",
       "1723               1,355.00                  151,552.00            31,402.00   \n",
       "3366                 -37.00                  101,029.00            31,499.00   \n",
       "2019             -11,404.00                   47,854.00            15,610.00   \n",
       "3108                   0.00                    2,875.00             1,578.00   \n",
       "157                1,190.00                   77,424.00            19,760.00   \n",
       "\n",
       "      Utilizacion_Credito_Actual  Utilizacion_Credito_Promedio  \n",
       "1723                        0.91                757,760,000.00  \n",
       "3366                        0.52              1,010,290,000.00  \n",
       "2019                        0.01              2,552,213,333.33  \n",
       "3108                        0.07                143,750,000.00  \n",
       "157                         0.92                258,080,000.00  "
      ]
     },
     "execution_count": 258,
     "metadata": {},
     "output_type": "execute_result"
    }
   ],
   "source": [
    "lst_var_2 = ['Promedio_Deuda_Ultimos_3_Meses', 'Cambio_Deuda_Reciente', 'Suma_Deuda_Total_Historica', 'Max_Deuda_Historica',\n",
    "                'Utilizacion_Credito_Actual', 'Utilizacion_Credito_Promedio']\n",
    "train_PAY_AMT1[['BILL_AMT2','BILL_AMT3','BILL_AMT4'] + lst_var_2].sample(5)"
   ]
  },
  {
   "cell_type": "markdown",
   "id": "fc5277a1",
   "metadata": {},
   "source": [
    "#### Cantidad pagada "
   ]
  },
  {
   "cell_type": "code",
   "execution_count": 259,
   "id": "bf93e43d",
   "metadata": {},
   "outputs": [],
   "source": [
    "train_PAY_AMT1[ 'Promedio_Pago_Ultimos_Meses' ] = train_PAY_AMT1[['BILL_AMT2', 'BILL_AMT3', 'BILL_AMT4']].apply(lambda row: row.sum()/3, axis=1)\n",
    "train_PAY_AMT1[ 'Suma_Pagos_Historicos' ] = train_PAY_AMT1[['BILL_AMT6', 'BILL_AMT5', 'BILL_AMT4', 'BILL_AMT3','BILL_AMT2']].apply(lambda row: row.sum(), axis=1)\n",
    "train_PAY_AMT1[ 'Cambio_Pago_Reciente' ] = train_PAY_AMT1.apply(lambda row: row['PAY_AMT2'] - row['PAY_AMT3'], axis=1)\n",
    "train_PAY_AMT1[ 'Ratio_Pago_Factura_Anterior' ] = np.where(train_PAY_AMT1['BILL_AMT2'] > 0, train_PAY_AMT1['PAY_AMT2'] / train_PAY_AMT1['BILL_AMT2'], 0)\n",
    "\n"
   ]
  },
  {
   "cell_type": "code",
   "execution_count": 260,
   "id": "40483480",
   "metadata": {},
   "outputs": [
    {
     "data": {
      "text/html": [
       "<div>\n",
       "<style scoped>\n",
       "    .dataframe tbody tr th:only-of-type {\n",
       "        vertical-align: middle;\n",
       "    }\n",
       "\n",
       "    .dataframe tbody tr th {\n",
       "        vertical-align: top;\n",
       "    }\n",
       "\n",
       "    .dataframe thead th {\n",
       "        text-align: right;\n",
       "    }\n",
       "</style>\n",
       "<table border=\"1\" class=\"dataframe\">\n",
       "  <thead>\n",
       "    <tr style=\"text-align: right;\">\n",
       "      <th></th>\n",
       "      <th>BILL_AMT6</th>\n",
       "      <th>BILL_AMT5</th>\n",
       "      <th>BILL_AMT4</th>\n",
       "      <th>BILL_AMT3</th>\n",
       "      <th>BILL_AMT2</th>\n",
       "      <th>Promedio_Pago_Ultimos_Meses</th>\n",
       "      <th>Suma_Pagos_Historicos</th>\n",
       "      <th>Cambio_Pago_Reciente</th>\n",
       "      <th>Ratio_Pago_Factura_Anterior</th>\n",
       "    </tr>\n",
       "  </thead>\n",
       "  <tbody>\n",
       "    <tr>\n",
       "      <th>3451</th>\n",
       "      <td>13,836.00</td>\n",
       "      <td>13,035.00</td>\n",
       "      <td>19,560.00</td>\n",
       "      <td>18,394.00</td>\n",
       "      <td>21,203.00</td>\n",
       "      <td>19,719.00</td>\n",
       "      <td>86,028.00</td>\n",
       "      <td>-166.00</td>\n",
       "      <td>0.06</td>\n",
       "    </tr>\n",
       "    <tr>\n",
       "      <th>3248</th>\n",
       "      <td>70,047.00</td>\n",
       "      <td>68,680.00</td>\n",
       "      <td>69,145.00</td>\n",
       "      <td>71,488.00</td>\n",
       "      <td>81,826.00</td>\n",
       "      <td>74,153.00</td>\n",
       "      <td>361,186.00</td>\n",
       "      <td>698.00</td>\n",
       "      <td>0.04</td>\n",
       "    </tr>\n",
       "    <tr>\n",
       "      <th>1429</th>\n",
       "      <td>7,300.00</td>\n",
       "      <td>16,098.00</td>\n",
       "      <td>27,497.00</td>\n",
       "      <td>17,036.00</td>\n",
       "      <td>26,269.00</td>\n",
       "      <td>23,600.67</td>\n",
       "      <td>94,200.00</td>\n",
       "      <td>-25,241.00</td>\n",
       "      <td>0.09</td>\n",
       "    </tr>\n",
       "    <tr>\n",
       "      <th>2043</th>\n",
       "      <td>7,457.00</td>\n",
       "      <td>7,228.00</td>\n",
       "      <td>6,839.00</td>\n",
       "      <td>6,599.00</td>\n",
       "      <td>5,550.00</td>\n",
       "      <td>6,329.33</td>\n",
       "      <td>33,673.00</td>\n",
       "      <td>800.00</td>\n",
       "      <td>0.23</td>\n",
       "    </tr>\n",
       "    <tr>\n",
       "      <th>568</th>\n",
       "      <td>29,826.00</td>\n",
       "      <td>29,391.00</td>\n",
       "      <td>29,291.00</td>\n",
       "      <td>49,222.00</td>\n",
       "      <td>49,160.00</td>\n",
       "      <td>42,557.67</td>\n",
       "      <td>186,890.00</td>\n",
       "      <td>1,013.00</td>\n",
       "      <td>0.04</td>\n",
       "    </tr>\n",
       "  </tbody>\n",
       "</table>\n",
       "</div>"
      ],
      "text/plain": [
       "      BILL_AMT6  BILL_AMT5  BILL_AMT4  BILL_AMT3  BILL_AMT2  \\\n",
       "3451  13,836.00  13,035.00  19,560.00  18,394.00  21,203.00   \n",
       "3248  70,047.00  68,680.00  69,145.00  71,488.00  81,826.00   \n",
       "1429   7,300.00  16,098.00  27,497.00  17,036.00  26,269.00   \n",
       "2043   7,457.00   7,228.00   6,839.00   6,599.00   5,550.00   \n",
       "568   29,826.00  29,391.00  29,291.00  49,222.00  49,160.00   \n",
       "\n",
       "      Promedio_Pago_Ultimos_Meses  Suma_Pagos_Historicos  \\\n",
       "3451                    19,719.00              86,028.00   \n",
       "3248                    74,153.00             361,186.00   \n",
       "1429                    23,600.67              94,200.00   \n",
       "2043                     6,329.33              33,673.00   \n",
       "568                     42,557.67             186,890.00   \n",
       "\n",
       "      Cambio_Pago_Reciente  Ratio_Pago_Factura_Anterior  \n",
       "3451               -166.00                         0.06  \n",
       "3248                698.00                         0.04  \n",
       "1429            -25,241.00                         0.09  \n",
       "2043                800.00                         0.23  \n",
       "568               1,013.00                         0.04  "
      ]
     },
     "execution_count": 260,
     "metadata": {},
     "output_type": "execute_result"
    }
   ],
   "source": [
    "lst_var_3 = ['Promedio_Pago_Ultimos_Meses', 'Suma_Pagos_Historicos', 'Cambio_Pago_Reciente', 'Ratio_Pago_Factura_Anterior']\n",
    "train_PAY_AMT1[['BILL_AMT6', 'BILL_AMT5', 'BILL_AMT4', 'BILL_AMT3','BILL_AMT2'] + lst_var_3].sample(5)"
   ]
  },
  {
   "cell_type": "markdown",
   "id": "3d476495",
   "metadata": {},
   "source": [
    "#### Perfil del cliente"
   ]
  },
  {
   "cell_type": "code",
   "execution_count": 261,
   "id": "0464e7ce",
   "metadata": {},
   "outputs": [],
   "source": [
    "train_PAY_AMT1[ 'Edad_x_Limite_Credito' ] = train_PAY_AMT1.apply(lambda row: row['AGE'] * row['LIMIT_BAL'], axis=1)"
   ]
  },
  {
   "cell_type": "code",
   "execution_count": 262,
   "id": "3897fab9",
   "metadata": {},
   "outputs": [
    {
     "data": {
      "text/html": [
       "<div>\n",
       "<style scoped>\n",
       "    .dataframe tbody tr th:only-of-type {\n",
       "        vertical-align: middle;\n",
       "    }\n",
       "\n",
       "    .dataframe tbody tr th {\n",
       "        vertical-align: top;\n",
       "    }\n",
       "\n",
       "    .dataframe thead th {\n",
       "        text-align: right;\n",
       "    }\n",
       "</style>\n",
       "<table border=\"1\" class=\"dataframe\">\n",
       "  <thead>\n",
       "    <tr style=\"text-align: right;\">\n",
       "      <th></th>\n",
       "      <th>Edad_x_Limite_Credito</th>\n",
       "    </tr>\n",
       "  </thead>\n",
       "  <tbody>\n",
       "    <tr>\n",
       "      <th>707</th>\n",
       "      <td>14,000,000.00</td>\n",
       "    </tr>\n",
       "    <tr>\n",
       "      <th>4114</th>\n",
       "      <td>3,100,000.00</td>\n",
       "    </tr>\n",
       "    <tr>\n",
       "      <th>968</th>\n",
       "      <td>6,300,000.00</td>\n",
       "    </tr>\n",
       "    <tr>\n",
       "      <th>3657</th>\n",
       "      <td>3,920,000.00</td>\n",
       "    </tr>\n",
       "    <tr>\n",
       "      <th>742</th>\n",
       "      <td>2,350,000.00</td>\n",
       "    </tr>\n",
       "  </tbody>\n",
       "</table>\n",
       "</div>"
      ],
      "text/plain": [
       "      Edad_x_Limite_Credito\n",
       "707           14,000,000.00\n",
       "4114           3,100,000.00\n",
       "968            6,300,000.00\n",
       "3657           3,920,000.00\n",
       "742            2,350,000.00"
      ]
     },
     "execution_count": 262,
     "metadata": {},
     "output_type": "execute_result"
    }
   ],
   "source": [
    "lst_var_4 = ['Edad_x_Limite_Credito']\n",
    "train_PAY_AMT1[lst_var_4].sample(5)"
   ]
  },
  {
   "cell_type": "code",
   "execution_count": 263,
   "id": "b37a9ba5",
   "metadata": {},
   "outputs": [
    {
     "data": {
      "text/plain": [
       "<Axes: xlabel='Max_Retraso_Reciente'>"
      ]
     },
     "execution_count": 263,
     "metadata": {},
     "output_type": "execute_result"
    },
    {
     "data": {
      "image/png": "[encoded data removed]",
      "text/plain": [
       "<Figure size 640x480 with 1 Axes>"
      ]
     },
     "metadata": {},
     "output_type": "display_data"
    }
   ],
   "source": [
    "train_PAY_AMT1['Max_Retraso_Reciente'].value_counts().plot(kind='bar')"
   ]
  },
  {
   "cell_type": "code",
   "execution_count": 264,
   "id": "ff3b2f02",
   "metadata": {},
   "outputs": [],
   "source": [
    "# train_PAY_AMT1['PAY_6'] = train_PAY_AMT1['PAY_6'] ** 2\n",
    "# train_PAY_AMT1['PAY_5'] = train_PAY_AMT1['PAY_5'] ** 2\n",
    "# train_PAY_AMT1['PAY_4'] = train_PAY_AMT1['PAY_4'] ** 2\n",
    "# train_PAY_AMT1['PAY_3'] = train_PAY_AMT1['PAY_3'] ** 2\n",
    "# train_PAY_AMT1['PAY_2'] = train_PAY_AMT1['PAY_2'] ** 2"
   ]
  },
  {
   "cell_type": "markdown",
   "id": "d751ca19",
   "metadata": {},
   "source": [
    "## Clasificación de Variables"
   ]
  },
  {
   "cell_type": "code",
   "execution_count": 265,
   "id": "203bdebf",
   "metadata": {},
   "outputs": [],
   "source": [
    "# Unidad muestral\n",
    "var_um = ['CUSTOMER_ID']\n",
    "\n",
    "# Variables categoricas\n",
    "var_cat = ['SEX', 'EDUCATION', 'MARRIAGE']\n",
    "\n",
    "# Variables numericas\n",
    "var_num = ['LIMIT_BAL','AGE',\n",
    "           'BILL_AMT1','BILL_AMT2','BILL_AMT3','BILL_AMT4','BILL_AMT5','BILL_AMT6',\n",
    "           'PAY_AMT2','PAY_AMT3','PAY_AMT4','PAY_AMT5','PAY_AMT6', \n",
    "           'PAY_2', 'PAY_3', 'PAY_4', 'PAY_5', 'PAY_6'\n",
    "           ]# + ['Ratio_Pago_Factura_Anterior', 'Cambio_Pago_Reciente'] \n",
    "           #] + lst_var_1 + lst_var_2 + lst_var_3 + lst_var_4\n",
    "\n",
    "var_tgt = ['PAY_AMT1']"
   ]
  },
  {
   "cell_type": "code",
   "execution_count": 266,
   "id": "043a6813",
   "metadata": {},
   "outputs": [
    {
     "name": "stdout",
     "output_type": "stream",
     "text": [
      "23\n",
      "(4314, 37)\n"
     ]
    }
   ],
   "source": [
    "print( len( var_um + var_cat + var_num + var_tgt ) )\n",
    "print( train_PAY_AMT1.shape )"
   ]
  },
  {
   "cell_type": "code",
   "execution_count": 267,
   "id": "2dabffb5",
   "metadata": {},
   "outputs": [],
   "source": [
    "#sns.pairplot( train_PAY_AMT1[ var_num ] )"
   ]
  },
  {
   "cell_type": "markdown",
   "id": "6f9448eb",
   "metadata": {},
   "source": [
    "# Modelo (Regresión)"
   ]
  },
  {
   "cell_type": "code",
   "execution_count": 268,
   "id": "2f74a834",
   "metadata": {},
   "outputs": [],
   "source": [
    "# Conjunto de entrenamiento\n",
    "X_train = train_PAY_AMT1[ var_cat + var_num ]\n",
    "y_train = train_PAY_AMT1[ var_tgt ]\n",
    "\n",
    "X_train = train_PAY_AMT1.drop( columns=var_cat)[var_num].join(pd.get_dummies(train_PAY_AMT1[var_cat], dtype='int', drop_first=True))\n",
    "\n",
    "# Conjunto de validacion\n",
    "#X_valid = val_PAY_AMT1[ var_cat + var_num ]"
   ]
  },
  {
   "cell_type": "code",
   "execution_count": 269,
   "id": "7a9d5fba",
   "metadata": {},
   "outputs": [
    {
     "data": {
      "text/html": [
       "<div>\n",
       "<style scoped>\n",
       "    .dataframe tbody tr th:only-of-type {\n",
       "        vertical-align: middle;\n",
       "    }\n",
       "\n",
       "    .dataframe tbody tr th {\n",
       "        vertical-align: top;\n",
       "    }\n",
       "\n",
       "    .dataframe thead th {\n",
       "        text-align: right;\n",
       "    }\n",
       "</style>\n",
       "<table border=\"1\" class=\"dataframe\">\n",
       "  <thead>\n",
       "    <tr style=\"text-align: right;\">\n",
       "      <th></th>\n",
       "      <th>LIMIT_BAL</th>\n",
       "      <th>AGE</th>\n",
       "      <th>BILL_AMT1</th>\n",
       "      <th>BILL_AMT2</th>\n",
       "      <th>BILL_AMT3</th>\n",
       "      <th>BILL_AMT4</th>\n",
       "      <th>BILL_AMT5</th>\n",
       "      <th>BILL_AMT6</th>\n",
       "      <th>PAY_AMT2</th>\n",
       "      <th>PAY_AMT3</th>\n",
       "      <th>PAY_AMT4</th>\n",
       "      <th>PAY_AMT5</th>\n",
       "      <th>PAY_AMT6</th>\n",
       "      <th>PAY_2</th>\n",
       "      <th>PAY_3</th>\n",
       "      <th>PAY_4</th>\n",
       "      <th>PAY_5</th>\n",
       "      <th>PAY_6</th>\n",
       "      <th>SEX</th>\n",
       "      <th>EDUCATION</th>\n",
       "      <th>MARRIAGE</th>\n",
       "    </tr>\n",
       "  </thead>\n",
       "  <tbody>\n",
       "    <tr>\n",
       "      <th>0</th>\n",
       "      <td>90,000.00</td>\n",
       "      <td>42</td>\n",
       "      <td>34,672.00</td>\n",
       "      <td>35,270.00</td>\n",
       "      <td>36,150.00</td>\n",
       "      <td>36,528.00</td>\n",
       "      <td>37,128.00</td>\n",
       "      <td>37,348.00</td>\n",
       "      <td>1,832.00</td>\n",
       "      <td>1,600.00</td>\n",
       "      <td>1,000.00</td>\n",
       "      <td>1,000.00</td>\n",
       "      <td>0.00</td>\n",
       "      <td>0</td>\n",
       "      <td>0</td>\n",
       "      <td>0</td>\n",
       "      <td>0</td>\n",
       "      <td>0</td>\n",
       "      <td>2</td>\n",
       "      <td>2</td>\n",
       "      <td>1</td>\n",
       "    </tr>\n",
       "    <tr>\n",
       "      <th>1</th>\n",
       "      <td>40,000.00</td>\n",
       "      <td>33</td>\n",
       "      <td>23,734.00</td>\n",
       "      <td>24,644.00</td>\n",
       "      <td>25,749.00</td>\n",
       "      <td>26,127.00</td>\n",
       "      <td>26,401.00</td>\n",
       "      <td>25,839.00</td>\n",
       "      <td>1,800.00</td>\n",
       "      <td>1,100.00</td>\n",
       "      <td>1,000.00</td>\n",
       "      <td>0.00</td>\n",
       "      <td>2,300.00</td>\n",
       "      <td>2</td>\n",
       "      <td>2</td>\n",
       "      <td>2</td>\n",
       "      <td>2</td>\n",
       "      <td>2</td>\n",
       "      <td>2</td>\n",
       "      <td>3</td>\n",
       "      <td>1</td>\n",
       "    </tr>\n",
       "    <tr>\n",
       "      <th>2</th>\n",
       "      <td>40,000.00</td>\n",
       "      <td>26</td>\n",
       "      <td>6,223.00</td>\n",
       "      <td>7,944.00</td>\n",
       "      <td>8,961.00</td>\n",
       "      <td>3,090.00</td>\n",
       "      <td>390.00</td>\n",
       "      <td>795.00</td>\n",
       "      <td>1,196.00</td>\n",
       "      <td>1,000.00</td>\n",
       "      <td>1,950.00</td>\n",
       "      <td>795.00</td>\n",
       "      <td>1,170.00</td>\n",
       "      <td>0</td>\n",
       "      <td>0</td>\n",
       "      <td>0</td>\n",
       "      <td>-1</td>\n",
       "      <td>-1</td>\n",
       "      <td>2</td>\n",
       "      <td>1</td>\n",
       "      <td>2</td>\n",
       "    </tr>\n",
       "    <tr>\n",
       "      <th>3</th>\n",
       "      <td>90,000.00</td>\n",
       "      <td>50</td>\n",
       "      <td>83,939.00</td>\n",
       "      <td>86,583.00</td>\n",
       "      <td>87,014.00</td>\n",
       "      <td>46,293.00</td>\n",
       "      <td>47,576.00</td>\n",
       "      <td>46,663.00</td>\n",
       "      <td>2,500.00</td>\n",
       "      <td>2,000.00</td>\n",
       "      <td>2,000.00</td>\n",
       "      <td>2,000.00</td>\n",
       "      <td>2,000.00</td>\n",
       "      <td>0</td>\n",
       "      <td>0</td>\n",
       "      <td>0</td>\n",
       "      <td>0</td>\n",
       "      <td>0</td>\n",
       "      <td>2</td>\n",
       "      <td>2</td>\n",
       "      <td>2</td>\n",
       "    </tr>\n",
       "    <tr>\n",
       "      <th>4</th>\n",
       "      <td>30,000.00</td>\n",
       "      <td>22</td>\n",
       "      <td>30,123.00</td>\n",
       "      <td>30,299.00</td>\n",
       "      <td>27,758.00</td>\n",
       "      <td>22,720.00</td>\n",
       "      <td>19,136.00</td>\n",
       "      <td>14,452.00</td>\n",
       "      <td>2,000.00</td>\n",
       "      <td>2,000.00</td>\n",
       "      <td>614.00</td>\n",
       "      <td>924.00</td>\n",
       "      <td>0.00</td>\n",
       "      <td>0</td>\n",
       "      <td>0</td>\n",
       "      <td>0</td>\n",
       "      <td>0</td>\n",
       "      <td>0</td>\n",
       "      <td>2</td>\n",
       "      <td>3</td>\n",
       "      <td>2</td>\n",
       "    </tr>\n",
       "  </tbody>\n",
       "</table>\n",
       "</div>"
      ],
      "text/plain": [
       "   LIMIT_BAL  AGE  BILL_AMT1  BILL_AMT2  BILL_AMT3  BILL_AMT4  BILL_AMT5  \\\n",
       "0  90,000.00   42  34,672.00  35,270.00  36,150.00  36,528.00  37,128.00   \n",
       "1  40,000.00   33  23,734.00  24,644.00  25,749.00  26,127.00  26,401.00   \n",
       "2  40,000.00   26   6,223.00   7,944.00   8,961.00   3,090.00     390.00   \n",
       "3  90,000.00   50  83,939.00  86,583.00  87,014.00  46,293.00  47,576.00   \n",
       "4  30,000.00   22  30,123.00  30,299.00  27,758.00  22,720.00  19,136.00   \n",
       "\n",
       "   BILL_AMT6  PAY_AMT2  PAY_AMT3  PAY_AMT4  PAY_AMT5  PAY_AMT6  PAY_2  PAY_3  \\\n",
       "0  37,348.00  1,832.00  1,600.00  1,000.00  1,000.00      0.00      0      0   \n",
       "1  25,839.00  1,800.00  1,100.00  1,000.00      0.00  2,300.00      2      2   \n",
       "2     795.00  1,196.00  1,000.00  1,950.00    795.00  1,170.00      0      0   \n",
       "3  46,663.00  2,500.00  2,000.00  2,000.00  2,000.00  2,000.00      0      0   \n",
       "4  14,452.00  2,000.00  2,000.00    614.00    924.00      0.00      0      0   \n",
       "\n",
       "   PAY_4  PAY_5  PAY_6  SEX  EDUCATION  MARRIAGE  \n",
       "0      0      0      0    2          2         1  \n",
       "1      2      2      2    2          3         1  \n",
       "2      0     -1     -1    2          1         2  \n",
       "3      0      0      0    2          2         2  \n",
       "4      0      0      0    2          3         2  "
      ]
     },
     "execution_count": 269,
     "metadata": {},
     "output_type": "execute_result"
    }
   ],
   "source": [
    "X_train.head()"
   ]
  },
  {
   "cell_type": "markdown",
   "id": "32ba9c6b",
   "metadata": {},
   "source": [
    "#### Mejores variables"
   ]
  },
  {
   "cell_type": "code",
   "execution_count": 270,
   "id": "fefe8aa2",
   "metadata": {},
   "outputs": [
    {
     "data": {
      "text/plain": [
       "(4314, 21)"
      ]
     },
     "execution_count": 270,
     "metadata": {},
     "output_type": "execute_result"
    }
   ],
   "source": [
    "X_train.shape"
   ]
  },
  {
   "cell_type": "code",
   "execution_count": 271,
   "id": "d8671f18",
   "metadata": {},
   "outputs": [
    {
     "name": "stdout",
     "output_type": "stream",
     "text": [
      "['LIMIT_BAL', 'AGE', 'BILL_AMT1', 'BILL_AMT2', 'BILL_AMT3', 'BILL_AMT4', 'BILL_AMT5', 'BILL_AMT6', 'PAY_AMT2', 'PAY_AMT3', 'PAY_AMT4', 'PAY_AMT5', 'PAY_AMT6', 'PAY_2', 'PAY_3', 'PAY_4', 'PAY_5', 'PAY_6', 'SEX', 'EDUCATION', 'MARRIAGE']\n"
     ]
    },
    {
     "name": "stderr",
     "output_type": "stream",
     "text": [
      "/Users/gblasd/Documents/DataScience/.venv/lib/python3.13/site-packages/sklearn/feature_selection/_univariate_selection.py:783: UserWarning: k=30 is greater than n_features=21. All the features will be returned.\n",
      "  warnings.warn(\n",
      "/Users/gblasd/Documents/DataScience/.venv/lib/python3.13/site-packages/sklearn/utils/validation.py:1408: DataConversionWarning: A column-vector y was passed when a 1d array was expected. Please change the shape of y to (n_samples, ), for example using ravel().\n",
      "  y = column_or_1d(y, warn=True)\n"
     ]
    }
   ],
   "source": [
    "kb = SelectKBest( k=30, score_func=f_regression )\n",
    "kb.fit(X_train, y_train)\n",
    "kb.get_feature_names_out()\n",
    "ls_best = [x for x, y in zip(X_train.columns, kb.get_support()) if y]\n",
    "print(ls_best)\n",
    "X_train = pd.DataFrame(kb.transform(X_train), columns=ls_best)\n",
    "X_train_cols = X_train.columns"
   ]
  },
  {
   "cell_type": "code",
   "execution_count": 272,
   "id": "f0328120",
   "metadata": {},
   "outputs": [
    {
     "data": {
      "text/html": [
       "<div>\n",
       "<style scoped>\n",
       "    .dataframe tbody tr th:only-of-type {\n",
       "        vertical-align: middle;\n",
       "    }\n",
       "\n",
       "    .dataframe tbody tr th {\n",
       "        vertical-align: top;\n",
       "    }\n",
       "\n",
       "    .dataframe thead th {\n",
       "        text-align: right;\n",
       "    }\n",
       "</style>\n",
       "<table border=\"1\" class=\"dataframe\">\n",
       "  <thead>\n",
       "    <tr style=\"text-align: right;\">\n",
       "      <th></th>\n",
       "      <th>LIMIT_BAL</th>\n",
       "      <th>AGE</th>\n",
       "      <th>BILL_AMT1</th>\n",
       "      <th>BILL_AMT2</th>\n",
       "      <th>BILL_AMT3</th>\n",
       "      <th>BILL_AMT4</th>\n",
       "      <th>BILL_AMT5</th>\n",
       "      <th>BILL_AMT6</th>\n",
       "      <th>PAY_AMT2</th>\n",
       "      <th>PAY_AMT3</th>\n",
       "      <th>PAY_AMT4</th>\n",
       "      <th>PAY_AMT5</th>\n",
       "      <th>PAY_AMT6</th>\n",
       "      <th>PAY_2</th>\n",
       "      <th>PAY_3</th>\n",
       "      <th>PAY_4</th>\n",
       "      <th>PAY_5</th>\n",
       "      <th>PAY_6</th>\n",
       "      <th>SEX</th>\n",
       "      <th>EDUCATION</th>\n",
       "      <th>MARRIAGE</th>\n",
       "    </tr>\n",
       "  </thead>\n",
       "  <tbody>\n",
       "    <tr>\n",
       "      <th>0</th>\n",
       "      <td>90,000.00</td>\n",
       "      <td>42.00</td>\n",
       "      <td>34,672.00</td>\n",
       "      <td>35,270.00</td>\n",
       "      <td>36,150.00</td>\n",
       "      <td>36,528.00</td>\n",
       "      <td>37,128.00</td>\n",
       "      <td>37,348.00</td>\n",
       "      <td>1,832.00</td>\n",
       "      <td>1,600.00</td>\n",
       "      <td>1,000.00</td>\n",
       "      <td>1,000.00</td>\n",
       "      <td>0.00</td>\n",
       "      <td>0.00</td>\n",
       "      <td>0.00</td>\n",
       "      <td>0.00</td>\n",
       "      <td>0.00</td>\n",
       "      <td>0.00</td>\n",
       "      <td>2.00</td>\n",
       "      <td>2.00</td>\n",
       "      <td>1.00</td>\n",
       "    </tr>\n",
       "    <tr>\n",
       "      <th>1</th>\n",
       "      <td>40,000.00</td>\n",
       "      <td>33.00</td>\n",
       "      <td>23,734.00</td>\n",
       "      <td>24,644.00</td>\n",
       "      <td>25,749.00</td>\n",
       "      <td>26,127.00</td>\n",
       "      <td>26,401.00</td>\n",
       "      <td>25,839.00</td>\n",
       "      <td>1,800.00</td>\n",
       "      <td>1,100.00</td>\n",
       "      <td>1,000.00</td>\n",
       "      <td>0.00</td>\n",
       "      <td>2,300.00</td>\n",
       "      <td>2.00</td>\n",
       "      <td>2.00</td>\n",
       "      <td>2.00</td>\n",
       "      <td>2.00</td>\n",
       "      <td>2.00</td>\n",
       "      <td>2.00</td>\n",
       "      <td>3.00</td>\n",
       "      <td>1.00</td>\n",
       "    </tr>\n",
       "    <tr>\n",
       "      <th>2</th>\n",
       "      <td>40,000.00</td>\n",
       "      <td>26.00</td>\n",
       "      <td>6,223.00</td>\n",
       "      <td>7,944.00</td>\n",
       "      <td>8,961.00</td>\n",
       "      <td>3,090.00</td>\n",
       "      <td>390.00</td>\n",
       "      <td>795.00</td>\n",
       "      <td>1,196.00</td>\n",
       "      <td>1,000.00</td>\n",
       "      <td>1,950.00</td>\n",
       "      <td>795.00</td>\n",
       "      <td>1,170.00</td>\n",
       "      <td>0.00</td>\n",
       "      <td>0.00</td>\n",
       "      <td>0.00</td>\n",
       "      <td>-1.00</td>\n",
       "      <td>-1.00</td>\n",
       "      <td>2.00</td>\n",
       "      <td>1.00</td>\n",
       "      <td>2.00</td>\n",
       "    </tr>\n",
       "    <tr>\n",
       "      <th>3</th>\n",
       "      <td>90,000.00</td>\n",
       "      <td>50.00</td>\n",
       "      <td>83,939.00</td>\n",
       "      <td>86,583.00</td>\n",
       "      <td>87,014.00</td>\n",
       "      <td>46,293.00</td>\n",
       "      <td>47,576.00</td>\n",
       "      <td>46,663.00</td>\n",
       "      <td>2,500.00</td>\n",
       "      <td>2,000.00</td>\n",
       "      <td>2,000.00</td>\n",
       "      <td>2,000.00</td>\n",
       "      <td>2,000.00</td>\n",
       "      <td>0.00</td>\n",
       "      <td>0.00</td>\n",
       "      <td>0.00</td>\n",
       "      <td>0.00</td>\n",
       "      <td>0.00</td>\n",
       "      <td>2.00</td>\n",
       "      <td>2.00</td>\n",
       "      <td>2.00</td>\n",
       "    </tr>\n",
       "    <tr>\n",
       "      <th>4</th>\n",
       "      <td>30,000.00</td>\n",
       "      <td>22.00</td>\n",
       "      <td>30,123.00</td>\n",
       "      <td>30,299.00</td>\n",
       "      <td>27,758.00</td>\n",
       "      <td>22,720.00</td>\n",
       "      <td>19,136.00</td>\n",
       "      <td>14,452.00</td>\n",
       "      <td>2,000.00</td>\n",
       "      <td>2,000.00</td>\n",
       "      <td>614.00</td>\n",
       "      <td>924.00</td>\n",
       "      <td>0.00</td>\n",
       "      <td>0.00</td>\n",
       "      <td>0.00</td>\n",
       "      <td>0.00</td>\n",
       "      <td>0.00</td>\n",
       "      <td>0.00</td>\n",
       "      <td>2.00</td>\n",
       "      <td>3.00</td>\n",
       "      <td>2.00</td>\n",
       "    </tr>\n",
       "  </tbody>\n",
       "</table>\n",
       "</div>"
      ],
      "text/plain": [
       "   LIMIT_BAL   AGE  BILL_AMT1  BILL_AMT2  BILL_AMT3  BILL_AMT4  BILL_AMT5  \\\n",
       "0  90,000.00 42.00  34,672.00  35,270.00  36,150.00  36,528.00  37,128.00   \n",
       "1  40,000.00 33.00  23,734.00  24,644.00  25,749.00  26,127.00  26,401.00   \n",
       "2  40,000.00 26.00   6,223.00   7,944.00   8,961.00   3,090.00     390.00   \n",
       "3  90,000.00 50.00  83,939.00  86,583.00  87,014.00  46,293.00  47,576.00   \n",
       "4  30,000.00 22.00  30,123.00  30,299.00  27,758.00  22,720.00  19,136.00   \n",
       "\n",
       "   BILL_AMT6  PAY_AMT2  PAY_AMT3  PAY_AMT4  PAY_AMT5  PAY_AMT6  PAY_2  PAY_3  \\\n",
       "0  37,348.00  1,832.00  1,600.00  1,000.00  1,000.00      0.00   0.00   0.00   \n",
       "1  25,839.00  1,800.00  1,100.00  1,000.00      0.00  2,300.00   2.00   2.00   \n",
       "2     795.00  1,196.00  1,000.00  1,950.00    795.00  1,170.00   0.00   0.00   \n",
       "3  46,663.00  2,500.00  2,000.00  2,000.00  2,000.00  2,000.00   0.00   0.00   \n",
       "4  14,452.00  2,000.00  2,000.00    614.00    924.00      0.00   0.00   0.00   \n",
       "\n",
       "   PAY_4  PAY_5  PAY_6  SEX  EDUCATION  MARRIAGE  \n",
       "0   0.00   0.00   0.00 2.00       2.00      1.00  \n",
       "1   2.00   2.00   2.00 2.00       3.00      1.00  \n",
       "2   0.00  -1.00  -1.00 2.00       1.00      2.00  \n",
       "3   0.00   0.00   0.00 2.00       2.00      2.00  \n",
       "4   0.00   0.00   0.00 2.00       3.00      2.00  "
      ]
     },
     "execution_count": 272,
     "metadata": {},
     "output_type": "execute_result"
    }
   ],
   "source": [
    "X_train.head()"
   ]
  },
  {
   "cell_type": "code",
   "execution_count": 273,
   "id": "9f7f57cf",
   "metadata": {},
   "outputs": [
    {
     "data": {
      "text/html": [
       "<div>\n",
       "<style scoped>\n",
       "    .dataframe tbody tr th:only-of-type {\n",
       "        vertical-align: middle;\n",
       "    }\n",
       "\n",
       "    .dataframe tbody tr th {\n",
       "        vertical-align: top;\n",
       "    }\n",
       "\n",
       "    .dataframe thead th {\n",
       "        text-align: right;\n",
       "    }\n",
       "</style>\n",
       "<table border=\"1\" class=\"dataframe\">\n",
       "  <thead>\n",
       "    <tr style=\"text-align: right;\">\n",
       "      <th></th>\n",
       "      <th>PAY_AMT1</th>\n",
       "    </tr>\n",
       "  </thead>\n",
       "  <tbody>\n",
       "    <tr>\n",
       "      <th>0</th>\n",
       "      <td>1,562.00</td>\n",
       "    </tr>\n",
       "    <tr>\n",
       "      <th>1</th>\n",
       "      <td>1,600.00</td>\n",
       "    </tr>\n",
       "    <tr>\n",
       "      <th>2</th>\n",
       "      <td>2,000.00</td>\n",
       "    </tr>\n",
       "    <tr>\n",
       "      <th>3</th>\n",
       "      <td>4,000.00</td>\n",
       "    </tr>\n",
       "    <tr>\n",
       "      <th>4</th>\n",
       "      <td>1,600.00</td>\n",
       "    </tr>\n",
       "  </tbody>\n",
       "</table>\n",
       "</div>"
      ],
      "text/plain": [
       "   PAY_AMT1\n",
       "0  1,562.00\n",
       "1  1,600.00\n",
       "2  2,000.00\n",
       "3  4,000.00\n",
       "4  1,600.00"
      ]
     },
     "execution_count": 273,
     "metadata": {},
     "output_type": "execute_result"
    }
   ],
   "source": [
    "y_train.head()"
   ]
  },
  {
   "cell_type": "code",
   "execution_count": null,
   "id": "b7d1d60e",
   "metadata": {},
   "outputs": [
    {
     "name": "stdout",
     "output_type": "stream",
     "text": [
      "SCORE:  0.6993754286660805\n",
      "[0.65958085 0.37142544 0.58553527 0.77546689]\n",
      "MEAN 0.5980021118143761\n",
      "STD 0.1472906125138804\n",
      "R-squared: 0.6994\n",
      "Mean squared error: 70085311.5473\n",
      "Root mean squared error: 8371.6971\n",
      "Mean Absolute Error: 4285.6489\n"
     ]
    },
    {
     "data": {
      "image/png": "[encoded data removed]",
      "text/plain": [
       "<Figure size 1000x500 with 2 Axes>"
      ]
     },
     "metadata": {},
     "output_type": "display_data"
    },
    {
     "name": "stdout",
     "output_type": "stream",
     "text": [
      "LIMIT_BAL = 0.0072981617\n",
      "AGE = 17.6402058266\n",
      "BILL_AMT1 = -0.5967614232\n",
      "BILL_AMT2 = 0.8691517311\n",
      "BILL_AMT3 = -0.2095797494\n",
      "BILL_AMT4 = 0.0311783053\n",
      "BILL_AMT5 = 0.0108006151\n",
      "BILL_AMT6 = -0.0380772223\n",
      "PAY_AMT2 = 0.211450366\n",
      "PAY_AMT3 = 0.0353175364\n",
      "PAY_AMT4 = 0.0980538202\n",
      "PAY_AMT5 = 0.0788612509\n",
      "PAY_AMT6 = 0.0125113425\n",
      "PAY_2 = -1080.0871489691\n",
      "PAY_3 = 105.9937661775\n",
      "PAY_4 = -193.514544496\n",
      "PAY_5 = -114.3683712289\n",
      "PAY_6 = -34.2467261615\n",
      "SEX = 250.0492450672\n",
      "EDUCATION = -80.0074370584\n",
      "MARRIAGE = 70.3311254791\n",
      "Intercept: [-957.31306242]\n",
      "\n",
      "Feature Coefficients:\n",
      "       Feature  Coefficient\n",
      "0   LIMIT_BAL         0.01\n",
      "1         AGE        17.64\n",
      "2   BILL_AMT1        -0.60\n",
      "3   BILL_AMT2         0.87\n",
      "4   BILL_AMT3        -0.21\n",
      "5   BILL_AMT4         0.03\n",
      "6   BILL_AMT5         0.01\n",
      "7   BILL_AMT6        -0.04\n",
      "8    PAY_AMT2         0.21\n",
      "9    PAY_AMT3         0.04\n",
      "10   PAY_AMT4         0.10\n",
      "11   PAY_AMT5         0.08\n",
      "12   PAY_AMT6         0.01\n",
      "13      PAY_2    -1,080.09\n",
      "14      PAY_3       105.99\n",
      "15      PAY_4      -193.51\n",
      "16      PAY_5      -114.37\n",
      "17      PAY_6       -34.25\n",
      "18        SEX       250.05\n",
      "19  EDUCATION       -80.01\n",
      "20   MARRIAGE        70.33\n"
     ]
    },
    {
     "data": {
      "image/png": "[encoded data removed]",
      "text/plain": [
       "<Figure size 1000x600 with 1 Axes>"
      ]
     },
     "metadata": {},
     "output_type": "display_data"
    }
   ],
   "source": [
    "#from sklearn.preprocessing import MinMaxScaler, StandardScaler\n",
    "#scaler = MinMaxScaler()\n",
    "#X_train = scaler.fit_transform(X_train)\n",
    "#y_train = scaler.fit_transform(y_train)\n",
    "\n",
    "linreg = LinearRegression()\n",
    "linreg.fit(X_train, y_train)\n",
    "\n",
    "print(\"SCORE: \", linreg.score(X_train, y_train))\n",
    "ls_scores = cross_val_score(cv = 4, estimator=linreg, X=X_train, y=y_train)\n",
    "print(ls_scores)\n",
    "print(\"MEAN\", np.mean(ls_scores))\n",
    "print(\"STD\", np.std(ls_scores))\n",
    "\n",
    "# Make predictions.\n",
    "#y_pred = linreg.predict(train_PAY_AMT1[X_train.columns])\n",
    "y_pred = linreg.predict(X_train) # los datos ya se encuentran escalados\n",
    "y_train = pd.DataFrame(y_train)\n",
    "# Calculate and print errors.\n",
    "r2 = r2_score(y_train, y_pred)\n",
    "print(f\"R-squared: {r2:.4f}\")\n",
    "mse = mean_squared_error(y_train, y_pred)\n",
    "print(f\"Mean squared error: {mse:.4f}\")\n",
    "rmse = mse ** 0.5\n",
    "print(f\"Root mean squared error: {rmse:.4f}\")\n",
    "mae = mean_absolute_error(y_pred=y_pred, y_true=y_train)\n",
    "print(f\"Mean Absolute Error: {mae:.4f}\")\n",
    "\n",
    "\n",
    "\n",
    "plt.figure(figsize=(10,5))\n",
    "# Plot 1: Residuals Distribution.\n",
    "plt.subplot(1,2,1)\n",
    "residuals = y_train - linreg.predict(X_train)\n",
    "sns.histplot(residuals, bins=30, kde=True, color=\"blue\")\n",
    "plt.axvline(x=0, color='red', linestyle='--')\n",
    "plt.title(\"Residuals Distribution\")\n",
    "plt.xlabel(\"Residuals (y_actual - y_predicted)\")\n",
    "plt.ylabel(\"Frequency\")\n",
    "\n",
    "x_ = np.array(y_train)[:,0]\n",
    "y_ = y_pred[:,0]\n",
    "# Plot 2: Regression Fit (Actual vs Predicted).\n",
    "plt.subplot(1,2,2)\n",
    "sns.scatterplot(x=x_, y=y_, alpha=0.7)\n",
    "plt.plot([min(x_), max(x_)], [min(x_), max(x_)], color='red', linestyle='--')  # Perfect fit line\n",
    "plt.title(\"Regression Fit: Actual vs Predicted\")\n",
    "plt.xlabel(\"Actual Values\")\n",
    "plt.ylabel(\"Predicted Values\")\n",
    "plt.show()\n",
    "\n",
    "#print(\"Model coefficients:\\n\")\n",
    "for i in range(X_train.shape[1]):\n",
    "    print(X_train_cols[i], \"=\", linreg.coef_[0][i].round(10))\n",
    "\n",
    "# Extraer información del modelo\n",
    "print(\"Intercept:\", linreg.intercept_)\n",
    "coeff_df = pd.DataFrame({\"Feature\": X_train_cols, \"Coefficient\": linreg.coef_[0]})\n",
    "print(\"\\nFeature Coefficients:\\n\", coeff_df)\n",
    "\n",
    "# Resumir los resultados del modelo \n",
    "# Sort dataframe by coefficients.\n",
    "coef_df_sorted = coeff_df.sort_values(by=\"Coefficient\", ascending=False)\n",
    "\n",
    "# Create plot.\n",
    "plt.figure(figsize=(10,6))\n",
    "#plt.barh(coeff_df[\"Feature\"], coef_df_sorted[\"Coefficient\"], color=\"blue\")\n",
    "plt.barh(data=coef_df_sorted, y=\"Feature\", width=\"Coefficient\", color=\"blue\")\n",
    "plt.xlabel(\"Coefficient Value\")\n",
    "plt.ylabel(\"Feature\")\n",
    "plt.title(\"Feature Importance (Linear Regression Coefficients)\")\n",
    "plt.show()"
   ]
  }
 ],
 "metadata": {
  "kernelspec": {
   "display_name": ".venv",
   "language": "python",
   "name": "python3"
  },
  "language_info": {
   "codemirror_mode": {
    "name": "ipython",
    "version": 3
   },
   "file_extension": ".py",
   "mimetype": "text/x-python",
   "name": "python",
   "nbconvert_exporter": "python",
   "pygments_lexer": "ipython3",
   "version": "3.13.2"
  }
 },
 "nbformat": 4,
 "nbformat_minor": 5
}
