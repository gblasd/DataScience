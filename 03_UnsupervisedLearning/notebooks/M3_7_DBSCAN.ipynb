{
 "cells": [
  {
   "cell_type": "markdown",
   "metadata": {},
   "source": [
    "# 3.7.1. Clustering Espacial Basado en Densidad de Aplicaciones con Ruido"
   ]
  },
  {
   "cell_type": "markdown",
   "metadata": {},
   "source": [
    "## Preparación del Entorno"
   ]
  },
  {
   "cell_type": "markdown",
   "metadata": {},
   "source": [
    "### Carga de Módulos"
   ]
  },
  {
   "cell_type": "code",
   "execution_count": 1,
   "metadata": {},
   "outputs": [],
   "source": [
    "import math\n",
    "import os\n",
    "import warnings\n",
    "\n",
    "import numpy as np\n",
    "import pandas as pd\n",
    "import matplotlib.pyplot as plt\n",
    "from matplotlib import offsetbox\n",
    "import seaborn as sns\n",
    "import plotly.express as px\n",
    "import plotly.graph_objects as go\n",
    "import plotly.io as pio\n",
    "import plotly.figure_factory as ff\n",
    "# import session_info\n",
    "from time import time\n",
    "from plotly.subplots import make_subplots\n",
    "from sklearn import set_config\n",
    "from sklearn.datasets import make_blobs\n",
    "\n",
    "# Tema Principal\n",
    "from sklearn.neighbors import NearestNeighbors\n",
    "from sklearn.cluster import DBSCAN\n",
    "from sklearn.preprocessing import StandardScaler\n",
    "from sklearn.datasets import make_moons\n",
    "import sys\n",
    "\n",
    "# sys.path.append('../scripts')\n",
    "from funny_stuffs import calculate_kn_distance, plot_kn_distance"
   ]
  },
  {
   "cell_type": "markdown",
   "metadata": {},
   "source": [
    "### Configuración Inicial"
   ]
  },
  {
   "cell_type": "code",
   "execution_count": 2,
   "metadata": {},
   "outputs": [],
   "source": [
    "random_seed = 333  # Semilla para reproducibilidad de resultados\n",
    "np.random.seed(random_seed)  # Para reproducibilidad\n",
    "\n",
    "# Configuración de opciones de visualización para pandas\n",
    "pd.set_option('display.max_columns', None)  # Muestra todas las columnas\n",
    "pd.set_option('display.max_rows', 15)  # Ajusta el número de filas a mostrar"
   ]
  },
  {
   "cell_type": "code",
   "execution_count": null,
   "metadata": {},
   "outputs": [],
   "source": [
    "\n",
    "\n",
    "# Configuraciones extras\n",
    "sns.set_style('dark')\n",
    "dark_template = pio.templates['plotly_dark'].to_plotly_json()\n",
    "dark_template['layout']['paper_bgcolor'] = 'rgba(30, 30, 30, 0.5)'\n",
    "dark_template['layout']['plot_bgcolor'] = 'rgba(30, 30, 30, 0.5)'\n",
    "pio.templates['plotly_dark_semi_transparent'] = go.layout.Template(dark_template)\n",
    "pio.templates.default = 'plotly_dark_semi_transparent'\n",
    "set_config(transform_output=\"pandas\")\n",
    "set_config(display='diagram')\n",
    "warnings.filterwarnings(\"ignore\")\n",
    "%matplotlib inline"
   ]
  },
  {
   "cell_type": "markdown",
   "metadata": {},
   "source": [
    "## Clustering Espacial Basado en Densidad de Aplicaciones con Ruido"
   ]
  },
  {
   "cell_type": "markdown",
   "metadata": {},
   "source": [
    "### Fundamento Teórico"
   ]
  },
  {
   "cell_type": "markdown",
   "metadata": {},
   "source": [
    "#### 1. **Definiciones**"
   ]
  },
  {
   "cell_type": "markdown",
   "metadata": {},
   "source": [
    "DBSCAN  (*Density-Based Spatial Clustering of Applications with Noise*), es un algoritmo de agrupamiento basado en densidad de puntos, especialmente cuando estos grupos están separados por regiones de baja densidad."
   ]
  },
  {
   "cell_type": "markdown",
   "metadata": {},
   "source": [
    "Dado un conjunto de entrenamiento $S_n = \\{x_i; i = 1, 2, \\ldots, n\\}$, y una métrica de distancia $d$, necesitamos definir varios conceptos utilizados por el algoritmo DBSCAN, a saber:\n"
   ]
  },
  {
   "cell_type": "markdown",
   "metadata": {},
   "source": [
    "**Definición 1 (Eps-Vecindad - MinPts).** La Eps-vecindad de un punto $x$, denotada $N_{\\text{Eps}}(x)$ está dada por:\n",
    "$$ N_{\\text{Eps}} (x) = \\{ y \\in S_n | d(x, y) \\leq \\text{Eps} \\} $$\n",
    "\n",
    "Dada la existencia de dos tipos de puntos en un cluster, a saber: puntos dentro del cluster (puntos internos) y puntos en la frontera del cluster (puntos umbral), será necesario que para cada punto $x$ en el cluster $C$ exista un punto $y$ en $C$ tal que $x$ se encuentra en la Eps-vecindad de $y$ y $N_{\\text{Eps}}(y)$ contenga al menos $\\text{MinPts}$, lo anterior se presenta en la siguientes definiciones:"
   ]
  },
  {
   "cell_type": "markdown",
   "metadata": {},
   "source": [
    "**Definición 2 (Directamente alcanzable en densidad).** Un punto $x$ es directamente alcanzable en densidad desde un punto $y$ con respecto a $\\text{Eps}$, $\\text{MinPts}$ si:\n",
    "\n",
    "1. $x \\in N_{\\text{Eps}} (y)$\n",
    "2. $|N_{\\text{Eps}} (y)| \\geq \\text{MinPts}$ (condición de punto interno/central)."
   ]
  },
  {
   "cell_type": "markdown",
   "metadata": {},
   "source": [
    "**Definición 3 (Alcanzable en densidad).** Un punto $x$ es alcanzable en densidad desde un punto $y$ con respecto a $\\text{Eps}$, $\\text{MinPts}$ si existe una secuencia de puntos $x^{(1)}, \\ldots, x^{(n)}, x^{(1)} = y$, $x^{(n)} = x$ tal que cada punto $x^{(1+i)}$ es directamente alcanzable en densidad desde $x^{(i)}$."
   ]
  },
  {
   "cell_type": "markdown",
   "metadata": {},
   "source": [
    "**Definición 4 (Conectado en densidad).** Un punto $x$ se dice conectado en densidad a un punto $y$ con respecto a $\\text{Eps}$ y $\\text{MinPts}$ si existe un punto $z$ tal que tanto $x$ como $y$ son alcanzables en densidad desde $z$ con respecto a $\\text{Eps}$ y $\\text{MinPts}$."
   ]
  },
  {
   "cell_type": "markdown",
   "metadata": {},
   "source": [
    "**Definición 5 (Cluster).** Sea $S_n = \\{ x_i \\ | \\ i = 1, 2, \\ldots, n \\}$ un conjunto, un cluster $C$ con respecto a $\\text{Eps}$ y $\\text{MinPts}$ es un conjunto no vacío de $S_n$ que satisface lo siguiente:\n",
    "1. $\\forall x, y$ si $x \\in C$ y $y$ es alcanzable en densidad desde $x$ con respecto a $\\text{Eps}$ y $\\text{MinPts}$, entonces $y \\in C$ (Maximalidad).\n",
    "2. $\\forall x, y \\in C$: $x$ es conectado en densidad a $y$ con respecto a $\\text{Eps}$ y $\\text{MinPts}$ (Conectividad)."
   ]
  },
  {
   "cell_type": "markdown",
   "metadata": {},
   "source": [
    "**Definición 6 (Ruido).** Sean $C_1, \\ldots, C_k$ los clusters del conjunto $S_n$ con respecto a los parámetros $\\text{Eps}$, $\\text{MinPts}$, $i = 1, \\ldots, k$, se define el ruido como el conjunto de puntos en $S_n$ que no pertenecen a ningún cluster $C_i$; es decir: ruido = $\\{ x \\in S_n \\ | \\ x \\not\\in C_i \\}$."
   ]
  },
  {
   "cell_type": "markdown",
   "metadata": {},
   "source": [
    "Con lo anterior podemos establcer el algoritmo DBSCAN:"
   ]
  },
  {
   "cell_type": "markdown",
   "metadata": {},
   "source": [
    "#### 2. **Algoritmo**"
   ]
  },
  {
   "cell_type": "markdown",
   "metadata": {},
   "source": [
    "1. **Preparación**\n",
    "  - **Entrada**: Conjunto de datos $S_n$, parámetros $\\text{Eps}$ (epsilon) y $\\text{MinPts}$.\n",
    "  - **Inicialización**: Todos los puntos en $S_n$ están inicialmente marcados como no visitados.\n",
    "\n",
    "2. **Proceso Principal**\n",
    "Para cada punto $x$ en el conjunto de datos $S_n$, se repiten los siguientes subpasos hasta que todos los puntos hayan sido visitados:\n",
    "\n",
    "  - 2.1. **Verificación de Punto No Visitado**\n",
    "    - Si $x$ ya ha sido visitado, se pasa al siguiente punto en el conjunto de datos. Si $x$ no ha sido visitado, se marca como visitado y se procede al siguiente subpaso.\n",
    "\n",
    "  - 2.2.  **Búsqueda de Vecinos**\n",
    "    - Se calcula la ε-vecindad de $x$, $N_{\\epsilon}(p)$, que incluye todos los puntos dentro de un radio $\\text{Eps}$ de $x$.\n",
    "\n",
    "  -  2.3. **Evaluación de Punto Central**\n",
    "    - Si $|N_{\\epsilon}(p)|$ es menor que $\\text{MinPts}$, $x$ se marca como ruido (temporalmente, ya que podría ser alcanzado por un punto central en un paso posterior). Si $|N_{\\epsilon}(x)|$ es mayor o igual a $\\text{MinPts}$, $x$ es un punto central, y se procede al siguiente subpaso.\n",
    "\n",
    "  - 2.4. **Expansión de Grupos**\n",
    "    - Para un punto central $x$, se crea un nuevo grupo incluyendo $x$ y todos los puntos en $N_{\\epsilon}(p)$.\n",
    "    - Para cada punto $y$ en $N_{\\epsilon}(p)$:\n",
    "      - Si $y$ es un punto no visitado, se marca como visitado y se verifica si es un punto central (es decir, si $|N_{\\epsilon}(q)|$ es mayor o igual a $\\text{MinPts}$). Si es así, la ε-vecindad de $y$ se añade al grupo.\n",
    "      - Si $y$ no pertenece a ningún grupo, se añade al grupo actual.\n",
    "\n",
    "3. **Asignación de Puntos Frontera y Ruido**\n",
    "  - A lo largo del proceso de expansión de grupos, los puntos que no son centrales pero se encuentran en la vecindad de un punto central se identifican como puntos frontera.\n",
    "  - Los puntos que no han sido incluidos en ningún grupo después de explorar todo el conjunto de datos se consideran ruido definitivo.\n",
    "\n",
    "4. **Resultado**\n",
    "  Al finalizar, el algoritmo habrá identificado varios grupos basados en la densidad de los puntos en el conjunto de datos. Cada punto pertenecerá a exactamente un grupo o será marcado como ruido."
   ]
  },
  {
   "cell_type": "code",
   "execution_count": 3,
   "metadata": {},
   "outputs": [
    {
     "data": {
      "application/vnd.plotly.v1+json": {
       "config": {
        "plotlyServerURL": "https://plot.ly"
       },
       "data": [
        {
         "marker": {
          "color": {
           "bdata": "AQH/AAEBAgMAAgEAAQACAQQB/wUAAwEBAwAEBAUBAAUAAAEDAAAAAAMABAAAAAEBAwECBgEABAQDAwIAAQAAAgIAAAEAAgMDAQIDBAAAAAQF/wADAAMDAAAAAgMAAQAAAv8BAAEAAAIBAQYAAgMDAQABAQMGBAIBAAUCBQMBAAMCBAMDBQMEAQUCAgADBgIDAQEDAAAAAQMBBQQBAQACAAEFAAAABgQBBQADAQEA/wEDAP8GAgABAQMBAQUDAAD/Af8BAAQBAAEAAwACBQEEAwADAwQAAAEAAAQFAP8EAf8AAQMAAQEAAQQBAgAAAwEBBAEFAAEGAgEBAAMAAwADAwAAAgD/AAEAAAUEAwQBAAACAgQCBQAAAQEABQQCAQYD/wMAAf8EAAIAAwED",
           "dtype": "i1"
          },
          "colorscale": [
           [
            0,
            "#440154"
           ],
           [
            0.1111111111111111,
            "#482878"
           ],
           [
            0.2222222222222222,
            "#3e4989"
           ],
           [
            0.3333333333333333,
            "#31688e"
           ],
           [
            0.4444444444444444,
            "#26828e"
           ],
           [
            0.5555555555555556,
            "#1f9e89"
           ],
           [
            0.6666666666666666,
            "#35b779"
           ],
           [
            0.7777777777777778,
            "#6ece58"
           ],
           [
            0.8888888888888888,
            "#b5de2b"
           ],
           [
            1,
            "#fde725"
           ]
          ],
          "line": {
           "width": 1
          },
          "size": 8
         },
         "mode": "markers",
         "name": "EPS=0.1, MinPts=5",
         "type": "scatter",
         "x": {
          "bdata": "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",
          "dtype": "f8"
         },
         "y": {
          "bdata": "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",
          "dtype": "f8"
         }
        },
        {
         "marker": {
          "color": {
           "bdata": "AAAAAQAAAAEBAAABAAEAAAAAAQABAQAAAQEAAAAAAQABAQABAQEBAQEBAAEBAQAAAQAAAQABAAABAQABAAEBAAABAQABAAEBAAABAAEBAQAAAAEBAQEBAQEBAAEBAAEBAAEAAQABAQAAAAEBAAEBAAEAAAEBAAAAAQAAAAEAAQEAAAEBAAEAAAAAAAEBAQABAAABAQEBAAEAAAAAAAEAAQAAAQEBAQAAAAEBAAABAQABAQABAAEAAAEAAAABAQEAAAAAAQAAAQABAQEAAAAAAQEBAQABAQABAQAAAQEAAAABAAEBAAABAAAAAAEBAQAAAAAAAQABAAAAAQEBAQEBAQEBAAEBAQABAQAAAQAAAQEAAAAAAAEBAAABAAAAAAEBAAEBAAEAAQABAQAB",
           "dtype": "i1"
          },
          "colorscale": [
           [
            0,
            "#00224e"
           ],
           [
            0.1111111111111111,
            "#123570"
           ],
           [
            0.2222222222222222,
            "#3b496c"
           ],
           [
            0.3333333333333333,
            "#575d6d"
           ],
           [
            0.4444444444444444,
            "#707173"
           ],
           [
            0.5555555555555556,
            "#8a8678"
           ],
           [
            0.6666666666666666,
            "#a59c74"
           ],
           [
            0.7777777777777778,
            "#c3b369"
           ],
           [
            0.8888888888888888,
            "#e1cc55"
           ],
           [
            1,
            "#fee838"
           ]
          ],
          "line": {
           "width": 1
          },
          "size": 8
         },
         "mode": "markers",
         "name": "EPS=0.2, MinPts=10",
         "type": "scatter",
         "x": {
          "bdata": "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",
          "dtype": "f8"
         },
         "y": {
          "bdata": "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",
          "dtype": "f8"
         }
        }
       ],
       "layout": {
        "legend": {
         "title": {
          "text": "Clusters"
         }
        },
        "template": {
         "data": {
          "bar": [
           {
            "error_x": {
             "color": "#2a3f5f"
            },
            "error_y": {
             "color": "#2a3f5f"
            },
            "marker": {
             "line": {
              "color": "#E5ECF6",
              "width": 0.5
             },
             "pattern": {
              "fillmode": "overlay",
              "size": 10,
              "solidity": 0.2
             }
            },
            "type": "bar"
           }
          ],
          "barpolar": [
           {
            "marker": {
             "line": {
              "color": "#E5ECF6",
              "width": 0.5
             },
             "pattern": {
              "fillmode": "overlay",
              "size": 10,
              "solidity": 0.2
             }
            },
            "type": "barpolar"
           }
          ],
          "carpet": [
           {
            "aaxis": {
             "endlinecolor": "#2a3f5f",
             "gridcolor": "white",
             "linecolor": "white",
             "minorgridcolor": "white",
             "startlinecolor": "#2a3f5f"
            },
            "baxis": {
             "endlinecolor": "#2a3f5f",
             "gridcolor": "white",
             "linecolor": "white",
             "minorgridcolor": "white",
             "startlinecolor": "#2a3f5f"
            },
            "type": "carpet"
           }
          ],
          "choropleth": [
           {
            "colorbar": {
             "outlinewidth": 0,
             "ticks": ""
            },
            "type": "choropleth"
           }
          ],
          "contour": [
           {
            "colorbar": {
             "outlinewidth": 0,
             "ticks": ""
            },
            "colorscale": [
             [
              0,
              "#0d0887"
             ],
             [
              0.1111111111111111,
              "#46039f"
             ],
             [
              0.2222222222222222,
              "#7201a8"
             ],
             [
              0.3333333333333333,
              "#9c179e"
             ],
             [
              0.4444444444444444,
              "#bd3786"
             ],
             [
              0.5555555555555556,
              "#d8576b"
             ],
             [
              0.6666666666666666,
              "#ed7953"
             ],
             [
              0.7777777777777778,
              "#fb9f3a"
             ],
             [
              0.8888888888888888,
              "#fdca26"
             ],
             [
              1,
              "#f0f921"
             ]
            ],
            "type": "contour"
           }
          ],
          "contourcarpet": [
           {
            "colorbar": {
             "outlinewidth": 0,
             "ticks": ""
            },
            "type": "contourcarpet"
           }
          ],
          "heatmap": [
           {
            "colorbar": {
             "outlinewidth": 0,
             "ticks": ""
            },
            "colorscale": [
             [
              0,
              "#0d0887"
             ],
             [
              0.1111111111111111,
              "#46039f"
             ],
             [
              0.2222222222222222,
              "#7201a8"
             ],
             [
              0.3333333333333333,
              "#9c179e"
             ],
             [
              0.4444444444444444,
              "#bd3786"
             ],
             [
              0.5555555555555556,
              "#d8576b"
             ],
             [
              0.6666666666666666,
              "#ed7953"
             ],
             [
              0.7777777777777778,
              "#fb9f3a"
             ],
             [
              0.8888888888888888,
              "#fdca26"
             ],
             [
              1,
              "#f0f921"
             ]
            ],
            "type": "heatmap"
           }
          ],
          "histogram": [
           {
            "marker": {
             "pattern": {
              "fillmode": "overlay",
              "size": 10,
              "solidity": 0.2
             }
            },
            "type": "histogram"
           }
          ],
          "histogram2d": [
           {
            "colorbar": {
             "outlinewidth": 0,
             "ticks": ""
            },
            "colorscale": [
             [
              0,
              "#0d0887"
             ],
             [
              0.1111111111111111,
              "#46039f"
             ],
             [
              0.2222222222222222,
              "#7201a8"
             ],
             [
              0.3333333333333333,
              "#9c179e"
             ],
             [
              0.4444444444444444,
              "#bd3786"
             ],
             [
              0.5555555555555556,
              "#d8576b"
             ],
             [
              0.6666666666666666,
              "#ed7953"
             ],
             [
              0.7777777777777778,
              "#fb9f3a"
             ],
             [
              0.8888888888888888,
              "#fdca26"
             ],
             [
              1,
              "#f0f921"
             ]
            ],
            "type": "histogram2d"
           }
          ],
          "histogram2dcontour": [
           {
            "colorbar": {
             "outlinewidth": 0,
             "ticks": ""
            },
            "colorscale": [
             [
              0,
              "#0d0887"
             ],
             [
              0.1111111111111111,
              "#46039f"
             ],
             [
              0.2222222222222222,
              "#7201a8"
             ],
             [
              0.3333333333333333,
              "#9c179e"
             ],
             [
              0.4444444444444444,
              "#bd3786"
             ],
             [
              0.5555555555555556,
              "#d8576b"
             ],
             [
              0.6666666666666666,
              "#ed7953"
             ],
             [
              0.7777777777777778,
              "#fb9f3a"
             ],
             [
              0.8888888888888888,
              "#fdca26"
             ],
             [
              1,
              "#f0f921"
             ]
            ],
            "type": "histogram2dcontour"
           }
          ],
          "mesh3d": [
           {
            "colorbar": {
             "outlinewidth": 0,
             "ticks": ""
            },
            "type": "mesh3d"
           }
          ],
          "parcoords": [
           {
            "line": {
             "colorbar": {
              "outlinewidth": 0,
              "ticks": ""
             }
            },
            "type": "parcoords"
           }
          ],
          "pie": [
           {
            "automargin": true,
            "type": "pie"
           }
          ],
          "scatter": [
           {
            "fillpattern": {
             "fillmode": "overlay",
             "size": 10,
             "solidity": 0.2
            },
            "type": "scatter"
           }
          ],
          "scatter3d": [
           {
            "line": {
             "colorbar": {
              "outlinewidth": 0,
              "ticks": ""
             }
            },
            "marker": {
             "colorbar": {
              "outlinewidth": 0,
              "ticks": ""
             }
            },
            "type": "scatter3d"
           }
          ],
          "scattercarpet": [
           {
            "marker": {
             "colorbar": {
              "outlinewidth": 0,
              "ticks": ""
             }
            },
            "type": "scattercarpet"
           }
          ],
          "scattergeo": [
           {
            "marker": {
             "colorbar": {
              "outlinewidth": 0,
              "ticks": ""
             }
            },
            "type": "scattergeo"
           }
          ],
          "scattergl": [
           {
            "marker": {
             "colorbar": {
              "outlinewidth": 0,
              "ticks": ""
             }
            },
            "type": "scattergl"
           }
          ],
          "scattermap": [
           {
            "marker": {
             "colorbar": {
              "outlinewidth": 0,
              "ticks": ""
             }
            },
            "type": "scattermap"
           }
          ],
          "scattermapbox": [
           {
            "marker": {
             "colorbar": {
              "outlinewidth": 0,
              "ticks": ""
             }
            },
            "type": "scattermapbox"
           }
          ],
          "scatterpolar": [
           {
            "marker": {
             "colorbar": {
              "outlinewidth": 0,
              "ticks": ""
             }
            },
            "type": "scatterpolar"
           }
          ],
          "scatterpolargl": [
           {
            "marker": {
             "colorbar": {
              "outlinewidth": 0,
              "ticks": ""
             }
            },
            "type": "scatterpolargl"
           }
          ],
          "scatterternary": [
           {
            "marker": {
             "colorbar": {
              "outlinewidth": 0,
              "ticks": ""
             }
            },
            "type": "scatterternary"
           }
          ],
          "surface": [
           {
            "colorbar": {
             "outlinewidth": 0,
             "ticks": ""
            },
            "colorscale": [
             [
              0,
              "#0d0887"
             ],
             [
              0.1111111111111111,
              "#46039f"
             ],
             [
              0.2222222222222222,
              "#7201a8"
             ],
             [
              0.3333333333333333,
              "#9c179e"
             ],
             [
              0.4444444444444444,
              "#bd3786"
             ],
             [
              0.5555555555555556,
              "#d8576b"
             ],
             [
              0.6666666666666666,
              "#ed7953"
             ],
             [
              0.7777777777777778,
              "#fb9f3a"
             ],
             [
              0.8888888888888888,
              "#fdca26"
             ],
             [
              1,
              "#f0f921"
             ]
            ],
            "type": "surface"
           }
          ],
          "table": [
           {
            "cells": {
             "fill": {
              "color": "#EBF0F8"
             },
             "line": {
              "color": "white"
             }
            },
            "header": {
             "fill": {
              "color": "#C8D4E3"
             },
             "line": {
              "color": "white"
             }
            },
            "type": "table"
           }
          ]
         },
         "layout": {
          "annotationdefaults": {
           "arrowcolor": "#2a3f5f",
           "arrowhead": 0,
           "arrowwidth": 1
          },
          "autotypenumbers": "strict",
          "coloraxis": {
           "colorbar": {
            "outlinewidth": 0,
            "ticks": ""
           }
          },
          "colorscale": {
           "diverging": [
            [
             0,
             "#8e0152"
            ],
            [
             0.1,
             "#c51b7d"
            ],
            [
             0.2,
             "#de77ae"
            ],
            [
             0.3,
             "#f1b6da"
            ],
            [
             0.4,
             "#fde0ef"
            ],
            [
             0.5,
             "#f7f7f7"
            ],
            [
             0.6,
             "#e6f5d0"
            ],
            [
             0.7,
             "#b8e186"
            ],
            [
             0.8,
             "#7fbc41"
            ],
            [
             0.9,
             "#4d9221"
            ],
            [
             1,
             "#276419"
            ]
           ],
           "sequential": [
            [
             0,
             "#0d0887"
            ],
            [
             0.1111111111111111,
             "#46039f"
            ],
            [
             0.2222222222222222,
             "#7201a8"
            ],
            [
             0.3333333333333333,
             "#9c179e"
            ],
            [
             0.4444444444444444,
             "#bd3786"
            ],
            [
             0.5555555555555556,
             "#d8576b"
            ],
            [
             0.6666666666666666,
             "#ed7953"
            ],
            [
             0.7777777777777778,
             "#fb9f3a"
            ],
            [
             0.8888888888888888,
             "#fdca26"
            ],
            [
             1,
             "#f0f921"
            ]
           ],
           "sequentialminus": [
            [
             0,
             "#0d0887"
            ],
            [
             0.1111111111111111,
             "#46039f"
            ],
            [
             0.2222222222222222,
             "#7201a8"
            ],
            [
             0.3333333333333333,
             "#9c179e"
            ],
            [
             0.4444444444444444,
             "#bd3786"
            ],
            [
             0.5555555555555556,
             "#d8576b"
            ],
            [
             0.6666666666666666,
             "#ed7953"
            ],
            [
             0.7777777777777778,
             "#fb9f3a"
            ],
            [
             0.8888888888888888,
             "#fdca26"
            ],
            [
             1,
             "#f0f921"
            ]
           ]
          },
          "colorway": [
           "#636efa",
           "#EF553B",
           "#00cc96",
           "#ab63fa",
           "#FFA15A",
           "#19d3f3",
           "#FF6692",
           "#B6E880",
           "#FF97FF",
           "#FECB52"
          ],
          "font": {
           "color": "#2a3f5f"
          },
          "geo": {
           "bgcolor": "white",
           "lakecolor": "white",
           "landcolor": "#E5ECF6",
           "showlakes": true,
           "showland": true,
           "subunitcolor": "white"
          },
          "hoverlabel": {
           "align": "left"
          },
          "hovermode": "closest",
          "mapbox": {
           "style": "light"
          },
          "paper_bgcolor": "white",
          "plot_bgcolor": "#E5ECF6",
          "polar": {
           "angularaxis": {
            "gridcolor": "white",
            "linecolor": "white",
            "ticks": ""
           },
           "bgcolor": "#E5ECF6",
           "radialaxis": {
            "gridcolor": "white",
            "linecolor": "white",
            "ticks": ""
           }
          },
          "scene": {
           "xaxis": {
            "backgroundcolor": "#E5ECF6",
            "gridcolor": "white",
            "gridwidth": 2,
            "linecolor": "white",
            "showbackground": true,
            "ticks": "",
            "zerolinecolor": "white"
           },
           "yaxis": {
            "backgroundcolor": "#E5ECF6",
            "gridcolor": "white",
            "gridwidth": 2,
            "linecolor": "white",
            "showbackground": true,
            "ticks": "",
            "zerolinecolor": "white"
           },
           "zaxis": {
            "backgroundcolor": "#E5ECF6",
            "gridcolor": "white",
            "gridwidth": 2,
            "linecolor": "white",
            "showbackground": true,
            "ticks": "",
            "zerolinecolor": "white"
           }
          },
          "shapedefaults": {
           "line": {
            "color": "#2a3f5f"
           }
          },
          "ternary": {
           "aaxis": {
            "gridcolor": "white",
            "linecolor": "white",
            "ticks": ""
           },
           "baxis": {
            "gridcolor": "white",
            "linecolor": "white",
            "ticks": ""
           },
           "bgcolor": "#E5ECF6",
           "caxis": {
            "gridcolor": "white",
            "linecolor": "white",
            "ticks": ""
           }
          },
          "title": {
           "x": 0.05
          },
          "xaxis": {
           "automargin": true,
           "gridcolor": "white",
           "linecolor": "white",
           "ticks": "",
           "title": {
            "standoff": 15
           },
           "zerolinecolor": "white",
           "zerolinewidth": 2
          },
          "yaxis": {
           "automargin": true,
           "gridcolor": "white",
           "linecolor": "white",
           "ticks": "",
           "title": {
            "standoff": 15
           },
           "zerolinecolor": "white",
           "zerolinewidth": 2
          }
         }
        },
        "title": {
         "text": "DBSCAN Clustering con Diferentes Parámetros"
        },
        "xaxis": {
         "title": {
          "text": "X"
         }
        },
        "yaxis": {
         "title": {
          "text": "Y"
         }
        }
       }
      }
     },
     "metadata": {},
     "output_type": "display_data"
    }
   ],
   "source": [
    "# DBSCAN: Diferentes Parámetros\n",
    "X, _ = make_moons(n_samples=300, noise=0.05, random_state=42)\n",
    "\n",
    "dbscan1 = DBSCAN(eps=0.1, min_samples=5)\n",
    "clusters1 = dbscan1.fit_predict(X)\n",
    "dbscan2 = DBSCAN(eps=0.2, min_samples=10)\n",
    "clusters2 = dbscan2.fit_predict(X)\n",
    "\n",
    "fig = go.Figure()\n",
    "\n",
    "fig.add_trace(go.Scatter(x=X[:, 0], y=X[:, 1], mode='markers',\n",
    "                        marker=dict(size=8, color=clusters1, colorscale='Viridis', line_width=1),\n",
    "                        name='EPS=0.1, MinPts=5'))\n",
    "fig.add_trace(go.Scatter(x=X[:, 0] + 2.5, y=X[:, 1], mode='markers',  # Desplazamos en X para diferenciar\n",
    "                        marker=dict(size=8, color=clusters2, colorscale='Cividis', line_width=1),\n",
    "                        name='EPS=0.2, MinPts=10'))\n",
    "fig.update_layout(title=\"DBSCAN Clustering con Diferentes Parámetros\",\n",
    "                  xaxis_title=\"X\",\n",
    "                  yaxis_title=\"Y\",\n",
    "                  legend_title=\"Clusters\")\n",
    "\n",
    "# Mostrar figura\n",
    "fig.show()\n"
   ]
  },
  {
   "cell_type": "markdown",
   "metadata": {},
   "source": [
    "#### Aplicaciónes y Consideraciones"
   ]
  },
  {
   "cell_type": "markdown",
   "metadata": {},
   "source": [
    "<p style=\"font-size:25px;\">Aplicaciones</p>\n",
    "\n",
    "1. Detección de Anomalías\n",
    "2. Sistemas de Información Geográfica\n",
    "3. Segmentación de Imágenes\n",
    "4. Análisis de Tráfico\n",
    "5. Biología y Ecología\n",
    "\n",
    "\n",
    "<p style=\"font-size:25px;\">Ventajas</p>\n",
    "\n",
    "1. No requiere Especificación de Número de Grupos\n",
    "2. Maneja Grupos de Diversas Formas y Tamaños\n",
    "3. Robusto ante Ruido y Puntos Atípicos\n",
    "4. Requiere Pocos Parámetros\n",
    "\n",
    "\n",
    "<p style=\"font-size:25px;\">Consideraciones</p>\n",
    "\n",
    "1. Determinación de Parámetros\n",
    "2. Sensibilidad a Parámetros\n",
    "3. No adecuado para Datos de Alta Dimensión\n",
    "4. Variedad en la Densidad de Grupos\n",
    "5. Complejidad Computacional\n",
    "6. Dependencia de la Métrica de Distancia\n",
    "7. Necesidad de Preprocesamiento\n",
    "8. Evaluación de Resultados"
   ]
  },
  {
   "cell_type": "markdown",
   "metadata": {},
   "source": [
    "### Ejemplo Práctico"
   ]
  },
  {
   "cell_type": "markdown",
   "metadata": {},
   "source": [
    "#### Preparación de los Datos"
   ]
  },
  {
   "cell_type": "markdown",
   "metadata": {},
   "source": [
    "**Objetivo**\n",
    "\n",
    "Segmentar a los clientes de un centro comercial en diferentes grupos basándonos en características como el ingreso anual y la puntuación de gasto. Al comprender las distintas categorías de clientes, la administración del centro comercial podrá diseñar estrategias de marketing más dirigidas para la implentación de una tarjeta departamental.\n",
    "\n",
    "**Planteamiento del problema**\n",
    "\n",
    "El centro comercial ha recopilado datos de sus clientes que incluyen el ingreso anual y la puntuación de gasto, pero no tiene una comprensión clara de cómo se distribuyen estos clientes en términos de hábitos de compra y poder adquisitivo. El equipo de marketing necesita una forma de categorizar a los clientes de manera eficiente para poder enfocar sus esfuerzos y recursos en campaña destinada en otorgar una tarjeta departamental a los grupos de mayor valía.\n",
    "\n",
    "Las características extraídas de cada cliente son:\n",
    "\n",
    "1. **Ingreso Anual (Annual Income)**: El ingreso anual del cliente en miles de dólares. Esta métrica es un indicador clave del poder adquisitivo de un cliente y puede correlacionarse con su potencial de gasto.\n",
    "\n",
    "2. **Puntuación de Gasto (Spending Score)**: Una puntuación asignada por el centro comercial basada en el comportamiento de compra del cliente y la frecuencia de sus visitas. Los valores altos indican clientes que compran con más frecuencia y/o gastan más dinero.\n",
    "\n",
    "Con estos datos, se aplicará un método de agrupamiento no supervisado, para identificar estructuras naturales en el conjunto de datos y clasificar a los clientes en segmentos distintos. Estos segmentos permitirán al equipo de marketing del centro comercial diseñar ofertas personalizadas, optimizar la disposición de las tiendas y mejorar la asignación de recursos para campañas publicitarias. Además, el conocimiento detallado de los segmentos de clientes ayudará a predecir tendencias de mercado y a planificar estratégicamente las expansiones o renovaciones del centro comercial."
   ]
  },
  {
   "cell_type": "code",
   "execution_count": 4,
   "metadata": {},
   "outputs": [],
   "source": [
    "# Carga del conjunto de datos\n",
    "df = pd.read_csv('../data/Mall_Customers.csv')"
   ]
  },
  {
   "cell_type": "code",
   "execution_count": 5,
   "metadata": {},
   "outputs": [
    {
     "data": {
      "text/html": [
       "<div>\n",
       "<style scoped>\n",
       "    .dataframe tbody tr th:only-of-type {\n",
       "        vertical-align: middle;\n",
       "    }\n",
       "\n",
       "    .dataframe tbody tr th {\n",
       "        vertical-align: top;\n",
       "    }\n",
       "\n",
       "    .dataframe thead th {\n",
       "        text-align: right;\n",
       "    }\n",
       "</style>\n",
       "<table border=\"1\" class=\"dataframe\">\n",
       "  <thead>\n",
       "    <tr style=\"text-align: right;\">\n",
       "      <th></th>\n",
       "      <th>CustomerID</th>\n",
       "      <th>Age</th>\n",
       "      <th>Annual Income (k$)</th>\n",
       "      <th>Spending Score (1-100)</th>\n",
       "    </tr>\n",
       "  </thead>\n",
       "  <tbody>\n",
       "    <tr>\n",
       "      <th>count</th>\n",
       "      <td>200.000000</td>\n",
       "      <td>200.000000</td>\n",
       "      <td>200.000000</td>\n",
       "      <td>200.000000</td>\n",
       "    </tr>\n",
       "    <tr>\n",
       "      <th>mean</th>\n",
       "      <td>100.500000</td>\n",
       "      <td>38.850000</td>\n",
       "      <td>60.560000</td>\n",
       "      <td>50.200000</td>\n",
       "    </tr>\n",
       "    <tr>\n",
       "      <th>std</th>\n",
       "      <td>57.879185</td>\n",
       "      <td>13.969007</td>\n",
       "      <td>26.264721</td>\n",
       "      <td>25.823522</td>\n",
       "    </tr>\n",
       "    <tr>\n",
       "      <th>min</th>\n",
       "      <td>1.000000</td>\n",
       "      <td>18.000000</td>\n",
       "      <td>15.000000</td>\n",
       "      <td>1.000000</td>\n",
       "    </tr>\n",
       "    <tr>\n",
       "      <th>25%</th>\n",
       "      <td>50.750000</td>\n",
       "      <td>28.750000</td>\n",
       "      <td>41.500000</td>\n",
       "      <td>34.750000</td>\n",
       "    </tr>\n",
       "    <tr>\n",
       "      <th>50%</th>\n",
       "      <td>100.500000</td>\n",
       "      <td>36.000000</td>\n",
       "      <td>61.500000</td>\n",
       "      <td>50.000000</td>\n",
       "    </tr>\n",
       "    <tr>\n",
       "      <th>75%</th>\n",
       "      <td>150.250000</td>\n",
       "      <td>49.000000</td>\n",
       "      <td>78.000000</td>\n",
       "      <td>73.000000</td>\n",
       "    </tr>\n",
       "    <tr>\n",
       "      <th>max</th>\n",
       "      <td>200.000000</td>\n",
       "      <td>70.000000</td>\n",
       "      <td>137.000000</td>\n",
       "      <td>99.000000</td>\n",
       "    </tr>\n",
       "  </tbody>\n",
       "</table>\n",
       "</div>"
      ],
      "text/plain": [
       "       CustomerID         Age  Annual Income (k$)  Spending Score (1-100)\n",
       "count  200.000000  200.000000          200.000000              200.000000\n",
       "mean   100.500000   38.850000           60.560000               50.200000\n",
       "std     57.879185   13.969007           26.264721               25.823522\n",
       "min      1.000000   18.000000           15.000000                1.000000\n",
       "25%     50.750000   28.750000           41.500000               34.750000\n",
       "50%    100.500000   36.000000           61.500000               50.000000\n",
       "75%    150.250000   49.000000           78.000000               73.000000\n",
       "max    200.000000   70.000000          137.000000               99.000000"
      ]
     },
     "execution_count": 5,
     "metadata": {},
     "output_type": "execute_result"
    }
   ],
   "source": [
    "df.describe()"
   ]
  },
  {
   "cell_type": "markdown",
   "metadata": {},
   "source": [
    "Ya que no existe una influencia de escala entre las dos características no utilizaremos un método de escalamiento."
   ]
  },
  {
   "cell_type": "code",
   "execution_count": 6,
   "metadata": {},
   "outputs": [
    {
     "data": {
      "application/vnd.plotly.v1+json": {
       "config": {
        "plotlyServerURL": "https://plot.ly"
       },
       "data": [
        {
         "hovertemplate": "Ingreso Anual (k$)=%{x}<br>Puntuación de Gasto (1-100)=%{y}<extra></extra>",
         "legendgroup": "",
         "marker": {
          "color": "#636efa",
          "symbol": "circle"
         },
         "mode": "markers",
         "name": "",
         "orientation": "v",
         "showlegend": false,
         "type": "scatter",
         "x": {
          "bdata": "DwAPABAAEAARABEAEgASABMAEwATABMAFAAUABQAFAAVABUAFwAXABgAGAAZABkAHAAcABwAHAAdAB0AHgAeACEAIQAhACEAIgAiACUAJQAmACYAJwAnACcAJwAoACgAKAAoACoAKgArACsAKwArACwALAAuAC4ALgAuAC8ALwAwADAAMAAwADAAMAAxADEAMgAyADYANgA2ADYANgA2ADYANgA2ADYANgA2ADkAOQA6ADoAOwA7ADwAPAA8ADwAPAA8AD0APQA+AD4APgA+AD4APgA/AD8APwA/AD8APwBAAEAAQQBBAEEAQQBDAEMAQwBDAEUARQBGAEYARwBHAEcARwBHAEcASABIAEkASQBJAEkASgBKAEsASwBMAEwATQBNAE0ATQBOAE4ATgBOAE4ATgBOAE4ATgBOAE4ATgBPAE8AUQBRAFUAVQBWAFYAVwBXAFcAVwBXAFcAWABYAFgAWABdAF0AYQBhAGIAYgBjAGMAZQBlAGcAZwBnAGcAcQBxAHgAeAB+AH4AiQCJAA==",
          "dtype": "i2"
         },
         "xaxis": "x",
         "y": {
          "bdata": "J1EGTShMBl4DSA5jD00NTyNCHWIjSQVJDlIgPR9XBEkEXA5REUkaSyNcJD0cQTcvKio0PDY8LSkyLjMuODc0OzM7MjA7LzcqMTgvNjUwNCozNyksOS46NzwuNykxKCo0LzIqMSkwOzc4KjIuKzA0NiouMDIrOys5OCg6Wx1NI18LSwlLIkcFWAdJCkgFXShXDGEkShZaEVgUTBBZAU4BSSNTBV0aSxRfGz8NSwpcDVYPRQ5aIFYPWCdhGEQRVRdFCFsQTxxKElM=",
          "dtype": "i1"
         },
         "yaxis": "y"
        }
       ],
       "layout": {
        "height": 500,
        "legend": {
         "tracegroupgap": 0
        },
        "template": {
         "data": {
          "bar": [
           {
            "error_x": {
             "color": "#2a3f5f"
            },
            "error_y": {
             "color": "#2a3f5f"
            },
            "marker": {
             "line": {
              "color": "#E5ECF6",
              "width": 0.5
             },
             "pattern": {
              "fillmode": "overlay",
              "size": 10,
              "solidity": 0.2
             }
            },
            "type": "bar"
           }
          ],
          "barpolar": [
           {
            "marker": {
             "line": {
              "color": "#E5ECF6",
              "width": 0.5
             },
             "pattern": {
              "fillmode": "overlay",
              "size": 10,
              "solidity": 0.2
             }
            },
            "type": "barpolar"
           }
          ],
          "carpet": [
           {
            "aaxis": {
             "endlinecolor": "#2a3f5f",
             "gridcolor": "white",
             "linecolor": "white",
             "minorgridcolor": "white",
             "startlinecolor": "#2a3f5f"
            },
            "baxis": {
             "endlinecolor": "#2a3f5f",
             "gridcolor": "white",
             "linecolor": "white",
             "minorgridcolor": "white",
             "startlinecolor": "#2a3f5f"
            },
            "type": "carpet"
           }
          ],
          "choropleth": [
           {
            "colorbar": {
             "outlinewidth": 0,
             "ticks": ""
            },
            "type": "choropleth"
           }
          ],
          "contour": [
           {
            "colorbar": {
             "outlinewidth": 0,
             "ticks": ""
            },
            "colorscale": [
             [
              0,
              "#0d0887"
             ],
             [
              0.1111111111111111,
              "#46039f"
             ],
             [
              0.2222222222222222,
              "#7201a8"
             ],
             [
              0.3333333333333333,
              "#9c179e"
             ],
             [
              0.4444444444444444,
              "#bd3786"
             ],
             [
              0.5555555555555556,
              "#d8576b"
             ],
             [
              0.6666666666666666,
              "#ed7953"
             ],
             [
              0.7777777777777778,
              "#fb9f3a"
             ],
             [
              0.8888888888888888,
              "#fdca26"
             ],
             [
              1,
              "#f0f921"
             ]
            ],
            "type": "contour"
           }
          ],
          "contourcarpet": [
           {
            "colorbar": {
             "outlinewidth": 0,
             "ticks": ""
            },
            "type": "contourcarpet"
           }
          ],
          "heatmap": [
           {
            "colorbar": {
             "outlinewidth": 0,
             "ticks": ""
            },
            "colorscale": [
             [
              0,
              "#0d0887"
             ],
             [
              0.1111111111111111,
              "#46039f"
             ],
             [
              0.2222222222222222,
              "#7201a8"
             ],
             [
              0.3333333333333333,
              "#9c179e"
             ],
             [
              0.4444444444444444,
              "#bd3786"
             ],
             [
              0.5555555555555556,
              "#d8576b"
             ],
             [
              0.6666666666666666,
              "#ed7953"
             ],
             [
              0.7777777777777778,
              "#fb9f3a"
             ],
             [
              0.8888888888888888,
              "#fdca26"
             ],
             [
              1,
              "#f0f921"
             ]
            ],
            "type": "heatmap"
           }
          ],
          "histogram": [
           {
            "marker": {
             "pattern": {
              "fillmode": "overlay",
              "size": 10,
              "solidity": 0.2
             }
            },
            "type": "histogram"
           }
          ],
          "histogram2d": [
           {
            "colorbar": {
             "outlinewidth": 0,
             "ticks": ""
            },
            "colorscale": [
             [
              0,
              "#0d0887"
             ],
             [
              0.1111111111111111,
              "#46039f"
             ],
             [
              0.2222222222222222,
              "#7201a8"
             ],
             [
              0.3333333333333333,
              "#9c179e"
             ],
             [
              0.4444444444444444,
              "#bd3786"
             ],
             [
              0.5555555555555556,
              "#d8576b"
             ],
             [
              0.6666666666666666,
              "#ed7953"
             ],
             [
              0.7777777777777778,
              "#fb9f3a"
             ],
             [
              0.8888888888888888,
              "#fdca26"
             ],
             [
              1,
              "#f0f921"
             ]
            ],
            "type": "histogram2d"
           }
          ],
          "histogram2dcontour": [
           {
            "colorbar": {
             "outlinewidth": 0,
             "ticks": ""
            },
            "colorscale": [
             [
              0,
              "#0d0887"
             ],
             [
              0.1111111111111111,
              "#46039f"
             ],
             [
              0.2222222222222222,
              "#7201a8"
             ],
             [
              0.3333333333333333,
              "#9c179e"
             ],
             [
              0.4444444444444444,
              "#bd3786"
             ],
             [
              0.5555555555555556,
              "#d8576b"
             ],
             [
              0.6666666666666666,
              "#ed7953"
             ],
             [
              0.7777777777777778,
              "#fb9f3a"
             ],
             [
              0.8888888888888888,
              "#fdca26"
             ],
             [
              1,
              "#f0f921"
             ]
            ],
            "type": "histogram2dcontour"
           }
          ],
          "mesh3d": [
           {
            "colorbar": {
             "outlinewidth": 0,
             "ticks": ""
            },
            "type": "mesh3d"
           }
          ],
          "parcoords": [
           {
            "line": {
             "colorbar": {
              "outlinewidth": 0,
              "ticks": ""
             }
            },
            "type": "parcoords"
           }
          ],
          "pie": [
           {
            "automargin": true,
            "type": "pie"
           }
          ],
          "scatter": [
           {
            "fillpattern": {
             "fillmode": "overlay",
             "size": 10,
             "solidity": 0.2
            },
            "type": "scatter"
           }
          ],
          "scatter3d": [
           {
            "line": {
             "colorbar": {
              "outlinewidth": 0,
              "ticks": ""
             }
            },
            "marker": {
             "colorbar": {
              "outlinewidth": 0,
              "ticks": ""
             }
            },
            "type": "scatter3d"
           }
          ],
          "scattercarpet": [
           {
            "marker": {
             "colorbar": {
              "outlinewidth": 0,
              "ticks": ""
             }
            },
            "type": "scattercarpet"
           }
          ],
          "scattergeo": [
           {
            "marker": {
             "colorbar": {
              "outlinewidth": 0,
              "ticks": ""
             }
            },
            "type": "scattergeo"
           }
          ],
          "scattergl": [
           {
            "marker": {
             "colorbar": {
              "outlinewidth": 0,
              "ticks": ""
             }
            },
            "type": "scattergl"
           }
          ],
          "scattermap": [
           {
            "marker": {
             "colorbar": {
              "outlinewidth": 0,
              "ticks": ""
             }
            },
            "type": "scattermap"
           }
          ],
          "scattermapbox": [
           {
            "marker": {
             "colorbar": {
              "outlinewidth": 0,
              "ticks": ""
             }
            },
            "type": "scattermapbox"
           }
          ],
          "scatterpolar": [
           {
            "marker": {
             "colorbar": {
              "outlinewidth": 0,
              "ticks": ""
             }
            },
            "type": "scatterpolar"
           }
          ],
          "scatterpolargl": [
           {
            "marker": {
             "colorbar": {
              "outlinewidth": 0,
              "ticks": ""
             }
            },
            "type": "scatterpolargl"
           }
          ],
          "scatterternary": [
           {
            "marker": {
             "colorbar": {
              "outlinewidth": 0,
              "ticks": ""
             }
            },
            "type": "scatterternary"
           }
          ],
          "surface": [
           {
            "colorbar": {
             "outlinewidth": 0,
             "ticks": ""
            },
            "colorscale": [
             [
              0,
              "#0d0887"
             ],
             [
              0.1111111111111111,
              "#46039f"
             ],
             [
              0.2222222222222222,
              "#7201a8"
             ],
             [
              0.3333333333333333,
              "#9c179e"
             ],
             [
              0.4444444444444444,
              "#bd3786"
             ],
             [
              0.5555555555555556,
              "#d8576b"
             ],
             [
              0.6666666666666666,
              "#ed7953"
             ],
             [
              0.7777777777777778,
              "#fb9f3a"
             ],
             [
              0.8888888888888888,
              "#fdca26"
             ],
             [
              1,
              "#f0f921"
             ]
            ],
            "type": "surface"
           }
          ],
          "table": [
           {
            "cells": {
             "fill": {
              "color": "#EBF0F8"
             },
             "line": {
              "color": "white"
             }
            },
            "header": {
             "fill": {
              "color": "#C8D4E3"
             },
             "line": {
              "color": "white"
             }
            },
            "type": "table"
           }
          ]
         },
         "layout": {
          "annotationdefaults": {
           "arrowcolor": "#2a3f5f",
           "arrowhead": 0,
           "arrowwidth": 1
          },
          "autotypenumbers": "strict",
          "coloraxis": {
           "colorbar": {
            "outlinewidth": 0,
            "ticks": ""
           }
          },
          "colorscale": {
           "diverging": [
            [
             0,
             "#8e0152"
            ],
            [
             0.1,
             "#c51b7d"
            ],
            [
             0.2,
             "#de77ae"
            ],
            [
             0.3,
             "#f1b6da"
            ],
            [
             0.4,
             "#fde0ef"
            ],
            [
             0.5,
             "#f7f7f7"
            ],
            [
             0.6,
             "#e6f5d0"
            ],
            [
             0.7,
             "#b8e186"
            ],
            [
             0.8,
             "#7fbc41"
            ],
            [
             0.9,
             "#4d9221"
            ],
            [
             1,
             "#276419"
            ]
           ],
           "sequential": [
            [
             0,
             "#0d0887"
            ],
            [
             0.1111111111111111,
             "#46039f"
            ],
            [
             0.2222222222222222,
             "#7201a8"
            ],
            [
             0.3333333333333333,
             "#9c179e"
            ],
            [
             0.4444444444444444,
             "#bd3786"
            ],
            [
             0.5555555555555556,
             "#d8576b"
            ],
            [
             0.6666666666666666,
             "#ed7953"
            ],
            [
             0.7777777777777778,
             "#fb9f3a"
            ],
            [
             0.8888888888888888,
             "#fdca26"
            ],
            [
             1,
             "#f0f921"
            ]
           ],
           "sequentialminus": [
            [
             0,
             "#0d0887"
            ],
            [
             0.1111111111111111,
             "#46039f"
            ],
            [
             0.2222222222222222,
             "#7201a8"
            ],
            [
             0.3333333333333333,
             "#9c179e"
            ],
            [
             0.4444444444444444,
             "#bd3786"
            ],
            [
             0.5555555555555556,
             "#d8576b"
            ],
            [
             0.6666666666666666,
             "#ed7953"
            ],
            [
             0.7777777777777778,
             "#fb9f3a"
            ],
            [
             0.8888888888888888,
             "#fdca26"
            ],
            [
             1,
             "#f0f921"
            ]
           ]
          },
          "colorway": [
           "#636efa",
           "#EF553B",
           "#00cc96",
           "#ab63fa",
           "#FFA15A",
           "#19d3f3",
           "#FF6692",
           "#B6E880",
           "#FF97FF",
           "#FECB52"
          ],
          "font": {
           "color": "#2a3f5f"
          },
          "geo": {
           "bgcolor": "white",
           "lakecolor": "white",
           "landcolor": "#E5ECF6",
           "showlakes": true,
           "showland": true,
           "subunitcolor": "white"
          },
          "hoverlabel": {
           "align": "left"
          },
          "hovermode": "closest",
          "mapbox": {
           "style": "light"
          },
          "paper_bgcolor": "white",
          "plot_bgcolor": "#E5ECF6",
          "polar": {
           "angularaxis": {
            "gridcolor": "white",
            "linecolor": "white",
            "ticks": ""
           },
           "bgcolor": "#E5ECF6",
           "radialaxis": {
            "gridcolor": "white",
            "linecolor": "white",
            "ticks": ""
           }
          },
          "scene": {
           "xaxis": {
            "backgroundcolor": "#E5ECF6",
            "gridcolor": "white",
            "gridwidth": 2,
            "linecolor": "white",
            "showbackground": true,
            "ticks": "",
            "zerolinecolor": "white"
           },
           "yaxis": {
            "backgroundcolor": "#E5ECF6",
            "gridcolor": "white",
            "gridwidth": 2,
            "linecolor": "white",
            "showbackground": true,
            "ticks": "",
            "zerolinecolor": "white"
           },
           "zaxis": {
            "backgroundcolor": "#E5ECF6",
            "gridcolor": "white",
            "gridwidth": 2,
            "linecolor": "white",
            "showbackground": true,
            "ticks": "",
            "zerolinecolor": "white"
           }
          },
          "shapedefaults": {
           "line": {
            "color": "#2a3f5f"
           }
          },
          "ternary": {
           "aaxis": {
            "gridcolor": "white",
            "linecolor": "white",
            "ticks": ""
           },
           "baxis": {
            "gridcolor": "white",
            "linecolor": "white",
            "ticks": ""
           },
           "bgcolor": "#E5ECF6",
           "caxis": {
            "gridcolor": "white",
            "linecolor": "white",
            "ticks": ""
           }
          },
          "title": {
           "x": 0.05
          },
          "xaxis": {
           "automargin": true,
           "gridcolor": "white",
           "linecolor": "white",
           "ticks": "",
           "title": {
            "standoff": 15
           },
           "zerolinecolor": "white",
           "zerolinewidth": 2
          },
          "yaxis": {
           "automargin": true,
           "gridcolor": "white",
           "linecolor": "white",
           "ticks": "",
           "title": {
            "standoff": 15
           },
           "zerolinecolor": "white",
           "zerolinewidth": 2
          }
         }
        },
        "title": {
         "text": "Ingreso Anual vs. Puntuación de Gasto"
        },
        "width": 800,
        "xaxis": {
         "anchor": "y",
         "domain": [
          0,
          1
         ],
         "title": {
          "text": "Ingreso Anual (k$)"
         }
        },
        "yaxis": {
         "anchor": "x",
         "domain": [
          0,
          1
         ],
         "title": {
          "text": "Puntuación de Gasto (1-100)"
         }
        }
       }
      }
     },
     "metadata": {},
     "output_type": "display_data"
    }
   ],
   "source": [
    "fig = px.scatter(df, x='Annual Income (k$)', y='Spending Score (1-100)', \n",
    "               title='Ingreso Anual vs. Puntuación de Gasto',\n",
    "               labels={'Annual Income (k$)': 'Ingreso Anual (k$)', 'Spending Score (1-100)': 'Puntuación de Gasto (1-100)'},\n",
    "               width=800, height=500)\n",
    "\n",
    "fig.show()"
   ]
  },
  {
   "cell_type": "code",
   "execution_count": 7,
   "metadata": {},
   "outputs": [
    {
     "data": {
      "application/vnd.plotly.v1+json": {
       "config": {
        "plotlyServerURL": "https://plot.ly"
       },
       "data": [
        {
         "hovertemplate": "Age Group=18-30<br>Ingreso Anual (k$)=%{x}<br>Puntuación de Gasto (1-100)=%{y}<extra></extra>",
         "legendgroup": "18-30",
         "marker": {
          "color": "rgb(228,26,28)",
          "symbol": "circle"
         },
         "mode": "markers",
         "name": "18-30",
         "orientation": "v",
         "showlegend": true,
         "type": "scatter",
         "x": {
          "bdata": "Dw8QEBESFBQVGBwdHiEhJSYnKCguLjAwNjY2OTs8PD0+Pj4/QEFBQ0ZISUlKTE1NTk9RV1hiZQ==",
          "dtype": "i1"
         },
         "xaxis": "x",
         "y": {
          "bdata": "J1EGTUxeTU9CSVJXSVxRS1xBLyozNzs7NjQ5Nyk0MjEpNyo2LjAyOB0iBVgKKAxhWVMFS0VYRA==",
          "dtype": "i1"
         },
         "yaxis": "y"
        },
        {
         "hovertemplate": "Age Group=31-40<br>Ingreso Anual (k$)=%{x}<br>Puntuación de Gasto (1-100)=%{y}<extra></extra>",
         "legendgroup": "31-40",
         "marker": {
          "color": "rgb(55,126,184)",
          "symbol": "circle"
         },
         "mode": "markers",
         "name": "31-40",
         "orientation": "v",
         "showlegend": true,
         "type": "scatter",
         "x": {
          "bdata": "EQASABMAEwAUABUAFwAYABkAHAAiACUAJwAoACoAKwAwADYAOgA8AEAAQwBFAEYARwBHAEgASQBKAEsATABNAE4ATgBOAE4ATgBOAE4ATgBRAFUAVgBXAFcAVwBXAFgAXQBhAGEAYwBnAGcAZwBxAHEAeAB+AIkAiQA=",
          "dtype": "i2"
         },
         "xaxis": "x",
         "y": {
          "bdata": "KAZIYw0jYiNJPUkaPSo8Ni83PCoqKFtNS0tHSUhdV0oWWlhMAU4BSV1LXxs/ClxWWiBWYVUXRQhbT0oSUw==",
          "dtype": "i1"
         },
         "yaxis": "y"
        },
        {
         "hovertemplate": "Age Group=50-80<br>Ingreso Anual (k$)=%{x}<br>Puntuación de Gasto (1-100)=%{y}<extra></extra>",
         "legendgroup": "50-80",
         "marker": {
          "color": "rgb(77,175,74)",
          "symbol": "circle"
         },
         "mode": "markers",
         "name": "50-80",
         "orientation": "v",
         "showlegend": true,
         "type": "scatter",
         "x": {
          "bdata": "ExMUFxweISYoKyssLC4uLy8wMDEyMjY2Njk6Oz4/Pz8/P0FDQ0dLT1VYWF1l",
          "dtype": "i1"
         },
         "xaxis": "x",
         "y": {
          "bdata": "Aw4PHQ4EBCM3PC0yLi44NDszMDcxOC8zKTouNzsyLiswNCsrOQsFIxoNDw4Y",
          "dtype": "i1"
         },
         "yaxis": "y"
        },
        {
         "hovertemplate": "Age Group=41-50<br>Ingreso Anual (k$)=%{x}<br>Puntuación de Gasto (1-100)=%{y}<extra></extra>",
         "legendgroup": "41-50",
         "marker": {
          "color": "rgb(152,78,163)",
          "symbol": "circle"
         },
         "mode": "markers",
         "name": "41-50",
         "orientation": "v",
         "showlegend": true,
         "type": "scatter",
         "x": {
          "bdata": "GRwdISInJyorMDE2NjY2Njw8PD0+PkFFR0dHSU1OTk5WV2JjZ3h+",
          "dtype": "i1"
         },
         "xaxis": "x",
         "y": {
          "bdata": "BSAfDhEkHDQpMio1MCosLjEoLyowODs6I18JByQRFBAUDQ8nERAc",
          "dtype": "i1"
         },
         "yaxis": "y"
        }
       ],
       "layout": {
        "height": 500,
        "legend": {
         "title": {
          "text": "Age Group"
         },
         "tracegroupgap": 0
        },
        "template": {
         "data": {
          "bar": [
           {
            "error_x": {
             "color": "#2a3f5f"
            },
            "error_y": {
             "color": "#2a3f5f"
            },
            "marker": {
             "line": {
              "color": "#E5ECF6",
              "width": 0.5
             },
             "pattern": {
              "fillmode": "overlay",
              "size": 10,
              "solidity": 0.2
             }
            },
            "type": "bar"
           }
          ],
          "barpolar": [
           {
            "marker": {
             "line": {
              "color": "#E5ECF6",
              "width": 0.5
             },
             "pattern": {
              "fillmode": "overlay",
              "size": 10,
              "solidity": 0.2
             }
            },
            "type": "barpolar"
           }
          ],
          "carpet": [
           {
            "aaxis": {
             "endlinecolor": "#2a3f5f",
             "gridcolor": "white",
             "linecolor": "white",
             "minorgridcolor": "white",
             "startlinecolor": "#2a3f5f"
            },
            "baxis": {
             "endlinecolor": "#2a3f5f",
             "gridcolor": "white",
             "linecolor": "white",
             "minorgridcolor": "white",
             "startlinecolor": "#2a3f5f"
            },
            "type": "carpet"
           }
          ],
          "choropleth": [
           {
            "colorbar": {
             "outlinewidth": 0,
             "ticks": ""
            },
            "type": "choropleth"
           }
          ],
          "contour": [
           {
            "colorbar": {
             "outlinewidth": 0,
             "ticks": ""
            },
            "colorscale": [
             [
              0,
              "#0d0887"
             ],
             [
              0.1111111111111111,
              "#46039f"
             ],
             [
              0.2222222222222222,
              "#7201a8"
             ],
             [
              0.3333333333333333,
              "#9c179e"
             ],
             [
              0.4444444444444444,
              "#bd3786"
             ],
             [
              0.5555555555555556,
              "#d8576b"
             ],
             [
              0.6666666666666666,
              "#ed7953"
             ],
             [
              0.7777777777777778,
              "#fb9f3a"
             ],
             [
              0.8888888888888888,
              "#fdca26"
             ],
             [
              1,
              "#f0f921"
             ]
            ],
            "type": "contour"
           }
          ],
          "contourcarpet": [
           {
            "colorbar": {
             "outlinewidth": 0,
             "ticks": ""
            },
            "type": "contourcarpet"
           }
          ],
          "heatmap": [
           {
            "colorbar": {
             "outlinewidth": 0,
             "ticks": ""
            },
            "colorscale": [
             [
              0,
              "#0d0887"
             ],
             [
              0.1111111111111111,
              "#46039f"
             ],
             [
              0.2222222222222222,
              "#7201a8"
             ],
             [
              0.3333333333333333,
              "#9c179e"
             ],
             [
              0.4444444444444444,
              "#bd3786"
             ],
             [
              0.5555555555555556,
              "#d8576b"
             ],
             [
              0.6666666666666666,
              "#ed7953"
             ],
             [
              0.7777777777777778,
              "#fb9f3a"
             ],
             [
              0.8888888888888888,
              "#fdca26"
             ],
             [
              1,
              "#f0f921"
             ]
            ],
            "type": "heatmap"
           }
          ],
          "histogram": [
           {
            "marker": {
             "pattern": {
              "fillmode": "overlay",
              "size": 10,
              "solidity": 0.2
             }
            },
            "type": "histogram"
           }
          ],
          "histogram2d": [
           {
            "colorbar": {
             "outlinewidth": 0,
             "ticks": ""
            },
            "colorscale": [
             [
              0,
              "#0d0887"
             ],
             [
              0.1111111111111111,
              "#46039f"
             ],
             [
              0.2222222222222222,
              "#7201a8"
             ],
             [
              0.3333333333333333,
              "#9c179e"
             ],
             [
              0.4444444444444444,
              "#bd3786"
             ],
             [
              0.5555555555555556,
              "#d8576b"
             ],
             [
              0.6666666666666666,
              "#ed7953"
             ],
             [
              0.7777777777777778,
              "#fb9f3a"
             ],
             [
              0.8888888888888888,
              "#fdca26"
             ],
             [
              1,
              "#f0f921"
             ]
            ],
            "type": "histogram2d"
           }
          ],
          "histogram2dcontour": [
           {
            "colorbar": {
             "outlinewidth": 0,
             "ticks": ""
            },
            "colorscale": [
             [
              0,
              "#0d0887"
             ],
             [
              0.1111111111111111,
              "#46039f"
             ],
             [
              0.2222222222222222,
              "#7201a8"
             ],
             [
              0.3333333333333333,
              "#9c179e"
             ],
             [
              0.4444444444444444,
              "#bd3786"
             ],
             [
              0.5555555555555556,
              "#d8576b"
             ],
             [
              0.6666666666666666,
              "#ed7953"
             ],
             [
              0.7777777777777778,
              "#fb9f3a"
             ],
             [
              0.8888888888888888,
              "#fdca26"
             ],
             [
              1,
              "#f0f921"
             ]
            ],
            "type": "histogram2dcontour"
           }
          ],
          "mesh3d": [
           {
            "colorbar": {
             "outlinewidth": 0,
             "ticks": ""
            },
            "type": "mesh3d"
           }
          ],
          "parcoords": [
           {
            "line": {
             "colorbar": {
              "outlinewidth": 0,
              "ticks": ""
             }
            },
            "type": "parcoords"
           }
          ],
          "pie": [
           {
            "automargin": true,
            "type": "pie"
           }
          ],
          "scatter": [
           {
            "fillpattern": {
             "fillmode": "overlay",
             "size": 10,
             "solidity": 0.2
            },
            "type": "scatter"
           }
          ],
          "scatter3d": [
           {
            "line": {
             "colorbar": {
              "outlinewidth": 0,
              "ticks": ""
             }
            },
            "marker": {
             "colorbar": {
              "outlinewidth": 0,
              "ticks": ""
             }
            },
            "type": "scatter3d"
           }
          ],
          "scattercarpet": [
           {
            "marker": {
             "colorbar": {
              "outlinewidth": 0,
              "ticks": ""
             }
            },
            "type": "scattercarpet"
           }
          ],
          "scattergeo": [
           {
            "marker": {
             "colorbar": {
              "outlinewidth": 0,
              "ticks": ""
             }
            },
            "type": "scattergeo"
           }
          ],
          "scattergl": [
           {
            "marker": {
             "colorbar": {
              "outlinewidth": 0,
              "ticks": ""
             }
            },
            "type": "scattergl"
           }
          ],
          "scattermap": [
           {
            "marker": {
             "colorbar": {
              "outlinewidth": 0,
              "ticks": ""
             }
            },
            "type": "scattermap"
           }
          ],
          "scattermapbox": [
           {
            "marker": {
             "colorbar": {
              "outlinewidth": 0,
              "ticks": ""
             }
            },
            "type": "scattermapbox"
           }
          ],
          "scatterpolar": [
           {
            "marker": {
             "colorbar": {
              "outlinewidth": 0,
              "ticks": ""
             }
            },
            "type": "scatterpolar"
           }
          ],
          "scatterpolargl": [
           {
            "marker": {
             "colorbar": {
              "outlinewidth": 0,
              "ticks": ""
             }
            },
            "type": "scatterpolargl"
           }
          ],
          "scatterternary": [
           {
            "marker": {
             "colorbar": {
              "outlinewidth": 0,
              "ticks": ""
             }
            },
            "type": "scatterternary"
           }
          ],
          "surface": [
           {
            "colorbar": {
             "outlinewidth": 0,
             "ticks": ""
            },
            "colorscale": [
             [
              0,
              "#0d0887"
             ],
             [
              0.1111111111111111,
              "#46039f"
             ],
             [
              0.2222222222222222,
              "#7201a8"
             ],
             [
              0.3333333333333333,
              "#9c179e"
             ],
             [
              0.4444444444444444,
              "#bd3786"
             ],
             [
              0.5555555555555556,
              "#d8576b"
             ],
             [
              0.6666666666666666,
              "#ed7953"
             ],
             [
              0.7777777777777778,
              "#fb9f3a"
             ],
             [
              0.8888888888888888,
              "#fdca26"
             ],
             [
              1,
              "#f0f921"
             ]
            ],
            "type": "surface"
           }
          ],
          "table": [
           {
            "cells": {
             "fill": {
              "color": "#EBF0F8"
             },
             "line": {
              "color": "white"
             }
            },
            "header": {
             "fill": {
              "color": "#C8D4E3"
             },
             "line": {
              "color": "white"
             }
            },
            "type": "table"
           }
          ]
         },
         "layout": {
          "annotationdefaults": {
           "arrowcolor": "#2a3f5f",
           "arrowhead": 0,
           "arrowwidth": 1
          },
          "autotypenumbers": "strict",
          "coloraxis": {
           "colorbar": {
            "outlinewidth": 0,
            "ticks": ""
           }
          },
          "colorscale": {
           "diverging": [
            [
             0,
             "#8e0152"
            ],
            [
             0.1,
             "#c51b7d"
            ],
            [
             0.2,
             "#de77ae"
            ],
            [
             0.3,
             "#f1b6da"
            ],
            [
             0.4,
             "#fde0ef"
            ],
            [
             0.5,
             "#f7f7f7"
            ],
            [
             0.6,
             "#e6f5d0"
            ],
            [
             0.7,
             "#b8e186"
            ],
            [
             0.8,
             "#7fbc41"
            ],
            [
             0.9,
             "#4d9221"
            ],
            [
             1,
             "#276419"
            ]
           ],
           "sequential": [
            [
             0,
             "#0d0887"
            ],
            [
             0.1111111111111111,
             "#46039f"
            ],
            [
             0.2222222222222222,
             "#7201a8"
            ],
            [
             0.3333333333333333,
             "#9c179e"
            ],
            [
             0.4444444444444444,
             "#bd3786"
            ],
            [
             0.5555555555555556,
             "#d8576b"
            ],
            [
             0.6666666666666666,
             "#ed7953"
            ],
            [
             0.7777777777777778,
             "#fb9f3a"
            ],
            [
             0.8888888888888888,
             "#fdca26"
            ],
            [
             1,
             "#f0f921"
            ]
           ],
           "sequentialminus": [
            [
             0,
             "#0d0887"
            ],
            [
             0.1111111111111111,
             "#46039f"
            ],
            [
             0.2222222222222222,
             "#7201a8"
            ],
            [
             0.3333333333333333,
             "#9c179e"
            ],
            [
             0.4444444444444444,
             "#bd3786"
            ],
            [
             0.5555555555555556,
             "#d8576b"
            ],
            [
             0.6666666666666666,
             "#ed7953"
            ],
            [
             0.7777777777777778,
             "#fb9f3a"
            ],
            [
             0.8888888888888888,
             "#fdca26"
            ],
            [
             1,
             "#f0f921"
            ]
           ]
          },
          "colorway": [
           "#636efa",
           "#EF553B",
           "#00cc96",
           "#ab63fa",
           "#FFA15A",
           "#19d3f3",
           "#FF6692",
           "#B6E880",
           "#FF97FF",
           "#FECB52"
          ],
          "font": {
           "color": "#2a3f5f"
          },
          "geo": {
           "bgcolor": "white",
           "lakecolor": "white",
           "landcolor": "#E5ECF6",
           "showlakes": true,
           "showland": true,
           "subunitcolor": "white"
          },
          "hoverlabel": {
           "align": "left"
          },
          "hovermode": "closest",
          "mapbox": {
           "style": "light"
          },
          "paper_bgcolor": "white",
          "plot_bgcolor": "#E5ECF6",
          "polar": {
           "angularaxis": {
            "gridcolor": "white",
            "linecolor": "white",
            "ticks": ""
           },
           "bgcolor": "#E5ECF6",
           "radialaxis": {
            "gridcolor": "white",
            "linecolor": "white",
            "ticks": ""
           }
          },
          "scene": {
           "xaxis": {
            "backgroundcolor": "#E5ECF6",
            "gridcolor": "white",
            "gridwidth": 2,
            "linecolor": "white",
            "showbackground": true,
            "ticks": "",
            "zerolinecolor": "white"
           },
           "yaxis": {
            "backgroundcolor": "#E5ECF6",
            "gridcolor": "white",
            "gridwidth": 2,
            "linecolor": "white",
            "showbackground": true,
            "ticks": "",
            "zerolinecolor": "white"
           },
           "zaxis": {
            "backgroundcolor": "#E5ECF6",
            "gridcolor": "white",
            "gridwidth": 2,
            "linecolor": "white",
            "showbackground": true,
            "ticks": "",
            "zerolinecolor": "white"
           }
          },
          "shapedefaults": {
           "line": {
            "color": "#2a3f5f"
           }
          },
          "ternary": {
           "aaxis": {
            "gridcolor": "white",
            "linecolor": "white",
            "ticks": ""
           },
           "baxis": {
            "gridcolor": "white",
            "linecolor": "white",
            "ticks": ""
           },
           "bgcolor": "#E5ECF6",
           "caxis": {
            "gridcolor": "white",
            "linecolor": "white",
            "ticks": ""
           }
          },
          "title": {
           "x": 0.05
          },
          "xaxis": {
           "automargin": true,
           "gridcolor": "white",
           "linecolor": "white",
           "ticks": "",
           "title": {
            "standoff": 15
           },
           "zerolinecolor": "white",
           "zerolinewidth": 2
          },
          "yaxis": {
           "automargin": true,
           "gridcolor": "white",
           "linecolor": "white",
           "ticks": "",
           "title": {
            "standoff": 15
           },
           "zerolinecolor": "white",
           "zerolinewidth": 2
          }
         }
        },
        "title": {
         "text": "Ingreso Anual vs. Puntuación de Gasto por Grupo de Edad"
        },
        "width": 800,
        "xaxis": {
         "anchor": "y",
         "domain": [
          0,
          1
         ],
         "title": {
          "text": "Ingreso Anual (k$)"
         }
        },
        "yaxis": {
         "anchor": "x",
         "domain": [
          0,
          1
         ],
         "title": {
          "text": "Puntuación de Gasto (1-100)"
         }
        }
       }
      }
     },
     "metadata": {},
     "output_type": "display_data"
    }
   ],
   "source": [
    "# Categorizar las edades en grupos\n",
    "df['Age Group'] = pd.cut(df['Age'], bins=[18, 30, 40, 50, 80], labels=['18-30', '31-40', '41-50', '50-80'], right=False)\n",
    "\n",
    "# Scatterplot por grupo de edad\n",
    "fig = px.scatter(df, x='Annual Income (k$)', y='Spending Score (1-100)',\n",
    "                 color='Age Group',\n",
    "                 title='Ingreso Anual vs. Puntuación de Gasto por Grupo de Edad',\n",
    "                 labels={'Annual Income (k$)': 'Ingreso Anual (k$)', 'Spending Score (1-100)': 'Puntuación de Gasto (1-100)'},\n",
    "                 color_discrete_sequence=px.colors.qualitative.Set1,\n",
    "                 width=800, height=500)\n",
    "\n",
    "fig.show()\n"
   ]
  },
  {
   "cell_type": "code",
   "execution_count": 8,
   "metadata": {},
   "outputs": [
    {
     "data": {
      "application/vnd.plotly.v1+json": {
       "config": {
        "plotlyServerURL": "https://plot.ly"
       },
       "data": [
        {
         "hovertemplate": "Genre=Male<br>Ingreso Anual (k$)=%{x}<br>Puntuación de Gasto (1-100)=%{y}<extra></extra>",
         "legendgroup": "Male",
         "marker": {
          "color": "rgb(228,26,28)",
          "symbol": "circle"
         },
         "mode": "markers",
         "name": "Male",
         "orientation": "v",
         "showlegend": true,
         "type": "scatter",
         "x": {
          "bdata": "DwAPABMAEwAUABQAFQAXABgAGAAZABwAHAAeACEAIQAmACcAKgArACsALAAuAC4ALgAwADAAMAAxADYANgA2ADYANgA2ADYAOwA8ADwAPQA9AD4APgA+AD8APwA/AD8AQABDAEUARwBHAEcARwBHAEcASQBJAEoASwBNAE0ATQBOAE4ATgBOAE4AUQBVAFYAVwBXAFcAVwBXAFgAWABdAF0AYgBjAGUAcQB+AIkAiQA=",
          "dtype": "i2"
         },
         "xaxis": "x",
         "y": {
          "bdata": "J1EDDg1PQh0jSUlSPQQEXFwkPDwpLi44NzM7OzcvNjAzNykuKTE0KjE7NzguKzA0LjhbI18LSwlLBUkKXQxhJFoRWAEBBRoUPw1LClwPRQ5aD2FECEoSUw==",
          "dtype": "i1"
         },
         "yaxis": "y"
        },
        {
         "hovertemplate": "Genre=Female<br>Ingreso Anual (k$)=%{x}<br>Puntuación de Gasto (1-100)=%{y}<extra></extra>",
         "legendgroup": "Female",
         "marker": {
          "color": "rgb(55,126,184)",
          "symbol": "circle"
         },
         "mode": "markers",
         "name": "Female",
         "orientation": "v",
         "showlegend": true,
         "type": "scatter",
         "x": {
          "bdata": "EBARERISExMUFBUXGRwcHR0eISEiIiUlJicnJygoKCgqKyssLi8vMDAwMTIyNjY2NjY5OTo6Ozw8PDw+Pj4/P0BBQUFBQ0NDRUZGSEhJSUpLTExNTk5OTk5OTk9PUVVWV1hYYWFiY2VnZ2dncXh4fg==",
          "dtype": "i1"
         },
         "xaxis": "x",
         "y": {
          "bdata": "Bk0oTAZeSGMPTSNiBQ4gH1dJDlERSRpLIz0cQTcvKio0Ni0yMzQ7MjAvKjE4NTQqLDk6NzwuNygqLzIpMCoyNiowMis7KzkoOh1NIkdYB0gFKFdKFhRMEFlOSSNTXUtfGw1WIFZYJxgRVRdFWxBPHA==",
          "dtype": "i1"
         },
         "yaxis": "y"
        }
       ],
       "layout": {
        "height": 500,
        "legend": {
         "title": {
          "text": "Genre"
         },
         "tracegroupgap": 0
        },
        "template": {
         "data": {
          "bar": [
           {
            "error_x": {
             "color": "#2a3f5f"
            },
            "error_y": {
             "color": "#2a3f5f"
            },
            "marker": {
             "line": {
              "color": "#E5ECF6",
              "width": 0.5
             },
             "pattern": {
              "fillmode": "overlay",
              "size": 10,
              "solidity": 0.2
             }
            },
            "type": "bar"
           }
          ],
          "barpolar": [
           {
            "marker": {
             "line": {
              "color": "#E5ECF6",
              "width": 0.5
             },
             "pattern": {
              "fillmode": "overlay",
              "size": 10,
              "solidity": 0.2
             }
            },
            "type": "barpolar"
           }
          ],
          "carpet": [
           {
            "aaxis": {
             "endlinecolor": "#2a3f5f",
             "gridcolor": "white",
             "linecolor": "white",
             "minorgridcolor": "white",
             "startlinecolor": "#2a3f5f"
            },
            "baxis": {
             "endlinecolor": "#2a3f5f",
             "gridcolor": "white",
             "linecolor": "white",
             "minorgridcolor": "white",
             "startlinecolor": "#2a3f5f"
            },
            "type": "carpet"
           }
          ],
          "choropleth": [
           {
            "colorbar": {
             "outlinewidth": 0,
             "ticks": ""
            },
            "type": "choropleth"
           }
          ],
          "contour": [
           {
            "colorbar": {
             "outlinewidth": 0,
             "ticks": ""
            },
            "colorscale": [
             [
              0,
              "#0d0887"
             ],
             [
              0.1111111111111111,
              "#46039f"
             ],
             [
              0.2222222222222222,
              "#7201a8"
             ],
             [
              0.3333333333333333,
              "#9c179e"
             ],
             [
              0.4444444444444444,
              "#bd3786"
             ],
             [
              0.5555555555555556,
              "#d8576b"
             ],
             [
              0.6666666666666666,
              "#ed7953"
             ],
             [
              0.7777777777777778,
              "#fb9f3a"
             ],
             [
              0.8888888888888888,
              "#fdca26"
             ],
             [
              1,
              "#f0f921"
             ]
            ],
            "type": "contour"
           }
          ],
          "contourcarpet": [
           {
            "colorbar": {
             "outlinewidth": 0,
             "ticks": ""
            },
            "type": "contourcarpet"
           }
          ],
          "heatmap": [
           {
            "colorbar": {
             "outlinewidth": 0,
             "ticks": ""
            },
            "colorscale": [
             [
              0,
              "#0d0887"
             ],
             [
              0.1111111111111111,
              "#46039f"
             ],
             [
              0.2222222222222222,
              "#7201a8"
             ],
             [
              0.3333333333333333,
              "#9c179e"
             ],
             [
              0.4444444444444444,
              "#bd3786"
             ],
             [
              0.5555555555555556,
              "#d8576b"
             ],
             [
              0.6666666666666666,
              "#ed7953"
             ],
             [
              0.7777777777777778,
              "#fb9f3a"
             ],
             [
              0.8888888888888888,
              "#fdca26"
             ],
             [
              1,
              "#f0f921"
             ]
            ],
            "type": "heatmap"
           }
          ],
          "histogram": [
           {
            "marker": {
             "pattern": {
              "fillmode": "overlay",
              "size": 10,
              "solidity": 0.2
             }
            },
            "type": "histogram"
           }
          ],
          "histogram2d": [
           {
            "colorbar": {
             "outlinewidth": 0,
             "ticks": ""
            },
            "colorscale": [
             [
              0,
              "#0d0887"
             ],
             [
              0.1111111111111111,
              "#46039f"
             ],
             [
              0.2222222222222222,
              "#7201a8"
             ],
             [
              0.3333333333333333,
              "#9c179e"
             ],
             [
              0.4444444444444444,
              "#bd3786"
             ],
             [
              0.5555555555555556,
              "#d8576b"
             ],
             [
              0.6666666666666666,
              "#ed7953"
             ],
             [
              0.7777777777777778,
              "#fb9f3a"
             ],
             [
              0.8888888888888888,
              "#fdca26"
             ],
             [
              1,
              "#f0f921"
             ]
            ],
            "type": "histogram2d"
           }
          ],
          "histogram2dcontour": [
           {
            "colorbar": {
             "outlinewidth": 0,
             "ticks": ""
            },
            "colorscale": [
             [
              0,
              "#0d0887"
             ],
             [
              0.1111111111111111,
              "#46039f"
             ],
             [
              0.2222222222222222,
              "#7201a8"
             ],
             [
              0.3333333333333333,
              "#9c179e"
             ],
             [
              0.4444444444444444,
              "#bd3786"
             ],
             [
              0.5555555555555556,
              "#d8576b"
             ],
             [
              0.6666666666666666,
              "#ed7953"
             ],
             [
              0.7777777777777778,
              "#fb9f3a"
             ],
             [
              0.8888888888888888,
              "#fdca26"
             ],
             [
              1,
              "#f0f921"
             ]
            ],
            "type": "histogram2dcontour"
           }
          ],
          "mesh3d": [
           {
            "colorbar": {
             "outlinewidth": 0,
             "ticks": ""
            },
            "type": "mesh3d"
           }
          ],
          "parcoords": [
           {
            "line": {
             "colorbar": {
              "outlinewidth": 0,
              "ticks": ""
             }
            },
            "type": "parcoords"
           }
          ],
          "pie": [
           {
            "automargin": true,
            "type": "pie"
           }
          ],
          "scatter": [
           {
            "fillpattern": {
             "fillmode": "overlay",
             "size": 10,
             "solidity": 0.2
            },
            "type": "scatter"
           }
          ],
          "scatter3d": [
           {
            "line": {
             "colorbar": {
              "outlinewidth": 0,
              "ticks": ""
             }
            },
            "marker": {
             "colorbar": {
              "outlinewidth": 0,
              "ticks": ""
             }
            },
            "type": "scatter3d"
           }
          ],
          "scattercarpet": [
           {
            "marker": {
             "colorbar": {
              "outlinewidth": 0,
              "ticks": ""
             }
            },
            "type": "scattercarpet"
           }
          ],
          "scattergeo": [
           {
            "marker": {
             "colorbar": {
              "outlinewidth": 0,
              "ticks": ""
             }
            },
            "type": "scattergeo"
           }
          ],
          "scattergl": [
           {
            "marker": {
             "colorbar": {
              "outlinewidth": 0,
              "ticks": ""
             }
            },
            "type": "scattergl"
           }
          ],
          "scattermap": [
           {
            "marker": {
             "colorbar": {
              "outlinewidth": 0,
              "ticks": ""
             }
            },
            "type": "scattermap"
           }
          ],
          "scattermapbox": [
           {
            "marker": {
             "colorbar": {
              "outlinewidth": 0,
              "ticks": ""
             }
            },
            "type": "scattermapbox"
           }
          ],
          "scatterpolar": [
           {
            "marker": {
             "colorbar": {
              "outlinewidth": 0,
              "ticks": ""
             }
            },
            "type": "scatterpolar"
           }
          ],
          "scatterpolargl": [
           {
            "marker": {
             "colorbar": {
              "outlinewidth": 0,
              "ticks": ""
             }
            },
            "type": "scatterpolargl"
           }
          ],
          "scatterternary": [
           {
            "marker": {
             "colorbar": {
              "outlinewidth": 0,
              "ticks": ""
             }
            },
            "type": "scatterternary"
           }
          ],
          "surface": [
           {
            "colorbar": {
             "outlinewidth": 0,
             "ticks": ""
            },
            "colorscale": [
             [
              0,
              "#0d0887"
             ],
             [
              0.1111111111111111,
              "#46039f"
             ],
             [
              0.2222222222222222,
              "#7201a8"
             ],
             [
              0.3333333333333333,
              "#9c179e"
             ],
             [
              0.4444444444444444,
              "#bd3786"
             ],
             [
              0.5555555555555556,
              "#d8576b"
             ],
             [
              0.6666666666666666,
              "#ed7953"
             ],
             [
              0.7777777777777778,
              "#fb9f3a"
             ],
             [
              0.8888888888888888,
              "#fdca26"
             ],
             [
              1,
              "#f0f921"
             ]
            ],
            "type": "surface"
           }
          ],
          "table": [
           {
            "cells": {
             "fill": {
              "color": "#EBF0F8"
             },
             "line": {
              "color": "white"
             }
            },
            "header": {
             "fill": {
              "color": "#C8D4E3"
             },
             "line": {
              "color": "white"
             }
            },
            "type": "table"
           }
          ]
         },
         "layout": {
          "annotationdefaults": {
           "arrowcolor": "#2a3f5f",
           "arrowhead": 0,
           "arrowwidth": 1
          },
          "autotypenumbers": "strict",
          "coloraxis": {
           "colorbar": {
            "outlinewidth": 0,
            "ticks": ""
           }
          },
          "colorscale": {
           "diverging": [
            [
             0,
             "#8e0152"
            ],
            [
             0.1,
             "#c51b7d"
            ],
            [
             0.2,
             "#de77ae"
            ],
            [
             0.3,
             "#f1b6da"
            ],
            [
             0.4,
             "#fde0ef"
            ],
            [
             0.5,
             "#f7f7f7"
            ],
            [
             0.6,
             "#e6f5d0"
            ],
            [
             0.7,
             "#b8e186"
            ],
            [
             0.8,
             "#7fbc41"
            ],
            [
             0.9,
             "#4d9221"
            ],
            [
             1,
             "#276419"
            ]
           ],
           "sequential": [
            [
             0,
             "#0d0887"
            ],
            [
             0.1111111111111111,
             "#46039f"
            ],
            [
             0.2222222222222222,
             "#7201a8"
            ],
            [
             0.3333333333333333,
             "#9c179e"
            ],
            [
             0.4444444444444444,
             "#bd3786"
            ],
            [
             0.5555555555555556,
             "#d8576b"
            ],
            [
             0.6666666666666666,
             "#ed7953"
            ],
            [
             0.7777777777777778,
             "#fb9f3a"
            ],
            [
             0.8888888888888888,
             "#fdca26"
            ],
            [
             1,
             "#f0f921"
            ]
           ],
           "sequentialminus": [
            [
             0,
             "#0d0887"
            ],
            [
             0.1111111111111111,
             "#46039f"
            ],
            [
             0.2222222222222222,
             "#7201a8"
            ],
            [
             0.3333333333333333,
             "#9c179e"
            ],
            [
             0.4444444444444444,
             "#bd3786"
            ],
            [
             0.5555555555555556,
             "#d8576b"
            ],
            [
             0.6666666666666666,
             "#ed7953"
            ],
            [
             0.7777777777777778,
             "#fb9f3a"
            ],
            [
             0.8888888888888888,
             "#fdca26"
            ],
            [
             1,
             "#f0f921"
            ]
           ]
          },
          "colorway": [
           "#636efa",
           "#EF553B",
           "#00cc96",
           "#ab63fa",
           "#FFA15A",
           "#19d3f3",
           "#FF6692",
           "#B6E880",
           "#FF97FF",
           "#FECB52"
          ],
          "font": {
           "color": "#2a3f5f"
          },
          "geo": {
           "bgcolor": "white",
           "lakecolor": "white",
           "landcolor": "#E5ECF6",
           "showlakes": true,
           "showland": true,
           "subunitcolor": "white"
          },
          "hoverlabel": {
           "align": "left"
          },
          "hovermode": "closest",
          "mapbox": {
           "style": "light"
          },
          "paper_bgcolor": "white",
          "plot_bgcolor": "#E5ECF6",
          "polar": {
           "angularaxis": {
            "gridcolor": "white",
            "linecolor": "white",
            "ticks": ""
           },
           "bgcolor": "#E5ECF6",
           "radialaxis": {
            "gridcolor": "white",
            "linecolor": "white",
            "ticks": ""
           }
          },
          "scene": {
           "xaxis": {
            "backgroundcolor": "#E5ECF6",
            "gridcolor": "white",
            "gridwidth": 2,
            "linecolor": "white",
            "showbackground": true,
            "ticks": "",
            "zerolinecolor": "white"
           },
           "yaxis": {
            "backgroundcolor": "#E5ECF6",
            "gridcolor": "white",
            "gridwidth": 2,
            "linecolor": "white",
            "showbackground": true,
            "ticks": "",
            "zerolinecolor": "white"
           },
           "zaxis": {
            "backgroundcolor": "#E5ECF6",
            "gridcolor": "white",
            "gridwidth": 2,
            "linecolor": "white",
            "showbackground": true,
            "ticks": "",
            "zerolinecolor": "white"
           }
          },
          "shapedefaults": {
           "line": {
            "color": "#2a3f5f"
           }
          },
          "ternary": {
           "aaxis": {
            "gridcolor": "white",
            "linecolor": "white",
            "ticks": ""
           },
           "baxis": {
            "gridcolor": "white",
            "linecolor": "white",
            "ticks": ""
           },
           "bgcolor": "#E5ECF6",
           "caxis": {
            "gridcolor": "white",
            "linecolor": "white",
            "ticks": ""
           }
          },
          "title": {
           "x": 0.05
          },
          "xaxis": {
           "automargin": true,
           "gridcolor": "white",
           "linecolor": "white",
           "ticks": "",
           "title": {
            "standoff": 15
           },
           "zerolinecolor": "white",
           "zerolinewidth": 2
          },
          "yaxis": {
           "automargin": true,
           "gridcolor": "white",
           "linecolor": "white",
           "ticks": "",
           "title": {
            "standoff": 15
           },
           "zerolinecolor": "white",
           "zerolinewidth": 2
          }
         }
        },
        "title": {
         "text": "Ingreso Anual vs. Puntuación de Gasto por Grupo de Genero"
        },
        "width": 800,
        "xaxis": {
         "anchor": "y",
         "domain": [
          0,
          1
         ],
         "title": {
          "text": "Ingreso Anual (k$)"
         }
        },
        "yaxis": {
         "anchor": "x",
         "domain": [
          0,
          1
         ],
         "title": {
          "text": "Puntuación de Gasto (1-100)"
         }
        }
       }
      }
     },
     "metadata": {},
     "output_type": "display_data"
    }
   ],
   "source": [
    "# Scatterplot por grupo de edad\n",
    "fig = px.scatter(df, x='Annual Income (k$)', y='Spending Score (1-100)',\n",
    "                  color='Genre',\n",
    "                  title='Ingreso Anual vs. Puntuación de Gasto por Grupo de Genero',\n",
    "                  labels={'Annual Income (k$)': 'Ingreso Anual (k$)', 'Spending Score (1-100)': 'Puntuación de Gasto (1-100)'},\n",
    "                  color_discrete_sequence=px.colors.qualitative.Set1,\n",
    "                  width=800, height=500)\n",
    "\n",
    "fig.show()"
   ]
  },
  {
   "cell_type": "markdown",
   "metadata": {},
   "source": [
    "Al no tener relaciones aparentes nos centraremos solo en las variables que son más importantes: 'Annual Income (k$)' y 'Spending Score (1-100)'"
   ]
  },
  {
   "cell_type": "code",
   "execution_count": 9,
   "metadata": {},
   "outputs": [
    {
     "data": {
      "application/vnd.plotly.v1+json": {
       "config": {
        "plotlyServerURL": "https://plot.ly"
       },
       "data": [
        {
         "mode": "lines+markers",
         "name": "Curva de distancia k",
         "type": "scatter",
         "x": [
          1,
          2,
          3,
          4,
          5,
          6,
          7,
          8,
          9,
          10,
          11,
          12,
          13,
          14,
          15,
          16,
          17,
          18,
          19,
          20,
          21,
          22,
          23,
          24,
          25,
          26,
          27,
          28,
          29,
          30,
          31,
          32,
          33,
          34,
          35,
          36,
          37,
          38,
          39,
          40,
          41,
          42,
          43,
          44,
          45,
          46,
          47,
          48,
          49,
          50,
          51,
          52,
          53,
          54,
          55,
          56,
          57,
          58,
          59,
          60,
          61,
          62,
          63,
          64,
          65,
          66,
          67,
          68,
          69,
          70,
          71,
          72,
          73,
          74,
          75,
          76,
          77,
          78,
          79,
          80,
          81,
          82,
          83,
          84,
          85,
          86,
          87,
          88,
          89,
          90,
          91,
          92,
          93,
          94,
          95,
          96,
          97,
          98,
          99,
          100,
          101,
          102,
          103,
          104,
          105,
          106,
          107,
          108,
          109,
          110,
          111,
          112,
          113,
          114,
          115,
          116,
          117,
          118,
          119,
          120,
          121,
          122,
          123,
          124,
          125,
          126,
          127,
          128,
          129,
          130,
          131,
          132,
          133,
          134,
          135,
          136,
          137,
          138,
          139,
          140,
          141,
          142,
          143,
          144,
          145,
          146,
          147,
          148,
          149,
          150,
          151,
          152,
          153,
          154,
          155,
          156,
          157,
          158,
          159,
          160,
          161,
          162,
          163,
          164,
          165,
          166,
          167,
          168,
          169,
          170,
          171,
          172,
          173,
          174,
          175,
          176,
          177,
          178,
          179,
          180,
          181,
          182,
          183,
          184,
          185,
          186,
          187,
          188,
          189,
          190,
          191,
          192,
          193,
          194,
          195,
          196,
          197,
          198,
          199,
          200
         ],
         "y": {
          "bdata": "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",
          "dtype": "f8"
         }
        }
       ],
       "layout": {
        "showlegend": false,
        "template": {
         "data": {
          "bar": [
           {
            "error_x": {
             "color": "#2a3f5f"
            },
            "error_y": {
             "color": "#2a3f5f"
            },
            "marker": {
             "line": {
              "color": "#E5ECF6",
              "width": 0.5
             },
             "pattern": {
              "fillmode": "overlay",
              "size": 10,
              "solidity": 0.2
             }
            },
            "type": "bar"
           }
          ],
          "barpolar": [
           {
            "marker": {
             "line": {
              "color": "#E5ECF6",
              "width": 0.5
             },
             "pattern": {
              "fillmode": "overlay",
              "size": 10,
              "solidity": 0.2
             }
            },
            "type": "barpolar"
           }
          ],
          "carpet": [
           {
            "aaxis": {
             "endlinecolor": "#2a3f5f",
             "gridcolor": "white",
             "linecolor": "white",
             "minorgridcolor": "white",
             "startlinecolor": "#2a3f5f"
            },
            "baxis": {
             "endlinecolor": "#2a3f5f",
             "gridcolor": "white",
             "linecolor": "white",
             "minorgridcolor": "white",
             "startlinecolor": "#2a3f5f"
            },
            "type": "carpet"
           }
          ],
          "choropleth": [
           {
            "colorbar": {
             "outlinewidth": 0,
             "ticks": ""
            },
            "type": "choropleth"
           }
          ],
          "contour": [
           {
            "colorbar": {
             "outlinewidth": 0,
             "ticks": ""
            },
            "colorscale": [
             [
              0,
              "#0d0887"
             ],
             [
              0.1111111111111111,
              "#46039f"
             ],
             [
              0.2222222222222222,
              "#7201a8"
             ],
             [
              0.3333333333333333,
              "#9c179e"
             ],
             [
              0.4444444444444444,
              "#bd3786"
             ],
             [
              0.5555555555555556,
              "#d8576b"
             ],
             [
              0.6666666666666666,
              "#ed7953"
             ],
             [
              0.7777777777777778,
              "#fb9f3a"
             ],
             [
              0.8888888888888888,
              "#fdca26"
             ],
             [
              1,
              "#f0f921"
             ]
            ],
            "type": "contour"
           }
          ],
          "contourcarpet": [
           {
            "colorbar": {
             "outlinewidth": 0,
             "ticks": ""
            },
            "type": "contourcarpet"
           }
          ],
          "heatmap": [
           {
            "colorbar": {
             "outlinewidth": 0,
             "ticks": ""
            },
            "colorscale": [
             [
              0,
              "#0d0887"
             ],
             [
              0.1111111111111111,
              "#46039f"
             ],
             [
              0.2222222222222222,
              "#7201a8"
             ],
             [
              0.3333333333333333,
              "#9c179e"
             ],
             [
              0.4444444444444444,
              "#bd3786"
             ],
             [
              0.5555555555555556,
              "#d8576b"
             ],
             [
              0.6666666666666666,
              "#ed7953"
             ],
             [
              0.7777777777777778,
              "#fb9f3a"
             ],
             [
              0.8888888888888888,
              "#fdca26"
             ],
             [
              1,
              "#f0f921"
             ]
            ],
            "type": "heatmap"
           }
          ],
          "histogram": [
           {
            "marker": {
             "pattern": {
              "fillmode": "overlay",
              "size": 10,
              "solidity": 0.2
             }
            },
            "type": "histogram"
           }
          ],
          "histogram2d": [
           {
            "colorbar": {
             "outlinewidth": 0,
             "ticks": ""
            },
            "colorscale": [
             [
              0,
              "#0d0887"
             ],
             [
              0.1111111111111111,
              "#46039f"
             ],
             [
              0.2222222222222222,
              "#7201a8"
             ],
             [
              0.3333333333333333,
              "#9c179e"
             ],
             [
              0.4444444444444444,
              "#bd3786"
             ],
             [
              0.5555555555555556,
              "#d8576b"
             ],
             [
              0.6666666666666666,
              "#ed7953"
             ],
             [
              0.7777777777777778,
              "#fb9f3a"
             ],
             [
              0.8888888888888888,
              "#fdca26"
             ],
             [
              1,
              "#f0f921"
             ]
            ],
            "type": "histogram2d"
           }
          ],
          "histogram2dcontour": [
           {
            "colorbar": {
             "outlinewidth": 0,
             "ticks": ""
            },
            "colorscale": [
             [
              0,
              "#0d0887"
             ],
             [
              0.1111111111111111,
              "#46039f"
             ],
             [
              0.2222222222222222,
              "#7201a8"
             ],
             [
              0.3333333333333333,
              "#9c179e"
             ],
             [
              0.4444444444444444,
              "#bd3786"
             ],
             [
              0.5555555555555556,
              "#d8576b"
             ],
             [
              0.6666666666666666,
              "#ed7953"
             ],
             [
              0.7777777777777778,
              "#fb9f3a"
             ],
             [
              0.8888888888888888,
              "#fdca26"
             ],
             [
              1,
              "#f0f921"
             ]
            ],
            "type": "histogram2dcontour"
           }
          ],
          "mesh3d": [
           {
            "colorbar": {
             "outlinewidth": 0,
             "ticks": ""
            },
            "type": "mesh3d"
           }
          ],
          "parcoords": [
           {
            "line": {
             "colorbar": {
              "outlinewidth": 0,
              "ticks": ""
             }
            },
            "type": "parcoords"
           }
          ],
          "pie": [
           {
            "automargin": true,
            "type": "pie"
           }
          ],
          "scatter": [
           {
            "fillpattern": {
             "fillmode": "overlay",
             "size": 10,
             "solidity": 0.2
            },
            "type": "scatter"
           }
          ],
          "scatter3d": [
           {
            "line": {
             "colorbar": {
              "outlinewidth": 0,
              "ticks": ""
             }
            },
            "marker": {
             "colorbar": {
              "outlinewidth": 0,
              "ticks": ""
             }
            },
            "type": "scatter3d"
           }
          ],
          "scattercarpet": [
           {
            "marker": {
             "colorbar": {
              "outlinewidth": 0,
              "ticks": ""
             }
            },
            "type": "scattercarpet"
           }
          ],
          "scattergeo": [
           {
            "marker": {
             "colorbar": {
              "outlinewidth": 0,
              "ticks": ""
             }
            },
            "type": "scattergeo"
           }
          ],
          "scattergl": [
           {
            "marker": {
             "colorbar": {
              "outlinewidth": 0,
              "ticks": ""
             }
            },
            "type": "scattergl"
           }
          ],
          "scattermap": [
           {
            "marker": {
             "colorbar": {
              "outlinewidth": 0,
              "ticks": ""
             }
            },
            "type": "scattermap"
           }
          ],
          "scattermapbox": [
           {
            "marker": {
             "colorbar": {
              "outlinewidth": 0,
              "ticks": ""
             }
            },
            "type": "scattermapbox"
           }
          ],
          "scatterpolar": [
           {
            "marker": {
             "colorbar": {
              "outlinewidth": 0,
              "ticks": ""
             }
            },
            "type": "scatterpolar"
           }
          ],
          "scatterpolargl": [
           {
            "marker": {
             "colorbar": {
              "outlinewidth": 0,
              "ticks": ""
             }
            },
            "type": "scatterpolargl"
           }
          ],
          "scatterternary": [
           {
            "marker": {
             "colorbar": {
              "outlinewidth": 0,
              "ticks": ""
             }
            },
            "type": "scatterternary"
           }
          ],
          "surface": [
           {
            "colorbar": {
             "outlinewidth": 0,
             "ticks": ""
            },
            "colorscale": [
             [
              0,
              "#0d0887"
             ],
             [
              0.1111111111111111,
              "#46039f"
             ],
             [
              0.2222222222222222,
              "#7201a8"
             ],
             [
              0.3333333333333333,
              "#9c179e"
             ],
             [
              0.4444444444444444,
              "#bd3786"
             ],
             [
              0.5555555555555556,
              "#d8576b"
             ],
             [
              0.6666666666666666,
              "#ed7953"
             ],
             [
              0.7777777777777778,
              "#fb9f3a"
             ],
             [
              0.8888888888888888,
              "#fdca26"
             ],
             [
              1,
              "#f0f921"
             ]
            ],
            "type": "surface"
           }
          ],
          "table": [
           {
            "cells": {
             "fill": {
              "color": "#EBF0F8"
             },
             "line": {
              "color": "white"
             }
            },
            "header": {
             "fill": {
              "color": "#C8D4E3"
             },
             "line": {
              "color": "white"
             }
            },
            "type": "table"
           }
          ]
         },
         "layout": {
          "annotationdefaults": {
           "arrowcolor": "#2a3f5f",
           "arrowhead": 0,
           "arrowwidth": 1
          },
          "autotypenumbers": "strict",
          "coloraxis": {
           "colorbar": {
            "outlinewidth": 0,
            "ticks": ""
           }
          },
          "colorscale": {
           "diverging": [
            [
             0,
             "#8e0152"
            ],
            [
             0.1,
             "#c51b7d"
            ],
            [
             0.2,
             "#de77ae"
            ],
            [
             0.3,
             "#f1b6da"
            ],
            [
             0.4,
             "#fde0ef"
            ],
            [
             0.5,
             "#f7f7f7"
            ],
            [
             0.6,
             "#e6f5d0"
            ],
            [
             0.7,
             "#b8e186"
            ],
            [
             0.8,
             "#7fbc41"
            ],
            [
             0.9,
             "#4d9221"
            ],
            [
             1,
             "#276419"
            ]
           ],
           "sequential": [
            [
             0,
             "#0d0887"
            ],
            [
             0.1111111111111111,
             "#46039f"
            ],
            [
             0.2222222222222222,
             "#7201a8"
            ],
            [
             0.3333333333333333,
             "#9c179e"
            ],
            [
             0.4444444444444444,
             "#bd3786"
            ],
            [
             0.5555555555555556,
             "#d8576b"
            ],
            [
             0.6666666666666666,
             "#ed7953"
            ],
            [
             0.7777777777777778,
             "#fb9f3a"
            ],
            [
             0.8888888888888888,
             "#fdca26"
            ],
            [
             1,
             "#f0f921"
            ]
           ],
           "sequentialminus": [
            [
             0,
             "#0d0887"
            ],
            [
             0.1111111111111111,
             "#46039f"
            ],
            [
             0.2222222222222222,
             "#7201a8"
            ],
            [
             0.3333333333333333,
             "#9c179e"
            ],
            [
             0.4444444444444444,
             "#bd3786"
            ],
            [
             0.5555555555555556,
             "#d8576b"
            ],
            [
             0.6666666666666666,
             "#ed7953"
            ],
            [
             0.7777777777777778,
             "#fb9f3a"
            ],
            [
             0.8888888888888888,
             "#fdca26"
            ],
            [
             1,
             "#f0f921"
            ]
           ]
          },
          "colorway": [
           "#636efa",
           "#EF553B",
           "#00cc96",
           "#ab63fa",
           "#FFA15A",
           "#19d3f3",
           "#FF6692",
           "#B6E880",
           "#FF97FF",
           "#FECB52"
          ],
          "font": {
           "color": "#2a3f5f"
          },
          "geo": {
           "bgcolor": "white",
           "lakecolor": "white",
           "landcolor": "#E5ECF6",
           "showlakes": true,
           "showland": true,
           "subunitcolor": "white"
          },
          "hoverlabel": {
           "align": "left"
          },
          "hovermode": "closest",
          "mapbox": {
           "style": "light"
          },
          "paper_bgcolor": "white",
          "plot_bgcolor": "#E5ECF6",
          "polar": {
           "angularaxis": {
            "gridcolor": "white",
            "linecolor": "white",
            "ticks": ""
           },
           "bgcolor": "#E5ECF6",
           "radialaxis": {
            "gridcolor": "white",
            "linecolor": "white",
            "ticks": ""
           }
          },
          "scene": {
           "xaxis": {
            "backgroundcolor": "#E5ECF6",
            "gridcolor": "white",
            "gridwidth": 2,
            "linecolor": "white",
            "showbackground": true,
            "ticks": "",
            "zerolinecolor": "white"
           },
           "yaxis": {
            "backgroundcolor": "#E5ECF6",
            "gridcolor": "white",
            "gridwidth": 2,
            "linecolor": "white",
            "showbackground": true,
            "ticks": "",
            "zerolinecolor": "white"
           },
           "zaxis": {
            "backgroundcolor": "#E5ECF6",
            "gridcolor": "white",
            "gridwidth": 2,
            "linecolor": "white",
            "showbackground": true,
            "ticks": "",
            "zerolinecolor": "white"
           }
          },
          "shapedefaults": {
           "line": {
            "color": "#2a3f5f"
           }
          },
          "ternary": {
           "aaxis": {
            "gridcolor": "white",
            "linecolor": "white",
            "ticks": ""
           },
           "baxis": {
            "gridcolor": "white",
            "linecolor": "white",
            "ticks": ""
           },
           "bgcolor": "#E5ECF6",
           "caxis": {
            "gridcolor": "white",
            "linecolor": "white",
            "ticks": ""
           }
          },
          "title": {
           "x": 0.05
          },
          "xaxis": {
           "automargin": true,
           "gridcolor": "white",
           "linecolor": "white",
           "ticks": "",
           "title": {
            "standoff": 15
           },
           "zerolinecolor": "white",
           "zerolinewidth": 2
          },
          "yaxis": {
           "automargin": true,
           "gridcolor": "white",
           "linecolor": "white",
           "ticks": "",
           "title": {
            "standoff": 15
           },
           "zerolinecolor": "white",
           "zerolinewidth": 2
          }
         }
        },
        "title": {
         "text": "Curva de distancia k"
        },
        "xaxis": {
         "title": {
          "text": "Puntos Ordenados por Distancia"
         }
        },
        "yaxis": {
         "title": {
          "text": "Distancia al 5-ésimo vecino más próximo"
         }
        }
       }
      }
     },
     "metadata": {},
     "output_type": "display_data"
    }
   ],
   "source": [
    "# Preparamos las características relevantes\n",
    "X = df[['Annual Income (k$)', 'Spending Score (1-100)']]\n",
    "#X_scaled = StandardScaler().fit_transform(X)\n",
    "\n",
    "plot_kn_distance(X, 5)"
   ]
  },
  {
   "cell_type": "markdown",
   "metadata": {},
   "source": [
    "Con esto podemos notar que para un k cercano a 5 el cambio se da en (167,10.29)"
   ]
  },
  {
   "cell_type": "markdown",
   "metadata": {},
   "source": [
    "#### Implementación del Método"
   ]
  },
  {
   "cell_type": "markdown",
   "metadata": {},
   "source": [
    "Principales parámetros de $DBSCAN$:\n",
    "```python\n",
    "DBSCAN(\n",
    "    eps=0.5,\n",
    "    min_samples=5,\n",
    "    metric='euclidean',\n",
    ")"
   ]
  },
  {
   "cell_type": "markdown",
   "metadata": {},
   "source": [
    "#### Visualización e Implementación de Resultados"
   ]
  },
  {
   "cell_type": "code",
   "execution_count": 10,
   "metadata": {},
   "outputs": [
    {
     "data": {
      "application/vnd.plotly.v1+json": {
       "config": {
        "plotlyServerURL": "https://plot.ly"
       },
       "data": [
        {
         "hovertemplate": "Cluster=0<br>Annual Income (k$)=%{x}<br>Spending Score (1-100)=%{y}<extra></extra>",
         "legendgroup": "0",
         "marker": {
          "color": "rgb(228,26,28)",
          "symbol": "circle"
         },
         "mode": "markers",
         "name": "0",
         "orientation": "v",
         "showlegend": true,
         "type": "scatter",
         "x": {
          "bdata": "Dw8QERETFBQVFRcYGBkcHBwdHR4hISIiJSUmJicnJycoKCgoKiorKysrLCwuLi4uLy8wMDAwMDAxMTIyNjY2NjY2NjY2NjY2OTk6Ojs7PDw8PDw8PT0+Pj4+Pj4/Pz8/Pz9AQEFBQUFDQ0NDRUZHSExNTw==",
          "dtype": "i1"
         },
         "xaxis": "x",
         "y": {
          "bdata": "J1FNKExITU8jQh0jSUlSID0fV0lcURFJGksjXCQ9HEE3LyoqNDw2PC0pMi4zLjg3NDszOzIwOy83KjE4LzY1MDQqMzcpLDkuOjc8LjcpMSgqNC8yKjEpMDs3OCoyLiswNDYqLjAyKzsrOTgoOh0jIigkIw==",
          "dtype": "i1"
         },
         "yaxis": "y"
        },
        {
         "hovertemplate": "Cluster=1<br>Annual Income (k$)=%{x}<br>Spending Score (1-100)=%{y}<extra></extra>",
         "legendgroup": "1",
         "marker": {
          "color": "rgb(55,126,184)",
          "symbol": "circle"
         },
         "mode": "markers",
         "name": "1",
         "orientation": "v",
         "showlegend": true,
         "type": "scatter",
         "x": {
          "bdata": "EBITExQUGRweISE=",
          "dtype": "i1"
         },
         "xaxis": "x",
         "y": {
          "bdata": "BgYDDg8NBQ4EBA4=",
          "dtype": "i1"
         },
         "yaxis": "y"
        },
        {
         "hovertemplate": "Cluster=-1<br>Annual Income (k$)=%{x}<br>Spending Score (1-100)=%{y}<extra></extra>",
         "legendgroup": "-1",
         "marker": {
          "color": "rgb(77,175,74)",
          "symbol": "circle"
         },
         "mode": "markers",
         "name": "-1",
         "orientation": "v",
         "showlegend": true,
         "type": "scatter",
         "x": {
          "bdata": "EgATABcAVwBjAGUAZwBxAHEAeAB4AH4AfgCJAIkA",
          "dtype": "i2"
         },
         "xaxis": "x",
         "y": {
          "bdata": "XmNiPydERQhbEE8cShJT",
          "dtype": "i1"
         },
         "yaxis": "y"
        },
        {
         "hovertemplate": "Cluster=2<br>Annual Income (k$)=%{x}<br>Spending Score (1-100)=%{y}<extra></extra>",
         "legendgroup": "2",
         "marker": {
          "color": "rgb(152,78,163)",
          "symbol": "circle"
         },
         "mode": "markers",
         "name": "2",
         "orientation": "v",
         "showlegend": true,
         "type": "scatter",
         "x": {
          "bdata": "RUZHR0dISUlKS0xNTU5OTk5OTk9RVVZXV1hYXWFiY2c=",
          "dtype": "i1"
         },
         "xaxis": "x",
         "y": {
          "bdata": "W01fS0tHWElIXVdhSlpYTFlOSVNdS19LXFZFWlZYYVU=",
          "dtype": "i1"
         },
         "yaxis": "y"
        },
        {
         "hovertemplate": "Cluster=3<br>Annual Income (k$)=%{x}<br>Spending Score (1-100)=%{y}<extra></extra>",
         "legendgroup": "3",
         "marker": {
          "color": "rgb(255,127,0)",
          "symbol": "circle"
         },
         "mode": "markers",
         "name": "3",
         "orientation": "v",
         "showlegend": true,
         "type": "scatter",
         "x": {
          "bdata": "R0dJSUpLTU5OTk5OTlFVVldXV1hYXWFiZWdn",
          "dtype": "i1"
         },
         "xaxis": "x",
         "y": {
          "bdata": "CwkFBwoFDBYRFBABAQUaFBsNCg0PDiAPGBEX",
          "dtype": "i1"
         },
         "yaxis": "y"
        }
       ],
       "layout": {
        "legend": {
         "title": {
          "text": "Cluster"
         },
         "tracegroupgap": 0
        },
        "template": {
         "data": {
          "bar": [
           {
            "error_x": {
             "color": "#2a3f5f"
            },
            "error_y": {
             "color": "#2a3f5f"
            },
            "marker": {
             "line": {
              "color": "#E5ECF6",
              "width": 0.5
             },
             "pattern": {
              "fillmode": "overlay",
              "size": 10,
              "solidity": 0.2
             }
            },
            "type": "bar"
           }
          ],
          "barpolar": [
           {
            "marker": {
             "line": {
              "color": "#E5ECF6",
              "width": 0.5
             },
             "pattern": {
              "fillmode": "overlay",
              "size": 10,
              "solidity": 0.2
             }
            },
            "type": "barpolar"
           }
          ],
          "carpet": [
           {
            "aaxis": {
             "endlinecolor": "#2a3f5f",
             "gridcolor": "white",
             "linecolor": "white",
             "minorgridcolor": "white",
             "startlinecolor": "#2a3f5f"
            },
            "baxis": {
             "endlinecolor": "#2a3f5f",
             "gridcolor": "white",
             "linecolor": "white",
             "minorgridcolor": "white",
             "startlinecolor": "#2a3f5f"
            },
            "type": "carpet"
           }
          ],
          "choropleth": [
           {
            "colorbar": {
             "outlinewidth": 0,
             "ticks": ""
            },
            "type": "choropleth"
           }
          ],
          "contour": [
           {
            "colorbar": {
             "outlinewidth": 0,
             "ticks": ""
            },
            "colorscale": [
             [
              0,
              "#0d0887"
             ],
             [
              0.1111111111111111,
              "#46039f"
             ],
             [
              0.2222222222222222,
              "#7201a8"
             ],
             [
              0.3333333333333333,
              "#9c179e"
             ],
             [
              0.4444444444444444,
              "#bd3786"
             ],
             [
              0.5555555555555556,
              "#d8576b"
             ],
             [
              0.6666666666666666,
              "#ed7953"
             ],
             [
              0.7777777777777778,
              "#fb9f3a"
             ],
             [
              0.8888888888888888,
              "#fdca26"
             ],
             [
              1,
              "#f0f921"
             ]
            ],
            "type": "contour"
           }
          ],
          "contourcarpet": [
           {
            "colorbar": {
             "outlinewidth": 0,
             "ticks": ""
            },
            "type": "contourcarpet"
           }
          ],
          "heatmap": [
           {
            "colorbar": {
             "outlinewidth": 0,
             "ticks": ""
            },
            "colorscale": [
             [
              0,
              "#0d0887"
             ],
             [
              0.1111111111111111,
              "#46039f"
             ],
             [
              0.2222222222222222,
              "#7201a8"
             ],
             [
              0.3333333333333333,
              "#9c179e"
             ],
             [
              0.4444444444444444,
              "#bd3786"
             ],
             [
              0.5555555555555556,
              "#d8576b"
             ],
             [
              0.6666666666666666,
              "#ed7953"
             ],
             [
              0.7777777777777778,
              "#fb9f3a"
             ],
             [
              0.8888888888888888,
              "#fdca26"
             ],
             [
              1,
              "#f0f921"
             ]
            ],
            "type": "heatmap"
           }
          ],
          "histogram": [
           {
            "marker": {
             "pattern": {
              "fillmode": "overlay",
              "size": 10,
              "solidity": 0.2
             }
            },
            "type": "histogram"
           }
          ],
          "histogram2d": [
           {
            "colorbar": {
             "outlinewidth": 0,
             "ticks": ""
            },
            "colorscale": [
             [
              0,
              "#0d0887"
             ],
             [
              0.1111111111111111,
              "#46039f"
             ],
             [
              0.2222222222222222,
              "#7201a8"
             ],
             [
              0.3333333333333333,
              "#9c179e"
             ],
             [
              0.4444444444444444,
              "#bd3786"
             ],
             [
              0.5555555555555556,
              "#d8576b"
             ],
             [
              0.6666666666666666,
              "#ed7953"
             ],
             [
              0.7777777777777778,
              "#fb9f3a"
             ],
             [
              0.8888888888888888,
              "#fdca26"
             ],
             [
              1,
              "#f0f921"
             ]
            ],
            "type": "histogram2d"
           }
          ],
          "histogram2dcontour": [
           {
            "colorbar": {
             "outlinewidth": 0,
             "ticks": ""
            },
            "colorscale": [
             [
              0,
              "#0d0887"
             ],
             [
              0.1111111111111111,
              "#46039f"
             ],
             [
              0.2222222222222222,
              "#7201a8"
             ],
             [
              0.3333333333333333,
              "#9c179e"
             ],
             [
              0.4444444444444444,
              "#bd3786"
             ],
             [
              0.5555555555555556,
              "#d8576b"
             ],
             [
              0.6666666666666666,
              "#ed7953"
             ],
             [
              0.7777777777777778,
              "#fb9f3a"
             ],
             [
              0.8888888888888888,
              "#fdca26"
             ],
             [
              1,
              "#f0f921"
             ]
            ],
            "type": "histogram2dcontour"
           }
          ],
          "mesh3d": [
           {
            "colorbar": {
             "outlinewidth": 0,
             "ticks": ""
            },
            "type": "mesh3d"
           }
          ],
          "parcoords": [
           {
            "line": {
             "colorbar": {
              "outlinewidth": 0,
              "ticks": ""
             }
            },
            "type": "parcoords"
           }
          ],
          "pie": [
           {
            "automargin": true,
            "type": "pie"
           }
          ],
          "scatter": [
           {
            "fillpattern": {
             "fillmode": "overlay",
             "size": 10,
             "solidity": 0.2
            },
            "type": "scatter"
           }
          ],
          "scatter3d": [
           {
            "line": {
             "colorbar": {
              "outlinewidth": 0,
              "ticks": ""
             }
            },
            "marker": {
             "colorbar": {
              "outlinewidth": 0,
              "ticks": ""
             }
            },
            "type": "scatter3d"
           }
          ],
          "scattercarpet": [
           {
            "marker": {
             "colorbar": {
              "outlinewidth": 0,
              "ticks": ""
             }
            },
            "type": "scattercarpet"
           }
          ],
          "scattergeo": [
           {
            "marker": {
             "colorbar": {
              "outlinewidth": 0,
              "ticks": ""
             }
            },
            "type": "scattergeo"
           }
          ],
          "scattergl": [
           {
            "marker": {
             "colorbar": {
              "outlinewidth": 0,
              "ticks": ""
             }
            },
            "type": "scattergl"
           }
          ],
          "scattermap": [
           {
            "marker": {
             "colorbar": {
              "outlinewidth": 0,
              "ticks": ""
             }
            },
            "type": "scattermap"
           }
          ],
          "scattermapbox": [
           {
            "marker": {
             "colorbar": {
              "outlinewidth": 0,
              "ticks": ""
             }
            },
            "type": "scattermapbox"
           }
          ],
          "scatterpolar": [
           {
            "marker": {
             "colorbar": {
              "outlinewidth": 0,
              "ticks": ""
             }
            },
            "type": "scatterpolar"
           }
          ],
          "scatterpolargl": [
           {
            "marker": {
             "colorbar": {
              "outlinewidth": 0,
              "ticks": ""
             }
            },
            "type": "scatterpolargl"
           }
          ],
          "scatterternary": [
           {
            "marker": {
             "colorbar": {
              "outlinewidth": 0,
              "ticks": ""
             }
            },
            "type": "scatterternary"
           }
          ],
          "surface": [
           {
            "colorbar": {
             "outlinewidth": 0,
             "ticks": ""
            },
            "colorscale": [
             [
              0,
              "#0d0887"
             ],
             [
              0.1111111111111111,
              "#46039f"
             ],
             [
              0.2222222222222222,
              "#7201a8"
             ],
             [
              0.3333333333333333,
              "#9c179e"
             ],
             [
              0.4444444444444444,
              "#bd3786"
             ],
             [
              0.5555555555555556,
              "#d8576b"
             ],
             [
              0.6666666666666666,
              "#ed7953"
             ],
             [
              0.7777777777777778,
              "#fb9f3a"
             ],
             [
              0.8888888888888888,
              "#fdca26"
             ],
             [
              1,
              "#f0f921"
             ]
            ],
            "type": "surface"
           }
          ],
          "table": [
           {
            "cells": {
             "fill": {
              "color": "#EBF0F8"
             },
             "line": {
              "color": "white"
             }
            },
            "header": {
             "fill": {
              "color": "#C8D4E3"
             },
             "line": {
              "color": "white"
             }
            },
            "type": "table"
           }
          ]
         },
         "layout": {
          "annotationdefaults": {
           "arrowcolor": "#2a3f5f",
           "arrowhead": 0,
           "arrowwidth": 1
          },
          "autotypenumbers": "strict",
          "coloraxis": {
           "colorbar": {
            "outlinewidth": 0,
            "ticks": ""
           }
          },
          "colorscale": {
           "diverging": [
            [
             0,
             "#8e0152"
            ],
            [
             0.1,
             "#c51b7d"
            ],
            [
             0.2,
             "#de77ae"
            ],
            [
             0.3,
             "#f1b6da"
            ],
            [
             0.4,
             "#fde0ef"
            ],
            [
             0.5,
             "#f7f7f7"
            ],
            [
             0.6,
             "#e6f5d0"
            ],
            [
             0.7,
             "#b8e186"
            ],
            [
             0.8,
             "#7fbc41"
            ],
            [
             0.9,
             "#4d9221"
            ],
            [
             1,
             "#276419"
            ]
           ],
           "sequential": [
            [
             0,
             "#0d0887"
            ],
            [
             0.1111111111111111,
             "#46039f"
            ],
            [
             0.2222222222222222,
             "#7201a8"
            ],
            [
             0.3333333333333333,
             "#9c179e"
            ],
            [
             0.4444444444444444,
             "#bd3786"
            ],
            [
             0.5555555555555556,
             "#d8576b"
            ],
            [
             0.6666666666666666,
             "#ed7953"
            ],
            [
             0.7777777777777778,
             "#fb9f3a"
            ],
            [
             0.8888888888888888,
             "#fdca26"
            ],
            [
             1,
             "#f0f921"
            ]
           ],
           "sequentialminus": [
            [
             0,
             "#0d0887"
            ],
            [
             0.1111111111111111,
             "#46039f"
            ],
            [
             0.2222222222222222,
             "#7201a8"
            ],
            [
             0.3333333333333333,
             "#9c179e"
            ],
            [
             0.4444444444444444,
             "#bd3786"
            ],
            [
             0.5555555555555556,
             "#d8576b"
            ],
            [
             0.6666666666666666,
             "#ed7953"
            ],
            [
             0.7777777777777778,
             "#fb9f3a"
            ],
            [
             0.8888888888888888,
             "#fdca26"
            ],
            [
             1,
             "#f0f921"
            ]
           ]
          },
          "colorway": [
           "#636efa",
           "#EF553B",
           "#00cc96",
           "#ab63fa",
           "#FFA15A",
           "#19d3f3",
           "#FF6692",
           "#B6E880",
           "#FF97FF",
           "#FECB52"
          ],
          "font": {
           "color": "#2a3f5f"
          },
          "geo": {
           "bgcolor": "white",
           "lakecolor": "white",
           "landcolor": "#E5ECF6",
           "showlakes": true,
           "showland": true,
           "subunitcolor": "white"
          },
          "hoverlabel": {
           "align": "left"
          },
          "hovermode": "closest",
          "mapbox": {
           "style": "light"
          },
          "paper_bgcolor": "white",
          "plot_bgcolor": "#E5ECF6",
          "polar": {
           "angularaxis": {
            "gridcolor": "white",
            "linecolor": "white",
            "ticks": ""
           },
           "bgcolor": "#E5ECF6",
           "radialaxis": {
            "gridcolor": "white",
            "linecolor": "white",
            "ticks": ""
           }
          },
          "scene": {
           "xaxis": {
            "backgroundcolor": "#E5ECF6",
            "gridcolor": "white",
            "gridwidth": 2,
            "linecolor": "white",
            "showbackground": true,
            "ticks": "",
            "zerolinecolor": "white"
           },
           "yaxis": {
            "backgroundcolor": "#E5ECF6",
            "gridcolor": "white",
            "gridwidth": 2,
            "linecolor": "white",
            "showbackground": true,
            "ticks": "",
            "zerolinecolor": "white"
           },
           "zaxis": {
            "backgroundcolor": "#E5ECF6",
            "gridcolor": "white",
            "gridwidth": 2,
            "linecolor": "white",
            "showbackground": true,
            "ticks": "",
            "zerolinecolor": "white"
           }
          },
          "shapedefaults": {
           "line": {
            "color": "#2a3f5f"
           }
          },
          "ternary": {
           "aaxis": {
            "gridcolor": "white",
            "linecolor": "white",
            "ticks": ""
           },
           "baxis": {
            "gridcolor": "white",
            "linecolor": "white",
            "ticks": ""
           },
           "bgcolor": "#E5ECF6",
           "caxis": {
            "gridcolor": "white",
            "linecolor": "white",
            "ticks": ""
           }
          },
          "title": {
           "x": 0.05
          },
          "xaxis": {
           "automargin": true,
           "gridcolor": "white",
           "linecolor": "white",
           "ticks": "",
           "title": {
            "standoff": 15
           },
           "zerolinecolor": "white",
           "zerolinewidth": 2
          },
          "yaxis": {
           "automargin": true,
           "gridcolor": "white",
           "linecolor": "white",
           "ticks": "",
           "title": {
            "standoff": 15
           },
           "zerolinecolor": "white",
           "zerolinewidth": 2
          }
         }
        },
        "title": {
         "text": "DBSCAN Clustering de Clientes del Centro Comercial"
        },
        "xaxis": {
         "anchor": "y",
         "domain": [
          0,
          1
         ],
         "title": {
          "text": "Annual Income (k$)"
         }
        },
        "yaxis": {
         "anchor": "x",
         "domain": [
          0,
          1
         ],
         "title": {
          "text": "Spending Score (1-100)"
         }
        }
       }
      }
     },
     "metadata": {},
     "output_type": "display_data"
    }
   ],
   "source": [
    "# Aplicamos DBSCAN\n",
    "dbs = DBSCAN(eps=10.5, min_samples=5).fit(X)\n",
    "labels = dbs.labels_\n",
    "\n",
    "df['Cluster'] = labels\n",
    "\n",
    "fig = px.scatter(df, x='Annual Income (k$)', y='Spending Score (1-100)', color=labels.astype(str),\n",
    "               title='DBSCAN Clustering de Clientes del Centro Comercial',\n",
    "               labels={'color': 'Cluster'},\n",
    "               color_discrete_sequence=px.colors.qualitative.Set1)\n",
    "fig.show()"
   ]
  },
  {
   "cell_type": "markdown",
   "metadata": {},
   "source": [
    "Realizaremos el perfilamiento de los grupos, omitiendo el ruido (etiquetas igual a -1):"
   ]
  },
  {
   "cell_type": "code",
   "execution_count": 11,
   "metadata": {},
   "outputs": [
    {
     "data": {
      "text/html": [
       "<div>\n",
       "<style scoped>\n",
       "    .dataframe tbody tr th:only-of-type {\n",
       "        vertical-align: middle;\n",
       "    }\n",
       "\n",
       "    .dataframe tbody tr th {\n",
       "        vertical-align: top;\n",
       "    }\n",
       "\n",
       "    .dataframe thead th {\n",
       "        text-align: right;\n",
       "    }\n",
       "</style>\n",
       "<table border=\"1\" class=\"dataframe\">\n",
       "  <thead>\n",
       "    <tr style=\"text-align: right;\">\n",
       "      <th></th>\n",
       "      <th>Cluster</th>\n",
       "      <th>Count</th>\n",
       "      <th>Average_Age</th>\n",
       "      <th>Average_Annual_Income</th>\n",
       "      <th>Average_Spending_Score</th>\n",
       "    </tr>\n",
       "  </thead>\n",
       "  <tbody>\n",
       "    <tr>\n",
       "      <th>0</th>\n",
       "      <td>0</td>\n",
       "      <td>115</td>\n",
       "      <td>40.0</td>\n",
       "      <td>48.0</td>\n",
       "      <td>52.0</td>\n",
       "    </tr>\n",
       "    <tr>\n",
       "      <th>1</th>\n",
       "      <td>1</td>\n",
       "      <td>11</td>\n",
       "      <td>49.0</td>\n",
       "      <td>24.0</td>\n",
       "      <td>9.0</td>\n",
       "    </tr>\n",
       "    <tr>\n",
       "      <th>2</th>\n",
       "      <td>2</td>\n",
       "      <td>32</td>\n",
       "      <td>33.0</td>\n",
       "      <td>81.0</td>\n",
       "      <td>84.0</td>\n",
       "    </tr>\n",
       "    <tr>\n",
       "      <th>3</th>\n",
       "      <td>3</td>\n",
       "      <td>27</td>\n",
       "      <td>41.0</td>\n",
       "      <td>84.0</td>\n",
       "      <td>14.0</td>\n",
       "    </tr>\n",
       "  </tbody>\n",
       "</table>\n",
       "</div>"
      ],
      "text/plain": [
       "   Cluster  Count  Average_Age  Average_Annual_Income  Average_Spending_Score\n",
       "0        0    115         40.0                   48.0                    52.0\n",
       "1        1     11         49.0                   24.0                     9.0\n",
       "2        2     32         33.0                   81.0                    84.0\n",
       "3        3     27         41.0                   84.0                    14.0"
      ]
     },
     "execution_count": 11,
     "metadata": {},
     "output_type": "execute_result"
    }
   ],
   "source": [
    "# Filtramos los datos para omitir el ruido\n",
    "clusters_df = df[df['Cluster'] != -1]\n",
    "\n",
    "# Realizamos perfilamiento para cada grupo\n",
    "profile = clusters_df.groupby('Cluster').agg(\n",
    "    Count=('CustomerID', 'size'),\n",
    "    Average_Age=('Age', 'mean'),\n",
    "    Average_Annual_Income=('Annual Income (k$)', 'mean'),\n",
    "    Average_Spending_Score=('Spending Score (1-100)', 'mean')\n",
    ").reset_index()\n",
    "\n",
    "profile.round()"
   ]
  },
  {
   "cell_type": "markdown",
   "metadata": {},
   "source": [
    "**Perfilamiento:**\n",
    "\n",
    "1. **Grupo 0**: Este grupo es el más numeroso, con 115 clientes. Tienen una edad promedio de aproximadamente 40 años, un ingreso anual promedio de alrededor de $48k, y un puntaje de gasto promedio cercano a 52. Este grupo representa a clientes de mediana edad con ingresos y gastos moderados.\n",
    "2. **Grupo 1**: Este es el grupo más pequeño, con solo 11 clientes. Presentan una edad promedio de casi 50 años, el ingreso anual promedio más bajo de alrededor de $24k, y un puntaje de gasto promedio muy bajo de aproximadamente 9. Estos son clientes mayores con ingresos bajos y muy poco gasto.\n",
    "3. **Grupo 2**: Con 32 clientes, este grupo tiene una edad promedio de unos 33 años, un ingreso anual promedio alto de aproximadamente $81k, y el puntaje de gasto promedio más alto de alrededor de 84. Estos clientes son relativamente jóvenes, con altos ingresos y un alto nivel de gasto.\n",
    "4. **Grupo 3**: Este grupo incluye 27 clientes con una edad promedio de alrededor de 41 años, el ingreso anual promedio más alto de cerca de $84k, y un puntaje de gasto promedio bajo de aproximadamente 14. Son clientes de mediana edad con altos ingresos pero bajos niveles de gasto.\n"
   ]
  },
  {
   "cell_type": "markdown",
   "metadata": {},
   "source": [
    "**Estrategia para Ofrecer Tarjetas Departamentales**\n",
    "\n",
    "Basado en el perfilamiento, se recomendaría enfocar la oferta de tarjetas departamentales en los siguientes grupos:\n",
    "\n",
    "- **Grupo 2**: Dado su alto ingreso y alto nivel de gasto, este grupo es ideal para tarjetas departamentales. Estos clientes tienen el potencial de aprovechar los beneficios y ofertas que suelen acompañar a este tipo de tarjetas, aumentando aún más su gasto.\n",
    "- **Grupo 0**: Aunque su nivel de gasto no es tan alto como en el Grupo 2, su ingreso moderado y la cantidad de clientes en este grupo lo hacen un buen candidato para ofertas de tarjetas departamentales, posiblemente con promociones especiales para aumentar su gasto.\n",
    "\n",
    "**Grupo a al que No Ofrecería Tarjetas Departamentales:**\n",
    "- **Grupo 1**: Con ingresos y gastos bajos, este grupo podría no beneficiarse tanto de las tarjetas departamentales, y podrían ser menos propensos a usarlas activamente.\n",
    "\n",
    "**Grupo a incentivar:**\n",
    "- **Grupo 3**: A pesar de sus altos ingresos, su bajo nivel de gasto sugiere que podrían no estar interesados en las compras que las tarjetas departamentales suelen incentivar."
   ]
  },
  {
   "cell_type": "markdown",
   "metadata": {},
   "source": [
    "**Conclusión**\n",
    "\n",
    "Concentrar los esfuerzos en los grupos 2 y 0 maximizará las oportunidades de ventas incrementales y la lealtad del cliente a través de beneficios y recompensas asociadas con el uso de la tarjeta departamental.\n",
    "\n",
    "Este ejercicio demostró cómo aplicar con éxito el modelo DBSCAN, si bien no es tan intuitivo definir los hiperparámetros, los resultados de una buena aplicación son evidentes, más aún que no tenemos que definir un numero de grupos (no sesgando nuestra decisión del número de clusters) y manteniendo los valores atípicos fuera del análisis.\n",
    "\n",
    "Es importante recordar que como estamos utilizando un modelo basado en distancias, se debe tomar en cuenta si debemos escalar o no nuestro conjunto de datos."
   ]
  }
 ],
 "metadata": {
  "kernelspec": {
   "display_name": ".venv",
   "language": "python",
   "name": "python3"
  },
  "language_info": {
   "codemirror_mode": {
    "name": "ipython",
    "version": 3
   },
   "file_extension": ".py",
   "mimetype": "text/x-python",
   "name": "python",
   "nbconvert_exporter": "python",
   "pygments_lexer": "ipython3",
   "version": "3.13.2"
  }
 },
 "nbformat": 4,
 "nbformat_minor": 2
}
