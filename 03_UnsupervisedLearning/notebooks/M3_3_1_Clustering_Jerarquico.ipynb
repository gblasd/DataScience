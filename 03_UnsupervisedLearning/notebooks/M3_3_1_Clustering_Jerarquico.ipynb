{
  "cells": [
    {
      "cell_type": "markdown",
      "metadata": {
        "id": "ICYv9kQEcrcJ"
      },
      "source": [
        "# 3.3.1. Clustering Jerárquico"
      ]
    },
    {
      "cell_type": "markdown",
      "metadata": {
        "id": "e3dVnGY-crcM"
      },
      "source": [
        "## Preparación del Entorno"
      ]
    },
    {
      "cell_type": "markdown",
      "metadata": {
        "id": "5qzVJJSqcrcM"
      },
      "source": [
        "### Carga de Módulos"
      ]
    },
    {
      "cell_type": "code",
      "execution_count": null,
      "metadata": {
        "id": "a_yYnoo8crcN"
      },
      "outputs": [],
      "source": [
        "import math\n",
        "import os\n",
        "import warnings\n",
        "\n",
        "import numpy as np\n",
        "import pandas as pd\n",
        "import matplotlib.pyplot as plt\n",
        "from matplotlib import offsetbox\n",
        "import seaborn as sns\n",
        "import plotly.express as px\n",
        "import plotly.graph_objects as go\n",
        "import plotly.io as pio\n",
        "import plotly.figure_factory as ff\n",
        "import session_info\n",
        "from time import time\n",
        "from plotly.subplots import make_subplots\n",
        "from sklearn import set_config\n",
        "from sklearn.preprocessing import StandardScaler\n",
        "\n",
        "# Tema Principal\n",
        "import gower\n",
        "from scipy.spatial import distance\n",
        "from scipy.cluster.hierarchy import linkage, dendrogram, cut_tree\n",
        "from sklearn.cluster import AgglomerativeClustering\n",
        "from sklearn.metrics import silhouette_score\n",
        "import sys\n",
        "\n",
        "sys.path.append('../scripts')\n",
        "from funny_stuffs import score_plot"
      ]
    },
    {
      "cell_type": "code",
      "execution_count": null,
      "metadata": {
        "id": "a6ykJ3n7crcQ"
      },
      "outputs": [],
      "source": [
        "session_info.show()"
      ]
    },
    {
      "cell_type": "markdown",
      "metadata": {
        "id": "SoO80VLRcrcS"
      },
      "source": [
        "### Configuración Inicial"
      ]
    },
    {
      "cell_type": "code",
      "execution_count": null,
      "metadata": {
        "id": "MZ4mhgUQcrcS"
      },
      "outputs": [],
      "source": [
        "random_seed = 333  # Semilla para reproducibilidad de resultados\n",
        "np.random.seed(random_seed)  # Para reproducibilidad\n",
        "\n",
        "# Configuración de opciones de visualización para pandas\n",
        "pd.set_option('display.max_columns', None)  # Muestra todas las columnas\n",
        "pd.set_option('display.max_rows', 15)  # Ajusta el número de filas a mostrar\n",
        "\n",
        "# Configuraciones extras\n",
        "sns.set_style('dark')\n",
        "dark_template = pio.templates['plotly_dark'].to_plotly_json()\n",
        "dark_template['layout']['paper_bgcolor'] = 'rgba(30, 30, 30, 0.5)'\n",
        "dark_template['layout']['plot_bgcolor'] = 'rgba(30, 30, 30, 0.5)'\n",
        "pio.templates['plotly_dark_semi_transparent'] = go.layout.Template(dark_template)\n",
        "pio.templates.default = 'plotly_dark_semi_transparent'\n",
        "set_config(transform_output=\"pandas\")\n",
        "set_config(display='diagram')\n",
        "warnings.filterwarnings(\"ignore\")\n",
        "%matplotlib inline"
      ]
    },
    {
      "cell_type": "markdown",
      "metadata": {
        "id": "GAUnSrk4crcT"
      },
      "source": [
        "## Clustering Jerárquico"
      ]
    },
    {
      "cell_type": "markdown",
      "metadata": {
        "id": "DFtU0C8DcrcU"
      },
      "source": [
        "### Fundamento Teórico"
      ]
    },
    {
      "cell_type": "markdown",
      "metadata": {
        "id": "Djvn5SmqcrcU"
      },
      "source": [
        "Los Conglomerados Jerárquicos (*Hierarchical Clustering* en inglés) es una técnica de análisis de conjuntos que busca construir una jerarquía de *clusters*. Existen dos métodos principales:\n",
        "\n",
        "- **Aglomerativo (de abajo hacia arriba)**. Comienza tratando cada punto de datos como un cluster individual y luego fusiona los clusters basándose en alguna medida de similitud hasta que todos los puntos se agrupan en un solo cluster.\n",
        "\n",
        "- **Divisivo (de arriba hacia abajo)**. Comienza con todos los puntos de datos en un solo cluster y luego divide recursivamente el cluster en clusters más pequeños, también basándose en alguna medida de similitud, hasta que cada punto se convierte en un cluster individual.\n",
        "\n",
        "Dado que el método **aglomerativo** es el más utilizado nos centraremos en este.\n",
        "\n",
        "Para realizar el procedimiento, debemos de hacer lo siguiente:"
      ]
    },
    {
      "cell_type": "markdown",
      "metadata": {
        "id": "WgWfn7RUcrcV"
      },
      "source": [
        "#### Consideraciones Iniciales:"
      ]
    },
    {
      "cell_type": "markdown",
      "metadata": {
        "id": "S9ykTNb5crcW"
      },
      "source": [
        "Al hacer un analisis de conglomerados con un conjunto de datos, nos enfrentamos a una serie de cuestionamientos que debemos dar respuesta para llevar a cabo nuestro objetivo:\n",
        "\n",
        "   - ¿Qué variables debemos elegir para realizar los clusters?.\n",
        "   - ¿Qué medida de distancia (similitud) utilizar entre los casos?\n",
        "   - ¿Qué tipo de liga utilizar para los grupos?\n",
        "   - ¿Qué tipo de técnica de construcción de los conglomerados usar?\n",
        "\n",
        "Si las variables no están medidas en la misma escala, es conveniente hacer el análisis con las variables estandarizadas. El objetivo es que las variables con mayores magnitudes no dominen el análisis."
      ]
    },
    {
      "cell_type": "markdown",
      "metadata": {
        "id": "gj8BTO_JcrcW"
      },
      "source": [
        "#### Elección de una Medida de Similitud:"
      ]
    },
    {
      "cell_type": "markdown",
      "metadata": {
        "id": "87tk59jicrcW"
      },
      "source": [
        "##### **Medidas**"
      ]
    },
    {
      "cell_type": "markdown",
      "metadata": {
        "id": "kaQeSWhMcrcX"
      },
      "source": [
        "La elección de la medida de similitud es crucial en el proceso de clustering. Algunas de las medidas más comunes incluyen:\n",
        "\n",
        "Para dos puntos $p$ y $q$ en un espacio $n$-dimensional con $p = (p_1, p_2, ..., p_n)$ y $q = (q_1, q_2, ..., q_n)$, tenemos las siguientes definiciones:\n",
        "\n",
        "- **Distancia Euclidiana**:\n",
        "  $$\n",
        "  d(p, q) = \\sqrt{\\sum_{i=1}^{n} (p_i - q_i)^2}\n",
        "  $$\n",
        "\n",
        "- **Distancia de Manhattan (L1)**:\n",
        "  $$\n",
        "  d(p, q) = \\sum_{i=1}^{n} |p_i - q_i|\n",
        "  $$\n",
        "\n",
        "- **Similitud del Coseno**:\n",
        "  $$\n",
        "  similitud(p, q) = \\frac{p \\cdot q}{\\|p\\| \\|q\\|}\n",
        "  $$\n",
        "\n",
        "- **Distancia de Mahalanobis**:\n",
        "  $$\n",
        "  d(p, q) = \\sqrt{(p - q)^T S^{-1} (p - q)}\n",
        "  $$\n",
        "  donde $S$ es la matriz de covarianza de los datos, lo que permite que esta medida tenga en cuenta la correlación entre las variables.\n",
        "\n",
        "\n",
        "- **Distancia de Jaccard**:\n",
        "  $$\n",
        "  J(A, B) = 1 - \\frac{|A \\cap B|}{|A \\cup B|}\n",
        "  $$\n",
        "  donde $A$ y $B$ son, por ejemplo, conjuntos de características de dos objetos.\n",
        "\n",
        "\n",
        "- **Distancia de Gower:**\n",
        "\n",
        "  La fórmula general para la similitud de Gower $ S_{ij} $ entre dos objetos $ i $ y $ j $ es:\n",
        "\n",
        "  $$\n",
        "  S_{ij} = \\frac{\\sum_{k=1}^{p} w_{ijk} s_{ijk}}{\\sum_{k=1}^{p} w_{ijk}}\n",
        "  $$\n",
        "\n",
        "  Donde:\n",
        "\n",
        "  - $ p $ es el número de variables.\n",
        "  - $ w_{ijk} $ es el peso asignado a la $ k $-ésima variable para los objetos $ i $ y $ j $, que puede ser 0 o 1 dependiendo de si la variable es aplicable o no a la comparación entre los dos objetos.\n",
        "  - $ s_{ijk} $ es la similitud calculada para la $ k $-ésima variable entre los objetos $ i $ y $ j $, normalmente escalada entre 0 (diferente) y 1 (idéntico).\n",
        "\n",
        "Entonces, dado una distancia transformamos nuestra matriz de datos $X_{n \\times p}$:\n",
        "\n",
        "$$\n",
        "X =\n",
        "\\begin{bmatrix}\n",
        "x_{11} & x_{12} & \\cdots & x_{1p} \\\\\n",
        "x_{21} & x_{22} & \\cdots & x_{2p} \\\\\n",
        "\\vdots & \\vdots & \\ddots & \\vdots \\\\\n",
        "x_{n1} & x_{n2} & \\cdots & x_{np}\n",
        "\\end{bmatrix}\n",
        "$$\n",
        "\n",
        "en una matriz de distancias o similaridades, $D_{n \\times n}$, entre los $n$ sujetos:\n",
        "\n",
        "$$\n",
        "D =\n",
        "\\begin{bmatrix}\n",
        "d_{11} & d_{12} & \\cdots & d_{1n} \\\\\n",
        "d_{21} & d_{22} & \\cdots & d_{2n} \\\\\n",
        "\\vdots & \\vdots & \\ddots & \\vdots \\\\\n",
        "d_{n1} & d_{n2} & \\cdots & d_{nn}\n",
        "\\end{bmatrix}\n",
        "$$"
      ]
    },
    {
      "cell_type": "markdown",
      "metadata": {
        "id": "Tmobt9mocrcX"
      },
      "source": [
        "##### **Ejemplos**"
      ]
    },
    {
      "cell_type": "markdown",
      "metadata": {
        "id": "MZH0gowxcrcY"
      },
      "source": [
        "**Distancia de Jaccard: Análisis de Semejanza de Texto**\n",
        "\n",
        "Supongamos que queremos comparar dos documentos de texto para determinar qué tan similares son en términos de las palabras que contienen. Convertimos cada documento en un conjunto de palabras únicas (después de eliminar la puntuación y convertir todo a minúsculas):"
      ]
    },
    {
      "cell_type": "code",
      "execution_count": null,
      "metadata": {
        "id": "KfaPcnzZcrcY"
      },
      "outputs": [],
      "source": [
        "set_A = {'el', 'gato', 'come', 'pescado'}\n",
        "set_B = {'el', 'perro', 'come'}"
      ]
    },
    {
      "cell_type": "markdown",
      "metadata": {
        "id": "BL-PQwdBcrcZ"
      },
      "source": [
        "La intersección de A y B es:"
      ]
    },
    {
      "cell_type": "code",
      "execution_count": null,
      "metadata": {
        "id": "PXhYPnkzcrcZ",
        "outputId": "77a4a8a7-9485-4e04-9b4b-5b11273d7d87"
      },
      "outputs": [
        {
          "data": {
            "text/plain": [
              "{'come', 'el'}"
            ]
          },
          "execution_count": 40,
          "metadata": {},
          "output_type": "execute_result"
        }
      ],
      "source": [
        "set_A.intersection(set_B)"
      ]
    },
    {
      "cell_type": "markdown",
      "metadata": {
        "id": "GG48H3HUcrcZ"
      },
      "source": [
        "y la unión es:"
      ]
    },
    {
      "cell_type": "code",
      "execution_count": null,
      "metadata": {
        "id": "zVOBNRQvcrcZ",
        "outputId": "bbf10526-0d95-4020-c641-1dc035156b8f"
      },
      "outputs": [
        {
          "data": {
            "text/plain": [
              "{'come', 'el', 'gato', 'perro', 'pescado'}"
            ]
          },
          "execution_count": 41,
          "metadata": {},
          "output_type": "execute_result"
        }
      ],
      "source": [
        "set_A.union(set_B)"
      ]
    },
    {
      "cell_type": "markdown",
      "metadata": {
        "id": "mfUr-ct2crca"
      },
      "source": [
        "La similitud de Jaccard sería $ J(A, B) = \\frac{2}{5} $, y la distancia de Jaccard sería $ d_J(A, B) = 1 - \\frac{2}{5} = \\frac{3}{5} $. Esto nos dice que los documentos son algo diferentes en términos de su contenido de palabras:"
      ]
    },
    {
      "cell_type": "code",
      "execution_count": null,
      "metadata": {
        "id": "GyBQR6Gicrca",
        "outputId": "ad80c53f-d546-4221-f3a7-949497633e08"
      },
      "outputs": [
        {
          "name": "stdout",
          "output_type": "stream",
          "text": [
            "0.6\n"
          ]
        }
      ],
      "source": [
        "jaccard_sim = len(set_A.intersection(set_B)) / len(set_A.union(set_B))\n",
        "jaccard_dist = 1 - jaccard_sim\n",
        "print(jaccard_dist)"
      ]
    },
    {
      "cell_type": "markdown",
      "metadata": {
        "id": "s5kcIrSZcrcb"
      },
      "source": [
        "**Distancia de Gower: Evaluación de Semejanza de Clientes**\n",
        "\n",
        "Supongamos que un negocio quiere segmentar a sus clientes basándose en múltiples características como edad (numérica), género (binaria), y categoría de compra preferida (categórica).\n",
        "\n",
        "- Cliente A: Edad 25, Género Hombre, Categoría Electrónicos\n",
        "- Cliente B: Edad 30, Género Femenino, Categoría Libros\n",
        "\n",
        "Usando la distancia de Gower, podemos normalizar las variables numéricas y codificar las categóricas para calcular una medida de similitud que tome en cuenta todas las dimensiones de los datos."
      ]
    },
    {
      "cell_type": "code",
      "execution_count": null,
      "metadata": {
        "id": "MF4HKRXicrcc",
        "outputId": "c0771749-061a-4185-894b-0b142664f803"
      },
      "outputs": [
        {
          "name": "stdout",
          "output_type": "stream",
          "text": [
            "0.7625\n"
          ]
        }
      ],
      "source": [
        "# gower.gower_matrix(np.asarray([cliente_A, cliente_B]))[0][1]\n",
        "# Supongamos que la edad se normaliza dividiendo por 100\n",
        "# Las variables categóricas se codifican como 0 o 1.\n",
        "#               Género: Masculino = 0, Femenino = 1\n",
        "#               Categoría: Electrónicos = (1, 0), Libros = (0, 1)\n",
        "cliente_A = np.array([25/100, 0, 1, 0])\n",
        "cliente_B = np.array([30/100, 1, 0, 1])\n",
        "\n",
        "gower_dist = np.mean(abs(cliente_A - cliente_B))\n",
        "print(gower_dist)"
      ]
    },
    {
      "cell_type": "markdown",
      "metadata": {
        "id": "fuTyE2N6crcc"
      },
      "source": [
        "- Cliente C: Edad 30, Género Hombre, Categoría Electrónicos"
      ]
    },
    {
      "cell_type": "code",
      "execution_count": null,
      "metadata": {
        "id": "1Z0p_kSPcrcd",
        "outputId": "1f328c49-971b-4e20-c847-fe786a8af628"
      },
      "outputs": [
        {
          "name": "stdout",
          "output_type": "stream",
          "text": [
            "0.012499999999999997\n"
          ]
        }
      ],
      "source": [
        "cliente_C = np.array([30/100, 0, 1, 0])\n",
        "\n",
        "gower_dist = np.mean(abs(cliente_A - cliente_C))\n",
        "print(gower_dist)"
      ]
    },
    {
      "cell_type": "markdown",
      "metadata": {
        "id": "firKC8i6crcd"
      },
      "source": [
        "**Distancia de Mahalanobis: Detección de Anomalías en Calificaciones Académicas**\n",
        "\n",
        "Imagina un grupo de estudiantes cuyas calificaciones en tres materias diferentes (Matemáticas, Ciencia, y Literatura) son evaluadas. La distancia de Mahalanobis puede usarse para identificar estudiantes cuyas calificaciones son anómalas en relación con el grupo general de estudiantes que se consideran \"normales\". Esto nos permitiría comprender, estudiantes muy brillantes, muy malos o que estarían cometiendo trampa."
      ]
    },
    {
      "cell_type": "code",
      "execution_count": null,
      "metadata": {
        "id": "jZGXghaqawAg",
        "outputId": "e214e9f4-5891-40ee-8163-d375313d671d"
      },
      "outputs": [
        {
          "data": {
            "text/html": [
              "<div>\n",
              "<style scoped>\n",
              "    .dataframe tbody tr th:only-of-type {\n",
              "        vertical-align: middle;\n",
              "    }\n",
              "\n",
              "    .dataframe tbody tr th {\n",
              "        vertical-align: top;\n",
              "    }\n",
              "\n",
              "    .dataframe thead th {\n",
              "        text-align: right;\n",
              "    }\n",
              "</style>\n",
              "<table border=\"1\" class=\"dataframe\">\n",
              "  <thead>\n",
              "    <tr style=\"text-align: right;\">\n",
              "      <th></th>\n",
              "      <th>Matematicas</th>\n",
              "      <th>Ciencia</th>\n",
              "      <th>Literatura</th>\n",
              "    </tr>\n",
              "  </thead>\n",
              "  <tbody>\n",
              "    <tr>\n",
              "      <th>0</th>\n",
              "      <td>85</td>\n",
              "      <td>88</td>\n",
              "      <td>82</td>\n",
              "    </tr>\n",
              "    <tr>\n",
              "      <th>1</th>\n",
              "      <td>78</td>\n",
              "      <td>85</td>\n",
              "      <td>80</td>\n",
              "    </tr>\n",
              "    <tr>\n",
              "      <th>2</th>\n",
              "      <td>92</td>\n",
              "      <td>91</td>\n",
              "      <td>85</td>\n",
              "    </tr>\n",
              "    <tr>\n",
              "      <th>3</th>\n",
              "      <td>75</td>\n",
              "      <td>79</td>\n",
              "      <td>75</td>\n",
              "    </tr>\n",
              "    <tr>\n",
              "      <th>4</th>\n",
              "      <td>83</td>\n",
              "      <td>84</td>\n",
              "      <td>81</td>\n",
              "    </tr>\n",
              "    <tr>\n",
              "      <th>5</th>\n",
              "      <td>95</td>\n",
              "      <td>94</td>\n",
              "      <td>92</td>\n",
              "    </tr>\n",
              "    <tr>\n",
              "      <th>6</th>\n",
              "      <td>88</td>\n",
              "      <td>90</td>\n",
              "      <td>87</td>\n",
              "    </tr>\n",
              "    <tr>\n",
              "      <th>7</th>\n",
              "      <td>72</td>\n",
              "      <td>73</td>\n",
              "      <td>78</td>\n",
              "    </tr>\n",
              "    <tr>\n",
              "      <th>8</th>\n",
              "      <td>90</td>\n",
              "      <td>89</td>\n",
              "      <td>84</td>\n",
              "    </tr>\n",
              "    <tr>\n",
              "      <th>9</th>\n",
              "      <td>85</td>\n",
              "      <td>86</td>\n",
              "      <td>83</td>\n",
              "    </tr>\n",
              "  </tbody>\n",
              "</table>\n",
              "</div>"
            ],
            "text/plain": [
              "   Matematicas  Ciencia  Literatura\n",
              "0           85       88          82\n",
              "1           78       85          80\n",
              "2           92       91          85\n",
              "3           75       79          75\n",
              "4           83       84          81\n",
              "5           95       94          92\n",
              "6           88       90          87\n",
              "7           72       73          78\n",
              "8           90       89          84\n",
              "9           85       86          83"
            ]
          },
          "execution_count": 56,
          "metadata": {},
          "output_type": "execute_result"
        }
      ],
      "source": [
        "# Datos de calificaciones de 10 estudiantes\n",
        "df_original = pd.DataFrame({\n",
        "    'Matematicas': [85, 78, 92, 75, 83, 95, 88, 72, 90, 85],\n",
        "    'Ciencia': [88, 85, 91, 79, 84, 94, 90, 73, 89, 86],\n",
        "    'Literatura': [82, 80, 85, 75, 81, 92, 87, 78, 84, 83]\n",
        "})\n",
        "\n",
        "df_original"
      ]
    },
    {
      "cell_type": "code",
      "execution_count": null,
      "metadata": {
        "id": "en1nF0kRawAh",
        "outputId": "cbe928d6-9cae-45c5-911e-711239b573a7"
      },
      "outputs": [
        {
          "name": "stdout",
          "output_type": "stream",
          "text": [
            "promedio:  [84.3 85.9 82.7]\n",
            "matriz cov: \n",
            " [[55.56666667 43.47777778 32.1       ]\n",
            " [43.47777778 37.87777778 25.18888889]\n",
            " [32.1        25.18888889 22.67777778]]\n"
          ]
        }
      ],
      "source": [
        "# Calcular la media y la matriz de covarianza con los puntos originales\n",
        "mean_vector_original = df_original.mean().values\n",
        "cov_matrix_original = np.cov(df_original.values.T)\n",
        "\n",
        "print(\"promedio: \",mean_vector_original)\n",
        "print(\"matriz cov: \\n\",cov_matrix_original)"
      ]
    },
    {
      "cell_type": "code",
      "execution_count": null,
      "metadata": {
        "id": "J198scUgawAh",
        "outputId": "e6030667-34a2-4f24-8889-ba20d4eb828c"
      },
      "outputs": [
        {
          "data": {
            "text/html": [
              "<div>\n",
              "<style scoped>\n",
              "    .dataframe tbody tr th:only-of-type {\n",
              "        vertical-align: middle;\n",
              "    }\n",
              "\n",
              "    .dataframe tbody tr th {\n",
              "        vertical-align: top;\n",
              "    }\n",
              "\n",
              "    .dataframe thead th {\n",
              "        text-align: right;\n",
              "    }\n",
              "</style>\n",
              "<table border=\"1\" class=\"dataframe\">\n",
              "  <thead>\n",
              "    <tr style=\"text-align: right;\">\n",
              "      <th></th>\n",
              "      <th>Matematicas</th>\n",
              "      <th>Ciencia</th>\n",
              "      <th>Literatura</th>\n",
              "    </tr>\n",
              "  </thead>\n",
              "  <tbody>\n",
              "    <tr>\n",
              "      <th>0</th>\n",
              "      <td>85.0</td>\n",
              "      <td>88.0</td>\n",
              "      <td>82</td>\n",
              "    </tr>\n",
              "    <tr>\n",
              "      <th>1</th>\n",
              "      <td>78.0</td>\n",
              "      <td>85.0</td>\n",
              "      <td>80</td>\n",
              "    </tr>\n",
              "    <tr>\n",
              "      <th>2</th>\n",
              "      <td>92.0</td>\n",
              "      <td>91.0</td>\n",
              "      <td>85</td>\n",
              "    </tr>\n",
              "    <tr>\n",
              "      <th>3</th>\n",
              "      <td>75.0</td>\n",
              "      <td>79.0</td>\n",
              "      <td>75</td>\n",
              "    </tr>\n",
              "    <tr>\n",
              "      <th>4</th>\n",
              "      <td>83.0</td>\n",
              "      <td>84.0</td>\n",
              "      <td>81</td>\n",
              "    </tr>\n",
              "    <tr>\n",
              "      <th>5</th>\n",
              "      <td>95.0</td>\n",
              "      <td>94.0</td>\n",
              "      <td>92</td>\n",
              "    </tr>\n",
              "    <tr>\n",
              "      <th>6</th>\n",
              "      <td>88.0</td>\n",
              "      <td>90.0</td>\n",
              "      <td>87</td>\n",
              "    </tr>\n",
              "    <tr>\n",
              "      <th>7</th>\n",
              "      <td>72.0</td>\n",
              "      <td>73.0</td>\n",
              "      <td>78</td>\n",
              "    </tr>\n",
              "    <tr>\n",
              "      <th>8</th>\n",
              "      <td>90.0</td>\n",
              "      <td>89.0</td>\n",
              "      <td>84</td>\n",
              "    </tr>\n",
              "    <tr>\n",
              "      <th>9</th>\n",
              "      <td>85.0</td>\n",
              "      <td>86.0</td>\n",
              "      <td>83</td>\n",
              "    </tr>\n",
              "    <tr>\n",
              "      <th>10</th>\n",
              "      <td>84.3</td>\n",
              "      <td>85.9</td>\n",
              "      <td>100</td>\n",
              "    </tr>\n",
              "  </tbody>\n",
              "</table>\n",
              "</div>"
            ],
            "text/plain": [
              "    Matematicas  Ciencia  Literatura\n",
              "0          85.0     88.0          82\n",
              "1          78.0     85.0          80\n",
              "2          92.0     91.0          85\n",
              "3          75.0     79.0          75\n",
              "4          83.0     84.0          81\n",
              "5          95.0     94.0          92\n",
              "6          88.0     90.0          87\n",
              "7          72.0     73.0          78\n",
              "8          90.0     89.0          84\n",
              "9          85.0     86.0          83\n",
              "10         84.3     85.9         100"
            ]
          },
          "execution_count": 58,
          "metadata": {},
          "output_type": "execute_result"
        }
      ],
      "source": [
        "# Llega un estudiante nuevo\n",
        "nuevo_punto = {'Matematicas': 84.3, 'Ciencia': 85.9, 'Literatura': 100}\n",
        "df_with_new = pd.concat([df_original, pd.DataFrame([nuevo_punto])], ignore_index=True)\n",
        "df_with_new"
      ]
    },
    {
      "cell_type": "code",
      "execution_count": null,
      "metadata": {
        "id": "BddPC62uawAh",
        "outputId": "cffd0fed-8f5e-41d3-f846-e235ba76bd4f"
      },
      "outputs": [
        {
          "data": {
            "text/plain": [
              "8.509944665237457"
            ]
          },
          "execution_count": 59,
          "metadata": {},
          "output_type": "execute_result"
        }
      ],
      "source": [
        "# Calcular la distancia de Mahalanobis del nuevo punto usando la matriz de covarianza original\n",
        "nuevo_punto_distance = distance.mahalanobis(df_with_new.iloc[-1].values, mean_vector_original, np.linalg.inv(cov_matrix_original))\n",
        "nuevo_punto_distance"
      ]
    },
    {
      "cell_type": "code",
      "execution_count": null,
      "metadata": {
        "id": "tS4zcdPVawAh",
        "outputId": "6d58af99-4324-4017-8665-561bac2213d2"
      },
      "outputs": [
        {
          "data": {
            "text/plain": [
              "0    0.971675\n",
              "1    2.258817\n",
              "2    1.545080\n",
              "3    1.706493\n",
              "4    0.665403\n",
              "5    2.107345\n",
              "6    1.315559\n",
              "7    2.641294\n",
              "8    1.414363\n",
              "9    0.250980\n",
              "dtype: float64"
            ]
          },
          "execution_count": 60,
          "metadata": {},
          "output_type": "execute_result"
        }
      ],
      "source": [
        "distances = df_original.apply(lambda row: distance.mahalanobis(row, mean_vector_original, np.linalg.inv(cov_matrix_original)), axis=1)\n",
        "distances"
      ]
    },
    {
      "cell_type": "code",
      "execution_count": null,
      "metadata": {
        "id": "wOGO4JFwawAh",
        "outputId": "2e1e013b-2d1f-4325-de2f-d02a3774b765"
      },
      "outputs": [
        {
          "data": {
            "text/plain": [
              "2.223111853856593"
            ]
          },
          "execution_count": 61,
          "metadata": {},
          "output_type": "execute_result"
        }
      ],
      "source": [
        "# Determinar si es atípico comparándolo con un umbral\n",
        "threshold = distances.mean() + distances.std()\n",
        "threshold"
      ]
    },
    {
      "cell_type": "code",
      "execution_count": null,
      "metadata": {
        "id": "6_ZP1VM2awAh",
        "outputId": "86b2ac5a-8fa5-44f6-f9f2-e913469d617d"
      },
      "outputs": [
        {
          "data": {
            "text/plain": [
              "Matematicas                 84.3\n",
              "Ciencia                     85.9\n",
              "Literatura                   100\n",
              "Mahalanobis_Distance    8.509945\n",
              "Es_Atipico                  True\n",
              "dtype: object"
            ]
          },
          "execution_count": 62,
          "metadata": {},
          "output_type": "execute_result"
        }
      ],
      "source": [
        "#Evaluación\n",
        "es_atipico = nuevo_punto_distance > threshold\n",
        "\n",
        "# Mostrar resultados\n",
        "nuevo_punto_con_resultado = pd.Series({\n",
        "    'Matematicas': nuevo_punto['Matematicas'],\n",
        "    'Ciencia': nuevo_punto['Ciencia'],\n",
        "    'Literatura': nuevo_punto['Literatura'],\n",
        "    'Mahalanobis_Distance': nuevo_punto_distance,\n",
        "    'Es_Atipico': es_atipico\n",
        "})\n",
        "\n",
        "nuevo_punto_con_resultado"
      ]
    },
    {
      "cell_type": "markdown",
      "metadata": {
        "id": "nLy-sV6Vcrce"
      },
      "source": [
        "**Distancia Euclidiana: Sistema de Recomendación**\n",
        "\n",
        "Considera un sistema de recomendación para una plataforma de streaming donde cada película está representada en un espacio de características basado en calificaciones en distintos géneros (acción, comedia, drama, etc.).\n",
        "\n",
        "- Película A: Acción 4.5, Comedia 2.0, Drama 3.0\n",
        "- Película B: Acción 4.0, Comedia 2.5, Drama 3.5"
      ]
    },
    {
      "cell_type": "code",
      "execution_count": null,
      "metadata": {
        "id": "G2uJuR9zcrcf",
        "outputId": "3b8cabd0-49e4-4e0d-9c17-07720ebb396a"
      },
      "outputs": [
        {
          "data": {
            "text/plain": [
              "0.8660254037844386"
            ]
          },
          "execution_count": 63,
          "metadata": {},
          "output_type": "execute_result"
        }
      ],
      "source": [
        "pelicula_A = np.array([4.5, 2.0, 3.0])\n",
        "pelicula_B = np.array([4.0, 2.5, 3.5])\n",
        "\n",
        "# Calculamos la distancia Euclidiana\n",
        "euclidean_dist = distance.euclidean(pelicula_A, pelicula_B)\n",
        "euclidean_dist"
      ]
    },
    {
      "cell_type": "code",
      "execution_count": null,
      "metadata": {
        "id": "Ep2aamG-awAh",
        "outputId": "3be18baf-f0d9-4d02-eb07-0926d91655f7"
      },
      "outputs": [
        {
          "data": {
            "text/plain": [
              "5.522680508593631"
            ]
          },
          "execution_count": 64,
          "metadata": {},
          "output_type": "execute_result"
        }
      ],
      "source": [
        "pelicula_C = np.array([0, 0, 0.5])\n",
        "\n",
        "# Calculamos la distancia Euclidiana\n",
        "euclidean_dist = distance.euclidean(pelicula_A, pelicula_C)\n",
        "euclidean_dist"
      ]
    },
    {
      "cell_type": "code",
      "execution_count": null,
      "metadata": {
        "id": "fZu3hZ2AawAm",
        "outputId": "8ef5d9fc-c67c-46bc-c9fa-df9eb82fe315"
      },
      "outputs": [
        {
          "data": {
            "text/plain": [
              "0.8660254037844386"
            ]
          },
          "execution_count": 65,
          "metadata": {},
          "output_type": "execute_result"
        }
      ],
      "source": [
        "# Calculamos la distancia Euclidiana\n",
        "euclidean_dist = distance.euclidean(pelicula_A, pelicula_B)\n",
        "euclidean_dist"
      ]
    },
    {
      "cell_type": "markdown",
      "metadata": {
        "id": "Nzk7na0scrcg"
      },
      "source": [
        "La distancia Euclidiana entre la película A y B nos puede ayudar a determinar qué tan similares son en términos de preferencia de género, lo cual puede ser útil para recomendar películas a los usuarios basándose en sus calificaciones anteriores."
      ]
    },
    {
      "cell_type": "markdown",
      "metadata": {
        "id": "eCa4T8HBcrcg"
      },
      "source": [
        "#### Métodos de Enlace (Linkage)"
      ]
    },
    {
      "cell_type": "markdown",
      "metadata": {
        "id": "ahQ4RFC0crch"
      },
      "source": [
        "Una vez definida la medida de similitud, se deben considerar métodos para determinar la distancia entre clusters. Definimos entonces **$C_i$** y **$C_j$** dos **clusters** o grupos:\n",
        "\n",
        "- **Enlace Simple**: La distancia entre dos clusters es igual a la distancia más corta de cualquier par de puntos en los clusters:\n",
        "  $$\n",
        "  D(C_i, C_j) = \\min\\{d(c_i, c_j): c_i \\in C_i, c_j \\in C_j\\}\n",
        "  $$\n",
        "\n",
        "\n",
        "- **Enlace Completo**: La distancia entre dos clusters es igual a la distancia más larga de cualquier par de puntos en los clusters:\n",
        "  $$\n",
        "  D(C_i, C_j) = \\max\\{d(c_i, c_j): c_i \\in C_i, c_j \\in C_j\\}\n",
        "  $$\n",
        "\n",
        "- **Enlace Promedio**: La distancia entre dos clusters es el promedio de las distancias entre todos los pares de puntos en los clusters:\n",
        "  $$\n",
        "  D(C_i, C_j) = \\frac{1}{|C_i||C_j|}\\sum_{c_i \\in C_i}\\sum_{c_j \\in C_j} d(c_i, c_j)\n",
        "  $$\n",
        "\n",
        "- **Enlace del Centroide**: La distancia entre dos clusters se mide como la distancia entre los centroides de los clusters:\n",
        "  $$\n",
        "  D(C_i, C_j) = d(\\text{centroide}(C_i), \\text{centroide}(C_j))\n",
        "  $$\n",
        "  donde el centroide de un cluster $C$ con puntos $c_1, c_2, ..., c_m$ es $ \\text{centroide}(C) = \\frac{1}{m}\\sum_{i=1}^{m} c_i $.\n",
        "\n",
        "- **Enlace de Ward**: Este enfoque busca minimizar la varianza total dentro del cluster. La distancia entre dos clusters se calcula de tal manera que la varianza dentro de los clusters aumenta lo menos posible después de la fusión. La distancia entre dos clusters $A$ y $B$ según el criterio de Ward se puede calcular como:\n",
        "\n",
        "  $$\n",
        "  \\Delta E(i,j) = \\frac{|C_i||C_j|}{|C_i| + |C_j|} \\cdot ||\\mathbf{\\mu}_i - \\mathbf{\\mu}_j||^2\n",
        "  $$\n",
        "\n",
        "    donde:\n",
        "    \n",
        "     - **$\\mathbf{\\mu}_i$ y $\\mathbf{\\mu}_j$** son los **vectores de medias** de los grupos $C_i$ y $C_j$ respectivamente.\n",
        "\n",
        "<div style=\"text-align:center\">\n",
        "  <img src=\"../docs/figures/linkage-vs.png\" alt=\"enlaces\">\n",
        "</div>"
      ]
    },
    {
      "cell_type": "markdown",
      "metadata": {
        "id": "eVpx1jeccrch"
      },
      "source": [
        "#### Algoritmo de Conglomerado Jerárquico"
      ]
    },
    {
      "cell_type": "markdown",
      "metadata": {
        "id": "RYg5jFbxcrci"
      },
      "source": [
        "1. Comenzar tratando cada punto de datos como un cluster.\n",
        "2. Calcular la matriz de distancias entre todos los pares de clusters. Tomemos como ejemplo:\n",
        "\n",
        "      $$\n",
        "      \\begin{array}{cccc}\n",
        "      & 1 & 2 & 3 & 4 & 5 & \\\\\n",
        "      1 & 0 & 9 & 3 & 6 & 11 & \\\\\n",
        "      2 & 9 & 0 & 7 & 5 & 10 & \\\\\n",
        "      3 & 3 & 7 & 0 & 9 & 2 & \\\\\n",
        "      4 & 6 & 5 & 9 & 0 & 8 & \\\\\n",
        "      5 & 11 & 10 & 2 & 8 & 0 & \\\\\n",
        "      \\end{array}\n",
        "      $$\n",
        "\n",
        "3. Fusionar los dos clusters más cercanos basándose en el método de enlace seleccionado.\n",
        "\n",
        "      Las observaciones que se unen inicialmente, son $(3, 5)$, que se unen a altura $2$. Una vez que se obtiene este clúster, hay que calcular su distancia al resto de los elementos, utilizando el enlace promedio por ejemplo:   \n",
        "\n",
        "      $$\n",
        "      \\begin{align*}\n",
        "      d\\{\\left(3,5\\right), 1\\} = \\frac{1}{2} \\left[d\\{\\left(3,1\\right)\\} + d\\{\\left(5,1\\right)\\}\\right] = \\frac{1}{2}\\left(3 + 11\\right) = 7 \\\\\n",
        "      d\\{\\left(3,5\\right), 2\\} = \\frac{1}{2} \\left[d\\{\\left(3,2\\right)\\} + d\\{\\left(5,2\\right)\\}\\right] = \\frac{1}{2}\\left(7 + 10\\right) = 8.5 \\\\\n",
        "      d\\{\\left(3,5\\right), 4\\} = \\frac{1}{2} \\left[d\\{\\left(3,4\\right)\\} + d\\{\\left(5,4\\right)\\}\\right] = \\frac{1}{2}\\left(9 + 8\\right) = 8.5\n",
        "      \\end{align*}\n",
        "      $$\n",
        "\n",
        "      Y la correspondiente matriz queda:\n",
        "      \n",
        "      $$\n",
        "      \\begin{array}{cccc}\n",
        "      & (3,5) & 1 & 2 & 4 \\\\\n",
        "      (3,5) & 0 & 7 & 8.5 & 8.5 \\\\\n",
        "      1 & 7 & 0 & 9 & 6 \\\\\n",
        "      2 & 8.5 & 9 & 0 & 5 \\\\\n",
        "      4 & 8.5 & 6 & 5 & 0 \\\\\n",
        "      \\end{array}\n",
        "      $$\n",
        "\n",
        "      La distancia mínima en esta matriz corresponde a las observaciones $(2, 4)$, que forman un nuevo grupo, que se une a altura $=5$. Nuevamente debemos calcular la distancia entre estos clusters mediante la liga promedio.\n",
        "\n",
        "      $$\n",
        "      \\begin{align*}\n",
        "      d\\left(\\{3,5\\}, \\{2,4\\}\\right) = \\frac{1}{4}\\left[d\\left(\\{3,2\\}\\right) + d\\left(\\{5,2\\}\\right) + d\\left(\\{3,4\\}\\right) + d\\left(\\{5,4\\}\\right)\\right] = \\frac{1}{4}(7 + 9 + 10 + 8) = 8.5 \\\\\n",
        "      d\\left(\\{3,5\\}, 1\\right) = \\frac{1}{2}\\left[d\\left(\\{3,1\\}\\right) + d\\left(\\{5,1\\}\\right)\\right] = \\frac{1}{2}(3 + 11) = 7 \\\\\n",
        "      d\\left(\\{2,4\\}, 1\\right) = \\frac{1}{2}\\left[d\\left(\\{2,1\\}\\right) + d\\left(\\{4,1\\}\\right)\\right] = \\frac{1}{2}(9 + 6) = 7.5\n",
        "      \\end{align*}\n",
        "      $$\n",
        "\n",
        "      Que genera la matriz de distancias:\n",
        "\n",
        "      $$\n",
        "      \\begin{array}{cccc}\n",
        "      & (3,5) & 1 & (2,4) \\\\\n",
        "      (3,5) & 0 & 7 & 8.5 \\\\\n",
        "      1 & 7 & 0 & 7.5 \\\\\n",
        "      (2,4) & 8.5 & 7.5 & 0 \\\\\n",
        "      \\end{array}\n",
        "      $$\n",
        "\n",
        "4. Actualizar la matriz de distancias para reflejar la distancia entre el nuevo cluster y los clusters existentes.\n",
        "5. Repetir los pasos 3 y 4 hasta que todos los puntos de datos estén en un solo cluster.\n",
        "\n",
        "      Cuya distancia mínima es $7$ y corresponde a la unión de los grupos $(3, 5)$ y $1$, que originan el grupo $(1, 3, 5)$. La distancia entre estos grupos es:\n",
        "\n",
        "      $$\n",
        "      \\begin{align*}\n",
        "      d(\\{1,3,5\\}, \\{2,4\\}) &= \\frac{1}{6} [d(1,2) + d(3,2) + d(5,2) + d(1,4) + d(3,4) + d(5,4)] \\\\\n",
        "      &= \\frac{1}{6} [9 + 7 + 9 + 6 + 10 + 8] \\\\\n",
        "      &= 8.166\n",
        "      \\end{align*}\n",
        "      $$\n",
        "      \n",
        "      Que obtiene la matriz:\n",
        "\n",
        "      $$\n",
        "      \\begin{array}{cccc}\n",
        "      & (1,3,5) & (2,4) \\\\\n",
        "      (1,3,5) & 0 & 8.166 \\\\\n",
        "      (2,4) & 8.166 & 0 \\\\\n",
        "      \\end{array}\n",
        "      $$\n",
        "\n",
        "      Entonces, la distancia final a la que se unen todos los grupos es 8.166. Observe que los grupos y las distancias a las que se unen, coinciden con la gráfica correspondiente a esta distancia promedio.\n",
        "      \n",
        "6. Representación Visual: Dendrograma"
      ]
    },
    {
      "cell_type": "markdown",
      "metadata": {
        "id": "NWo-ZixTcrcj"
      },
      "source": [
        "#### Aplicaciónes y Limitaciones"
      ]
    },
    {
      "cell_type": "markdown",
      "metadata": {
        "id": "1x0PmmeIcrck"
      },
      "source": [
        "<p style=\"font-size:25px;\">Aplicaciones</p>\n",
        "\n",
        "1. Biología Computacional y Genómica\n",
        "2. Análisis de Redes Sociales\n",
        "3. Segmentación de Clientes\n",
        "4. Análisis de Documentos y Textos\n",
        "\n",
        "\n",
        "<p style=\"font-size:25px;\">Ventajas</p>\n",
        "\n",
        "1. No requiere la especificación del número de clusters\n",
        "2. Facilita la interpretación mediante dendrogramas\n",
        "3. Detecta clusters con formas no esféricas\n",
        "4. Útil para datos a pequeña escala y análisis exploratorio\n",
        "5. Sensible a la estructura de los datos\n",
        "6. Robusto a variaciones en los datos\n",
        "\n",
        "\n",
        "<p style=\"font-size:25px;\">Limitaciones</p>\n",
        "\n",
        "1. Complejidad Computacional\n",
        "2. Difícil de Escalar para Grandes Conjuntos de Datos\n",
        "3. Sensibilidad a Outliers\n",
        "4. Decisión de Corte del Dendrograma\n",
        "5. Elección del Método de Enlace"
      ]
    },
    {
      "cell_type": "markdown",
      "metadata": {
        "id": "pGHDG6wkcrck"
      },
      "source": [
        "### Ejemplo Práctico"
      ]
    },
    {
      "cell_type": "markdown",
      "metadata": {
        "id": "4UHk8TOKcrck"
      },
      "source": [
        "#### Preparación de los Datos"
      ]
    },
    {
      "cell_type": "markdown",
      "metadata": {
        "id": "OBnwfpIscrcl"
      },
      "source": [
        "**Objetivo**\n",
        "\n",
        "El objetivo es categorizar los países utilizando factores socioeconómicos y de salud que determinen el desarrollo general del país.\n",
        "\n",
        "**Acerca de la organización**\n",
        "\n",
        "**HELP International** es una ONG humanitaria internacional comprometida con la lucha contra la pobreza y con proporcionar a las personas de países atrasados las comodidades básicas y alivio durante desastres naturales y calamidades.\n",
        "\n",
        "**Planteamiento del problema**\n",
        "\n",
        "HELP International ha logrado recaudar alrededor de **$10 millones**. Ahora, el CEO de la ONG necesita decidir cómo utilizar este dinero de manera estratégica y efectiva. Por lo tanto, el CEO debe tomar la decisión de elegir los países que necesitan más urgentemente ayuda."
      ]
    },
    {
      "cell_type": "code",
      "execution_count": null,
      "metadata": {
        "id": "bZy1LLd4crcl"
      },
      "outputs": [],
      "source": [
        "# Carga y diccionario del conjunto de datos\n",
        "df, dc = pd.read_pickle('../data/help_ong.pkl')"
      ]
    },
    {
      "cell_type": "code",
      "execution_count": null,
      "metadata": {
        "id": "6RWED9Okcrcl",
        "outputId": "28ae1bd3-64a6-4404-8329-f23bc0022a7f"
      },
      "outputs": [
        {
          "data": {
            "text/html": [
              "<div>\n",
              "<style scoped>\n",
              "    .dataframe tbody tr th:only-of-type {\n",
              "        vertical-align: middle;\n",
              "    }\n",
              "\n",
              "    .dataframe tbody tr th {\n",
              "        vertical-align: top;\n",
              "    }\n",
              "\n",
              "    .dataframe thead th {\n",
              "        text-align: right;\n",
              "    }\n",
              "</style>\n",
              "<table border=\"1\" class=\"dataframe\">\n",
              "  <thead>\n",
              "    <tr style=\"text-align: right;\">\n",
              "      <th></th>\n",
              "      <th>Column Name</th>\n",
              "      <th>Description</th>\n",
              "    </tr>\n",
              "  </thead>\n",
              "  <tbody>\n",
              "    <tr>\n",
              "      <th>0</th>\n",
              "      <td>country</td>\n",
              "      <td>Name of the country</td>\n",
              "    </tr>\n",
              "    <tr>\n",
              "      <th>1</th>\n",
              "      <td>child_mort</td>\n",
              "      <td>Death of children under 5 years of age per 1000 live births</td>\n",
              "    </tr>\n",
              "    <tr>\n",
              "      <th>2</th>\n",
              "      <td>exports</td>\n",
              "      <td>Exports of goods and services per capita. Given as %age of the GDP per capita</td>\n",
              "    </tr>\n",
              "    <tr>\n",
              "      <th>3</th>\n",
              "      <td>health</td>\n",
              "      <td>Total health spending per capita. Given as %age of GDP per capita</td>\n",
              "    </tr>\n",
              "    <tr>\n",
              "      <th>4</th>\n",
              "      <td>imports</td>\n",
              "      <td>Imports of goods and services per capita. Given as %age of the GDP per capita</td>\n",
              "    </tr>\n",
              "    <tr>\n",
              "      <th>5</th>\n",
              "      <td>Income</td>\n",
              "      <td>Net income per person</td>\n",
              "    </tr>\n",
              "    <tr>\n",
              "      <th>6</th>\n",
              "      <td>Inflation</td>\n",
              "      <td>The measurement of the annual growth rate of the Total GDP</td>\n",
              "    </tr>\n",
              "    <tr>\n",
              "      <th>7</th>\n",
              "      <td>life_expec</td>\n",
              "      <td>The average number of years a new born child would live if the current mortality patterns are to remain the same</td>\n",
              "    </tr>\n",
              "    <tr>\n",
              "      <th>8</th>\n",
              "      <td>total_fer</td>\n",
              "      <td>The number of children that would be born to each woman if the current age-fertility rates remain the same.</td>\n",
              "    </tr>\n",
              "    <tr>\n",
              "      <th>9</th>\n",
              "      <td>gdpp</td>\n",
              "      <td>The GDP per capita. Calculated as the Total GDP divided by the total population.</td>\n",
              "    </tr>\n",
              "  </tbody>\n",
              "</table>\n",
              "</div>"
            ],
            "text/plain": [
              "  Column Name  \\\n",
              "0     country   \n",
              "1  child_mort   \n",
              "2     exports   \n",
              "3      health   \n",
              "4     imports   \n",
              "5      Income   \n",
              "6   Inflation   \n",
              "7  life_expec   \n",
              "8   total_fer   \n",
              "9        gdpp   \n",
              "\n",
              "                                                                                                        Description  \n",
              "0                                                                                               Name of the country  \n",
              "1                                                       Death of children under 5 years of age per 1000 live births  \n",
              "2                                     Exports of goods and services per capita. Given as %age of the GDP per capita  \n",
              "3                                                 Total health spending per capita. Given as %age of GDP per capita  \n",
              "4                                     Imports of goods and services per capita. Given as %age of the GDP per capita  \n",
              "5                                                                                             Net income per person  \n",
              "6                                                        The measurement of the annual growth rate of the Total GDP  \n",
              "7  The average number of years a new born child would live if the current mortality patterns are to remain the same  \n",
              "8       The number of children that would be born to each woman if the current age-fertility rates remain the same.  \n",
              "9                                  The GDP per capita. Calculated as the Total GDP divided by the total population.  "
            ]
          },
          "execution_count": 67,
          "metadata": {},
          "output_type": "execute_result"
        }
      ],
      "source": [
        "pd.set_option('display.max_colwidth', None)\n",
        "dc"
      ]
    },
    {
      "cell_type": "code",
      "execution_count": null,
      "metadata": {
        "id": "ct1aLq7-crcm"
      },
      "outputs": [],
      "source": [
        "df = df.set_index(['country'])"
      ]
    },
    {
      "cell_type": "code",
      "execution_count": null,
      "metadata": {
        "id": "Y7dJsZDLcrcn",
        "outputId": "2aeb6220-12c3-405d-980a-242b5624e0f4"
      },
      "outputs": [
        {
          "data": {
            "text/html": [
              "<div>\n",
              "<style scoped>\n",
              "    .dataframe tbody tr th:only-of-type {\n",
              "        vertical-align: middle;\n",
              "    }\n",
              "\n",
              "    .dataframe tbody tr th {\n",
              "        vertical-align: top;\n",
              "    }\n",
              "\n",
              "    .dataframe thead th {\n",
              "        text-align: right;\n",
              "    }\n",
              "</style>\n",
              "<table border=\"1\" class=\"dataframe\">\n",
              "  <thead>\n",
              "    <tr style=\"text-align: right;\">\n",
              "      <th></th>\n",
              "      <th>child_mort</th>\n",
              "      <th>exports</th>\n",
              "      <th>health</th>\n",
              "      <th>imports</th>\n",
              "      <th>income</th>\n",
              "      <th>inflation</th>\n",
              "      <th>life_expec</th>\n",
              "      <th>total_fer</th>\n",
              "      <th>gdpp</th>\n",
              "    </tr>\n",
              "    <tr>\n",
              "      <th>country</th>\n",
              "      <th></th>\n",
              "      <th></th>\n",
              "      <th></th>\n",
              "      <th></th>\n",
              "      <th></th>\n",
              "      <th></th>\n",
              "      <th></th>\n",
              "      <th></th>\n",
              "      <th></th>\n",
              "    </tr>\n",
              "  </thead>\n",
              "  <tbody>\n",
              "    <tr>\n",
              "      <th>Yemen</th>\n",
              "      <td>56.3</td>\n",
              "      <td>30.0</td>\n",
              "      <td>5.18</td>\n",
              "      <td>34.4</td>\n",
              "      <td>4480</td>\n",
              "      <td>23.600</td>\n",
              "      <td>67.5</td>\n",
              "      <td>4.67</td>\n",
              "      <td>1310</td>\n",
              "    </tr>\n",
              "    <tr>\n",
              "      <th>Indonesia</th>\n",
              "      <td>33.3</td>\n",
              "      <td>24.3</td>\n",
              "      <td>2.61</td>\n",
              "      <td>22.4</td>\n",
              "      <td>8430</td>\n",
              "      <td>15.300</td>\n",
              "      <td>69.9</td>\n",
              "      <td>2.48</td>\n",
              "      <td>3110</td>\n",
              "    </tr>\n",
              "    <tr>\n",
              "      <th>Mauritania</th>\n",
              "      <td>97.4</td>\n",
              "      <td>50.7</td>\n",
              "      <td>4.41</td>\n",
              "      <td>61.2</td>\n",
              "      <td>3320</td>\n",
              "      <td>18.900</td>\n",
              "      <td>68.2</td>\n",
              "      <td>4.98</td>\n",
              "      <td>1200</td>\n",
              "    </tr>\n",
              "    <tr>\n",
              "      <th>Malawi</th>\n",
              "      <td>90.5</td>\n",
              "      <td>22.8</td>\n",
              "      <td>6.59</td>\n",
              "      <td>34.9</td>\n",
              "      <td>1030</td>\n",
              "      <td>12.100</td>\n",
              "      <td>53.1</td>\n",
              "      <td>5.31</td>\n",
              "      <td>459</td>\n",
              "    </tr>\n",
              "    <tr>\n",
              "      <th>Belgium</th>\n",
              "      <td>4.5</td>\n",
              "      <td>76.4</td>\n",
              "      <td>10.70</td>\n",
              "      <td>74.7</td>\n",
              "      <td>41100</td>\n",
              "      <td>1.880</td>\n",
              "      <td>80.0</td>\n",
              "      <td>1.86</td>\n",
              "      <td>44400</td>\n",
              "    </tr>\n",
              "    <tr>\n",
              "      <th>Serbia</th>\n",
              "      <td>7.6</td>\n",
              "      <td>32.9</td>\n",
              "      <td>10.40</td>\n",
              "      <td>47.9</td>\n",
              "      <td>12700</td>\n",
              "      <td>5.880</td>\n",
              "      <td>74.7</td>\n",
              "      <td>1.40</td>\n",
              "      <td>5410</td>\n",
              "    </tr>\n",
              "    <tr>\n",
              "      <th>Congo, Rep.</th>\n",
              "      <td>63.9</td>\n",
              "      <td>85.1</td>\n",
              "      <td>2.46</td>\n",
              "      <td>54.7</td>\n",
              "      <td>5190</td>\n",
              "      <td>20.700</td>\n",
              "      <td>60.4</td>\n",
              "      <td>4.95</td>\n",
              "      <td>2740</td>\n",
              "    </tr>\n",
              "    <tr>\n",
              "      <th>Chile</th>\n",
              "      <td>8.7</td>\n",
              "      <td>37.7</td>\n",
              "      <td>7.96</td>\n",
              "      <td>31.3</td>\n",
              "      <td>19400</td>\n",
              "      <td>8.960</td>\n",
              "      <td>79.1</td>\n",
              "      <td>1.88</td>\n",
              "      <td>12900</td>\n",
              "    </tr>\n",
              "    <tr>\n",
              "      <th>Armenia</th>\n",
              "      <td>18.1</td>\n",
              "      <td>20.8</td>\n",
              "      <td>4.40</td>\n",
              "      <td>45.3</td>\n",
              "      <td>6700</td>\n",
              "      <td>7.770</td>\n",
              "      <td>73.3</td>\n",
              "      <td>1.69</td>\n",
              "      <td>3220</td>\n",
              "    </tr>\n",
              "    <tr>\n",
              "      <th>Morocco</th>\n",
              "      <td>33.5</td>\n",
              "      <td>32.2</td>\n",
              "      <td>5.20</td>\n",
              "      <td>43.0</td>\n",
              "      <td>6440</td>\n",
              "      <td>0.976</td>\n",
              "      <td>73.5</td>\n",
              "      <td>2.58</td>\n",
              "      <td>2830</td>\n",
              "    </tr>\n",
              "  </tbody>\n",
              "</table>\n",
              "</div>"
            ],
            "text/plain": [
              "             child_mort  exports  health  imports  income  inflation  \\\n",
              "country                                                                \n",
              "Yemen              56.3     30.0    5.18     34.4    4480     23.600   \n",
              "Indonesia          33.3     24.3    2.61     22.4    8430     15.300   \n",
              "Mauritania         97.4     50.7    4.41     61.2    3320     18.900   \n",
              "Malawi             90.5     22.8    6.59     34.9    1030     12.100   \n",
              "Belgium             4.5     76.4   10.70     74.7   41100      1.880   \n",
              "Serbia              7.6     32.9   10.40     47.9   12700      5.880   \n",
              "Congo, Rep.        63.9     85.1    2.46     54.7    5190     20.700   \n",
              "Chile               8.7     37.7    7.96     31.3   19400      8.960   \n",
              "Armenia            18.1     20.8    4.40     45.3    6700      7.770   \n",
              "Morocco            33.5     32.2    5.20     43.0    6440      0.976   \n",
              "\n",
              "             life_expec  total_fer   gdpp  \n",
              "country                                    \n",
              "Yemen              67.5       4.67   1310  \n",
              "Indonesia          69.9       2.48   3110  \n",
              "Mauritania         68.2       4.98   1200  \n",
              "Malawi             53.1       5.31    459  \n",
              "Belgium            80.0       1.86  44400  \n",
              "Serbia             74.7       1.40   5410  \n",
              "Congo, Rep.        60.4       4.95   2740  \n",
              "Chile              79.1       1.88  12900  \n",
              "Armenia            73.3       1.69   3220  \n",
              "Morocco            73.5       2.58   2830  "
            ]
          },
          "execution_count": 69,
          "metadata": {},
          "output_type": "execute_result"
        }
      ],
      "source": [
        "df.sample(10)"
      ]
    },
    {
      "cell_type": "code",
      "execution_count": null,
      "metadata": {
        "id": "FLcHJdklcrcn",
        "outputId": "efd0ea0f-39fe-485a-e6de-902ae36bd057"
      },
      "outputs": [
        {
          "data": {
            "text/html": [
              "<div>\n",
              "<style scoped>\n",
              "    .dataframe tbody tr th:only-of-type {\n",
              "        vertical-align: middle;\n",
              "    }\n",
              "\n",
              "    .dataframe tbody tr th {\n",
              "        vertical-align: top;\n",
              "    }\n",
              "\n",
              "    .dataframe thead th {\n",
              "        text-align: right;\n",
              "    }\n",
              "</style>\n",
              "<table border=\"1\" class=\"dataframe\">\n",
              "  <thead>\n",
              "    <tr style=\"text-align: right;\">\n",
              "      <th></th>\n",
              "      <th>child_mort</th>\n",
              "      <th>exports</th>\n",
              "      <th>health</th>\n",
              "      <th>imports</th>\n",
              "      <th>income</th>\n",
              "      <th>inflation</th>\n",
              "      <th>life_expec</th>\n",
              "      <th>total_fer</th>\n",
              "      <th>gdpp</th>\n",
              "    </tr>\n",
              "  </thead>\n",
              "  <tbody>\n",
              "    <tr>\n",
              "      <th>count</th>\n",
              "      <td>167.000000</td>\n",
              "      <td>167.000000</td>\n",
              "      <td>167.000000</td>\n",
              "      <td>167.000000</td>\n",
              "      <td>167.000000</td>\n",
              "      <td>167.000000</td>\n",
              "      <td>167.000000</td>\n",
              "      <td>167.000000</td>\n",
              "      <td>167.000000</td>\n",
              "    </tr>\n",
              "    <tr>\n",
              "      <th>mean</th>\n",
              "      <td>38.270060</td>\n",
              "      <td>41.108976</td>\n",
              "      <td>6.815689</td>\n",
              "      <td>46.890215</td>\n",
              "      <td>17144.688623</td>\n",
              "      <td>7.781832</td>\n",
              "      <td>70.555689</td>\n",
              "      <td>2.947964</td>\n",
              "      <td>12964.155689</td>\n",
              "    </tr>\n",
              "    <tr>\n",
              "      <th>std</th>\n",
              "      <td>40.328931</td>\n",
              "      <td>27.412010</td>\n",
              "      <td>2.746837</td>\n",
              "      <td>24.209589</td>\n",
              "      <td>19278.067698</td>\n",
              "      <td>10.570704</td>\n",
              "      <td>8.893172</td>\n",
              "      <td>1.513848</td>\n",
              "      <td>18328.704809</td>\n",
              "    </tr>\n",
              "    <tr>\n",
              "      <th>min</th>\n",
              "      <td>2.600000</td>\n",
              "      <td>0.109000</td>\n",
              "      <td>1.810000</td>\n",
              "      <td>0.065900</td>\n",
              "      <td>609.000000</td>\n",
              "      <td>-4.210000</td>\n",
              "      <td>32.100000</td>\n",
              "      <td>1.150000</td>\n",
              "      <td>231.000000</td>\n",
              "    </tr>\n",
              "    <tr>\n",
              "      <th>25%</th>\n",
              "      <td>8.250000</td>\n",
              "      <td>23.800000</td>\n",
              "      <td>4.920000</td>\n",
              "      <td>30.200000</td>\n",
              "      <td>3355.000000</td>\n",
              "      <td>1.810000</td>\n",
              "      <td>65.300000</td>\n",
              "      <td>1.795000</td>\n",
              "      <td>1330.000000</td>\n",
              "    </tr>\n",
              "    <tr>\n",
              "      <th>50%</th>\n",
              "      <td>19.300000</td>\n",
              "      <td>35.000000</td>\n",
              "      <td>6.320000</td>\n",
              "      <td>43.300000</td>\n",
              "      <td>9960.000000</td>\n",
              "      <td>5.390000</td>\n",
              "      <td>73.100000</td>\n",
              "      <td>2.410000</td>\n",
              "      <td>4660.000000</td>\n",
              "    </tr>\n",
              "    <tr>\n",
              "      <th>75%</th>\n",
              "      <td>62.100000</td>\n",
              "      <td>51.350000</td>\n",
              "      <td>8.600000</td>\n",
              "      <td>58.750000</td>\n",
              "      <td>22800.000000</td>\n",
              "      <td>10.750000</td>\n",
              "      <td>76.800000</td>\n",
              "      <td>3.880000</td>\n",
              "      <td>14050.000000</td>\n",
              "    </tr>\n",
              "    <tr>\n",
              "      <th>max</th>\n",
              "      <td>208.000000</td>\n",
              "      <td>200.000000</td>\n",
              "      <td>17.900000</td>\n",
              "      <td>174.000000</td>\n",
              "      <td>125000.000000</td>\n",
              "      <td>104.000000</td>\n",
              "      <td>82.800000</td>\n",
              "      <td>7.490000</td>\n",
              "      <td>105000.000000</td>\n",
              "    </tr>\n",
              "  </tbody>\n",
              "</table>\n",
              "</div>"
            ],
            "text/plain": [
              "       child_mort     exports      health     imports         income  \\\n",
              "count  167.000000  167.000000  167.000000  167.000000     167.000000   \n",
              "mean    38.270060   41.108976    6.815689   46.890215   17144.688623   \n",
              "std     40.328931   27.412010    2.746837   24.209589   19278.067698   \n",
              "min      2.600000    0.109000    1.810000    0.065900     609.000000   \n",
              "25%      8.250000   23.800000    4.920000   30.200000    3355.000000   \n",
              "50%     19.300000   35.000000    6.320000   43.300000    9960.000000   \n",
              "75%     62.100000   51.350000    8.600000   58.750000   22800.000000   \n",
              "max    208.000000  200.000000   17.900000  174.000000  125000.000000   \n",
              "\n",
              "        inflation  life_expec   total_fer           gdpp  \n",
              "count  167.000000  167.000000  167.000000     167.000000  \n",
              "mean     7.781832   70.555689    2.947964   12964.155689  \n",
              "std     10.570704    8.893172    1.513848   18328.704809  \n",
              "min     -4.210000   32.100000    1.150000     231.000000  \n",
              "25%      1.810000   65.300000    1.795000    1330.000000  \n",
              "50%      5.390000   73.100000    2.410000    4660.000000  \n",
              "75%     10.750000   76.800000    3.880000   14050.000000  \n",
              "max    104.000000   82.800000    7.490000  105000.000000  "
            ]
          },
          "execution_count": 70,
          "metadata": {},
          "output_type": "execute_result"
        }
      ],
      "source": [
        "df.describe()"
      ]
    },
    {
      "cell_type": "markdown",
      "metadata": {
        "id": "JmyFKJkNcrco"
      },
      "source": [
        "Dado la diferencia en escala estandarizamos nuestros datos:"
      ]
    },
    {
      "cell_type": "code",
      "execution_count": null,
      "metadata": {
        "id": "Y8CTPVm6crco",
        "outputId": "41a915b5-859a-458c-ef48-4c79d2210b70"
      },
      "outputs": [
        {
          "data": {
            "text/plain": [
              "(child_mort   -0.0\n",
              " exports       0.0\n",
              " health        0.0\n",
              " imports       0.0\n",
              " income       -0.0\n",
              " inflation    -0.0\n",
              " life_expec    0.0\n",
              " total_fer     0.0\n",
              " gdpp          0.0\n",
              " dtype: float64,\n",
              " child_mort    1.0\n",
              " exports       1.0\n",
              " health        1.0\n",
              " imports       1.0\n",
              " income        1.0\n",
              " inflation     1.0\n",
              " life_expec    1.0\n",
              " total_fer     1.0\n",
              " gdpp          1.0\n",
              " dtype: float64)"
            ]
          },
          "execution_count": 71,
          "metadata": {},
          "output_type": "execute_result"
        }
      ],
      "source": [
        "scaler = StandardScaler()\n",
        "\n",
        "# Seleccionar las columnas a estandarizar\n",
        "X = scaler.fit_transform(df)\n",
        "X.mean().round(), X.std().round()"
      ]
    },
    {
      "cell_type": "markdown",
      "metadata": {
        "id": "gRdPtvCgcrcp"
      },
      "source": [
        "#### Implementación del Método"
      ]
    },
    {
      "cell_type": "markdown",
      "metadata": {
        "id": "NK4yIj5Acrcp"
      },
      "source": [
        "Principales parámetros de Clustering Jerárquico Aglomerativo:\n",
        "```python\n",
        "AgglomerativeClustering(\n",
        "    n_clusters=2,\n",
        "    metric='euclidean',\n",
        "    linkage='ward',\n",
        "    distance_threshold=None,\n",
        ")"
      ]
    },
    {
      "cell_type": "markdown",
      "metadata": {
        "id": "_HNGZ5sacrcq"
      },
      "source": [
        "#### Visualización e Implementación de Resultados"
      ]
    },
    {
      "cell_type": "code",
      "execution_count": null,
      "metadata": {
        "id": "KkO1vbQecrcq"
      },
      "outputs": [],
      "source": [
        "# Utilizaremos el linkage 'ward' por defecto para el análisis preliminar\n",
        "linked = linkage(X, method='ward')\n",
        "\n",
        "# Calcular el coeficiente de silueta para diferentes números de clusters\n",
        "silhouette_scores = []\n",
        "range_n_clusters = range(3, 10)  # Exploraremos de 3 a 10 clusters\n",
        "\n",
        "for n_clusters in range_n_clusters:\n",
        "    clusterer = AgglomerativeClustering(n_clusters=n_clusters, metric='euclidean', linkage='ward')\n",
        "    cluster_labels = clusterer.fit_predict(X)\n",
        "    silhouette_avg = silhouette_score(X, cluster_labels)\n",
        "    silhouette_scores.append(silhouette_avg)"
      ]
    },
    {
      "cell_type": "code",
      "execution_count": null,
      "metadata": {
        "id": "1U2GgdjIcrcr",
        "outputId": "85ee06bc-9d29-44d7-a821-d41f309673b7"
      },
      "outputs": [
        {
          "data": {
            "application/vnd.plotly.v1+json": {
              "config": {
                "plotlyServerURL": "https://plot.ly"
              },
              "data": [
                {
                  "hoverinfo": "text",
                  "marker": {
                    "color": "rgb(61,153,112)"
                  },
                  "mode": "lines",
                  "type": "scatter",
                  "x": [
                    15,
                    15,
                    25,
                    25
                  ],
                  "xaxis": "x",
                  "y": [
                    0,
                    3.735651227120542,
                    3.735651227120542,
                    0
                  ],
                  "yaxis": "y"
                },
                {
                  "hoverinfo": "text",
                  "marker": {
                    "color": "rgb(61,153,112)"
                  },
                  "mode": "lines",
                  "type": "scatter",
                  "x": [
                    5,
                    5,
                    20,
                    20
                  ],
                  "xaxis": "x",
                  "y": [
                    0,
                    5.295714031550921,
                    5.295714031550921,
                    3.735651227120542
                  ],
                  "yaxis": "y"
                },
                {
                  "hoverinfo": "text",
                  "marker": {
                    "color": "rgb(61,153,112)"
                  },
                  "mode": "lines",
                  "type": "scatter",
                  "x": [
                    45,
                    45,
                    55,
                    55
                  ],
                  "xaxis": "x",
                  "y": [
                    0,
                    0.9043133222810316,
                    0.9043133222810316,
                    0
                  ],
                  "yaxis": "y"
                },
                {
                  "hoverinfo": "text",
                  "marker": {
                    "color": "rgb(61,153,112)"
                  },
                  "mode": "lines",
                  "type": "scatter",
                  "x": [
                    65,
                    65,
                    75,
                    75
                  ],
                  "xaxis": "x",
                  "y": [
                    0,
                    1.170366807936496,
                    1.170366807936496,
                    0
                  ],
                  "yaxis": "y"
                },
                {
                  "hoverinfo": "text",
                  "marker": {
                    "color": "rgb(61,153,112)"
                  },
                  "mode": "lines",
                  "type": "scatter",
                  "x": [
                    50,
                    50,
                    70,
                    70
                  ],
                  "xaxis": "x",
                  "y": [
                    0.9043133222810316,
                    1.517794864382205,
                    1.517794864382205,
                    1.170366807936496
                  ],
                  "yaxis": "y"
                },
                {
                  "hoverinfo": "text",
                  "marker": {
                    "color": "rgb(61,153,112)"
                  },
                  "mode": "lines",
                  "type": "scatter",
                  "x": [
                    95,
                    95,
                    105,
                    105
                  ],
                  "xaxis": "x",
                  "y": [
                    0,
                    0.6884151430402413,
                    0.6884151430402413,
                    0
                  ],
                  "yaxis": "y"
                },
                {
                  "hoverinfo": "text",
                  "marker": {
                    "color": "rgb(61,153,112)"
                  },
                  "mode": "lines",
                  "type": "scatter",
                  "x": [
                    85,
                    85,
                    100,
                    100
                  ],
                  "xaxis": "x",
                  "y": [
                    0,
                    2.1516957939151364,
                    2.1516957939151364,
                    0.6884151430402413
                  ],
                  "yaxis": "y"
                },
                {
                  "hoverinfo": "text",
                  "marker": {
                    "color": "rgb(61,153,112)"
                  },
                  "mode": "lines",
                  "type": "scatter",
                  "x": [
                    60,
                    60,
                    92.5,
                    92.5
                  ],
                  "xaxis": "x",
                  "y": [
                    1.517794864382205,
                    3.7007490509132013,
                    3.7007490509132013,
                    2.1516957939151364
                  ],
                  "yaxis": "y"
                },
                {
                  "hoverinfo": "text",
                  "marker": {
                    "color": "rgb(61,153,112)"
                  },
                  "mode": "lines",
                  "type": "scatter",
                  "x": [
                    35,
                    35,
                    76.25,
                    76.25
                  ],
                  "xaxis": "x",
                  "y": [
                    0,
                    6.101323321758105,
                    6.101323321758105,
                    3.7007490509132013
                  ],
                  "yaxis": "y"
                },
                {
                  "hoverinfo": "text",
                  "marker": {
                    "color": "rgb(61,153,112)"
                  },
                  "mode": "lines",
                  "type": "scatter",
                  "x": [
                    125,
                    125,
                    135,
                    135
                  ],
                  "xaxis": "x",
                  "y": [
                    0,
                    0.7771931590498599,
                    0.7771931590498599,
                    0
                  ],
                  "yaxis": "y"
                },
                {
                  "hoverinfo": "text",
                  "marker": {
                    "color": "rgb(61,153,112)"
                  },
                  "mode": "lines",
                  "type": "scatter",
                  "x": [
                    115,
                    115,
                    130,
                    130
                  ],
                  "xaxis": "x",
                  "y": [
                    0,
                    1.808623952683962,
                    1.808623952683962,
                    0.7771931590498599
                  ],
                  "yaxis": "y"
                },
                {
                  "hoverinfo": "text",
                  "marker": {
                    "color": "rgb(61,153,112)"
                  },
                  "mode": "lines",
                  "type": "scatter",
                  "x": [
                    145,
                    145,
                    155,
                    155
                  ],
                  "xaxis": "x",
                  "y": [
                    0,
                    1.8502656644019186,
                    1.8502656644019186,
                    0
                  ],
                  "yaxis": "y"
                },
                {
                  "hoverinfo": "text",
                  "marker": {
                    "color": "rgb(61,153,112)"
                  },
                  "mode": "lines",
                  "type": "scatter",
                  "x": [
                    122.5,
                    122.5,
                    150,
                    150
                  ],
                  "xaxis": "x",
                  "y": [
                    1.808623952683962,
                    4.219764907114704,
                    4.219764907114704,
                    1.8502656644019186
                  ],
                  "yaxis": "y"
                },
                {
                  "hoverinfo": "text",
                  "marker": {
                    "color": "rgb(61,153,112)"
                  },
                  "mode": "lines",
                  "type": "scatter",
                  "x": [
                    185,
                    185,
                    195,
                    195
                  ],
                  "xaxis": "x",
                  "y": [
                    0,
                    0.5687993804893992,
                    0.5687993804893992,
                    0
                  ],
                  "yaxis": "y"
                },
                {
                  "hoverinfo": "text",
                  "marker": {
                    "color": "rgb(61,153,112)"
                  },
                  "mode": "lines",
                  "type": "scatter",
                  "x": [
                    175,
                    175,
                    190,
                    190
                  ],
                  "xaxis": "x",
                  "y": [
                    0,
                    0.9155511476996105,
                    0.9155511476996105,
                    0.5687993804893992
                  ],
                  "yaxis": "y"
                },
                {
                  "hoverinfo": "text",
                  "marker": {
                    "color": "rgb(61,153,112)"
                  },
                  "mode": "lines",
                  "type": "scatter",
                  "x": [
                    215,
                    215,
                    225,
                    225
                  ],
                  "xaxis": "x",
                  "y": [
                    0,
                    0.6747847700403249,
                    0.6747847700403249,
                    0
                  ],
                  "yaxis": "y"
                },
                {
                  "hoverinfo": "text",
                  "marker": {
                    "color": "rgb(61,153,112)"
                  },
                  "mode": "lines",
                  "type": "scatter",
                  "x": [
                    205,
                    205,
                    220,
                    220
                  ],
                  "xaxis": "x",
                  "y": [
                    0,
                    0.9960527679965081,
                    0.9960527679965081,
                    0.6747847700403249
                  ],
                  "yaxis": "y"
                },
                {
                  "hoverinfo": "text",
                  "marker": {
                    "color": "rgb(61,153,112)"
                  },
                  "mode": "lines",
                  "type": "scatter",
                  "x": [
                    182.5,
                    182.5,
                    212.5,
                    212.5
                  ],
                  "xaxis": "x",
                  "y": [
                    0.9155511476996105,
                    1.4355619156755377,
                    1.4355619156755377,
                    0.9960527679965081
                  ],
                  "yaxis": "y"
                },
                {
                  "hoverinfo": "text",
                  "marker": {
                    "color": "rgb(61,153,112)"
                  },
                  "mode": "lines",
                  "type": "scatter",
                  "x": [
                    235,
                    235,
                    245,
                    245
                  ],
                  "xaxis": "x",
                  "y": [
                    0,
                    0.5903199604385481,
                    0.5903199604385481,
                    0
                  ],
                  "yaxis": "y"
                },
                {
                  "hoverinfo": "text",
                  "marker": {
                    "color": "rgb(61,153,112)"
                  },
                  "mode": "lines",
                  "type": "scatter",
                  "x": [
                    255,
                    255,
                    265,
                    265
                  ],
                  "xaxis": "x",
                  "y": [
                    0,
                    0.8186827704817732,
                    0.8186827704817732,
                    0
                  ],
                  "yaxis": "y"
                },
                {
                  "hoverinfo": "text",
                  "marker": {
                    "color": "rgb(61,153,112)"
                  },
                  "mode": "lines",
                  "type": "scatter",
                  "x": [
                    240,
                    240,
                    260,
                    260
                  ],
                  "xaxis": "x",
                  "y": [
                    0.5903199604385481,
                    1.6519134185277855,
                    1.6519134185277855,
                    0.8186827704817732
                  ],
                  "yaxis": "y"
                },
                {
                  "hoverinfo": "text",
                  "marker": {
                    "color": "rgb(61,153,112)"
                  },
                  "mode": "lines",
                  "type": "scatter",
                  "x": [
                    285,
                    285,
                    295,
                    295
                  ],
                  "xaxis": "x",
                  "y": [
                    0,
                    0.5441051612061506,
                    0.5441051612061506,
                    0
                  ],
                  "yaxis": "y"
                },
                {
                  "hoverinfo": "text",
                  "marker": {
                    "color": "rgb(61,153,112)"
                  },
                  "mode": "lines",
                  "type": "scatter",
                  "x": [
                    305,
                    305,
                    315,
                    315
                  ],
                  "xaxis": "x",
                  "y": [
                    0,
                    0.34593962628364383,
                    0.34593962628364383,
                    0
                  ],
                  "yaxis": "y"
                },
                {
                  "hoverinfo": "text",
                  "marker": {
                    "color": "rgb(61,153,112)"
                  },
                  "mode": "lines",
                  "type": "scatter",
                  "x": [
                    325,
                    325,
                    335,
                    335
                  ],
                  "xaxis": "x",
                  "y": [
                    0,
                    0.49433037946473385,
                    0.49433037946473385,
                    0
                  ],
                  "yaxis": "y"
                },
                {
                  "hoverinfo": "text",
                  "marker": {
                    "color": "rgb(61,153,112)"
                  },
                  "mode": "lines",
                  "type": "scatter",
                  "x": [
                    310,
                    310,
                    330,
                    330
                  ],
                  "xaxis": "x",
                  "y": [
                    0.34593962628364383,
                    0.7999555250872901,
                    0.7999555250872901,
                    0.49433037946473385
                  ],
                  "yaxis": "y"
                },
                {
                  "hoverinfo": "text",
                  "marker": {
                    "color": "rgb(61,153,112)"
                  },
                  "mode": "lines",
                  "type": "scatter",
                  "x": [
                    290,
                    290,
                    320,
                    320
                  ],
                  "xaxis": "x",
                  "y": [
                    0.5441051612061506,
                    1.3200987253103162,
                    1.3200987253103162,
                    0.7999555250872901
                  ],
                  "yaxis": "y"
                },
                {
                  "hoverinfo": "text",
                  "marker": {
                    "color": "rgb(61,153,112)"
                  },
                  "mode": "lines",
                  "type": "scatter",
                  "x": [
                    275,
                    275,
                    305,
                    305
                  ],
                  "xaxis": "x",
                  "y": [
                    0,
                    1.7309206494375862,
                    1.7309206494375862,
                    1.3200987253103162
                  ],
                  "yaxis": "y"
                },
                {
                  "hoverinfo": "text",
                  "marker": {
                    "color": "rgb(61,153,112)"
                  },
                  "mode": "lines",
                  "type": "scatter",
                  "x": [
                    250,
                    250,
                    290,
                    290
                  ],
                  "xaxis": "x",
                  "y": [
                    1.6519134185277855,
                    2.2433233606135548,
                    2.2433233606135548,
                    1.7309206494375862
                  ],
                  "yaxis": "y"
                },
                {
                  "hoverinfo": "text",
                  "marker": {
                    "color": "rgb(61,153,112)"
                  },
                  "mode": "lines",
                  "type": "scatter",
                  "x": [
                    197.5,
                    197.5,
                    270,
                    270
                  ],
                  "xaxis": "x",
                  "y": [
                    1.4355619156755377,
                    3.364907985777204,
                    3.364907985777204,
                    2.2433233606135548
                  ],
                  "yaxis": "y"
                },
                {
                  "hoverinfo": "text",
                  "marker": {
                    "color": "rgb(61,153,112)"
                  },
                  "mode": "lines",
                  "type": "scatter",
                  "x": [
                    165,
                    165,
                    233.75,
                    233.75
                  ],
                  "xaxis": "x",
                  "y": [
                    0,
                    4.337811962776958,
                    4.337811962776958,
                    3.364907985777204
                  ],
                  "yaxis": "y"
                },
                {
                  "hoverinfo": "text",
                  "marker": {
                    "color": "rgb(61,153,112)"
                  },
                  "mode": "lines",
                  "type": "scatter",
                  "x": [
                    136.25,
                    136.25,
                    199.375,
                    199.375
                  ],
                  "xaxis": "x",
                  "y": [
                    4.219764907114704,
                    6.336779657864536,
                    6.336779657864536,
                    4.337811962776958
                  ],
                  "yaxis": "y"
                },
                {
                  "hoverinfo": "text",
                  "marker": {
                    "color": "rgb(61,153,112)"
                  },
                  "mode": "lines",
                  "type": "scatter",
                  "x": [
                    55.625,
                    55.625,
                    167.8125,
                    167.8125
                  ],
                  "xaxis": "x",
                  "y": [
                    6.101323321758105,
                    11.481412847927357,
                    11.481412847927357,
                    6.336779657864536
                  ],
                  "yaxis": "y"
                },
                {
                  "hoverinfo": "text",
                  "marker": {
                    "color": "rgb(61,153,112)"
                  },
                  "mode": "lines",
                  "type": "scatter",
                  "x": [
                    12.5,
                    12.5,
                    111.71875,
                    111.71875
                  ],
                  "xaxis": "x",
                  "y": [
                    5.295714031550921,
                    16.289646261006837,
                    16.289646261006837,
                    11.481412847927357
                  ],
                  "yaxis": "y"
                },
                {
                  "hoverinfo": "text",
                  "marker": {
                    "color": "rgb(255,65,54)"
                  },
                  "mode": "lines",
                  "type": "scatter",
                  "x": [
                    385,
                    385,
                    395,
                    395
                  ],
                  "xaxis": "x",
                  "y": [
                    0,
                    0.9555438039180308,
                    0.9555438039180308,
                    0
                  ],
                  "yaxis": "y"
                },
                {
                  "hoverinfo": "text",
                  "marker": {
                    "color": "rgb(255,65,54)"
                  },
                  "mode": "lines",
                  "type": "scatter",
                  "x": [
                    405,
                    405,
                    415,
                    415
                  ],
                  "xaxis": "x",
                  "y": [
                    0,
                    0.9946353096955459,
                    0.9946353096955459,
                    0
                  ],
                  "yaxis": "y"
                },
                {
                  "hoverinfo": "text",
                  "marker": {
                    "color": "rgb(255,65,54)"
                  },
                  "mode": "lines",
                  "type": "scatter",
                  "x": [
                    390,
                    390,
                    410,
                    410
                  ],
                  "xaxis": "x",
                  "y": [
                    0.9555438039180308,
                    1.4163913353921693,
                    1.4163913353921693,
                    0.9946353096955459
                  ],
                  "yaxis": "y"
                },
                {
                  "hoverinfo": "text",
                  "marker": {
                    "color": "rgb(255,65,54)"
                  },
                  "mode": "lines",
                  "type": "scatter",
                  "x": [
                    375,
                    375,
                    400,
                    400
                  ],
                  "xaxis": "x",
                  "y": [
                    0,
                    1.8942767538970353,
                    1.8942767538970353,
                    1.4163913353921693
                  ],
                  "yaxis": "y"
                },
                {
                  "hoverinfo": "text",
                  "marker": {
                    "color": "rgb(255,65,54)"
                  },
                  "mode": "lines",
                  "type": "scatter",
                  "x": [
                    365,
                    365,
                    387.5,
                    387.5
                  ],
                  "xaxis": "x",
                  "y": [
                    0,
                    2.2747726707423506,
                    2.2747726707423506,
                    1.8942767538970353
                  ],
                  "yaxis": "y"
                },
                {
                  "hoverinfo": "text",
                  "marker": {
                    "color": "rgb(255,65,54)"
                  },
                  "mode": "lines",
                  "type": "scatter",
                  "x": [
                    355,
                    355,
                    376.25,
                    376.25
                  ],
                  "xaxis": "x",
                  "y": [
                    0,
                    3.231634337219302,
                    3.231634337219302,
                    2.2747726707423506
                  ],
                  "yaxis": "y"
                },
                {
                  "hoverinfo": "text",
                  "marker": {
                    "color": "rgb(255,65,54)"
                  },
                  "mode": "lines",
                  "type": "scatter",
                  "x": [
                    425,
                    425,
                    435,
                    435
                  ],
                  "xaxis": "x",
                  "y": [
                    0,
                    0.8870575264016088,
                    0.8870575264016088,
                    0
                  ],
                  "yaxis": "y"
                },
                {
                  "hoverinfo": "text",
                  "marker": {
                    "color": "rgb(255,65,54)"
                  },
                  "mode": "lines",
                  "type": "scatter",
                  "x": [
                    455,
                    455,
                    465,
                    465
                  ],
                  "xaxis": "x",
                  "y": [
                    0,
                    0.6275312747806466,
                    0.6275312747806466,
                    0
                  ],
                  "yaxis": "y"
                },
                {
                  "hoverinfo": "text",
                  "marker": {
                    "color": "rgb(255,65,54)"
                  },
                  "mode": "lines",
                  "type": "scatter",
                  "x": [
                    445,
                    445,
                    460,
                    460
                  ],
                  "xaxis": "x",
                  "y": [
                    0,
                    1.016547853643405,
                    1.016547853643405,
                    0.6275312747806466
                  ],
                  "yaxis": "y"
                },
                {
                  "hoverinfo": "text",
                  "marker": {
                    "color": "rgb(255,65,54)"
                  },
                  "mode": "lines",
                  "type": "scatter",
                  "x": [
                    430,
                    430,
                    452.5,
                    452.5
                  ],
                  "xaxis": "x",
                  "y": [
                    0.8870575264016088,
                    1.3586392241047835,
                    1.3586392241047835,
                    1.016547853643405
                  ],
                  "yaxis": "y"
                },
                {
                  "hoverinfo": "text",
                  "marker": {
                    "color": "rgb(255,65,54)"
                  },
                  "mode": "lines",
                  "type": "scatter",
                  "x": [
                    485,
                    485,
                    495,
                    495
                  ],
                  "xaxis": "x",
                  "y": [
                    0,
                    0.7914112832859375,
                    0.7914112832859375,
                    0
                  ],
                  "yaxis": "y"
                },
                {
                  "hoverinfo": "text",
                  "marker": {
                    "color": "rgb(255,65,54)"
                  },
                  "mode": "lines",
                  "type": "scatter",
                  "x": [
                    475,
                    475,
                    490,
                    490
                  ],
                  "xaxis": "x",
                  "y": [
                    0,
                    2.004714776517836,
                    2.004714776517836,
                    0.7914112832859375
                  ],
                  "yaxis": "y"
                },
                {
                  "hoverinfo": "text",
                  "marker": {
                    "color": "rgb(255,65,54)"
                  },
                  "mode": "lines",
                  "type": "scatter",
                  "x": [
                    441.25,
                    441.25,
                    482.5,
                    482.5
                  ],
                  "xaxis": "x",
                  "y": [
                    1.3586392241047835,
                    2.025216031088743,
                    2.025216031088743,
                    2.004714776517836
                  ],
                  "yaxis": "y"
                },
                {
                  "hoverinfo": "text",
                  "marker": {
                    "color": "rgb(255,65,54)"
                  },
                  "mode": "lines",
                  "type": "scatter",
                  "x": [
                    525,
                    525,
                    535,
                    535
                  ],
                  "xaxis": "x",
                  "y": [
                    0,
                    0.6817515024435791,
                    0.6817515024435791,
                    0
                  ],
                  "yaxis": "y"
                },
                {
                  "hoverinfo": "text",
                  "marker": {
                    "color": "rgb(255,65,54)"
                  },
                  "mode": "lines",
                  "type": "scatter",
                  "x": [
                    515,
                    515,
                    530,
                    530
                  ],
                  "xaxis": "x",
                  "y": [
                    0,
                    1.1828546229516697,
                    1.1828546229516697,
                    0.6817515024435791
                  ],
                  "yaxis": "y"
                },
                {
                  "hoverinfo": "text",
                  "marker": {
                    "color": "rgb(255,65,54)"
                  },
                  "mode": "lines",
                  "type": "scatter",
                  "x": [
                    555,
                    555,
                    565,
                    565
                  ],
                  "xaxis": "x",
                  "y": [
                    0,
                    0.8366136025169926,
                    0.8366136025169926,
                    0
                  ],
                  "yaxis": "y"
                },
                {
                  "hoverinfo": "text",
                  "marker": {
                    "color": "rgb(255,65,54)"
                  },
                  "mode": "lines",
                  "type": "scatter",
                  "x": [
                    545,
                    545,
                    560,
                    560
                  ],
                  "xaxis": "x",
                  "y": [
                    0,
                    1.208420887322603,
                    1.208420887322603,
                    0.8366136025169926
                  ],
                  "yaxis": "y"
                },
                {
                  "hoverinfo": "text",
                  "marker": {
                    "color": "rgb(255,65,54)"
                  },
                  "mode": "lines",
                  "type": "scatter",
                  "x": [
                    522.5,
                    522.5,
                    552.5,
                    552.5
                  ],
                  "xaxis": "x",
                  "y": [
                    1.1828546229516697,
                    1.766318580622039,
                    1.766318580622039,
                    1.208420887322603
                  ],
                  "yaxis": "y"
                },
                {
                  "hoverinfo": "text",
                  "marker": {
                    "color": "rgb(255,65,54)"
                  },
                  "mode": "lines",
                  "type": "scatter",
                  "x": [
                    505,
                    505,
                    537.5,
                    537.5
                  ],
                  "xaxis": "x",
                  "y": [
                    0,
                    2.2161399154283696,
                    2.2161399154283696,
                    1.766318580622039
                  ],
                  "yaxis": "y"
                },
                {
                  "hoverinfo": "text",
                  "marker": {
                    "color": "rgb(255,65,54)"
                  },
                  "mode": "lines",
                  "type": "scatter",
                  "x": [
                    595,
                    595,
                    605,
                    605
                  ],
                  "xaxis": "x",
                  "y": [
                    0,
                    0.8167607488792794,
                    0.8167607488792794,
                    0
                  ],
                  "yaxis": "y"
                },
                {
                  "hoverinfo": "text",
                  "marker": {
                    "color": "rgb(255,65,54)"
                  },
                  "mode": "lines",
                  "type": "scatter",
                  "x": [
                    585,
                    585,
                    600,
                    600
                  ],
                  "xaxis": "x",
                  "y": [
                    0,
                    1.1428655810350632,
                    1.1428655810350632,
                    0.8167607488792794
                  ],
                  "yaxis": "y"
                },
                {
                  "hoverinfo": "text",
                  "marker": {
                    "color": "rgb(255,65,54)"
                  },
                  "mode": "lines",
                  "type": "scatter",
                  "x": [
                    575,
                    575,
                    592.5,
                    592.5
                  ],
                  "xaxis": "x",
                  "y": [
                    0,
                    2.3609562147730236,
                    2.3609562147730236,
                    1.1428655810350632
                  ],
                  "yaxis": "y"
                },
                {
                  "hoverinfo": "text",
                  "marker": {
                    "color": "rgb(255,65,54)"
                  },
                  "mode": "lines",
                  "type": "scatter",
                  "x": [
                    521.25,
                    521.25,
                    583.75,
                    583.75
                  ],
                  "xaxis": "x",
                  "y": [
                    2.2161399154283696,
                    3.536217113392962,
                    3.536217113392962,
                    2.3609562147730236
                  ],
                  "yaxis": "y"
                },
                {
                  "hoverinfo": "text",
                  "marker": {
                    "color": "rgb(255,65,54)"
                  },
                  "mode": "lines",
                  "type": "scatter",
                  "x": [
                    461.875,
                    461.875,
                    552.5,
                    552.5
                  ],
                  "xaxis": "x",
                  "y": [
                    2.025216031088743,
                    4.0710675834599375,
                    4.0710675834599375,
                    3.536217113392962
                  ],
                  "yaxis": "y"
                },
                {
                  "hoverinfo": "text",
                  "marker": {
                    "color": "rgb(255,65,54)"
                  },
                  "mode": "lines",
                  "type": "scatter",
                  "x": [
                    365.625,
                    365.625,
                    507.1875,
                    507.1875
                  ],
                  "xaxis": "x",
                  "y": [
                    3.231634337219302,
                    5.280727549838165,
                    5.280727549838165,
                    4.0710675834599375
                  ],
                  "yaxis": "y"
                },
                {
                  "hoverinfo": "text",
                  "marker": {
                    "color": "rgb(255,65,54)"
                  },
                  "mode": "lines",
                  "type": "scatter",
                  "x": [
                    345,
                    345,
                    436.40625,
                    436.40625
                  ],
                  "xaxis": "x",
                  "y": [
                    0,
                    6.072723209366381,
                    6.072723209366381,
                    5.280727549838165
                  ],
                  "yaxis": "y"
                },
                {
                  "hoverinfo": "text",
                  "marker": {
                    "color": "rgb(35,205,205)"
                  },
                  "mode": "lines",
                  "type": "scatter",
                  "x": [
                    635,
                    635,
                    645,
                    645
                  ],
                  "xaxis": "x",
                  "y": [
                    0,
                    1.2456480477266465,
                    1.2456480477266465,
                    0
                  ],
                  "yaxis": "y"
                },
                {
                  "hoverinfo": "text",
                  "marker": {
                    "color": "rgb(35,205,205)"
                  },
                  "mode": "lines",
                  "type": "scatter",
                  "x": [
                    625,
                    625,
                    640,
                    640
                  ],
                  "xaxis": "x",
                  "y": [
                    0,
                    1.8508316760800472,
                    1.8508316760800472,
                    1.2456480477266465
                  ],
                  "yaxis": "y"
                },
                {
                  "hoverinfo": "text",
                  "marker": {
                    "color": "rgb(35,205,205)"
                  },
                  "mode": "lines",
                  "type": "scatter",
                  "x": [
                    615,
                    615,
                    632.5,
                    632.5
                  ],
                  "xaxis": "x",
                  "y": [
                    0,
                    2.8813956823086415,
                    2.8813956823086415,
                    1.8508316760800472
                  ],
                  "yaxis": "y"
                },
                {
                  "hoverinfo": "text",
                  "marker": {
                    "color": "rgb(35,205,205)"
                  },
                  "mode": "lines",
                  "type": "scatter",
                  "x": [
                    665,
                    665,
                    675,
                    675
                  ],
                  "xaxis": "x",
                  "y": [
                    0,
                    1.0359566670107423,
                    1.0359566670107423,
                    0
                  ],
                  "yaxis": "y"
                },
                {
                  "hoverinfo": "text",
                  "marker": {
                    "color": "rgb(35,205,205)"
                  },
                  "mode": "lines",
                  "type": "scatter",
                  "x": [
                    655,
                    655,
                    670,
                    670
                  ],
                  "xaxis": "x",
                  "y": [
                    0,
                    1.7937351448723033,
                    1.7937351448723033,
                    1.0359566670107423
                  ],
                  "yaxis": "y"
                },
                {
                  "hoverinfo": "text",
                  "marker": {
                    "color": "rgb(35,205,205)"
                  },
                  "mode": "lines",
                  "type": "scatter",
                  "x": [
                    705,
                    705,
                    715,
                    715
                  ],
                  "xaxis": "x",
                  "y": [
                    0,
                    0.7227852247272459,
                    0.7227852247272459,
                    0
                  ],
                  "yaxis": "y"
                },
                {
                  "hoverinfo": "text",
                  "marker": {
                    "color": "rgb(35,205,205)"
                  },
                  "mode": "lines",
                  "type": "scatter",
                  "x": [
                    695,
                    695,
                    710,
                    710
                  ],
                  "xaxis": "x",
                  "y": [
                    0,
                    0.907564283736408,
                    0.907564283736408,
                    0.7227852247272459
                  ],
                  "yaxis": "y"
                },
                {
                  "hoverinfo": "text",
                  "marker": {
                    "color": "rgb(35,205,205)"
                  },
                  "mode": "lines",
                  "type": "scatter",
                  "x": [
                    735,
                    735,
                    745,
                    745
                  ],
                  "xaxis": "x",
                  "y": [
                    0,
                    0.7370634961590443,
                    0.7370634961590443,
                    0
                  ],
                  "yaxis": "y"
                },
                {
                  "hoverinfo": "text",
                  "marker": {
                    "color": "rgb(35,205,205)"
                  },
                  "mode": "lines",
                  "type": "scatter",
                  "x": [
                    725,
                    725,
                    740,
                    740
                  ],
                  "xaxis": "x",
                  "y": [
                    0,
                    1.063471589475089,
                    1.063471589475089,
                    0.7370634961590443
                  ],
                  "yaxis": "y"
                },
                {
                  "hoverinfo": "text",
                  "marker": {
                    "color": "rgb(35,205,205)"
                  },
                  "mode": "lines",
                  "type": "scatter",
                  "x": [
                    702.5,
                    702.5,
                    732.5,
                    732.5
                  ],
                  "xaxis": "x",
                  "y": [
                    0.907564283736408,
                    1.7403332643272087,
                    1.7403332643272087,
                    1.063471589475089
                  ],
                  "yaxis": "y"
                },
                {
                  "hoverinfo": "text",
                  "marker": {
                    "color": "rgb(35,205,205)"
                  },
                  "mode": "lines",
                  "type": "scatter",
                  "x": [
                    685,
                    685,
                    717.5,
                    717.5
                  ],
                  "xaxis": "x",
                  "y": [
                    0,
                    2.2046202438603553,
                    2.2046202438603553,
                    1.7403332643272087
                  ],
                  "yaxis": "y"
                },
                {
                  "hoverinfo": "text",
                  "marker": {
                    "color": "rgb(35,205,205)"
                  },
                  "mode": "lines",
                  "type": "scatter",
                  "x": [
                    662.5,
                    662.5,
                    701.25,
                    701.25
                  ],
                  "xaxis": "x",
                  "y": [
                    1.7937351448723033,
                    3.6973315190486016,
                    3.6973315190486016,
                    2.2046202438603553
                  ],
                  "yaxis": "y"
                },
                {
                  "hoverinfo": "text",
                  "marker": {
                    "color": "rgb(35,205,205)"
                  },
                  "mode": "lines",
                  "type": "scatter",
                  "x": [
                    623.75,
                    623.75,
                    681.875,
                    681.875
                  ],
                  "xaxis": "x",
                  "y": [
                    2.8813956823086415,
                    6.522702328072141,
                    6.522702328072141,
                    3.6973315190486016
                  ],
                  "yaxis": "y"
                },
                {
                  "hoverinfo": "text",
                  "marker": {
                    "color": "rgb(35,205,205)"
                  },
                  "mode": "lines",
                  "type": "scatter",
                  "x": [
                    755,
                    755,
                    765,
                    765
                  ],
                  "xaxis": "x",
                  "y": [
                    0,
                    0.6399128375485581,
                    0.6399128375485581,
                    0
                  ],
                  "yaxis": "y"
                },
                {
                  "hoverinfo": "text",
                  "marker": {
                    "color": "rgb(35,205,205)"
                  },
                  "mode": "lines",
                  "type": "scatter",
                  "x": [
                    775,
                    775,
                    785,
                    785
                  ],
                  "xaxis": "x",
                  "y": [
                    0,
                    0.6495199332144692,
                    0.6495199332144692,
                    0
                  ],
                  "yaxis": "y"
                },
                {
                  "hoverinfo": "text",
                  "marker": {
                    "color": "rgb(35,205,205)"
                  },
                  "mode": "lines",
                  "type": "scatter",
                  "x": [
                    795,
                    795,
                    805,
                    805
                  ],
                  "xaxis": "x",
                  "y": [
                    0,
                    0.6672894823864225,
                    0.6672894823864225,
                    0
                  ],
                  "yaxis": "y"
                },
                {
                  "hoverinfo": "text",
                  "marker": {
                    "color": "rgb(35,205,205)"
                  },
                  "mode": "lines",
                  "type": "scatter",
                  "x": [
                    780,
                    780,
                    800,
                    800
                  ],
                  "xaxis": "x",
                  "y": [
                    0.6495199332144692,
                    1.1094573833424328,
                    1.1094573833424328,
                    0.6672894823864225
                  ],
                  "yaxis": "y"
                },
                {
                  "hoverinfo": "text",
                  "marker": {
                    "color": "rgb(35,205,205)"
                  },
                  "mode": "lines",
                  "type": "scatter",
                  "x": [
                    760,
                    760,
                    790,
                    790
                  ],
                  "xaxis": "x",
                  "y": [
                    0.6399128375485581,
                    1.6629348712834995,
                    1.6629348712834995,
                    1.1094573833424328
                  ],
                  "yaxis": "y"
                },
                {
                  "hoverinfo": "text",
                  "marker": {
                    "color": "rgb(35,205,205)"
                  },
                  "mode": "lines",
                  "type": "scatter",
                  "x": [
                    825,
                    825,
                    835,
                    835
                  ],
                  "xaxis": "x",
                  "y": [
                    0,
                    1.1447770833061013,
                    1.1447770833061013,
                    0
                  ],
                  "yaxis": "y"
                },
                {
                  "hoverinfo": "text",
                  "marker": {
                    "color": "rgb(35,205,205)"
                  },
                  "mode": "lines",
                  "type": "scatter",
                  "x": [
                    855,
                    855,
                    865,
                    865
                  ],
                  "xaxis": "x",
                  "y": [
                    0,
                    0.9684711139993583,
                    0.9684711139993583,
                    0
                  ],
                  "yaxis": "y"
                },
                {
                  "hoverinfo": "text",
                  "marker": {
                    "color": "rgb(35,205,205)"
                  },
                  "mode": "lines",
                  "type": "scatter",
                  "x": [
                    845,
                    845,
                    860,
                    860
                  ],
                  "xaxis": "x",
                  "y": [
                    0,
                    1.4880554146508462,
                    1.4880554146508462,
                    0.9684711139993583
                  ],
                  "yaxis": "y"
                },
                {
                  "hoverinfo": "text",
                  "marker": {
                    "color": "rgb(35,205,205)"
                  },
                  "mode": "lines",
                  "type": "scatter",
                  "x": [
                    830,
                    830,
                    852.5,
                    852.5
                  ],
                  "xaxis": "x",
                  "y": [
                    1.1447770833061013,
                    1.9433131891474567,
                    1.9433131891474567,
                    1.4880554146508462
                  ],
                  "yaxis": "y"
                },
                {
                  "hoverinfo": "text",
                  "marker": {
                    "color": "rgb(35,205,205)"
                  },
                  "mode": "lines",
                  "type": "scatter",
                  "x": [
                    815,
                    815,
                    841.25,
                    841.25
                  ],
                  "xaxis": "x",
                  "y": [
                    0,
                    2.8483346891498713,
                    2.8483346891498713,
                    1.9433131891474567
                  ],
                  "yaxis": "y"
                },
                {
                  "hoverinfo": "text",
                  "marker": {
                    "color": "rgb(35,205,205)"
                  },
                  "mode": "lines",
                  "type": "scatter",
                  "x": [
                    775,
                    775,
                    828.125,
                    828.125
                  ],
                  "xaxis": "x",
                  "y": [
                    1.6629348712834995,
                    3.24808758894885,
                    3.24808758894885,
                    2.8483346891498713
                  ],
                  "yaxis": "y"
                },
                {
                  "hoverinfo": "text",
                  "marker": {
                    "color": "rgb(35,205,205)"
                  },
                  "mode": "lines",
                  "type": "scatter",
                  "x": [
                    875,
                    875,
                    885,
                    885
                  ],
                  "xaxis": "x",
                  "y": [
                    0,
                    0.9372334208107103,
                    0.9372334208107103,
                    0
                  ],
                  "yaxis": "y"
                },
                {
                  "hoverinfo": "text",
                  "marker": {
                    "color": "rgb(35,205,205)"
                  },
                  "mode": "lines",
                  "type": "scatter",
                  "x": [
                    915,
                    915,
                    925,
                    925
                  ],
                  "xaxis": "x",
                  "y": [
                    0,
                    0.5595406321781606,
                    0.5595406321781606,
                    0
                  ],
                  "yaxis": "y"
                },
                {
                  "hoverinfo": "text",
                  "marker": {
                    "color": "rgb(35,205,205)"
                  },
                  "mode": "lines",
                  "type": "scatter",
                  "x": [
                    905,
                    905,
                    920,
                    920
                  ],
                  "xaxis": "x",
                  "y": [
                    0,
                    0.8211853986551017,
                    0.8211853986551017,
                    0.5595406321781606
                  ],
                  "yaxis": "y"
                },
                {
                  "hoverinfo": "text",
                  "marker": {
                    "color": "rgb(35,205,205)"
                  },
                  "mode": "lines",
                  "type": "scatter",
                  "x": [
                    895,
                    895,
                    912.5,
                    912.5
                  ],
                  "xaxis": "x",
                  "y": [
                    0,
                    0.9842066870944303,
                    0.9842066870944303,
                    0.8211853986551017
                  ],
                  "yaxis": "y"
                },
                {
                  "hoverinfo": "text",
                  "marker": {
                    "color": "rgb(35,205,205)"
                  },
                  "mode": "lines",
                  "type": "scatter",
                  "x": [
                    935,
                    935,
                    945,
                    945
                  ],
                  "xaxis": "x",
                  "y": [
                    0,
                    0.6133970462986226,
                    0.6133970462986226,
                    0
                  ],
                  "yaxis": "y"
                },
                {
                  "hoverinfo": "text",
                  "marker": {
                    "color": "rgb(35,205,205)"
                  },
                  "mode": "lines",
                  "type": "scatter",
                  "x": [
                    965,
                    965,
                    975,
                    975
                  ],
                  "xaxis": "x",
                  "y": [
                    0,
                    0.7082209756458508,
                    0.7082209756458508,
                    0
                  ],
                  "yaxis": "y"
                },
                {
                  "hoverinfo": "text",
                  "marker": {
                    "color": "rgb(35,205,205)"
                  },
                  "mode": "lines",
                  "type": "scatter",
                  "x": [
                    955,
                    955,
                    970,
                    970
                  ],
                  "xaxis": "x",
                  "y": [
                    0,
                    0.9857514193799763,
                    0.9857514193799763,
                    0.7082209756458508
                  ],
                  "yaxis": "y"
                },
                {
                  "hoverinfo": "text",
                  "marker": {
                    "color": "rgb(35,205,205)"
                  },
                  "mode": "lines",
                  "type": "scatter",
                  "x": [
                    940,
                    940,
                    962.5,
                    962.5
                  ],
                  "xaxis": "x",
                  "y": [
                    0.6133970462986226,
                    1.3039995523788093,
                    1.3039995523788093,
                    0.9857514193799763
                  ],
                  "yaxis": "y"
                },
                {
                  "hoverinfo": "text",
                  "marker": {
                    "color": "rgb(35,205,205)"
                  },
                  "mode": "lines",
                  "type": "scatter",
                  "x": [
                    903.75,
                    903.75,
                    951.25,
                    951.25
                  ],
                  "xaxis": "x",
                  "y": [
                    0.9842066870944303,
                    1.6077082232725652,
                    1.6077082232725652,
                    1.3039995523788093
                  ],
                  "yaxis": "y"
                },
                {
                  "hoverinfo": "text",
                  "marker": {
                    "color": "rgb(35,205,205)"
                  },
                  "mode": "lines",
                  "type": "scatter",
                  "x": [
                    880,
                    880,
                    927.5,
                    927.5
                  ],
                  "xaxis": "x",
                  "y": [
                    0.9372334208107103,
                    2.6594834879401557,
                    2.6594834879401557,
                    1.6077082232725652
                  ],
                  "yaxis": "y"
                },
                {
                  "hoverinfo": "text",
                  "marker": {
                    "color": "rgb(35,205,205)"
                  },
                  "mode": "lines",
                  "type": "scatter",
                  "x": [
                    985,
                    985,
                    995,
                    995
                  ],
                  "xaxis": "x",
                  "y": [
                    0,
                    1.093439506132245,
                    1.093439506132245,
                    0
                  ],
                  "yaxis": "y"
                },
                {
                  "hoverinfo": "text",
                  "marker": {
                    "color": "rgb(35,205,205)"
                  },
                  "mode": "lines",
                  "type": "scatter",
                  "x": [
                    1005,
                    1005,
                    1015,
                    1015
                  ],
                  "xaxis": "x",
                  "y": [
                    0,
                    1.2036623893052247,
                    1.2036623893052247,
                    0
                  ],
                  "yaxis": "y"
                },
                {
                  "hoverinfo": "text",
                  "marker": {
                    "color": "rgb(35,205,205)"
                  },
                  "mode": "lines",
                  "type": "scatter",
                  "x": [
                    990,
                    990,
                    1010,
                    1010
                  ],
                  "xaxis": "x",
                  "y": [
                    1.093439506132245,
                    2.076866363564912,
                    2.076866363564912,
                    1.2036623893052247
                  ],
                  "yaxis": "y"
                },
                {
                  "hoverinfo": "text",
                  "marker": {
                    "color": "rgb(35,205,205)"
                  },
                  "mode": "lines",
                  "type": "scatter",
                  "x": [
                    1025,
                    1025,
                    1035,
                    1035
                  ],
                  "xaxis": "x",
                  "y": [
                    0,
                    0.7503504400564744,
                    0.7503504400564744,
                    0
                  ],
                  "yaxis": "y"
                },
                {
                  "hoverinfo": "text",
                  "marker": {
                    "color": "rgb(35,205,205)"
                  },
                  "mode": "lines",
                  "type": "scatter",
                  "x": [
                    1065,
                    1065,
                    1075,
                    1075
                  ],
                  "xaxis": "x",
                  "y": [
                    0,
                    0.4231314742457056,
                    0.4231314742457056,
                    0
                  ],
                  "yaxis": "y"
                },
                {
                  "hoverinfo": "text",
                  "marker": {
                    "color": "rgb(35,205,205)"
                  },
                  "mode": "lines",
                  "type": "scatter",
                  "x": [
                    1055,
                    1055,
                    1070,
                    1070
                  ],
                  "xaxis": "x",
                  "y": [
                    0,
                    0.5588057361489407,
                    0.5588057361489407,
                    0.4231314742457056
                  ],
                  "yaxis": "y"
                },
                {
                  "hoverinfo": "text",
                  "marker": {
                    "color": "rgb(35,205,205)"
                  },
                  "mode": "lines",
                  "type": "scatter",
                  "x": [
                    1045,
                    1045,
                    1062.5,
                    1062.5
                  ],
                  "xaxis": "x",
                  "y": [
                    0,
                    0.7603969640521341,
                    0.7603969640521341,
                    0.5588057361489407
                  ],
                  "yaxis": "y"
                },
                {
                  "hoverinfo": "text",
                  "marker": {
                    "color": "rgb(35,205,205)"
                  },
                  "mode": "lines",
                  "type": "scatter",
                  "x": [
                    1030,
                    1030,
                    1053.75,
                    1053.75
                  ],
                  "xaxis": "x",
                  "y": [
                    0.7503504400564744,
                    1.137001927074761,
                    1.137001927074761,
                    0.7603969640521341
                  ],
                  "yaxis": "y"
                },
                {
                  "hoverinfo": "text",
                  "marker": {
                    "color": "rgb(35,205,205)"
                  },
                  "mode": "lines",
                  "type": "scatter",
                  "x": [
                    1105,
                    1105,
                    1115,
                    1115
                  ],
                  "xaxis": "x",
                  "y": [
                    0,
                    0.6513795822872052,
                    0.6513795822872052,
                    0
                  ],
                  "yaxis": "y"
                },
                {
                  "hoverinfo": "text",
                  "marker": {
                    "color": "rgb(35,205,205)"
                  },
                  "mode": "lines",
                  "type": "scatter",
                  "x": [
                    1095,
                    1095,
                    1110,
                    1110
                  ],
                  "xaxis": "x",
                  "y": [
                    0,
                    0.8536484708695792,
                    0.8536484708695792,
                    0.6513795822872052
                  ],
                  "yaxis": "y"
                },
                {
                  "hoverinfo": "text",
                  "marker": {
                    "color": "rgb(35,205,205)"
                  },
                  "mode": "lines",
                  "type": "scatter",
                  "x": [
                    1085,
                    1085,
                    1102.5,
                    1102.5
                  ],
                  "xaxis": "x",
                  "y": [
                    0,
                    1.6877219660911122,
                    1.6877219660911122,
                    0.8536484708695792
                  ],
                  "yaxis": "y"
                },
                {
                  "hoverinfo": "text",
                  "marker": {
                    "color": "rgb(35,205,205)"
                  },
                  "mode": "lines",
                  "type": "scatter",
                  "x": [
                    1041.875,
                    1041.875,
                    1093.75,
                    1093.75
                  ],
                  "xaxis": "x",
                  "y": [
                    1.137001927074761,
                    2.317586411245328,
                    2.317586411245328,
                    1.6877219660911122
                  ],
                  "yaxis": "y"
                },
                {
                  "hoverinfo": "text",
                  "marker": {
                    "color": "rgb(35,205,205)"
                  },
                  "mode": "lines",
                  "type": "scatter",
                  "x": [
                    1000,
                    1000,
                    1067.8125,
                    1067.8125
                  ],
                  "xaxis": "x",
                  "y": [
                    2.076866363564912,
                    3.024601997613983,
                    3.024601997613983,
                    2.317586411245328
                  ],
                  "yaxis": "y"
                },
                {
                  "hoverinfo": "text",
                  "marker": {
                    "color": "rgb(35,205,205)"
                  },
                  "mode": "lines",
                  "type": "scatter",
                  "x": [
                    903.75,
                    903.75,
                    1033.90625,
                    1033.90625
                  ],
                  "xaxis": "x",
                  "y": [
                    2.6594834879401557,
                    3.625240558490907,
                    3.625240558490907,
                    3.024601997613983
                  ],
                  "yaxis": "y"
                },
                {
                  "hoverinfo": "text",
                  "marker": {
                    "color": "rgb(35,205,205)"
                  },
                  "mode": "lines",
                  "type": "scatter",
                  "x": [
                    1125,
                    1125,
                    1135,
                    1135
                  ],
                  "xaxis": "x",
                  "y": [
                    0,
                    0.7944524416285782,
                    0.7944524416285782,
                    0
                  ],
                  "yaxis": "y"
                },
                {
                  "hoverinfo": "text",
                  "marker": {
                    "color": "rgb(35,205,205)"
                  },
                  "mode": "lines",
                  "type": "scatter",
                  "x": [
                    1165,
                    1165,
                    1175,
                    1175
                  ],
                  "xaxis": "x",
                  "y": [
                    0,
                    0.27051092037444896,
                    0.27051092037444896,
                    0
                  ],
                  "yaxis": "y"
                },
                {
                  "hoverinfo": "text",
                  "marker": {
                    "color": "rgb(35,205,205)"
                  },
                  "mode": "lines",
                  "type": "scatter",
                  "x": [
                    1155,
                    1155,
                    1170,
                    1170
                  ],
                  "xaxis": "x",
                  "y": [
                    0,
                    0.6837059365074781,
                    0.6837059365074781,
                    0.27051092037444896
                  ],
                  "yaxis": "y"
                },
                {
                  "hoverinfo": "text",
                  "marker": {
                    "color": "rgb(35,205,205)"
                  },
                  "mode": "lines",
                  "type": "scatter",
                  "x": [
                    1145,
                    1145,
                    1162.5,
                    1162.5
                  ],
                  "xaxis": "x",
                  "y": [
                    0,
                    1.0994304996360673,
                    1.0994304996360673,
                    0.6837059365074781
                  ],
                  "yaxis": "y"
                },
                {
                  "hoverinfo": "text",
                  "marker": {
                    "color": "rgb(35,205,205)"
                  },
                  "mode": "lines",
                  "type": "scatter",
                  "x": [
                    1130,
                    1130,
                    1153.75,
                    1153.75
                  ],
                  "xaxis": "x",
                  "y": [
                    0.7944524416285782,
                    2.0098876545797943,
                    2.0098876545797943,
                    1.0994304996360673
                  ],
                  "yaxis": "y"
                },
                {
                  "hoverinfo": "text",
                  "marker": {
                    "color": "rgb(35,205,205)"
                  },
                  "mode": "lines",
                  "type": "scatter",
                  "x": [
                    1225,
                    1225,
                    1235,
                    1235
                  ],
                  "xaxis": "x",
                  "y": [
                    0,
                    0.6045623597628655,
                    0.6045623597628655,
                    0
                  ],
                  "yaxis": "y"
                },
                {
                  "hoverinfo": "text",
                  "marker": {
                    "color": "rgb(35,205,205)"
                  },
                  "mode": "lines",
                  "type": "scatter",
                  "x": [
                    1215,
                    1215,
                    1230,
                    1230
                  ],
                  "xaxis": "x",
                  "y": [
                    0,
                    0.9521633379045829,
                    0.9521633379045829,
                    0.6045623597628655
                  ],
                  "yaxis": "y"
                },
                {
                  "hoverinfo": "text",
                  "marker": {
                    "color": "rgb(35,205,205)"
                  },
                  "mode": "lines",
                  "type": "scatter",
                  "x": [
                    1205,
                    1205,
                    1222.5,
                    1222.5
                  ],
                  "xaxis": "x",
                  "y": [
                    0,
                    1.093760274991516,
                    1.093760274991516,
                    0.9521633379045829
                  ],
                  "yaxis": "y"
                },
                {
                  "hoverinfo": "text",
                  "marker": {
                    "color": "rgb(35,205,205)"
                  },
                  "mode": "lines",
                  "type": "scatter",
                  "x": [
                    1195,
                    1195,
                    1213.75,
                    1213.75
                  ],
                  "xaxis": "x",
                  "y": [
                    0,
                    1.3568825389902757,
                    1.3568825389902757,
                    1.093760274991516
                  ],
                  "yaxis": "y"
                },
                {
                  "hoverinfo": "text",
                  "marker": {
                    "color": "rgb(35,205,205)"
                  },
                  "mode": "lines",
                  "type": "scatter",
                  "x": [
                    1185,
                    1185,
                    1204.375,
                    1204.375
                  ],
                  "xaxis": "x",
                  "y": [
                    0,
                    2.1944552167024667,
                    2.1944552167024667,
                    1.3568825389902757
                  ],
                  "yaxis": "y"
                },
                {
                  "hoverinfo": "text",
                  "marker": {
                    "color": "rgb(35,205,205)"
                  },
                  "mode": "lines",
                  "type": "scatter",
                  "x": [
                    1141.875,
                    1141.875,
                    1194.6875,
                    1194.6875
                  ],
                  "xaxis": "x",
                  "y": [
                    2.0098876545797943,
                    4.312120569683006,
                    4.312120569683006,
                    2.1944552167024667
                  ],
                  "yaxis": "y"
                },
                {
                  "hoverinfo": "text",
                  "marker": {
                    "color": "rgb(35,205,205)"
                  },
                  "mode": "lines",
                  "type": "scatter",
                  "x": [
                    968.828125,
                    968.828125,
                    1168.28125,
                    1168.28125
                  ],
                  "xaxis": "x",
                  "y": [
                    3.625240558490907,
                    5.296195565210035,
                    5.296195565210035,
                    4.312120569683006
                  ],
                  "yaxis": "y"
                },
                {
                  "hoverinfo": "text",
                  "marker": {
                    "color": "rgb(35,205,205)"
                  },
                  "mode": "lines",
                  "type": "scatter",
                  "x": [
                    801.5625,
                    801.5625,
                    1068.5546875,
                    1068.5546875
                  ],
                  "xaxis": "x",
                  "y": [
                    3.24808758894885,
                    7.057870152420798,
                    7.057870152420798,
                    5.296195565210035
                  ],
                  "yaxis": "y"
                },
                {
                  "hoverinfo": "text",
                  "marker": {
                    "color": "rgb(35,205,205)"
                  },
                  "mode": "lines",
                  "type": "scatter",
                  "x": [
                    652.8125,
                    652.8125,
                    935.05859375,
                    935.05859375
                  ],
                  "xaxis": "x",
                  "y": [
                    6.522702328072141,
                    9.977944923496308,
                    9.977944923496308,
                    7.057870152420798
                  ],
                  "yaxis": "y"
                },
                {
                  "hoverinfo": "text",
                  "marker": {
                    "color": "rgb(35,205,205)"
                  },
                  "mode": "lines",
                  "type": "scatter",
                  "x": [
                    1275,
                    1275,
                    1285,
                    1285
                  ],
                  "xaxis": "x",
                  "y": [
                    0,
                    1.7200080484476945,
                    1.7200080484476945,
                    0
                  ],
                  "yaxis": "y"
                },
                {
                  "hoverinfo": "text",
                  "marker": {
                    "color": "rgb(35,205,205)"
                  },
                  "mode": "lines",
                  "type": "scatter",
                  "x": [
                    1265,
                    1265,
                    1280,
                    1280
                  ],
                  "xaxis": "x",
                  "y": [
                    0,
                    1.9502350337783907,
                    1.9502350337783907,
                    1.7200080484476945
                  ],
                  "yaxis": "y"
                },
                {
                  "hoverinfo": "text",
                  "marker": {
                    "color": "rgb(35,205,205)"
                  },
                  "mode": "lines",
                  "type": "scatter",
                  "x": [
                    1255,
                    1255,
                    1272.5,
                    1272.5
                  ],
                  "xaxis": "x",
                  "y": [
                    0,
                    2.4805936039044747,
                    2.4805936039044747,
                    1.9502350337783907
                  ],
                  "yaxis": "y"
                },
                {
                  "hoverinfo": "text",
                  "marker": {
                    "color": "rgb(35,205,205)"
                  },
                  "mode": "lines",
                  "type": "scatter",
                  "x": [
                    1295,
                    1295,
                    1305,
                    1305
                  ],
                  "xaxis": "x",
                  "y": [
                    0,
                    2.2826175962351973,
                    2.2826175962351973,
                    0
                  ],
                  "yaxis": "y"
                },
                {
                  "hoverinfo": "text",
                  "marker": {
                    "color": "rgb(35,205,205)"
                  },
                  "mode": "lines",
                  "type": "scatter",
                  "x": [
                    1335,
                    1335,
                    1345,
                    1345
                  ],
                  "xaxis": "x",
                  "y": [
                    0,
                    1.1250252831337682,
                    1.1250252831337682,
                    0
                  ],
                  "yaxis": "y"
                },
                {
                  "hoverinfo": "text",
                  "marker": {
                    "color": "rgb(35,205,205)"
                  },
                  "mode": "lines",
                  "type": "scatter",
                  "x": [
                    1325,
                    1325,
                    1340,
                    1340
                  ],
                  "xaxis": "x",
                  "y": [
                    0,
                    1.7779685076221665,
                    1.7779685076221665,
                    1.1250252831337682
                  ],
                  "yaxis": "y"
                },
                {
                  "hoverinfo": "text",
                  "marker": {
                    "color": "rgb(35,205,205)"
                  },
                  "mode": "lines",
                  "type": "scatter",
                  "x": [
                    1315,
                    1315,
                    1332.5,
                    1332.5
                  ],
                  "xaxis": "x",
                  "y": [
                    0,
                    2.309141049127036,
                    2.309141049127036,
                    1.7779685076221665
                  ],
                  "yaxis": "y"
                },
                {
                  "hoverinfo": "text",
                  "marker": {
                    "color": "rgb(35,205,205)"
                  },
                  "mode": "lines",
                  "type": "scatter",
                  "x": [
                    1300,
                    1300,
                    1323.75,
                    1323.75
                  ],
                  "xaxis": "x",
                  "y": [
                    2.2826175962351973,
                    4.870873450282401,
                    4.870873450282401,
                    2.309141049127036
                  ],
                  "yaxis": "y"
                },
                {
                  "hoverinfo": "text",
                  "marker": {
                    "color": "rgb(35,205,205)"
                  },
                  "mode": "lines",
                  "type": "scatter",
                  "x": [
                    1263.75,
                    1263.75,
                    1311.875,
                    1311.875
                  ],
                  "xaxis": "x",
                  "y": [
                    2.4805936039044747,
                    6.132175701912765,
                    6.132175701912765,
                    4.870873450282401
                  ],
                  "yaxis": "y"
                },
                {
                  "hoverinfo": "text",
                  "marker": {
                    "color": "rgb(35,205,205)"
                  },
                  "mode": "lines",
                  "type": "scatter",
                  "x": [
                    1365,
                    1365,
                    1375,
                    1375
                  ],
                  "xaxis": "x",
                  "y": [
                    0,
                    1.201669257283303,
                    1.201669257283303,
                    0
                  ],
                  "yaxis": "y"
                },
                {
                  "hoverinfo": "text",
                  "marker": {
                    "color": "rgb(35,205,205)"
                  },
                  "mode": "lines",
                  "type": "scatter",
                  "x": [
                    1355,
                    1355,
                    1370,
                    1370
                  ],
                  "xaxis": "x",
                  "y": [
                    0,
                    1.9052237411520465,
                    1.9052237411520465,
                    1.201669257283303
                  ],
                  "yaxis": "y"
                },
                {
                  "hoverinfo": "text",
                  "marker": {
                    "color": "rgb(35,205,205)"
                  },
                  "mode": "lines",
                  "type": "scatter",
                  "x": [
                    1385,
                    1385,
                    1395,
                    1395
                  ],
                  "xaxis": "x",
                  "y": [
                    0,
                    2.168397621764117,
                    2.168397621764117,
                    0
                  ],
                  "yaxis": "y"
                },
                {
                  "hoverinfo": "text",
                  "marker": {
                    "color": "rgb(35,205,205)"
                  },
                  "mode": "lines",
                  "type": "scatter",
                  "x": [
                    1415,
                    1415,
                    1425,
                    1425
                  ],
                  "xaxis": "x",
                  "y": [
                    0,
                    1.1094933759755705,
                    1.1094933759755705,
                    0
                  ],
                  "yaxis": "y"
                },
                {
                  "hoverinfo": "text",
                  "marker": {
                    "color": "rgb(35,205,205)"
                  },
                  "mode": "lines",
                  "type": "scatter",
                  "x": [
                    1405,
                    1405,
                    1420,
                    1420
                  ],
                  "xaxis": "x",
                  "y": [
                    0,
                    1.522833089445594,
                    1.522833089445594,
                    1.1094933759755705
                  ],
                  "yaxis": "y"
                },
                {
                  "hoverinfo": "text",
                  "marker": {
                    "color": "rgb(35,205,205)"
                  },
                  "mode": "lines",
                  "type": "scatter",
                  "x": [
                    1435,
                    1435,
                    1445,
                    1445
                  ],
                  "xaxis": "x",
                  "y": [
                    0,
                    0.9712008499235915,
                    0.9712008499235915,
                    0
                  ],
                  "yaxis": "y"
                },
                {
                  "hoverinfo": "text",
                  "marker": {
                    "color": "rgb(35,205,205)"
                  },
                  "mode": "lines",
                  "type": "scatter",
                  "x": [
                    1455,
                    1455,
                    1465,
                    1465
                  ],
                  "xaxis": "x",
                  "y": [
                    0,
                    0.7050295027674597,
                    0.7050295027674597,
                    0
                  ],
                  "yaxis": "y"
                },
                {
                  "hoverinfo": "text",
                  "marker": {
                    "color": "rgb(35,205,205)"
                  },
                  "mode": "lines",
                  "type": "scatter",
                  "x": [
                    1485,
                    1485,
                    1495,
                    1495
                  ],
                  "xaxis": "x",
                  "y": [
                    0,
                    0.8205910588689245,
                    0.8205910588689245,
                    0
                  ],
                  "yaxis": "y"
                },
                {
                  "hoverinfo": "text",
                  "marker": {
                    "color": "rgb(35,205,205)"
                  },
                  "mode": "lines",
                  "type": "scatter",
                  "x": [
                    1475,
                    1475,
                    1490,
                    1490
                  ],
                  "xaxis": "x",
                  "y": [
                    0,
                    1.0107715729246158,
                    1.0107715729246158,
                    0.8205910588689245
                  ],
                  "yaxis": "y"
                },
                {
                  "hoverinfo": "text",
                  "marker": {
                    "color": "rgb(35,205,205)"
                  },
                  "mode": "lines",
                  "type": "scatter",
                  "x": [
                    1460,
                    1460,
                    1482.5,
                    1482.5
                  ],
                  "xaxis": "x",
                  "y": [
                    0.7050295027674597,
                    1.4805875845907477,
                    1.4805875845907477,
                    1.0107715729246158
                  ],
                  "yaxis": "y"
                },
                {
                  "hoverinfo": "text",
                  "marker": {
                    "color": "rgb(35,205,205)"
                  },
                  "mode": "lines",
                  "type": "scatter",
                  "x": [
                    1440,
                    1440,
                    1471.25,
                    1471.25
                  ],
                  "xaxis": "x",
                  "y": [
                    0.9712008499235915,
                    1.7012316765608697,
                    1.7012316765608697,
                    1.4805875845907477
                  ],
                  "yaxis": "y"
                },
                {
                  "hoverinfo": "text",
                  "marker": {
                    "color": "rgb(35,205,205)"
                  },
                  "mode": "lines",
                  "type": "scatter",
                  "x": [
                    1412.5,
                    1412.5,
                    1455.625,
                    1455.625
                  ],
                  "xaxis": "x",
                  "y": [
                    1.522833089445594,
                    2.7927200737769104,
                    2.7927200737769104,
                    1.7012316765608697
                  ],
                  "yaxis": "y"
                },
                {
                  "hoverinfo": "text",
                  "marker": {
                    "color": "rgb(35,205,205)"
                  },
                  "mode": "lines",
                  "type": "scatter",
                  "x": [
                    1390,
                    1390,
                    1434.0625,
                    1434.0625
                  ],
                  "xaxis": "x",
                  "y": [
                    2.168397621764117,
                    3.304954590552942,
                    3.304954590552942,
                    2.7927200737769104
                  ],
                  "yaxis": "y"
                },
                {
                  "hoverinfo": "text",
                  "marker": {
                    "color": "rgb(35,205,205)"
                  },
                  "mode": "lines",
                  "type": "scatter",
                  "x": [
                    1362.5,
                    1362.5,
                    1412.03125,
                    1412.03125
                  ],
                  "xaxis": "x",
                  "y": [
                    1.9052237411520465,
                    3.678629146505107,
                    3.678629146505107,
                    3.304954590552942
                  ],
                  "yaxis": "y"
                },
                {
                  "hoverinfo": "text",
                  "marker": {
                    "color": "rgb(35,205,205)"
                  },
                  "mode": "lines",
                  "type": "scatter",
                  "x": [
                    1535,
                    1535,
                    1545,
                    1545
                  ],
                  "xaxis": "x",
                  "y": [
                    0,
                    0.7256048631599274,
                    0.7256048631599274,
                    0
                  ],
                  "yaxis": "y"
                },
                {
                  "hoverinfo": "text",
                  "marker": {
                    "color": "rgb(35,205,205)"
                  },
                  "mode": "lines",
                  "type": "scatter",
                  "x": [
                    1525,
                    1525,
                    1540,
                    1540
                  ],
                  "xaxis": "x",
                  "y": [
                    0,
                    0.7612755222127507,
                    0.7612755222127507,
                    0.7256048631599274
                  ],
                  "yaxis": "y"
                },
                {
                  "hoverinfo": "text",
                  "marker": {
                    "color": "rgb(35,205,205)"
                  },
                  "mode": "lines",
                  "type": "scatter",
                  "x": [
                    1515,
                    1515,
                    1532.5,
                    1532.5
                  ],
                  "xaxis": "x",
                  "y": [
                    0,
                    1.1155620502127055,
                    1.1155620502127055,
                    0.7612755222127507
                  ],
                  "yaxis": "y"
                },
                {
                  "hoverinfo": "text",
                  "marker": {
                    "color": "rgb(35,205,205)"
                  },
                  "mode": "lines",
                  "type": "scatter",
                  "x": [
                    1505,
                    1505,
                    1523.75,
                    1523.75
                  ],
                  "xaxis": "x",
                  "y": [
                    0,
                    1.3005955000053564,
                    1.3005955000053564,
                    1.1155620502127055
                  ],
                  "yaxis": "y"
                },
                {
                  "hoverinfo": "text",
                  "marker": {
                    "color": "rgb(35,205,205)"
                  },
                  "mode": "lines",
                  "type": "scatter",
                  "x": [
                    1555,
                    1555,
                    1565,
                    1565
                  ],
                  "xaxis": "x",
                  "y": [
                    0,
                    0.753686515915792,
                    0.753686515915792,
                    0
                  ],
                  "yaxis": "y"
                },
                {
                  "hoverinfo": "text",
                  "marker": {
                    "color": "rgb(35,205,205)"
                  },
                  "mode": "lines",
                  "type": "scatter",
                  "x": [
                    1585,
                    1585,
                    1595,
                    1595
                  ],
                  "xaxis": "x",
                  "y": [
                    0,
                    0.7489907552947117,
                    0.7489907552947117,
                    0
                  ],
                  "yaxis": "y"
                },
                {
                  "hoverinfo": "text",
                  "marker": {
                    "color": "rgb(35,205,205)"
                  },
                  "mode": "lines",
                  "type": "scatter",
                  "x": [
                    1575,
                    1575,
                    1590,
                    1590
                  ],
                  "xaxis": "x",
                  "y": [
                    0,
                    0.9437733010563315,
                    0.9437733010563315,
                    0.7489907552947117
                  ],
                  "yaxis": "y"
                },
                {
                  "hoverinfo": "text",
                  "marker": {
                    "color": "rgb(35,205,205)"
                  },
                  "mode": "lines",
                  "type": "scatter",
                  "x": [
                    1560,
                    1560,
                    1582.5,
                    1582.5
                  ],
                  "xaxis": "x",
                  "y": [
                    0.753686515915792,
                    1.684981567008163,
                    1.684981567008163,
                    0.9437733010563315
                  ],
                  "yaxis": "y"
                },
                {
                  "hoverinfo": "text",
                  "marker": {
                    "color": "rgb(35,205,205)"
                  },
                  "mode": "lines",
                  "type": "scatter",
                  "x": [
                    1514.375,
                    1514.375,
                    1571.25,
                    1571.25
                  ],
                  "xaxis": "x",
                  "y": [
                    1.3005955000053564,
                    2.2100572907104077,
                    2.2100572907104077,
                    1.684981567008163
                  ],
                  "yaxis": "y"
                },
                {
                  "hoverinfo": "text",
                  "marker": {
                    "color": "rgb(35,205,205)"
                  },
                  "mode": "lines",
                  "type": "scatter",
                  "x": [
                    1605,
                    1605,
                    1615,
                    1615
                  ],
                  "xaxis": "x",
                  "y": [
                    0,
                    1.0854408911505764,
                    1.0854408911505764,
                    0
                  ],
                  "yaxis": "y"
                },
                {
                  "hoverinfo": "text",
                  "marker": {
                    "color": "rgb(35,205,205)"
                  },
                  "mode": "lines",
                  "type": "scatter",
                  "x": [
                    1625,
                    1625,
                    1635,
                    1635
                  ],
                  "xaxis": "x",
                  "y": [
                    0,
                    1.1185570755292098,
                    1.1185570755292098,
                    0
                  ],
                  "yaxis": "y"
                },
                {
                  "hoverinfo": "text",
                  "marker": {
                    "color": "rgb(35,205,205)"
                  },
                  "mode": "lines",
                  "type": "scatter",
                  "x": [
                    1610,
                    1610,
                    1630,
                    1630
                  ],
                  "xaxis": "x",
                  "y": [
                    1.0854408911505764,
                    1.5187377732283402,
                    1.5187377732283402,
                    1.1185570755292098
                  ],
                  "yaxis": "y"
                },
                {
                  "hoverinfo": "text",
                  "marker": {
                    "color": "rgb(35,205,205)"
                  },
                  "mode": "lines",
                  "type": "scatter",
                  "x": [
                    1655,
                    1655,
                    1665,
                    1665
                  ],
                  "xaxis": "x",
                  "y": [
                    0,
                    0.8152053859676581,
                    0.8152053859676581,
                    0
                  ],
                  "yaxis": "y"
                },
                {
                  "hoverinfo": "text",
                  "marker": {
                    "color": "rgb(35,205,205)"
                  },
                  "mode": "lines",
                  "type": "scatter",
                  "x": [
                    1645,
                    1645,
                    1660,
                    1660
                  ],
                  "xaxis": "x",
                  "y": [
                    0,
                    1.5790437700668651,
                    1.5790437700668651,
                    0.8152053859676581
                  ],
                  "yaxis": "y"
                },
                {
                  "hoverinfo": "text",
                  "marker": {
                    "color": "rgb(35,205,205)"
                  },
                  "mode": "lines",
                  "type": "scatter",
                  "x": [
                    1620,
                    1620,
                    1652.5,
                    1652.5
                  ],
                  "xaxis": "x",
                  "y": [
                    1.5187377732283402,
                    2.396138506303146,
                    2.396138506303146,
                    1.5790437700668651
                  ],
                  "yaxis": "y"
                },
                {
                  "hoverinfo": "text",
                  "marker": {
                    "color": "rgb(35,205,205)"
                  },
                  "mode": "lines",
                  "type": "scatter",
                  "x": [
                    1542.8125,
                    1542.8125,
                    1636.25,
                    1636.25
                  ],
                  "xaxis": "x",
                  "y": [
                    2.2100572907104077,
                    4.202479010962438,
                    4.202479010962438,
                    2.396138506303146
                  ],
                  "yaxis": "y"
                },
                {
                  "hoverinfo": "text",
                  "marker": {
                    "color": "rgb(35,205,205)"
                  },
                  "mode": "lines",
                  "type": "scatter",
                  "x": [
                    1387.265625,
                    1387.265625,
                    1589.53125,
                    1589.53125
                  ],
                  "xaxis": "x",
                  "y": [
                    3.678629146505107,
                    6.748602817668835,
                    6.748602817668835,
                    4.202479010962438
                  ],
                  "yaxis": "y"
                },
                {
                  "hoverinfo": "text",
                  "marker": {
                    "color": "rgb(35,205,205)"
                  },
                  "mode": "lines",
                  "type": "scatter",
                  "x": [
                    1287.8125,
                    1287.8125,
                    1488.3984375,
                    1488.3984375
                  ],
                  "xaxis": "x",
                  "y": [
                    6.132175701912765,
                    8.970900359233866,
                    8.970900359233866,
                    6.748602817668835
                  ],
                  "yaxis": "y"
                },
                {
                  "hoverinfo": "text",
                  "marker": {
                    "color": "rgb(35,205,205)"
                  },
                  "mode": "lines",
                  "type": "scatter",
                  "x": [
                    1245,
                    1245,
                    1388.10546875,
                    1388.10546875
                  ],
                  "xaxis": "x",
                  "y": [
                    0,
                    12.620331249136944,
                    12.620331249136944,
                    8.970900359233866
                  ],
                  "yaxis": "y"
                },
                {
                  "hoverinfo": "text",
                  "marker": {
                    "color": "rgb(35,205,205)"
                  },
                  "mode": "lines",
                  "type": "scatter",
                  "x": [
                    793.935546875,
                    793.935546875,
                    1316.552734375,
                    1316.552734375
                  ],
                  "xaxis": "x",
                  "y": [
                    9.977944923496308,
                    15.294738458270764,
                    15.294738458270764,
                    12.620331249136944
                  ],
                  "yaxis": "y"
                },
                {
                  "hoverinfo": "text",
                  "marker": {
                    "color": "rgb(0,116,217)"
                  },
                  "mode": "lines",
                  "type": "scatter",
                  "x": [
                    390.703125,
                    390.703125,
                    1055.244140625,
                    1055.244140625
                  ],
                  "xaxis": "x",
                  "y": [
                    6.072723209366381,
                    20.7270249364828,
                    20.7270249364828,
                    15.294738458270764
                  ],
                  "yaxis": "y"
                },
                {
                  "hoverinfo": "text",
                  "marker": {
                    "color": "rgb(0,116,217)"
                  },
                  "mode": "lines",
                  "type": "scatter",
                  "x": [
                    62.109375,
                    62.109375,
                    722.9736328125,
                    722.9736328125
                  ],
                  "xaxis": "x",
                  "y": [
                    16.289646261006837,
                    26.816101594339788,
                    26.816101594339788,
                    20.7270249364828
                  ],
                  "yaxis": "y"
                }
              ],
              "layout": {
                "autosize": false,
                "height": 1000,
                "hovermode": "closest",
                "showlegend": false,
                "template": {
                  "data": {
                    "bar": [
                      {
                        "error_x": {
                          "color": "#f2f5fa"
                        },
                        "error_y": {
                          "color": "#f2f5fa"
                        },
                        "marker": {
                          "line": {
                            "color": "rgb(17,17,17)",
                            "width": 0.5
                          },
                          "pattern": {
                            "fillmode": "overlay",
                            "size": 10,
                            "solidity": 0.2
                          }
                        },
                        "type": "bar"
                      }
                    ],
                    "barpolar": [
                      {
                        "marker": {
                          "line": {
                            "color": "rgb(17,17,17)",
                            "width": 0.5
                          },
                          "pattern": {
                            "fillmode": "overlay",
                            "size": 10,
                            "solidity": 0.2
                          }
                        },
                        "type": "barpolar"
                      }
                    ],
                    "carpet": [
                      {
                        "aaxis": {
                          "endlinecolor": "#A2B1C6",
                          "gridcolor": "#506784",
                          "linecolor": "#506784",
                          "minorgridcolor": "#506784",
                          "startlinecolor": "#A2B1C6"
                        },
                        "baxis": {
                          "endlinecolor": "#A2B1C6",
                          "gridcolor": "#506784",
                          "linecolor": "#506784",
                          "minorgridcolor": "#506784",
                          "startlinecolor": "#A2B1C6"
                        },
                        "type": "carpet"
                      }
                    ],
                    "choropleth": [
                      {
                        "colorbar": {
                          "outlinewidth": 0,
                          "ticks": ""
                        },
                        "type": "choropleth"
                      }
                    ],
                    "contour": [
                      {
                        "colorbar": {
                          "outlinewidth": 0,
                          "ticks": ""
                        },
                        "colorscale": [
                          [
                            0,
                            "#0d0887"
                          ],
                          [
                            0.1111111111111111,
                            "#46039f"
                          ],
                          [
                            0.2222222222222222,
                            "#7201a8"
                          ],
                          [
                            0.3333333333333333,
                            "#9c179e"
                          ],
                          [
                            0.4444444444444444,
                            "#bd3786"
                          ],
                          [
                            0.5555555555555556,
                            "#d8576b"
                          ],
                          [
                            0.6666666666666666,
                            "#ed7953"
                          ],
                          [
                            0.7777777777777778,
                            "#fb9f3a"
                          ],
                          [
                            0.8888888888888888,
                            "#fdca26"
                          ],
                          [
                            1,
                            "#f0f921"
                          ]
                        ],
                        "type": "contour"
                      }
                    ],
                    "contourcarpet": [
                      {
                        "colorbar": {
                          "outlinewidth": 0,
                          "ticks": ""
                        },
                        "type": "contourcarpet"
                      }
                    ],
                    "heatmap": [
                      {
                        "colorbar": {
                          "outlinewidth": 0,
                          "ticks": ""
                        },
                        "colorscale": [
                          [
                            0,
                            "#0d0887"
                          ],
                          [
                            0.1111111111111111,
                            "#46039f"
                          ],
                          [
                            0.2222222222222222,
                            "#7201a8"
                          ],
                          [
                            0.3333333333333333,
                            "#9c179e"
                          ],
                          [
                            0.4444444444444444,
                            "#bd3786"
                          ],
                          [
                            0.5555555555555556,
                            "#d8576b"
                          ],
                          [
                            0.6666666666666666,
                            "#ed7953"
                          ],
                          [
                            0.7777777777777778,
                            "#fb9f3a"
                          ],
                          [
                            0.8888888888888888,
                            "#fdca26"
                          ],
                          [
                            1,
                            "#f0f921"
                          ]
                        ],
                        "type": "heatmap"
                      }
                    ],
                    "heatmapgl": [
                      {
                        "colorbar": {
                          "outlinewidth": 0,
                          "ticks": ""
                        },
                        "colorscale": [
                          [
                            0,
                            "#0d0887"
                          ],
                          [
                            0.1111111111111111,
                            "#46039f"
                          ],
                          [
                            0.2222222222222222,
                            "#7201a8"
                          ],
                          [
                            0.3333333333333333,
                            "#9c179e"
                          ],
                          [
                            0.4444444444444444,
                            "#bd3786"
                          ],
                          [
                            0.5555555555555556,
                            "#d8576b"
                          ],
                          [
                            0.6666666666666666,
                            "#ed7953"
                          ],
                          [
                            0.7777777777777778,
                            "#fb9f3a"
                          ],
                          [
                            0.8888888888888888,
                            "#fdca26"
                          ],
                          [
                            1,
                            "#f0f921"
                          ]
                        ],
                        "type": "heatmapgl"
                      }
                    ],
                    "histogram": [
                      {
                        "marker": {
                          "pattern": {
                            "fillmode": "overlay",
                            "size": 10,
                            "solidity": 0.2
                          }
                        },
                        "type": "histogram"
                      }
                    ],
                    "histogram2d": [
                      {
                        "colorbar": {
                          "outlinewidth": 0,
                          "ticks": ""
                        },
                        "colorscale": [
                          [
                            0,
                            "#0d0887"
                          ],
                          [
                            0.1111111111111111,
                            "#46039f"
                          ],
                          [
                            0.2222222222222222,
                            "#7201a8"
                          ],
                          [
                            0.3333333333333333,
                            "#9c179e"
                          ],
                          [
                            0.4444444444444444,
                            "#bd3786"
                          ],
                          [
                            0.5555555555555556,
                            "#d8576b"
                          ],
                          [
                            0.6666666666666666,
                            "#ed7953"
                          ],
                          [
                            0.7777777777777778,
                            "#fb9f3a"
                          ],
                          [
                            0.8888888888888888,
                            "#fdca26"
                          ],
                          [
                            1,
                            "#f0f921"
                          ]
                        ],
                        "type": "histogram2d"
                      }
                    ],
                    "histogram2dcontour": [
                      {
                        "colorbar": {
                          "outlinewidth": 0,
                          "ticks": ""
                        },
                        "colorscale": [
                          [
                            0,
                            "#0d0887"
                          ],
                          [
                            0.1111111111111111,
                            "#46039f"
                          ],
                          [
                            0.2222222222222222,
                            "#7201a8"
                          ],
                          [
                            0.3333333333333333,
                            "#9c179e"
                          ],
                          [
                            0.4444444444444444,
                            "#bd3786"
                          ],
                          [
                            0.5555555555555556,
                            "#d8576b"
                          ],
                          [
                            0.6666666666666666,
                            "#ed7953"
                          ],
                          [
                            0.7777777777777778,
                            "#fb9f3a"
                          ],
                          [
                            0.8888888888888888,
                            "#fdca26"
                          ],
                          [
                            1,
                            "#f0f921"
                          ]
                        ],
                        "type": "histogram2dcontour"
                      }
                    ],
                    "mesh3d": [
                      {
                        "colorbar": {
                          "outlinewidth": 0,
                          "ticks": ""
                        },
                        "type": "mesh3d"
                      }
                    ],
                    "parcoords": [
                      {
                        "line": {
                          "colorbar": {
                            "outlinewidth": 0,
                            "ticks": ""
                          }
                        },
                        "type": "parcoords"
                      }
                    ],
                    "pie": [
                      {
                        "automargin": true,
                        "type": "pie"
                      }
                    ],
                    "scatter": [
                      {
                        "marker": {
                          "line": {
                            "color": "#283442"
                          }
                        },
                        "type": "scatter"
                      }
                    ],
                    "scatter3d": [
                      {
                        "line": {
                          "colorbar": {
                            "outlinewidth": 0,
                            "ticks": ""
                          }
                        },
                        "marker": {
                          "colorbar": {
                            "outlinewidth": 0,
                            "ticks": ""
                          }
                        },
                        "type": "scatter3d"
                      }
                    ],
                    "scattercarpet": [
                      {
                        "marker": {
                          "colorbar": {
                            "outlinewidth": 0,
                            "ticks": ""
                          }
                        },
                        "type": "scattercarpet"
                      }
                    ],
                    "scattergeo": [
                      {
                        "marker": {
                          "colorbar": {
                            "outlinewidth": 0,
                            "ticks": ""
                          }
                        },
                        "type": "scattergeo"
                      }
                    ],
                    "scattergl": [
                      {
                        "marker": {
                          "line": {
                            "color": "#283442"
                          }
                        },
                        "type": "scattergl"
                      }
                    ],
                    "scattermapbox": [
                      {
                        "marker": {
                          "colorbar": {
                            "outlinewidth": 0,
                            "ticks": ""
                          }
                        },
                        "type": "scattermapbox"
                      }
                    ],
                    "scatterpolar": [
                      {
                        "marker": {
                          "colorbar": {
                            "outlinewidth": 0,
                            "ticks": ""
                          }
                        },
                        "type": "scatterpolar"
                      }
                    ],
                    "scatterpolargl": [
                      {
                        "marker": {
                          "colorbar": {
                            "outlinewidth": 0,
                            "ticks": ""
                          }
                        },
                        "type": "scatterpolargl"
                      }
                    ],
                    "scatterternary": [
                      {
                        "marker": {
                          "colorbar": {
                            "outlinewidth": 0,
                            "ticks": ""
                          }
                        },
                        "type": "scatterternary"
                      }
                    ],
                    "surface": [
                      {
                        "colorbar": {
                          "outlinewidth": 0,
                          "ticks": ""
                        },
                        "colorscale": [
                          [
                            0,
                            "#0d0887"
                          ],
                          [
                            0.1111111111111111,
                            "#46039f"
                          ],
                          [
                            0.2222222222222222,
                            "#7201a8"
                          ],
                          [
                            0.3333333333333333,
                            "#9c179e"
                          ],
                          [
                            0.4444444444444444,
                            "#bd3786"
                          ],
                          [
                            0.5555555555555556,
                            "#d8576b"
                          ],
                          [
                            0.6666666666666666,
                            "#ed7953"
                          ],
                          [
                            0.7777777777777778,
                            "#fb9f3a"
                          ],
                          [
                            0.8888888888888888,
                            "#fdca26"
                          ],
                          [
                            1,
                            "#f0f921"
                          ]
                        ],
                        "type": "surface"
                      }
                    ],
                    "table": [
                      {
                        "cells": {
                          "fill": {
                            "color": "#506784"
                          },
                          "line": {
                            "color": "rgb(17,17,17)"
                          }
                        },
                        "header": {
                          "fill": {
                            "color": "#2a3f5f"
                          },
                          "line": {
                            "color": "rgb(17,17,17)"
                          }
                        },
                        "type": "table"
                      }
                    ]
                  },
                  "layout": {
                    "annotationdefaults": {
                      "arrowcolor": "#f2f5fa",
                      "arrowhead": 0,
                      "arrowwidth": 1
                    },
                    "autotypenumbers": "strict",
                    "coloraxis": {
                      "colorbar": {
                        "outlinewidth": 0,
                        "ticks": ""
                      }
                    },
                    "colorscale": {
                      "diverging": [
                        [
                          0,
                          "#8e0152"
                        ],
                        [
                          0.1,
                          "#c51b7d"
                        ],
                        [
                          0.2,
                          "#de77ae"
                        ],
                        [
                          0.3,
                          "#f1b6da"
                        ],
                        [
                          0.4,
                          "#fde0ef"
                        ],
                        [
                          0.5,
                          "#f7f7f7"
                        ],
                        [
                          0.6,
                          "#e6f5d0"
                        ],
                        [
                          0.7,
                          "#b8e186"
                        ],
                        [
                          0.8,
                          "#7fbc41"
                        ],
                        [
                          0.9,
                          "#4d9221"
                        ],
                        [
                          1,
                          "#276419"
                        ]
                      ],
                      "sequential": [
                        [
                          0,
                          "#0d0887"
                        ],
                        [
                          0.1111111111111111,
                          "#46039f"
                        ],
                        [
                          0.2222222222222222,
                          "#7201a8"
                        ],
                        [
                          0.3333333333333333,
                          "#9c179e"
                        ],
                        [
                          0.4444444444444444,
                          "#bd3786"
                        ],
                        [
                          0.5555555555555556,
                          "#d8576b"
                        ],
                        [
                          0.6666666666666666,
                          "#ed7953"
                        ],
                        [
                          0.7777777777777778,
                          "#fb9f3a"
                        ],
                        [
                          0.8888888888888888,
                          "#fdca26"
                        ],
                        [
                          1,
                          "#f0f921"
                        ]
                      ],
                      "sequentialminus": [
                        [
                          0,
                          "#0d0887"
                        ],
                        [
                          0.1111111111111111,
                          "#46039f"
                        ],
                        [
                          0.2222222222222222,
                          "#7201a8"
                        ],
                        [
                          0.3333333333333333,
                          "#9c179e"
                        ],
                        [
                          0.4444444444444444,
                          "#bd3786"
                        ],
                        [
                          0.5555555555555556,
                          "#d8576b"
                        ],
                        [
                          0.6666666666666666,
                          "#ed7953"
                        ],
                        [
                          0.7777777777777778,
                          "#fb9f3a"
                        ],
                        [
                          0.8888888888888888,
                          "#fdca26"
                        ],
                        [
                          1,
                          "#f0f921"
                        ]
                      ]
                    },
                    "colorway": [
                      "#636efa",
                      "#EF553B",
                      "#00cc96",
                      "#ab63fa",
                      "#FFA15A",
                      "#19d3f3",
                      "#FF6692",
                      "#B6E880",
                      "#FF97FF",
                      "#FECB52"
                    ],
                    "font": {
                      "color": "#f2f5fa"
                    },
                    "geo": {
                      "bgcolor": "rgb(17,17,17)",
                      "lakecolor": "rgb(17,17,17)",
                      "landcolor": "rgb(17,17,17)",
                      "showlakes": true,
                      "showland": true,
                      "subunitcolor": "#506784"
                    },
                    "hoverlabel": {
                      "align": "left"
                    },
                    "hovermode": "closest",
                    "mapbox": {
                      "style": "dark"
                    },
                    "paper_bgcolor": "rgba(30, 30, 30, 0.5)",
                    "plot_bgcolor": "rgba(30, 30, 30, 0.5)",
                    "polar": {
                      "angularaxis": {
                        "gridcolor": "#506784",
                        "linecolor": "#506784",
                        "ticks": ""
                      },
                      "bgcolor": "rgb(17,17,17)",
                      "radialaxis": {
                        "gridcolor": "#506784",
                        "linecolor": "#506784",
                        "ticks": ""
                      }
                    },
                    "scene": {
                      "xaxis": {
                        "backgroundcolor": "rgb(17,17,17)",
                        "gridcolor": "#506784",
                        "gridwidth": 2,
                        "linecolor": "#506784",
                        "showbackground": true,
                        "ticks": "",
                        "zerolinecolor": "#C8D4E3"
                      },
                      "yaxis": {
                        "backgroundcolor": "rgb(17,17,17)",
                        "gridcolor": "#506784",
                        "gridwidth": 2,
                        "linecolor": "#506784",
                        "showbackground": true,
                        "ticks": "",
                        "zerolinecolor": "#C8D4E3"
                      },
                      "zaxis": {
                        "backgroundcolor": "rgb(17,17,17)",
                        "gridcolor": "#506784",
                        "gridwidth": 2,
                        "linecolor": "#506784",
                        "showbackground": true,
                        "ticks": "",
                        "zerolinecolor": "#C8D4E3"
                      }
                    },
                    "shapedefaults": {
                      "line": {
                        "color": "#f2f5fa"
                      }
                    },
                    "sliderdefaults": {
                      "bgcolor": "#C8D4E3",
                      "bordercolor": "rgb(17,17,17)",
                      "borderwidth": 1,
                      "tickwidth": 0
                    },
                    "ternary": {
                      "aaxis": {
                        "gridcolor": "#506784",
                        "linecolor": "#506784",
                        "ticks": ""
                      },
                      "baxis": {
                        "gridcolor": "#506784",
                        "linecolor": "#506784",
                        "ticks": ""
                      },
                      "bgcolor": "rgb(17,17,17)",
                      "caxis": {
                        "gridcolor": "#506784",
                        "linecolor": "#506784",
                        "ticks": ""
                      }
                    },
                    "title": {
                      "x": 0.05
                    },
                    "updatemenudefaults": {
                      "bgcolor": "#506784",
                      "borderwidth": 0
                    },
                    "xaxis": {
                      "automargin": true,
                      "gridcolor": "#283442",
                      "linecolor": "#506784",
                      "ticks": "",
                      "title": {
                        "standoff": 15
                      },
                      "zerolinecolor": "#283442",
                      "zerolinewidth": 2
                    },
                    "yaxis": {
                      "automargin": true,
                      "gridcolor": "#283442",
                      "linecolor": "#506784",
                      "ticks": "",
                      "title": {
                        "standoff": 15
                      },
                      "zerolinecolor": "#283442",
                      "zerolinewidth": 2
                    }
                  }
                },
                "width": 1200,
                "xaxis": {
                  "mirror": "allticks",
                  "rangemode": "tozero",
                  "showgrid": false,
                  "showline": true,
                  "showticklabels": true,
                  "tickmode": "array",
                  "ticks": "outside",
                  "ticktext": [
                    "Luxembourg",
                    "Malta",
                    "Singapore",
                    "Qatar",
                    "Oman",
                    "Saudi Arabia",
                    "Bahrain",
                    "Libya",
                    "United Arab Emirates",
                    "Brunei",
                    "Kuwait",
                    "Ireland",
                    "Belgium",
                    "Netherlands",
                    "Norway",
                    "Switzerland",
                    "United States",
                    "Iceland",
                    "Finland",
                    "Sweden",
                    "Denmark",
                    "Austria",
                    "Germany",
                    "Canada",
                    "France",
                    "Australia",
                    "Japan",
                    "Israel",
                    "Greece",
                    "Portugal",
                    "Italy",
                    "Spain",
                    "New Zealand",
                    "United Kingdom",
                    "Haiti",
                    "Sierra Leone",
                    "Rwanda",
                    "Burundi",
                    "Afghanistan",
                    "Uganda",
                    "Burkina Faso",
                    "Guinea-Bissau",
                    "Kenya",
                    "Madagascar",
                    "Comoros",
                    "Gambia",
                    "Senegal",
                    "Togo",
                    "Benin",
                    "Cameroon",
                    "Congo, Dem. Rep.",
                    "Tanzania",
                    "Malawi",
                    "Zambia",
                    "Guinea",
                    "Cote d'Ivoire",
                    "Mozambique",
                    "Central African Republic",
                    "Niger",
                    "Chad",
                    "Mali",
                    "Lesotho",
                    "Micronesia, Fed. Sts.",
                    "Kiribati",
                    "Liberia",
                    "South Africa",
                    "Botswana",
                    "Namibia",
                    "Solomon Islands",
                    "Vanuatu",
                    "Cambodia",
                    "Fiji",
                    "Bhutan",
                    "Guyana",
                    "Kyrgyz Republic",
                    "Czech Republic",
                    "Slovenia",
                    "Estonia",
                    "Lithuania",
                    "Hungary",
                    "Slovak Republic",
                    "Seychelles",
                    "Malaysia",
                    "Thailand",
                    "Vietnam",
                    "Maldives",
                    "Panama",
                    "Samoa",
                    "Tonga",
                    "Romania",
                    "Grenada",
                    "Albania",
                    "El Salvador",
                    "Armenia",
                    "Jamaica",
                    "Morocco",
                    "Cape Verde",
                    "St. Vincent and the Grenadines",
                    "Belarus",
                    "Ukraine",
                    "Azerbaijan",
                    "Suriname",
                    "Antigua and Barbuda",
                    "Lebanon",
                    "Macedonia, FYR",
                    "Mauritius",
                    "Bulgaria",
                    "Latvia",
                    "Jordan",
                    "Belize",
                    "Paraguay",
                    "Tunisia",
                    "Cyprus",
                    "South Korea",
                    "Bahamas",
                    "Barbados",
                    "Croatia",
                    "Poland",
                    "Moldova",
                    "Costa Rica",
                    "Montenegro",
                    "Georgia",
                    "Bosnia and Herzegovina",
                    "Serbia",
                    "Nigeria",
                    "Equatorial Guinea",
                    "Congo, Rep.",
                    "Angola",
                    "Mauritania",
                    "Mongolia",
                    "Venezuela",
                    "Timor-Leste",
                    "Iraq",
                    "Sudan",
                    "Yemen",
                    "Myanmar",
                    "Eritrea",
                    "Pakistan",
                    "Gabon",
                    "Turkmenistan",
                    "Tajikistan",
                    "Ghana",
                    "Lao",
                    "Nepal",
                    "Uzbekistan",
                    "Bangladesh",
                    "India",
                    "Egypt",
                    "Bolivia",
                    "Philippines",
                    "Brazil",
                    "Chile",
                    "Colombia",
                    "Turkey",
                    "Uruguay",
                    "China",
                    "Peru",
                    "Ecuador",
                    "Dominican Republic",
                    "Guatemala",
                    "Indonesia",
                    "Sri Lanka",
                    "Algeria",
                    "Kazakhstan",
                    "Argentina",
                    "Iran",
                    "Russia"
                  ],
                  "tickvals": [
                    5,
                    15,
                    25,
                    35,
                    45,
                    55,
                    65,
                    75,
                    85,
                    95,
                    105,
                    115,
                    125,
                    135,
                    145,
                    155,
                    165,
                    175,
                    185,
                    195,
                    205,
                    215,
                    225,
                    235,
                    245,
                    255,
                    265,
                    275,
                    285,
                    295,
                    305,
                    315,
                    325,
                    335,
                    345,
                    355,
                    365,
                    375,
                    385,
                    395,
                    405,
                    415,
                    425,
                    435,
                    445,
                    455,
                    465,
                    475,
                    485,
                    495,
                    505,
                    515,
                    525,
                    535,
                    545,
                    555,
                    565,
                    575,
                    585,
                    595,
                    605,
                    615,
                    625,
                    635,
                    645,
                    655,
                    665,
                    675,
                    685,
                    695,
                    705,
                    715,
                    725,
                    735,
                    745,
                    755,
                    765,
                    775,
                    785,
                    795,
                    805,
                    815,
                    825,
                    835,
                    845,
                    855,
                    865,
                    875,
                    885,
                    895,
                    905,
                    915,
                    925,
                    935,
                    945,
                    955,
                    965,
                    975,
                    985,
                    995,
                    1005,
                    1015,
                    1025,
                    1035,
                    1045,
                    1055,
                    1065,
                    1075,
                    1085,
                    1095,
                    1105,
                    1115,
                    1125,
                    1135,
                    1145,
                    1155,
                    1165,
                    1175,
                    1185,
                    1195,
                    1205,
                    1215,
                    1225,
                    1235,
                    1245,
                    1255,
                    1265,
                    1275,
                    1285,
                    1295,
                    1305,
                    1315,
                    1325,
                    1335,
                    1345,
                    1355,
                    1365,
                    1375,
                    1385,
                    1395,
                    1405,
                    1415,
                    1425,
                    1435,
                    1445,
                    1455,
                    1465,
                    1475,
                    1485,
                    1495,
                    1505,
                    1515,
                    1525,
                    1535,
                    1545,
                    1555,
                    1565,
                    1575,
                    1585,
                    1595,
                    1605,
                    1615,
                    1625,
                    1635,
                    1645,
                    1655,
                    1665
                  ],
                  "type": "linear",
                  "zeroline": false
                },
                "yaxis": {
                  "mirror": "allticks",
                  "rangemode": "tozero",
                  "showgrid": false,
                  "showline": true,
                  "showticklabels": true,
                  "ticks": "outside",
                  "type": "linear",
                  "zeroline": false
                }
              }
            }
          },
          "metadata": {},
          "output_type": "display_data"
        }
      ],
      "source": [
        "fig = ff.create_dendrogram(X,\n",
        "                           labels=X.index,\n",
        "                           linkagefun=lambda x: linkage(x, method='ward'))\n",
        "fig.update_layout(width=1200, height=1000)\n",
        "fig.show()"
      ]
    },
    {
      "cell_type": "code",
      "execution_count": null,
      "metadata": {
        "id": "hBqUzu_pcrcr",
        "outputId": "4865420a-c16f-473d-bcda-db7e251f2a72"
      },
      "outputs": [
        {
          "data": {
            "application/vnd.plotly.v1+json": {
              "config": {
                "plotlyServerURL": "https://plot.ly"
              },
              "data": [
                {
                  "mode": "lines+markers",
                  "name": "Índice de Silueta",
                  "type": "scatter",
                  "x": [
                    3,
                    4,
                    5,
                    6,
                    7,
                    8,
                    9
                  ],
                  "y": [
                    0.24563001303300652,
                    0.24811891847692066,
                    0.2193301598939687,
                    0.217674980548791,
                    0.24187376443876954,
                    0.23387000967791902,
                    0.23713495817822783
                  ]
                },
                {
                  "line": {
                    "color": "red",
                    "dash": "dot",
                    "width": 2
                  },
                  "mode": "lines",
                  "name": "Mejor Índice",
                  "type": "scatter",
                  "x": [
                    4,
                    4
                  ],
                  "y": [
                    0,
                    0.24811891847692066
                  ]
                }
              ],
              "layout": {
                "height": 500,
                "showlegend": true,
                "template": {
                  "data": {
                    "bar": [
                      {
                        "error_x": {
                          "color": "#f2f5fa"
                        },
                        "error_y": {
                          "color": "#f2f5fa"
                        },
                        "marker": {
                          "line": {
                            "color": "rgb(17,17,17)",
                            "width": 0.5
                          },
                          "pattern": {
                            "fillmode": "overlay",
                            "size": 10,
                            "solidity": 0.2
                          }
                        },
                        "type": "bar"
                      }
                    ],
                    "barpolar": [
                      {
                        "marker": {
                          "line": {
                            "color": "rgb(17,17,17)",
                            "width": 0.5
                          },
                          "pattern": {
                            "fillmode": "overlay",
                            "size": 10,
                            "solidity": 0.2
                          }
                        },
                        "type": "barpolar"
                      }
                    ],
                    "carpet": [
                      {
                        "aaxis": {
                          "endlinecolor": "#A2B1C6",
                          "gridcolor": "#506784",
                          "linecolor": "#506784",
                          "minorgridcolor": "#506784",
                          "startlinecolor": "#A2B1C6"
                        },
                        "baxis": {
                          "endlinecolor": "#A2B1C6",
                          "gridcolor": "#506784",
                          "linecolor": "#506784",
                          "minorgridcolor": "#506784",
                          "startlinecolor": "#A2B1C6"
                        },
                        "type": "carpet"
                      }
                    ],
                    "choropleth": [
                      {
                        "colorbar": {
                          "outlinewidth": 0,
                          "ticks": ""
                        },
                        "type": "choropleth"
                      }
                    ],
                    "contour": [
                      {
                        "colorbar": {
                          "outlinewidth": 0,
                          "ticks": ""
                        },
                        "colorscale": [
                          [
                            0,
                            "#0d0887"
                          ],
                          [
                            0.1111111111111111,
                            "#46039f"
                          ],
                          [
                            0.2222222222222222,
                            "#7201a8"
                          ],
                          [
                            0.3333333333333333,
                            "#9c179e"
                          ],
                          [
                            0.4444444444444444,
                            "#bd3786"
                          ],
                          [
                            0.5555555555555556,
                            "#d8576b"
                          ],
                          [
                            0.6666666666666666,
                            "#ed7953"
                          ],
                          [
                            0.7777777777777778,
                            "#fb9f3a"
                          ],
                          [
                            0.8888888888888888,
                            "#fdca26"
                          ],
                          [
                            1,
                            "#f0f921"
                          ]
                        ],
                        "type": "contour"
                      }
                    ],
                    "contourcarpet": [
                      {
                        "colorbar": {
                          "outlinewidth": 0,
                          "ticks": ""
                        },
                        "type": "contourcarpet"
                      }
                    ],
                    "heatmap": [
                      {
                        "colorbar": {
                          "outlinewidth": 0,
                          "ticks": ""
                        },
                        "colorscale": [
                          [
                            0,
                            "#0d0887"
                          ],
                          [
                            0.1111111111111111,
                            "#46039f"
                          ],
                          [
                            0.2222222222222222,
                            "#7201a8"
                          ],
                          [
                            0.3333333333333333,
                            "#9c179e"
                          ],
                          [
                            0.4444444444444444,
                            "#bd3786"
                          ],
                          [
                            0.5555555555555556,
                            "#d8576b"
                          ],
                          [
                            0.6666666666666666,
                            "#ed7953"
                          ],
                          [
                            0.7777777777777778,
                            "#fb9f3a"
                          ],
                          [
                            0.8888888888888888,
                            "#fdca26"
                          ],
                          [
                            1,
                            "#f0f921"
                          ]
                        ],
                        "type": "heatmap"
                      }
                    ],
                    "heatmapgl": [
                      {
                        "colorbar": {
                          "outlinewidth": 0,
                          "ticks": ""
                        },
                        "colorscale": [
                          [
                            0,
                            "#0d0887"
                          ],
                          [
                            0.1111111111111111,
                            "#46039f"
                          ],
                          [
                            0.2222222222222222,
                            "#7201a8"
                          ],
                          [
                            0.3333333333333333,
                            "#9c179e"
                          ],
                          [
                            0.4444444444444444,
                            "#bd3786"
                          ],
                          [
                            0.5555555555555556,
                            "#d8576b"
                          ],
                          [
                            0.6666666666666666,
                            "#ed7953"
                          ],
                          [
                            0.7777777777777778,
                            "#fb9f3a"
                          ],
                          [
                            0.8888888888888888,
                            "#fdca26"
                          ],
                          [
                            1,
                            "#f0f921"
                          ]
                        ],
                        "type": "heatmapgl"
                      }
                    ],
                    "histogram": [
                      {
                        "marker": {
                          "pattern": {
                            "fillmode": "overlay",
                            "size": 10,
                            "solidity": 0.2
                          }
                        },
                        "type": "histogram"
                      }
                    ],
                    "histogram2d": [
                      {
                        "colorbar": {
                          "outlinewidth": 0,
                          "ticks": ""
                        },
                        "colorscale": [
                          [
                            0,
                            "#0d0887"
                          ],
                          [
                            0.1111111111111111,
                            "#46039f"
                          ],
                          [
                            0.2222222222222222,
                            "#7201a8"
                          ],
                          [
                            0.3333333333333333,
                            "#9c179e"
                          ],
                          [
                            0.4444444444444444,
                            "#bd3786"
                          ],
                          [
                            0.5555555555555556,
                            "#d8576b"
                          ],
                          [
                            0.6666666666666666,
                            "#ed7953"
                          ],
                          [
                            0.7777777777777778,
                            "#fb9f3a"
                          ],
                          [
                            0.8888888888888888,
                            "#fdca26"
                          ],
                          [
                            1,
                            "#f0f921"
                          ]
                        ],
                        "type": "histogram2d"
                      }
                    ],
                    "histogram2dcontour": [
                      {
                        "colorbar": {
                          "outlinewidth": 0,
                          "ticks": ""
                        },
                        "colorscale": [
                          [
                            0,
                            "#0d0887"
                          ],
                          [
                            0.1111111111111111,
                            "#46039f"
                          ],
                          [
                            0.2222222222222222,
                            "#7201a8"
                          ],
                          [
                            0.3333333333333333,
                            "#9c179e"
                          ],
                          [
                            0.4444444444444444,
                            "#bd3786"
                          ],
                          [
                            0.5555555555555556,
                            "#d8576b"
                          ],
                          [
                            0.6666666666666666,
                            "#ed7953"
                          ],
                          [
                            0.7777777777777778,
                            "#fb9f3a"
                          ],
                          [
                            0.8888888888888888,
                            "#fdca26"
                          ],
                          [
                            1,
                            "#f0f921"
                          ]
                        ],
                        "type": "histogram2dcontour"
                      }
                    ],
                    "mesh3d": [
                      {
                        "colorbar": {
                          "outlinewidth": 0,
                          "ticks": ""
                        },
                        "type": "mesh3d"
                      }
                    ],
                    "parcoords": [
                      {
                        "line": {
                          "colorbar": {
                            "outlinewidth": 0,
                            "ticks": ""
                          }
                        },
                        "type": "parcoords"
                      }
                    ],
                    "pie": [
                      {
                        "automargin": true,
                        "type": "pie"
                      }
                    ],
                    "scatter": [
                      {
                        "marker": {
                          "line": {
                            "color": "#283442"
                          }
                        },
                        "type": "scatter"
                      }
                    ],
                    "scatter3d": [
                      {
                        "line": {
                          "colorbar": {
                            "outlinewidth": 0,
                            "ticks": ""
                          }
                        },
                        "marker": {
                          "colorbar": {
                            "outlinewidth": 0,
                            "ticks": ""
                          }
                        },
                        "type": "scatter3d"
                      }
                    ],
                    "scattercarpet": [
                      {
                        "marker": {
                          "colorbar": {
                            "outlinewidth": 0,
                            "ticks": ""
                          }
                        },
                        "type": "scattercarpet"
                      }
                    ],
                    "scattergeo": [
                      {
                        "marker": {
                          "colorbar": {
                            "outlinewidth": 0,
                            "ticks": ""
                          }
                        },
                        "type": "scattergeo"
                      }
                    ],
                    "scattergl": [
                      {
                        "marker": {
                          "line": {
                            "color": "#283442"
                          }
                        },
                        "type": "scattergl"
                      }
                    ],
                    "scattermapbox": [
                      {
                        "marker": {
                          "colorbar": {
                            "outlinewidth": 0,
                            "ticks": ""
                          }
                        },
                        "type": "scattermapbox"
                      }
                    ],
                    "scatterpolar": [
                      {
                        "marker": {
                          "colorbar": {
                            "outlinewidth": 0,
                            "ticks": ""
                          }
                        },
                        "type": "scatterpolar"
                      }
                    ],
                    "scatterpolargl": [
                      {
                        "marker": {
                          "colorbar": {
                            "outlinewidth": 0,
                            "ticks": ""
                          }
                        },
                        "type": "scatterpolargl"
                      }
                    ],
                    "scatterternary": [
                      {
                        "marker": {
                          "colorbar": {
                            "outlinewidth": 0,
                            "ticks": ""
                          }
                        },
                        "type": "scatterternary"
                      }
                    ],
                    "surface": [
                      {
                        "colorbar": {
                          "outlinewidth": 0,
                          "ticks": ""
                        },
                        "colorscale": [
                          [
                            0,
                            "#0d0887"
                          ],
                          [
                            0.1111111111111111,
                            "#46039f"
                          ],
                          [
                            0.2222222222222222,
                            "#7201a8"
                          ],
                          [
                            0.3333333333333333,
                            "#9c179e"
                          ],
                          [
                            0.4444444444444444,
                            "#bd3786"
                          ],
                          [
                            0.5555555555555556,
                            "#d8576b"
                          ],
                          [
                            0.6666666666666666,
                            "#ed7953"
                          ],
                          [
                            0.7777777777777778,
                            "#fb9f3a"
                          ],
                          [
                            0.8888888888888888,
                            "#fdca26"
                          ],
                          [
                            1,
                            "#f0f921"
                          ]
                        ],
                        "type": "surface"
                      }
                    ],
                    "table": [
                      {
                        "cells": {
                          "fill": {
                            "color": "#506784"
                          },
                          "line": {
                            "color": "rgb(17,17,17)"
                          }
                        },
                        "header": {
                          "fill": {
                            "color": "#2a3f5f"
                          },
                          "line": {
                            "color": "rgb(17,17,17)"
                          }
                        },
                        "type": "table"
                      }
                    ]
                  },
                  "layout": {
                    "annotationdefaults": {
                      "arrowcolor": "#f2f5fa",
                      "arrowhead": 0,
                      "arrowwidth": 1
                    },
                    "autotypenumbers": "strict",
                    "coloraxis": {
                      "colorbar": {
                        "outlinewidth": 0,
                        "ticks": ""
                      }
                    },
                    "colorscale": {
                      "diverging": [
                        [
                          0,
                          "#8e0152"
                        ],
                        [
                          0.1,
                          "#c51b7d"
                        ],
                        [
                          0.2,
                          "#de77ae"
                        ],
                        [
                          0.3,
                          "#f1b6da"
                        ],
                        [
                          0.4,
                          "#fde0ef"
                        ],
                        [
                          0.5,
                          "#f7f7f7"
                        ],
                        [
                          0.6,
                          "#e6f5d0"
                        ],
                        [
                          0.7,
                          "#b8e186"
                        ],
                        [
                          0.8,
                          "#7fbc41"
                        ],
                        [
                          0.9,
                          "#4d9221"
                        ],
                        [
                          1,
                          "#276419"
                        ]
                      ],
                      "sequential": [
                        [
                          0,
                          "#0d0887"
                        ],
                        [
                          0.1111111111111111,
                          "#46039f"
                        ],
                        [
                          0.2222222222222222,
                          "#7201a8"
                        ],
                        [
                          0.3333333333333333,
                          "#9c179e"
                        ],
                        [
                          0.4444444444444444,
                          "#bd3786"
                        ],
                        [
                          0.5555555555555556,
                          "#d8576b"
                        ],
                        [
                          0.6666666666666666,
                          "#ed7953"
                        ],
                        [
                          0.7777777777777778,
                          "#fb9f3a"
                        ],
                        [
                          0.8888888888888888,
                          "#fdca26"
                        ],
                        [
                          1,
                          "#f0f921"
                        ]
                      ],
                      "sequentialminus": [
                        [
                          0,
                          "#0d0887"
                        ],
                        [
                          0.1111111111111111,
                          "#46039f"
                        ],
                        [
                          0.2222222222222222,
                          "#7201a8"
                        ],
                        [
                          0.3333333333333333,
                          "#9c179e"
                        ],
                        [
                          0.4444444444444444,
                          "#bd3786"
                        ],
                        [
                          0.5555555555555556,
                          "#d8576b"
                        ],
                        [
                          0.6666666666666666,
                          "#ed7953"
                        ],
                        [
                          0.7777777777777778,
                          "#fb9f3a"
                        ],
                        [
                          0.8888888888888888,
                          "#fdca26"
                        ],
                        [
                          1,
                          "#f0f921"
                        ]
                      ]
                    },
                    "colorway": [
                      "#636efa",
                      "#EF553B",
                      "#00cc96",
                      "#ab63fa",
                      "#FFA15A",
                      "#19d3f3",
                      "#FF6692",
                      "#B6E880",
                      "#FF97FF",
                      "#FECB52"
                    ],
                    "font": {
                      "color": "#f2f5fa"
                    },
                    "geo": {
                      "bgcolor": "rgb(17,17,17)",
                      "lakecolor": "rgb(17,17,17)",
                      "landcolor": "rgb(17,17,17)",
                      "showlakes": true,
                      "showland": true,
                      "subunitcolor": "#506784"
                    },
                    "hoverlabel": {
                      "align": "left"
                    },
                    "hovermode": "closest",
                    "mapbox": {
                      "style": "dark"
                    },
                    "paper_bgcolor": "rgba(30, 30, 30, 0.5)",
                    "plot_bgcolor": "rgba(30, 30, 30, 0.5)",
                    "polar": {
                      "angularaxis": {
                        "gridcolor": "#506784",
                        "linecolor": "#506784",
                        "ticks": ""
                      },
                      "bgcolor": "rgb(17,17,17)",
                      "radialaxis": {
                        "gridcolor": "#506784",
                        "linecolor": "#506784",
                        "ticks": ""
                      }
                    },
                    "scene": {
                      "xaxis": {
                        "backgroundcolor": "rgb(17,17,17)",
                        "gridcolor": "#506784",
                        "gridwidth": 2,
                        "linecolor": "#506784",
                        "showbackground": true,
                        "ticks": "",
                        "zerolinecolor": "#C8D4E3"
                      },
                      "yaxis": {
                        "backgroundcolor": "rgb(17,17,17)",
                        "gridcolor": "#506784",
                        "gridwidth": 2,
                        "linecolor": "#506784",
                        "showbackground": true,
                        "ticks": "",
                        "zerolinecolor": "#C8D4E3"
                      },
                      "zaxis": {
                        "backgroundcolor": "rgb(17,17,17)",
                        "gridcolor": "#506784",
                        "gridwidth": 2,
                        "linecolor": "#506784",
                        "showbackground": true,
                        "ticks": "",
                        "zerolinecolor": "#C8D4E3"
                      }
                    },
                    "shapedefaults": {
                      "line": {
                        "color": "#f2f5fa"
                      }
                    },
                    "sliderdefaults": {
                      "bgcolor": "#C8D4E3",
                      "bordercolor": "rgb(17,17,17)",
                      "borderwidth": 1,
                      "tickwidth": 0
                    },
                    "ternary": {
                      "aaxis": {
                        "gridcolor": "#506784",
                        "linecolor": "#506784",
                        "ticks": ""
                      },
                      "baxis": {
                        "gridcolor": "#506784",
                        "linecolor": "#506784",
                        "ticks": ""
                      },
                      "bgcolor": "rgb(17,17,17)",
                      "caxis": {
                        "gridcolor": "#506784",
                        "linecolor": "#506784",
                        "ticks": ""
                      }
                    },
                    "title": {
                      "x": 0.05
                    },
                    "updatemenudefaults": {
                      "bgcolor": "#506784",
                      "borderwidth": 0
                    },
                    "xaxis": {
                      "automargin": true,
                      "gridcolor": "#283442",
                      "linecolor": "#506784",
                      "ticks": "",
                      "title": {
                        "standoff": 15
                      },
                      "zerolinecolor": "#283442",
                      "zerolinewidth": 2
                    },
                    "yaxis": {
                      "automargin": true,
                      "gridcolor": "#283442",
                      "linecolor": "#506784",
                      "ticks": "",
                      "title": {
                        "standoff": 15
                      },
                      "zerolinecolor": "#283442",
                      "zerolinewidth": 2
                    }
                  }
                },
                "title": {
                  "text": ""
                },
                "width": 1200,
                "xaxis": {
                  "title": {
                    "text": "Número de Clusters"
                  }
                },
                "yaxis": {
                  "title": {
                    "text": "Índice de Silueta"
                  }
                }
              }
            }
          },
          "metadata": {},
          "output_type": "display_data"
        }
      ],
      "source": [
        "score_plot(scores=silhouette_scores, range_n_clusters=range_n_clusters,\n",
        "           operator='max', name_index = 'Índice de Silueta')"
      ]
    },
    {
      "cell_type": "markdown",
      "metadata": {
        "id": "6hok5WXVcrcs"
      },
      "source": [
        "Basado en el análisis previo, elegimos un número de clusters (esta interpretación es meramente subjetiva y depende de lo que buscamos):"
      ]
    },
    {
      "cell_type": "code",
      "execution_count": null,
      "metadata": {
        "id": "jRoTfSlzcrct"
      },
      "outputs": [],
      "source": [
        "# Eligiendo un número razonable basado en el análisis del coeficiente de silueta y el dendrograma (3 y 4 podríamos probar)\n",
        "n_clusters_optimo = 3\n",
        "\n",
        "# Realizar el clustering con el número óptimo de clusters\n",
        "clusterer_final = AgglomerativeClustering(n_clusters=n_clusters_optimo,\n",
        "                                          metric='euclidean',\n",
        "                                          linkage='ward')\n",
        "\n",
        "cluster_labels = clusterer_final.fit_predict(X)"
      ]
    },
    {
      "cell_type": "code",
      "execution_count": null,
      "metadata": {
        "id": "tlnFwRwlawAo",
        "outputId": "a4eb3d70-f415-4f7c-8a71-f4108bfd722d"
      },
      "outputs": [
        {
          "data": {
            "text/plain": [
              "array([2, 1, 1, 1, 1, 1, 1, 0, 0, 1, 1, 0, 1, 1, 1, 0, 1, 2, 1, 1, 1, 1,\n",
              "       1, 0, 1, 2, 2, 1, 2, 0, 1, 2, 2, 1, 1, 1, 2, 2, 1, 1, 2, 1, 1, 1,\n",
              "       0, 1, 1, 1, 1, 1, 1, 1, 1, 0, 0, 1, 2, 1, 0, 1, 0, 1, 1, 2, 2, 1,\n",
              "       2, 1, 0, 1, 1, 1, 1, 0, 0, 0, 1, 0, 1, 1, 2, 1, 0, 1, 1, 1, 1, 1,\n",
              "       1, 0, 1, 0, 1, 2, 2, 1, 1, 2, 0, 1, 1, 1, 1, 1, 1, 1, 2, 1, 1, 1,\n",
              "       0, 0, 2, 1, 0, 0, 1, 1, 1, 1, 1, 1, 0, 0, 1, 1, 2, 1, 0, 2, 1, 1,\n",
              "       2, 0, 1, 1, 1, 1, 1, 0, 1, 1, 1, 1, 0, 0, 1, 2, 1, 1, 2, 1, 1, 1,\n",
              "       1, 2, 1, 0, 0, 0, 1, 1, 1, 1, 1, 1, 2], dtype=int64)"
            ]
          },
          "execution_count": 81,
          "metadata": {},
          "output_type": "execute_result"
        }
      ],
      "source": [
        "cluster_labels"
      ]
    },
    {
      "cell_type": "code",
      "execution_count": null,
      "metadata": {
        "id": "BF9cbK52crct"
      },
      "outputs": [],
      "source": [
        "# Asignar las etiquetas de cluster\n",
        "df['Grupos'] = cluster_labels"
      ]
    },
    {
      "cell_type": "code",
      "execution_count": null,
      "metadata": {
        "id": "1OKSVzOfawAo",
        "outputId": "7b7ef693-847a-45da-925d-c95e2620c6c7"
      },
      "outputs": [
        {
          "data": {
            "text/html": [
              "<div>\n",
              "<style scoped>\n",
              "    .dataframe tbody tr th:only-of-type {\n",
              "        vertical-align: middle;\n",
              "    }\n",
              "\n",
              "    .dataframe tbody tr th {\n",
              "        vertical-align: top;\n",
              "    }\n",
              "\n",
              "    .dataframe thead th {\n",
              "        text-align: right;\n",
              "    }\n",
              "</style>\n",
              "<table border=\"1\" class=\"dataframe\">\n",
              "  <thead>\n",
              "    <tr style=\"text-align: right;\">\n",
              "      <th></th>\n",
              "      <th>child_mort</th>\n",
              "      <th>exports</th>\n",
              "      <th>health</th>\n",
              "      <th>imports</th>\n",
              "      <th>income</th>\n",
              "      <th>inflation</th>\n",
              "      <th>life_expec</th>\n",
              "      <th>total_fer</th>\n",
              "      <th>gdpp</th>\n",
              "      <th>Grupos</th>\n",
              "    </tr>\n",
              "    <tr>\n",
              "      <th>country</th>\n",
              "      <th></th>\n",
              "      <th></th>\n",
              "      <th></th>\n",
              "      <th></th>\n",
              "      <th></th>\n",
              "      <th></th>\n",
              "      <th></th>\n",
              "      <th></th>\n",
              "      <th></th>\n",
              "      <th></th>\n",
              "    </tr>\n",
              "  </thead>\n",
              "  <tbody>\n",
              "    <tr>\n",
              "      <th>Afghanistan</th>\n",
              "      <td>90.2</td>\n",
              "      <td>10.0</td>\n",
              "      <td>7.58</td>\n",
              "      <td>44.9</td>\n",
              "      <td>1610</td>\n",
              "      <td>9.44</td>\n",
              "      <td>56.2</td>\n",
              "      <td>5.82</td>\n",
              "      <td>553</td>\n",
              "      <td>2</td>\n",
              "    </tr>\n",
              "    <tr>\n",
              "      <th>Albania</th>\n",
              "      <td>16.6</td>\n",
              "      <td>28.0</td>\n",
              "      <td>6.55</td>\n",
              "      <td>48.6</td>\n",
              "      <td>9930</td>\n",
              "      <td>4.49</td>\n",
              "      <td>76.3</td>\n",
              "      <td>1.65</td>\n",
              "      <td>4090</td>\n",
              "      <td>1</td>\n",
              "    </tr>\n",
              "    <tr>\n",
              "      <th>Algeria</th>\n",
              "      <td>27.3</td>\n",
              "      <td>38.4</td>\n",
              "      <td>4.17</td>\n",
              "      <td>31.4</td>\n",
              "      <td>12900</td>\n",
              "      <td>16.10</td>\n",
              "      <td>76.5</td>\n",
              "      <td>2.89</td>\n",
              "      <td>4460</td>\n",
              "      <td>1</td>\n",
              "    </tr>\n",
              "    <tr>\n",
              "      <th>Angola</th>\n",
              "      <td>119.0</td>\n",
              "      <td>62.3</td>\n",
              "      <td>2.85</td>\n",
              "      <td>42.9</td>\n",
              "      <td>5900</td>\n",
              "      <td>22.40</td>\n",
              "      <td>60.1</td>\n",
              "      <td>6.16</td>\n",
              "      <td>3530</td>\n",
              "      <td>1</td>\n",
              "    </tr>\n",
              "    <tr>\n",
              "      <th>Antigua and Barbuda</th>\n",
              "      <td>10.3</td>\n",
              "      <td>45.5</td>\n",
              "      <td>6.03</td>\n",
              "      <td>58.9</td>\n",
              "      <td>19100</td>\n",
              "      <td>1.44</td>\n",
              "      <td>76.8</td>\n",
              "      <td>2.13</td>\n",
              "      <td>12200</td>\n",
              "      <td>1</td>\n",
              "    </tr>\n",
              "    <tr>\n",
              "      <th>...</th>\n",
              "      <td>...</td>\n",
              "      <td>...</td>\n",
              "      <td>...</td>\n",
              "      <td>...</td>\n",
              "      <td>...</td>\n",
              "      <td>...</td>\n",
              "      <td>...</td>\n",
              "      <td>...</td>\n",
              "      <td>...</td>\n",
              "      <td>...</td>\n",
              "    </tr>\n",
              "    <tr>\n",
              "      <th>Vanuatu</th>\n",
              "      <td>29.2</td>\n",
              "      <td>46.6</td>\n",
              "      <td>5.25</td>\n",
              "      <td>52.7</td>\n",
              "      <td>2950</td>\n",
              "      <td>2.62</td>\n",
              "      <td>63.0</td>\n",
              "      <td>3.50</td>\n",
              "      <td>2970</td>\n",
              "      <td>1</td>\n",
              "    </tr>\n",
              "    <tr>\n",
              "      <th>Venezuela</th>\n",
              "      <td>17.1</td>\n",
              "      <td>28.5</td>\n",
              "      <td>4.91</td>\n",
              "      <td>17.6</td>\n",
              "      <td>16500</td>\n",
              "      <td>45.90</td>\n",
              "      <td>75.4</td>\n",
              "      <td>2.47</td>\n",
              "      <td>13500</td>\n",
              "      <td>1</td>\n",
              "    </tr>\n",
              "    <tr>\n",
              "      <th>Vietnam</th>\n",
              "      <td>23.3</td>\n",
              "      <td>72.0</td>\n",
              "      <td>6.84</td>\n",
              "      <td>80.2</td>\n",
              "      <td>4490</td>\n",
              "      <td>12.10</td>\n",
              "      <td>73.1</td>\n",
              "      <td>1.95</td>\n",
              "      <td>1310</td>\n",
              "      <td>1</td>\n",
              "    </tr>\n",
              "    <tr>\n",
              "      <th>Yemen</th>\n",
              "      <td>56.3</td>\n",
              "      <td>30.0</td>\n",
              "      <td>5.18</td>\n",
              "      <td>34.4</td>\n",
              "      <td>4480</td>\n",
              "      <td>23.60</td>\n",
              "      <td>67.5</td>\n",
              "      <td>4.67</td>\n",
              "      <td>1310</td>\n",
              "      <td>1</td>\n",
              "    </tr>\n",
              "    <tr>\n",
              "      <th>Zambia</th>\n",
              "      <td>83.1</td>\n",
              "      <td>37.0</td>\n",
              "      <td>5.89</td>\n",
              "      <td>30.9</td>\n",
              "      <td>3280</td>\n",
              "      <td>14.00</td>\n",
              "      <td>52.0</td>\n",
              "      <td>5.40</td>\n",
              "      <td>1460</td>\n",
              "      <td>2</td>\n",
              "    </tr>\n",
              "  </tbody>\n",
              "</table>\n",
              "<p>167 rows × 10 columns</p>\n",
              "</div>"
            ],
            "text/plain": [
              "                     child_mort  exports  health  imports  income  inflation  \\\n",
              "country                                                                        \n",
              "Afghanistan                90.2     10.0    7.58     44.9    1610       9.44   \n",
              "Albania                    16.6     28.0    6.55     48.6    9930       4.49   \n",
              "Algeria                    27.3     38.4    4.17     31.4   12900      16.10   \n",
              "Angola                    119.0     62.3    2.85     42.9    5900      22.40   \n",
              "Antigua and Barbuda        10.3     45.5    6.03     58.9   19100       1.44   \n",
              "...                         ...      ...     ...      ...     ...        ...   \n",
              "Vanuatu                    29.2     46.6    5.25     52.7    2950       2.62   \n",
              "Venezuela                  17.1     28.5    4.91     17.6   16500      45.90   \n",
              "Vietnam                    23.3     72.0    6.84     80.2    4490      12.10   \n",
              "Yemen                      56.3     30.0    5.18     34.4    4480      23.60   \n",
              "Zambia                     83.1     37.0    5.89     30.9    3280      14.00   \n",
              "\n",
              "                     life_expec  total_fer   gdpp  Grupos  \n",
              "country                                                    \n",
              "Afghanistan                56.2       5.82    553       2  \n",
              "Albania                    76.3       1.65   4090       1  \n",
              "Algeria                    76.5       2.89   4460       1  \n",
              "Angola                     60.1       6.16   3530       1  \n",
              "Antigua and Barbuda        76.8       2.13  12200       1  \n",
              "...                         ...        ...    ...     ...  \n",
              "Vanuatu                    63.0       3.50   2970       1  \n",
              "Venezuela                  75.4       2.47  13500       1  \n",
              "Vietnam                    73.1       1.95   1310       1  \n",
              "Yemen                      67.5       4.67   1310       1  \n",
              "Zambia                     52.0       5.40   1460       2  \n",
              "\n",
              "[167 rows x 10 columns]"
            ]
          },
          "execution_count": 83,
          "metadata": {},
          "output_type": "execute_result"
        }
      ],
      "source": [
        "df"
      ]
    },
    {
      "cell_type": "code",
      "execution_count": null,
      "metadata": {
        "id": "70xbcUHAcrct",
        "outputId": "d38cfcc2-4cec-4702-e105-7319bfbb2152"
      },
      "outputs": [
        {
          "data": {
            "text/html": [
              "<div>\n",
              "<style scoped>\n",
              "    .dataframe tbody tr th:only-of-type {\n",
              "        vertical-align: middle;\n",
              "    }\n",
              "\n",
              "    .dataframe tbody tr th {\n",
              "        vertical-align: top;\n",
              "    }\n",
              "\n",
              "    .dataframe thead th {\n",
              "        text-align: right;\n",
              "    }\n",
              "</style>\n",
              "<table border=\"1\" class=\"dataframe\">\n",
              "  <thead>\n",
              "    <tr style=\"text-align: right;\">\n",
              "      <th></th>\n",
              "      <th>Paises</th>\n",
              "    </tr>\n",
              "    <tr>\n",
              "      <th>Grupos</th>\n",
              "      <th></th>\n",
              "    </tr>\n",
              "  </thead>\n",
              "  <tbody>\n",
              "    <tr>\n",
              "      <th>0</th>\n",
              "      <td>34</td>\n",
              "    </tr>\n",
              "    <tr>\n",
              "      <th>1</th>\n",
              "      <td>106</td>\n",
              "    </tr>\n",
              "    <tr>\n",
              "      <th>2</th>\n",
              "      <td>27</td>\n",
              "    </tr>\n",
              "  </tbody>\n",
              "</table>\n",
              "</div>"
            ],
            "text/plain": [
              "        Paises\n",
              "Grupos        \n",
              "0           34\n",
              "1          106\n",
              "2           27"
            ]
          },
          "execution_count": 84,
          "metadata": {},
          "output_type": "execute_result"
        }
      ],
      "source": [
        "pd.DataFrame(df.groupby('Grupos')['Grupos'].count()).rename({'Grupos':'Paises'},axis=1)"
      ]
    },
    {
      "cell_type": "code",
      "execution_count": null,
      "metadata": {
        "id": "pScM0f-ccrcu",
        "outputId": "a475a977-97b2-4423-ac3a-713c1b5f42bd"
      },
      "outputs": [
        {
          "data": {
            "text/html": [
              "<div>\n",
              "<style scoped>\n",
              "    .dataframe tbody tr th:only-of-type {\n",
              "        vertical-align: middle;\n",
              "    }\n",
              "\n",
              "    .dataframe tbody tr th {\n",
              "        vertical-align: top;\n",
              "    }\n",
              "\n",
              "    .dataframe thead th {\n",
              "        text-align: right;\n",
              "    }\n",
              "</style>\n",
              "<table border=\"1\" class=\"dataframe\">\n",
              "  <thead>\n",
              "    <tr style=\"text-align: right;\">\n",
              "      <th></th>\n",
              "      <th>child_mort</th>\n",
              "      <th>exports</th>\n",
              "      <th>health</th>\n",
              "      <th>imports</th>\n",
              "      <th>income</th>\n",
              "      <th>inflation</th>\n",
              "      <th>life_expec</th>\n",
              "      <th>total_fer</th>\n",
              "      <th>gdpp</th>\n",
              "    </tr>\n",
              "    <tr>\n",
              "      <th>Grupos</th>\n",
              "      <th></th>\n",
              "      <th></th>\n",
              "      <th></th>\n",
              "      <th></th>\n",
              "      <th></th>\n",
              "      <th></th>\n",
              "      <th></th>\n",
              "      <th></th>\n",
              "      <th></th>\n",
              "    </tr>\n",
              "  </thead>\n",
              "  <tbody>\n",
              "    <tr>\n",
              "      <th>0</th>\n",
              "      <td>4.5</td>\n",
              "      <td>50.05</td>\n",
              "      <td>9.485</td>\n",
              "      <td>37.25</td>\n",
              "      <td>41250.0</td>\n",
              "      <td>1.670</td>\n",
              "      <td>80.4</td>\n",
              "      <td>1.870</td>\n",
              "      <td>41850.0</td>\n",
              "    </tr>\n",
              "    <tr>\n",
              "      <th>1</th>\n",
              "      <td>20.5</td>\n",
              "      <td>37.30</td>\n",
              "      <td>6.015</td>\n",
              "      <td>49.25</td>\n",
              "      <td>9890.0</td>\n",
              "      <td>6.045</td>\n",
              "      <td>72.3</td>\n",
              "      <td>2.395</td>\n",
              "      <td>4520.0</td>\n",
              "    </tr>\n",
              "    <tr>\n",
              "      <th>2</th>\n",
              "      <td>101.0</td>\n",
              "      <td>22.20</td>\n",
              "      <td>5.690</td>\n",
              "      <td>39.20</td>\n",
              "      <td>1430.0</td>\n",
              "      <td>5.450</td>\n",
              "      <td>57.7</td>\n",
              "      <td>5.340</td>\n",
              "      <td>575.0</td>\n",
              "    </tr>\n",
              "  </tbody>\n",
              "</table>\n",
              "</div>"
            ],
            "text/plain": [
              "        child_mort  exports  health  imports   income  inflation  life_expec  \\\n",
              "Grupos                                                                         \n",
              "0              4.5    50.05   9.485    37.25  41250.0      1.670        80.4   \n",
              "1             20.5    37.30   6.015    49.25   9890.0      6.045        72.3   \n",
              "2            101.0    22.20   5.690    39.20   1430.0      5.450        57.7   \n",
              "\n",
              "        total_fer     gdpp  \n",
              "Grupos                      \n",
              "0           1.870  41850.0  \n",
              "1           2.395   4520.0  \n",
              "2           5.340    575.0  "
            ]
          },
          "execution_count": 85,
          "metadata": {},
          "output_type": "execute_result"
        }
      ],
      "source": [
        "df.groupby('Grupos').median()"
      ]
    },
    {
      "cell_type": "markdown",
      "metadata": {
        "id": "igb23I-Lcrcv"
      },
      "source": [
        "Grupo de Necesidades Urgentes:"
      ]
    },
    {
      "cell_type": "code",
      "execution_count": null,
      "metadata": {
        "id": "4tcncY-Lcrcv",
        "outputId": "a3b43351-424c-462b-81cf-2a1e61b7b2a5"
      },
      "outputs": [
        {
          "data": {
            "text/plain": [
              "Index(['Afghanistan', 'Benin', 'Burkina Faso', 'Burundi', 'Cameroon',\n",
              "       'Central African Republic', 'Chad', 'Comoros', 'Congo, Dem. Rep.',\n",
              "       'Cote d'Ivoire', 'Gambia', 'Guinea', 'Guinea-Bissau', 'Haiti', 'Kenya',\n",
              "       'Madagascar', 'Malawi', 'Mali', 'Mozambique', 'Niger', 'Rwanda',\n",
              "       'Senegal', 'Sierra Leone', 'Tanzania', 'Togo', 'Uganda', 'Zambia'],\n",
              "      dtype='object', name='country')"
            ]
          },
          "execution_count": 86,
          "metadata": {},
          "output_type": "execute_result"
        }
      ],
      "source": [
        "df[df.Grupos == 2].index"
      ]
    },
    {
      "cell_type": "markdown",
      "metadata": {
        "id": "YlMgUFMIcrcw"
      },
      "source": [
        "Grupo con potencial de desarrollo a mediano plazo:"
      ]
    },
    {
      "cell_type": "code",
      "execution_count": null,
      "metadata": {
        "id": "Oqth0NH6crcw",
        "outputId": "d6bfb10a-d146-43cc-998b-ae1ef2790830"
      },
      "outputs": [
        {
          "data": {
            "text/plain": [
              "Index(['Albania', 'Algeria', 'Angola', 'Antigua and Barbuda', 'Argentina',\n",
              "       'Armenia', 'Azerbaijan', 'Bahamas', 'Bangladesh', 'Barbados',\n",
              "       ...\n",
              "       'Tunisia', 'Turkey', 'Turkmenistan', 'Ukraine', 'Uruguay', 'Uzbekistan',\n",
              "       'Vanuatu', 'Venezuela', 'Vietnam', 'Yemen'],\n",
              "      dtype='object', name='country', length=106)"
            ]
          },
          "execution_count": 87,
          "metadata": {},
          "output_type": "execute_result"
        }
      ],
      "source": [
        "df[df.Grupos == 1].index"
      ]
    },
    {
      "cell_type": "markdown",
      "metadata": {
        "id": "XtnL4T7Lcrcw"
      },
      "source": [
        "Grupo Estable:"
      ]
    },
    {
      "cell_type": "code",
      "execution_count": null,
      "metadata": {
        "id": "dBWqEy7Ccrcx",
        "outputId": "38e8ae6d-aa41-4194-f32d-d934c9870c09"
      },
      "outputs": [
        {
          "data": {
            "text/plain": [
              "Index(['Australia', 'Austria', 'Bahrain', 'Belgium', 'Brunei', 'Canada',\n",
              "       'Denmark', 'Finland', 'France', 'Germany', 'Greece', 'Iceland',\n",
              "       'Ireland', 'Israel', 'Italy', 'Japan', 'Kuwait', 'Libya', 'Luxembourg',\n",
              "       'Malta', 'Netherlands', 'New Zealand', 'Norway', 'Oman', 'Portugal',\n",
              "       'Qatar', 'Saudi Arabia', 'Singapore', 'Spain', 'Sweden', 'Switzerland',\n",
              "       'United Arab Emirates', 'United Kingdom', 'United States'],\n",
              "      dtype='object', name='country')"
            ]
          },
          "execution_count": 88,
          "metadata": {},
          "output_type": "execute_result"
        }
      ],
      "source": [
        "df[df.Grupos == 0].index"
      ]
    },
    {
      "cell_type": "markdown",
      "metadata": {
        "id": "RLcdbMDKcrcx"
      },
      "source": [
        "Mapa Ilustrativo:"
      ]
    },
    {
      "cell_type": "code",
      "execution_count": null,
      "metadata": {
        "id": "mzemd1z3crcx",
        "outputId": "09ce5c4e-8fcb-4f95-977b-d343310f089b"
      },
      "outputs": [
        {
          "data": {
            "application/vnd.plotly.v1+json": {
              "config": {
                "plotlyServerURL": "https://plot.ly"
              },
              "data": [
                {
                  "colorscale": [
                    [
                      0,
                      "darkred"
                    ],
                    [
                      1,
                      "darkred"
                    ]
                  ],
                  "geo": "geo",
                  "hovertemplate": "Grupos=Urgentes<br>country=%{location}<extra></extra>",
                  "locationmode": "country names",
                  "locations": [
                    "Afghanistan",
                    "Benin",
                    "Burkina Faso",
                    "Burundi",
                    "Cameroon",
                    "Central African Republic",
                    "Chad",
                    "Comoros",
                    "Congo, Dem. Rep.",
                    "Cote d'Ivoire",
                    "Gambia",
                    "Guinea",
                    "Guinea-Bissau",
                    "Haiti",
                    "Kenya",
                    "Madagascar",
                    "Malawi",
                    "Mali",
                    "Mozambique",
                    "Niger",
                    "Rwanda",
                    "Senegal",
                    "Sierra Leone",
                    "Tanzania",
                    "Togo",
                    "Uganda",
                    "Zambia"
                  ],
                  "name": "Urgentes",
                  "showlegend": true,
                  "showscale": false,
                  "type": "choropleth",
                  "z": [
                    1,
                    1,
                    1,
                    1,
                    1,
                    1,
                    1,
                    1,
                    1,
                    1,
                    1,
                    1,
                    1,
                    1,
                    1,
                    1,
                    1,
                    1,
                    1,
                    1,
                    1,
                    1,
                    1,
                    1,
                    1,
                    1,
                    1
                  ]
                },
                {
                  "colorscale": [
                    [
                      0,
                      "#DAA520"
                    ],
                    [
                      1,
                      "#DAA520"
                    ]
                  ],
                  "geo": "geo",
                  "hovertemplate": "Grupos=En Desarrollo<br>country=%{location}<extra></extra>",
                  "locationmode": "country names",
                  "locations": [
                    "Albania",
                    "Algeria",
                    "Angola",
                    "Antigua and Barbuda",
                    "Argentina",
                    "Armenia",
                    "Azerbaijan",
                    "Bahamas",
                    "Bangladesh",
                    "Barbados",
                    "Belarus",
                    "Belize",
                    "Bhutan",
                    "Bolivia",
                    "Bosnia and Herzegovina",
                    "Botswana",
                    "Brazil",
                    "Bulgaria",
                    "Cambodia",
                    "Cape Verde",
                    "Chile",
                    "China",
                    "Colombia",
                    "Congo, Rep.",
                    "Costa Rica",
                    "Croatia",
                    "Cyprus",
                    "Czech Republic",
                    "Dominican Republic",
                    "Ecuador",
                    "Egypt",
                    "El Salvador",
                    "Equatorial Guinea",
                    "Eritrea",
                    "Estonia",
                    "Fiji",
                    "Gabon",
                    "Georgia",
                    "Ghana",
                    "Grenada",
                    "Guatemala",
                    "Guyana",
                    "Hungary",
                    "India",
                    "Indonesia",
                    "Iran",
                    "Iraq",
                    "Jamaica",
                    "Jordan",
                    "Kazakhstan",
                    "Kiribati",
                    "Kyrgyz Republic",
                    "Lao",
                    "Latvia",
                    "Lebanon",
                    "Lesotho",
                    "Liberia",
                    "Lithuania",
                    "Macedonia, FYR",
                    "Malaysia",
                    "Maldives",
                    "Mauritania",
                    "Mauritius",
                    "Micronesia, Fed. Sts.",
                    "Moldova",
                    "Mongolia",
                    "Montenegro",
                    "Morocco",
                    "Myanmar",
                    "Namibia",
                    "Nepal",
                    "Nigeria",
                    "Pakistan",
                    "Panama",
                    "Paraguay",
                    "Peru",
                    "Philippines",
                    "Poland",
                    "Romania",
                    "Russia",
                    "Samoa",
                    "Serbia",
                    "Seychelles",
                    "Slovak Republic",
                    "Slovenia",
                    "Solomon Islands",
                    "South Africa",
                    "South Korea",
                    "Sri Lanka",
                    "St. Vincent and the Grenadines",
                    "Sudan",
                    "Suriname",
                    "Tajikistan",
                    "Thailand",
                    "Timor-Leste",
                    "Tonga",
                    "Tunisia",
                    "Turkey",
                    "Turkmenistan",
                    "Ukraine",
                    "Uruguay",
                    "Uzbekistan",
                    "Vanuatu",
                    "Venezuela",
                    "Vietnam",
                    "Yemen"
                  ],
                  "name": "En Desarrollo",
                  "showlegend": true,
                  "showscale": false,
                  "type": "choropleth",
                  "z": [
                    1,
                    1,
                    1,
                    1,
                    1,
                    1,
                    1,
                    1,
                    1,
                    1,
                    1,
                    1,
                    1,
                    1,
                    1,
                    1,
                    1,
                    1,
                    1,
                    1,
                    1,
                    1,
                    1,
                    1,
                    1,
                    1,
                    1,
                    1,
                    1,
                    1,
                    1,
                    1,
                    1,
                    1,
                    1,
                    1,
                    1,
                    1,
                    1,
                    1,
                    1,
                    1,
                    1,
                    1,
                    1,
                    1,
                    1,
                    1,
                    1,
                    1,
                    1,
                    1,
                    1,
                    1,
                    1,
                    1,
                    1,
                    1,
                    1,
                    1,
                    1,
                    1,
                    1,
                    1,
                    1,
                    1,
                    1,
                    1,
                    1,
                    1,
                    1,
                    1,
                    1,
                    1,
                    1,
                    1,
                    1,
                    1,
                    1,
                    1,
                    1,
                    1,
                    1,
                    1,
                    1,
                    1,
                    1,
                    1,
                    1,
                    1,
                    1,
                    1,
                    1,
                    1,
                    1,
                    1,
                    1,
                    1,
                    1,
                    1,
                    1,
                    1,
                    1,
                    1,
                    1,
                    1
                  ]
                },
                {
                  "colorscale": [
                    [
                      0,
                      "darkgreen"
                    ],
                    [
                      1,
                      "darkgreen"
                    ]
                  ],
                  "geo": "geo",
                  "hovertemplate": "Grupos=Estables<br>country=%{location}<extra></extra>",
                  "locationmode": "country names",
                  "locations": [
                    "Australia",
                    "Austria",
                    "Bahrain",
                    "Belgium",
                    "Brunei",
                    "Canada",
                    "Denmark",
                    "Finland",
                    "France",
                    "Germany",
                    "Greece",
                    "Iceland",
                    "Ireland",
                    "Israel",
                    "Italy",
                    "Japan",
                    "Kuwait",
                    "Libya",
                    "Luxembourg",
                    "Malta",
                    "Netherlands",
                    "New Zealand",
                    "Norway",
                    "Oman",
                    "Portugal",
                    "Qatar",
                    "Saudi Arabia",
                    "Singapore",
                    "Spain",
                    "Sweden",
                    "Switzerland",
                    "United Arab Emirates",
                    "United Kingdom",
                    "United States"
                  ],
                  "name": "Estables",
                  "showlegend": true,
                  "showscale": false,
                  "type": "choropleth",
                  "z": [
                    1,
                    1,
                    1,
                    1,
                    1,
                    1,
                    1,
                    1,
                    1,
                    1,
                    1,
                    1,
                    1,
                    1,
                    1,
                    1,
                    1,
                    1,
                    1,
                    1,
                    1,
                    1,
                    1,
                    1,
                    1,
                    1,
                    1,
                    1,
                    1,
                    1,
                    1,
                    1,
                    1,
                    1
                  ]
                }
              ],
              "layout": {
                "geo": {
                  "center": {},
                  "domain": {
                    "x": [
                      0,
                      1
                    ],
                    "y": [
                      0,
                      1
                    ]
                  },
                  "projection": {
                    "type": "equirectangular"
                  },
                  "showcoastlines": false,
                  "showframe": false
                },
                "legend": {
                  "title": {
                    "text": "Grupos"
                  },
                  "tracegroupgap": 0
                },
                "margin": {
                  "t": 60
                },
                "template": {
                  "data": {
                    "bar": [
                      {
                        "error_x": {
                          "color": "#f2f5fa"
                        },
                        "error_y": {
                          "color": "#f2f5fa"
                        },
                        "marker": {
                          "line": {
                            "color": "rgb(17,17,17)",
                            "width": 0.5
                          },
                          "pattern": {
                            "fillmode": "overlay",
                            "size": 10,
                            "solidity": 0.2
                          }
                        },
                        "type": "bar"
                      }
                    ],
                    "barpolar": [
                      {
                        "marker": {
                          "line": {
                            "color": "rgb(17,17,17)",
                            "width": 0.5
                          },
                          "pattern": {
                            "fillmode": "overlay",
                            "size": 10,
                            "solidity": 0.2
                          }
                        },
                        "type": "barpolar"
                      }
                    ],
                    "carpet": [
                      {
                        "aaxis": {
                          "endlinecolor": "#A2B1C6",
                          "gridcolor": "#506784",
                          "linecolor": "#506784",
                          "minorgridcolor": "#506784",
                          "startlinecolor": "#A2B1C6"
                        },
                        "baxis": {
                          "endlinecolor": "#A2B1C6",
                          "gridcolor": "#506784",
                          "linecolor": "#506784",
                          "minorgridcolor": "#506784",
                          "startlinecolor": "#A2B1C6"
                        },
                        "type": "carpet"
                      }
                    ],
                    "choropleth": [
                      {
                        "colorbar": {
                          "outlinewidth": 0,
                          "ticks": ""
                        },
                        "type": "choropleth"
                      }
                    ],
                    "contour": [
                      {
                        "colorbar": {
                          "outlinewidth": 0,
                          "ticks": ""
                        },
                        "colorscale": [
                          [
                            0,
                            "#0d0887"
                          ],
                          [
                            0.1111111111111111,
                            "#46039f"
                          ],
                          [
                            0.2222222222222222,
                            "#7201a8"
                          ],
                          [
                            0.3333333333333333,
                            "#9c179e"
                          ],
                          [
                            0.4444444444444444,
                            "#bd3786"
                          ],
                          [
                            0.5555555555555556,
                            "#d8576b"
                          ],
                          [
                            0.6666666666666666,
                            "#ed7953"
                          ],
                          [
                            0.7777777777777778,
                            "#fb9f3a"
                          ],
                          [
                            0.8888888888888888,
                            "#fdca26"
                          ],
                          [
                            1,
                            "#f0f921"
                          ]
                        ],
                        "type": "contour"
                      }
                    ],
                    "contourcarpet": [
                      {
                        "colorbar": {
                          "outlinewidth": 0,
                          "ticks": ""
                        },
                        "type": "contourcarpet"
                      }
                    ],
                    "heatmap": [
                      {
                        "colorbar": {
                          "outlinewidth": 0,
                          "ticks": ""
                        },
                        "colorscale": [
                          [
                            0,
                            "#0d0887"
                          ],
                          [
                            0.1111111111111111,
                            "#46039f"
                          ],
                          [
                            0.2222222222222222,
                            "#7201a8"
                          ],
                          [
                            0.3333333333333333,
                            "#9c179e"
                          ],
                          [
                            0.4444444444444444,
                            "#bd3786"
                          ],
                          [
                            0.5555555555555556,
                            "#d8576b"
                          ],
                          [
                            0.6666666666666666,
                            "#ed7953"
                          ],
                          [
                            0.7777777777777778,
                            "#fb9f3a"
                          ],
                          [
                            0.8888888888888888,
                            "#fdca26"
                          ],
                          [
                            1,
                            "#f0f921"
                          ]
                        ],
                        "type": "heatmap"
                      }
                    ],
                    "heatmapgl": [
                      {
                        "colorbar": {
                          "outlinewidth": 0,
                          "ticks": ""
                        },
                        "colorscale": [
                          [
                            0,
                            "#0d0887"
                          ],
                          [
                            0.1111111111111111,
                            "#46039f"
                          ],
                          [
                            0.2222222222222222,
                            "#7201a8"
                          ],
                          [
                            0.3333333333333333,
                            "#9c179e"
                          ],
                          [
                            0.4444444444444444,
                            "#bd3786"
                          ],
                          [
                            0.5555555555555556,
                            "#d8576b"
                          ],
                          [
                            0.6666666666666666,
                            "#ed7953"
                          ],
                          [
                            0.7777777777777778,
                            "#fb9f3a"
                          ],
                          [
                            0.8888888888888888,
                            "#fdca26"
                          ],
                          [
                            1,
                            "#f0f921"
                          ]
                        ],
                        "type": "heatmapgl"
                      }
                    ],
                    "histogram": [
                      {
                        "marker": {
                          "pattern": {
                            "fillmode": "overlay",
                            "size": 10,
                            "solidity": 0.2
                          }
                        },
                        "type": "histogram"
                      }
                    ],
                    "histogram2d": [
                      {
                        "colorbar": {
                          "outlinewidth": 0,
                          "ticks": ""
                        },
                        "colorscale": [
                          [
                            0,
                            "#0d0887"
                          ],
                          [
                            0.1111111111111111,
                            "#46039f"
                          ],
                          [
                            0.2222222222222222,
                            "#7201a8"
                          ],
                          [
                            0.3333333333333333,
                            "#9c179e"
                          ],
                          [
                            0.4444444444444444,
                            "#bd3786"
                          ],
                          [
                            0.5555555555555556,
                            "#d8576b"
                          ],
                          [
                            0.6666666666666666,
                            "#ed7953"
                          ],
                          [
                            0.7777777777777778,
                            "#fb9f3a"
                          ],
                          [
                            0.8888888888888888,
                            "#fdca26"
                          ],
                          [
                            1,
                            "#f0f921"
                          ]
                        ],
                        "type": "histogram2d"
                      }
                    ],
                    "histogram2dcontour": [
                      {
                        "colorbar": {
                          "outlinewidth": 0,
                          "ticks": ""
                        },
                        "colorscale": [
                          [
                            0,
                            "#0d0887"
                          ],
                          [
                            0.1111111111111111,
                            "#46039f"
                          ],
                          [
                            0.2222222222222222,
                            "#7201a8"
                          ],
                          [
                            0.3333333333333333,
                            "#9c179e"
                          ],
                          [
                            0.4444444444444444,
                            "#bd3786"
                          ],
                          [
                            0.5555555555555556,
                            "#d8576b"
                          ],
                          [
                            0.6666666666666666,
                            "#ed7953"
                          ],
                          [
                            0.7777777777777778,
                            "#fb9f3a"
                          ],
                          [
                            0.8888888888888888,
                            "#fdca26"
                          ],
                          [
                            1,
                            "#f0f921"
                          ]
                        ],
                        "type": "histogram2dcontour"
                      }
                    ],
                    "mesh3d": [
                      {
                        "colorbar": {
                          "outlinewidth": 0,
                          "ticks": ""
                        },
                        "type": "mesh3d"
                      }
                    ],
                    "parcoords": [
                      {
                        "line": {
                          "colorbar": {
                            "outlinewidth": 0,
                            "ticks": ""
                          }
                        },
                        "type": "parcoords"
                      }
                    ],
                    "pie": [
                      {
                        "automargin": true,
                        "type": "pie"
                      }
                    ],
                    "scatter": [
                      {
                        "marker": {
                          "line": {
                            "color": "#283442"
                          }
                        },
                        "type": "scatter"
                      }
                    ],
                    "scatter3d": [
                      {
                        "line": {
                          "colorbar": {
                            "outlinewidth": 0,
                            "ticks": ""
                          }
                        },
                        "marker": {
                          "colorbar": {
                            "outlinewidth": 0,
                            "ticks": ""
                          }
                        },
                        "type": "scatter3d"
                      }
                    ],
                    "scattercarpet": [
                      {
                        "marker": {
                          "colorbar": {
                            "outlinewidth": 0,
                            "ticks": ""
                          }
                        },
                        "type": "scattercarpet"
                      }
                    ],
                    "scattergeo": [
                      {
                        "marker": {
                          "colorbar": {
                            "outlinewidth": 0,
                            "ticks": ""
                          }
                        },
                        "type": "scattergeo"
                      }
                    ],
                    "scattergl": [
                      {
                        "marker": {
                          "line": {
                            "color": "#283442"
                          }
                        },
                        "type": "scattergl"
                      }
                    ],
                    "scattermapbox": [
                      {
                        "marker": {
                          "colorbar": {
                            "outlinewidth": 0,
                            "ticks": ""
                          }
                        },
                        "type": "scattermapbox"
                      }
                    ],
                    "scatterpolar": [
                      {
                        "marker": {
                          "colorbar": {
                            "outlinewidth": 0,
                            "ticks": ""
                          }
                        },
                        "type": "scatterpolar"
                      }
                    ],
                    "scatterpolargl": [
                      {
                        "marker": {
                          "colorbar": {
                            "outlinewidth": 0,
                            "ticks": ""
                          }
                        },
                        "type": "scatterpolargl"
                      }
                    ],
                    "scatterternary": [
                      {
                        "marker": {
                          "colorbar": {
                            "outlinewidth": 0,
                            "ticks": ""
                          }
                        },
                        "type": "scatterternary"
                      }
                    ],
                    "surface": [
                      {
                        "colorbar": {
                          "outlinewidth": 0,
                          "ticks": ""
                        },
                        "colorscale": [
                          [
                            0,
                            "#0d0887"
                          ],
                          [
                            0.1111111111111111,
                            "#46039f"
                          ],
                          [
                            0.2222222222222222,
                            "#7201a8"
                          ],
                          [
                            0.3333333333333333,
                            "#9c179e"
                          ],
                          [
                            0.4444444444444444,
                            "#bd3786"
                          ],
                          [
                            0.5555555555555556,
                            "#d8576b"
                          ],
                          [
                            0.6666666666666666,
                            "#ed7953"
                          ],
                          [
                            0.7777777777777778,
                            "#fb9f3a"
                          ],
                          [
                            0.8888888888888888,
                            "#fdca26"
                          ],
                          [
                            1,
                            "#f0f921"
                          ]
                        ],
                        "type": "surface"
                      }
                    ],
                    "table": [
                      {
                        "cells": {
                          "fill": {
                            "color": "#506784"
                          },
                          "line": {
                            "color": "rgb(17,17,17)"
                          }
                        },
                        "header": {
                          "fill": {
                            "color": "#2a3f5f"
                          },
                          "line": {
                            "color": "rgb(17,17,17)"
                          }
                        },
                        "type": "table"
                      }
                    ]
                  },
                  "layout": {
                    "annotationdefaults": {
                      "arrowcolor": "#f2f5fa",
                      "arrowhead": 0,
                      "arrowwidth": 1
                    },
                    "autotypenumbers": "strict",
                    "coloraxis": {
                      "colorbar": {
                        "outlinewidth": 0,
                        "ticks": ""
                      }
                    },
                    "colorscale": {
                      "diverging": [
                        [
                          0,
                          "#8e0152"
                        ],
                        [
                          0.1,
                          "#c51b7d"
                        ],
                        [
                          0.2,
                          "#de77ae"
                        ],
                        [
                          0.3,
                          "#f1b6da"
                        ],
                        [
                          0.4,
                          "#fde0ef"
                        ],
                        [
                          0.5,
                          "#f7f7f7"
                        ],
                        [
                          0.6,
                          "#e6f5d0"
                        ],
                        [
                          0.7,
                          "#b8e186"
                        ],
                        [
                          0.8,
                          "#7fbc41"
                        ],
                        [
                          0.9,
                          "#4d9221"
                        ],
                        [
                          1,
                          "#276419"
                        ]
                      ],
                      "sequential": [
                        [
                          0,
                          "#0d0887"
                        ],
                        [
                          0.1111111111111111,
                          "#46039f"
                        ],
                        [
                          0.2222222222222222,
                          "#7201a8"
                        ],
                        [
                          0.3333333333333333,
                          "#9c179e"
                        ],
                        [
                          0.4444444444444444,
                          "#bd3786"
                        ],
                        [
                          0.5555555555555556,
                          "#d8576b"
                        ],
                        [
                          0.6666666666666666,
                          "#ed7953"
                        ],
                        [
                          0.7777777777777778,
                          "#fb9f3a"
                        ],
                        [
                          0.8888888888888888,
                          "#fdca26"
                        ],
                        [
                          1,
                          "#f0f921"
                        ]
                      ],
                      "sequentialminus": [
                        [
                          0,
                          "#0d0887"
                        ],
                        [
                          0.1111111111111111,
                          "#46039f"
                        ],
                        [
                          0.2222222222222222,
                          "#7201a8"
                        ],
                        [
                          0.3333333333333333,
                          "#9c179e"
                        ],
                        [
                          0.4444444444444444,
                          "#bd3786"
                        ],
                        [
                          0.5555555555555556,
                          "#d8576b"
                        ],
                        [
                          0.6666666666666666,
                          "#ed7953"
                        ],
                        [
                          0.7777777777777778,
                          "#fb9f3a"
                        ],
                        [
                          0.8888888888888888,
                          "#fdca26"
                        ],
                        [
                          1,
                          "#f0f921"
                        ]
                      ]
                    },
                    "colorway": [
                      "#636efa",
                      "#EF553B",
                      "#00cc96",
                      "#ab63fa",
                      "#FFA15A",
                      "#19d3f3",
                      "#FF6692",
                      "#B6E880",
                      "#FF97FF",
                      "#FECB52"
                    ],
                    "font": {
                      "color": "#f2f5fa"
                    },
                    "geo": {
                      "bgcolor": "rgb(17,17,17)",
                      "lakecolor": "rgb(17,17,17)",
                      "landcolor": "rgb(17,17,17)",
                      "showlakes": true,
                      "showland": true,
                      "subunitcolor": "#506784"
                    },
                    "hoverlabel": {
                      "align": "left"
                    },
                    "hovermode": "closest",
                    "mapbox": {
                      "style": "dark"
                    },
                    "paper_bgcolor": "rgba(30, 30, 30, 0.5)",
                    "plot_bgcolor": "rgba(30, 30, 30, 0.5)",
                    "polar": {
                      "angularaxis": {
                        "gridcolor": "#506784",
                        "linecolor": "#506784",
                        "ticks": ""
                      },
                      "bgcolor": "rgb(17,17,17)",
                      "radialaxis": {
                        "gridcolor": "#506784",
                        "linecolor": "#506784",
                        "ticks": ""
                      }
                    },
                    "scene": {
                      "xaxis": {
                        "backgroundcolor": "rgb(17,17,17)",
                        "gridcolor": "#506784",
                        "gridwidth": 2,
                        "linecolor": "#506784",
                        "showbackground": true,
                        "ticks": "",
                        "zerolinecolor": "#C8D4E3"
                      },
                      "yaxis": {
                        "backgroundcolor": "rgb(17,17,17)",
                        "gridcolor": "#506784",
                        "gridwidth": 2,
                        "linecolor": "#506784",
                        "showbackground": true,
                        "ticks": "",
                        "zerolinecolor": "#C8D4E3"
                      },
                      "zaxis": {
                        "backgroundcolor": "rgb(17,17,17)",
                        "gridcolor": "#506784",
                        "gridwidth": 2,
                        "linecolor": "#506784",
                        "showbackground": true,
                        "ticks": "",
                        "zerolinecolor": "#C8D4E3"
                      }
                    },
                    "shapedefaults": {
                      "line": {
                        "color": "#f2f5fa"
                      }
                    },
                    "sliderdefaults": {
                      "bgcolor": "#C8D4E3",
                      "bordercolor": "rgb(17,17,17)",
                      "borderwidth": 1,
                      "tickwidth": 0
                    },
                    "ternary": {
                      "aaxis": {
                        "gridcolor": "#506784",
                        "linecolor": "#506784",
                        "ticks": ""
                      },
                      "baxis": {
                        "gridcolor": "#506784",
                        "linecolor": "#506784",
                        "ticks": ""
                      },
                      "bgcolor": "rgb(17,17,17)",
                      "caxis": {
                        "gridcolor": "#506784",
                        "linecolor": "#506784",
                        "ticks": ""
                      }
                    },
                    "title": {
                      "x": 0.05
                    },
                    "updatemenudefaults": {
                      "bgcolor": "#506784",
                      "borderwidth": 0
                    },
                    "xaxis": {
                      "automargin": true,
                      "gridcolor": "#283442",
                      "linecolor": "#506784",
                      "ticks": "",
                      "title": {
                        "standoff": 15
                      },
                      "zerolinecolor": "#283442",
                      "zerolinewidth": 2
                    },
                    "yaxis": {
                      "automargin": true,
                      "gridcolor": "#283442",
                      "linecolor": "#506784",
                      "ticks": "",
                      "title": {
                        "standoff": 15
                      },
                      "zerolinecolor": "#283442",
                      "zerolinewidth": 2
                    }
                  }
                },
                "title": {
                  "text": "Mapa Global de Importancia para HELP ORG"
                }
              }
            }
          },
          "metadata": {},
          "output_type": "display_data"
        }
      ],
      "source": [
        "dfi = df.reset_index()[['country','Grupos']]\n",
        "\n",
        "dfi.Grupos[dfi['Grupos'] == 0] = 'Estables'\n",
        "dfi.Grupos[dfi['Grupos'] == 1] = 'En Desarrollo'\n",
        "dfi.Grupos[dfi['Grupos'] == 2] = 'Urgentes'\n",
        "\n",
        "fig = px.choropleth(dfi,\n",
        "                    locationmode='country names',\n",
        "                    locations='country',\n",
        "                    color='Grupos',\n",
        "                    color_discrete_map={'Estables': 'darkgreen', 'En Desarrollo': '#DAA520', 'Urgentes': 'darkred'})\n",
        "\n",
        "\n",
        "fig.update_layout(\n",
        "    title_text='Mapa Global de Importancia para HELP ORG',\n",
        "    geo=dict(showframe=False, showcoastlines=False, projection_type='equirectangular')\n",
        ")\n",
        "\n",
        "fig.show()"
      ]
    }
  ],
  "metadata": {
    "colab": {
      "provenance": []
    },
    "kernelspec": {
      "display_name": "base",
      "language": "python",
      "name": "python3"
    },
    "language_info": {
      "codemirror_mode": {
        "name": "ipython",
        "version": 3
      },
      "file_extension": ".py",
      "mimetype": "text/x-python",
      "name": "python",
      "nbconvert_exporter": "python",
      "pygments_lexer": "ipython3",
      "version": "3.11.4"
    }
  },
  "nbformat": 4,
  "nbformat_minor": 0
}