{
 "cells": [
  {
   "cell_type": "markdown",
   "metadata": {},
   "source": [
    "# 3.5.1. KMeans"
   ]
  },
  {
   "cell_type": "markdown",
   "metadata": {},
   "source": [
    "## Preparación del Entorno"
   ]
  },
  {
   "cell_type": "markdown",
   "metadata": {},
   "source": [
    "### Carga de Módulos"
   ]
  },
  {
   "cell_type": "code",
   "execution_count": null,
   "metadata": {},
   "outputs": [],
   "source": [
    "import math\n",
    "import os\n",
    "import warnings\n",
    "\n",
    "import numpy as np\n",
    "import pandas as pd\n",
    "import matplotlib.pyplot as plt\n",
    "from matplotlib import offsetbox\n",
    "import seaborn as sns\n",
    "import plotly.express as px\n",
    "import plotly.graph_objects as go\n",
    "import plotly.io as pio\n",
    "import plotly.figure_factory as ff\n",
    "import session_info\n",
    "from time import time\n",
    "from plotly.subplots import make_subplots\n",
    "from sklearn import set_config\n",
    "from sklearn.preprocessing import StandardScaler\n",
    "from sklearn.decomposition import PCA\n",
    "\n",
    "# Tema Principal\n",
    "from yellowbrick.cluster import SilhouetteVisualizer\n",
    "from sklearn.metrics import silhouette_score, calinski_harabasz_score, davies_bouldin_score\n",
    "from sklearn.datasets import load_iris\n",
    "from sklearn.cluster import KMeans\n",
    "import sys\n",
    "\n",
    "sys.path.append('../scripts')\n",
    "from funny_stuffs import score_plot, calculate_elbow_point, plot_elbow_method"
   ]
  },
  {
   "cell_type": "code",
   "execution_count": null,
   "metadata": {},
   "outputs": [],
   "source": [
    "session_info.show()"
   ]
  },
  {
   "cell_type": "markdown",
   "metadata": {},
   "source": [
    "### Configuración Inicial"
   ]
  },
  {
   "cell_type": "code",
   "execution_count": null,
   "metadata": {},
   "outputs": [],
   "source": [
    "random_seed = 333  # Semilla para reproducibilidad de resultados\n",
    "np.random.seed(random_seed)  # Para reproducibilidad\n",
    "\n",
    "# Configuración de opciones de visualización para pandas\n",
    "pd.set_option('display.max_columns', None)  # Muestra todas las columnas\n",
    "pd.set_option('display.max_rows', 15)  # Ajusta el número de filas a mostrar\n",
    "\n",
    "# Configuraciones extras\n",
    "sns.set_style('dark')\n",
    "dark_template = pio.templates['plotly_dark'].to_plotly_json()\n",
    "dark_template['layout']['paper_bgcolor'] = 'rgba(30, 30, 30, 0.5)'\n",
    "dark_template['layout']['plot_bgcolor'] = 'rgba(30, 30, 30, 0.5)'\n",
    "pio.templates['plotly_dark_semi_transparent'] = go.layout.Template(dark_template)\n",
    "pio.templates.default = 'plotly_dark_semi_transparent'\n",
    "set_config(transform_output=\"pandas\")\n",
    "set_config(display='diagram')\n",
    "warnings.filterwarnings(\"ignore\")\n",
    "%matplotlib inline\n",
    "\n",
    "# Configuración para intentar aplicar un estilo oscuro\n",
    "plt.rcParams['figure.facecolor'] = 'black'  # Color de fondo de la figura\n",
    "plt.rcParams['axes.facecolor'] = 'black'  # Color de fondo de los ejes\n",
    "plt.rcParams['axes.edgecolor'] = 'white'  # Color de los bordes de los ejes\n",
    "plt.rcParams['axes.labelcolor'] = 'white'  # Color de las etiquetas de los ejes\n",
    "plt.rcParams['xtick.color'] = 'white'  # Color de las marcas de x\n",
    "plt.rcParams['ytick.color'] = 'white'  # Color de las marcas de y\n",
    "plt.rcParams['text.color'] = 'white'  # Color del texto\n",
    "\n",
    "# Funciones Extras\n",
    "def calculate_elbow_point(distortions):\n",
    "   n_points = len(distortions)\n",
    "   all_coords = np.vstack((range(n_points), distortions)).T\n",
    "   first_point = all_coords[0]\n",
    "   line_vec = all_coords[-1] - all_coords[0]\n",
    "   line_vec_norm = line_vec / np.sqrt(np.sum(line_vec**2))\n",
    "   vec_from_first = all_coords - first_point\n",
    "   scalar_product = np.sum(vec_from_first * np.tile(line_vec_norm, (n_points, 1)), axis=1)\n",
    "   vec_from_first_parallel = np.outer(scalar_product, line_vec_norm)\n",
    "   vec_to_line = vec_from_first - vec_from_first_parallel\n",
    "   dist_to_line = np.sqrt(np.sum(vec_to_line ** 2, axis=1))\n",
    "   return dist_to_line.argmax() + 2"
   ]
  },
  {
   "cell_type": "markdown",
   "metadata": {},
   "source": [
    "## KMeans"
   ]
  },
  {
   "cell_type": "markdown",
   "metadata": {},
   "source": [
    "### Fundamento Teórico"
   ]
  },
  {
   "cell_type": "markdown",
   "metadata": {},
   "source": [
    "El K-Means $K$-Medias (*K*-Means en inglés) es un algoritmo de agrupamiento que divide un conjunto de datos en K grupos o clusters distintos, basándose en las características de los datos. El *objetivo* del algoritmo K-Means es minimizar la suma de distancias cuadráticas entre los puntos y el centroide de su respectivo grupo o cluster."
   ]
  },
  {
   "cell_type": "markdown",
   "metadata": {},
   "source": [
    "#### Planteamiento:"
   ]
  },
  {
   "cell_type": "markdown",
   "metadata": {},
   "source": [
    "Dado conjunto de observaciones $\\{x_1, x_2, \\ldots, x_n\\}$, donde cada observación es un vector real de $d$ dimensiones, $K$-Means busca particionar las $n$ observaciones en $k (\\leq n)$ conjuntos $C = \\{C_1, C_2, \\ldots, C_k\\}$ que cumplen:\n",
    "\n",
    "   1. $C_1 \\cup C_2 \\cup \\ldots \\cup C_K = \\{x_1, x_2, \\ldots, x_n\\}$. En otras palabras, cada observación pertenece al menos a uno de los $K$ clusters.\n",
    "   2. $C_k \\cap C_{k'} = \\emptyset$ para todo $k \\neq k'$. Es decir, los clusters no se solapan: ninguna observación pertenece a más de un cluster.\n",
    "\n",
    "\n",
    "De manera que se minimice la varianza dentro de cada grupo. Esto se puede expresar como minimizar la siguiente función objetivo (denominada como distorsión):\n",
    "\n",
    "$$\n",
    "\\min_{C_1,\\ldots,C_K} \\left\\{\\frac{1}{|C|} \\sum_{i, i' \\in C_k} \\sum_{x \\in C_k} \\| x_i - \\mu_k \\|^2 \\right\\}.\n",
    "$$\n",
    "\n",
    "donde $K$ es el número de clusters, $C_k$ es el conjunto de puntos en el $k$-ésimo cluster, $\\mu_k$ es el centroide del $k$-ésimo cluster, y $\\| x_i - \\mu_k \\|^2$ es el cuadrado de la distancia euclidiana entre el punto $x_i$ y el centroide $\\mu_k$.\n",
    "\n",
    "Para lograr minimizar esta función, el siguiente proceso se lleva a cabo:"
   ]
  },
  {
   "cell_type": "markdown",
   "metadata": {},
   "source": [
    "##### 1. **Inicio**: "
   ]
  },
  {
   "cell_type": "markdown",
   "metadata": {},
   "source": [
    "Se eligen $k$ puntos como centroides iniciales de los clusters. Esto puede hacerse al azar o mediante algún criterio específico.\n",
    "\n",
    "Pensemos en los siguientes puntos:\n",
    "\n",
    "$$\n",
    "\\begin{bmatrix}\n",
    "1 & 1 \\\\\n",
    "1.5 & 2 \\\\\n",
    "3 & 4 \\\\\n",
    "5 & 7 \\\\\n",
    "3.5 & 5 \\\\\n",
    "4.5 & 5 \\\\\n",
    "3.5 & 4.5 \\\\\n",
    "6 & 8 \\\\\n",
    "\\end{bmatrix}\n",
    "$$\n",
    "\n",
    "Buscamos agruparlos en $k=2$ clusters.\n",
    "\n",
    "Supongamos que inicialmente seleccionamos dos puntos como centroides iniciales de forma aleatoria. Para este ejemplo, vamos a elegir $P_1$ y $P_4$ como los centroides iniciales. Entonces:\n",
    "\n",
    "- Centroide inicial $C_1 = P_1 = (1, 1)$\n",
    "- Centroide inicial $C_2 = P_4 = (5, 7)$"
   ]
  },
  {
   "cell_type": "code",
   "execution_count": null,
   "metadata": {},
   "outputs": [],
   "source": [
    "data_points = np.array([\n",
    "                        [1, 1],\n",
    "                        [1.5, 2],\n",
    "                        [3, 4],\n",
    "                        [5, 7],\n",
    "                        [3.5, 5],\n",
    "                        [4.5, 5],\n",
    "                        [3.5, 4.5],\n",
    "                        [6, 8]       ])"
   ]
  },
  {
   "cell_type": "code",
   "execution_count": null,
   "metadata": {},
   "outputs": [],
   "source": [
    "#Inicio:\n",
    "\n",
    "fig = go.Figure()\n",
    "fig.add_trace(go.Scatter(x=data_points[:, 0], y=data_points[:, 1], mode='markers', name='Datos'))\n",
    "\n",
    "centroids = np.array([[1, 1], [5, 7]])\n",
    "fig.add_trace(go.Scatter(x=centroids[:, 0], y=centroids[:, 1], mode='markers', \n",
    "                        marker=dict(color='red', size=12, line=dict(color='DarkRed', width=2)), \n",
    "                        name='Centroides Iniciales'))\n",
    "\n",
    "fig.update_layout(title='Inicio del Proceso:', xaxis_title='X', yaxis_title='Y', legend_title='Leyenda',\n",
    "                  height=500, width=1200)\n",
    "\n",
    "fig.show()\n"
   ]
  },
  {
   "cell_type": "markdown",
   "metadata": {},
   "source": [
    "##### 2. **Asignación**:"
   ]
  },
  {
   "cell_type": "markdown",
   "metadata": {},
   "source": [
    "Cada punto del conjunto de datos se asigna al cluster cuyo centroide es el más cercano. Formalmente, esto significa que cada punto $x$ se asigna a un cluster $C_i$ tal que:\n",
    "\n",
    "   $$\n",
    "   \\min_{\\mu_i \\in C} \\| x - \\mu_i \\|^2\n",
    "   $$\n",
    "   \n",
    "   donde $C$ es el conjunto de centroides.\n",
    "\n",
    "\n",
    "Calculamos la distancia de cada punto a los dos centroides y asignamos cada punto al cluster del centroide más cercano. Usaremos la distancia euclidiana para medir la cercanía:"
   ]
  },
  {
   "cell_type": "code",
   "execution_count": null,
   "metadata": {},
   "outputs": [],
   "source": [
    "#Realizamos la siguiente función\n",
    "def assign_to_clusters(points, centroid_1, centroid_2):\n",
    "   cluster_assignments = []\n",
    "   for point in points:\n",
    "      distance_to_centroid_1 = np.linalg.norm(point - centroid_1)\n",
    "      distance_to_centroid_2 = np.linalg.norm(point - centroid_2)\n",
    "      # Asignar al cluster 1 si el punto está más cerca de centroid_1, de lo contrario asignar a cluster 2\n",
    "      cluster_assignments.append(1 if distance_to_centroid_1 < distance_to_centroid_2 else 2)\n",
    "   return cluster_assignments\n",
    "\n",
    "#Procedemos a calcular:\n",
    "assign_to_clusters(points=data_points,\n",
    "                  centroid_1= centroids[0],\n",
    "                  centroid_2= centroids[1])"
   ]
  },
  {
   "cell_type": "markdown",
   "metadata": {},
   "source": [
    "Después de realizar la asignación de cada punto a los clusters basados en los centroides iniciales $C_1 = (1, 1)$ y $C_2 = (5, 7)$, tenemos:\n",
    "\n",
    "- $P_1$ y $P_2$ se asignan al Cluster 1.\n",
    "- $P_3$, $P_4$, $P_5$, $P_6$, $P_7$, y $P_8$ se asignan al Cluster 2."
   ]
  },
  {
   "cell_type": "code",
   "execution_count": null,
   "metadata": {},
   "outputs": [],
   "source": [
    "# Asignación\n",
    "cluster_assignments = np.array([1, 1, 2, 2, 2, 2, 2, 2])\n",
    "\n",
    "fig = go.Figure()\n",
    "\n",
    "# Cluster 1\n",
    "cluster_1_points = data_points[cluster_assignments == 1]\n",
    "fig.add_trace(go.Scatter(x=cluster_1_points[:, 0], y=cluster_1_points[:, 1], mode='markers', marker=dict(color='blue'), name='Cluster 1'))\n",
    "\n",
    "# Cluster 2\n",
    "cluster_2_points = data_points[cluster_assignments == 2]\n",
    "fig.add_trace(go.Scatter(x=cluster_2_points[:, 0], y=cluster_2_points[:, 1], mode='markers', marker=dict(color='green'), name='Cluster 2'))\n",
    "\n",
    "\n",
    "fig.add_trace(go.Scatter(x=centroids[:, 0], y=centroids[:, 1], mode='markers', marker=dict(color='red', size=12, line=dict(color='DarkRed', width=2)), \n",
    "                        name='Centroides'))\n",
    "fig.update_layout(title='Asignación de Puntos a Clusters', xaxis_title='X', yaxis_title='Y', \n",
    "                  height=500, width=1200)\n",
    "\n",
    "fig.show()\n"
   ]
  },
  {
   "cell_type": "markdown",
   "metadata": {},
   "source": [
    "##### 3. **Actualización de centroides**:"
   ]
  },
  {
   "cell_type": "markdown",
   "metadata": {},
   "source": [
    "Se recalculan los centroides de cada cluster como el promedio de todos los puntos asignados a ese cluster:\n",
    "\n",
    "   $$\n",
    "   \\mu_i = \\frac{1}{|C_i|} \\sum_{x \\in C_i} x\n",
    "   $$"
   ]
  },
  {
   "cell_type": "code",
   "execution_count": null,
   "metadata": {},
   "outputs": [],
   "source": [
    "# Separar los puntos basado en las asignaciones de cluster actuales\n",
    "cluster_1_points = data_points[np.array(cluster_assignments) == 1]\n",
    "cluster_2_points = data_points[np.array(cluster_assignments) == 2]\n",
    "\n",
    "# Calcular los nuevos centroides basado en las asignaciones actuales\n",
    "new_centroid_1 = np.mean(cluster_1_points, axis=0)\n",
    "new_centroid_2 = np.mean(cluster_2_points, axis=0)\n",
    "\n",
    "new_centroid_1, new_centroid_2\n"
   ]
  },
  {
   "cell_type": "markdown",
   "metadata": {},
   "source": [
    "Siguiendo con la actualización de los centroides, obtenemos los siguientes nuevos centroides para cada cluster: <span style=\"font-size: xx-small; color: red;\">N1</span>\n",
    "\n",
    "- Nuevo centroide para el Cluster 1: $C_1 = (1.25, 1.5)$\n",
    "- Nuevo centroide para el Cluster 2: $C_2 = (4.25, 5.58)$"
   ]
  },
  {
   "cell_type": "code",
   "execution_count": null,
   "metadata": {},
   "outputs": [],
   "source": [
    "#Actualización:\n",
    "\n",
    "fig = go.Figure()\n",
    "fig.add_trace(go.Scatter(x=data_points[:, 0], y=data_points[:, 1], mode='markers', name='Datos'))\n",
    "\n",
    "old_centroids = np.array([[1, 1], [5, 7]])\n",
    "new_centroids = np.array([[1.25, 1.5], [4.25, 5.58]])\n",
    "fig.add_trace(go.Scatter(x=old_centroids[:, 0], y=old_centroids[:, 1], mode='markers', marker=dict(color='red', size=12, \n",
    "                        line=dict(color='DarkRed', width=2)), name='Centroides Iniciales'))\n",
    "fig.add_trace(go.Scatter(x=new_centroids[:, 0], y=new_centroids[:, 1], mode='markers', marker=dict(color='green', size=12,\n",
    "                        line=dict(color='DarkGreen', width=2)), name='Centroides Actualizados'))\n",
    "\n",
    "fig.update_layout(title='Actualización:', xaxis_title='X', yaxis_title='Y', legend_title='Leyenda',\n",
    "                  height=500, width=1200)\n",
    "\n",
    "fig.show()"
   ]
  },
  {
   "cell_type": "markdown",
   "metadata": {},
   "source": [
    "##### 4. **Repetición y Convergencia**:"
   ]
  },
  {
   "cell_type": "markdown",
   "metadata": {},
   "source": [
    "Los pasos 2 y 3 se repiten hasta que los centroides ya no cambien significativamente o hasta alcanzar un número máximo de iteraciones. Esto indica que se ha alcanzado la convergencia."
   ]
  },
  {
   "cell_type": "code",
   "execution_count": null,
   "metadata": {},
   "outputs": [],
   "source": [
    "# Convergencia:\n",
    "kmeans = KMeans(n_clusters=2, init=np.array([[1, 1], [5, 7]]))\n",
    "kmeans.fit(data_points)\n",
    "\n",
    "final_centroids = kmeans.cluster_centers_\n",
    "final_assignments = kmeans.labels_\n",
    "\n",
    "fig = go.Figure()\n",
    "for cluster_id in np.unique(final_assignments):\n",
    "   points = data_points[final_assignments == cluster_id]\n",
    "   fig.add_trace(go.Scatter(x=points[:, 0], y=points[:, 1], mode='markers',\n",
    "                           name=f'Cluster {cluster_id+1}'))\n",
    "\n",
    "fig.add_trace(go.Scatter(x=final_centroids[:, 0], y=final_centroids[:, 1], mode='markers',\n",
    "                        marker=dict(color='red', size=12, line=dict(color='DarkRed', width=2)), name='Centroides Finales'))\n",
    "\n",
    "fig.update_layout(title='Asignación Final:', xaxis_title='X', yaxis_title='Y', legend_title='Leyenda',\n",
    "                  height=500, width=1200)\n",
    "\n",
    "fig.show()\n"
   ]
  },
  {
   "cell_type": "code",
   "execution_count": null,
   "metadata": {},
   "outputs": [],
   "source": [
    "kmeans.n_iter_"
   ]
  },
  {
   "cell_type": "code",
   "execution_count": null,
   "metadata": {},
   "outputs": [],
   "source": [
    "# Distorsión:\n",
    "print(\"Distorsión:\",kmeans.inertia_)\n",
    "print(\"Prom. Distancias:\",np.sqrt(kmeans.inertia_))"
   ]
  },
  {
   "cell_type": "markdown",
   "metadata": {},
   "source": [
    "#### Aplicaciónes y Consideraciones"
   ]
  },
  {
   "cell_type": "markdown",
   "metadata": {},
   "source": [
    "<p style=\"font-size:25px;\">Aplicaciones</p>\n",
    "\n",
    "1. Biología Computacional y Genómica\n",
    "2. Análisis de Redes Sociales\n",
    "3. Segmentación de Clientes\n",
    "4. Análisis de Documentos y Textos\n",
    "5. Recomendadores\n",
    "\n",
    "\n",
    "<p style=\"font-size:25px;\">Ventajas</p>\n",
    "\n",
    "1. Eficiencia\n",
    "2. Facilidad de Implementación\n",
    "3. Adaptable a Nuevos Ejemplos\n",
    "4. Flexible a Transformaciones\n",
    "\n",
    "\n",
    "<p style=\"font-size:25px;\">Consideraciones</p>\n",
    "\n",
    "1. Elección de K\n",
    "2. Sensibilidad a los centroides iniciales `(k-means++, random)`\n",
    "3. Sensibilidad a la forma de los clusters\n",
    "4. Escala de los datos\n",
    "5. Atrapado en mínimos locales\n",
    "6. Sensibilidad a los datos atípicos\n",
    "7. Velocidad y escalabilidad\n",
    "8. Interpretación\n",
    "9. Resultados diferentes cada ejecución\n",
    "10. Evaluación del modelo"
   ]
  },
  {
   "cell_type": "markdown",
   "metadata": {},
   "source": [
    "### Ejemplo Práctico"
   ]
  },
  {
   "cell_type": "markdown",
   "metadata": {},
   "source": [
    "#### Preparación de los Datos"
   ]
  },
  {
   "cell_type": "markdown",
   "metadata": {},
   "source": [
    "**Objetivo**\n",
    "\n",
    "El objetivo es clasificar las especies de flores de iris en grupos naturales basándonos en características morfológicas de las flores como longitud y anchura de pétalos y sépalos, para entender mejor las relaciones entre diferentes especies y facilitar su identificación y estudio en un contexto no supervisado.\n",
    "\n",
    "**Planteamiento del problema**\n",
    "\n",
    "Se ha acumulado un conjunto de datos con 50 muestras de flores de iris recogidas de diferentes hábitats y condiciones geográficas. El equipo de investigación necesita una forma de categorizar las muestras eficientemente para apoyar estudios evolutivos y ecológicos subsecuentes. Sin etiquetas preexistentes para las especies, necesitan un método de agrupamiento que organice las flores en grupos significativos basados en sus características físicas.\n",
    "\n",
    "Las características extraídas de cada elemento son:\n",
    "\n",
    "1. **Longitud del Sépalo (Sepal Length)**: La longitud del sépalo en centímetros. El sépalo es la parte que protege el capullo de la flor y a menudo soporta el pétalo cuando está en flor.\n",
    "\n",
    "2. **Ancho del Sépalo (Sepal Width)**: El ancho del sépalo en centímetros. Esta medida se toma en su parte más ancha.\n",
    "\n",
    "3. **Longitud del Pétalo (Petal Length)**: La longitud del pétalo en centímetros. Los pétalos son las partes coloreadas y a menudo vistosas de la flor que siguen al sépalo.\n",
    "\n",
    "4. **Ancho del Pétalo (Petal Width)**: El ancho del pétalo en centímetros. Esta medida se toma en su parte más ancha."
   ]
  },
  {
   "cell_type": "markdown",
   "metadata": {},
   "source": [
    "<div style=\"text-align:center\">\n",
    "  <img src=\"../docs/figures/irisrm.png\" alt=\"iris\">\n",
    "</div>\n",
    "\n",
    "**Iris Setosa, Virginica y Versicolor**"
   ]
  },
  {
   "cell_type": "code",
   "execution_count": null,
   "metadata": {},
   "outputs": [],
   "source": [
    "# Carga y diccionario del conjunto de datos\n",
    "iris = load_iris()\n",
    "X = pd.DataFrame(iris.data,columns=iris.feature_names)\n",
    "y = iris.target #No conocido"
   ]
  },
  {
   "cell_type": "code",
   "execution_count": null,
   "metadata": {},
   "outputs": [],
   "source": [
    "X.sample(5)"
   ]
  },
  {
   "cell_type": "code",
   "execution_count": null,
   "metadata": {},
   "outputs": [],
   "source": [
    "X.describe()"
   ]
  },
  {
   "cell_type": "markdown",
   "metadata": {},
   "source": [
    "Como no hay diferencia de escala no hay necesidad de estandarizar o escalar."
   ]
  },
  {
   "cell_type": "markdown",
   "metadata": {},
   "source": [
    "#### Implementación del Método"
   ]
  },
  {
   "cell_type": "markdown",
   "metadata": {},
   "source": [
    "Principales parámetros de $K$-Means:\n",
    "```python\n",
    "KMeans(\n",
    "    n_clusters=8,\n",
    "    init='k-means++',\n",
    "    max_iter=300,\n",
    "    tol=0.0001,\n",
    "    random_state=None\n",
    ")"
   ]
  },
  {
   "cell_type": "markdown",
   "metadata": {},
   "source": [
    "#### Visualización e Implementación de Resultados"
   ]
  },
  {
   "cell_type": "code",
   "execution_count": null,
   "metadata": {},
   "outputs": [],
   "source": [
    "distortions = []; silhouette_scores = []\n",
    "davies_bouldin_scores = []; calinski_harabasz_scores = []\n",
    "range_n_clusters = range(2, 5)  # Ajustamos para explorar desde 1 hasta 4 clusters\n",
    "\n",
    "for n_clusters in range_n_clusters:\n",
    "   km = KMeans(n_clusters=n_clusters, init='k-means++', n_init=10, max_iter=300, random_state=random_seed)\n",
    "   cluster_labels = km.fit_predict(X); distortions.append(km.inertia_)\n",
    "   silhouette_ = silhouette_score(X, cluster_labels); silhouette_scores.append(silhouette_)\n",
    "   davies_bouldin_ = davies_bouldin_score(X, cluster_labels); davies_bouldin_scores.append(davies_bouldin_)\n",
    "   calinski_harabasz_ = calinski_harabasz_score(X, cluster_labels); calinski_harabasz_scores.append(calinski_harabasz_)"
   ]
  },
  {
   "cell_type": "code",
   "execution_count": null,
   "metadata": {},
   "outputs": [],
   "source": [
    "optimal_k = calculate_elbow_point(distortions)\n",
    "plot_elbow_method(range_n_clusters, distortions, optimal_k)"
   ]
  },
  {
   "cell_type": "code",
   "execution_count": null,
   "metadata": {},
   "outputs": [],
   "source": [
    "score_plot(scores=silhouette_scores, range_n_clusters=range_n_clusters, \n",
    "         operator='max', name_index = 'Índice de Silueta')"
   ]
  },
  {
   "cell_type": "code",
   "execution_count": null,
   "metadata": {},
   "outputs": [],
   "source": [
    "score_plot(scores=calinski_harabasz_scores, range_n_clusters=range_n_clusters, \n",
    "         operator='max', name_index = 'Índice de C-H')"
   ]
  },
  {
   "cell_type": "code",
   "execution_count": null,
   "metadata": {},
   "outputs": [],
   "source": [
    "for i in range(2, 4):\n",
    "    km = KMeans(n_clusters=i, init='k-means++', random_state=random_seed)\n",
    "    visualizer = SilhouetteVisualizer(km, colors='yellowbrick')\n",
    "    visualizer.fit(X)\n",
    "    visualizer.show()"
   ]
  },
  {
   "cell_type": "code",
   "execution_count": null,
   "metadata": {},
   "outputs": [],
   "source": [
    "# Generamos KMeans con 2 Clusters\n",
    "km = KMeans(n_clusters=3, init='k-means++', max_iter=300, random_state=random_seed)\n",
    "km.fit(X)"
   ]
  },
  {
   "cell_type": "code",
   "execution_count": null,
   "metadata": {},
   "outputs": [],
   "source": [
    "X['Grupos Reales'] = y\n",
    "X['Grupos K-Means'] = km.labels_"
   ]
  },
  {
   "cell_type": "code",
   "execution_count": null,
   "metadata": {},
   "outputs": [],
   "source": [
    "iris.target_names"
   ]
  },
  {
   "cell_type": "code",
   "execution_count": null,
   "metadata": {},
   "outputs": [],
   "source": [
    "X['Grupos Reales'].values"
   ]
  },
  {
   "cell_type": "code",
   "execution_count": null,
   "metadata": {},
   "outputs": [],
   "source": [
    "X['Grupos K-Means'].values"
   ]
  },
  {
   "cell_type": "code",
   "execution_count": null,
   "metadata": {},
   "outputs": [],
   "source": [
    "X['Grupos Reales'] = X['Grupos Reales'].replace({0: 'G1', 1: 'G2', 2: 'G3'})\n",
    "X['Grupos K-Means'] = X['Grupos K-Means'].replace({1: 'G1', 0: 'G2', 2: 'G3'})"
   ]
  },
  {
   "cell_type": "code",
   "execution_count": null,
   "metadata": {},
   "outputs": [],
   "source": [
    "X.drop(['Grupos Reales'], axis=1).groupby('Grupos K-Means').mean().round(2)"
   ]
  },
  {
   "cell_type": "code",
   "execution_count": null,
   "metadata": {},
   "outputs": [],
   "source": [
    "X.drop(['Grupos K-Means'], axis=1).groupby('Grupos Reales').mean().round(2)"
   ]
  },
  {
   "cell_type": "code",
   "execution_count": null,
   "metadata": {},
   "outputs": [],
   "source": [
    "confusion_matrix = pd.crosstab(X['Grupos Reales'], X['Grupos K-Means'])\n",
    "\n",
    "# Matriz de Confusión\n",
    "fig = ff.create_annotated_heatmap(z=confusion_matrix.values,\n",
    "                                 x=list(confusion_matrix.columns),\n",
    "                                 y=list(confusion_matrix.index),\n",
    "                                 colorscale='Greys')\n",
    "\n",
    "fig.update_layout(title='Matriz de Confusión',\n",
    "                  xaxis=dict(title='Grupos K-Means'),\n",
    "                  yaxis=dict(title='Grupos Reales'))\n",
    "\n",
    "# Mostrar la figura\n",
    "fig.show()"
   ]
  },
  {
   "cell_type": "markdown",
   "metadata": {},
   "source": [
    "Reducción a Dos dimensiones con PCA:"
   ]
  },
  {
   "cell_type": "code",
   "execution_count": null,
   "metadata": {},
   "outputs": [],
   "source": [
    "# Reducción de dimensiones con PCA a 2 componentes\n",
    "pca = PCA(n_components=2)\n",
    "X_pca = pca.fit_transform(X.iloc[:,:4])"
   ]
  },
  {
   "cell_type": "code",
   "execution_count": null,
   "metadata": {},
   "outputs": [],
   "source": [
    "# Visualización\n",
    "df_original = pd.DataFrame({\n",
    "   'PCA1': X_pca.values[:, 0],\n",
    "   'PCA2': X_pca.values[:, 1],\n",
    "   'Species': X['Grupos Reales']\n",
    "})\n",
    "\n",
    "df_kmeans = pd.DataFrame({\n",
    "   'PCA1': X_pca.values[:, 0],\n",
    "   'PCA2': X_pca.values[:, 1],\n",
    "   'Cluster': X['Grupos K-Means']\n",
    "})\n",
    "\n",
    "\n",
    "df_original['Type'] = 'Original'\n",
    "df_kmeans['Type'] = 'K-Means'\n",
    "df_combined = pd.concat([df_original, df_kmeans])\n",
    "df_combined['Label'] = df_combined.apply(lambda row: row['Species'] if row['Type'] == 'Original' else row['Cluster'], axis=1)\n",
    "\n",
    "fig = px.scatter(df_combined, x='PCA1', y='PCA2', color='Label', \n",
    "                        facet_col='Type', title='Iris Data: Original vs. K-Means Clustering with PCA')\n",
    "\n",
    "fig.update_layout(height=500, width=1200)\n",
    "\n",
    "fig.show()\n"
   ]
  },
  {
   "cell_type": "code",
   "execution_count": null,
   "metadata": {},
   "outputs": [],
   "source": [
    "iris.target_names"
   ]
  },
  {
   "cell_type": "markdown",
   "metadata": {},
   "source": [
    "**Conclusión**\n",
    "\n",
    "Aunque hay limitaciones en la separación perfecta de todos los grupos, esta metodología ofrece insights valiosos para la identificación y el análisis de grupos en datos sin etiquetar. El análisis destaca la importancia de combinar técnicas de clustering con análisis visual y conocimiento del dominio para interpretar y etiquetar correctamente los grupos en aplicaciones no supervisadas."
   ]
  }
 ],
 "metadata": {
  "kernelspec": {
   "display_name": "base",
   "language": "python",
   "name": "python3"
  },
  "language_info": {
   "codemirror_mode": {
    "name": "ipython",
    "version": 3
   },
   "file_extension": ".py",
   "mimetype": "text/x-python",
   "name": "python",
   "nbconvert_exporter": "python",
   "pygments_lexer": "ipython3",
   "version": "3.11.4"
  }
 },
 "nbformat": 4,
 "nbformat_minor": 2
}
